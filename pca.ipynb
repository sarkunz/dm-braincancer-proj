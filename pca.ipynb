{
 "cells": [
  {
   "cell_type": "code",
   "execution_count": 160,
   "metadata": {},
   "outputs": [],
   "source": [
    "# from pydrive.auth import GoogleAuth\n",
    "# from pydrive.drive import GoogleDrive\n",
    "# from google.colab import auth\n",
    "# from oauth2client.client import GoogleCredentials\n",
    "# import pandas as pd\n",
    "\n",
    "# auth.authenticate_user()\n",
    "# gauth = GoogleAuth()\n",
    "# gauth.credentials = GoogleCredentials.get_application_default()\n",
    "# drive = GoogleDrive(gauth)"
   ]
  },
  {
   "cell_type": "code",
   "execution_count": 161,
   "metadata": {},
   "outputs": [],
   "source": [
    "# url='https://drive.google.com/file/d/18UEhflIsMMfmbifTUNgH86xbJ9zUI6BE/view?usp=share_link'\n",
    "# fileDownloaded = drive.CreateFile({'id':'18UEhflIsMMfmbifTUNgH86xbJ9zUI6BE'})\n",
    "# fileDownloaded.GetContentFile('cancer_gene_expression.csv')"
   ]
  },
  {
   "cell_type": "code",
   "execution_count": 162,
   "metadata": {},
   "outputs": [
    {
     "data": {
      "text/html": [
       "<div>\n",
       "<style scoped>\n",
       "    .dataframe tbody tr th:only-of-type {\n",
       "        vertical-align: middle;\n",
       "    }\n",
       "\n",
       "    .dataframe tbody tr th {\n",
       "        vertical-align: top;\n",
       "    }\n",
       "\n",
       "    .dataframe thead th {\n",
       "        text-align: right;\n",
       "    }\n",
       "</style>\n",
       "<table border=\"1\" class=\"dataframe\">\n",
       "  <thead>\n",
       "    <tr style=\"text-align: right;\">\n",
       "      <th></th>\n",
       "      <th>samples</th>\n",
       "      <th>type</th>\n",
       "      <th>1007_s_at</th>\n",
       "      <th>1053_at</th>\n",
       "      <th>117_at</th>\n",
       "      <th>121_at</th>\n",
       "      <th>1255_g_at</th>\n",
       "      <th>1294_at</th>\n",
       "      <th>1316_at</th>\n",
       "      <th>1320_at</th>\n",
       "      <th>...</th>\n",
       "      <th>AFFX-r2-Ec-bioD-3_at</th>\n",
       "      <th>AFFX-r2-Ec-bioD-5_at</th>\n",
       "      <th>AFFX-r2-P1-cre-3_at</th>\n",
       "      <th>AFFX-r2-P1-cre-5_at</th>\n",
       "      <th>AFFX-ThrX-3_at</th>\n",
       "      <th>AFFX-ThrX-5_at</th>\n",
       "      <th>AFFX-ThrX-M_at</th>\n",
       "      <th>AFFX-TrpnX-3_at</th>\n",
       "      <th>AFFX-TrpnX-5_at</th>\n",
       "      <th>AFFX-TrpnX-M_at</th>\n",
       "    </tr>\n",
       "  </thead>\n",
       "  <tbody>\n",
       "    <tr>\n",
       "      <th>0</th>\n",
       "      <td>834</td>\n",
       "      <td>ependymoma</td>\n",
       "      <td>12.498150</td>\n",
       "      <td>7.604868</td>\n",
       "      <td>6.880934</td>\n",
       "      <td>9.027128</td>\n",
       "      <td>4.176175</td>\n",
       "      <td>7.224920</td>\n",
       "      <td>6.085942</td>\n",
       "      <td>6.835999</td>\n",
       "      <td>...</td>\n",
       "      <td>9.979005</td>\n",
       "      <td>9.926470</td>\n",
       "      <td>12.719785</td>\n",
       "      <td>12.777792</td>\n",
       "      <td>5.403657</td>\n",
       "      <td>4.870548</td>\n",
       "      <td>4.047380</td>\n",
       "      <td>3.721936</td>\n",
       "      <td>4.516434</td>\n",
       "      <td>4.749940</td>\n",
       "    </tr>\n",
       "    <tr>\n",
       "      <th>1</th>\n",
       "      <td>835</td>\n",
       "      <td>ependymoma</td>\n",
       "      <td>13.067436</td>\n",
       "      <td>7.998090</td>\n",
       "      <td>7.209076</td>\n",
       "      <td>9.723322</td>\n",
       "      <td>4.826126</td>\n",
       "      <td>7.539381</td>\n",
       "      <td>6.250962</td>\n",
       "      <td>8.012549</td>\n",
       "      <td>...</td>\n",
       "      <td>11.924749</td>\n",
       "      <td>11.215930</td>\n",
       "      <td>13.605662</td>\n",
       "      <td>13.401342</td>\n",
       "      <td>5.224555</td>\n",
       "      <td>4.895315</td>\n",
       "      <td>3.786437</td>\n",
       "      <td>3.564481</td>\n",
       "      <td>4.430891</td>\n",
       "      <td>4.491416</td>\n",
       "    </tr>\n",
       "    <tr>\n",
       "      <th>2</th>\n",
       "      <td>836</td>\n",
       "      <td>ependymoma</td>\n",
       "      <td>13.068179</td>\n",
       "      <td>8.573674</td>\n",
       "      <td>8.647684</td>\n",
       "      <td>9.613002</td>\n",
       "      <td>4.396581</td>\n",
       "      <td>7.813101</td>\n",
       "      <td>6.007746</td>\n",
       "      <td>7.178156</td>\n",
       "      <td>...</td>\n",
       "      <td>12.154405</td>\n",
       "      <td>11.532460</td>\n",
       "      <td>13.764593</td>\n",
       "      <td>13.477800</td>\n",
       "      <td>5.303565</td>\n",
       "      <td>5.052184</td>\n",
       "      <td>4.005343</td>\n",
       "      <td>3.595382</td>\n",
       "      <td>4.563494</td>\n",
       "      <td>4.668827</td>\n",
       "    </tr>\n",
       "    <tr>\n",
       "      <th>3</th>\n",
       "      <td>837</td>\n",
       "      <td>ependymoma</td>\n",
       "      <td>12.456040</td>\n",
       "      <td>9.098977</td>\n",
       "      <td>6.628784</td>\n",
       "      <td>8.517677</td>\n",
       "      <td>4.154847</td>\n",
       "      <td>8.361843</td>\n",
       "      <td>6.596064</td>\n",
       "      <td>6.347285</td>\n",
       "      <td>...</td>\n",
       "      <td>11.969072</td>\n",
       "      <td>11.288801</td>\n",
       "      <td>13.600828</td>\n",
       "      <td>13.379029</td>\n",
       "      <td>4.953429</td>\n",
       "      <td>4.708371</td>\n",
       "      <td>3.892318</td>\n",
       "      <td>3.759429</td>\n",
       "      <td>4.748381</td>\n",
       "      <td>4.521275</td>\n",
       "    </tr>\n",
       "    <tr>\n",
       "      <th>4</th>\n",
       "      <td>838</td>\n",
       "      <td>ependymoma</td>\n",
       "      <td>12.699958</td>\n",
       "      <td>8.800721</td>\n",
       "      <td>11.556188</td>\n",
       "      <td>9.166309</td>\n",
       "      <td>4.165891</td>\n",
       "      <td>7.923826</td>\n",
       "      <td>6.212754</td>\n",
       "      <td>6.866387</td>\n",
       "      <td>...</td>\n",
       "      <td>11.411701</td>\n",
       "      <td>11.169317</td>\n",
       "      <td>13.751442</td>\n",
       "      <td>13.803646</td>\n",
       "      <td>4.892677</td>\n",
       "      <td>4.773806</td>\n",
       "      <td>3.796856</td>\n",
       "      <td>3.577544</td>\n",
       "      <td>4.504385</td>\n",
       "      <td>4.541450</td>\n",
       "    </tr>\n",
       "  </tbody>\n",
       "</table>\n",
       "<p>5 rows × 54677 columns</p>\n",
       "</div>"
      ],
      "text/plain": [
       "   samples        type  1007_s_at   1053_at     117_at    121_at  1255_g_at  \\\n",
       "0      834  ependymoma  12.498150  7.604868   6.880934  9.027128   4.176175   \n",
       "1      835  ependymoma  13.067436  7.998090   7.209076  9.723322   4.826126   \n",
       "2      836  ependymoma  13.068179  8.573674   8.647684  9.613002   4.396581   \n",
       "3      837  ependymoma  12.456040  9.098977   6.628784  8.517677   4.154847   \n",
       "4      838  ependymoma  12.699958  8.800721  11.556188  9.166309   4.165891   \n",
       "\n",
       "    1294_at   1316_at   1320_at  ...  AFFX-r2-Ec-bioD-3_at  \\\n",
       "0  7.224920  6.085942  6.835999  ...              9.979005   \n",
       "1  7.539381  6.250962  8.012549  ...             11.924749   \n",
       "2  7.813101  6.007746  7.178156  ...             12.154405   \n",
       "3  8.361843  6.596064  6.347285  ...             11.969072   \n",
       "4  7.923826  6.212754  6.866387  ...             11.411701   \n",
       "\n",
       "   AFFX-r2-Ec-bioD-5_at  AFFX-r2-P1-cre-3_at  AFFX-r2-P1-cre-5_at  \\\n",
       "0              9.926470            12.719785            12.777792   \n",
       "1             11.215930            13.605662            13.401342   \n",
       "2             11.532460            13.764593            13.477800   \n",
       "3             11.288801            13.600828            13.379029   \n",
       "4             11.169317            13.751442            13.803646   \n",
       "\n",
       "   AFFX-ThrX-3_at  AFFX-ThrX-5_at  AFFX-ThrX-M_at  AFFX-TrpnX-3_at  \\\n",
       "0        5.403657        4.870548        4.047380         3.721936   \n",
       "1        5.224555        4.895315        3.786437         3.564481   \n",
       "2        5.303565        5.052184        4.005343         3.595382   \n",
       "3        4.953429        4.708371        3.892318         3.759429   \n",
       "4        4.892677        4.773806        3.796856         3.577544   \n",
       "\n",
       "   AFFX-TrpnX-5_at  AFFX-TrpnX-M_at  \n",
       "0         4.516434         4.749940  \n",
       "1         4.430891         4.491416  \n",
       "2         4.563494         4.668827  \n",
       "3         4.748381         4.521275  \n",
       "4         4.504385         4.541450  \n",
       "\n",
       "[5 rows x 54677 columns]"
      ]
     },
     "execution_count": 162,
     "metadata": {},
     "output_type": "execute_result"
    }
   ],
   "source": [
    "import pandas as pd\n",
    "df = pd.read_csv('cancer_gene_expression.csv', delimiter=',' )\n",
    "df.head()"
   ]
  },
  {
   "cell_type": "code",
   "execution_count": 163,
   "metadata": {},
   "outputs": [
    {
     "data": {
      "text/html": [
       "<div>\n",
       "<style scoped>\n",
       "    .dataframe tbody tr th:only-of-type {\n",
       "        vertical-align: middle;\n",
       "    }\n",
       "\n",
       "    .dataframe tbody tr th {\n",
       "        vertical-align: top;\n",
       "    }\n",
       "\n",
       "    .dataframe thead th {\n",
       "        text-align: right;\n",
       "    }\n",
       "</style>\n",
       "<table border=\"1\" class=\"dataframe\">\n",
       "  <thead>\n",
       "    <tr style=\"text-align: right;\">\n",
       "      <th></th>\n",
       "      <th>1007_s_at</th>\n",
       "      <th>1053_at</th>\n",
       "      <th>117_at</th>\n",
       "      <th>121_at</th>\n",
       "      <th>1255_g_at</th>\n",
       "      <th>1294_at</th>\n",
       "      <th>1316_at</th>\n",
       "      <th>1320_at</th>\n",
       "      <th>1405_i_at</th>\n",
       "      <th>1431_at</th>\n",
       "      <th>...</th>\n",
       "      <th>AFFX-r2-Ec-bioD-3_at</th>\n",
       "      <th>AFFX-r2-Ec-bioD-5_at</th>\n",
       "      <th>AFFX-r2-P1-cre-3_at</th>\n",
       "      <th>AFFX-r2-P1-cre-5_at</th>\n",
       "      <th>AFFX-ThrX-3_at</th>\n",
       "      <th>AFFX-ThrX-5_at</th>\n",
       "      <th>AFFX-ThrX-M_at</th>\n",
       "      <th>AFFX-TrpnX-3_at</th>\n",
       "      <th>AFFX-TrpnX-5_at</th>\n",
       "      <th>AFFX-TrpnX-M_at</th>\n",
       "    </tr>\n",
       "  </thead>\n",
       "  <tbody>\n",
       "    <tr>\n",
       "      <th>0</th>\n",
       "      <td>12.498150</td>\n",
       "      <td>7.604868</td>\n",
       "      <td>6.880934</td>\n",
       "      <td>9.027128</td>\n",
       "      <td>4.176175</td>\n",
       "      <td>7.224920</td>\n",
       "      <td>6.085942</td>\n",
       "      <td>6.835999</td>\n",
       "      <td>5.898355</td>\n",
       "      <td>5.513410</td>\n",
       "      <td>...</td>\n",
       "      <td>9.979005</td>\n",
       "      <td>9.926470</td>\n",
       "      <td>12.719785</td>\n",
       "      <td>12.777792</td>\n",
       "      <td>5.403657</td>\n",
       "      <td>4.870548</td>\n",
       "      <td>4.047380</td>\n",
       "      <td>3.721936</td>\n",
       "      <td>4.516434</td>\n",
       "      <td>4.749940</td>\n",
       "    </tr>\n",
       "    <tr>\n",
       "      <th>1</th>\n",
       "      <td>13.067436</td>\n",
       "      <td>7.998090</td>\n",
       "      <td>7.209076</td>\n",
       "      <td>9.723322</td>\n",
       "      <td>4.826126</td>\n",
       "      <td>7.539381</td>\n",
       "      <td>6.250962</td>\n",
       "      <td>8.012549</td>\n",
       "      <td>5.453147</td>\n",
       "      <td>6.173106</td>\n",
       "      <td>...</td>\n",
       "      <td>11.924749</td>\n",
       "      <td>11.215930</td>\n",
       "      <td>13.605662</td>\n",
       "      <td>13.401342</td>\n",
       "      <td>5.224555</td>\n",
       "      <td>4.895315</td>\n",
       "      <td>3.786437</td>\n",
       "      <td>3.564481</td>\n",
       "      <td>4.430891</td>\n",
       "      <td>4.491416</td>\n",
       "    </tr>\n",
       "    <tr>\n",
       "      <th>2</th>\n",
       "      <td>13.068179</td>\n",
       "      <td>8.573674</td>\n",
       "      <td>8.647684</td>\n",
       "      <td>9.613002</td>\n",
       "      <td>4.396581</td>\n",
       "      <td>7.813101</td>\n",
       "      <td>6.007746</td>\n",
       "      <td>7.178156</td>\n",
       "      <td>8.400266</td>\n",
       "      <td>6.323471</td>\n",
       "      <td>...</td>\n",
       "      <td>12.154405</td>\n",
       "      <td>11.532460</td>\n",
       "      <td>13.764593</td>\n",
       "      <td>13.477800</td>\n",
       "      <td>5.303565</td>\n",
       "      <td>5.052184</td>\n",
       "      <td>4.005343</td>\n",
       "      <td>3.595382</td>\n",
       "      <td>4.563494</td>\n",
       "      <td>4.668827</td>\n",
       "    </tr>\n",
       "    <tr>\n",
       "      <th>3</th>\n",
       "      <td>12.456040</td>\n",
       "      <td>9.098977</td>\n",
       "      <td>6.628784</td>\n",
       "      <td>8.517677</td>\n",
       "      <td>4.154847</td>\n",
       "      <td>8.361843</td>\n",
       "      <td>6.596064</td>\n",
       "      <td>6.347285</td>\n",
       "      <td>4.900380</td>\n",
       "      <td>6.008684</td>\n",
       "      <td>...</td>\n",
       "      <td>11.969072</td>\n",
       "      <td>11.288801</td>\n",
       "      <td>13.600828</td>\n",
       "      <td>13.379029</td>\n",
       "      <td>4.953429</td>\n",
       "      <td>4.708371</td>\n",
       "      <td>3.892318</td>\n",
       "      <td>3.759429</td>\n",
       "      <td>4.748381</td>\n",
       "      <td>4.521275</td>\n",
       "    </tr>\n",
       "    <tr>\n",
       "      <th>4</th>\n",
       "      <td>12.699958</td>\n",
       "      <td>8.800721</td>\n",
       "      <td>11.556188</td>\n",
       "      <td>9.166309</td>\n",
       "      <td>4.165891</td>\n",
       "      <td>7.923826</td>\n",
       "      <td>6.212754</td>\n",
       "      <td>6.866387</td>\n",
       "      <td>5.405628</td>\n",
       "      <td>5.279579</td>\n",
       "      <td>...</td>\n",
       "      <td>11.411701</td>\n",
       "      <td>11.169317</td>\n",
       "      <td>13.751442</td>\n",
       "      <td>13.803646</td>\n",
       "      <td>4.892677</td>\n",
       "      <td>4.773806</td>\n",
       "      <td>3.796856</td>\n",
       "      <td>3.577544</td>\n",
       "      <td>4.504385</td>\n",
       "      <td>4.541450</td>\n",
       "    </tr>\n",
       "  </tbody>\n",
       "</table>\n",
       "<p>5 rows × 54675 columns</p>\n",
       "</div>"
      ],
      "text/plain": [
       "   1007_s_at   1053_at     117_at    121_at  1255_g_at   1294_at   1316_at  \\\n",
       "0  12.498150  7.604868   6.880934  9.027128   4.176175  7.224920  6.085942   \n",
       "1  13.067436  7.998090   7.209076  9.723322   4.826126  7.539381  6.250962   \n",
       "2  13.068179  8.573674   8.647684  9.613002   4.396581  7.813101  6.007746   \n",
       "3  12.456040  9.098977   6.628784  8.517677   4.154847  8.361843  6.596064   \n",
       "4  12.699958  8.800721  11.556188  9.166309   4.165891  7.923826  6.212754   \n",
       "\n",
       "    1320_at  1405_i_at   1431_at  ...  AFFX-r2-Ec-bioD-3_at  \\\n",
       "0  6.835999   5.898355  5.513410  ...              9.979005   \n",
       "1  8.012549   5.453147  6.173106  ...             11.924749   \n",
       "2  7.178156   8.400266  6.323471  ...             12.154405   \n",
       "3  6.347285   4.900380  6.008684  ...             11.969072   \n",
       "4  6.866387   5.405628  5.279579  ...             11.411701   \n",
       "\n",
       "   AFFX-r2-Ec-bioD-5_at  AFFX-r2-P1-cre-3_at  AFFX-r2-P1-cre-5_at  \\\n",
       "0              9.926470            12.719785            12.777792   \n",
       "1             11.215930            13.605662            13.401342   \n",
       "2             11.532460            13.764593            13.477800   \n",
       "3             11.288801            13.600828            13.379029   \n",
       "4             11.169317            13.751442            13.803646   \n",
       "\n",
       "   AFFX-ThrX-3_at  AFFX-ThrX-5_at  AFFX-ThrX-M_at  AFFX-TrpnX-3_at  \\\n",
       "0        5.403657        4.870548        4.047380         3.721936   \n",
       "1        5.224555        4.895315        3.786437         3.564481   \n",
       "2        5.303565        5.052184        4.005343         3.595382   \n",
       "3        4.953429        4.708371        3.892318         3.759429   \n",
       "4        4.892677        4.773806        3.796856         3.577544   \n",
       "\n",
       "   AFFX-TrpnX-5_at  AFFX-TrpnX-M_at  \n",
       "0         4.516434         4.749940  \n",
       "1         4.430891         4.491416  \n",
       "2         4.563494         4.668827  \n",
       "3         4.748381         4.521275  \n",
       "4         4.504385         4.541450  \n",
       "\n",
       "[5 rows x 54675 columns]"
      ]
     },
     "execution_count": 163,
     "metadata": {},
     "output_type": "execute_result"
    }
   ],
   "source": [
    "# Get only the columns with expression data\n",
    "data = df.iloc[:,2:]\n",
    "data.head()"
   ]
  },
  {
   "cell_type": "code",
   "execution_count": 164,
   "metadata": {},
   "outputs": [
    {
     "data": {
      "text/html": [
       "<div>\n",
       "<style scoped>\n",
       "    .dataframe tbody tr th:only-of-type {\n",
       "        vertical-align: middle;\n",
       "    }\n",
       "\n",
       "    .dataframe tbody tr th {\n",
       "        vertical-align: top;\n",
       "    }\n",
       "\n",
       "    .dataframe thead th {\n",
       "        text-align: right;\n",
       "    }\n",
       "</style>\n",
       "<table border=\"1\" class=\"dataframe\">\n",
       "  <thead>\n",
       "    <tr style=\"text-align: right;\">\n",
       "      <th></th>\n",
       "      <th>0</th>\n",
       "      <th>1</th>\n",
       "      <th>2</th>\n",
       "      <th>3</th>\n",
       "      <th>4</th>\n",
       "      <th>5</th>\n",
       "      <th>6</th>\n",
       "      <th>7</th>\n",
       "      <th>8</th>\n",
       "      <th>9</th>\n",
       "      <th>...</th>\n",
       "      <th>30</th>\n",
       "      <th>31</th>\n",
       "      <th>32</th>\n",
       "      <th>33</th>\n",
       "      <th>34</th>\n",
       "      <th>35</th>\n",
       "      <th>36</th>\n",
       "      <th>37</th>\n",
       "      <th>38</th>\n",
       "      <th>39</th>\n",
       "    </tr>\n",
       "  </thead>\n",
       "  <tbody>\n",
       "    <tr>\n",
       "      <th>1007_s_at</th>\n",
       "      <td>0.258359</td>\n",
       "      <td>0.781186</td>\n",
       "      <td>0.191110</td>\n",
       "      <td>0.105292</td>\n",
       "      <td>0.020352</td>\n",
       "      <td>0.000432</td>\n",
       "      <td>0.056285</td>\n",
       "      <td>0.024429</td>\n",
       "      <td>0.147915</td>\n",
       "      <td>0.226082</td>\n",
       "      <td>...</td>\n",
       "      <td>0.027620</td>\n",
       "      <td>0.026878</td>\n",
       "      <td>0.082283</td>\n",
       "      <td>0.018037</td>\n",
       "      <td>0.008238</td>\n",
       "      <td>0.020507</td>\n",
       "      <td>0.053860</td>\n",
       "      <td>0.086628</td>\n",
       "      <td>0.067735</td>\n",
       "      <td>0.040872</td>\n",
       "    </tr>\n",
       "    <tr>\n",
       "      <th>1053_at</th>\n",
       "      <td>0.431819</td>\n",
       "      <td>0.113789</td>\n",
       "      <td>0.463920</td>\n",
       "      <td>0.048851</td>\n",
       "      <td>0.387893</td>\n",
       "      <td>0.185476</td>\n",
       "      <td>0.073525</td>\n",
       "      <td>0.030699</td>\n",
       "      <td>0.081408</td>\n",
       "      <td>0.282795</td>\n",
       "      <td>...</td>\n",
       "      <td>0.063521</td>\n",
       "      <td>0.100039</td>\n",
       "      <td>0.013827</td>\n",
       "      <td>0.120313</td>\n",
       "      <td>0.108173</td>\n",
       "      <td>0.069548</td>\n",
       "      <td>0.042123</td>\n",
       "      <td>0.011064</td>\n",
       "      <td>0.041220</td>\n",
       "      <td>0.022133</td>\n",
       "    </tr>\n",
       "    <tr>\n",
       "      <th>117_at</th>\n",
       "      <td>0.042541</td>\n",
       "      <td>0.433298</td>\n",
       "      <td>0.107040</td>\n",
       "      <td>0.030131</td>\n",
       "      <td>0.247344</td>\n",
       "      <td>0.074741</td>\n",
       "      <td>0.262305</td>\n",
       "      <td>0.189941</td>\n",
       "      <td>0.203803</td>\n",
       "      <td>0.141532</td>\n",
       "      <td>...</td>\n",
       "      <td>0.050111</td>\n",
       "      <td>0.039046</td>\n",
       "      <td>0.002020</td>\n",
       "      <td>0.030753</td>\n",
       "      <td>0.044889</td>\n",
       "      <td>0.003965</td>\n",
       "      <td>0.160939</td>\n",
       "      <td>0.158348</td>\n",
       "      <td>0.056151</td>\n",
       "      <td>0.049532</td>\n",
       "    </tr>\n",
       "    <tr>\n",
       "      <th>121_at</th>\n",
       "      <td>0.893608</td>\n",
       "      <td>0.077811</td>\n",
       "      <td>0.004212</td>\n",
       "      <td>0.131372</td>\n",
       "      <td>0.014979</td>\n",
       "      <td>0.085396</td>\n",
       "      <td>0.080042</td>\n",
       "      <td>0.038894</td>\n",
       "      <td>0.081031</td>\n",
       "      <td>0.083716</td>\n",
       "      <td>...</td>\n",
       "      <td>0.048562</td>\n",
       "      <td>0.034240</td>\n",
       "      <td>0.030625</td>\n",
       "      <td>0.038095</td>\n",
       "      <td>0.017075</td>\n",
       "      <td>0.034229</td>\n",
       "      <td>0.021019</td>\n",
       "      <td>0.016961</td>\n",
       "      <td>0.002107</td>\n",
       "      <td>0.009082</td>\n",
       "    </tr>\n",
       "    <tr>\n",
       "      <th>1255_g_at</th>\n",
       "      <td>0.105023</td>\n",
       "      <td>0.302486</td>\n",
       "      <td>0.264193</td>\n",
       "      <td>0.433497</td>\n",
       "      <td>0.073197</td>\n",
       "      <td>0.238351</td>\n",
       "      <td>0.056597</td>\n",
       "      <td>0.068146</td>\n",
       "      <td>0.029414</td>\n",
       "      <td>0.006205</td>\n",
       "      <td>...</td>\n",
       "      <td>0.081278</td>\n",
       "      <td>0.048061</td>\n",
       "      <td>0.053209</td>\n",
       "      <td>0.021124</td>\n",
       "      <td>0.093846</td>\n",
       "      <td>0.041999</td>\n",
       "      <td>0.031914</td>\n",
       "      <td>0.032196</td>\n",
       "      <td>0.053579</td>\n",
       "      <td>0.067974</td>\n",
       "    </tr>\n",
       "    <tr>\n",
       "      <th>...</th>\n",
       "      <td>...</td>\n",
       "      <td>...</td>\n",
       "      <td>...</td>\n",
       "      <td>...</td>\n",
       "      <td>...</td>\n",
       "      <td>...</td>\n",
       "      <td>...</td>\n",
       "      <td>...</td>\n",
       "      <td>...</td>\n",
       "      <td>...</td>\n",
       "      <td>...</td>\n",
       "      <td>...</td>\n",
       "      <td>...</td>\n",
       "      <td>...</td>\n",
       "      <td>...</td>\n",
       "      <td>...</td>\n",
       "      <td>...</td>\n",
       "      <td>...</td>\n",
       "      <td>...</td>\n",
       "      <td>...</td>\n",
       "      <td>...</td>\n",
       "    </tr>\n",
       "    <tr>\n",
       "      <th>AFFX-ThrX-5_at</th>\n",
       "      <td>0.486595</td>\n",
       "      <td>0.001532</td>\n",
       "      <td>0.326640</td>\n",
       "      <td>0.012046</td>\n",
       "      <td>0.195005</td>\n",
       "      <td>0.317793</td>\n",
       "      <td>0.295725</td>\n",
       "      <td>0.201643</td>\n",
       "      <td>0.170085</td>\n",
       "      <td>0.032019</td>\n",
       "      <td>...</td>\n",
       "      <td>0.013951</td>\n",
       "      <td>0.010333</td>\n",
       "      <td>0.055896</td>\n",
       "      <td>0.017455</td>\n",
       "      <td>0.027138</td>\n",
       "      <td>0.015352</td>\n",
       "      <td>0.035622</td>\n",
       "      <td>0.026338</td>\n",
       "      <td>0.002696</td>\n",
       "      <td>0.017661</td>\n",
       "    </tr>\n",
       "    <tr>\n",
       "      <th>AFFX-ThrX-M_at</th>\n",
       "      <td>0.318844</td>\n",
       "      <td>0.331434</td>\n",
       "      <td>0.149880</td>\n",
       "      <td>0.104459</td>\n",
       "      <td>0.301354</td>\n",
       "      <td>0.040355</td>\n",
       "      <td>0.203357</td>\n",
       "      <td>0.092299</td>\n",
       "      <td>0.172439</td>\n",
       "      <td>0.022166</td>\n",
       "      <td>...</td>\n",
       "      <td>0.104686</td>\n",
       "      <td>0.087251</td>\n",
       "      <td>0.134971</td>\n",
       "      <td>0.025923</td>\n",
       "      <td>0.026638</td>\n",
       "      <td>0.067600</td>\n",
       "      <td>0.016628</td>\n",
       "      <td>0.078947</td>\n",
       "      <td>0.061157</td>\n",
       "      <td>0.148706</td>\n",
       "    </tr>\n",
       "    <tr>\n",
       "      <th>AFFX-TrpnX-3_at</th>\n",
       "      <td>0.349892</td>\n",
       "      <td>0.269936</td>\n",
       "      <td>0.414491</td>\n",
       "      <td>0.327731</td>\n",
       "      <td>0.287298</td>\n",
       "      <td>0.117254</td>\n",
       "      <td>0.091406</td>\n",
       "      <td>0.130115</td>\n",
       "      <td>0.283420</td>\n",
       "      <td>0.112729</td>\n",
       "      <td>...</td>\n",
       "      <td>0.075133</td>\n",
       "      <td>0.013559</td>\n",
       "      <td>0.081723</td>\n",
       "      <td>0.014410</td>\n",
       "      <td>0.014569</td>\n",
       "      <td>0.033846</td>\n",
       "      <td>0.080374</td>\n",
       "      <td>0.081983</td>\n",
       "      <td>0.021118</td>\n",
       "      <td>0.032899</td>\n",
       "    </tr>\n",
       "    <tr>\n",
       "      <th>AFFX-TrpnX-5_at</th>\n",
       "      <td>0.535157</td>\n",
       "      <td>0.167970</td>\n",
       "      <td>0.058581</td>\n",
       "      <td>0.366672</td>\n",
       "      <td>0.308215</td>\n",
       "      <td>0.156492</td>\n",
       "      <td>0.133988</td>\n",
       "      <td>0.054306</td>\n",
       "      <td>0.123913</td>\n",
       "      <td>0.087548</td>\n",
       "      <td>...</td>\n",
       "      <td>0.032888</td>\n",
       "      <td>0.071307</td>\n",
       "      <td>0.069759</td>\n",
       "      <td>0.010102</td>\n",
       "      <td>0.092838</td>\n",
       "      <td>0.034643</td>\n",
       "      <td>0.028555</td>\n",
       "      <td>0.029767</td>\n",
       "      <td>0.081693</td>\n",
       "      <td>0.006875</td>\n",
       "    </tr>\n",
       "    <tr>\n",
       "      <th>AFFX-TrpnX-M_at</th>\n",
       "      <td>0.029346</td>\n",
       "      <td>0.363040</td>\n",
       "      <td>0.391234</td>\n",
       "      <td>0.200052</td>\n",
       "      <td>0.382101</td>\n",
       "      <td>0.159148</td>\n",
       "      <td>0.146346</td>\n",
       "      <td>0.042368</td>\n",
       "      <td>0.044252</td>\n",
       "      <td>0.081392</td>\n",
       "      <td>...</td>\n",
       "      <td>0.162372</td>\n",
       "      <td>0.058013</td>\n",
       "      <td>0.001299</td>\n",
       "      <td>0.089055</td>\n",
       "      <td>0.028702</td>\n",
       "      <td>0.082902</td>\n",
       "      <td>0.097660</td>\n",
       "      <td>0.072365</td>\n",
       "      <td>0.018750</td>\n",
       "      <td>0.086725</td>\n",
       "    </tr>\n",
       "  </tbody>\n",
       "</table>\n",
       "<p>54675 rows × 40 columns</p>\n",
       "</div>"
      ],
      "text/plain": [
       "                       0         1         2         3         4         5   \\\n",
       "1007_s_at        0.258359  0.781186  0.191110  0.105292  0.020352  0.000432   \n",
       "1053_at          0.431819  0.113789  0.463920  0.048851  0.387893  0.185476   \n",
       "117_at           0.042541  0.433298  0.107040  0.030131  0.247344  0.074741   \n",
       "121_at           0.893608  0.077811  0.004212  0.131372  0.014979  0.085396   \n",
       "1255_g_at        0.105023  0.302486  0.264193  0.433497  0.073197  0.238351   \n",
       "...                   ...       ...       ...       ...       ...       ...   \n",
       "AFFX-ThrX-5_at   0.486595  0.001532  0.326640  0.012046  0.195005  0.317793   \n",
       "AFFX-ThrX-M_at   0.318844  0.331434  0.149880  0.104459  0.301354  0.040355   \n",
       "AFFX-TrpnX-3_at  0.349892  0.269936  0.414491  0.327731  0.287298  0.117254   \n",
       "AFFX-TrpnX-5_at  0.535157  0.167970  0.058581  0.366672  0.308215  0.156492   \n",
       "AFFX-TrpnX-M_at  0.029346  0.363040  0.391234  0.200052  0.382101  0.159148   \n",
       "\n",
       "                       6         7         8         9   ...        30  \\\n",
       "1007_s_at        0.056285  0.024429  0.147915  0.226082  ...  0.027620   \n",
       "1053_at          0.073525  0.030699  0.081408  0.282795  ...  0.063521   \n",
       "117_at           0.262305  0.189941  0.203803  0.141532  ...  0.050111   \n",
       "121_at           0.080042  0.038894  0.081031  0.083716  ...  0.048562   \n",
       "1255_g_at        0.056597  0.068146  0.029414  0.006205  ...  0.081278   \n",
       "...                   ...       ...       ...       ...  ...       ...   \n",
       "AFFX-ThrX-5_at   0.295725  0.201643  0.170085  0.032019  ...  0.013951   \n",
       "AFFX-ThrX-M_at   0.203357  0.092299  0.172439  0.022166  ...  0.104686   \n",
       "AFFX-TrpnX-3_at  0.091406  0.130115  0.283420  0.112729  ...  0.075133   \n",
       "AFFX-TrpnX-5_at  0.133988  0.054306  0.123913  0.087548  ...  0.032888   \n",
       "AFFX-TrpnX-M_at  0.146346  0.042368  0.044252  0.081392  ...  0.162372   \n",
       "\n",
       "                       31        32        33        34        35        36  \\\n",
       "1007_s_at        0.026878  0.082283  0.018037  0.008238  0.020507  0.053860   \n",
       "1053_at          0.100039  0.013827  0.120313  0.108173  0.069548  0.042123   \n",
       "117_at           0.039046  0.002020  0.030753  0.044889  0.003965  0.160939   \n",
       "121_at           0.034240  0.030625  0.038095  0.017075  0.034229  0.021019   \n",
       "1255_g_at        0.048061  0.053209  0.021124  0.093846  0.041999  0.031914   \n",
       "...                   ...       ...       ...       ...       ...       ...   \n",
       "AFFX-ThrX-5_at   0.010333  0.055896  0.017455  0.027138  0.015352  0.035622   \n",
       "AFFX-ThrX-M_at   0.087251  0.134971  0.025923  0.026638  0.067600  0.016628   \n",
       "AFFX-TrpnX-3_at  0.013559  0.081723  0.014410  0.014569  0.033846  0.080374   \n",
       "AFFX-TrpnX-5_at  0.071307  0.069759  0.010102  0.092838  0.034643  0.028555   \n",
       "AFFX-TrpnX-M_at  0.058013  0.001299  0.089055  0.028702  0.082902  0.097660   \n",
       "\n",
       "                       37        38        39  \n",
       "1007_s_at        0.086628  0.067735  0.040872  \n",
       "1053_at          0.011064  0.041220  0.022133  \n",
       "117_at           0.158348  0.056151  0.049532  \n",
       "121_at           0.016961  0.002107  0.009082  \n",
       "1255_g_at        0.032196  0.053579  0.067974  \n",
       "...                   ...       ...       ...  \n",
       "AFFX-ThrX-5_at   0.026338  0.002696  0.017661  \n",
       "AFFX-ThrX-M_at   0.078947  0.061157  0.148706  \n",
       "AFFX-TrpnX-3_at  0.081983  0.021118  0.032899  \n",
       "AFFX-TrpnX-5_at  0.029767  0.081693  0.006875  \n",
       "AFFX-TrpnX-M_at  0.072365  0.018750  0.086725  \n",
       "\n",
       "[54675 rows x 40 columns]"
      ]
     },
     "execution_count": 164,
     "metadata": {},
     "output_type": "execute_result"
    }
   ],
   "source": [
    "import numpy as np\n",
    "import matplotlib.pyplot as plt\n",
    "import math\n",
    "\n",
    "from sklearn import decomposition\n",
    "from sklearn import datasets\n",
    "from sklearn.preprocessing import scale\n",
    "\n",
    "X = scale(data)\n",
    "y= df.iloc[:,1]\n",
    "\n",
    "# apply PCA\n",
    "pca = decomposition.PCA(n_components=.8)\n",
    "X = pca.fit_transform(X)\n",
    "\n",
    "loadings = pd.DataFrame(pca.components_.T *  np.sqrt(pca.explained_variance_), index=df.columns[2:])\n",
    "loadings = loadings.abs()\n",
    "loadings.sort_values(by = [1],ascending=False).head(10)\n",
    "loadings"
   ]
  },
  {
   "cell_type": "code",
   "execution_count": 165,
   "metadata": {},
   "outputs": [
    {
     "data": {
      "image/png": "[encoded data removed]",
      "text/plain": [
       "<Figure size 432x288 with 1 Axes>"
      ]
     },
     "metadata": {
      "needs_background": "light"
     },
     "output_type": "display_data"
    },
    {
     "data": {
      "image/png": "[encoded data removed]",
      "text/plain": [
       "<Figure size 432x288 with 1 Axes>"
      ]
     },
     "metadata": {
      "needs_background": "light"
     },
     "output_type": "display_data"
    }
   ],
   "source": [
    "#generate + compare PCA plots\n",
    "\n",
    "all_names = y.unique()\n",
    "encoded_y = [list(all_names).index(yi) for yi in y]\n",
    "rand_colors = [tuple(np.random.random(size=3)) for n in all_names]\n",
    "rand_colors = ['blue', 'green', 'red', 'orange', 'black', 'yellow']\n",
    "cmap = [rand_colors[yi] for yi in encoded_y]\n",
    "\n",
    "#2d\n",
    "plot = plt.scatter(X[:,0], X[:,1], c=cmap)\n",
    "plt.show()\n",
    "\n",
    "#3d plot\n",
    "ax = plt.axes(projection='3d')\n",
    "ax.scatter3D(X[:,0], X[:,1], X[:,2], c=cmap)\n",
    "plt.show()"
   ]
  },
  {
   "cell_type": "code",
   "execution_count": 166,
   "metadata": {},
   "outputs": [
    {
     "data": {
      "application/vnd.plotly.v1+json": {
       "config": {
        "plotlyServerURL": "https://plot.ly"
       },
       "data": [
        {
         "hovertemplate": "color=ependymoma<br>0=%{x}<br>1=%{y}<extra></extra>",
         "legendgroup": "ependymoma",
         "marker": {
          "color": "#636efa",
          "symbol": "circle"
         },
         "mode": "markers",
         "name": "ependymoma",
         "orientation": "v",
         "showlegend": true,
         "type": "scatter",
         "x": [
          165.16263563088827,
          85.22657502406258,
          70.26897108943584,
          -101.58835658513671,
          65.80711405525682,
          124.97567977183478,
          155.78115800302402,
          108.61753018883796,
          110.61677919002014,
          149.66021510407526,
          -124.09150808539569,
          63.41558119551984,
          123.36998893108148,
          -78.54321488355482,
          91.57053524250588,
          -48.13960566132866,
          133.56398507497138,
          97.85971511382802,
          -47.660291419144095,
          90.09696101400314,
          94.30571817545557,
          83.72696916021032,
          -64.53166715986538,
          -44.257948536312725,
          119.75787026189278,
          141.5469125636373,
          60.88751101105729,
          124.66385619748223,
          -35.55096014867154,
          -125.24233569827923,
          -117.27419783675388,
          133.5088741943482,
          184.32844234883052,
          -39.53830298970139,
          87.11164392428566,
          -138.56675092153762,
          -156.86481895773852,
          -138.89153455104233,
          -124.41135973752569,
          -111.26155056565469,
          -121.67783383056121,
          -101.52942206760606,
          -131.78030954940334,
          -100.83923919307065,
          -125.01565055634654,
          -127.82053544171015
         ],
         "xaxis": "x",
         "y": [
          5.242777807867327,
          -53.0984153469189,
          -68.29233575501864,
          -47.669345924755916,
          -55.921507516232495,
          -20.11567400932706,
          -40.96576973441523,
          -41.41263864077763,
          -33.08841050944638,
          -37.4169171085778,
          -93.14688718258438,
          -9.492341373494737,
          -19.53593170094781,
          -29.199799505462778,
          -96.7948159078408,
          -65.62276225463239,
          -39.39723914503884,
          -69.34239100642455,
          -103.19091450987302,
          -89.27976778420368,
          -67.44915953470664,
          -49.58312714354711,
          -75.1220011929205,
          -97.28486972052166,
          -67.40874218269381,
          -65.58903494558966,
          -56.3016643060425,
          -44.29484886431373,
          -88.28510874318432,
          -68.48874584054663,
          -105.33399177316917,
          -35.66927960677423,
          22.19260869018707,
          -26.98966278003915,
          -62.35705857656271,
          -81.65067417417268,
          -35.38767943526264,
          -91.60854686370799,
          -63.75031567342354,
          -88.4226870065205,
          -20.15624586425604,
          -51.735581959341474,
          -31.294894753968585,
          -41.671809304692495,
          -13.718335834278694,
          0.20519257837539712
         ],
         "yaxis": "y"
        },
        {
         "hovertemplate": "color=glioblastoma<br>0=%{x}<br>1=%{y}<extra></extra>",
         "legendgroup": "glioblastoma",
         "marker": {
          "color": "#EF553B",
          "symbol": "circle"
         },
         "mode": "markers",
         "name": "glioblastoma",
         "orientation": "v",
         "showlegend": true,
         "type": "scatter",
         "x": [
          90.50006387990965,
          97.16789542282703,
          -105.85170763830662,
          -100.0920144291867,
          -90.34585870988649,
          113.56579335733024,
          92.61557085122931,
          161.83534138770435,
          102.0777786529425,
          161.90316652513312,
          94.71856498628206,
          127.29715686593617,
          85.36409580803263,
          117.21766571027274,
          76.75990272483469,
          -45.503879036809664,
          -129.44842899571856,
          -105.69117677573861,
          -129.38172026796215,
          -106.44186137508305,
          154.1236277366538,
          86.66135562377926,
          219.73586927106743,
          75.53654579134667,
          -159.88006311740605,
          61.65470820010587,
          98.76088435274573,
          -140.95976789994822,
          -135.52301566541206,
          -120.32591321631966,
          -123.07180320004014,
          -92.85195611552577,
          -130.78701328273155,
          -94.76739922339038
         ],
         "xaxis": "x",
         "y": [
          -37.634041600009155,
          34.32977410593231,
          -19.829047286486723,
          -14.16965116391914,
          -20.805865061151312,
          -60.21109111067677,
          -0.7679514302547359,
          -12.795990924154545,
          2.3087942864544853,
          43.997595721563606,
          -36.74031083643027,
          46.68727776177512,
          -15.604645130247556,
          17.030735814091386,
          -6.538082086318268,
          -75.40025899102228,
          5.996867916150632,
          -46.89190163806808,
          15.000884162280352,
          30.179975413627233,
          28.293185054984203,
          -24.698898061155496,
          63.114460260429055,
          -2.1882192738412902,
          -51.76112830515572,
          -12.914188914831653,
          -37.43820247075395,
          -54.45022297701889,
          57.1649261569519,
          1.1407126591976162,
          -48.29091661011553,
          -43.32852390366787,
          -25.802013129658846,
          -23.0738467673043
         ],
         "yaxis": "y"
        },
        {
         "hovertemplate": "color=medulloblastoma<br>0=%{x}<br>1=%{y}<extra></extra>",
         "legendgroup": "medulloblastoma",
         "marker": {
          "color": "#00cc96",
          "symbol": "circle"
         },
         "mode": "markers",
         "name": "medulloblastoma",
         "orientation": "v",
         "showlegend": true,
         "type": "scatter",
         "x": [
          -114.5287440962455,
          115.99038563152695,
          127.72269111526485,
          105.39442451203305,
          151.07018422576138,
          -110.75052037812968,
          89.48734837301973,
          142.16813355851974,
          45.55343590827555,
          -118.28707537883339,
          72.46737465047701,
          33.19131596975605,
          -130.83052926028117,
          -130.8909403683963,
          -154.3167448594867,
          -38.10516956735561,
          -91.70614551528722,
          -140.32562650173267,
          -87.6998201387292,
          -106.52665911119486,
          -130.09165317690503,
          -43.37820674135785
         ],
         "xaxis": "x",
         "y": [
          163.38491379903925,
          92.54238760608493,
          98.83565833128375,
          76.97794101941588,
          107.23538784478129,
          84.04091244979084,
          62.90533725456672,
          124.00979824307609,
          70.05222331474809,
          -14.685715782387062,
          36.01285461131533,
          25.31840423282251,
          102.65960228648707,
          53.704414906965525,
          57.45362894737952,
          89.99971959930724,
          86.55291511265773,
          73.16551173099099,
          72.69897951115574,
          87.77177699912824,
          84.74286643276307,
          8.776285335474869
         ],
         "yaxis": "y"
        },
        {
         "hovertemplate": "color=normal<br>0=%{x}<br>1=%{y}<extra></extra>",
         "legendgroup": "normal",
         "marker": {
          "color": "#ab63fa",
          "symbol": "circle"
         },
         "mode": "markers",
         "name": "normal",
         "orientation": "v",
         "showlegend": true,
         "type": "scatter",
         "x": [
          -30.74037292327903,
          115.95222715438804,
          -78.13772036862764,
          42.28531366248513,
          -101.80848486303756,
          -86.95188363907288,
          -92.46631256812682,
          145.82400505834514,
          -72.10953743270876,
          6.079000382015104,
          -99.5043107805881,
          -102.18895458127662,
          21.947542579824162
         ],
         "xaxis": "x",
         "y": [
          104.91155497759786,
          97.93872885809974,
          65.59587840563323,
          209.46669776971106,
          119.59839636653696,
          128.81084902124806,
          136.4041488369149,
          58.75752068138624,
          114.92939985841022,
          86.66361901674993,
          113.33900938941616,
          107.45208881814811,
          109.86832772004746
         ],
         "yaxis": "y"
        },
        {
         "hovertemplate": "color=pilocytic_astrocytoma<br>0=%{x}<br>1=%{y}<extra></extra>",
         "legendgroup": "pilocytic_astrocytoma",
         "marker": {
          "color": "#FFA15A",
          "symbol": "circle"
         },
         "mode": "markers",
         "name": "pilocytic_astrocytoma",
         "orientation": "v",
         "showlegend": true,
         "type": "scatter",
         "x": [
          77.89105177217807,
          61.78308318289699,
          67.43770745215674,
          219.4216188257751,
          177.26733854030792,
          109.52491203138702,
          100.40362092157532,
          -91.77427701680537,
          -101.22920868618618,
          51.58535052152576,
          -104.69450203550065,
          -42.579596502728265,
          -116.9324605513487,
          -119.73895494172419,
          -109.4798903334205
         ],
         "xaxis": "x",
         "y": [
          -32.442403672929395,
          -45.47023090348056,
          -30.825159413561874,
          20.689854481120346,
          35.420576093060085,
          -27.888652184781055,
          -51.66069763891263,
          -33.38128143644601,
          -44.843078667814304,
          -47.544967844469426,
          -33.49828813966268,
          -25.177095675861164,
          -38.58222446964926,
          -10.468317731026236,
          8.767103976250418
         ],
         "yaxis": "y"
        }
       ],
       "layout": {
        "legend": {
         "title": {
          "text": "color"
         },
         "tracegroupgap": 0
        },
        "margin": {
         "t": 60
        },
        "template": {
         "data": {
          "bar": [
           {
            "error_x": {
             "color": "#2a3f5f"
            },
            "error_y": {
             "color": "#2a3f5f"
            },
            "marker": {
             "line": {
              "color": "#E5ECF6",
              "width": 0.5
             },
             "pattern": {
              "fillmode": "overlay",
              "size": 10,
              "solidity": 0.2
             }
            },
            "type": "bar"
           }
          ],
          "barpolar": [
           {
            "marker": {
             "line": {
              "color": "#E5ECF6",
              "width": 0.5
             },
             "pattern": {
              "fillmode": "overlay",
              "size": 10,
              "solidity": 0.2
             }
            },
            "type": "barpolar"
           }
          ],
          "carpet": [
           {
            "aaxis": {
             "endlinecolor": "#2a3f5f",
             "gridcolor": "white",
             "linecolor": "white",
             "minorgridcolor": "white",
             "startlinecolor": "#2a3f5f"
            },
            "baxis": {
             "endlinecolor": "#2a3f5f",
             "gridcolor": "white",
             "linecolor": "white",
             "minorgridcolor": "white",
             "startlinecolor": "#2a3f5f"
            },
            "type": "carpet"
           }
          ],
          "choropleth": [
           {
            "colorbar": {
             "outlinewidth": 0,
             "ticks": ""
            },
            "type": "choropleth"
           }
          ],
          "contour": [
           {
            "colorbar": {
             "outlinewidth": 0,
             "ticks": ""
            },
            "colorscale": [
             [
              0,
              "#0d0887"
             ],
             [
              0.1111111111111111,
              "#46039f"
             ],
             [
              0.2222222222222222,
              "#7201a8"
             ],
             [
              0.3333333333333333,
              "#9c179e"
             ],
             [
              0.4444444444444444,
              "#bd3786"
             ],
             [
              0.5555555555555556,
              "#d8576b"
             ],
             [
              0.6666666666666666,
              "#ed7953"
             ],
             [
              0.7777777777777778,
              "#fb9f3a"
             ],
             [
              0.8888888888888888,
              "#fdca26"
             ],
             [
              1,
              "#f0f921"
             ]
            ],
            "type": "contour"
           }
          ],
          "contourcarpet": [
           {
            "colorbar": {
             "outlinewidth": 0,
             "ticks": ""
            },
            "type": "contourcarpet"
           }
          ],
          "heatmap": [
           {
            "colorbar": {
             "outlinewidth": 0,
             "ticks": ""
            },
            "colorscale": [
             [
              0,
              "#0d0887"
             ],
             [
              0.1111111111111111,
              "#46039f"
             ],
             [
              0.2222222222222222,
              "#7201a8"
             ],
             [
              0.3333333333333333,
              "#9c179e"
             ],
             [
              0.4444444444444444,
              "#bd3786"
             ],
             [
              0.5555555555555556,
              "#d8576b"
             ],
             [
              0.6666666666666666,
              "#ed7953"
             ],
             [
              0.7777777777777778,
              "#fb9f3a"
             ],
             [
              0.8888888888888888,
              "#fdca26"
             ],
             [
              1,
              "#f0f921"
             ]
            ],
            "type": "heatmap"
           }
          ],
          "heatmapgl": [
           {
            "colorbar": {
             "outlinewidth": 0,
             "ticks": ""
            },
            "colorscale": [
             [
              0,
              "#0d0887"
             ],
             [
              0.1111111111111111,
              "#46039f"
             ],
             [
              0.2222222222222222,
              "#7201a8"
             ],
             [
              0.3333333333333333,
              "#9c179e"
             ],
             [
              0.4444444444444444,
              "#bd3786"
             ],
             [
              0.5555555555555556,
              "#d8576b"
             ],
             [
              0.6666666666666666,
              "#ed7953"
             ],
             [
              0.7777777777777778,
              "#fb9f3a"
             ],
             [
              0.8888888888888888,
              "#fdca26"
             ],
             [
              1,
              "#f0f921"
             ]
            ],
            "type": "heatmapgl"
           }
          ],
          "histogram": [
           {
            "marker": {
             "pattern": {
              "fillmode": "overlay",
              "size": 10,
              "solidity": 0.2
             }
            },
            "type": "histogram"
           }
          ],
          "histogram2d": [
           {
            "colorbar": {
             "outlinewidth": 0,
             "ticks": ""
            },
            "colorscale": [
             [
              0,
              "#0d0887"
             ],
             [
              0.1111111111111111,
              "#46039f"
             ],
             [
              0.2222222222222222,
              "#7201a8"
             ],
             [
              0.3333333333333333,
              "#9c179e"
             ],
             [
              0.4444444444444444,
              "#bd3786"
             ],
             [
              0.5555555555555556,
              "#d8576b"
             ],
             [
              0.6666666666666666,
              "#ed7953"
             ],
             [
              0.7777777777777778,
              "#fb9f3a"
             ],
             [
              0.8888888888888888,
              "#fdca26"
             ],
             [
              1,
              "#f0f921"
             ]
            ],
            "type": "histogram2d"
           }
          ],
          "histogram2dcontour": [
           {
            "colorbar": {
             "outlinewidth": 0,
             "ticks": ""
            },
            "colorscale": [
             [
              0,
              "#0d0887"
             ],
             [
              0.1111111111111111,
              "#46039f"
             ],
             [
              0.2222222222222222,
              "#7201a8"
             ],
             [
              0.3333333333333333,
              "#9c179e"
             ],
             [
              0.4444444444444444,
              "#bd3786"
             ],
             [
              0.5555555555555556,
              "#d8576b"
             ],
             [
              0.6666666666666666,
              "#ed7953"
             ],
             [
              0.7777777777777778,
              "#fb9f3a"
             ],
             [
              0.8888888888888888,
              "#fdca26"
             ],
             [
              1,
              "#f0f921"
             ]
            ],
            "type": "histogram2dcontour"
           }
          ],
          "mesh3d": [
           {
            "colorbar": {
             "outlinewidth": 0,
             "ticks": ""
            },
            "type": "mesh3d"
           }
          ],
          "parcoords": [
           {
            "line": {
             "colorbar": {
              "outlinewidth": 0,
              "ticks": ""
             }
            },
            "type": "parcoords"
           }
          ],
          "pie": [
           {
            "automargin": true,
            "type": "pie"
           }
          ],
          "scatter": [
           {
            "marker": {
             "colorbar": {
              "outlinewidth": 0,
              "ticks": ""
             }
            },
            "type": "scatter"
           }
          ],
          "scatter3d": [
           {
            "line": {
             "colorbar": {
              "outlinewidth": 0,
              "ticks": ""
             }
            },
            "marker": {
             "colorbar": {
              "outlinewidth": 0,
              "ticks": ""
             }
            },
            "type": "scatter3d"
           }
          ],
          "scattercarpet": [
           {
            "marker": {
             "colorbar": {
              "outlinewidth": 0,
              "ticks": ""
             }
            },
            "type": "scattercarpet"
           }
          ],
          "scattergeo": [
           {
            "marker": {
             "colorbar": {
              "outlinewidth": 0,
              "ticks": ""
             }
            },
            "type": "scattergeo"
           }
          ],
          "scattergl": [
           {
            "marker": {
             "colorbar": {
              "outlinewidth": 0,
              "ticks": ""
             }
            },
            "type": "scattergl"
           }
          ],
          "scattermapbox": [
           {
            "marker": {
             "colorbar": {
              "outlinewidth": 0,
              "ticks": ""
             }
            },
            "type": "scattermapbox"
           }
          ],
          "scatterpolar": [
           {
            "marker": {
             "colorbar": {
              "outlinewidth": 0,
              "ticks": ""
             }
            },
            "type": "scatterpolar"
           }
          ],
          "scatterpolargl": [
           {
            "marker": {
             "colorbar": {
              "outlinewidth": 0,
              "ticks": ""
             }
            },
            "type": "scatterpolargl"
           }
          ],
          "scatterternary": [
           {
            "marker": {
             "colorbar": {
              "outlinewidth": 0,
              "ticks": ""
             }
            },
            "type": "scatterternary"
           }
          ],
          "surface": [
           {
            "colorbar": {
             "outlinewidth": 0,
             "ticks": ""
            },
            "colorscale": [
             [
              0,
              "#0d0887"
             ],
             [
              0.1111111111111111,
              "#46039f"
             ],
             [
              0.2222222222222222,
              "#7201a8"
             ],
             [
              0.3333333333333333,
              "#9c179e"
             ],
             [
              0.4444444444444444,
              "#bd3786"
             ],
             [
              0.5555555555555556,
              "#d8576b"
             ],
             [
              0.6666666666666666,
              "#ed7953"
             ],
             [
              0.7777777777777778,
              "#fb9f3a"
             ],
             [
              0.8888888888888888,
              "#fdca26"
             ],
             [
              1,
              "#f0f921"
             ]
            ],
            "type": "surface"
           }
          ],
          "table": [
           {
            "cells": {
             "fill": {
              "color": "#EBF0F8"
             },
             "line": {
              "color": "white"
             }
            },
            "header": {
             "fill": {
              "color": "#C8D4E3"
             },
             "line": {
              "color": "white"
             }
            },
            "type": "table"
           }
          ]
         },
         "layout": {
          "annotationdefaults": {
           "arrowcolor": "#2a3f5f",
           "arrowhead": 0,
           "arrowwidth": 1
          },
          "autotypenumbers": "strict",
          "coloraxis": {
           "colorbar": {
            "outlinewidth": 0,
            "ticks": ""
           }
          },
          "colorscale": {
           "diverging": [
            [
             0,
             "#8e0152"
            ],
            [
             0.1,
             "#c51b7d"
            ],
            [
             0.2,
             "#de77ae"
            ],
            [
             0.3,
             "#f1b6da"
            ],
            [
             0.4,
             "#fde0ef"
            ],
            [
             0.5,
             "#f7f7f7"
            ],
            [
             0.6,
             "#e6f5d0"
            ],
            [
             0.7,
             "#b8e186"
            ],
            [
             0.8,
             "#7fbc41"
            ],
            [
             0.9,
             "#4d9221"
            ],
            [
             1,
             "#276419"
            ]
           ],
           "sequential": [
            [
             0,
             "#0d0887"
            ],
            [
             0.1111111111111111,
             "#46039f"
            ],
            [
             0.2222222222222222,
             "#7201a8"
            ],
            [
             0.3333333333333333,
             "#9c179e"
            ],
            [
             0.4444444444444444,
             "#bd3786"
            ],
            [
             0.5555555555555556,
             "#d8576b"
            ],
            [
             0.6666666666666666,
             "#ed7953"
            ],
            [
             0.7777777777777778,
             "#fb9f3a"
            ],
            [
             0.8888888888888888,
             "#fdca26"
            ],
            [
             1,
             "#f0f921"
            ]
           ],
           "sequentialminus": [
            [
             0,
             "#0d0887"
            ],
            [
             0.1111111111111111,
             "#46039f"
            ],
            [
             0.2222222222222222,
             "#7201a8"
            ],
            [
             0.3333333333333333,
             "#9c179e"
            ],
            [
             0.4444444444444444,
             "#bd3786"
            ],
            [
             0.5555555555555556,
             "#d8576b"
            ],
            [
             0.6666666666666666,
             "#ed7953"
            ],
            [
             0.7777777777777778,
             "#fb9f3a"
            ],
            [
             0.8888888888888888,
             "#fdca26"
            ],
            [
             1,
             "#f0f921"
            ]
           ]
          },
          "colorway": [
           "#636efa",
           "#EF553B",
           "#00cc96",
           "#ab63fa",
           "#FFA15A",
           "#19d3f3",
           "#FF6692",
           "#B6E880",
           "#FF97FF",
           "#FECB52"
          ],
          "font": {
           "color": "#2a3f5f"
          },
          "geo": {
           "bgcolor": "white",
           "lakecolor": "white",
           "landcolor": "#E5ECF6",
           "showlakes": true,
           "showland": true,
           "subunitcolor": "white"
          },
          "hoverlabel": {
           "align": "left"
          },
          "hovermode": "closest",
          "mapbox": {
           "style": "light"
          },
          "paper_bgcolor": "white",
          "plot_bgcolor": "#E5ECF6",
          "polar": {
           "angularaxis": {
            "gridcolor": "white",
            "linecolor": "white",
            "ticks": ""
           },
           "bgcolor": "#E5ECF6",
           "radialaxis": {
            "gridcolor": "white",
            "linecolor": "white",
            "ticks": ""
           }
          },
          "scene": {
           "xaxis": {
            "backgroundcolor": "#E5ECF6",
            "gridcolor": "white",
            "gridwidth": 2,
            "linecolor": "white",
            "showbackground": true,
            "ticks": "",
            "zerolinecolor": "white"
           },
           "yaxis": {
            "backgroundcolor": "#E5ECF6",
            "gridcolor": "white",
            "gridwidth": 2,
            "linecolor": "white",
            "showbackground": true,
            "ticks": "",
            "zerolinecolor": "white"
           },
           "zaxis": {
            "backgroundcolor": "#E5ECF6",
            "gridcolor": "white",
            "gridwidth": 2,
            "linecolor": "white",
            "showbackground": true,
            "ticks": "",
            "zerolinecolor": "white"
           }
          },
          "shapedefaults": {
           "line": {
            "color": "#2a3f5f"
           }
          },
          "ternary": {
           "aaxis": {
            "gridcolor": "white",
            "linecolor": "white",
            "ticks": ""
           },
           "baxis": {
            "gridcolor": "white",
            "linecolor": "white",
            "ticks": ""
           },
           "bgcolor": "#E5ECF6",
           "caxis": {
            "gridcolor": "white",
            "linecolor": "white",
            "ticks": ""
           }
          },
          "title": {
           "x": 0.05
          },
          "xaxis": {
           "automargin": true,
           "gridcolor": "white",
           "linecolor": "white",
           "ticks": "",
           "title": {
            "standoff": 15
           },
           "zerolinecolor": "white",
           "zerolinewidth": 2
          },
          "yaxis": {
           "automargin": true,
           "gridcolor": "white",
           "linecolor": "white",
           "ticks": "",
           "title": {
            "standoff": 15
           },
           "zerolinecolor": "white",
           "zerolinewidth": 2
          }
         }
        },
        "xaxis": {
         "anchor": "y",
         "domain": [
          0,
          1
         ],
         "title": {
          "text": "0"
         }
        },
        "yaxis": {
         "anchor": "x",
         "domain": [
          0,
          1
         ],
         "title": {
          "text": "1"
         }
        }
       }
      }
     },
     "metadata": {},
     "output_type": "display_data"
    }
   ],
   "source": [
    "from sklearn.decomposition import PCA\n",
    "import plotly.express as px\n",
    "\n",
    "X = scale(data)\n",
    "y= df.iloc[:,1]\n",
    "features = all_names\n",
    "\n",
    "pca = PCA(n_components=2)\n",
    "components = pca.fit_transform(X)\n",
    "\n",
    "fig = px.scatter(components, x=0, y=1, color=y)\n",
    "fig.show()"
   ]
  },
  {
   "cell_type": "code",
   "execution_count": 167,
   "metadata": {},
   "outputs": [
    {
     "data": {
      "application/vnd.plotly.v1+json": {
       "config": {
        "plotlyServerURL": "https://plot.ly"
       },
       "data": [
        {
         "hovertemplate": "color=ependymoma<br>PC 1=%{x}<br>PC 2=%{y}<br>PC 3=%{z}<extra></extra>",
         "legendgroup": "ependymoma",
         "marker": {
          "color": "#636efa",
          "symbol": "circle"
         },
         "mode": "markers",
         "name": "ependymoma",
         "scene": "scene",
         "showlegend": true,
         "type": "scatter3d",
         "x": [
          165.16263565618033,
          85.2265750457366,
          70.26897104304335,
          -101.58835660886017,
          65.80711405839291,
          124.9756797785802,
          155.78115798728194,
          108.61753020423913,
          110.61677919953289,
          149.66021512839666,
          -124.09150805697823,
          63.415581262871484,
          123.3699889100325,
          -78.54321482536939,
          91.570535228443,
          -48.13960568026056,
          133.56398503428406,
          97.85971511520259,
          -47.66029143546074,
          90.09696102628934,
          94.305718153044,
          83.72696915095906,
          -64.53166714328462,
          -44.257948523511594,
          119.75787025925585,
          141.54691254933272,
          60.88751097652297,
          124.66385615042688,
          -35.55096013045374,
          -125.242335721184,
          -117.27419783394066,
          133.5088742240715,
          184.32844238649665,
          -39.538303006438525,
          87.11164386126322,
          -138.566750954809,
          -156.86481895670286,
          -138.89153456944663,
          -124.4113597418492,
          -111.26155054822227,
          -121.67783376861993,
          -101.52942200860625,
          -131.78030956170977,
          -100.83923917932468,
          -125.01565059829719,
          -127.82053549620882
         ],
         "y": [
          5.242751614427586,
          -53.09842828800059,
          -68.29230959924404,
          -47.66933138560529,
          -55.92151818035895,
          -20.11567409043372,
          -40.9657486871467,
          -41.41264138492001,
          -33.088421303893405,
          -37.41693176326231,
          -93.14691659775244,
          -9.492389721152808,
          -19.535902546077242,
          -29.19983007531608,
          -96.79480156049821,
          -65.62274461472967,
          -39.397207422693604,
          -69.34239381585046,
          -103.19089971623286,
          -89.27976461113101,
          -67.4491367197434,
          -49.58309134491727,
          -75.12201236315828,
          -97.28487257706773,
          -67.40874700716802,
          -65.58901613038691,
          -56.30163866474745,
          -44.294810866578864,
          -88.28512473127846,
          -68.4887208966009,
          -105.33399475399797,
          -35.669296225696485,
          22.19257663331491,
          -26.989637011168877,
          -62.357011737260116,
          -81.65066535905136,
          -35.387679069962694,
          -91.60853471481582,
          -63.750315962331584,
          -88.42270730417009,
          -20.15629636676613,
          -51.735636663078324,
          -31.2948886180427,
          -41.671813191409356,
          -13.718301844664861,
          0.20522963653868007
         ],
         "z": [
          87.72925186177102,
          -66.32941684325674,
          -4.753818950547827,
          -18.942245834581637,
          2.937924783597906,
          40.215173662650166,
          31.88492725888036,
          23.730538907533898,
          54.34580928770943,
          50.32690988276601,
          56.78257572763388,
          26.813745829103183,
          2.1470103020222786,
          -69.89199797020055,
          -15.906732647271719,
          -0.08073005601658978,
          19.977919211598397,
          32.34218807169991,
          -39.659395291495336,
          7.605764817612222,
          7.208303769460025,
          -67.26587199788096,
          -6.085017436052455,
          2.196778792121525,
          34.93092681158245,
          37.88300514067328,
          -1.5781199009256144,
          15.304790685284475,
          57.96738562012048,
          -9.55532910101306,
          25.920030071807,
          -16.786039419959767,
          99.15055384121797,
          66.20219724662117,
          -21.68089875006656,
          -0.5241789395943031,
          -67.53768178070472,
          -19.609298154234235,
          22.15330886001686,
          53.00474822727026,
          -3.073651876007289,
          77.70319569715623,
          4.685562216915303,
          17.732144538778098,
          114.25363662447182,
          132.7867541390827
         ]
        },
        {
         "hovertemplate": "color=glioblastoma<br>PC 1=%{x}<br>PC 2=%{y}<br>PC 3=%{z}<extra></extra>",
         "legendgroup": "glioblastoma",
         "marker": {
          "color": "#EF553B",
          "symbol": "circle"
         },
         "mode": "markers",
         "name": "glioblastoma",
         "scene": "scene",
         "showlegend": true,
         "type": "scatter3d",
         "x": [
          90.5000639415078,
          97.16789538745844,
          -105.85170764715912,
          -100.09201441753528,
          -90.34585865952917,
          113.56579338713537,
          92.61557080423971,
          161.8353414182267,
          102.07777860704984,
          161.90316647763794,
          94.71856496163565,
          127.29715687868449,
          85.36409577203541,
          117.21766566701241,
          76.75990269439454,
          -45.50387898593782,
          -129.4484290173653,
          -105.69117668060326,
          -129.3817202823924,
          -106.44186140174654,
          154.1236277619316,
          86.66135567480555,
          219.73586926972493,
          75.536545815635,
          -159.88006312878852,
          61.65470826121335,
          98.76088434678132,
          -140.95976789213933,
          -135.52301567765855,
          -120.32591321410324,
          -123.07180321312083,
          -92.85195616221736,
          -130.78701331347884,
          -94.76739923930093
         ],
         "y": [
          -37.63408916904132,
          34.32981742209551,
          -19.829049630069143,
          -14.169685721428934,
          -20.805914646804577,
          -60.211105535268224,
          -0.7679070929426051,
          -12.796016464394496,
          2.3088224150478593,
          43.99763055484643,
          -36.740299408979226,
          46.687279259072966,
          -15.60460282601884,
          17.030755505449925,
          -6.538083338882896,
          -75.40030597043577,
          5.996877030053568,
          -46.891964444260665,
          15.000914578808866,
          30.180021756002517,
          28.293164055661357,
          -24.698935631932773,
          63.11445479266106,
          -2.1882374977388226,
          -51.76113301837331,
          -12.914239661274392,
          -37.43821995745661,
          -54.450237822306015,
          57.16493701460997,
          1.1407098202410773,
          -48.290913290931336,
          -43.328521421810635,
          -25.801996261633597,
          -23.073834505931494
         ],
         "z": [
          14.837606046833287,
          -66.28615834523146,
          -29.86937565823791,
          41.07983304634199,
          56.19899596732866,
          -19.20772802291105,
          0.5062595133054718,
          26.76912737657408,
          -69.65381210902521,
          -20.24898829048676,
          -25.359193344502856,
          -22.180051594614213,
          -73.94422442840224,
          -41.517195407976466,
          -111.19663699966321,
          -22.860025311351247,
          -39.283410064302394,
          0.5700574559713131,
          -28.908528726059004,
          -20.715871149077067,
          22.29013739632443,
          57.51464755385105,
          5.73711149365481,
          -10.749233531021376,
          -36.07422441201624,
          -56.09569851312817,
          -35.98735213952054,
          -8.768644448597579,
          54.27519331429669,
          58.781537241688675,
          -22.749185642339953,
          -8.118465192163454,
          -21.377156069080424,
          30.967403081226372
         ]
        },
        {
         "hovertemplate": "color=medulloblastoma<br>PC 1=%{x}<br>PC 2=%{y}<br>PC 3=%{z}<extra></extra>",
         "legendgroup": "medulloblastoma",
         "marker": {
          "color": "#00cc96",
          "symbol": "circle"
         },
         "mode": "markers",
         "name": "medulloblastoma",
         "scene": "scene",
         "showlegend": true,
         "type": "scatter3d",
         "x": [
          -114.52874403883229,
          115.99038568813606,
          127.72269115810266,
          105.39442443559075,
          151.07018425479953,
          -110.75052033536437,
          89.48734831508345,
          142.16813358775894,
          45.55343594461948,
          -118.28707535924302,
          72.46737463524232,
          33.19131602136886,
          -130.83052922636122,
          -130.89094039262207,
          -154.31674476176403,
          -38.105169520325155,
          -91.70614557288076,
          -140.3256265773935,
          -87.6998201514397,
          -106.52665915637749,
          -130.09165314718587,
          -43.37820671237478
         ],
         "y": [
          163.38486965504018,
          92.5423249154144,
          98.8356039931811,
          76.9780072250345,
          107.2353469813685,
          84.04089920770083,
          62.90538960307202,
          124.009756599568,
          70.05218522316525,
          -14.685732395799295,
          36.01285874316162,
          25.318370667366132,
          102.65957122466189,
          53.704444718934695,
          57.453527373169266,
          89.99966386358975,
          86.55296541833141,
          73.1655821614553,
          72.69901516796429,
          87.77182762476254,
          84.74283569390526,
          8.776277385375348
         ],
         "z": [
          4.962044720026959,
          -93.82841255647747,
          -66.24099226348885,
          -107.18336854079332,
          -60.1916492063168,
          -73.03897504574113,
          -114.16025565948549,
          -63.38537921298739,
          -137.01266411179236,
          -13.894610649941109,
          -136.504214782727,
          -113.54571450949103,
          -109.23717353798143,
          -83.08630340612916,
          -131.9201054348607,
          -96.04597700612167,
          -75.71005925862447,
          -153.26955047296815,
          -51.4748591013984,
          -85.04471912290326,
          -51.83468605130494,
          -80.76304947465307
         ]
        },
        {
         "hovertemplate": "color=normal<br>PC 1=%{x}<br>PC 2=%{y}<br>PC 3=%{z}<extra></extra>",
         "legendgroup": "normal",
         "marker": {
          "color": "#ab63fa",
          "symbol": "circle"
         },
         "mode": "markers",
         "name": "normal",
         "scene": "scene",
         "showlegend": true,
         "type": "scatter3d",
         "x": [
          -30.74037293040562,
          115.95222716574666,
          -78.13772032184941,
          42.28531363246821,
          -101.80848488149854,
          -86.95188364545533,
          -92.46631258713413,
          145.82400508346302,
          -72.10953745831485,
          6.079000373780237,
          -99.50431080162673,
          -102.18895459920861,
          21.947542568574896
         ],
         "y": [
          104.91156497275261,
          97.93872566321384,
          65.59582720166388,
          209.4667156684877,
          119.59841644832886,
          128.81085462656608,
          136.40416850729432,
          58.75750098540242,
          114.92943255190177,
          86.66361507367239,
          113.33903700349876,
          107.45211166842452,
          109.86833303617979
         ],
         "z": [
          -16.065093117024237,
          65.7526176739952,
          126.60138586983686,
          244.83658438016298,
          88.74382879994108,
          118.68544985987442,
          107.74159895678629,
          55.96690799819066,
          23.75454228949865,
          97.42468469982639,
          83.08606438249043,
          80.9434747972746,
          109.38924467674688
         ]
        },
        {
         "hovertemplate": "color=pilocytic_astrocytoma<br>PC 1=%{x}<br>PC 2=%{y}<br>PC 3=%{z}<extra></extra>",
         "legendgroup": "pilocytic_astrocytoma",
         "marker": {
          "color": "#FFA15A",
          "symbol": "circle"
         },
         "mode": "markers",
         "name": "pilocytic_astrocytoma",
         "scene": "scene",
         "showlegend": true,
         "type": "scatter3d",
         "x": [
          77.89105176312371,
          61.78308322150121,
          67.43770743031988,
          219.42161877506575,
          177.26733857388928,
          109.52491201039163,
          100.40362092044248,
          -91.77427702159984,
          -101.22920867120395,
          51.58535051754223,
          -104.6945020269954,
          -42.57959652494603,
          -116.93246054292464,
          -119.7389549648946,
          -109.4798903811648
         ],
         "y": [
          -32.44239306384836,
          -45.47025632133387,
          -30.82513723269394,
          20.68990240522659,
          35.420547182182474,
          -27.888634648925517,
          -51.66069226123058,
          -33.381284648608684,
          -44.84309040833226,
          -47.54495764194242,
          -33.49827779968507,
          -25.177086321507552,
          -38.58223219317102,
          -10.468292957096443,
          8.767148170603223
         ],
         "z": [
          -17.39780313841317,
          35.55509234171427,
          -6.502572155933275,
          52.917199842428325,
          73.47717762756936,
          7.110132489410465,
          20.05391081579264,
          44.56516072207013,
          7.6240185715309865,
          -0.9253198901514456,
          20.128360082193492,
          12.666952431442336,
          42.74520633882583,
          36.921862354279575,
          21.570617960763727
         ]
        }
       ],
       "layout": {
        "legend": {
         "title": {
          "text": "color"
         },
         "tracegroupgap": 0
        },
        "scene": {
         "domain": {
          "x": [
           0,
           1
          ],
          "y": [
           0,
           1
          ]
         },
         "xaxis": {
          "title": {
           "text": "PC 1"
          }
         },
         "yaxis": {
          "title": {
           "text": "PC 2"
          }
         },
         "zaxis": {
          "title": {
           "text": "PC 3"
          }
         }
        },
        "template": {
         "data": {
          "bar": [
           {
            "error_x": {
             "color": "#2a3f5f"
            },
            "error_y": {
             "color": "#2a3f5f"
            },
            "marker": {
             "line": {
              "color": "#E5ECF6",
              "width": 0.5
             },
             "pattern": {
              "fillmode": "overlay",
              "size": 10,
              "solidity": 0.2
             }
            },
            "type": "bar"
           }
          ],
          "barpolar": [
           {
            "marker": {
             "line": {
              "color": "#E5ECF6",
              "width": 0.5
             },
             "pattern": {
              "fillmode": "overlay",
              "size": 10,
              "solidity": 0.2
             }
            },
            "type": "barpolar"
           }
          ],
          "carpet": [
           {
            "aaxis": {
             "endlinecolor": "#2a3f5f",
             "gridcolor": "white",
             "linecolor": "white",
             "minorgridcolor": "white",
             "startlinecolor": "#2a3f5f"
            },
            "baxis": {
             "endlinecolor": "#2a3f5f",
             "gridcolor": "white",
             "linecolor": "white",
             "minorgridcolor": "white",
             "startlinecolor": "#2a3f5f"
            },
            "type": "carpet"
           }
          ],
          "choropleth": [
           {
            "colorbar": {
             "outlinewidth": 0,
             "ticks": ""
            },
            "type": "choropleth"
           }
          ],
          "contour": [
           {
            "colorbar": {
             "outlinewidth": 0,
             "ticks": ""
            },
            "colorscale": [
             [
              0,
              "#0d0887"
             ],
             [
              0.1111111111111111,
              "#46039f"
             ],
             [
              0.2222222222222222,
              "#7201a8"
             ],
             [
              0.3333333333333333,
              "#9c179e"
             ],
             [
              0.4444444444444444,
              "#bd3786"
             ],
             [
              0.5555555555555556,
              "#d8576b"
             ],
             [
              0.6666666666666666,
              "#ed7953"
             ],
             [
              0.7777777777777778,
              "#fb9f3a"
             ],
             [
              0.8888888888888888,
              "#fdca26"
             ],
             [
              1,
              "#f0f921"
             ]
            ],
            "type": "contour"
           }
          ],
          "contourcarpet": [
           {
            "colorbar": {
             "outlinewidth": 0,
             "ticks": ""
            },
            "type": "contourcarpet"
           }
          ],
          "heatmap": [
           {
            "colorbar": {
             "outlinewidth": 0,
             "ticks": ""
            },
            "colorscale": [
             [
              0,
              "#0d0887"
             ],
             [
              0.1111111111111111,
              "#46039f"
             ],
             [
              0.2222222222222222,
              "#7201a8"
             ],
             [
              0.3333333333333333,
              "#9c179e"
             ],
             [
              0.4444444444444444,
              "#bd3786"
             ],
             [
              0.5555555555555556,
              "#d8576b"
             ],
             [
              0.6666666666666666,
              "#ed7953"
             ],
             [
              0.7777777777777778,
              "#fb9f3a"
             ],
             [
              0.8888888888888888,
              "#fdca26"
             ],
             [
              1,
              "#f0f921"
             ]
            ],
            "type": "heatmap"
           }
          ],
          "heatmapgl": [
           {
            "colorbar": {
             "outlinewidth": 0,
             "ticks": ""
            },
            "colorscale": [
             [
              0,
              "#0d0887"
             ],
             [
              0.1111111111111111,
              "#46039f"
             ],
             [
              0.2222222222222222,
              "#7201a8"
             ],
             [
              0.3333333333333333,
              "#9c179e"
             ],
             [
              0.4444444444444444,
              "#bd3786"
             ],
             [
              0.5555555555555556,
              "#d8576b"
             ],
             [
              0.6666666666666666,
              "#ed7953"
             ],
             [
              0.7777777777777778,
              "#fb9f3a"
             ],
             [
              0.8888888888888888,
              "#fdca26"
             ],
             [
              1,
              "#f0f921"
             ]
            ],
            "type": "heatmapgl"
           }
          ],
          "histogram": [
           {
            "marker": {
             "pattern": {
              "fillmode": "overlay",
              "size": 10,
              "solidity": 0.2
             }
            },
            "type": "histogram"
           }
          ],
          "histogram2d": [
           {
            "colorbar": {
             "outlinewidth": 0,
             "ticks": ""
            },
            "colorscale": [
             [
              0,
              "#0d0887"
             ],
             [
              0.1111111111111111,
              "#46039f"
             ],
             [
              0.2222222222222222,
              "#7201a8"
             ],
             [
              0.3333333333333333,
              "#9c179e"
             ],
             [
              0.4444444444444444,
              "#bd3786"
             ],
             [
              0.5555555555555556,
              "#d8576b"
             ],
             [
              0.6666666666666666,
              "#ed7953"
             ],
             [
              0.7777777777777778,
              "#fb9f3a"
             ],
             [
              0.8888888888888888,
              "#fdca26"
             ],
             [
              1,
              "#f0f921"
             ]
            ],
            "type": "histogram2d"
           }
          ],
          "histogram2dcontour": [
           {
            "colorbar": {
             "outlinewidth": 0,
             "ticks": ""
            },
            "colorscale": [
             [
              0,
              "#0d0887"
             ],
             [
              0.1111111111111111,
              "#46039f"
             ],
             [
              0.2222222222222222,
              "#7201a8"
             ],
             [
              0.3333333333333333,
              "#9c179e"
             ],
             [
              0.4444444444444444,
              "#bd3786"
             ],
             [
              0.5555555555555556,
              "#d8576b"
             ],
             [
              0.6666666666666666,
              "#ed7953"
             ],
             [
              0.7777777777777778,
              "#fb9f3a"
             ],
             [
              0.8888888888888888,
              "#fdca26"
             ],
             [
              1,
              "#f0f921"
             ]
            ],
            "type": "histogram2dcontour"
           }
          ],
          "mesh3d": [
           {
            "colorbar": {
             "outlinewidth": 0,
             "ticks": ""
            },
            "type": "mesh3d"
           }
          ],
          "parcoords": [
           {
            "line": {
             "colorbar": {
              "outlinewidth": 0,
              "ticks": ""
             }
            },
            "type": "parcoords"
           }
          ],
          "pie": [
           {
            "automargin": true,
            "type": "pie"
           }
          ],
          "scatter": [
           {
            "marker": {
             "colorbar": {
              "outlinewidth": 0,
              "ticks": ""
             }
            },
            "type": "scatter"
           }
          ],
          "scatter3d": [
           {
            "line": {
             "colorbar": {
              "outlinewidth": 0,
              "ticks": ""
             }
            },
            "marker": {
             "colorbar": {
              "outlinewidth": 0,
              "ticks": ""
             }
            },
            "type": "scatter3d"
           }
          ],
          "scattercarpet": [
           {
            "marker": {
             "colorbar": {
              "outlinewidth": 0,
              "ticks": ""
             }
            },
            "type": "scattercarpet"
           }
          ],
          "scattergeo": [
           {
            "marker": {
             "colorbar": {
              "outlinewidth": 0,
              "ticks": ""
             }
            },
            "type": "scattergeo"
           }
          ],
          "scattergl": [
           {
            "marker": {
             "colorbar": {
              "outlinewidth": 0,
              "ticks": ""
             }
            },
            "type": "scattergl"
           }
          ],
          "scattermapbox": [
           {
            "marker": {
             "colorbar": {
              "outlinewidth": 0,
              "ticks": ""
             }
            },
            "type": "scattermapbox"
           }
          ],
          "scatterpolar": [
           {
            "marker": {
             "colorbar": {
              "outlinewidth": 0,
              "ticks": ""
             }
            },
            "type": "scatterpolar"
           }
          ],
          "scatterpolargl": [
           {
            "marker": {
             "colorbar": {
              "outlinewidth": 0,
              "ticks": ""
             }
            },
            "type": "scatterpolargl"
           }
          ],
          "scatterternary": [
           {
            "marker": {
             "colorbar": {
              "outlinewidth": 0,
              "ticks": ""
             }
            },
            "type": "scatterternary"
           }
          ],
          "surface": [
           {
            "colorbar": {
             "outlinewidth": 0,
             "ticks": ""
            },
            "colorscale": [
             [
              0,
              "#0d0887"
             ],
             [
              0.1111111111111111,
              "#46039f"
             ],
             [
              0.2222222222222222,
              "#7201a8"
             ],
             [
              0.3333333333333333,
              "#9c179e"
             ],
             [
              0.4444444444444444,
              "#bd3786"
             ],
             [
              0.5555555555555556,
              "#d8576b"
             ],
             [
              0.6666666666666666,
              "#ed7953"
             ],
             [
              0.7777777777777778,
              "#fb9f3a"
             ],
             [
              0.8888888888888888,
              "#fdca26"
             ],
             [
              1,
              "#f0f921"
             ]
            ],
            "type": "surface"
           }
          ],
          "table": [
           {
            "cells": {
             "fill": {
              "color": "#EBF0F8"
             },
             "line": {
              "color": "white"
             }
            },
            "header": {
             "fill": {
              "color": "#C8D4E3"
             },
             "line": {
              "color": "white"
             }
            },
            "type": "table"
           }
          ]
         },
         "layout": {
          "annotationdefaults": {
           "arrowcolor": "#2a3f5f",
           "arrowhead": 0,
           "arrowwidth": 1
          },
          "autotypenumbers": "strict",
          "coloraxis": {
           "colorbar": {
            "outlinewidth": 0,
            "ticks": ""
           }
          },
          "colorscale": {
           "diverging": [
            [
             0,
             "#8e0152"
            ],
            [
             0.1,
             "#c51b7d"
            ],
            [
             0.2,
             "#de77ae"
            ],
            [
             0.3,
             "#f1b6da"
            ],
            [
             0.4,
             "#fde0ef"
            ],
            [
             0.5,
             "#f7f7f7"
            ],
            [
             0.6,
             "#e6f5d0"
            ],
            [
             0.7,
             "#b8e186"
            ],
            [
             0.8,
             "#7fbc41"
            ],
            [
             0.9,
             "#4d9221"
            ],
            [
             1,
             "#276419"
            ]
           ],
           "sequential": [
            [
             0,
             "#0d0887"
            ],
            [
             0.1111111111111111,
             "#46039f"
            ],
            [
             0.2222222222222222,
             "#7201a8"
            ],
            [
             0.3333333333333333,
             "#9c179e"
            ],
            [
             0.4444444444444444,
             "#bd3786"
            ],
            [
             0.5555555555555556,
             "#d8576b"
            ],
            [
             0.6666666666666666,
             "#ed7953"
            ],
            [
             0.7777777777777778,
             "#fb9f3a"
            ],
            [
             0.8888888888888888,
             "#fdca26"
            ],
            [
             1,
             "#f0f921"
            ]
           ],
           "sequentialminus": [
            [
             0,
             "#0d0887"
            ],
            [
             0.1111111111111111,
             "#46039f"
            ],
            [
             0.2222222222222222,
             "#7201a8"
            ],
            [
             0.3333333333333333,
             "#9c179e"
            ],
            [
             0.4444444444444444,
             "#bd3786"
            ],
            [
             0.5555555555555556,
             "#d8576b"
            ],
            [
             0.6666666666666666,
             "#ed7953"
            ],
            [
             0.7777777777777778,
             "#fb9f3a"
            ],
            [
             0.8888888888888888,
             "#fdca26"
            ],
            [
             1,
             "#f0f921"
            ]
           ]
          },
          "colorway": [
           "#636efa",
           "#EF553B",
           "#00cc96",
           "#ab63fa",
           "#FFA15A",
           "#19d3f3",
           "#FF6692",
           "#B6E880",
           "#FF97FF",
           "#FECB52"
          ],
          "font": {
           "color": "#2a3f5f"
          },
          "geo": {
           "bgcolor": "white",
           "lakecolor": "white",
           "landcolor": "#E5ECF6",
           "showlakes": true,
           "showland": true,
           "subunitcolor": "white"
          },
          "hoverlabel": {
           "align": "left"
          },
          "hovermode": "closest",
          "mapbox": {
           "style": "light"
          },
          "paper_bgcolor": "white",
          "plot_bgcolor": "#E5ECF6",
          "polar": {
           "angularaxis": {
            "gridcolor": "white",
            "linecolor": "white",
            "ticks": ""
           },
           "bgcolor": "#E5ECF6",
           "radialaxis": {
            "gridcolor": "white",
            "linecolor": "white",
            "ticks": ""
           }
          },
          "scene": {
           "xaxis": {
            "backgroundcolor": "#E5ECF6",
            "gridcolor": "white",
            "gridwidth": 2,
            "linecolor": "white",
            "showbackground": true,
            "ticks": "",
            "zerolinecolor": "white"
           },
           "yaxis": {
            "backgroundcolor": "#E5ECF6",
            "gridcolor": "white",
            "gridwidth": 2,
            "linecolor": "white",
            "showbackground": true,
            "ticks": "",
            "zerolinecolor": "white"
           },
           "zaxis": {
            "backgroundcolor": "#E5ECF6",
            "gridcolor": "white",
            "gridwidth": 2,
            "linecolor": "white",
            "showbackground": true,
            "ticks": "",
            "zerolinecolor": "white"
           }
          },
          "shapedefaults": {
           "line": {
            "color": "#2a3f5f"
           }
          },
          "ternary": {
           "aaxis": {
            "gridcolor": "white",
            "linecolor": "white",
            "ticks": ""
           },
           "baxis": {
            "gridcolor": "white",
            "linecolor": "white",
            "ticks": ""
           },
           "bgcolor": "#E5ECF6",
           "caxis": {
            "gridcolor": "white",
            "linecolor": "white",
            "ticks": ""
           }
          },
          "title": {
           "x": 0.05
          },
          "xaxis": {
           "automargin": true,
           "gridcolor": "white",
           "linecolor": "white",
           "ticks": "",
           "title": {
            "standoff": 15
           },
           "zerolinecolor": "white",
           "zerolinewidth": 2
          },
          "yaxis": {
           "automargin": true,
           "gridcolor": "white",
           "linecolor": "white",
           "ticks": "",
           "title": {
            "standoff": 15
           },
           "zerolinecolor": "white",
           "zerolinewidth": 2
          }
         }
        },
        "title": {
         "text": "Total Explained Variance: 37.76%"
        }
       }
      }
     },
     "metadata": {},
     "output_type": "display_data"
    }
   ],
   "source": [
    "pca = PCA(n_components=3)\n",
    "components = pca.fit_transform(X)\n",
    "total_var = pca.explained_variance_ratio_.sum() * 100\n",
    "\n",
    "fig = px.scatter_3d(\n",
    "    components, x=0, y=1, z=2, color=y,\n",
    "    title=f'Total Explained Variance: {total_var:.2f}%',\n",
    "    labels={'0': 'PC 1', '1': 'PC 2', '2': 'PC 3'}\n",
    ")\n",
    "fig.show()"
   ]
  },
  {
   "cell_type": "code",
   "execution_count": 168,
   "metadata": {},
   "outputs": [
    {
     "data": {
      "application/vnd.plotly.v1+json": {
       "config": {
        "plotlyServerURL": "https://plot.ly"
       },
       "data": [
        {
         "hovertemplate": "# Components=%{x}<br>Explained Variance=%{y}<extra></extra>",
         "legendgroup": "",
         "line": {
          "color": "#636efa"
         },
         "marker": {
          "symbol": "circle"
         },
         "mode": "lines",
         "name": "",
         "orientation": "v",
         "showlegend": false,
         "stackgroup": "1",
         "type": "scatter",
         "x": [
          1,
          2,
          3,
          4,
          5,
          6,
          7,
          8,
          9,
          10,
          11,
          12,
          13,
          14,
          15,
          16,
          17,
          18,
          19,
          20,
          21,
          22,
          23,
          24,
          25,
          26,
          27,
          28,
          29,
          30,
          31,
          32,
          33,
          34,
          35,
          36,
          37,
          38,
          39,
          40,
          41,
          42,
          43,
          44,
          45,
          46,
          47,
          48,
          49,
          50,
          51,
          52,
          53,
          54,
          55,
          56,
          57,
          58,
          59,
          60,
          61,
          62,
          63,
          64,
          65,
          66,
          67,
          68,
          69,
          70,
          71,
          72,
          73,
          74,
          75,
          76,
          77,
          78,
          79,
          80,
          81,
          82,
          83,
          84,
          85,
          86,
          87,
          88,
          89,
          90,
          91,
          92,
          93,
          94,
          95,
          96,
          97,
          98,
          99,
          100,
          101,
          102,
          103,
          104,
          105,
          106,
          107,
          108,
          109,
          110,
          111,
          112,
          113,
          114,
          115,
          116,
          117,
          118,
          119,
          120,
          121,
          122,
          123,
          124,
          125,
          126,
          127,
          128,
          129,
          130
         ],
         "xaxis": "x",
         "y": [
          0.2240524530798,
          0.30321328580746054,
          0.37755271276659436,
          0.4305906198149849,
          0.47445640458235094,
          0.5057750426780938,
          0.5309677320536952,
          0.5533618083788951,
          0.5723196155161369,
          0.589681391372076,
          0.6051495675763674,
          0.6199760479948643,
          0.6334873523641958,
          0.6443982392573361,
          0.654154449196092,
          0.6631060392340123,
          0.6717570399451999,
          0.6797420149095278,
          0.6875514830887608,
          0.69497682801087,
          0.7020835934146804,
          0.7088645158301163,
          0.7155588999657244,
          0.7218802142654636,
          0.7280337580294084,
          0.7340999918560551,
          0.7399280379917663,
          0.7456345376085709,
          0.751193278833816,
          0.7565291567287572,
          0.7616160922178813,
          0.7665829615066214,
          0.7714546314839319,
          0.7762113114493457,
          0.7809180671186213,
          0.7854420288205073,
          0.7898875476923116,
          0.7942392193879889,
          0.7984280339224036,
          0.8026019410464106,
          0.8066198941633532,
          0.8105905554045304,
          0.8144481303324347,
          0.8182966524178772,
          0.8220841902355482,
          0.8257133343963525,
          0.829315605609992,
          0.832870440600584,
          0.8363037637072971,
          0.8397170075730009,
          0.8430904354742788,
          0.8464113560471377,
          0.8496024119291472,
          0.852748199338818,
          0.8558719697163554,
          0.8589585584082856,
          0.861975508667069,
          0.864950494337978,
          0.8679147928876892,
          0.8707860996475474,
          0.8736239810330247,
          0.8764361187882832,
          0.8791658078807849,
          0.8818823507469108,
          0.8845883841952905,
          0.8872692455822325,
          0.8899007579213413,
          0.8925051875869484,
          0.8950663896132807,
          0.8975932230741227,
          0.9000590159308606,
          0.9024927974967056,
          0.9049059476840782,
          0.9072863234229201,
          0.9096430372958141,
          0.9119571971131126,
          0.914243485453269,
          0.9165163758212759,
          0.9187602497827387,
          0.9209738145207048,
          0.9231372096061367,
          0.9252830156584164,
          0.927424626948563,
          0.9295361076953069,
          0.9316100485791375,
          0.93366125648777,
          0.9356812953371828,
          0.9376782984086522,
          0.9396564170974141,
          0.94162732489158,
          0.9435482066317292,
          0.9454487419336395,
          0.9473407206650737,
          0.9491963244044461,
          0.9510381437424164,
          0.9528290036188829,
          0.9546097442126925,
          0.9563791594740781,
          0.9581087334744652,
          0.9598151350930881,
          0.96151265063028,
          0.9631884706559186,
          0.9648413989083306,
          0.9664747931803802,
          0.968093858160958,
          0.9696882895535317,
          0.9712720764043371,
          0.9728326351054998,
          0.9743523768816624,
          0.9758356656817623,
          0.9773145145502633,
          0.9787704472178383,
          0.9802193608049187,
          0.9816368059651138,
          0.9830263887959861,
          0.9843952955745151,
          0.9857347939719752,
          0.9870618838621515,
          0.9883796576749609,
          0.9896610959440046,
          0.990934279366398,
          0.992191236144334,
          0.9934106090083227,
          0.9945987319982276,
          0.9957549764952052,
          0.9968574923128305,
          0.9979407825696835,
          0.9989875841305778,
          1,
          1
         ],
         "yaxis": "y"
        }
       ],
       "layout": {
        "legend": {
         "tracegroupgap": 0
        },
        "margin": {
         "t": 60
        },
        "template": {
         "data": {
          "bar": [
           {
            "error_x": {
             "color": "#2a3f5f"
            },
            "error_y": {
             "color": "#2a3f5f"
            },
            "marker": {
             "line": {
              "color": "#E5ECF6",
              "width": 0.5
             },
             "pattern": {
              "fillmode": "overlay",
              "size": 10,
              "solidity": 0.2
             }
            },
            "type": "bar"
           }
          ],
          "barpolar": [
           {
            "marker": {
             "line": {
              "color": "#E5ECF6",
              "width": 0.5
             },
             "pattern": {
              "fillmode": "overlay",
              "size": 10,
              "solidity": 0.2
             }
            },
            "type": "barpolar"
           }
          ],
          "carpet": [
           {
            "aaxis": {
             "endlinecolor": "#2a3f5f",
             "gridcolor": "white",
             "linecolor": "white",
             "minorgridcolor": "white",
             "startlinecolor": "#2a3f5f"
            },
            "baxis": {
             "endlinecolor": "#2a3f5f",
             "gridcolor": "white",
             "linecolor": "white",
             "minorgridcolor": "white",
             "startlinecolor": "#2a3f5f"
            },
            "type": "carpet"
           }
          ],
          "choropleth": [
           {
            "colorbar": {
             "outlinewidth": 0,
             "ticks": ""
            },
            "type": "choropleth"
           }
          ],
          "contour": [
           {
            "colorbar": {
             "outlinewidth": 0,
             "ticks": ""
            },
            "colorscale": [
             [
              0,
              "#0d0887"
             ],
             [
              0.1111111111111111,
              "#46039f"
             ],
             [
              0.2222222222222222,
              "#7201a8"
             ],
             [
              0.3333333333333333,
              "#9c179e"
             ],
             [
              0.4444444444444444,
              "#bd3786"
             ],
             [
              0.5555555555555556,
              "#d8576b"
             ],
             [
              0.6666666666666666,
              "#ed7953"
             ],
             [
              0.7777777777777778,
              "#fb9f3a"
             ],
             [
              0.8888888888888888,
              "#fdca26"
             ],
             [
              1,
              "#f0f921"
             ]
            ],
            "type": "contour"
           }
          ],
          "contourcarpet": [
           {
            "colorbar": {
             "outlinewidth": 0,
             "ticks": ""
            },
            "type": "contourcarpet"
           }
          ],
          "heatmap": [
           {
            "colorbar": {
             "outlinewidth": 0,
             "ticks": ""
            },
            "colorscale": [
             [
              0,
              "#0d0887"
             ],
             [
              0.1111111111111111,
              "#46039f"
             ],
             [
              0.2222222222222222,
              "#7201a8"
             ],
             [
              0.3333333333333333,
              "#9c179e"
             ],
             [
              0.4444444444444444,
              "#bd3786"
             ],
             [
              0.5555555555555556,
              "#d8576b"
             ],
             [
              0.6666666666666666,
              "#ed7953"
             ],
             [
              0.7777777777777778,
              "#fb9f3a"
             ],
             [
              0.8888888888888888,
              "#fdca26"
             ],
             [
              1,
              "#f0f921"
             ]
            ],
            "type": "heatmap"
           }
          ],
          "heatmapgl": [
           {
            "colorbar": {
             "outlinewidth": 0,
             "ticks": ""
            },
            "colorscale": [
             [
              0,
              "#0d0887"
             ],
             [
              0.1111111111111111,
              "#46039f"
             ],
             [
              0.2222222222222222,
              "#7201a8"
             ],
             [
              0.3333333333333333,
              "#9c179e"
             ],
             [
              0.4444444444444444,
              "#bd3786"
             ],
             [
              0.5555555555555556,
              "#d8576b"
             ],
             [
              0.6666666666666666,
              "#ed7953"
             ],
             [
              0.7777777777777778,
              "#fb9f3a"
             ],
             [
              0.8888888888888888,
              "#fdca26"
             ],
             [
              1,
              "#f0f921"
             ]
            ],
            "type": "heatmapgl"
           }
          ],
          "histogram": [
           {
            "marker": {
             "pattern": {
              "fillmode": "overlay",
              "size": 10,
              "solidity": 0.2
             }
            },
            "type": "histogram"
           }
          ],
          "histogram2d": [
           {
            "colorbar": {
             "outlinewidth": 0,
             "ticks": ""
            },
            "colorscale": [
             [
              0,
              "#0d0887"
             ],
             [
              0.1111111111111111,
              "#46039f"
             ],
             [
              0.2222222222222222,
              "#7201a8"
             ],
             [
              0.3333333333333333,
              "#9c179e"
             ],
             [
              0.4444444444444444,
              "#bd3786"
             ],
             [
              0.5555555555555556,
              "#d8576b"
             ],
             [
              0.6666666666666666,
              "#ed7953"
             ],
             [
              0.7777777777777778,
              "#fb9f3a"
             ],
             [
              0.8888888888888888,
              "#fdca26"
             ],
             [
              1,
              "#f0f921"
             ]
            ],
            "type": "histogram2d"
           }
          ],
          "histogram2dcontour": [
           {
            "colorbar": {
             "outlinewidth": 0,
             "ticks": ""
            },
            "colorscale": [
             [
              0,
              "#0d0887"
             ],
             [
              0.1111111111111111,
              "#46039f"
             ],
             [
              0.2222222222222222,
              "#7201a8"
             ],
             [
              0.3333333333333333,
              "#9c179e"
             ],
             [
              0.4444444444444444,
              "#bd3786"
             ],
             [
              0.5555555555555556,
              "#d8576b"
             ],
             [
              0.6666666666666666,
              "#ed7953"
             ],
             [
              0.7777777777777778,
              "#fb9f3a"
             ],
             [
              0.8888888888888888,
              "#fdca26"
             ],
             [
              1,
              "#f0f921"
             ]
            ],
            "type": "histogram2dcontour"
           }
          ],
          "mesh3d": [
           {
            "colorbar": {
             "outlinewidth": 0,
             "ticks": ""
            },
            "type": "mesh3d"
           }
          ],
          "parcoords": [
           {
            "line": {
             "colorbar": {
              "outlinewidth": 0,
              "ticks": ""
             }
            },
            "type": "parcoords"
           }
          ],
          "pie": [
           {
            "automargin": true,
            "type": "pie"
           }
          ],
          "scatter": [
           {
            "marker": {
             "colorbar": {
              "outlinewidth": 0,
              "ticks": ""
             }
            },
            "type": "scatter"
           }
          ],
          "scatter3d": [
           {
            "line": {
             "colorbar": {
              "outlinewidth": 0,
              "ticks": ""
             }
            },
            "marker": {
             "colorbar": {
              "outlinewidth": 0,
              "ticks": ""
             }
            },
            "type": "scatter3d"
           }
          ],
          "scattercarpet": [
           {
            "marker": {
             "colorbar": {
              "outlinewidth": 0,
              "ticks": ""
             }
            },
            "type": "scattercarpet"
           }
          ],
          "scattergeo": [
           {
            "marker": {
             "colorbar": {
              "outlinewidth": 0,
              "ticks": ""
             }
            },
            "type": "scattergeo"
           }
          ],
          "scattergl": [
           {
            "marker": {
             "colorbar": {
              "outlinewidth": 0,
              "ticks": ""
             }
            },
            "type": "scattergl"
           }
          ],
          "scattermapbox": [
           {
            "marker": {
             "colorbar": {
              "outlinewidth": 0,
              "ticks": ""
             }
            },
            "type": "scattermapbox"
           }
          ],
          "scatterpolar": [
           {
            "marker": {
             "colorbar": {
              "outlinewidth": 0,
              "ticks": ""
             }
            },
            "type": "scatterpolar"
           }
          ],
          "scatterpolargl": [
           {
            "marker": {
             "colorbar": {
              "outlinewidth": 0,
              "ticks": ""
             }
            },
            "type": "scatterpolargl"
           }
          ],
          "scatterternary": [
           {
            "marker": {
             "colorbar": {
              "outlinewidth": 0,
              "ticks": ""
             }
            },
            "type": "scatterternary"
           }
          ],
          "surface": [
           {
            "colorbar": {
             "outlinewidth": 0,
             "ticks": ""
            },
            "colorscale": [
             [
              0,
              "#0d0887"
             ],
             [
              0.1111111111111111,
              "#46039f"
             ],
             [
              0.2222222222222222,
              "#7201a8"
             ],
             [
              0.3333333333333333,
              "#9c179e"
             ],
             [
              0.4444444444444444,
              "#bd3786"
             ],
             [
              0.5555555555555556,
              "#d8576b"
             ],
             [
              0.6666666666666666,
              "#ed7953"
             ],
             [
              0.7777777777777778,
              "#fb9f3a"
             ],
             [
              0.8888888888888888,
              "#fdca26"
             ],
             [
              1,
              "#f0f921"
             ]
            ],
            "type": "surface"
           }
          ],
          "table": [
           {
            "cells": {
             "fill": {
              "color": "#EBF0F8"
             },
             "line": {
              "color": "white"
             }
            },
            "header": {
             "fill": {
              "color": "#C8D4E3"
             },
             "line": {
              "color": "white"
             }
            },
            "type": "table"
           }
          ]
         },
         "layout": {
          "annotationdefaults": {
           "arrowcolor": "#2a3f5f",
           "arrowhead": 0,
           "arrowwidth": 1
          },
          "autotypenumbers": "strict",
          "coloraxis": {
           "colorbar": {
            "outlinewidth": 0,
            "ticks": ""
           }
          },
          "colorscale": {
           "diverging": [
            [
             0,
             "#8e0152"
            ],
            [
             0.1,
             "#c51b7d"
            ],
            [
             0.2,
             "#de77ae"
            ],
            [
             0.3,
             "#f1b6da"
            ],
            [
             0.4,
             "#fde0ef"
            ],
            [
             0.5,
             "#f7f7f7"
            ],
            [
             0.6,
             "#e6f5d0"
            ],
            [
             0.7,
             "#b8e186"
            ],
            [
             0.8,
             "#7fbc41"
            ],
            [
             0.9,
             "#4d9221"
            ],
            [
             1,
             "#276419"
            ]
           ],
           "sequential": [
            [
             0,
             "#0d0887"
            ],
            [
             0.1111111111111111,
             "#46039f"
            ],
            [
             0.2222222222222222,
             "#7201a8"
            ],
            [
             0.3333333333333333,
             "#9c179e"
            ],
            [
             0.4444444444444444,
             "#bd3786"
            ],
            [
             0.5555555555555556,
             "#d8576b"
            ],
            [
             0.6666666666666666,
             "#ed7953"
            ],
            [
             0.7777777777777778,
             "#fb9f3a"
            ],
            [
             0.8888888888888888,
             "#fdca26"
            ],
            [
             1,
             "#f0f921"
            ]
           ],
           "sequentialminus": [
            [
             0,
             "#0d0887"
            ],
            [
             0.1111111111111111,
             "#46039f"
            ],
            [
             0.2222222222222222,
             "#7201a8"
            ],
            [
             0.3333333333333333,
             "#9c179e"
            ],
            [
             0.4444444444444444,
             "#bd3786"
            ],
            [
             0.5555555555555556,
             "#d8576b"
            ],
            [
             0.6666666666666666,
             "#ed7953"
            ],
            [
             0.7777777777777778,
             "#fb9f3a"
            ],
            [
             0.8888888888888888,
             "#fdca26"
            ],
            [
             1,
             "#f0f921"
            ]
           ]
          },
          "colorway": [
           "#636efa",
           "#EF553B",
           "#00cc96",
           "#ab63fa",
           "#FFA15A",
           "#19d3f3",
           "#FF6692",
           "#B6E880",
           "#FF97FF",
           "#FECB52"
          ],
          "font": {
           "color": "#2a3f5f"
          },
          "geo": {
           "bgcolor": "white",
           "lakecolor": "white",
           "landcolor": "#E5ECF6",
           "showlakes": true,
           "showland": true,
           "subunitcolor": "white"
          },
          "hoverlabel": {
           "align": "left"
          },
          "hovermode": "closest",
          "mapbox": {
           "style": "light"
          },
          "paper_bgcolor": "white",
          "plot_bgcolor": "#E5ECF6",
          "polar": {
           "angularaxis": {
            "gridcolor": "white",
            "linecolor": "white",
            "ticks": ""
           },
           "bgcolor": "#E5ECF6",
           "radialaxis": {
            "gridcolor": "white",
            "linecolor": "white",
            "ticks": ""
           }
          },
          "scene": {
           "xaxis": {
            "backgroundcolor": "#E5ECF6",
            "gridcolor": "white",
            "gridwidth": 2,
            "linecolor": "white",
            "showbackground": true,
            "ticks": "",
            "zerolinecolor": "white"
           },
           "yaxis": {
            "backgroundcolor": "#E5ECF6",
            "gridcolor": "white",
            "gridwidth": 2,
            "linecolor": "white",
            "showbackground": true,
            "ticks": "",
            "zerolinecolor": "white"
           },
           "zaxis": {
            "backgroundcolor": "#E5ECF6",
            "gridcolor": "white",
            "gridwidth": 2,
            "linecolor": "white",
            "showbackground": true,
            "ticks": "",
            "zerolinecolor": "white"
           }
          },
          "shapedefaults": {
           "line": {
            "color": "#2a3f5f"
           }
          },
          "ternary": {
           "aaxis": {
            "gridcolor": "white",
            "linecolor": "white",
            "ticks": ""
           },
           "baxis": {
            "gridcolor": "white",
            "linecolor": "white",
            "ticks": ""
           },
           "bgcolor": "#E5ECF6",
           "caxis": {
            "gridcolor": "white",
            "linecolor": "white",
            "ticks": ""
           }
          },
          "title": {
           "x": 0.05
          },
          "xaxis": {
           "automargin": true,
           "gridcolor": "white",
           "linecolor": "white",
           "ticks": "",
           "title": {
            "standoff": 15
           },
           "zerolinecolor": "white",
           "zerolinewidth": 2
          },
          "yaxis": {
           "automargin": true,
           "gridcolor": "white",
           "linecolor": "white",
           "ticks": "",
           "title": {
            "standoff": 15
           },
           "zerolinecolor": "white",
           "zerolinewidth": 2
          }
         }
        },
        "xaxis": {
         "anchor": "y",
         "domain": [
          0,
          1
         ],
         "title": {
          "text": "# Components"
         }
        },
        "yaxis": {
         "anchor": "x",
         "domain": [
          0,
          1
         ],
         "title": {
          "text": "Explained Variance"
         }
        }
       }
      }
     },
     "metadata": {},
     "output_type": "display_data"
    }
   ],
   "source": [
    "pca = PCA()\n",
    "pca.fit(X)\n",
    "exp_var_cumul = np.cumsum(pca.explained_variance_ratio_)\n",
    "\n",
    "px.area(\n",
    "    x=range(1, exp_var_cumul.shape[0] + 1),\n",
    "    y=exp_var_cumul,\n",
    "    labels={\"x\": \"# Components\", \"y\": \"Explained Variance\"}\n",
    ")"
   ]
  },
  {
   "cell_type": "code",
   "execution_count": 178,
   "metadata": {},
   "outputs": [
    {
     "data": {
      "application/vnd.plotly.v1+json": {
       "config": {
        "plotlyServerURL": "https://plot.ly"
       },
       "data": [
        {
         "hovertemplate": "color=ependymoma<br>0=%{x}<br>1=%{y}<extra></extra>",
         "legendgroup": "ependymoma",
         "marker": {
          "color": "#636efa",
          "symbol": "circle"
         },
         "mode": "markers",
         "name": "ependymoma",
         "orientation": "v",
         "showlegend": true,
         "type": "scatter",
         "x": [
          -38.80652618408203,
          -41.89406967163086,
          -44.10246658325195,
          48.58864974975586,
          -51.08314895629883,
          -47.39847946166992,
          -42.89535903930664,
          -50.35307693481445,
          -49.38087844848633,
          -50.789878845214844,
          38.899539947509766,
          -47.15617752075195,
          -47.242183685302734,
          19.90087127685547,
          -42.551998138427734,
          13.563423156738281,
          -44.224605560302734,
          -42.80731201171875,
          15.69071102142334,
          -41.13704299926758,
          -42.828147888183594,
          -48.26155090332031,
          18.50062370300293,
          15.358857154846191,
          -42.377601623535156,
          -46.98958206176758,
          -47.22265625,
          -46.847496032714844,
          16.799156188964844,
          45.45497131347656,
          43.215415954589844,
          -49.795005798339844,
          -38.30360794067383,
          47.34487533569336,
          -45.5832405090332,
          42.97759246826172,
          45.63227081298828,
          43.47444152832031,
          41.32844924926758,
          39.06760787963867,
          51.87348937988281,
          36.57725143432617,
          38.24586868286133,
          50.38667678833008,
          46.38236618041992,
          45.950748443603516
         ],
         "xaxis": "x",
         "y": [
          43.005088806152344,
          29.69532585144043,
          17.464441299438477,
          -6.292329788208008,
          43.45515060424805,
          37.67624282836914,
          6.546096324920654,
          37.929134368896484,
          40.71818542480469,
          40.12837219238281,
          -7.037539958953857,
          42.31500244140625,
          35.3460578918457,
          -7.852539539337158,
          27.914260864257812,
          -8.459078788757324,
          6.768238067626953,
          23.17999267578125,
          -10.13101863861084,
          26.297136306762695,
          19.387882232666016,
          17.011188507080078,
          -9.269346237182617,
          -11.496790885925293,
          21.561269760131836,
          26.98883819580078,
          20.85519790649414,
          28.79798126220703,
          -14.768388748168945,
          -7.7215576171875,
          -8.177894592285156,
          26.669387817382812,
          44.305335998535156,
          -1.3837361335754395,
          18.9178466796875,
          -5.610556125640869,
          -13.031011581420898,
          -10.171001434326172,
          -9.650077819824219,
          -10.184364318847656,
          -3.439748525619507,
          -11.087970733642578,
          -28.96381950378418,
          -3.625230312347412,
          4.027891635894775,
          5.354740142822266
         ],
         "yaxis": "y"
        },
        {
         "hovertemplate": "color=glioblastoma<br>0=%{x}<br>1=%{y}<extra></extra>",
         "legendgroup": "glioblastoma",
         "marker": {
          "color": "#EF553B",
          "symbol": "circle"
         },
         "mode": "markers",
         "name": "glioblastoma",
         "orientation": "v",
         "showlegend": true,
         "type": "scatter",
         "x": [
          -26.242414474487305,
          -18.112817764282227,
          41.007728576660156,
          38.693031311035156,
          36.35853576660156,
          -30.647619247436523,
          -26.108381271362305,
          -33.32152557373047,
          -29.395296096801758,
          -31.455001831054688,
          -26.961442947387695,
          -12.582432746887207,
          -19.52379035949707,
          -21.89396858215332,
          -37.25559997558594,
          12.916462898254395,
          34.19609451293945,
          50.226219177246094,
          34.6577262878418,
          35.19596481323242,
          -14.647713661193848,
          -16.890159606933594,
          -14.356619834899902,
          -22.848054885864258,
          54.998443603515625,
          -35.86493682861328,
          -37.03077697753906,
          53.23653793334961,
          27.397018432617188,
          28.392427444458008,
          55.174495697021484,
          57.64925765991211,
          54.91658401489258,
          34.8671875
         ],
         "xaxis": "x",
         "y": [
          7.8621039390563965,
          2.8912353515625,
          -23.787893295288086,
          -15.939179420471191,
          -22.461566925048828,
          9.748579025268555,
          3.35434889793396,
          4.951390266418457,
          0.7575578093528748,
          2.0718047618865967,
          19.238880157470703,
          17.29250144958496,
          2.5757744312286377,
          1.406235933303833,
          14.21688461303711,
          -12.712080001831055,
          -36.82494354248047,
          -25.480792999267578,
          -39.154972076416016,
          -40.46085739135742,
          18.34581184387207,
          16.5908203125,
          20.977540969848633,
          10.570751190185547,
          -27.684247970581055,
          17.961549758911133,
          16.831356048583984,
          -25.537506103515625,
          18.206541061401367,
          16.12508201599121,
          -23.19350242614746,
          -25.06974983215332,
          -25.598743438720703,
          -26.41180419921875
         ],
         "yaxis": "y"
        },
        {
         "hovertemplate": "color=medulloblastoma<br>0=%{x}<br>1=%{y}<extra></extra>",
         "legendgroup": "medulloblastoma",
         "marker": {
          "color": "#00cc96",
          "symbol": "circle"
         },
         "mode": "markers",
         "name": "medulloblastoma",
         "orientation": "v",
         "showlegend": true,
         "type": "scatter",
         "x": [
          13.902765274047852,
          -28.329444885253906,
          -29.42049217224121,
          -33.196434020996094,
          -27.403411865234375,
          7.521280288696289,
          -31.62403106689453,
          -27.51374053955078,
          -25.06391716003418,
          34.33551025390625,
          -29.669408798217773,
          -27.780624389648438,
          9.130472183227539,
          11.162397384643555,
          7.969820499420166,
          -23.618946075439453,
          13.959736824035645,
          15.955355644226074,
          14.37902545928955,
          12.73677921295166,
          12.505547523498535,
          17.18016242980957
         ],
         "xaxis": "x",
         "y": [
          -47.78158950805664,
          -27.00925636291504,
          -24.439992904663086,
          -15.38612174987793,
          -24.817909240722656,
          -52.76042556762695,
          -15.112260818481445,
          -23.290983200073242,
          -28.518871307373047,
          -30.55609893798828,
          -14.482831954956055,
          -12.842521667480469,
          -50.535213470458984,
          -55.916255950927734,
          -48.79884719848633,
          -29.90534019470215,
          -52.625701904296875,
          -52.745662689208984,
          -55.880340576171875,
          -54.395538330078125,
          -49.964744567871094,
          -19.540130615234375
         ],
         "yaxis": "y"
        },
        {
         "hovertemplate": "color=normal<br>0=%{x}<br>1=%{y}<extra></extra>",
         "legendgroup": "normal",
         "marker": {
          "color": "#ab63fa",
          "symbol": "circle"
         },
         "mode": "markers",
         "name": "normal",
         "orientation": "v",
         "showlegend": true,
         "type": "scatter",
         "x": [
          30.542627334594727,
          9.353549003601074,
          21.54234504699707,
          17.391525268554688,
          23.484664916992188,
          21.776641845703125,
          21.9378604888916,
          7.631556034088135,
          28.88602638244629,
          14.717247009277344,
          26.111568450927734,
          25.116453170776367,
          15.12834644317627
         ],
         "xaxis": "x",
         "y": [
          25.496292114257812,
          23.326677322387695,
          18.624753952026367,
          19.294530868530273,
          21.831621170043945,
          25.122459411621094,
          23.33229637145996,
          23.358434677124023,
          24.14457130432129,
          23.649734497070312,
          22.12440299987793,
          23.45307159423828,
          22.26760482788086
         ],
         "yaxis": "y"
        },
        {
         "hovertemplate": "color=pilocytic_astrocytoma<br>0=%{x}<br>1=%{y}<extra></extra>",
         "legendgroup": "pilocytic_astrocytoma",
         "marker": {
          "color": "#FFA15A",
          "symbol": "circle"
         },
         "mode": "markers",
         "name": "pilocytic_astrocytoma",
         "orientation": "v",
         "showlegend": true,
         "type": "scatter",
         "x": [
          -25.632293701171875,
          -19.279869079589844,
          -23.328655242919922,
          -35.31576919555664,
          -36.10036849975586,
          -23.00867462158203,
          -27.735212326049805,
          37.278324127197266,
          39.472145080566406,
          -24.150259017944336,
          45.14292907714844,
          17.16341209411621,
          40.13837814331055,
          41.20611572265625,
          43.183258056640625
         ],
         "xaxis": "x",
         "y": [
          13.279365539550781,
          14.657219886779785,
          14.870128631591797,
          4.716864585876465,
          42.8506965637207,
          16.263912200927734,
          10.956137657165527,
          -25.123395919799805,
          -26.232694625854492,
          12.01916217803955,
          -32.70888900756836,
          -16.959604263305664,
          -28.54732894897461,
          -30.171072006225586,
          -31.862770080566406
         ],
         "yaxis": "y"
        }
       ],
       "layout": {
        "legend": {
         "title": {
          "text": "color"
         },
         "tracegroupgap": 0
        },
        "template": {
         "data": {
          "bar": [
           {
            "error_x": {
             "color": "#2a3f5f"
            },
            "error_y": {
             "color": "#2a3f5f"
            },
            "marker": {
             "line": {
              "color": "#E5ECF6",
              "width": 0.5
             },
             "pattern": {
              "fillmode": "overlay",
              "size": 10,
              "solidity": 0.2
             }
            },
            "type": "bar"
           }
          ],
          "barpolar": [
           {
            "marker": {
             "line": {
              "color": "#E5ECF6",
              "width": 0.5
             },
             "pattern": {
              "fillmode": "overlay",
              "size": 10,
              "solidity": 0.2
             }
            },
            "type": "barpolar"
           }
          ],
          "carpet": [
           {
            "aaxis": {
             "endlinecolor": "#2a3f5f",
             "gridcolor": "white",
             "linecolor": "white",
             "minorgridcolor": "white",
             "startlinecolor": "#2a3f5f"
            },
            "baxis": {
             "endlinecolor": "#2a3f5f",
             "gridcolor": "white",
             "linecolor": "white",
             "minorgridcolor": "white",
             "startlinecolor": "#2a3f5f"
            },
            "type": "carpet"
           }
          ],
          "choropleth": [
           {
            "colorbar": {
             "outlinewidth": 0,
             "ticks": ""
            },
            "type": "choropleth"
           }
          ],
          "contour": [
           {
            "colorbar": {
             "outlinewidth": 0,
             "ticks": ""
            },
            "colorscale": [
             [
              0,
              "#0d0887"
             ],
             [
              0.1111111111111111,
              "#46039f"
             ],
             [
              0.2222222222222222,
              "#7201a8"
             ],
             [
              0.3333333333333333,
              "#9c179e"
             ],
             [
              0.4444444444444444,
              "#bd3786"
             ],
             [
              0.5555555555555556,
              "#d8576b"
             ],
             [
              0.6666666666666666,
              "#ed7953"
             ],
             [
              0.7777777777777778,
              "#fb9f3a"
             ],
             [
              0.8888888888888888,
              "#fdca26"
             ],
             [
              1,
              "#f0f921"
             ]
            ],
            "type": "contour"
           }
          ],
          "contourcarpet": [
           {
            "colorbar": {
             "outlinewidth": 0,
             "ticks": ""
            },
            "type": "contourcarpet"
           }
          ],
          "heatmap": [
           {
            "colorbar": {
             "outlinewidth": 0,
             "ticks": ""
            },
            "colorscale": [
             [
              0,
              "#0d0887"
             ],
             [
              0.1111111111111111,
              "#46039f"
             ],
             [
              0.2222222222222222,
              "#7201a8"
             ],
             [
              0.3333333333333333,
              "#9c179e"
             ],
             [
              0.4444444444444444,
              "#bd3786"
             ],
             [
              0.5555555555555556,
              "#d8576b"
             ],
             [
              0.6666666666666666,
              "#ed7953"
             ],
             [
              0.7777777777777778,
              "#fb9f3a"
             ],
             [
              0.8888888888888888,
              "#fdca26"
             ],
             [
              1,
              "#f0f921"
             ]
            ],
            "type": "heatmap"
           }
          ],
          "heatmapgl": [
           {
            "colorbar": {
             "outlinewidth": 0,
             "ticks": ""
            },
            "colorscale": [
             [
              0,
              "#0d0887"
             ],
             [
              0.1111111111111111,
              "#46039f"
             ],
             [
              0.2222222222222222,
              "#7201a8"
             ],
             [
              0.3333333333333333,
              "#9c179e"
             ],
             [
              0.4444444444444444,
              "#bd3786"
             ],
             [
              0.5555555555555556,
              "#d8576b"
             ],
             [
              0.6666666666666666,
              "#ed7953"
             ],
             [
              0.7777777777777778,
              "#fb9f3a"
             ],
             [
              0.8888888888888888,
              "#fdca26"
             ],
             [
              1,
              "#f0f921"
             ]
            ],
            "type": "heatmapgl"
           }
          ],
          "histogram": [
           {
            "marker": {
             "pattern": {
              "fillmode": "overlay",
              "size": 10,
              "solidity": 0.2
             }
            },
            "type": "histogram"
           }
          ],
          "histogram2d": [
           {
            "colorbar": {
             "outlinewidth": 0,
             "ticks": ""
            },
            "colorscale": [
             [
              0,
              "#0d0887"
             ],
             [
              0.1111111111111111,
              "#46039f"
             ],
             [
              0.2222222222222222,
              "#7201a8"
             ],
             [
              0.3333333333333333,
              "#9c179e"
             ],
             [
              0.4444444444444444,
              "#bd3786"
             ],
             [
              0.5555555555555556,
              "#d8576b"
             ],
             [
              0.6666666666666666,
              "#ed7953"
             ],
             [
              0.7777777777777778,
              "#fb9f3a"
             ],
             [
              0.8888888888888888,
              "#fdca26"
             ],
             [
              1,
              "#f0f921"
             ]
            ],
            "type": "histogram2d"
           }
          ],
          "histogram2dcontour": [
           {
            "colorbar": {
             "outlinewidth": 0,
             "ticks": ""
            },
            "colorscale": [
             [
              0,
              "#0d0887"
             ],
             [
              0.1111111111111111,
              "#46039f"
             ],
             [
              0.2222222222222222,
              "#7201a8"
             ],
             [
              0.3333333333333333,
              "#9c179e"
             ],
             [
              0.4444444444444444,
              "#bd3786"
             ],
             [
              0.5555555555555556,
              "#d8576b"
             ],
             [
              0.6666666666666666,
              "#ed7953"
             ],
             [
              0.7777777777777778,
              "#fb9f3a"
             ],
             [
              0.8888888888888888,
              "#fdca26"
             ],
             [
              1,
              "#f0f921"
             ]
            ],
            "type": "histogram2dcontour"
           }
          ],
          "mesh3d": [
           {
            "colorbar": {
             "outlinewidth": 0,
             "ticks": ""
            },
            "type": "mesh3d"
           }
          ],
          "parcoords": [
           {
            "line": {
             "colorbar": {
              "outlinewidth": 0,
              "ticks": ""
             }
            },
            "type": "parcoords"
           }
          ],
          "pie": [
           {
            "automargin": true,
            "type": "pie"
           }
          ],
          "scatter": [
           {
            "marker": {
             "colorbar": {
              "outlinewidth": 0,
              "ticks": ""
             }
            },
            "type": "scatter"
           }
          ],
          "scatter3d": [
           {
            "line": {
             "colorbar": {
              "outlinewidth": 0,
              "ticks": ""
             }
            },
            "marker": {
             "colorbar": {
              "outlinewidth": 0,
              "ticks": ""
             }
            },
            "type": "scatter3d"
           }
          ],
          "scattercarpet": [
           {
            "marker": {
             "colorbar": {
              "outlinewidth": 0,
              "ticks": ""
             }
            },
            "type": "scattercarpet"
           }
          ],
          "scattergeo": [
           {
            "marker": {
             "colorbar": {
              "outlinewidth": 0,
              "ticks": ""
             }
            },
            "type": "scattergeo"
           }
          ],
          "scattergl": [
           {
            "marker": {
             "colorbar": {
              "outlinewidth": 0,
              "ticks": ""
             }
            },
            "type": "scattergl"
           }
          ],
          "scattermapbox": [
           {
            "marker": {
             "colorbar": {
              "outlinewidth": 0,
              "ticks": ""
             }
            },
            "type": "scattermapbox"
           }
          ],
          "scatterpolar": [
           {
            "marker": {
             "colorbar": {
              "outlinewidth": 0,
              "ticks": ""
             }
            },
            "type": "scatterpolar"
           }
          ],
          "scatterpolargl": [
           {
            "marker": {
             "colorbar": {
              "outlinewidth": 0,
              "ticks": ""
             }
            },
            "type": "scatterpolargl"
           }
          ],
          "scatterternary": [
           {
            "marker": {
             "colorbar": {
              "outlinewidth": 0,
              "ticks": ""
             }
            },
            "type": "scatterternary"
           }
          ],
          "surface": [
           {
            "colorbar": {
             "outlinewidth": 0,
             "ticks": ""
            },
            "colorscale": [
             [
              0,
              "#0d0887"
             ],
             [
              0.1111111111111111,
              "#46039f"
             ],
             [
              0.2222222222222222,
              "#7201a8"
             ],
             [
              0.3333333333333333,
              "#9c179e"
             ],
             [
              0.4444444444444444,
              "#bd3786"
             ],
             [
              0.5555555555555556,
              "#d8576b"
             ],
             [
              0.6666666666666666,
              "#ed7953"
             ],
             [
              0.7777777777777778,
              "#fb9f3a"
             ],
             [
              0.8888888888888888,
              "#fdca26"
             ],
             [
              1,
              "#f0f921"
             ]
            ],
            "type": "surface"
           }
          ],
          "table": [
           {
            "cells": {
             "fill": {
              "color": "#EBF0F8"
             },
             "line": {
              "color": "white"
             }
            },
            "header": {
             "fill": {
              "color": "#C8D4E3"
             },
             "line": {
              "color": "white"
             }
            },
            "type": "table"
           }
          ]
         },
         "layout": {
          "annotationdefaults": {
           "arrowcolor": "#2a3f5f",
           "arrowhead": 0,
           "arrowwidth": 1
          },
          "autotypenumbers": "strict",
          "coloraxis": {
           "colorbar": {
            "outlinewidth": 0,
            "ticks": ""
           }
          },
          "colorscale": {
           "diverging": [
            [
             0,
             "#8e0152"
            ],
            [
             0.1,
             "#c51b7d"
            ],
            [
             0.2,
             "#de77ae"
            ],
            [
             0.3,
             "#f1b6da"
            ],
            [
             0.4,
             "#fde0ef"
            ],
            [
             0.5,
             "#f7f7f7"
            ],
            [
             0.6,
             "#e6f5d0"
            ],
            [
             0.7,
             "#b8e186"
            ],
            [
             0.8,
             "#7fbc41"
            ],
            [
             0.9,
             "#4d9221"
            ],
            [
             1,
             "#276419"
            ]
           ],
           "sequential": [
            [
             0,
             "#0d0887"
            ],
            [
             0.1111111111111111,
             "#46039f"
            ],
            [
             0.2222222222222222,
             "#7201a8"
            ],
            [
             0.3333333333333333,
             "#9c179e"
            ],
            [
             0.4444444444444444,
             "#bd3786"
            ],
            [
             0.5555555555555556,
             "#d8576b"
            ],
            [
             0.6666666666666666,
             "#ed7953"
            ],
            [
             0.7777777777777778,
             "#fb9f3a"
            ],
            [
             0.8888888888888888,
             "#fdca26"
            ],
            [
             1,
             "#f0f921"
            ]
           ],
           "sequentialminus": [
            [
             0,
             "#0d0887"
            ],
            [
             0.1111111111111111,
             "#46039f"
            ],
            [
             0.2222222222222222,
             "#7201a8"
            ],
            [
             0.3333333333333333,
             "#9c179e"
            ],
            [
             0.4444444444444444,
             "#bd3786"
            ],
            [
             0.5555555555555556,
             "#d8576b"
            ],
            [
             0.6666666666666666,
             "#ed7953"
            ],
            [
             0.7777777777777778,
             "#fb9f3a"
            ],
            [
             0.8888888888888888,
             "#fdca26"
            ],
            [
             1,
             "#f0f921"
            ]
           ]
          },
          "colorway": [
           "#636efa",
           "#EF553B",
           "#00cc96",
           "#ab63fa",
           "#FFA15A",
           "#19d3f3",
           "#FF6692",
           "#B6E880",
           "#FF97FF",
           "#FECB52"
          ],
          "font": {
           "color": "#2a3f5f"
          },
          "geo": {
           "bgcolor": "white",
           "lakecolor": "white",
           "landcolor": "#E5ECF6",
           "showlakes": true,
           "showland": true,
           "subunitcolor": "white"
          },
          "hoverlabel": {
           "align": "left"
          },
          "hovermode": "closest",
          "mapbox": {
           "style": "light"
          },
          "paper_bgcolor": "white",
          "plot_bgcolor": "#E5ECF6",
          "polar": {
           "angularaxis": {
            "gridcolor": "white",
            "linecolor": "white",
            "ticks": ""
           },
           "bgcolor": "#E5ECF6",
           "radialaxis": {
            "gridcolor": "white",
            "linecolor": "white",
            "ticks": ""
           }
          },
          "scene": {
           "xaxis": {
            "backgroundcolor": "#E5ECF6",
            "gridcolor": "white",
            "gridwidth": 2,
            "linecolor": "white",
            "showbackground": true,
            "ticks": "",
            "zerolinecolor": "white"
           },
           "yaxis": {
            "backgroundcolor": "#E5ECF6",
            "gridcolor": "white",
            "gridwidth": 2,
            "linecolor": "white",
            "showbackground": true,
            "ticks": "",
            "zerolinecolor": "white"
           },
           "zaxis": {
            "backgroundcolor": "#E5ECF6",
            "gridcolor": "white",
            "gridwidth": 2,
            "linecolor": "white",
            "showbackground": true,
            "ticks": "",
            "zerolinecolor": "white"
           }
          },
          "shapedefaults": {
           "line": {
            "color": "#2a3f5f"
           }
          },
          "ternary": {
           "aaxis": {
            "gridcolor": "white",
            "linecolor": "white",
            "ticks": ""
           },
           "baxis": {
            "gridcolor": "white",
            "linecolor": "white",
            "ticks": ""
           },
           "bgcolor": "#E5ECF6",
           "caxis": {
            "gridcolor": "white",
            "linecolor": "white",
            "ticks": ""
           }
          },
          "title": {
           "x": 0.05
          },
          "xaxis": {
           "automargin": true,
           "gridcolor": "white",
           "linecolor": "white",
           "ticks": "",
           "title": {
            "standoff": 15
           },
           "zerolinecolor": "white",
           "zerolinewidth": 2
          },
          "yaxis": {
           "automargin": true,
           "gridcolor": "white",
           "linecolor": "white",
           "ticks": "",
           "title": {
            "standoff": 15
           },
           "zerolinecolor": "white",
           "zerolinewidth": 2
          }
         }
        },
        "title": {
         "text": "TSNE Components:2 Perplexity: 5"
        },
        "xaxis": {
         "anchor": "y",
         "domain": [
          0,
          1
         ],
         "title": {
          "text": "0"
         }
        },
        "yaxis": {
         "anchor": "x",
         "domain": [
          0,
          1
         ],
         "title": {
          "text": "1"
         }
        }
       }
      }
     },
     "metadata": {},
     "output_type": "display_data"
    },
    {
     "data": {
      "application/vnd.plotly.v1+json": {
       "config": {
        "plotlyServerURL": "https://plot.ly"
       },
       "data": [
        {
         "hovertemplate": "color=ependymoma<br>0=%{x}<br>1=%{y}<extra></extra>",
         "legendgroup": "ependymoma",
         "marker": {
          "color": "#636efa",
          "symbol": "circle"
         },
         "mode": "markers",
         "name": "ependymoma",
         "orientation": "v",
         "showlegend": true,
         "type": "scatter",
         "x": [
          24.5294246673584,
          8.325550079345703,
          9.744498252868652,
          -21.575706481933594,
          22.014144897460938,
          20.0548038482666,
          13.921890258789062,
          19.064664840698242,
          20.8593807220459,
          19.708906173706055,
          -16.338226318359375,
          23.00303077697754,
          18.1322021484375,
          -25.96178436279297,
          9.069673538208008,
          -21.55264663696289,
          14.943830490112305,
          10.75827693939209,
          -22.330820083618164,
          8.678339004516602,
          10.757966995239258,
          5.592972278594971,
          -24.616308212280273,
          -21.501680374145508,
          11.812508583068848,
          11.908858299255371,
          7.198459148406982,
          13.407707214355469,
          -18.90316390991211,
          -21.030532836914062,
          -19.81732749938965,
          12.90864086151123,
          25.36551284790039,
          -23.939773559570312,
          8.859230995178223,
          -19.41330909729004,
          -15.543448448181152,
          -18.1781063079834,
          -18.003204345703125,
          -18.539142608642578,
          -20.481481552124023,
          -24.595163345336914,
          -7.449254989624023,
          -20.86353302001953,
          -27.077707290649414,
          -27.89225196838379
         ],
         "xaxis": "x",
         "y": [
          -35.14714813232422,
          -33.500179290771484,
          -25.422941207885742,
          20.323518753051758,
          -27.977293014526367,
          -33.11344909667969,
          -37.58318328857422,
          -31.17919921875,
          -30.13764762878418,
          -29.39683723449707,
          19.353092193603516,
          -30.928442001342773,
          -33.6484260559082,
          4.7704033851623535,
          -32.41257858276367,
          3.041485071182251,
          -37.83068084716797,
          -29.184814453125,
          4.989026069641113,
          -30.71159553527832,
          -26.747514724731445,
          -28.549776077270508,
          5.623244762420654,
          5.75840950012207,
          -28.166173934936523,
          -32.092689514160156,
          -26.523462295532227,
          -31.65084457397461,
          6.552685737609863,
          16.7661190032959,
          18.07481575012207,
          -34.28432083129883,
          -35.88933181762695,
          22.227018356323242,
          -27.42989730834961,
          15.073235511779785,
          14.46805191040039,
          16.361732482910156,
          18.03147315979004,
          19.608814239501953,
          24.152559280395508,
          18.018110275268555,
          23.608379364013672,
          22.994491577148438,
          23.84665298461914,
          24.538043975830078
         ],
         "yaxis": "y"
        },
        {
         "hovertemplate": "color=glioblastoma<br>0=%{x}<br>1=%{y}<extra></extra>",
         "legendgroup": "glioblastoma",
         "marker": {
          "color": "#EF553B",
          "symbol": "circle"
         },
         "mode": "markers",
         "name": "glioblastoma",
         "orientation": "v",
         "showlegend": true,
         "type": "scatter",
         "x": [
          19.15302276611328,
          23.349773406982422,
          -9.301496505737305,
          -13.654916763305664,
          -11.474346160888672,
          16.325916290283203,
          14.033307075500488,
          17.135095596313477,
          9.60434627532959,
          11.283018112182617,
          20.5220947265625,
          20.879919052124023,
          22.999013900756836,
          24.267953872680664,
          8.27598762512207,
          -22.012632369995117,
          -4.691318988800049,
          -9.900381088256836,
          -2.80774188041687,
          -1.9096266031265259,
          18.960939407348633,
          17.10834503173828,
          19.333293914794922,
          17.690893173217773,
          -10.05051040649414,
          8.798242568969727,
          9.166540145874023,
          -8.434925079345703,
          1.9885886907577515,
          -0.5680651068687439,
          -8.123294830322266,
          -6.374638080596924,
          -8.419990539550781,
          -9.371235847473145
         ],
         "xaxis": "x",
         "y": [
          -21.717876434326172,
          -12.982747077941895,
          27.335603713989258,
          22.217973709106445,
          24.208423614501953,
          -22.73880958557129,
          -18.228435516357422,
          -25.480806350708008,
          -20.151540756225586,
          -21.01856803894043,
          -17.39126968383789,
          -9.56666088104248,
          -14.167261123657227,
          -15.809691429138184,
          -16.008567810058594,
          7.84040641784668,
          29.51622772216797,
          18.010658264160156,
          29.173282623291016,
          28.50078582763672,
          -8.956624984741211,
          -10.439826965332031,
          -6.805086612701416,
          -18.0531005859375,
          14.02028751373291,
          -13.050861358642578,
          -14.015292167663574,
          15.869271278381348,
          14.70987606048584,
          15.686047554016113,
          12.614242553710938,
          14.193633079528809,
          14.513580322265625,
          21.481712341308594
         ],
         "yaxis": "y"
        },
        {
         "hovertemplate": "color=medulloblastoma<br>0=%{x}<br>1=%{y}<extra></extra>",
         "legendgroup": "medulloblastoma",
         "marker": {
          "color": "#00cc96",
          "symbol": "circle"
         },
         "mode": "markers",
         "name": "medulloblastoma",
         "orientation": "v",
         "showlegend": true,
         "type": "scatter",
         "x": [
          -1.1149085760116577,
          -5.582442283630371,
          -7.110771656036377,
          -0.7644844651222229,
          -6.101975917816162,
          1.5780527591705322,
          -0.7799438834190369,
          -5.060083389282227,
          -7.845611572265625,
          -16.113130569458008,
          -0.4257000982761383,
          1.2266476154327393,
          -0.4776000380516052,
          -6.633362770080566,
          -0.6636384725570679,
          -8.893299102783203,
          -3.791008472442627,
          -6.57619571685791,
          -4.240413665771484,
          -5.141984939575195,
          -1.7936022281646729,
          -15.349922180175781
         ],
         "xaxis": "x",
         "y": [
          36.05617141723633,
          -20.52643394470215,
          -22.112796783447266,
          -16.403724670410156,
          -23.042295455932617,
          40.02362823486328,
          -17.694520950317383,
          -22.37856101989746,
          -18.619421005249023,
          26.732524871826172,
          -19.339733123779297,
          -20.738370895385742,
          40.49214172363281,
          38.1456184387207,
          42.20964813232422,
          -17.351764678955078,
          38.69801330566406,
          40.688053131103516,
          40.58877182006836,
          39.133148193359375,
          38.09602355957031,
          4.772458076477051
         ],
         "yaxis": "y"
        },
        {
         "hovertemplate": "color=normal<br>0=%{x}<br>1=%{y}<extra></extra>",
         "legendgroup": "normal",
         "marker": {
          "color": "#ab63fa",
          "symbol": "circle"
         },
         "mode": "markers",
         "name": "normal",
         "orientation": "v",
         "showlegend": true,
         "type": "scatter",
         "x": [
          8.982621192932129,
          11.154276847839355,
          2.9222662448883057,
          4.791778564453125,
          5.273212432861328,
          6.736977577209473,
          7.121282577514648,
          11.898860931396484,
          7.296733379364014,
          8.977874755859375,
          5.903167247772217,
          4.551650047302246,
          7.948392391204834
         ],
         "xaxis": "x",
         "y": [
          16.45107078552246,
          2.438368558883667,
          9.821698188781738,
          6.780766487121582,
          11.950821876525879,
          10.462458610534668,
          11.941740036010742,
          1.1035590171813965,
          15.948225021362305,
          7.316209316253662,
          13.949739456176758,
          13.531126976013184,
          6.782352447509766
         ],
         "yaxis": "y"
        },
        {
         "hovertemplate": "color=pilocytic_astrocytoma<br>0=%{x}<br>1=%{y}<extra></extra>",
         "legendgroup": "pilocytic_astrocytoma",
         "marker": {
          "color": "#FFA15A",
          "symbol": "circle"
         },
         "mode": "markers",
         "name": "pilocytic_astrocytoma",
         "orientation": "v",
         "showlegend": true,
         "type": "scatter",
         "x": [
          15.576164245605469,
          15.663651466369629,
          17.724149703979492,
          11.171059608459473,
          26.618478775024414,
          18.097322463989258,
          16.12593650817871,
          -9.464330673217773,
          -7.996186256408691,
          16.748661041259766,
          -6.344147682189941,
          -17.133747100830078,
          -6.187020301818848,
          -5.509160995483398,
          -4.892648220062256
         ],
         "xaxis": "x",
         "y": [
          -16.106735229492188,
          -12.727322578430176,
          -15.087407112121582,
          -38.152462005615234,
          -34.044986724853516,
          -14.313271522521973,
          -20.08391761779785,
          23.99242401123047,
          25.387393951416016,
          -17.3215389251709,
          19.722166061401367,
          6.101129531860352,
          24.315998077392578,
          22.82860565185547,
          20.85519790649414
         ],
         "yaxis": "y"
        }
       ],
       "layout": {
        "legend": {
         "title": {
          "text": "color"
         },
         "tracegroupgap": 0
        },
        "template": {
         "data": {
          "bar": [
           {
            "error_x": {
             "color": "#2a3f5f"
            },
            "error_y": {
             "color": "#2a3f5f"
            },
            "marker": {
             "line": {
              "color": "#E5ECF6",
              "width": 0.5
             },
             "pattern": {
              "fillmode": "overlay",
              "size": 10,
              "solidity": 0.2
             }
            },
            "type": "bar"
           }
          ],
          "barpolar": [
           {
            "marker": {
             "line": {
              "color": "#E5ECF6",
              "width": 0.5
             },
             "pattern": {
              "fillmode": "overlay",
              "size": 10,
              "solidity": 0.2
             }
            },
            "type": "barpolar"
           }
          ],
          "carpet": [
           {
            "aaxis": {
             "endlinecolor": "#2a3f5f",
             "gridcolor": "white",
             "linecolor": "white",
             "minorgridcolor": "white",
             "startlinecolor": "#2a3f5f"
            },
            "baxis": {
             "endlinecolor": "#2a3f5f",
             "gridcolor": "white",
             "linecolor": "white",
             "minorgridcolor": "white",
             "startlinecolor": "#2a3f5f"
            },
            "type": "carpet"
           }
          ],
          "choropleth": [
           {
            "colorbar": {
             "outlinewidth": 0,
             "ticks": ""
            },
            "type": "choropleth"
           }
          ],
          "contour": [
           {
            "colorbar": {
             "outlinewidth": 0,
             "ticks": ""
            },
            "colorscale": [
             [
              0,
              "#0d0887"
             ],
             [
              0.1111111111111111,
              "#46039f"
             ],
             [
              0.2222222222222222,
              "#7201a8"
             ],
             [
              0.3333333333333333,
              "#9c179e"
             ],
             [
              0.4444444444444444,
              "#bd3786"
             ],
             [
              0.5555555555555556,
              "#d8576b"
             ],
             [
              0.6666666666666666,
              "#ed7953"
             ],
             [
              0.7777777777777778,
              "#fb9f3a"
             ],
             [
              0.8888888888888888,
              "#fdca26"
             ],
             [
              1,
              "#f0f921"
             ]
            ],
            "type": "contour"
           }
          ],
          "contourcarpet": [
           {
            "colorbar": {
             "outlinewidth": 0,
             "ticks": ""
            },
            "type": "contourcarpet"
           }
          ],
          "heatmap": [
           {
            "colorbar": {
             "outlinewidth": 0,
             "ticks": ""
            },
            "colorscale": [
             [
              0,
              "#0d0887"
             ],
             [
              0.1111111111111111,
              "#46039f"
             ],
             [
              0.2222222222222222,
              "#7201a8"
             ],
             [
              0.3333333333333333,
              "#9c179e"
             ],
             [
              0.4444444444444444,
              "#bd3786"
             ],
             [
              0.5555555555555556,
              "#d8576b"
             ],
             [
              0.6666666666666666,
              "#ed7953"
             ],
             [
              0.7777777777777778,
              "#fb9f3a"
             ],
             [
              0.8888888888888888,
              "#fdca26"
             ],
             [
              1,
              "#f0f921"
             ]
            ],
            "type": "heatmap"
           }
          ],
          "heatmapgl": [
           {
            "colorbar": {
             "outlinewidth": 0,
             "ticks": ""
            },
            "colorscale": [
             [
              0,
              "#0d0887"
             ],
             [
              0.1111111111111111,
              "#46039f"
             ],
             [
              0.2222222222222222,
              "#7201a8"
             ],
             [
              0.3333333333333333,
              "#9c179e"
             ],
             [
              0.4444444444444444,
              "#bd3786"
             ],
             [
              0.5555555555555556,
              "#d8576b"
             ],
             [
              0.6666666666666666,
              "#ed7953"
             ],
             [
              0.7777777777777778,
              "#fb9f3a"
             ],
             [
              0.8888888888888888,
              "#fdca26"
             ],
             [
              1,
              "#f0f921"
             ]
            ],
            "type": "heatmapgl"
           }
          ],
          "histogram": [
           {
            "marker": {
             "pattern": {
              "fillmode": "overlay",
              "size": 10,
              "solidity": 0.2
             }
            },
            "type": "histogram"
           }
          ],
          "histogram2d": [
           {
            "colorbar": {
             "outlinewidth": 0,
             "ticks": ""
            },
            "colorscale": [
             [
              0,
              "#0d0887"
             ],
             [
              0.1111111111111111,
              "#46039f"
             ],
             [
              0.2222222222222222,
              "#7201a8"
             ],
             [
              0.3333333333333333,
              "#9c179e"
             ],
             [
              0.4444444444444444,
              "#bd3786"
             ],
             [
              0.5555555555555556,
              "#d8576b"
             ],
             [
              0.6666666666666666,
              "#ed7953"
             ],
             [
              0.7777777777777778,
              "#fb9f3a"
             ],
             [
              0.8888888888888888,
              "#fdca26"
             ],
             [
              1,
              "#f0f921"
             ]
            ],
            "type": "histogram2d"
           }
          ],
          "histogram2dcontour": [
           {
            "colorbar": {
             "outlinewidth": 0,
             "ticks": ""
            },
            "colorscale": [
             [
              0,
              "#0d0887"
             ],
             [
              0.1111111111111111,
              "#46039f"
             ],
             [
              0.2222222222222222,
              "#7201a8"
             ],
             [
              0.3333333333333333,
              "#9c179e"
             ],
             [
              0.4444444444444444,
              "#bd3786"
             ],
             [
              0.5555555555555556,
              "#d8576b"
             ],
             [
              0.6666666666666666,
              "#ed7953"
             ],
             [
              0.7777777777777778,
              "#fb9f3a"
             ],
             [
              0.8888888888888888,
              "#fdca26"
             ],
             [
              1,
              "#f0f921"
             ]
            ],
            "type": "histogram2dcontour"
           }
          ],
          "mesh3d": [
           {
            "colorbar": {
             "outlinewidth": 0,
             "ticks": ""
            },
            "type": "mesh3d"
           }
          ],
          "parcoords": [
           {
            "line": {
             "colorbar": {
              "outlinewidth": 0,
              "ticks": ""
             }
            },
            "type": "parcoords"
           }
          ],
          "pie": [
           {
            "automargin": true,
            "type": "pie"
           }
          ],
          "scatter": [
           {
            "marker": {
             "colorbar": {
              "outlinewidth": 0,
              "ticks": ""
             }
            },
            "type": "scatter"
           }
          ],
          "scatter3d": [
           {
            "line": {
             "colorbar": {
              "outlinewidth": 0,
              "ticks": ""
             }
            },
            "marker": {
             "colorbar": {
              "outlinewidth": 0,
              "ticks": ""
             }
            },
            "type": "scatter3d"
           }
          ],
          "scattercarpet": [
           {
            "marker": {
             "colorbar": {
              "outlinewidth": 0,
              "ticks": ""
             }
            },
            "type": "scattercarpet"
           }
          ],
          "scattergeo": [
           {
            "marker": {
             "colorbar": {
              "outlinewidth": 0,
              "ticks": ""
             }
            },
            "type": "scattergeo"
           }
          ],
          "scattergl": [
           {
            "marker": {
             "colorbar": {
              "outlinewidth": 0,
              "ticks": ""
             }
            },
            "type": "scattergl"
           }
          ],
          "scattermapbox": [
           {
            "marker": {
             "colorbar": {
              "outlinewidth": 0,
              "ticks": ""
             }
            },
            "type": "scattermapbox"
           }
          ],
          "scatterpolar": [
           {
            "marker": {
             "colorbar": {
              "outlinewidth": 0,
              "ticks": ""
             }
            },
            "type": "scatterpolar"
           }
          ],
          "scatterpolargl": [
           {
            "marker": {
             "colorbar": {
              "outlinewidth": 0,
              "ticks": ""
             }
            },
            "type": "scatterpolargl"
           }
          ],
          "scatterternary": [
           {
            "marker": {
             "colorbar": {
              "outlinewidth": 0,
              "ticks": ""
             }
            },
            "type": "scatterternary"
           }
          ],
          "surface": [
           {
            "colorbar": {
             "outlinewidth": 0,
             "ticks": ""
            },
            "colorscale": [
             [
              0,
              "#0d0887"
             ],
             [
              0.1111111111111111,
              "#46039f"
             ],
             [
              0.2222222222222222,
              "#7201a8"
             ],
             [
              0.3333333333333333,
              "#9c179e"
             ],
             [
              0.4444444444444444,
              "#bd3786"
             ],
             [
              0.5555555555555556,
              "#d8576b"
             ],
             [
              0.6666666666666666,
              "#ed7953"
             ],
             [
              0.7777777777777778,
              "#fb9f3a"
             ],
             [
              0.8888888888888888,
              "#fdca26"
             ],
             [
              1,
              "#f0f921"
             ]
            ],
            "type": "surface"
           }
          ],
          "table": [
           {
            "cells": {
             "fill": {
              "color": "#EBF0F8"
             },
             "line": {
              "color": "white"
             }
            },
            "header": {
             "fill": {
              "color": "#C8D4E3"
             },
             "line": {
              "color": "white"
             }
            },
            "type": "table"
           }
          ]
         },
         "layout": {
          "annotationdefaults": {
           "arrowcolor": "#2a3f5f",
           "arrowhead": 0,
           "arrowwidth": 1
          },
          "autotypenumbers": "strict",
          "coloraxis": {
           "colorbar": {
            "outlinewidth": 0,
            "ticks": ""
           }
          },
          "colorscale": {
           "diverging": [
            [
             0,
             "#8e0152"
            ],
            [
             0.1,
             "#c51b7d"
            ],
            [
             0.2,
             "#de77ae"
            ],
            [
             0.3,
             "#f1b6da"
            ],
            [
             0.4,
             "#fde0ef"
            ],
            [
             0.5,
             "#f7f7f7"
            ],
            [
             0.6,
             "#e6f5d0"
            ],
            [
             0.7,
             "#b8e186"
            ],
            [
             0.8,
             "#7fbc41"
            ],
            [
             0.9,
             "#4d9221"
            ],
            [
             1,
             "#276419"
            ]
           ],
           "sequential": [
            [
             0,
             "#0d0887"
            ],
            [
             0.1111111111111111,
             "#46039f"
            ],
            [
             0.2222222222222222,
             "#7201a8"
            ],
            [
             0.3333333333333333,
             "#9c179e"
            ],
            [
             0.4444444444444444,
             "#bd3786"
            ],
            [
             0.5555555555555556,
             "#d8576b"
            ],
            [
             0.6666666666666666,
             "#ed7953"
            ],
            [
             0.7777777777777778,
             "#fb9f3a"
            ],
            [
             0.8888888888888888,
             "#fdca26"
            ],
            [
             1,
             "#f0f921"
            ]
           ],
           "sequentialminus": [
            [
             0,
             "#0d0887"
            ],
            [
             0.1111111111111111,
             "#46039f"
            ],
            [
             0.2222222222222222,
             "#7201a8"
            ],
            [
             0.3333333333333333,
             "#9c179e"
            ],
            [
             0.4444444444444444,
             "#bd3786"
            ],
            [
             0.5555555555555556,
             "#d8576b"
            ],
            [
             0.6666666666666666,
             "#ed7953"
            ],
            [
             0.7777777777777778,
             "#fb9f3a"
            ],
            [
             0.8888888888888888,
             "#fdca26"
            ],
            [
             1,
             "#f0f921"
            ]
           ]
          },
          "colorway": [
           "#636efa",
           "#EF553B",
           "#00cc96",
           "#ab63fa",
           "#FFA15A",
           "#19d3f3",
           "#FF6692",
           "#B6E880",
           "#FF97FF",
           "#FECB52"
          ],
          "font": {
           "color": "#2a3f5f"
          },
          "geo": {
           "bgcolor": "white",
           "lakecolor": "white",
           "landcolor": "#E5ECF6",
           "showlakes": true,
           "showland": true,
           "subunitcolor": "white"
          },
          "hoverlabel": {
           "align": "left"
          },
          "hovermode": "closest",
          "mapbox": {
           "style": "light"
          },
          "paper_bgcolor": "white",
          "plot_bgcolor": "#E5ECF6",
          "polar": {
           "angularaxis": {
            "gridcolor": "white",
            "linecolor": "white",
            "ticks": ""
           },
           "bgcolor": "#E5ECF6",
           "radialaxis": {
            "gridcolor": "white",
            "linecolor": "white",
            "ticks": ""
           }
          },
          "scene": {
           "xaxis": {
            "backgroundcolor": "#E5ECF6",
            "gridcolor": "white",
            "gridwidth": 2,
            "linecolor": "white",
            "showbackground": true,
            "ticks": "",
            "zerolinecolor": "white"
           },
           "yaxis": {
            "backgroundcolor": "#E5ECF6",
            "gridcolor": "white",
            "gridwidth": 2,
            "linecolor": "white",
            "showbackground": true,
            "ticks": "",
            "zerolinecolor": "white"
           },
           "zaxis": {
            "backgroundcolor": "#E5ECF6",
            "gridcolor": "white",
            "gridwidth": 2,
            "linecolor": "white",
            "showbackground": true,
            "ticks": "",
            "zerolinecolor": "white"
           }
          },
          "shapedefaults": {
           "line": {
            "color": "#2a3f5f"
           }
          },
          "ternary": {
           "aaxis": {
            "gridcolor": "white",
            "linecolor": "white",
            "ticks": ""
           },
           "baxis": {
            "gridcolor": "white",
            "linecolor": "white",
            "ticks": ""
           },
           "bgcolor": "#E5ECF6",
           "caxis": {
            "gridcolor": "white",
            "linecolor": "white",
            "ticks": ""
           }
          },
          "title": {
           "x": 0.05
          },
          "xaxis": {
           "automargin": true,
           "gridcolor": "white",
           "linecolor": "white",
           "ticks": "",
           "title": {
            "standoff": 15
           },
           "zerolinecolor": "white",
           "zerolinewidth": 2
          },
          "yaxis": {
           "automargin": true,
           "gridcolor": "white",
           "linecolor": "white",
           "ticks": "",
           "title": {
            "standoff": 15
           },
           "zerolinecolor": "white",
           "zerolinewidth": 2
          }
         }
        },
        "title": {
         "text": "TSNE Components:2 Perplexity: 10"
        },
        "xaxis": {
         "anchor": "y",
         "domain": [
          0,
          1
         ],
         "title": {
          "text": "0"
         }
        },
        "yaxis": {
         "anchor": "x",
         "domain": [
          0,
          1
         ],
         "title": {
          "text": "1"
         }
        }
       }
      }
     },
     "metadata": {},
     "output_type": "display_data"
    },
    {
     "data": {
      "application/vnd.plotly.v1+json": {
       "config": {
        "plotlyServerURL": "https://plot.ly"
       },
       "data": [
        {
         "hovertemplate": "color=ependymoma<br>0=%{x}<br>1=%{y}<extra></extra>",
         "legendgroup": "ependymoma",
         "marker": {
          "color": "#636efa",
          "symbol": "circle"
         },
         "mode": "markers",
         "name": "ependymoma",
         "orientation": "v",
         "showlegend": true,
         "type": "scatter",
         "x": [
          -21.219684600830078,
          -13.264567375183105,
          -11.590564727783203,
          5.178405284881592,
          -18.56107521057129,
          -17.501840591430664,
          -16.083324432373047,
          -17.991979598999023,
          -19.1137638092041,
          -18.840669631958008,
          7.990358352661133,
          -20.22924041748047,
          -16.39021110534668,
          7.415904998779297,
          -13.363302230834961,
          5.695971965789795,
          -15.90128231048584,
          -13.312386512756348,
          5.313902854919434,
          -12.638628959655762,
          -12.525836944580078,
          -10.572611808776855,
          6.545182704925537,
          4.829799175262451,
          -13.591164588928223,
          -14.61551284790039,
          -11.10478401184082,
          -14.659326553344727,
          3.86871337890625,
          6.709524631500244,
          6.477334022521973,
          -15.864542007446289,
          -21.588226318359375,
          3.0290486812591553,
          -12.142704963684082,
          7.92882776260376,
          9.797770500183105,
          7.70789098739624,
          7.101579666137695,
          6.48825216293335,
          3.9980690479278564,
          5.922699928283691,
          9.570328712463379,
          4.414111614227295,
          0.8359659910202026,
          0.4837517738342285
         ],
         "xaxis": "x",
         "y": [
          11.103127479553223,
          15.208019256591797,
          10.35913372039795,
          -4.15261697769165,
          15.059937477111816,
          13.79458999633789,
          9.97353744506836,
          12.837757110595703,
          12.940272331237793,
          12.128458023071289,
          -6.713798522949219,
          14.183191299438477,
          14.353147506713867,
          0.7104960083961487,
          12.96204662322998,
          2.359916925430298,
          9.900918006896973,
          11.328725814819336,
          1.022071361541748,
          13.494927406311035,
          10.36324691772461,
          13.400784492492676,
          0.3798265755176544,
          0.8107597827911377,
          10.448172569274902,
          12.00637435913086,
          11.926992416381836,
          13.10249137878418,
          -0.6100031137466431,
          -3.769653797149658,
          -4.93596887588501,
          12.077603340148926,
          10.785125732421875,
          -4.2396016120910645,
          11.741212844848633,
          -4.002488136291504,
          -5.049062728881836,
          -5.019719123840332,
          -5.799088954925537,
          -6.543025493621826,
          -5.924796104431152,
          -15.42323112487793,
          -10.802058219909668,
          -5.461799621582031,
          -4.898715972900391,
          -5.154752254486084
         ],
         "yaxis": "y"
        },
        {
         "hovertemplate": "color=glioblastoma<br>0=%{x}<br>1=%{y}<extra></extra>",
         "legendgroup": "glioblastoma",
         "marker": {
          "color": "#EF553B",
          "symbol": "circle"
         },
         "mode": "markers",
         "name": "glioblastoma",
         "orientation": "v",
         "showlegend": true,
         "type": "scatter",
         "x": [
          -14.359729766845703,
          -8.299564361572266,
          10.363349914550781,
          6.902921676635742,
          8.19113826751709,
          -15.646966934204102,
          -10.709001541137695,
          -17.213171005249023,
          -8.676712989807129,
          -8.424765586853027,
          -11.880277633666992,
          -18.49505043029785,
          -9.014892578125,
          -8.92938232421875,
          -7.982975006103516,
          3.8096323013305664,
          11.93095874786377,
          4.9656596183776855,
          12.026140213012695,
          11.707367897033691,
          -19.158018112182617,
          -16.0289306640625,
          -20.544897079467773,
          -12.166023254394531,
          4.029959678649902,
          -9.661845207214355,
          -9.692619323730469,
          5.062376499176025,
          0.8166318535804749,
          3.2191953659057617,
          5.040562629699707,
          3.7036964893341064,
          4.9448370933532715,
          6.955081939697266
         ],
         "xaxis": "x",
         "y": [
          2.9499900341033936,
          5.809250831604004,
          -12.938095092773438,
          -13.372551918029785,
          -13.718449592590332,
          3.890043258666992,
          7.194429874420166,
          4.961998462677002,
          9.171236991882324,
          10.230775833129883,
          8.168147087097168,
          8.078388214111328,
          5.929327964782715,
          7.2659010887146,
          3.138575792312622,
          1.9107969999313354,
          -10.223930358886719,
          -12.652605056762695,
          -9.067129135131836,
          -8.698020935058594,
          7.4700093269348145,
          6.809256076812744,
          7.488236427307129,
          4.151608943939209,
          -9.802105903625488,
          2.0862460136413574,
          2.346301317214966,
          -10.314287185668945,
          -12.933744430541992,
          -11.719489097595215,
          -8.563766479492188,
          -8.539965629577637,
          -9.489869117736816,
          -11.464632987976074
         ],
         "yaxis": "y"
        },
        {
         "hovertemplate": "color=medulloblastoma<br>0=%{x}<br>1=%{y}<extra></extra>",
         "legendgroup": "medulloblastoma",
         "marker": {
          "color": "#00cc96",
          "symbol": "circle"
         },
         "mode": "markers",
         "name": "medulloblastoma",
         "orientation": "v",
         "showlegend": true,
         "type": "scatter",
         "x": [
          15.98288631439209,
          -3.0223095417022705,
          -4.329861640930176,
          -5.842245578765869,
          -4.198012828826904,
          15.274209022521973,
          -5.195362567901611,
          -3.713660717010498,
          -1.6050020456314087,
          12.842695236206055,
          -4.344054222106934,
          -4.324865341186523,
          14.584686279296875,
          17.116302490234375,
          13.6106538772583,
          -0.6195570826530457,
          15.955503463745117,
          15.50866985321045,
          17.318334579467773,
          16.659189224243164,
          15.002306938171387,
          1.444610595703125
         ],
         "xaxis": "x",
         "y": [
          -8.561893463134766,
          11.516654014587402,
          11.633069038391113,
          9.332578659057617,
          12.293935775756836,
          -2.9994447231292725,
          9.053278923034668,
          12.524621963500977,
          10.171177864074707,
          -12.305211067199707,
          8.443532943725586,
          6.960587024688721,
          -4.192430019378662,
          -4.496602535247803,
          -4.170888423919678,
          9.716774940490723,
          -6.362865924835205,
          -5.4652252197265625,
          -6.2678656578063965,
          -5.403294563293457,
          -7.266171455383301,
          0.2223009467124939
         ],
         "yaxis": "y"
        },
        {
         "hovertemplate": "color=normal<br>0=%{x}<br>1=%{y}<extra></extra>",
         "legendgroup": "normal",
         "marker": {
          "color": "#ab63fa",
          "symbol": "circle"
         },
         "mode": "markers",
         "name": "normal",
         "orientation": "v",
         "showlegend": true,
         "type": "scatter",
         "x": [
          -2.0064516067504883,
          -13.313624382019043,
          -1.0801032781600952,
          -3.544553756713867,
          -1.2546433210372925,
          -2.7128121852874756,
          -2.1328322887420654,
          -13.763484001159668,
          -1.1701306104660034,
          -4.608207702636719,
          -1.2272337675094604,
          -0.6653597354888916,
          -4.505547523498535
         ],
         "xaxis": "x",
         "y": [
          -16.37932777404785,
          -1.6845362186431885,
          -10.922005653381348,
          -10.104005813598633,
          -12.953829765319824,
          -13.289142608642578,
          -12.771746635437012,
          -0.9003676176071167,
          -15.67640209197998,
          -12.290846824645996,
          -14.112020492553711,
          -13.665699005126953,
          -11.81044864654541
         ],
         "yaxis": "y"
        },
        {
         "hovertemplate": "color=pilocytic_astrocytoma<br>0=%{x}<br>1=%{y}<extra></extra>",
         "legendgroup": "pilocytic_astrocytoma",
         "marker": {
          "color": "#FFA15A",
          "symbol": "circle"
         },
         "mode": "markers",
         "name": "pilocytic_astrocytoma",
         "orientation": "v",
         "showlegend": true,
         "type": "scatter",
         "x": [
          -11.497930526733398,
          -14.458906173706055,
          -12.707480430603027,
          -18.214534759521484,
          -20.95179557800293,
          -12.840629577636719,
          -13.733192443847656,
          8.454903602600098,
          9.40256118774414,
          -12.272329330444336,
          6.9936957359313965,
          2.7970192432403564,
          8.638553619384766,
          8.666892051696777,
          7.744349956512451
         ],
         "xaxis": "x",
         "y": [
          5.628188610076904,
          6.32462739944458,
          6.422910213470459,
          5.422855377197266,
          9.42487621307373,
          6.523099899291992,
          4.823202610015869,
          -12.293489456176758,
          -11.902382850646973,
          4.756775379180908,
          -10.084477424621582,
          -0.7298681735992432,
          -11.01671028137207,
          -10.07432746887207,
          -9.315023422241211
         ],
         "yaxis": "y"
        }
       ],
       "layout": {
        "legend": {
         "title": {
          "text": "color"
         },
         "tracegroupgap": 0
        },
        "template": {
         "data": {
          "bar": [
           {
            "error_x": {
             "color": "#2a3f5f"
            },
            "error_y": {
             "color": "#2a3f5f"
            },
            "marker": {
             "line": {
              "color": "#E5ECF6",
              "width": 0.5
             },
             "pattern": {
              "fillmode": "overlay",
              "size": 10,
              "solidity": 0.2
             }
            },
            "type": "bar"
           }
          ],
          "barpolar": [
           {
            "marker": {
             "line": {
              "color": "#E5ECF6",
              "width": 0.5
             },
             "pattern": {
              "fillmode": "overlay",
              "size": 10,
              "solidity": 0.2
             }
            },
            "type": "barpolar"
           }
          ],
          "carpet": [
           {
            "aaxis": {
             "endlinecolor": "#2a3f5f",
             "gridcolor": "white",
             "linecolor": "white",
             "minorgridcolor": "white",
             "startlinecolor": "#2a3f5f"
            },
            "baxis": {
             "endlinecolor": "#2a3f5f",
             "gridcolor": "white",
             "linecolor": "white",
             "minorgridcolor": "white",
             "startlinecolor": "#2a3f5f"
            },
            "type": "carpet"
           }
          ],
          "choropleth": [
           {
            "colorbar": {
             "outlinewidth": 0,
             "ticks": ""
            },
            "type": "choropleth"
           }
          ],
          "contour": [
           {
            "colorbar": {
             "outlinewidth": 0,
             "ticks": ""
            },
            "colorscale": [
             [
              0,
              "#0d0887"
             ],
             [
              0.1111111111111111,
              "#46039f"
             ],
             [
              0.2222222222222222,
              "#7201a8"
             ],
             [
              0.3333333333333333,
              "#9c179e"
             ],
             [
              0.4444444444444444,
              "#bd3786"
             ],
             [
              0.5555555555555556,
              "#d8576b"
             ],
             [
              0.6666666666666666,
              "#ed7953"
             ],
             [
              0.7777777777777778,
              "#fb9f3a"
             ],
             [
              0.8888888888888888,
              "#fdca26"
             ],
             [
              1,
              "#f0f921"
             ]
            ],
            "type": "contour"
           }
          ],
          "contourcarpet": [
           {
            "colorbar": {
             "outlinewidth": 0,
             "ticks": ""
            },
            "type": "contourcarpet"
           }
          ],
          "heatmap": [
           {
            "colorbar": {
             "outlinewidth": 0,
             "ticks": ""
            },
            "colorscale": [
             [
              0,
              "#0d0887"
             ],
             [
              0.1111111111111111,
              "#46039f"
             ],
             [
              0.2222222222222222,
              "#7201a8"
             ],
             [
              0.3333333333333333,
              "#9c179e"
             ],
             [
              0.4444444444444444,
              "#bd3786"
             ],
             [
              0.5555555555555556,
              "#d8576b"
             ],
             [
              0.6666666666666666,
              "#ed7953"
             ],
             [
              0.7777777777777778,
              "#fb9f3a"
             ],
             [
              0.8888888888888888,
              "#fdca26"
             ],
             [
              1,
              "#f0f921"
             ]
            ],
            "type": "heatmap"
           }
          ],
          "heatmapgl": [
           {
            "colorbar": {
             "outlinewidth": 0,
             "ticks": ""
            },
            "colorscale": [
             [
              0,
              "#0d0887"
             ],
             [
              0.1111111111111111,
              "#46039f"
             ],
             [
              0.2222222222222222,
              "#7201a8"
             ],
             [
              0.3333333333333333,
              "#9c179e"
             ],
             [
              0.4444444444444444,
              "#bd3786"
             ],
             [
              0.5555555555555556,
              "#d8576b"
             ],
             [
              0.6666666666666666,
              "#ed7953"
             ],
             [
              0.7777777777777778,
              "#fb9f3a"
             ],
             [
              0.8888888888888888,
              "#fdca26"
             ],
             [
              1,
              "#f0f921"
             ]
            ],
            "type": "heatmapgl"
           }
          ],
          "histogram": [
           {
            "marker": {
             "pattern": {
              "fillmode": "overlay",
              "size": 10,
              "solidity": 0.2
             }
            },
            "type": "histogram"
           }
          ],
          "histogram2d": [
           {
            "colorbar": {
             "outlinewidth": 0,
             "ticks": ""
            },
            "colorscale": [
             [
              0,
              "#0d0887"
             ],
             [
              0.1111111111111111,
              "#46039f"
             ],
             [
              0.2222222222222222,
              "#7201a8"
             ],
             [
              0.3333333333333333,
              "#9c179e"
             ],
             [
              0.4444444444444444,
              "#bd3786"
             ],
             [
              0.5555555555555556,
              "#d8576b"
             ],
             [
              0.6666666666666666,
              "#ed7953"
             ],
             [
              0.7777777777777778,
              "#fb9f3a"
             ],
             [
              0.8888888888888888,
              "#fdca26"
             ],
             [
              1,
              "#f0f921"
             ]
            ],
            "type": "histogram2d"
           }
          ],
          "histogram2dcontour": [
           {
            "colorbar": {
             "outlinewidth": 0,
             "ticks": ""
            },
            "colorscale": [
             [
              0,
              "#0d0887"
             ],
             [
              0.1111111111111111,
              "#46039f"
             ],
             [
              0.2222222222222222,
              "#7201a8"
             ],
             [
              0.3333333333333333,
              "#9c179e"
             ],
             [
              0.4444444444444444,
              "#bd3786"
             ],
             [
              0.5555555555555556,
              "#d8576b"
             ],
             [
              0.6666666666666666,
              "#ed7953"
             ],
             [
              0.7777777777777778,
              "#fb9f3a"
             ],
             [
              0.8888888888888888,
              "#fdca26"
             ],
             [
              1,
              "#f0f921"
             ]
            ],
            "type": "histogram2dcontour"
           }
          ],
          "mesh3d": [
           {
            "colorbar": {
             "outlinewidth": 0,
             "ticks": ""
            },
            "type": "mesh3d"
           }
          ],
          "parcoords": [
           {
            "line": {
             "colorbar": {
              "outlinewidth": 0,
              "ticks": ""
             }
            },
            "type": "parcoords"
           }
          ],
          "pie": [
           {
            "automargin": true,
            "type": "pie"
           }
          ],
          "scatter": [
           {
            "marker": {
             "colorbar": {
              "outlinewidth": 0,
              "ticks": ""
             }
            },
            "type": "scatter"
           }
          ],
          "scatter3d": [
           {
            "line": {
             "colorbar": {
              "outlinewidth": 0,
              "ticks": ""
             }
            },
            "marker": {
             "colorbar": {
              "outlinewidth": 0,
              "ticks": ""
             }
            },
            "type": "scatter3d"
           }
          ],
          "scattercarpet": [
           {
            "marker": {
             "colorbar": {
              "outlinewidth": 0,
              "ticks": ""
             }
            },
            "type": "scattercarpet"
           }
          ],
          "scattergeo": [
           {
            "marker": {
             "colorbar": {
              "outlinewidth": 0,
              "ticks": ""
             }
            },
            "type": "scattergeo"
           }
          ],
          "scattergl": [
           {
            "marker": {
             "colorbar": {
              "outlinewidth": 0,
              "ticks": ""
             }
            },
            "type": "scattergl"
           }
          ],
          "scattermapbox": [
           {
            "marker": {
             "colorbar": {
              "outlinewidth": 0,
              "ticks": ""
             }
            },
            "type": "scattermapbox"
           }
          ],
          "scatterpolar": [
           {
            "marker": {
             "colorbar": {
              "outlinewidth": 0,
              "ticks": ""
             }
            },
            "type": "scatterpolar"
           }
          ],
          "scatterpolargl": [
           {
            "marker": {
             "colorbar": {
              "outlinewidth": 0,
              "ticks": ""
             }
            },
            "type": "scatterpolargl"
           }
          ],
          "scatterternary": [
           {
            "marker": {
             "colorbar": {
              "outlinewidth": 0,
              "ticks": ""
             }
            },
            "type": "scatterternary"
           }
          ],
          "surface": [
           {
            "colorbar": {
             "outlinewidth": 0,
             "ticks": ""
            },
            "colorscale": [
             [
              0,
              "#0d0887"
             ],
             [
              0.1111111111111111,
              "#46039f"
             ],
             [
              0.2222222222222222,
              "#7201a8"
             ],
             [
              0.3333333333333333,
              "#9c179e"
             ],
             [
              0.4444444444444444,
              "#bd3786"
             ],
             [
              0.5555555555555556,
              "#d8576b"
             ],
             [
              0.6666666666666666,
              "#ed7953"
             ],
             [
              0.7777777777777778,
              "#fb9f3a"
             ],
             [
              0.8888888888888888,
              "#fdca26"
             ],
             [
              1,
              "#f0f921"
             ]
            ],
            "type": "surface"
           }
          ],
          "table": [
           {
            "cells": {
             "fill": {
              "color": "#EBF0F8"
             },
             "line": {
              "color": "white"
             }
            },
            "header": {
             "fill": {
              "color": "#C8D4E3"
             },
             "line": {
              "color": "white"
             }
            },
            "type": "table"
           }
          ]
         },
         "layout": {
          "annotationdefaults": {
           "arrowcolor": "#2a3f5f",
           "arrowhead": 0,
           "arrowwidth": 1
          },
          "autotypenumbers": "strict",
          "coloraxis": {
           "colorbar": {
            "outlinewidth": 0,
            "ticks": ""
           }
          },
          "colorscale": {
           "diverging": [
            [
             0,
             "#8e0152"
            ],
            [
             0.1,
             "#c51b7d"
            ],
            [
             0.2,
             "#de77ae"
            ],
            [
             0.3,
             "#f1b6da"
            ],
            [
             0.4,
             "#fde0ef"
            ],
            [
             0.5,
             "#f7f7f7"
            ],
            [
             0.6,
             "#e6f5d0"
            ],
            [
             0.7,
             "#b8e186"
            ],
            [
             0.8,
             "#7fbc41"
            ],
            [
             0.9,
             "#4d9221"
            ],
            [
             1,
             "#276419"
            ]
           ],
           "sequential": [
            [
             0,
             "#0d0887"
            ],
            [
             0.1111111111111111,
             "#46039f"
            ],
            [
             0.2222222222222222,
             "#7201a8"
            ],
            [
             0.3333333333333333,
             "#9c179e"
            ],
            [
             0.4444444444444444,
             "#bd3786"
            ],
            [
             0.5555555555555556,
             "#d8576b"
            ],
            [
             0.6666666666666666,
             "#ed7953"
            ],
            [
             0.7777777777777778,
             "#fb9f3a"
            ],
            [
             0.8888888888888888,
             "#fdca26"
            ],
            [
             1,
             "#f0f921"
            ]
           ],
           "sequentialminus": [
            [
             0,
             "#0d0887"
            ],
            [
             0.1111111111111111,
             "#46039f"
            ],
            [
             0.2222222222222222,
             "#7201a8"
            ],
            [
             0.3333333333333333,
             "#9c179e"
            ],
            [
             0.4444444444444444,
             "#bd3786"
            ],
            [
             0.5555555555555556,
             "#d8576b"
            ],
            [
             0.6666666666666666,
             "#ed7953"
            ],
            [
             0.7777777777777778,
             "#fb9f3a"
            ],
            [
             0.8888888888888888,
             "#fdca26"
            ],
            [
             1,
             "#f0f921"
            ]
           ]
          },
          "colorway": [
           "#636efa",
           "#EF553B",
           "#00cc96",
           "#ab63fa",
           "#FFA15A",
           "#19d3f3",
           "#FF6692",
           "#B6E880",
           "#FF97FF",
           "#FECB52"
          ],
          "font": {
           "color": "#2a3f5f"
          },
          "geo": {
           "bgcolor": "white",
           "lakecolor": "white",
           "landcolor": "#E5ECF6",
           "showlakes": true,
           "showland": true,
           "subunitcolor": "white"
          },
          "hoverlabel": {
           "align": "left"
          },
          "hovermode": "closest",
          "mapbox": {
           "style": "light"
          },
          "paper_bgcolor": "white",
          "plot_bgcolor": "#E5ECF6",
          "polar": {
           "angularaxis": {
            "gridcolor": "white",
            "linecolor": "white",
            "ticks": ""
           },
           "bgcolor": "#E5ECF6",
           "radialaxis": {
            "gridcolor": "white",
            "linecolor": "white",
            "ticks": ""
           }
          },
          "scene": {
           "xaxis": {
            "backgroundcolor": "#E5ECF6",
            "gridcolor": "white",
            "gridwidth": 2,
            "linecolor": "white",
            "showbackground": true,
            "ticks": "",
            "zerolinecolor": "white"
           },
           "yaxis": {
            "backgroundcolor": "#E5ECF6",
            "gridcolor": "white",
            "gridwidth": 2,
            "linecolor": "white",
            "showbackground": true,
            "ticks": "",
            "zerolinecolor": "white"
           },
           "zaxis": {
            "backgroundcolor": "#E5ECF6",
            "gridcolor": "white",
            "gridwidth": 2,
            "linecolor": "white",
            "showbackground": true,
            "ticks": "",
            "zerolinecolor": "white"
           }
          },
          "shapedefaults": {
           "line": {
            "color": "#2a3f5f"
           }
          },
          "ternary": {
           "aaxis": {
            "gridcolor": "white",
            "linecolor": "white",
            "ticks": ""
           },
           "baxis": {
            "gridcolor": "white",
            "linecolor": "white",
            "ticks": ""
           },
           "bgcolor": "#E5ECF6",
           "caxis": {
            "gridcolor": "white",
            "linecolor": "white",
            "ticks": ""
           }
          },
          "title": {
           "x": 0.05
          },
          "xaxis": {
           "automargin": true,
           "gridcolor": "white",
           "linecolor": "white",
           "ticks": "",
           "title": {
            "standoff": 15
           },
           "zerolinecolor": "white",
           "zerolinewidth": 2
          },
          "yaxis": {
           "automargin": true,
           "gridcolor": "white",
           "linecolor": "white",
           "ticks": "",
           "title": {
            "standoff": 15
           },
           "zerolinecolor": "white",
           "zerolinewidth": 2
          }
         }
        },
        "title": {
         "text": "TSNE Components:2 Perplexity: 20"
        },
        "xaxis": {
         "anchor": "y",
         "domain": [
          0,
          1
         ],
         "title": {
          "text": "0"
         }
        },
        "yaxis": {
         "anchor": "x",
         "domain": [
          0,
          1
         ],
         "title": {
          "text": "1"
         }
        }
       }
      }
     },
     "metadata": {},
     "output_type": "display_data"
    },
    {
     "data": {
      "application/vnd.plotly.v1+json": {
       "config": {
        "plotlyServerURL": "https://plot.ly"
       },
       "data": [
        {
         "hovertemplate": "color=ependymoma<br>0=%{x}<br>1=%{y}<extra></extra>",
         "legendgroup": "ependymoma",
         "marker": {
          "color": "#636efa",
          "symbol": "circle"
         },
         "mode": "markers",
         "name": "ependymoma",
         "orientation": "v",
         "showlegend": true,
         "type": "scatter",
         "x": [
          -3.5898189544677734,
          -4.158795356750488,
          -3.4150545597076416,
          1.2646007537841797,
          -2.3866488933563232,
          -3.1834423542022705,
          -4.302181720733643,
          -3.1516900062561035,
          -3.273452043533325,
          -3.6808407306671143,
          0.6235833168029785,
          -2.3367531299591064,
          -2.928551435470581,
          -0.9168038368225098,
          -3.08182430267334,
          -0.8977049589157104,
          -4.341675281524658,
          -3.374406099319458,
          -0.8318206071853638,
          -2.716632127761841,
          -3.3713159561157227,
          -2.4659736156463623,
          -0.8794202208518982,
          -0.7070650458335876,
          -3.5038411617279053,
          -3.5341415405273438,
          -2.7121520042419434,
          -3.316317319869995,
          -0.1611134111881256,
          0.6913408637046814,
          0.9251619577407837,
          -3.8772835731506348,
          -3.652614116668701,
          0.7181670665740967,
          -3.3782196044921875,
          0.8963091373443604,
          1.0256434679031372,
          1.099554181098938,
          1.2483718395233154,
          1.3270243406295776,
          1.8065264225006104,
          2.1146352291107178,
          2.7968404293060303,
          1.5948469638824463,
          0.5567768216133118,
          0.5832416415214539
         ],
         "xaxis": "x",
         "y": [
          1.480034351348877,
          -1.111942172050476,
          -1.8234983682632446,
          -5.502071857452393,
          -0.315223753452301,
          0.5375044345855713,
          -0.485627681016922,
          0.32923445105552673,
          0.438618004322052,
          0.39531639218330383,
          -5.08350944519043,
          0.8086382150650024,
          0.1137276440858841,
          -3.749690532684326,
          -1.0865839719772339,
          -4.806835651397705,
          -0.570921003818512,
          -1.4296523332595825,
          -4.2731757164001465,
          -1.2263602018356323,
          -1.7471699714660645,
          -1.4945714473724365,
          -3.997190237045288,
          -4.290145397186279,
          -1.3962074518203735,
          -0.6806719899177551,
          -1.8490630388259888,
          -0.6486627459526062,
          -4.043230056762695,
          -5.0646233558654785,
          -5.082642555236816,
          -0.35823705792427063,
          1.5827122926712036,
          -6.090322494506836,
          -1.4084386825561523,
          -4.521854400634766,
          -3.495708703994751,
          -4.484373092651367,
          -4.7688679695129395,
          -4.91558313369751,
          -5.878635883331299,
          -6.2204742431640625,
          -4.219748020172119,
          -5.510425567626953,
          -6.830844402313232,
          -6.890997886657715
         ],
         "yaxis": "y"
        },
        {
         "hovertemplate": "color=glioblastoma<br>0=%{x}<br>1=%{y}<extra></extra>",
         "legendgroup": "glioblastoma",
         "marker": {
          "color": "#EF553B",
          "symbol": "circle"
         },
         "mode": "markers",
         "name": "glioblastoma",
         "orientation": "v",
         "showlegend": true,
         "type": "scatter",
         "x": [
          -4.408127307891846,
          -5.823126792907715,
          3.1914868354797363,
          2.544569253921509,
          2.549083948135376,
          -5.067992210388184,
          -4.858775615692139,
          -4.948441982269287,
          -5.65240478515625,
          -5.545680046081543,
          -4.475646018981934,
          -5.5949931144714355,
          -5.517047882080078,
          -5.590446949005127,
          -6.288534164428711,
          -1.291237235069275,
          3.7988040447235107,
          3.3860809803009033,
          3.893406867980957,
          3.8145389556884766,
          -4.9171600341796875,
          -3.4017856121063232,
          -5.100208759307861,
          -4.002931594848633,
          1.7160582542419434,
          -5.664831638336182,
          -5.566143035888672,
          1.9782295227050781,
          2.3086464405059814,
          2.526686668395996,
          1.7860565185546875,
          1.5833548307418823,
          1.968663215637207,
          2.281355619430542
         ],
         "xaxis": "x",
         "y": [
          -3.7499172687530518,
          -2.0764522552490234,
          -4.850356101989746,
          -5.203771114349365,
          -5.043879985809326,
          -2.967453956604004,
          -1.634729266166687,
          -0.22381265461444855,
          -1.2169634103775024,
          -0.3504180312156677,
          -1.7944880723953247,
          0.7149668335914612,
          -2.1477396488189697,
          -1.4147428274154663,
          -3.416250467300415,
          -4.603796005249023,
          -4.289169788360596,
          -6.329422950744629,
          -4.230768203735352,
          -4.130169868469238,
          0.7717787027359009,
          -2.776505470275879,
          1.0718203783035278,
          -3.3900296688079834,
          -3.136143445968628,
          -4.029143810272217,
          -3.848512649536133,
          -3.5849533081054688,
          -1.7957065105438232,
          -3.101322889328003,
          -3.2377593517303467,
          -3.3303284645080566,
          -3.3767354488372803,
          -4.480498313903809
         ],
         "yaxis": "y"
        },
        {
         "hovertemplate": "color=medulloblastoma<br>0=%{x}<br>1=%{y}<extra></extra>",
         "legendgroup": "medulloblastoma",
         "marker": {
          "color": "#00cc96",
          "symbol": "circle"
         },
         "mode": "markers",
         "name": "medulloblastoma",
         "orientation": "v",
         "showlegend": true,
         "type": "scatter",
         "x": [
          4.290279865264893,
          -7.014605522155762,
          -6.773612022399902,
          -6.998228549957275,
          -6.750705242156982,
          4.9359354972839355,
          -6.910154819488525,
          -6.817756652832031,
          -7.779716491699219,
          3.7418763637542725,
          -6.781398773193359,
          -6.902055740356445,
          4.948083400726318,
          5.080249309539795,
          5.542747974395752,
          -8.214969635009766,
          4.640707492828369,
          5.13149356842041,
          4.508298873901367,
          4.7473883628845215,
          4.278208255767822,
          -0.2640018165111542
         ],
         "xaxis": "x",
         "y": [
          -1.7533760070800781,
          -0.3338492214679718,
          -0.1851673424243927,
          -1.4987843036651611,
          -0.13960839807987213,
          -2.034416675567627,
          -1.4591001272201538,
          -0.09529244154691696,
          -0.7428147792816162,
          -5.597114562988281,
          -1.5441292524337769,
          -2.443915605545044,
          -2.3618581295013428,
          -3.3908472061157227,
          -2.522160053253174,
          -0.8141694068908691,
          -3.1032471656799316,
          -3.179015874862671,
          -3.170046806335449,
          -3.1011922359466553,
          -2.629643440246582,
          -2.6509556770324707
         ],
         "yaxis": "y"
        },
        {
         "hovertemplate": "color=normal<br>0=%{x}<br>1=%{y}<extra></extra>",
         "legendgroup": "normal",
         "marker": {
          "color": "#ab63fa",
          "symbol": "circle"
         },
         "mode": "markers",
         "name": "normal",
         "orientation": "v",
         "showlegend": true,
         "type": "scatter",
         "x": [
          0.7634397745132446,
          -5.205356597900391,
          2.8783440589904785,
          1.7052611112594604,
          2.0637454986572266,
          2.0221614837646484,
          2.0384814739227295,
          -5.349306106567383,
          1.3878649473190308,
          1.088905930519104,
          2.0042471885681152,
          2.033933639526367,
          1.112653136253357
         ],
         "xaxis": "x",
         "y": [
          -0.9724860787391663,
          2.2969024181365967,
          -0.8825992345809937,
          0.9091759920120239,
          -0.8873636722564697,
          -0.4930991232395172,
          -0.6066078543663025,
          2.0190980434417725,
          -1.2254196405410767,
          0.06533075124025345,
          -1.0258764028549194,
          -1.0044353008270264,
          0.1617358773946762
         ],
         "yaxis": "y"
        },
        {
         "hovertemplate": "color=pilocytic_astrocytoma<br>0=%{x}<br>1=%{y}<extra></extra>",
         "legendgroup": "pilocytic_astrocytoma",
         "marker": {
          "color": "#FFA15A",
          "symbol": "circle"
         },
         "mode": "markers",
         "name": "pilocytic_astrocytoma",
         "orientation": "v",
         "showlegend": true,
         "type": "scatter",
         "x": [
          -4.401998519897461,
          -3.585706949234009,
          -4.612170696258545,
          -4.968955039978027,
          -4.260225296020508,
          -4.557432174682617,
          -4.201358318328857,
          2.6209869384765625,
          2.7602920532226562,
          -4.02097225189209,
          2.244269847869873,
          0.1303989589214325,
          2.6314857006073,
          2.705735445022583,
          2.6881539821624756
         ],
         "xaxis": "x",
         "y": [
          -2.4836554527282715,
          -3.1198930740356445,
          -2.5257980823516846,
          0.09537699818611145,
          1.3801382780075073,
          -2.6105215549468994,
          -2.244535207748413,
          -4.620882987976074,
          -4.4132771492004395,
          -3.093946933746338,
          -3.975646495819092,
          -3.394038200378418,
          -4.288729190826416,
          -3.905886650085449,
          -3.5039544105529785
         ],
         "yaxis": "y"
        }
       ],
       "layout": {
        "legend": {
         "title": {
          "text": "color"
         },
         "tracegroupgap": 0
        },
        "template": {
         "data": {
          "bar": [
           {
            "error_x": {
             "color": "#2a3f5f"
            },
            "error_y": {
             "color": "#2a3f5f"
            },
            "marker": {
             "line": {
              "color": "#E5ECF6",
              "width": 0.5
             },
             "pattern": {
              "fillmode": "overlay",
              "size": 10,
              "solidity": 0.2
             }
            },
            "type": "bar"
           }
          ],
          "barpolar": [
           {
            "marker": {
             "line": {
              "color": "#E5ECF6",
              "width": 0.5
             },
             "pattern": {
              "fillmode": "overlay",
              "size": 10,
              "solidity": 0.2
             }
            },
            "type": "barpolar"
           }
          ],
          "carpet": [
           {
            "aaxis": {
             "endlinecolor": "#2a3f5f",
             "gridcolor": "white",
             "linecolor": "white",
             "minorgridcolor": "white",
             "startlinecolor": "#2a3f5f"
            },
            "baxis": {
             "endlinecolor": "#2a3f5f",
             "gridcolor": "white",
             "linecolor": "white",
             "minorgridcolor": "white",
             "startlinecolor": "#2a3f5f"
            },
            "type": "carpet"
           }
          ],
          "choropleth": [
           {
            "colorbar": {
             "outlinewidth": 0,
             "ticks": ""
            },
            "type": "choropleth"
           }
          ],
          "contour": [
           {
            "colorbar": {
             "outlinewidth": 0,
             "ticks": ""
            },
            "colorscale": [
             [
              0,
              "#0d0887"
             ],
             [
              0.1111111111111111,
              "#46039f"
             ],
             [
              0.2222222222222222,
              "#7201a8"
             ],
             [
              0.3333333333333333,
              "#9c179e"
             ],
             [
              0.4444444444444444,
              "#bd3786"
             ],
             [
              0.5555555555555556,
              "#d8576b"
             ],
             [
              0.6666666666666666,
              "#ed7953"
             ],
             [
              0.7777777777777778,
              "#fb9f3a"
             ],
             [
              0.8888888888888888,
              "#fdca26"
             ],
             [
              1,
              "#f0f921"
             ]
            ],
            "type": "contour"
           }
          ],
          "contourcarpet": [
           {
            "colorbar": {
             "outlinewidth": 0,
             "ticks": ""
            },
            "type": "contourcarpet"
           }
          ],
          "heatmap": [
           {
            "colorbar": {
             "outlinewidth": 0,
             "ticks": ""
            },
            "colorscale": [
             [
              0,
              "#0d0887"
             ],
             [
              0.1111111111111111,
              "#46039f"
             ],
             [
              0.2222222222222222,
              "#7201a8"
             ],
             [
              0.3333333333333333,
              "#9c179e"
             ],
             [
              0.4444444444444444,
              "#bd3786"
             ],
             [
              0.5555555555555556,
              "#d8576b"
             ],
             [
              0.6666666666666666,
              "#ed7953"
             ],
             [
              0.7777777777777778,
              "#fb9f3a"
             ],
             [
              0.8888888888888888,
              "#fdca26"
             ],
             [
              1,
              "#f0f921"
             ]
            ],
            "type": "heatmap"
           }
          ],
          "heatmapgl": [
           {
            "colorbar": {
             "outlinewidth": 0,
             "ticks": ""
            },
            "colorscale": [
             [
              0,
              "#0d0887"
             ],
             [
              0.1111111111111111,
              "#46039f"
             ],
             [
              0.2222222222222222,
              "#7201a8"
             ],
             [
              0.3333333333333333,
              "#9c179e"
             ],
             [
              0.4444444444444444,
              "#bd3786"
             ],
             [
              0.5555555555555556,
              "#d8576b"
             ],
             [
              0.6666666666666666,
              "#ed7953"
             ],
             [
              0.7777777777777778,
              "#fb9f3a"
             ],
             [
              0.8888888888888888,
              "#fdca26"
             ],
             [
              1,
              "#f0f921"
             ]
            ],
            "type": "heatmapgl"
           }
          ],
          "histogram": [
           {
            "marker": {
             "pattern": {
              "fillmode": "overlay",
              "size": 10,
              "solidity": 0.2
             }
            },
            "type": "histogram"
           }
          ],
          "histogram2d": [
           {
            "colorbar": {
             "outlinewidth": 0,
             "ticks": ""
            },
            "colorscale": [
             [
              0,
              "#0d0887"
             ],
             [
              0.1111111111111111,
              "#46039f"
             ],
             [
              0.2222222222222222,
              "#7201a8"
             ],
             [
              0.3333333333333333,
              "#9c179e"
             ],
             [
              0.4444444444444444,
              "#bd3786"
             ],
             [
              0.5555555555555556,
              "#d8576b"
             ],
             [
              0.6666666666666666,
              "#ed7953"
             ],
             [
              0.7777777777777778,
              "#fb9f3a"
             ],
             [
              0.8888888888888888,
              "#fdca26"
             ],
             [
              1,
              "#f0f921"
             ]
            ],
            "type": "histogram2d"
           }
          ],
          "histogram2dcontour": [
           {
            "colorbar": {
             "outlinewidth": 0,
             "ticks": ""
            },
            "colorscale": [
             [
              0,
              "#0d0887"
             ],
             [
              0.1111111111111111,
              "#46039f"
             ],
             [
              0.2222222222222222,
              "#7201a8"
             ],
             [
              0.3333333333333333,
              "#9c179e"
             ],
             [
              0.4444444444444444,
              "#bd3786"
             ],
             [
              0.5555555555555556,
              "#d8576b"
             ],
             [
              0.6666666666666666,
              "#ed7953"
             ],
             [
              0.7777777777777778,
              "#fb9f3a"
             ],
             [
              0.8888888888888888,
              "#fdca26"
             ],
             [
              1,
              "#f0f921"
             ]
            ],
            "type": "histogram2dcontour"
           }
          ],
          "mesh3d": [
           {
            "colorbar": {
             "outlinewidth": 0,
             "ticks": ""
            },
            "type": "mesh3d"
           }
          ],
          "parcoords": [
           {
            "line": {
             "colorbar": {
              "outlinewidth": 0,
              "ticks": ""
             }
            },
            "type": "parcoords"
           }
          ],
          "pie": [
           {
            "automargin": true,
            "type": "pie"
           }
          ],
          "scatter": [
           {
            "marker": {
             "colorbar": {
              "outlinewidth": 0,
              "ticks": ""
             }
            },
            "type": "scatter"
           }
          ],
          "scatter3d": [
           {
            "line": {
             "colorbar": {
              "outlinewidth": 0,
              "ticks": ""
             }
            },
            "marker": {
             "colorbar": {
              "outlinewidth": 0,
              "ticks": ""
             }
            },
            "type": "scatter3d"
           }
          ],
          "scattercarpet": [
           {
            "marker": {
             "colorbar": {
              "outlinewidth": 0,
              "ticks": ""
             }
            },
            "type": "scattercarpet"
           }
          ],
          "scattergeo": [
           {
            "marker": {
             "colorbar": {
              "outlinewidth": 0,
              "ticks": ""
             }
            },
            "type": "scattergeo"
           }
          ],
          "scattergl": [
           {
            "marker": {
             "colorbar": {
              "outlinewidth": 0,
              "ticks": ""
             }
            },
            "type": "scattergl"
           }
          ],
          "scattermapbox": [
           {
            "marker": {
             "colorbar": {
              "outlinewidth": 0,
              "ticks": ""
             }
            },
            "type": "scattermapbox"
           }
          ],
          "scatterpolar": [
           {
            "marker": {
             "colorbar": {
              "outlinewidth": 0,
              "ticks": ""
             }
            },
            "type": "scatterpolar"
           }
          ],
          "scatterpolargl": [
           {
            "marker": {
             "colorbar": {
              "outlinewidth": 0,
              "ticks": ""
             }
            },
            "type": "scatterpolargl"
           }
          ],
          "scatterternary": [
           {
            "marker": {
             "colorbar": {
              "outlinewidth": 0,
              "ticks": ""
             }
            },
            "type": "scatterternary"
           }
          ],
          "surface": [
           {
            "colorbar": {
             "outlinewidth": 0,
             "ticks": ""
            },
            "colorscale": [
             [
              0,
              "#0d0887"
             ],
             [
              0.1111111111111111,
              "#46039f"
             ],
             [
              0.2222222222222222,
              "#7201a8"
             ],
             [
              0.3333333333333333,
              "#9c179e"
             ],
             [
              0.4444444444444444,
              "#bd3786"
             ],
             [
              0.5555555555555556,
              "#d8576b"
             ],
             [
              0.6666666666666666,
              "#ed7953"
             ],
             [
              0.7777777777777778,
              "#fb9f3a"
             ],
             [
              0.8888888888888888,
              "#fdca26"
             ],
             [
              1,
              "#f0f921"
             ]
            ],
            "type": "surface"
           }
          ],
          "table": [
           {
            "cells": {
             "fill": {
              "color": "#EBF0F8"
             },
             "line": {
              "color": "white"
             }
            },
            "header": {
             "fill": {
              "color": "#C8D4E3"
             },
             "line": {
              "color": "white"
             }
            },
            "type": "table"
           }
          ]
         },
         "layout": {
          "annotationdefaults": {
           "arrowcolor": "#2a3f5f",
           "arrowhead": 0,
           "arrowwidth": 1
          },
          "autotypenumbers": "strict",
          "coloraxis": {
           "colorbar": {
            "outlinewidth": 0,
            "ticks": ""
           }
          },
          "colorscale": {
           "diverging": [
            [
             0,
             "#8e0152"
            ],
            [
             0.1,
             "#c51b7d"
            ],
            [
             0.2,
             "#de77ae"
            ],
            [
             0.3,
             "#f1b6da"
            ],
            [
             0.4,
             "#fde0ef"
            ],
            [
             0.5,
             "#f7f7f7"
            ],
            [
             0.6,
             "#e6f5d0"
            ],
            [
             0.7,
             "#b8e186"
            ],
            [
             0.8,
             "#7fbc41"
            ],
            [
             0.9,
             "#4d9221"
            ],
            [
             1,
             "#276419"
            ]
           ],
           "sequential": [
            [
             0,
             "#0d0887"
            ],
            [
             0.1111111111111111,
             "#46039f"
            ],
            [
             0.2222222222222222,
             "#7201a8"
            ],
            [
             0.3333333333333333,
             "#9c179e"
            ],
            [
             0.4444444444444444,
             "#bd3786"
            ],
            [
             0.5555555555555556,
             "#d8576b"
            ],
            [
             0.6666666666666666,
             "#ed7953"
            ],
            [
             0.7777777777777778,
             "#fb9f3a"
            ],
            [
             0.8888888888888888,
             "#fdca26"
            ],
            [
             1,
             "#f0f921"
            ]
           ],
           "sequentialminus": [
            [
             0,
             "#0d0887"
            ],
            [
             0.1111111111111111,
             "#46039f"
            ],
            [
             0.2222222222222222,
             "#7201a8"
            ],
            [
             0.3333333333333333,
             "#9c179e"
            ],
            [
             0.4444444444444444,
             "#bd3786"
            ],
            [
             0.5555555555555556,
             "#d8576b"
            ],
            [
             0.6666666666666666,
             "#ed7953"
            ],
            [
             0.7777777777777778,
             "#fb9f3a"
            ],
            [
             0.8888888888888888,
             "#fdca26"
            ],
            [
             1,
             "#f0f921"
            ]
           ]
          },
          "colorway": [
           "#636efa",
           "#EF553B",
           "#00cc96",
           "#ab63fa",
           "#FFA15A",
           "#19d3f3",
           "#FF6692",
           "#B6E880",
           "#FF97FF",
           "#FECB52"
          ],
          "font": {
           "color": "#2a3f5f"
          },
          "geo": {
           "bgcolor": "white",
           "lakecolor": "white",
           "landcolor": "#E5ECF6",
           "showlakes": true,
           "showland": true,
           "subunitcolor": "white"
          },
          "hoverlabel": {
           "align": "left"
          },
          "hovermode": "closest",
          "mapbox": {
           "style": "light"
          },
          "paper_bgcolor": "white",
          "plot_bgcolor": "#E5ECF6",
          "polar": {
           "angularaxis": {
            "gridcolor": "white",
            "linecolor": "white",
            "ticks": ""
           },
           "bgcolor": "#E5ECF6",
           "radialaxis": {
            "gridcolor": "white",
            "linecolor": "white",
            "ticks": ""
           }
          },
          "scene": {
           "xaxis": {
            "backgroundcolor": "#E5ECF6",
            "gridcolor": "white",
            "gridwidth": 2,
            "linecolor": "white",
            "showbackground": true,
            "ticks": "",
            "zerolinecolor": "white"
           },
           "yaxis": {
            "backgroundcolor": "#E5ECF6",
            "gridcolor": "white",
            "gridwidth": 2,
            "linecolor": "white",
            "showbackground": true,
            "ticks": "",
            "zerolinecolor": "white"
           },
           "zaxis": {
            "backgroundcolor": "#E5ECF6",
            "gridcolor": "white",
            "gridwidth": 2,
            "linecolor": "white",
            "showbackground": true,
            "ticks": "",
            "zerolinecolor": "white"
           }
          },
          "shapedefaults": {
           "line": {
            "color": "#2a3f5f"
           }
          },
          "ternary": {
           "aaxis": {
            "gridcolor": "white",
            "linecolor": "white",
            "ticks": ""
           },
           "baxis": {
            "gridcolor": "white",
            "linecolor": "white",
            "ticks": ""
           },
           "bgcolor": "#E5ECF6",
           "caxis": {
            "gridcolor": "white",
            "linecolor": "white",
            "ticks": ""
           }
          },
          "title": {
           "x": 0.05
          },
          "xaxis": {
           "automargin": true,
           "gridcolor": "white",
           "linecolor": "white",
           "ticks": "",
           "title": {
            "standoff": 15
           },
           "zerolinecolor": "white",
           "zerolinewidth": 2
          },
          "yaxis": {
           "automargin": true,
           "gridcolor": "white",
           "linecolor": "white",
           "ticks": "",
           "title": {
            "standoff": 15
           },
           "zerolinecolor": "white",
           "zerolinewidth": 2
          }
         }
        },
        "title": {
         "text": "TSNE Components:2 Perplexity: 50"
        },
        "xaxis": {
         "anchor": "y",
         "domain": [
          0,
          1
         ],
         "title": {
          "text": "0"
         }
        },
        "yaxis": {
         "anchor": "x",
         "domain": [
          0,
          1
         ],
         "title": {
          "text": "1"
         }
        }
       }
      }
     },
     "metadata": {},
     "output_type": "display_data"
    },
    {
     "data": {
      "application/vnd.plotly.v1+json": {
       "config": {
        "plotlyServerURL": "https://plot.ly"
       },
       "data": [
        {
         "hovertemplate": "color=ependymoma<br>0=%{x}<br>1=%{y}<extra></extra>",
         "legendgroup": "ependymoma",
         "marker": {
          "color": "#636efa",
          "symbol": "circle"
         },
         "mode": "markers",
         "name": "ependymoma",
         "orientation": "v",
         "showlegend": true,
         "type": "scatter",
         "x": [
          -0.2069777399301529,
          -0.548980712890625,
          -0.22232839465141296,
          -1.0339616537094116,
          -0.5449101328849792,
          -0.3817845582962036,
          -0.15284959971904755,
          -0.41815823316574097,
          -0.30778247117996216,
          -0.21178191900253296,
          -1.2127630710601807,
          -0.829662561416626,
          -0.4099777042865753,
          -1.202125072479248,
          -0.3714446425437927,
          -1.136743426322937,
          -0.23534509539604187,
          -0.232048898935318,
          -0.9818897843360901,
          -0.5276961326599121,
          -0.20289285480976105,
          -0.28305864334106445,
          -1.1577293872833252,
          -0.9312699437141418,
          -0.21554434299468994,
          -0.19942180812358856,
          -0.3947303891181946,
          -0.30198580026626587,
          -0.8162597417831421,
          -1.1881252527236938,
          -1.0961717367172241,
          -0.23257385194301605,
          -0.15869858860969543,
          -1.0792995691299438,
          -0.22553546726703644,
          -1.1411454677581787,
          -0.9791200757026672,
          -0.9627789258956909,
          -0.8862400650978088,
          -0.9602237343788147,
          -1.1000951528549194,
          -1.276393175125122,
          -0.5814889073371887,
          -0.8976090550422668,
          -1.7078028917312622,
          -1.6546294689178467
         ],
         "xaxis": "x",
         "y": [
          -1.4227980375289917,
          -0.5645388960838318,
          -0.16499847173690796,
          1.2062745094299316,
          -0.37917470932006836,
          -0.9399834871292114,
          -0.8726856708526611,
          -0.8358627557754517,
          -0.7835196256637573,
          -0.9374727010726929,
          1.0322622060775757,
          -0.8187626004219055,
          -0.8872952461242676,
          0.5596615076065063,
          -0.37462231516838074,
          0.34895339608192444,
          -0.7898691892623901,
          -0.3664379119873047,
          0.3578692674636841,
          -0.4106449484825134,
          -0.34645041823387146,
          -0.35463207960128784,
          0.4616100490093231,
          0.40732645988464355,
          -0.504397988319397,
          -0.7016209959983826,
          -0.17767982184886932,
          -0.6510306596755981,
          0.440553218126297,
          1.1521662473678589,
          1.021268606185913,
          -0.8824636340141296,
          -1.4541529417037964,
          0.5819414258003235,
          -0.3071337044239044,
          1.2356200218200684,
          1.9052953720092773,
          1.205615758895874,
          1.1209778785705566,
          1.0079940557479858,
          1.477293610572815,
          1.1755340099334717,
          1.2919193506240845,
          1.1303119659423828,
          1.092443585395813,
          1.1781643629074097
         ],
         "yaxis": "y"
        },
        {
         "hovertemplate": "color=glioblastoma<br>0=%{x}<br>1=%{y}<extra></extra>",
         "legendgroup": "glioblastoma",
         "marker": {
          "color": "#EF553B",
          "symbol": "circle"
         },
         "mode": "markers",
         "name": "glioblastoma",
         "orientation": "v",
         "showlegend": true,
         "type": "scatter",
         "x": [
          0.2122071534395218,
          0.6148256063461304,
          -0.5076894164085388,
          -0.5649569630622864,
          -0.4935320317745209,
          0.14517423510551453,
          0.17835767567157745,
          0.22806276381015778,
          0.43293195962905884,
          0.48156023025512695,
          0.12442073225975037,
          0.5884537100791931,
          0.39338791370391846,
          0.5113211870193481,
          1.0448369979858398,
          -1.0905605554580688,
          -0.6371601819992065,
          -1.3787329196929932,
          -0.5513033270835876,
          -0.32022565603256226,
          0.3180122971534729,
          0.044677216559648514,
          0.5402897000312805,
          0.28352415561676025,
          -0.914714515209198,
          0.7024949789047241,
          0.17340493202209473,
          -0.780768871307373,
          0.0757446363568306,
          -0.44493532180786133,
          -0.7735814452171326,
          -0.7977011203765869,
          -0.6534937024116516,
          -0.6527652740478516
         ],
         "xaxis": "x",
         "y": [
          -0.43486833572387695,
          -0.3733275532722473,
          1.249157190322876,
          1.1396698951721191,
          1.084437608718872,
          -0.7897674441337585,
          -0.3142186999320984,
          -0.9566640257835388,
          -0.46096670627593994,
          -0.9002328515052795,
          -0.28925061225891113,
          -0.9958041906356812,
          -0.2657281160354614,
          -0.6539210677146912,
          -0.23526166379451752,
          0.4071011543273926,
          1.6865243911743164,
          1.7964320182800293,
          1.7101997137069702,
          1.5350531339645386,
          -0.9990307092666626,
          -0.4885914921760559,
          -1.2719454765319824,
          -0.21458780765533447,
          1.7188774347305298,
          0.25528544187545776,
          1.6296054124832153,
          1.442818284034729,
          1.473466396331787,
          1.317185401916504,
          1.5065170526504517,
          1.3365758657455444,
          1.4846413135528564,
          1.1677106618881226
         ],
         "yaxis": "y"
        },
        {
         "hovertemplate": "color=medulloblastoma<br>0=%{x}<br>1=%{y}<extra></extra>",
         "legendgroup": "medulloblastoma",
         "marker": {
          "color": "#00cc96",
          "symbol": "circle"
         },
         "mode": "markers",
         "name": "medulloblastoma",
         "orientation": "v",
         "showlegend": true,
         "type": "scatter",
         "x": [
          0.12389089167118073,
          0.9517995119094849,
          0.9059706926345825,
          1.1185253858566284,
          0.8936128616333008,
          -0.040725696831941605,
          0.9101012349128723,
          0.9996521472930908,
          1.0139970779418945,
          -1.0264700651168823,
          0.781330406665802,
          0.7284436225891113,
          -0.019021615386009216,
          -0.23305976390838623,
          -0.3436058759689331,
          0.7050184011459351,
          -0.1357606202363968,
          -0.1873110830783844,
          -0.14734071493148804,
          -0.11735476553440094,
          -0.22141073644161224,
          -0.04306014999747276
         ],
         "xaxis": "x",
         "y": [
          2.4384841918945312,
          -0.42749467492103577,
          -0.4495699107646942,
          -0.4781773090362549,
          -0.6470645666122437,
          2.0536458492279053,
          -0.2931930720806122,
          -0.5561835765838623,
          0.23901917040348053,
          1.775476336479187,
          -0.08208798617124557,
          0.20155732333660126,
          2.0345451831817627,
          2.0058131217956543,
          2.2325692176818848,
          0.9679853320121765,
          1.9417716264724731,
          2.218618869781494,
          1.8868942260742188,
          1.9010502099990845,
          2.0059971809387207,
          0.7936362028121948
         ],
         "yaxis": "y"
        },
        {
         "hovertemplate": "color=normal<br>0=%{x}<br>1=%{y}<extra></extra>",
         "legendgroup": "normal",
         "marker": {
          "color": "#ab63fa",
          "symbol": "circle"
         },
         "mode": "markers",
         "name": "normal",
         "orientation": "v",
         "showlegend": true,
         "type": "scatter",
         "x": [
          0.8616480827331543,
          0.9734620451927185,
          0.2742792069911957,
          -1.7733216285705566,
          0.381763756275177,
          0.48904886841773987,
          0.48331475257873535,
          0.680003821849823,
          0.5085919499397278,
          0.6320956945419312,
          0.37202829122543335,
          0.34875231981277466,
          0.6883777976036072
         ],
         "xaxis": "x",
         "y": [
          1.1281627416610718,
          0.07093677669763565,
          1.3267788887023926,
          -0.6608924865722656,
          1.3899887800216675,
          1.3725817203521729,
          1.3989242315292358,
          -1.0102487802505493,
          1.4818519353866577,
          0.8393914699554443,
          1.3957562446594238,
          1.3783903121948242,
          0.7977469563484192
         ],
         "yaxis": "y"
        },
        {
         "hovertemplate": "color=pilocytic_astrocytoma<br>0=%{x}<br>1=%{y}<extra></extra>",
         "legendgroup": "pilocytic_astrocytoma",
         "marker": {
          "color": "#FFA15A",
          "symbol": "circle"
         },
         "mode": "markers",
         "name": "pilocytic_astrocytoma",
         "orientation": "v",
         "showlegend": true,
         "type": "scatter",
         "x": [
          0.17454996705055237,
          0.010317672044038773,
          1.035265326499939,
          0.31690776348114014,
          0.1549123227596283,
          0.6099308729171753,
          0.0777842104434967,
          -0.5257635116577148,
          -0.47639012336730957,
          0.024346821010112762,
          -0.5708362460136414,
          -0.47194570302963257,
          -0.5534955859184265,
          -0.4223851263523102,
          -0.414966881275177
         ],
         "xaxis": "x",
         "y": [
          -0.13784898817539215,
          -0.044818177819252014,
          -1.238152027130127,
          -1.166447639465332,
          -1.3635838031768799,
          -0.7266933917999268,
          -0.34267306327819824,
          1.0406707525253296,
          1.085726261138916,
          -0.004271745681762695,
          1.1901017427444458,
          0.6577814817428589,
          1.2304494380950928,
          1.2779728174209595,
          1.33267343044281
         ],
         "yaxis": "y"
        }
       ],
       "layout": {
        "legend": {
         "title": {
          "text": "color"
         },
         "tracegroupgap": 0
        },
        "template": {
         "data": {
          "bar": [
           {
            "error_x": {
             "color": "#2a3f5f"
            },
            "error_y": {
             "color": "#2a3f5f"
            },
            "marker": {
             "line": {
              "color": "#E5ECF6",
              "width": 0.5
             },
             "pattern": {
              "fillmode": "overlay",
              "size": 10,
              "solidity": 0.2
             }
            },
            "type": "bar"
           }
          ],
          "barpolar": [
           {
            "marker": {
             "line": {
              "color": "#E5ECF6",
              "width": 0.5
             },
             "pattern": {
              "fillmode": "overlay",
              "size": 10,
              "solidity": 0.2
             }
            },
            "type": "barpolar"
           }
          ],
          "carpet": [
           {
            "aaxis": {
             "endlinecolor": "#2a3f5f",
             "gridcolor": "white",
             "linecolor": "white",
             "minorgridcolor": "white",
             "startlinecolor": "#2a3f5f"
            },
            "baxis": {
             "endlinecolor": "#2a3f5f",
             "gridcolor": "white",
             "linecolor": "white",
             "minorgridcolor": "white",
             "startlinecolor": "#2a3f5f"
            },
            "type": "carpet"
           }
          ],
          "choropleth": [
           {
            "colorbar": {
             "outlinewidth": 0,
             "ticks": ""
            },
            "type": "choropleth"
           }
          ],
          "contour": [
           {
            "colorbar": {
             "outlinewidth": 0,
             "ticks": ""
            },
            "colorscale": [
             [
              0,
              "#0d0887"
             ],
             [
              0.1111111111111111,
              "#46039f"
             ],
             [
              0.2222222222222222,
              "#7201a8"
             ],
             [
              0.3333333333333333,
              "#9c179e"
             ],
             [
              0.4444444444444444,
              "#bd3786"
             ],
             [
              0.5555555555555556,
              "#d8576b"
             ],
             [
              0.6666666666666666,
              "#ed7953"
             ],
             [
              0.7777777777777778,
              "#fb9f3a"
             ],
             [
              0.8888888888888888,
              "#fdca26"
             ],
             [
              1,
              "#f0f921"
             ]
            ],
            "type": "contour"
           }
          ],
          "contourcarpet": [
           {
            "colorbar": {
             "outlinewidth": 0,
             "ticks": ""
            },
            "type": "contourcarpet"
           }
          ],
          "heatmap": [
           {
            "colorbar": {
             "outlinewidth": 0,
             "ticks": ""
            },
            "colorscale": [
             [
              0,
              "#0d0887"
             ],
             [
              0.1111111111111111,
              "#46039f"
             ],
             [
              0.2222222222222222,
              "#7201a8"
             ],
             [
              0.3333333333333333,
              "#9c179e"
             ],
             [
              0.4444444444444444,
              "#bd3786"
             ],
             [
              0.5555555555555556,
              "#d8576b"
             ],
             [
              0.6666666666666666,
              "#ed7953"
             ],
             [
              0.7777777777777778,
              "#fb9f3a"
             ],
             [
              0.8888888888888888,
              "#fdca26"
             ],
             [
              1,
              "#f0f921"
             ]
            ],
            "type": "heatmap"
           }
          ],
          "heatmapgl": [
           {
            "colorbar": {
             "outlinewidth": 0,
             "ticks": ""
            },
            "colorscale": [
             [
              0,
              "#0d0887"
             ],
             [
              0.1111111111111111,
              "#46039f"
             ],
             [
              0.2222222222222222,
              "#7201a8"
             ],
             [
              0.3333333333333333,
              "#9c179e"
             ],
             [
              0.4444444444444444,
              "#bd3786"
             ],
             [
              0.5555555555555556,
              "#d8576b"
             ],
             [
              0.6666666666666666,
              "#ed7953"
             ],
             [
              0.7777777777777778,
              "#fb9f3a"
             ],
             [
              0.8888888888888888,
              "#fdca26"
             ],
             [
              1,
              "#f0f921"
             ]
            ],
            "type": "heatmapgl"
           }
          ],
          "histogram": [
           {
            "marker": {
             "pattern": {
              "fillmode": "overlay",
              "size": 10,
              "solidity": 0.2
             }
            },
            "type": "histogram"
           }
          ],
          "histogram2d": [
           {
            "colorbar": {
             "outlinewidth": 0,
             "ticks": ""
            },
            "colorscale": [
             [
              0,
              "#0d0887"
             ],
             [
              0.1111111111111111,
              "#46039f"
             ],
             [
              0.2222222222222222,
              "#7201a8"
             ],
             [
              0.3333333333333333,
              "#9c179e"
             ],
             [
              0.4444444444444444,
              "#bd3786"
             ],
             [
              0.5555555555555556,
              "#d8576b"
             ],
             [
              0.6666666666666666,
              "#ed7953"
             ],
             [
              0.7777777777777778,
              "#fb9f3a"
             ],
             [
              0.8888888888888888,
              "#fdca26"
             ],
             [
              1,
              "#f0f921"
             ]
            ],
            "type": "histogram2d"
           }
          ],
          "histogram2dcontour": [
           {
            "colorbar": {
             "outlinewidth": 0,
             "ticks": ""
            },
            "colorscale": [
             [
              0,
              "#0d0887"
             ],
             [
              0.1111111111111111,
              "#46039f"
             ],
             [
              0.2222222222222222,
              "#7201a8"
             ],
             [
              0.3333333333333333,
              "#9c179e"
             ],
             [
              0.4444444444444444,
              "#bd3786"
             ],
             [
              0.5555555555555556,
              "#d8576b"
             ],
             [
              0.6666666666666666,
              "#ed7953"
             ],
             [
              0.7777777777777778,
              "#fb9f3a"
             ],
             [
              0.8888888888888888,
              "#fdca26"
             ],
             [
              1,
              "#f0f921"
             ]
            ],
            "type": "histogram2dcontour"
           }
          ],
          "mesh3d": [
           {
            "colorbar": {
             "outlinewidth": 0,
             "ticks": ""
            },
            "type": "mesh3d"
           }
          ],
          "parcoords": [
           {
            "line": {
             "colorbar": {
              "outlinewidth": 0,
              "ticks": ""
             }
            },
            "type": "parcoords"
           }
          ],
          "pie": [
           {
            "automargin": true,
            "type": "pie"
           }
          ],
          "scatter": [
           {
            "marker": {
             "colorbar": {
              "outlinewidth": 0,
              "ticks": ""
             }
            },
            "type": "scatter"
           }
          ],
          "scatter3d": [
           {
            "line": {
             "colorbar": {
              "outlinewidth": 0,
              "ticks": ""
             }
            },
            "marker": {
             "colorbar": {
              "outlinewidth": 0,
              "ticks": ""
             }
            },
            "type": "scatter3d"
           }
          ],
          "scattercarpet": [
           {
            "marker": {
             "colorbar": {
              "outlinewidth": 0,
              "ticks": ""
             }
            },
            "type": "scattercarpet"
           }
          ],
          "scattergeo": [
           {
            "marker": {
             "colorbar": {
              "outlinewidth": 0,
              "ticks": ""
             }
            },
            "type": "scattergeo"
           }
          ],
          "scattergl": [
           {
            "marker": {
             "colorbar": {
              "outlinewidth": 0,
              "ticks": ""
             }
            },
            "type": "scattergl"
           }
          ],
          "scattermapbox": [
           {
            "marker": {
             "colorbar": {
              "outlinewidth": 0,
              "ticks": ""
             }
            },
            "type": "scattermapbox"
           }
          ],
          "scatterpolar": [
           {
            "marker": {
             "colorbar": {
              "outlinewidth": 0,
              "ticks": ""
             }
            },
            "type": "scatterpolar"
           }
          ],
          "scatterpolargl": [
           {
            "marker": {
             "colorbar": {
              "outlinewidth": 0,
              "ticks": ""
             }
            },
            "type": "scatterpolargl"
           }
          ],
          "scatterternary": [
           {
            "marker": {
             "colorbar": {
              "outlinewidth": 0,
              "ticks": ""
             }
            },
            "type": "scatterternary"
           }
          ],
          "surface": [
           {
            "colorbar": {
             "outlinewidth": 0,
             "ticks": ""
            },
            "colorscale": [
             [
              0,
              "#0d0887"
             ],
             [
              0.1111111111111111,
              "#46039f"
             ],
             [
              0.2222222222222222,
              "#7201a8"
             ],
             [
              0.3333333333333333,
              "#9c179e"
             ],
             [
              0.4444444444444444,
              "#bd3786"
             ],
             [
              0.5555555555555556,
              "#d8576b"
             ],
             [
              0.6666666666666666,
              "#ed7953"
             ],
             [
              0.7777777777777778,
              "#fb9f3a"
             ],
             [
              0.8888888888888888,
              "#fdca26"
             ],
             [
              1,
              "#f0f921"
             ]
            ],
            "type": "surface"
           }
          ],
          "table": [
           {
            "cells": {
             "fill": {
              "color": "#EBF0F8"
             },
             "line": {
              "color": "white"
             }
            },
            "header": {
             "fill": {
              "color": "#C8D4E3"
             },
             "line": {
              "color": "white"
             }
            },
            "type": "table"
           }
          ]
         },
         "layout": {
          "annotationdefaults": {
           "arrowcolor": "#2a3f5f",
           "arrowhead": 0,
           "arrowwidth": 1
          },
          "autotypenumbers": "strict",
          "coloraxis": {
           "colorbar": {
            "outlinewidth": 0,
            "ticks": ""
           }
          },
          "colorscale": {
           "diverging": [
            [
             0,
             "#8e0152"
            ],
            [
             0.1,
             "#c51b7d"
            ],
            [
             0.2,
             "#de77ae"
            ],
            [
             0.3,
             "#f1b6da"
            ],
            [
             0.4,
             "#fde0ef"
            ],
            [
             0.5,
             "#f7f7f7"
            ],
            [
             0.6,
             "#e6f5d0"
            ],
            [
             0.7,
             "#b8e186"
            ],
            [
             0.8,
             "#7fbc41"
            ],
            [
             0.9,
             "#4d9221"
            ],
            [
             1,
             "#276419"
            ]
           ],
           "sequential": [
            [
             0,
             "#0d0887"
            ],
            [
             0.1111111111111111,
             "#46039f"
            ],
            [
             0.2222222222222222,
             "#7201a8"
            ],
            [
             0.3333333333333333,
             "#9c179e"
            ],
            [
             0.4444444444444444,
             "#bd3786"
            ],
            [
             0.5555555555555556,
             "#d8576b"
            ],
            [
             0.6666666666666666,
             "#ed7953"
            ],
            [
             0.7777777777777778,
             "#fb9f3a"
            ],
            [
             0.8888888888888888,
             "#fdca26"
            ],
            [
             1,
             "#f0f921"
            ]
           ],
           "sequentialminus": [
            [
             0,
             "#0d0887"
            ],
            [
             0.1111111111111111,
             "#46039f"
            ],
            [
             0.2222222222222222,
             "#7201a8"
            ],
            [
             0.3333333333333333,
             "#9c179e"
            ],
            [
             0.4444444444444444,
             "#bd3786"
            ],
            [
             0.5555555555555556,
             "#d8576b"
            ],
            [
             0.6666666666666666,
             "#ed7953"
            ],
            [
             0.7777777777777778,
             "#fb9f3a"
            ],
            [
             0.8888888888888888,
             "#fdca26"
            ],
            [
             1,
             "#f0f921"
            ]
           ]
          },
          "colorway": [
           "#636efa",
           "#EF553B",
           "#00cc96",
           "#ab63fa",
           "#FFA15A",
           "#19d3f3",
           "#FF6692",
           "#B6E880",
           "#FF97FF",
           "#FECB52"
          ],
          "font": {
           "color": "#2a3f5f"
          },
          "geo": {
           "bgcolor": "white",
           "lakecolor": "white",
           "landcolor": "#E5ECF6",
           "showlakes": true,
           "showland": true,
           "subunitcolor": "white"
          },
          "hoverlabel": {
           "align": "left"
          },
          "hovermode": "closest",
          "mapbox": {
           "style": "light"
          },
          "paper_bgcolor": "white",
          "plot_bgcolor": "#E5ECF6",
          "polar": {
           "angularaxis": {
            "gridcolor": "white",
            "linecolor": "white",
            "ticks": ""
           },
           "bgcolor": "#E5ECF6",
           "radialaxis": {
            "gridcolor": "white",
            "linecolor": "white",
            "ticks": ""
           }
          },
          "scene": {
           "xaxis": {
            "backgroundcolor": "#E5ECF6",
            "gridcolor": "white",
            "gridwidth": 2,
            "linecolor": "white",
            "showbackground": true,
            "ticks": "",
            "zerolinecolor": "white"
           },
           "yaxis": {
            "backgroundcolor": "#E5ECF6",
            "gridcolor": "white",
            "gridwidth": 2,
            "linecolor": "white",
            "showbackground": true,
            "ticks": "",
            "zerolinecolor": "white"
           },
           "zaxis": {
            "backgroundcolor": "#E5ECF6",
            "gridcolor": "white",
            "gridwidth": 2,
            "linecolor": "white",
            "showbackground": true,
            "ticks": "",
            "zerolinecolor": "white"
           }
          },
          "shapedefaults": {
           "line": {
            "color": "#2a3f5f"
           }
          },
          "ternary": {
           "aaxis": {
            "gridcolor": "white",
            "linecolor": "white",
            "ticks": ""
           },
           "baxis": {
            "gridcolor": "white",
            "linecolor": "white",
            "ticks": ""
           },
           "bgcolor": "#E5ECF6",
           "caxis": {
            "gridcolor": "white",
            "linecolor": "white",
            "ticks": ""
           }
          },
          "title": {
           "x": 0.05
          },
          "xaxis": {
           "automargin": true,
           "gridcolor": "white",
           "linecolor": "white",
           "ticks": "",
           "title": {
            "standoff": 15
           },
           "zerolinecolor": "white",
           "zerolinewidth": 2
          },
          "yaxis": {
           "automargin": true,
           "gridcolor": "white",
           "linecolor": "white",
           "ticks": "",
           "title": {
            "standoff": 15
           },
           "zerolinecolor": "white",
           "zerolinewidth": 2
          }
         }
        },
        "title": {
         "text": "TSNE Components:2 Perplexity: 100"
        },
        "xaxis": {
         "anchor": "y",
         "domain": [
          0,
          1
         ],
         "title": {
          "text": "0"
         }
        },
        "yaxis": {
         "anchor": "x",
         "domain": [
          0,
          1
         ],
         "title": {
          "text": "1"
         }
        }
       }
      }
     },
     "metadata": {},
     "output_type": "display_data"
    }
   ],
   "source": [
    "from sklearn.manifold import TSNE\n",
    "import pandas as pd\n",
    " \n",
    "perps = [5, 10, 20, 50, 100]\n",
    "\n",
    "for perp in perps:\n",
    "    # Try with 3 embeddings so we can visualize it \n",
    "    tsne = TSNE(2, perplexity=perp)\n",
    "    tsne_result = tsne.fit_transform(X)\n",
    "    tsne_result.shape\n",
    "\n",
    "    fig = px.scatter(tsne_result, x=0, y=1, color=y, title=f'2 Component TSNE \\nPerplexity: {perp}')\n",
    "    fig.show()\n"
   ]
  }
 ],
 "metadata": {
  "kernelspec": {
   "display_name": "py38",
   "language": "python",
   "name": "python3"
  },
  "language_info": {
   "codemirror_mode": {
    "name": "ipython",
    "version": 3
   },
   "file_extension": ".py",
   "mimetype": "text/x-python",
   "name": "python",
   "nbconvert_exporter": "python",
   "pygments_lexer": "ipython3",
   "version": "3.8.11"
  },
  "orig_nbformat": 4,
  "vscode": {
   "interpreter": {
    "hash": "e1da24d1ab7662ce66308ea6e408f3ffff9a94b310c3a1b46f9c781a43602525"
   }
  }
 },
 "nbformat": 4,
 "nbformat_minor": 2
}
