{
 "cells": [
  {
   "cell_type": "code",
   "execution_count": 4,
   "metadata": {},
   "outputs": [],
   "source": [
    "# from pydrive.auth import GoogleAuth\n",
    "# from pydrive.drive import GoogleDrive\n",
    "# from google.colab import auth\n",
    "# from oauth2client.client import GoogleCredentials\n",
    "# import pandas as pd\n",
    "\n",
    "# auth.authenticate_user()\n",
    "# gauth = GoogleAuth()\n",
    "# gauth.credentials = GoogleCredentials.get_application_default()\n",
    "# drive = GoogleDrive(gauth)"
   ]
  },
  {
   "cell_type": "code",
   "execution_count": 5,
   "metadata": {},
   "outputs": [],
   "source": [
    "# url='https://drive.google.com/file/d/18UEhflIsMMfmbifTUNgH86xbJ9zUI6BE/view?usp=share_link'\n",
    "# fileDownloaded = drive.CreateFile({'id':'18UEhflIsMMfmbifTUNgH86xbJ9zUI6BE'})\n",
    "# fileDownloaded.GetContentFile('cancer_gene_expression.csv')"
   ]
  },
  {
   "cell_type": "code",
   "execution_count": 6,
   "metadata": {},
   "outputs": [
    {
     "data": {
      "text/html": [
       "<div>\n",
       "<style scoped>\n",
       "    .dataframe tbody tr th:only-of-type {\n",
       "        vertical-align: middle;\n",
       "    }\n",
       "\n",
       "    .dataframe tbody tr th {\n",
       "        vertical-align: top;\n",
       "    }\n",
       "\n",
       "    .dataframe thead th {\n",
       "        text-align: right;\n",
       "    }\n",
       "</style>\n",
       "<table border=\"1\" class=\"dataframe\">\n",
       "  <thead>\n",
       "    <tr style=\"text-align: right;\">\n",
       "      <th></th>\n",
       "      <th>samples</th>\n",
       "      <th>type</th>\n",
       "      <th>1007_s_at</th>\n",
       "      <th>1053_at</th>\n",
       "      <th>117_at</th>\n",
       "      <th>121_at</th>\n",
       "      <th>1255_g_at</th>\n",
       "      <th>1294_at</th>\n",
       "      <th>1316_at</th>\n",
       "      <th>1320_at</th>\n",
       "      <th>...</th>\n",
       "      <th>AFFX-r2-Ec-bioD-3_at</th>\n",
       "      <th>AFFX-r2-Ec-bioD-5_at</th>\n",
       "      <th>AFFX-r2-P1-cre-3_at</th>\n",
       "      <th>AFFX-r2-P1-cre-5_at</th>\n",
       "      <th>AFFX-ThrX-3_at</th>\n",
       "      <th>AFFX-ThrX-5_at</th>\n",
       "      <th>AFFX-ThrX-M_at</th>\n",
       "      <th>AFFX-TrpnX-3_at</th>\n",
       "      <th>AFFX-TrpnX-5_at</th>\n",
       "      <th>AFFX-TrpnX-M_at</th>\n",
       "    </tr>\n",
       "  </thead>\n",
       "  <tbody>\n",
       "    <tr>\n",
       "      <th>0</th>\n",
       "      <td>834</td>\n",
       "      <td>ependymoma</td>\n",
       "      <td>12.498150</td>\n",
       "      <td>7.604868</td>\n",
       "      <td>6.880934</td>\n",
       "      <td>9.027128</td>\n",
       "      <td>4.176175</td>\n",
       "      <td>7.224920</td>\n",
       "      <td>6.085942</td>\n",
       "      <td>6.835999</td>\n",
       "      <td>...</td>\n",
       "      <td>9.979005</td>\n",
       "      <td>9.926470</td>\n",
       "      <td>12.719785</td>\n",
       "      <td>12.777792</td>\n",
       "      <td>5.403657</td>\n",
       "      <td>4.870548</td>\n",
       "      <td>4.047380</td>\n",
       "      <td>3.721936</td>\n",
       "      <td>4.516434</td>\n",
       "      <td>4.749940</td>\n",
       "    </tr>\n",
       "    <tr>\n",
       "      <th>1</th>\n",
       "      <td>835</td>\n",
       "      <td>ependymoma</td>\n",
       "      <td>13.067436</td>\n",
       "      <td>7.998090</td>\n",
       "      <td>7.209076</td>\n",
       "      <td>9.723322</td>\n",
       "      <td>4.826126</td>\n",
       "      <td>7.539381</td>\n",
       "      <td>6.250962</td>\n",
       "      <td>8.012549</td>\n",
       "      <td>...</td>\n",
       "      <td>11.924749</td>\n",
       "      <td>11.215930</td>\n",
       "      <td>13.605662</td>\n",
       "      <td>13.401342</td>\n",
       "      <td>5.224555</td>\n",
       "      <td>4.895315</td>\n",
       "      <td>3.786437</td>\n",
       "      <td>3.564481</td>\n",
       "      <td>4.430891</td>\n",
       "      <td>4.491416</td>\n",
       "    </tr>\n",
       "    <tr>\n",
       "      <th>2</th>\n",
       "      <td>836</td>\n",
       "      <td>ependymoma</td>\n",
       "      <td>13.068179</td>\n",
       "      <td>8.573674</td>\n",
       "      <td>8.647684</td>\n",
       "      <td>9.613002</td>\n",
       "      <td>4.396581</td>\n",
       "      <td>7.813101</td>\n",
       "      <td>6.007746</td>\n",
       "      <td>7.178156</td>\n",
       "      <td>...</td>\n",
       "      <td>12.154405</td>\n",
       "      <td>11.532460</td>\n",
       "      <td>13.764593</td>\n",
       "      <td>13.477800</td>\n",
       "      <td>5.303565</td>\n",
       "      <td>5.052184</td>\n",
       "      <td>4.005343</td>\n",
       "      <td>3.595382</td>\n",
       "      <td>4.563494</td>\n",
       "      <td>4.668827</td>\n",
       "    </tr>\n",
       "    <tr>\n",
       "      <th>3</th>\n",
       "      <td>837</td>\n",
       "      <td>ependymoma</td>\n",
       "      <td>12.456040</td>\n",
       "      <td>9.098977</td>\n",
       "      <td>6.628784</td>\n",
       "      <td>8.517677</td>\n",
       "      <td>4.154847</td>\n",
       "      <td>8.361843</td>\n",
       "      <td>6.596064</td>\n",
       "      <td>6.347285</td>\n",
       "      <td>...</td>\n",
       "      <td>11.969072</td>\n",
       "      <td>11.288801</td>\n",
       "      <td>13.600828</td>\n",
       "      <td>13.379029</td>\n",
       "      <td>4.953429</td>\n",
       "      <td>4.708371</td>\n",
       "      <td>3.892318</td>\n",
       "      <td>3.759429</td>\n",
       "      <td>4.748381</td>\n",
       "      <td>4.521275</td>\n",
       "    </tr>\n",
       "    <tr>\n",
       "      <th>4</th>\n",
       "      <td>838</td>\n",
       "      <td>ependymoma</td>\n",
       "      <td>12.699958</td>\n",
       "      <td>8.800721</td>\n",
       "      <td>11.556188</td>\n",
       "      <td>9.166309</td>\n",
       "      <td>4.165891</td>\n",
       "      <td>7.923826</td>\n",
       "      <td>6.212754</td>\n",
       "      <td>6.866387</td>\n",
       "      <td>...</td>\n",
       "      <td>11.411701</td>\n",
       "      <td>11.169317</td>\n",
       "      <td>13.751442</td>\n",
       "      <td>13.803646</td>\n",
       "      <td>4.892677</td>\n",
       "      <td>4.773806</td>\n",
       "      <td>3.796856</td>\n",
       "      <td>3.577544</td>\n",
       "      <td>4.504385</td>\n",
       "      <td>4.541450</td>\n",
       "    </tr>\n",
       "  </tbody>\n",
       "</table>\n",
       "<p>5 rows × 54677 columns</p>\n",
       "</div>"
      ],
      "text/plain": [
       "   samples        type  1007_s_at   1053_at     117_at    121_at  1255_g_at  \\\n",
       "0      834  ependymoma  12.498150  7.604868   6.880934  9.027128   4.176175   \n",
       "1      835  ependymoma  13.067436  7.998090   7.209076  9.723322   4.826126   \n",
       "2      836  ependymoma  13.068179  8.573674   8.647684  9.613002   4.396581   \n",
       "3      837  ependymoma  12.456040  9.098977   6.628784  8.517677   4.154847   \n",
       "4      838  ependymoma  12.699958  8.800721  11.556188  9.166309   4.165891   \n",
       "\n",
       "    1294_at   1316_at   1320_at  ...  AFFX-r2-Ec-bioD-3_at  \\\n",
       "0  7.224920  6.085942  6.835999  ...              9.979005   \n",
       "1  7.539381  6.250962  8.012549  ...             11.924749   \n",
       "2  7.813101  6.007746  7.178156  ...             12.154405   \n",
       "3  8.361843  6.596064  6.347285  ...             11.969072   \n",
       "4  7.923826  6.212754  6.866387  ...             11.411701   \n",
       "\n",
       "   AFFX-r2-Ec-bioD-5_at  AFFX-r2-P1-cre-3_at  AFFX-r2-P1-cre-5_at  \\\n",
       "0              9.926470            12.719785            12.777792   \n",
       "1             11.215930            13.605662            13.401342   \n",
       "2             11.532460            13.764593            13.477800   \n",
       "3             11.288801            13.600828            13.379029   \n",
       "4             11.169317            13.751442            13.803646   \n",
       "\n",
       "   AFFX-ThrX-3_at  AFFX-ThrX-5_at  AFFX-ThrX-M_at  AFFX-TrpnX-3_at  \\\n",
       "0        5.403657        4.870548        4.047380         3.721936   \n",
       "1        5.224555        4.895315        3.786437         3.564481   \n",
       "2        5.303565        5.052184        4.005343         3.595382   \n",
       "3        4.953429        4.708371        3.892318         3.759429   \n",
       "4        4.892677        4.773806        3.796856         3.577544   \n",
       "\n",
       "   AFFX-TrpnX-5_at  AFFX-TrpnX-M_at  \n",
       "0         4.516434         4.749940  \n",
       "1         4.430891         4.491416  \n",
       "2         4.563494         4.668827  \n",
       "3         4.748381         4.521275  \n",
       "4         4.504385         4.541450  \n",
       "\n",
       "[5 rows x 54677 columns]"
      ]
     },
     "execution_count": 6,
     "metadata": {},
     "output_type": "execute_result"
    }
   ],
   "source": [
    "import pandas as pd\n",
    "df = pd.read_csv('cancer_gene_expression.csv', delimiter=',' )\n",
    "df.head()"
   ]
  },
  {
   "cell_type": "code",
   "execution_count": 7,
   "metadata": {},
   "outputs": [
    {
     "data": {
      "text/html": [
       "<div>\n",
       "<style scoped>\n",
       "    .dataframe tbody tr th:only-of-type {\n",
       "        vertical-align: middle;\n",
       "    }\n",
       "\n",
       "    .dataframe tbody tr th {\n",
       "        vertical-align: top;\n",
       "    }\n",
       "\n",
       "    .dataframe thead th {\n",
       "        text-align: right;\n",
       "    }\n",
       "</style>\n",
       "<table border=\"1\" class=\"dataframe\">\n",
       "  <thead>\n",
       "    <tr style=\"text-align: right;\">\n",
       "      <th></th>\n",
       "      <th>1007_s_at</th>\n",
       "      <th>1053_at</th>\n",
       "      <th>117_at</th>\n",
       "      <th>121_at</th>\n",
       "      <th>1255_g_at</th>\n",
       "      <th>1294_at</th>\n",
       "      <th>1316_at</th>\n",
       "      <th>1320_at</th>\n",
       "      <th>1405_i_at</th>\n",
       "      <th>1431_at</th>\n",
       "      <th>...</th>\n",
       "      <th>AFFX-r2-Ec-bioD-3_at</th>\n",
       "      <th>AFFX-r2-Ec-bioD-5_at</th>\n",
       "      <th>AFFX-r2-P1-cre-3_at</th>\n",
       "      <th>AFFX-r2-P1-cre-5_at</th>\n",
       "      <th>AFFX-ThrX-3_at</th>\n",
       "      <th>AFFX-ThrX-5_at</th>\n",
       "      <th>AFFX-ThrX-M_at</th>\n",
       "      <th>AFFX-TrpnX-3_at</th>\n",
       "      <th>AFFX-TrpnX-5_at</th>\n",
       "      <th>AFFX-TrpnX-M_at</th>\n",
       "    </tr>\n",
       "  </thead>\n",
       "  <tbody>\n",
       "    <tr>\n",
       "      <th>0</th>\n",
       "      <td>12.498150</td>\n",
       "      <td>7.604868</td>\n",
       "      <td>6.880934</td>\n",
       "      <td>9.027128</td>\n",
       "      <td>4.176175</td>\n",
       "      <td>7.224920</td>\n",
       "      <td>6.085942</td>\n",
       "      <td>6.835999</td>\n",
       "      <td>5.898355</td>\n",
       "      <td>5.513410</td>\n",
       "      <td>...</td>\n",
       "      <td>9.979005</td>\n",
       "      <td>9.926470</td>\n",
       "      <td>12.719785</td>\n",
       "      <td>12.777792</td>\n",
       "      <td>5.403657</td>\n",
       "      <td>4.870548</td>\n",
       "      <td>4.047380</td>\n",
       "      <td>3.721936</td>\n",
       "      <td>4.516434</td>\n",
       "      <td>4.749940</td>\n",
       "    </tr>\n",
       "    <tr>\n",
       "      <th>1</th>\n",
       "      <td>13.067436</td>\n",
       "      <td>7.998090</td>\n",
       "      <td>7.209076</td>\n",
       "      <td>9.723322</td>\n",
       "      <td>4.826126</td>\n",
       "      <td>7.539381</td>\n",
       "      <td>6.250962</td>\n",
       "      <td>8.012549</td>\n",
       "      <td>5.453147</td>\n",
       "      <td>6.173106</td>\n",
       "      <td>...</td>\n",
       "      <td>11.924749</td>\n",
       "      <td>11.215930</td>\n",
       "      <td>13.605662</td>\n",
       "      <td>13.401342</td>\n",
       "      <td>5.224555</td>\n",
       "      <td>4.895315</td>\n",
       "      <td>3.786437</td>\n",
       "      <td>3.564481</td>\n",
       "      <td>4.430891</td>\n",
       "      <td>4.491416</td>\n",
       "    </tr>\n",
       "    <tr>\n",
       "      <th>2</th>\n",
       "      <td>13.068179</td>\n",
       "      <td>8.573674</td>\n",
       "      <td>8.647684</td>\n",
       "      <td>9.613002</td>\n",
       "      <td>4.396581</td>\n",
       "      <td>7.813101</td>\n",
       "      <td>6.007746</td>\n",
       "      <td>7.178156</td>\n",
       "      <td>8.400266</td>\n",
       "      <td>6.323471</td>\n",
       "      <td>...</td>\n",
       "      <td>12.154405</td>\n",
       "      <td>11.532460</td>\n",
       "      <td>13.764593</td>\n",
       "      <td>13.477800</td>\n",
       "      <td>5.303565</td>\n",
       "      <td>5.052184</td>\n",
       "      <td>4.005343</td>\n",
       "      <td>3.595382</td>\n",
       "      <td>4.563494</td>\n",
       "      <td>4.668827</td>\n",
       "    </tr>\n",
       "    <tr>\n",
       "      <th>3</th>\n",
       "      <td>12.456040</td>\n",
       "      <td>9.098977</td>\n",
       "      <td>6.628784</td>\n",
       "      <td>8.517677</td>\n",
       "      <td>4.154847</td>\n",
       "      <td>8.361843</td>\n",
       "      <td>6.596064</td>\n",
       "      <td>6.347285</td>\n",
       "      <td>4.900380</td>\n",
       "      <td>6.008684</td>\n",
       "      <td>...</td>\n",
       "      <td>11.969072</td>\n",
       "      <td>11.288801</td>\n",
       "      <td>13.600828</td>\n",
       "      <td>13.379029</td>\n",
       "      <td>4.953429</td>\n",
       "      <td>4.708371</td>\n",
       "      <td>3.892318</td>\n",
       "      <td>3.759429</td>\n",
       "      <td>4.748381</td>\n",
       "      <td>4.521275</td>\n",
       "    </tr>\n",
       "    <tr>\n",
       "      <th>4</th>\n",
       "      <td>12.699958</td>\n",
       "      <td>8.800721</td>\n",
       "      <td>11.556188</td>\n",
       "      <td>9.166309</td>\n",
       "      <td>4.165891</td>\n",
       "      <td>7.923826</td>\n",
       "      <td>6.212754</td>\n",
       "      <td>6.866387</td>\n",
       "      <td>5.405628</td>\n",
       "      <td>5.279579</td>\n",
       "      <td>...</td>\n",
       "      <td>11.411701</td>\n",
       "      <td>11.169317</td>\n",
       "      <td>13.751442</td>\n",
       "      <td>13.803646</td>\n",
       "      <td>4.892677</td>\n",
       "      <td>4.773806</td>\n",
       "      <td>3.796856</td>\n",
       "      <td>3.577544</td>\n",
       "      <td>4.504385</td>\n",
       "      <td>4.541450</td>\n",
       "    </tr>\n",
       "  </tbody>\n",
       "</table>\n",
       "<p>5 rows × 54675 columns</p>\n",
       "</div>"
      ],
      "text/plain": [
       "   1007_s_at   1053_at     117_at    121_at  1255_g_at   1294_at   1316_at  \\\n",
       "0  12.498150  7.604868   6.880934  9.027128   4.176175  7.224920  6.085942   \n",
       "1  13.067436  7.998090   7.209076  9.723322   4.826126  7.539381  6.250962   \n",
       "2  13.068179  8.573674   8.647684  9.613002   4.396581  7.813101  6.007746   \n",
       "3  12.456040  9.098977   6.628784  8.517677   4.154847  8.361843  6.596064   \n",
       "4  12.699958  8.800721  11.556188  9.166309   4.165891  7.923826  6.212754   \n",
       "\n",
       "    1320_at  1405_i_at   1431_at  ...  AFFX-r2-Ec-bioD-3_at  \\\n",
       "0  6.835999   5.898355  5.513410  ...              9.979005   \n",
       "1  8.012549   5.453147  6.173106  ...             11.924749   \n",
       "2  7.178156   8.400266  6.323471  ...             12.154405   \n",
       "3  6.347285   4.900380  6.008684  ...             11.969072   \n",
       "4  6.866387   5.405628  5.279579  ...             11.411701   \n",
       "\n",
       "   AFFX-r2-Ec-bioD-5_at  AFFX-r2-P1-cre-3_at  AFFX-r2-P1-cre-5_at  \\\n",
       "0              9.926470            12.719785            12.777792   \n",
       "1             11.215930            13.605662            13.401342   \n",
       "2             11.532460            13.764593            13.477800   \n",
       "3             11.288801            13.600828            13.379029   \n",
       "4             11.169317            13.751442            13.803646   \n",
       "\n",
       "   AFFX-ThrX-3_at  AFFX-ThrX-5_at  AFFX-ThrX-M_at  AFFX-TrpnX-3_at  \\\n",
       "0        5.403657        4.870548        4.047380         3.721936   \n",
       "1        5.224555        4.895315        3.786437         3.564481   \n",
       "2        5.303565        5.052184        4.005343         3.595382   \n",
       "3        4.953429        4.708371        3.892318         3.759429   \n",
       "4        4.892677        4.773806        3.796856         3.577544   \n",
       "\n",
       "   AFFX-TrpnX-5_at  AFFX-TrpnX-M_at  \n",
       "0         4.516434         4.749940  \n",
       "1         4.430891         4.491416  \n",
       "2         4.563494         4.668827  \n",
       "3         4.748381         4.521275  \n",
       "4         4.504385         4.541450  \n",
       "\n",
       "[5 rows x 54675 columns]"
      ]
     },
     "execution_count": 7,
     "metadata": {},
     "output_type": "execute_result"
    }
   ],
   "source": [
    "# Get only the columns with expression data\n",
    "data = df.iloc[:,2:]\n",
    "data.head()"
   ]
  },
  {
   "cell_type": "code",
   "execution_count": 8,
   "metadata": {},
   "outputs": [
    {
     "data": {
      "text/html": [
       "<div>\n",
       "<style scoped>\n",
       "    .dataframe tbody tr th:only-of-type {\n",
       "        vertical-align: middle;\n",
       "    }\n",
       "\n",
       "    .dataframe tbody tr th {\n",
       "        vertical-align: top;\n",
       "    }\n",
       "\n",
       "    .dataframe thead th {\n",
       "        text-align: right;\n",
       "    }\n",
       "</style>\n",
       "<table border=\"1\" class=\"dataframe\">\n",
       "  <thead>\n",
       "    <tr style=\"text-align: right;\">\n",
       "      <th></th>\n",
       "      <th>0</th>\n",
       "      <th>1</th>\n",
       "      <th>2</th>\n",
       "      <th>3</th>\n",
       "      <th>4</th>\n",
       "      <th>5</th>\n",
       "      <th>6</th>\n",
       "      <th>7</th>\n",
       "      <th>8</th>\n",
       "      <th>9</th>\n",
       "      <th>...</th>\n",
       "      <th>30</th>\n",
       "      <th>31</th>\n",
       "      <th>32</th>\n",
       "      <th>33</th>\n",
       "      <th>34</th>\n",
       "      <th>35</th>\n",
       "      <th>36</th>\n",
       "      <th>37</th>\n",
       "      <th>38</th>\n",
       "      <th>39</th>\n",
       "    </tr>\n",
       "  </thead>\n",
       "  <tbody>\n",
       "    <tr>\n",
       "      <th>1007_s_at</th>\n",
       "      <td>0.258359</td>\n",
       "      <td>0.781186</td>\n",
       "      <td>0.191110</td>\n",
       "      <td>0.105292</td>\n",
       "      <td>0.020352</td>\n",
       "      <td>0.000432</td>\n",
       "      <td>0.056285</td>\n",
       "      <td>0.024429</td>\n",
       "      <td>0.147915</td>\n",
       "      <td>0.226082</td>\n",
       "      <td>...</td>\n",
       "      <td>0.027620</td>\n",
       "      <td>0.026878</td>\n",
       "      <td>0.082283</td>\n",
       "      <td>0.018037</td>\n",
       "      <td>0.008238</td>\n",
       "      <td>0.020507</td>\n",
       "      <td>0.053860</td>\n",
       "      <td>0.086628</td>\n",
       "      <td>0.067735</td>\n",
       "      <td>0.040872</td>\n",
       "    </tr>\n",
       "    <tr>\n",
       "      <th>1053_at</th>\n",
       "      <td>0.431819</td>\n",
       "      <td>0.113789</td>\n",
       "      <td>0.463920</td>\n",
       "      <td>0.048851</td>\n",
       "      <td>0.387893</td>\n",
       "      <td>0.185476</td>\n",
       "      <td>0.073525</td>\n",
       "      <td>0.030699</td>\n",
       "      <td>0.081408</td>\n",
       "      <td>0.282795</td>\n",
       "      <td>...</td>\n",
       "      <td>0.063521</td>\n",
       "      <td>0.100039</td>\n",
       "      <td>0.013827</td>\n",
       "      <td>0.120313</td>\n",
       "      <td>0.108173</td>\n",
       "      <td>0.069548</td>\n",
       "      <td>0.042123</td>\n",
       "      <td>0.011064</td>\n",
       "      <td>0.041220</td>\n",
       "      <td>0.022133</td>\n",
       "    </tr>\n",
       "    <tr>\n",
       "      <th>117_at</th>\n",
       "      <td>0.042541</td>\n",
       "      <td>0.433298</td>\n",
       "      <td>0.107040</td>\n",
       "      <td>0.030131</td>\n",
       "      <td>0.247344</td>\n",
       "      <td>0.074741</td>\n",
       "      <td>0.262305</td>\n",
       "      <td>0.189941</td>\n",
       "      <td>0.203803</td>\n",
       "      <td>0.141532</td>\n",
       "      <td>...</td>\n",
       "      <td>0.050111</td>\n",
       "      <td>0.039046</td>\n",
       "      <td>0.002020</td>\n",
       "      <td>0.030753</td>\n",
       "      <td>0.044889</td>\n",
       "      <td>0.003965</td>\n",
       "      <td>0.160939</td>\n",
       "      <td>0.158348</td>\n",
       "      <td>0.056151</td>\n",
       "      <td>0.049532</td>\n",
       "    </tr>\n",
       "    <tr>\n",
       "      <th>121_at</th>\n",
       "      <td>0.893608</td>\n",
       "      <td>0.077811</td>\n",
       "      <td>0.004212</td>\n",
       "      <td>0.131372</td>\n",
       "      <td>0.014979</td>\n",
       "      <td>0.085396</td>\n",
       "      <td>0.080042</td>\n",
       "      <td>0.038894</td>\n",
       "      <td>0.081031</td>\n",
       "      <td>0.083716</td>\n",
       "      <td>...</td>\n",
       "      <td>0.048562</td>\n",
       "      <td>0.034240</td>\n",
       "      <td>0.030625</td>\n",
       "      <td>0.038095</td>\n",
       "      <td>0.017075</td>\n",
       "      <td>0.034229</td>\n",
       "      <td>0.021019</td>\n",
       "      <td>0.016961</td>\n",
       "      <td>0.002107</td>\n",
       "      <td>0.009082</td>\n",
       "    </tr>\n",
       "    <tr>\n",
       "      <th>1255_g_at</th>\n",
       "      <td>0.105023</td>\n",
       "      <td>0.302486</td>\n",
       "      <td>0.264193</td>\n",
       "      <td>0.433497</td>\n",
       "      <td>0.073197</td>\n",
       "      <td>0.238351</td>\n",
       "      <td>0.056597</td>\n",
       "      <td>0.068146</td>\n",
       "      <td>0.029414</td>\n",
       "      <td>0.006205</td>\n",
       "      <td>...</td>\n",
       "      <td>0.081278</td>\n",
       "      <td>0.048061</td>\n",
       "      <td>0.053209</td>\n",
       "      <td>0.021124</td>\n",
       "      <td>0.093846</td>\n",
       "      <td>0.041999</td>\n",
       "      <td>0.031914</td>\n",
       "      <td>0.032196</td>\n",
       "      <td>0.053579</td>\n",
       "      <td>0.067974</td>\n",
       "    </tr>\n",
       "    <tr>\n",
       "      <th>...</th>\n",
       "      <td>...</td>\n",
       "      <td>...</td>\n",
       "      <td>...</td>\n",
       "      <td>...</td>\n",
       "      <td>...</td>\n",
       "      <td>...</td>\n",
       "      <td>...</td>\n",
       "      <td>...</td>\n",
       "      <td>...</td>\n",
       "      <td>...</td>\n",
       "      <td>...</td>\n",
       "      <td>...</td>\n",
       "      <td>...</td>\n",
       "      <td>...</td>\n",
       "      <td>...</td>\n",
       "      <td>...</td>\n",
       "      <td>...</td>\n",
       "      <td>...</td>\n",
       "      <td>...</td>\n",
       "      <td>...</td>\n",
       "      <td>...</td>\n",
       "    </tr>\n",
       "    <tr>\n",
       "      <th>AFFX-ThrX-5_at</th>\n",
       "      <td>0.486595</td>\n",
       "      <td>0.001532</td>\n",
       "      <td>0.326640</td>\n",
       "      <td>0.012046</td>\n",
       "      <td>0.195005</td>\n",
       "      <td>0.317793</td>\n",
       "      <td>0.295725</td>\n",
       "      <td>0.201643</td>\n",
       "      <td>0.170085</td>\n",
       "      <td>0.032019</td>\n",
       "      <td>...</td>\n",
       "      <td>0.013951</td>\n",
       "      <td>0.010333</td>\n",
       "      <td>0.055896</td>\n",
       "      <td>0.017455</td>\n",
       "      <td>0.027138</td>\n",
       "      <td>0.015352</td>\n",
       "      <td>0.035622</td>\n",
       "      <td>0.026338</td>\n",
       "      <td>0.002696</td>\n",
       "      <td>0.017661</td>\n",
       "    </tr>\n",
       "    <tr>\n",
       "      <th>AFFX-ThrX-M_at</th>\n",
       "      <td>0.318844</td>\n",
       "      <td>0.331434</td>\n",
       "      <td>0.149880</td>\n",
       "      <td>0.104459</td>\n",
       "      <td>0.301354</td>\n",
       "      <td>0.040355</td>\n",
       "      <td>0.203357</td>\n",
       "      <td>0.092299</td>\n",
       "      <td>0.172439</td>\n",
       "      <td>0.022166</td>\n",
       "      <td>...</td>\n",
       "      <td>0.104686</td>\n",
       "      <td>0.087251</td>\n",
       "      <td>0.134971</td>\n",
       "      <td>0.025923</td>\n",
       "      <td>0.026638</td>\n",
       "      <td>0.067600</td>\n",
       "      <td>0.016628</td>\n",
       "      <td>0.078947</td>\n",
       "      <td>0.061157</td>\n",
       "      <td>0.148706</td>\n",
       "    </tr>\n",
       "    <tr>\n",
       "      <th>AFFX-TrpnX-3_at</th>\n",
       "      <td>0.349892</td>\n",
       "      <td>0.269936</td>\n",
       "      <td>0.414491</td>\n",
       "      <td>0.327731</td>\n",
       "      <td>0.287298</td>\n",
       "      <td>0.117254</td>\n",
       "      <td>0.091406</td>\n",
       "      <td>0.130115</td>\n",
       "      <td>0.283420</td>\n",
       "      <td>0.112729</td>\n",
       "      <td>...</td>\n",
       "      <td>0.075133</td>\n",
       "      <td>0.013559</td>\n",
       "      <td>0.081723</td>\n",
       "      <td>0.014410</td>\n",
       "      <td>0.014569</td>\n",
       "      <td>0.033846</td>\n",
       "      <td>0.080374</td>\n",
       "      <td>0.081983</td>\n",
       "      <td>0.021118</td>\n",
       "      <td>0.032899</td>\n",
       "    </tr>\n",
       "    <tr>\n",
       "      <th>AFFX-TrpnX-5_at</th>\n",
       "      <td>0.535157</td>\n",
       "      <td>0.167970</td>\n",
       "      <td>0.058581</td>\n",
       "      <td>0.366672</td>\n",
       "      <td>0.308215</td>\n",
       "      <td>0.156492</td>\n",
       "      <td>0.133988</td>\n",
       "      <td>0.054306</td>\n",
       "      <td>0.123913</td>\n",
       "      <td>0.087548</td>\n",
       "      <td>...</td>\n",
       "      <td>0.032888</td>\n",
       "      <td>0.071307</td>\n",
       "      <td>0.069759</td>\n",
       "      <td>0.010102</td>\n",
       "      <td>0.092838</td>\n",
       "      <td>0.034643</td>\n",
       "      <td>0.028555</td>\n",
       "      <td>0.029767</td>\n",
       "      <td>0.081693</td>\n",
       "      <td>0.006875</td>\n",
       "    </tr>\n",
       "    <tr>\n",
       "      <th>AFFX-TrpnX-M_at</th>\n",
       "      <td>0.029346</td>\n",
       "      <td>0.363040</td>\n",
       "      <td>0.391234</td>\n",
       "      <td>0.200052</td>\n",
       "      <td>0.382101</td>\n",
       "      <td>0.159148</td>\n",
       "      <td>0.146346</td>\n",
       "      <td>0.042368</td>\n",
       "      <td>0.044252</td>\n",
       "      <td>0.081392</td>\n",
       "      <td>...</td>\n",
       "      <td>0.162372</td>\n",
       "      <td>0.058013</td>\n",
       "      <td>0.001299</td>\n",
       "      <td>0.089055</td>\n",
       "      <td>0.028702</td>\n",
       "      <td>0.082902</td>\n",
       "      <td>0.097660</td>\n",
       "      <td>0.072365</td>\n",
       "      <td>0.018750</td>\n",
       "      <td>0.086725</td>\n",
       "    </tr>\n",
       "  </tbody>\n",
       "</table>\n",
       "<p>54675 rows × 40 columns</p>\n",
       "</div>"
      ],
      "text/plain": [
       "                       0         1         2         3         4         5   \\\n",
       "1007_s_at        0.258359  0.781186  0.191110  0.105292  0.020352  0.000432   \n",
       "1053_at          0.431819  0.113789  0.463920  0.048851  0.387893  0.185476   \n",
       "117_at           0.042541  0.433298  0.107040  0.030131  0.247344  0.074741   \n",
       "121_at           0.893608  0.077811  0.004212  0.131372  0.014979  0.085396   \n",
       "1255_g_at        0.105023  0.302486  0.264193  0.433497  0.073197  0.238351   \n",
       "...                   ...       ...       ...       ...       ...       ...   \n",
       "AFFX-ThrX-5_at   0.486595  0.001532  0.326640  0.012046  0.195005  0.317793   \n",
       "AFFX-ThrX-M_at   0.318844  0.331434  0.149880  0.104459  0.301354  0.040355   \n",
       "AFFX-TrpnX-3_at  0.349892  0.269936  0.414491  0.327731  0.287298  0.117254   \n",
       "AFFX-TrpnX-5_at  0.535157  0.167970  0.058581  0.366672  0.308215  0.156492   \n",
       "AFFX-TrpnX-M_at  0.029346  0.363040  0.391234  0.200052  0.382101  0.159148   \n",
       "\n",
       "                       6         7         8         9   ...        30  \\\n",
       "1007_s_at        0.056285  0.024429  0.147915  0.226082  ...  0.027620   \n",
       "1053_at          0.073525  0.030699  0.081408  0.282795  ...  0.063521   \n",
       "117_at           0.262305  0.189941  0.203803  0.141532  ...  0.050111   \n",
       "121_at           0.080042  0.038894  0.081031  0.083716  ...  0.048562   \n",
       "1255_g_at        0.056597  0.068146  0.029414  0.006205  ...  0.081278   \n",
       "...                   ...       ...       ...       ...  ...       ...   \n",
       "AFFX-ThrX-5_at   0.295725  0.201643  0.170085  0.032019  ...  0.013951   \n",
       "AFFX-ThrX-M_at   0.203357  0.092299  0.172439  0.022166  ...  0.104686   \n",
       "AFFX-TrpnX-3_at  0.091406  0.130115  0.283420  0.112729  ...  0.075133   \n",
       "AFFX-TrpnX-5_at  0.133988  0.054306  0.123913  0.087548  ...  0.032888   \n",
       "AFFX-TrpnX-M_at  0.146346  0.042368  0.044252  0.081392  ...  0.162372   \n",
       "\n",
       "                       31        32        33        34        35        36  \\\n",
       "1007_s_at        0.026878  0.082283  0.018037  0.008238  0.020507  0.053860   \n",
       "1053_at          0.100039  0.013827  0.120313  0.108173  0.069548  0.042123   \n",
       "117_at           0.039046  0.002020  0.030753  0.044889  0.003965  0.160939   \n",
       "121_at           0.034240  0.030625  0.038095  0.017075  0.034229  0.021019   \n",
       "1255_g_at        0.048061  0.053209  0.021124  0.093846  0.041999  0.031914   \n",
       "...                   ...       ...       ...       ...       ...       ...   \n",
       "AFFX-ThrX-5_at   0.010333  0.055896  0.017455  0.027138  0.015352  0.035622   \n",
       "AFFX-ThrX-M_at   0.087251  0.134971  0.025923  0.026638  0.067600  0.016628   \n",
       "AFFX-TrpnX-3_at  0.013559  0.081723  0.014410  0.014569  0.033846  0.080374   \n",
       "AFFX-TrpnX-5_at  0.071307  0.069759  0.010102  0.092838  0.034643  0.028555   \n",
       "AFFX-TrpnX-M_at  0.058013  0.001299  0.089055  0.028702  0.082902  0.097660   \n",
       "\n",
       "                       37        38        39  \n",
       "1007_s_at        0.086628  0.067735  0.040872  \n",
       "1053_at          0.011064  0.041220  0.022133  \n",
       "117_at           0.158348  0.056151  0.049532  \n",
       "121_at           0.016961  0.002107  0.009082  \n",
       "1255_g_at        0.032196  0.053579  0.067974  \n",
       "...                   ...       ...       ...  \n",
       "AFFX-ThrX-5_at   0.026338  0.002696  0.017661  \n",
       "AFFX-ThrX-M_at   0.078947  0.061157  0.148706  \n",
       "AFFX-TrpnX-3_at  0.081983  0.021118  0.032899  \n",
       "AFFX-TrpnX-5_at  0.029767  0.081693  0.006875  \n",
       "AFFX-TrpnX-M_at  0.072365  0.018750  0.086725  \n",
       "\n",
       "[54675 rows x 40 columns]"
      ]
     },
     "execution_count": 8,
     "metadata": {},
     "output_type": "execute_result"
    }
   ],
   "source": [
    "import numpy as np\n",
    "import matplotlib.pyplot as plt\n",
    "import math\n",
    "\n",
    "from sklearn import decomposition\n",
    "from sklearn import datasets\n",
    "from sklearn.preprocessing import scale\n",
    "\n",
    "X = scale(data)\n",
    "y= df.iloc[:,1]\n",
    "\n",
    "# apply PCA\n",
    "pca = decomposition.PCA(n_components=.8)\n",
    "X = pca.fit_transform(X)\n",
    "\n",
    "loadings = pd.DataFrame(pca.components_.T *  np.sqrt(pca.explained_variance_), index=df.columns[2:])\n",
    "loadings = loadings.abs()\n",
    "loadings.sort_values(by = [1],ascending=False).head(10)\n",
    "loadings"
   ]
  },
  {
   "cell_type": "code",
   "execution_count": 9,
   "metadata": {},
   "outputs": [
    {
     "data": {
      "image/png": "[encoded data removed]",
      "text/plain": [
       "<Figure size 432x288 with 1 Axes>"
      ]
     },
     "metadata": {
      "needs_background": "light"
     },
     "output_type": "display_data"
    },
    {
     "data": {
      "image/png": "[encoded data removed]",
      "text/plain": [
       "<Figure size 432x288 with 1 Axes>"
      ]
     },
     "metadata": {
      "needs_background": "light"
     },
     "output_type": "display_data"
    }
   ],
   "source": [
    "#generate + compare PCA plots\n",
    "\n",
    "all_names = y.unique()\n",
    "encoded_y = [list(all_names).index(yi) for yi in y]\n",
    "rand_colors = [tuple(np.random.random(size=3)) for n in all_names]\n",
    "rand_colors = ['blue', 'green', 'red', 'orange', 'black', 'yellow']\n",
    "cmap = [rand_colors[yi] for yi in encoded_y]\n",
    "\n",
    "#2d\n",
    "plot = plt.scatter(X[:,0], X[:,1], c=cmap)\n",
    "plt.show()\n",
    "\n",
    "#3d plot\n",
    "ax = plt.axes(projection='3d')\n",
    "ax.scatter3D(X[:,0], X[:,1], X[:,2], c=cmap)\n",
    "plt.show()"
   ]
  },
  {
   "cell_type": "code",
   "execution_count": 10,
   "metadata": {},
   "outputs": [
    {
     "data": {
      "application/vnd.plotly.v1+json": {
       "config": {
        "plotlyServerURL": "https://plot.ly"
       },
       "data": [
        {
         "hovertemplate": "color=ependymoma<br>0=%{x}<br>1=%{y}<extra></extra>",
         "legendgroup": "ependymoma",
         "marker": {
          "color": "#636efa",
          "symbol": "circle"
         },
         "mode": "markers",
         "name": "ependymoma",
         "orientation": "v",
         "showlegend": true,
         "type": "scatter",
         "x": [
          165.1626356431095,
          85.22657501271054,
          70.26897106116971,
          -101.58835659619383,
          65.80711406684867,
          124.97567975620265,
          155.78115799200344,
          108.61753018860604,
          110.61677919257473,
          149.6602151161049,
          -124.09150807154481,
          63.41558121432408,
          123.36998890238729,
          -78.54321486827614,
          91.57053523142307,
          -48.139605669708565,
          133.5639850509347,
          97.85971511581661,
          -47.6602914294894,
          90.09696101884091,
          94.30571815927318,
          83.72696913063344,
          -64.53166714291,
          -44.25794851876543,
          119.75787026387728,
          141.54691254921522,
          60.88751098688746,
          124.6638561567009,
          -35.55096012770125,
          -125.24233572049465,
          -117.27419783640875,
          133.508874188677,
          184.32844236418723,
          -39.5383030004354,
          87.11164387741059,
          -138.56675093516725,
          -156.86481898651564,
          -138.89153457209997,
          -124.41135975042816,
          -111.26155055299192,
          -121.67783380368674,
          -101.52942202563523,
          -131.78030955920036,
          -100.83923918763138,
          -125.01565054620397,
          -127.820535434629
         ],
         "xaxis": "x",
         "y": [
          5.242776538835038,
          -53.098379794790254,
          -68.29233758329143,
          -47.66932009497199,
          -55.92151686332468,
          -20.115670685392057,
          -40.96573751926655,
          -41.41265326322012,
          -33.08843393363804,
          -37.41694401447092,
          -93.14691980715759,
          -9.492336509393194,
          -19.535921560526422,
          -29.19977656666328,
          -96.79480364189473,
          -65.6227561664872,
          -39.39720115588744,
          -69.34239471552462,
          -103.19091755999708,
          -89.27976432578289,
          -67.44915939673628,
          -49.58311957304462,
          -75.12197869892177,
          -97.28488706487633,
          -67.40874371233852,
          -65.58902387592387,
          -56.30165368552368,
          -44.29482842273729,
          -88.2851453541078,
          -68.48873745642474,
          -105.33400003779794,
          -35.6692525578105,
          22.192606046937456,
          -26.98964953060796,
          -62.35704177512679,
          -81.65067398627907,
          -35.387681522004094,
          -91.60855533217529,
          -63.750323447270965,
          -88.42271628066351,
          -20.156216290879026,
          -51.73561652715797,
          -31.294889950651882,
          -41.67177634798289,
          -13.718317231700286,
          0.20520523829882162
         ],
         "yaxis": "y"
        },
        {
         "hovertemplate": "color=glioblastoma<br>0=%{x}<br>1=%{y}<extra></extra>",
         "legendgroup": "glioblastoma",
         "marker": {
          "color": "#EF553B",
          "symbol": "circle"
         },
         "mode": "markers",
         "name": "glioblastoma",
         "orientation": "v",
         "showlegend": true,
         "type": "scatter",
         "x": [
          90.50006392953041,
          97.16789538513899,
          -105.851707642604,
          -100.09201441896364,
          -90.34585867895792,
          113.56579336762798,
          92.6155708274844,
          161.8353414208553,
          102.07777861437884,
          161.9031664961518,
          94.71856497812468,
          127.29715686739455,
          85.36409577312756,
          117.21766568802579,
          76.7599026891848,
          -45.50387896261902,
          -129.44842901021727,
          -105.69117672868497,
          -129.3817202871791,
          -106.44186142172572,
          154.12362776778957,
          86.66135567572307,
          219.73586926707753,
          75.53654582842077,
          -159.88006309811516,
          61.65470825863751,
          98.76088436163725,
          -140.95976787175255,
          -135.52301566303123,
          -120.32591319340575,
          -123.07180317737344,
          -92.85195610929291,
          -130.787013277503,
          -94.76739923721215
         ],
         "xaxis": "x",
         "y": [
          -37.63407805947867,
          34.32981228195824,
          -19.8290450128715,
          -14.169671001140069,
          -20.80589696054551,
          -60.2111171629441,
          -0.7679323567198882,
          -12.7960242302704,
          2.3088253158378116,
          43.99761349160604,
          -36.7402952778302,
          46.68729354991431,
          -15.604620523158307,
          17.03074991993906,
          -6.53806608154704,
          -75.40029184199908,
          5.996881444490482,
          -46.891944442223654,
          15.000917209548568,
          30.180005905799838,
          28.293185668491287,
          -24.698916051823964,
          63.11447380815268,
          -2.1882184893925687,
          -51.76113926994447,
          -12.914203622907175,
          -37.43821340161463,
          -54.45024033113189,
          57.16495360469418,
          1.140720529276853,
          -48.290919251289296,
          -43.328528445380655,
          -25.802006830199034,
          -23.07385387621994
         ],
         "yaxis": "y"
        },
        {
         "hovertemplate": "color=medulloblastoma<br>0=%{x}<br>1=%{y}<extra></extra>",
         "legendgroup": "medulloblastoma",
         "marker": {
          "color": "#00cc96",
          "symbol": "circle"
         },
         "mode": "markers",
         "name": "medulloblastoma",
         "orientation": "v",
         "showlegend": true,
         "type": "scatter",
         "x": [
          -114.52874404203726,
          115.99038570426235,
          127.7226911757085,
          105.39442444547936,
          151.07018427457783,
          -110.75052035655945,
          89.48734832672332,
          142.1681336073587,
          45.55343595118598,
          -118.28707539042435,
          72.46737464015558,
          33.19131598918566,
          -130.830529234529,
          -130.8909403891643,
          -154.31674476222824,
          -38.10516951206874,
          -91.70614557111017,
          -140.32562656979024,
          -87.69982017390423,
          -106.52665915863905,
          -130.0916531526932,
          -43.378206713640715
         ],
         "xaxis": "x",
         "y": [
          163.38484794864223,
          92.5423145415067,
          98.83559975644194,
          76.97799869126813,
          107.23533081334182,
          84.0408584121217,
          62.90537843594962,
          124.00974059597328,
          70.05215076910116,
          -14.68569544675634,
          36.01287387745078,
          25.318384958641794,
          102.65955444187395,
          53.70446307739712,
          57.453559997119,
          89.99963725777447,
          86.55297868826888,
          73.16559162516867,
          72.69901953731814,
          87.7718321858814,
          84.742850673319,
          8.776288149785856
         ],
         "yaxis": "y"
        },
        {
         "hovertemplate": "color=normal<br>0=%{x}<br>1=%{y}<extra></extra>",
         "legendgroup": "normal",
         "marker": {
          "color": "#ab63fa",
          "symbol": "circle"
         },
         "mode": "markers",
         "name": "normal",
         "orientation": "v",
         "showlegend": true,
         "type": "scatter",
         "x": [
          -30.7403729215438,
          115.95222715676462,
          -78.13772033755686,
          42.28531363462672,
          -101.80848488782787,
          -86.95188366054778,
          -92.46631259712483,
          145.82400508738348,
          -72.1095374584701,
          6.07900038406096,
          -99.504310812246,
          -102.18895460812948,
          21.94754257962576
         ],
         "xaxis": "x",
         "y": [
          104.91154588490889,
          97.93875024545646,
          65.59585562356132,
          209.46669313284104,
          119.5984217992189,
          128.8108655793574,
          136.40417070267762,
          58.7575360140339,
          114.9294071825349,
          86.66362364709774,
          113.33902903339605,
          107.45211120162769,
          109.86833866821836
         ],
         "yaxis": "y"
        },
        {
         "hovertemplate": "color=pilocytic_astrocytoma<br>0=%{x}<br>1=%{y}<extra></extra>",
         "legendgroup": "pilocytic_astrocytoma",
         "marker": {
          "color": "#FFA15A",
          "symbol": "circle"
         },
         "mode": "markers",
         "name": "pilocytic_astrocytoma",
         "orientation": "v",
         "showlegend": true,
         "type": "scatter",
         "x": [
          77.89105176003586,
          61.78308320758659,
          67.43770743835557,
          219.42161878813283,
          177.26733855765616,
          109.5249120191903,
          100.4036209159001,
          -91.77427701391932,
          -101.22920867826684,
          51.58535051711748,
          -104.69450206161437,
          -42.57959651177863,
          -116.93246055136002,
          -119.73895497372958,
          -109.4798903816423
         ],
         "xaxis": "x",
         "y": [
          -32.44239551748649,
          -45.470254446418785,
          -30.82515278638252,
          20.689865159437833,
          35.42056738864617,
          -27.888643827214004,
          -51.66070730723252,
          -33.38129222812099,
          -44.84309109941045,
          -47.544971742118,
          -33.49830799598239,
          -25.177100286649406,
          -38.58223327610195,
          -10.468315662733456,
          8.767101712522624
         ],
         "yaxis": "y"
        }
       ],
       "layout": {
        "legend": {
         "title": {
          "text": "color"
         },
         "tracegroupgap": 0
        },
        "template": {
         "data": {
          "bar": [
           {
            "error_x": {
             "color": "#2a3f5f"
            },
            "error_y": {
             "color": "#2a3f5f"
            },
            "marker": {
             "line": {
              "color": "#E5ECF6",
              "width": 0.5
             },
             "pattern": {
              "fillmode": "overlay",
              "size": 10,
              "solidity": 0.2
             }
            },
            "type": "bar"
           }
          ],
          "barpolar": [
           {
            "marker": {
             "line": {
              "color": "#E5ECF6",
              "width": 0.5
             },
             "pattern": {
              "fillmode": "overlay",
              "size": 10,
              "solidity": 0.2
             }
            },
            "type": "barpolar"
           }
          ],
          "carpet": [
           {
            "aaxis": {
             "endlinecolor": "#2a3f5f",
             "gridcolor": "white",
             "linecolor": "white",
             "minorgridcolor": "white",
             "startlinecolor": "#2a3f5f"
            },
            "baxis": {
             "endlinecolor": "#2a3f5f",
             "gridcolor": "white",
             "linecolor": "white",
             "minorgridcolor": "white",
             "startlinecolor": "#2a3f5f"
            },
            "type": "carpet"
           }
          ],
          "choropleth": [
           {
            "colorbar": {
             "outlinewidth": 0,
             "ticks": ""
            },
            "type": "choropleth"
           }
          ],
          "contour": [
           {
            "colorbar": {
             "outlinewidth": 0,
             "ticks": ""
            },
            "colorscale": [
             [
              0,
              "#0d0887"
             ],
             [
              0.1111111111111111,
              "#46039f"
             ],
             [
              0.2222222222222222,
              "#7201a8"
             ],
             [
              0.3333333333333333,
              "#9c179e"
             ],
             [
              0.4444444444444444,
              "#bd3786"
             ],
             [
              0.5555555555555556,
              "#d8576b"
             ],
             [
              0.6666666666666666,
              "#ed7953"
             ],
             [
              0.7777777777777778,
              "#fb9f3a"
             ],
             [
              0.8888888888888888,
              "#fdca26"
             ],
             [
              1,
              "#f0f921"
             ]
            ],
            "type": "contour"
           }
          ],
          "contourcarpet": [
           {
            "colorbar": {
             "outlinewidth": 0,
             "ticks": ""
            },
            "type": "contourcarpet"
           }
          ],
          "heatmap": [
           {
            "colorbar": {
             "outlinewidth": 0,
             "ticks": ""
            },
            "colorscale": [
             [
              0,
              "#0d0887"
             ],
             [
              0.1111111111111111,
              "#46039f"
             ],
             [
              0.2222222222222222,
              "#7201a8"
             ],
             [
              0.3333333333333333,
              "#9c179e"
             ],
             [
              0.4444444444444444,
              "#bd3786"
             ],
             [
              0.5555555555555556,
              "#d8576b"
             ],
             [
              0.6666666666666666,
              "#ed7953"
             ],
             [
              0.7777777777777778,
              "#fb9f3a"
             ],
             [
              0.8888888888888888,
              "#fdca26"
             ],
             [
              1,
              "#f0f921"
             ]
            ],
            "type": "heatmap"
           }
          ],
          "heatmapgl": [
           {
            "colorbar": {
             "outlinewidth": 0,
             "ticks": ""
            },
            "colorscale": [
             [
              0,
              "#0d0887"
             ],
             [
              0.1111111111111111,
              "#46039f"
             ],
             [
              0.2222222222222222,
              "#7201a8"
             ],
             [
              0.3333333333333333,
              "#9c179e"
             ],
             [
              0.4444444444444444,
              "#bd3786"
             ],
             [
              0.5555555555555556,
              "#d8576b"
             ],
             [
              0.6666666666666666,
              "#ed7953"
             ],
             [
              0.7777777777777778,
              "#fb9f3a"
             ],
             [
              0.8888888888888888,
              "#fdca26"
             ],
             [
              1,
              "#f0f921"
             ]
            ],
            "type": "heatmapgl"
           }
          ],
          "histogram": [
           {
            "marker": {
             "pattern": {
              "fillmode": "overlay",
              "size": 10,
              "solidity": 0.2
             }
            },
            "type": "histogram"
           }
          ],
          "histogram2d": [
           {
            "colorbar": {
             "outlinewidth": 0,
             "ticks": ""
            },
            "colorscale": [
             [
              0,
              "#0d0887"
             ],
             [
              0.1111111111111111,
              "#46039f"
             ],
             [
              0.2222222222222222,
              "#7201a8"
             ],
             [
              0.3333333333333333,
              "#9c179e"
             ],
             [
              0.4444444444444444,
              "#bd3786"
             ],
             [
              0.5555555555555556,
              "#d8576b"
             ],
             [
              0.6666666666666666,
              "#ed7953"
             ],
             [
              0.7777777777777778,
              "#fb9f3a"
             ],
             [
              0.8888888888888888,
              "#fdca26"
             ],
             [
              1,
              "#f0f921"
             ]
            ],
            "type": "histogram2d"
           }
          ],
          "histogram2dcontour": [
           {
            "colorbar": {
             "outlinewidth": 0,
             "ticks": ""
            },
            "colorscale": [
             [
              0,
              "#0d0887"
             ],
             [
              0.1111111111111111,
              "#46039f"
             ],
             [
              0.2222222222222222,
              "#7201a8"
             ],
             [
              0.3333333333333333,
              "#9c179e"
             ],
             [
              0.4444444444444444,
              "#bd3786"
             ],
             [
              0.5555555555555556,
              "#d8576b"
             ],
             [
              0.6666666666666666,
              "#ed7953"
             ],
             [
              0.7777777777777778,
              "#fb9f3a"
             ],
             [
              0.8888888888888888,
              "#fdca26"
             ],
             [
              1,
              "#f0f921"
             ]
            ],
            "type": "histogram2dcontour"
           }
          ],
          "mesh3d": [
           {
            "colorbar": {
             "outlinewidth": 0,
             "ticks": ""
            },
            "type": "mesh3d"
           }
          ],
          "parcoords": [
           {
            "line": {
             "colorbar": {
              "outlinewidth": 0,
              "ticks": ""
             }
            },
            "type": "parcoords"
           }
          ],
          "pie": [
           {
            "automargin": true,
            "type": "pie"
           }
          ],
          "scatter": [
           {
            "marker": {
             "colorbar": {
              "outlinewidth": 0,
              "ticks": ""
             }
            },
            "type": "scatter"
           }
          ],
          "scatter3d": [
           {
            "line": {
             "colorbar": {
              "outlinewidth": 0,
              "ticks": ""
             }
            },
            "marker": {
             "colorbar": {
              "outlinewidth": 0,
              "ticks": ""
             }
            },
            "type": "scatter3d"
           }
          ],
          "scattercarpet": [
           {
            "marker": {
             "colorbar": {
              "outlinewidth": 0,
              "ticks": ""
             }
            },
            "type": "scattercarpet"
           }
          ],
          "scattergeo": [
           {
            "marker": {
             "colorbar": {
              "outlinewidth": 0,
              "ticks": ""
             }
            },
            "type": "scattergeo"
           }
          ],
          "scattergl": [
           {
            "marker": {
             "colorbar": {
              "outlinewidth": 0,
              "ticks": ""
             }
            },
            "type": "scattergl"
           }
          ],
          "scattermapbox": [
           {
            "marker": {
             "colorbar": {
              "outlinewidth": 0,
              "ticks": ""
             }
            },
            "type": "scattermapbox"
           }
          ],
          "scatterpolar": [
           {
            "marker": {
             "colorbar": {
              "outlinewidth": 0,
              "ticks": ""
             }
            },
            "type": "scatterpolar"
           }
          ],
          "scatterpolargl": [
           {
            "marker": {
             "colorbar": {
              "outlinewidth": 0,
              "ticks": ""
             }
            },
            "type": "scatterpolargl"
           }
          ],
          "scatterternary": [
           {
            "marker": {
             "colorbar": {
              "outlinewidth": 0,
              "ticks": ""
             }
            },
            "type": "scatterternary"
           }
          ],
          "surface": [
           {
            "colorbar": {
             "outlinewidth": 0,
             "ticks": ""
            },
            "colorscale": [
             [
              0,
              "#0d0887"
             ],
             [
              0.1111111111111111,
              "#46039f"
             ],
             [
              0.2222222222222222,
              "#7201a8"
             ],
             [
              0.3333333333333333,
              "#9c179e"
             ],
             [
              0.4444444444444444,
              "#bd3786"
             ],
             [
              0.5555555555555556,
              "#d8576b"
             ],
             [
              0.6666666666666666,
              "#ed7953"
             ],
             [
              0.7777777777777778,
              "#fb9f3a"
             ],
             [
              0.8888888888888888,
              "#fdca26"
             ],
             [
              1,
              "#f0f921"
             ]
            ],
            "type": "surface"
           }
          ],
          "table": [
           {
            "cells": {
             "fill": {
              "color": "#EBF0F8"
             },
             "line": {
              "color": "white"
             }
            },
            "header": {
             "fill": {
              "color": "#C8D4E3"
             },
             "line": {
              "color": "white"
             }
            },
            "type": "table"
           }
          ]
         },
         "layout": {
          "annotationdefaults": {
           "arrowcolor": "#2a3f5f",
           "arrowhead": 0,
           "arrowwidth": 1
          },
          "autotypenumbers": "strict",
          "coloraxis": {
           "colorbar": {
            "outlinewidth": 0,
            "ticks": ""
           }
          },
          "colorscale": {
           "diverging": [
            [
             0,
             "#8e0152"
            ],
            [
             0.1,
             "#c51b7d"
            ],
            [
             0.2,
             "#de77ae"
            ],
            [
             0.3,
             "#f1b6da"
            ],
            [
             0.4,
             "#fde0ef"
            ],
            [
             0.5,
             "#f7f7f7"
            ],
            [
             0.6,
             "#e6f5d0"
            ],
            [
             0.7,
             "#b8e186"
            ],
            [
             0.8,
             "#7fbc41"
            ],
            [
             0.9,
             "#4d9221"
            ],
            [
             1,
             "#276419"
            ]
           ],
           "sequential": [
            [
             0,
             "#0d0887"
            ],
            [
             0.1111111111111111,
             "#46039f"
            ],
            [
             0.2222222222222222,
             "#7201a8"
            ],
            [
             0.3333333333333333,
             "#9c179e"
            ],
            [
             0.4444444444444444,
             "#bd3786"
            ],
            [
             0.5555555555555556,
             "#d8576b"
            ],
            [
             0.6666666666666666,
             "#ed7953"
            ],
            [
             0.7777777777777778,
             "#fb9f3a"
            ],
            [
             0.8888888888888888,
             "#fdca26"
            ],
            [
             1,
             "#f0f921"
            ]
           ],
           "sequentialminus": [
            [
             0,
             "#0d0887"
            ],
            [
             0.1111111111111111,
             "#46039f"
            ],
            [
             0.2222222222222222,
             "#7201a8"
            ],
            [
             0.3333333333333333,
             "#9c179e"
            ],
            [
             0.4444444444444444,
             "#bd3786"
            ],
            [
             0.5555555555555556,
             "#d8576b"
            ],
            [
             0.6666666666666666,
             "#ed7953"
            ],
            [
             0.7777777777777778,
             "#fb9f3a"
            ],
            [
             0.8888888888888888,
             "#fdca26"
            ],
            [
             1,
             "#f0f921"
            ]
           ]
          },
          "colorway": [
           "#636efa",
           "#EF553B",
           "#00cc96",
           "#ab63fa",
           "#FFA15A",
           "#19d3f3",
           "#FF6692",
           "#B6E880",
           "#FF97FF",
           "#FECB52"
          ],
          "font": {
           "color": "#2a3f5f"
          },
          "geo": {
           "bgcolor": "white",
           "lakecolor": "white",
           "landcolor": "#E5ECF6",
           "showlakes": true,
           "showland": true,
           "subunitcolor": "white"
          },
          "hoverlabel": {
           "align": "left"
          },
          "hovermode": "closest",
          "mapbox": {
           "style": "light"
          },
          "paper_bgcolor": "white",
          "plot_bgcolor": "#E5ECF6",
          "polar": {
           "angularaxis": {
            "gridcolor": "white",
            "linecolor": "white",
            "ticks": ""
           },
           "bgcolor": "#E5ECF6",
           "radialaxis": {
            "gridcolor": "white",
            "linecolor": "white",
            "ticks": ""
           }
          },
          "scene": {
           "xaxis": {
            "backgroundcolor": "#E5ECF6",
            "gridcolor": "white",
            "gridwidth": 2,
            "linecolor": "white",
            "showbackground": true,
            "ticks": "",
            "zerolinecolor": "white"
           },
           "yaxis": {
            "backgroundcolor": "#E5ECF6",
            "gridcolor": "white",
            "gridwidth": 2,
            "linecolor": "white",
            "showbackground": true,
            "ticks": "",
            "zerolinecolor": "white"
           },
           "zaxis": {
            "backgroundcolor": "#E5ECF6",
            "gridcolor": "white",
            "gridwidth": 2,
            "linecolor": "white",
            "showbackground": true,
            "ticks": "",
            "zerolinecolor": "white"
           }
          },
          "shapedefaults": {
           "line": {
            "color": "#2a3f5f"
           }
          },
          "ternary": {
           "aaxis": {
            "gridcolor": "white",
            "linecolor": "white",
            "ticks": ""
           },
           "baxis": {
            "gridcolor": "white",
            "linecolor": "white",
            "ticks": ""
           },
           "bgcolor": "#E5ECF6",
           "caxis": {
            "gridcolor": "white",
            "linecolor": "white",
            "ticks": ""
           }
          },
          "title": {
           "x": 0.05
          },
          "xaxis": {
           "automargin": true,
           "gridcolor": "white",
           "linecolor": "white",
           "ticks": "",
           "title": {
            "standoff": 15
           },
           "zerolinecolor": "white",
           "zerolinewidth": 2
          },
          "yaxis": {
           "automargin": true,
           "gridcolor": "white",
           "linecolor": "white",
           "ticks": "",
           "title": {
            "standoff": 15
           },
           "zerolinecolor": "white",
           "zerolinewidth": 2
          }
         }
        },
        "title": {
         "text": "PCA 2 Components- Total Explained Variance: 30.32%"
        },
        "xaxis": {
         "anchor": "y",
         "domain": [
          0,
          1
         ],
         "title": {
          "text": "PC 0"
         }
        },
        "yaxis": {
         "anchor": "x",
         "domain": [
          0,
          1
         ],
         "title": {
          "text": "PC 1"
         }
        }
       }
      }
     },
     "metadata": {},
     "output_type": "display_data"
    }
   ],
   "source": [
    "from sklearn.decomposition import PCA\n",
    "import plotly.express as px\n",
    "\n",
    "X = scale(data)\n",
    "y= df.iloc[:,1]\n",
    "features = all_names\n",
    "\n",
    "pca = PCA(n_components=2)\n",
    "components = pca.fit_transform(X)\n",
    "total_var = pca.explained_variance_ratio_.sum() * 100\n",
    "\n",
    "fig = px.scatter(components, x=0, y=1, color=y, \n",
    "                 title=f'PCA 2 Components- Total Explained Variance: {total_var:.2f}%',\n",
    "                )\n",
    "fig.update_layout(\n",
    "    xaxis_title=\"PC 0\",\n",
    "    yaxis_title=\"PC 1\"\n",
    ")\n",
    "fig.show()"
   ]
  },
  {
   "cell_type": "code",
   "execution_count": 11,
   "metadata": {},
   "outputs": [
    {
     "data": {
      "application/vnd.plotly.v1+json": {
       "config": {
        "plotlyServerURL": "https://plot.ly"
       },
       "data": [
        {
         "hovertemplate": "color=ependymoma<br>PC 0=%{x}<br>PC 1=%{y}<br>PC 2=%{z}<extra></extra>",
         "legendgroup": "ependymoma",
         "marker": {
          "color": "#636efa",
          "symbol": "circle"
         },
         "mode": "markers",
         "name": "ependymoma",
         "scene": "scene",
         "showlegend": true,
         "type": "scatter3d",
         "x": [
          165.16263565087465,
          85.22657503029298,
          70.26897105170384,
          -101.58835660035288,
          65.80711406295265,
          124.9756797667865,
          155.78115798896934,
          108.6175301935105,
          110.61677919258905,
          149.6602151206415,
          -124.09150806355474,
          63.41558123474558,
          123.36998890235417,
          -78.54321484813329,
          91.57053523129633,
          -48.13960567425815,
          133.5639850438274,
          97.85971511443982,
          -47.66029143376705,
          90.09696102260794,
          94.30571815415094,
          83.7269691355963,
          -64.53166714339763,
          -44.25794852430065,
          119.75787026205954,
          141.54691255084992,
          60.887510981975204,
          124.66385615630604,
          -35.55096013103574,
          -125.24233571899832,
          -117.27419783333593,
          133.5088742091886,
          184.3284423775495,
          -39.53830300490497,
          87.11164387036993,
          -138.56675094028293,
          -156.8648189691153,
          -138.8915345688534,
          -124.41135974579223,
          -111.26155055122473,
          -121.67783378639088,
          -101.52942201699761,
          -131.7803095603787,
          -100.83923918310111,
          -125.01565057210983,
          -127.820535466387
         ],
         "y": [
          5.242749994679419,
          -53.09843073128569,
          -68.2923129960639,
          -47.66933098210593,
          -55.921518900760724,
          -20.115676713700605,
          -40.96574732404869,
          -41.41264400854617,
          -33.088426647666125,
          -37.41693472900579,
          -93.14691271113999,
          -9.492398294748957,
          -19.53590202276339,
          -29.199835062141933,
          -96.7947982341387,
          -65.62274488330908,
          -39.397204781366874,
          -69.342395424049,
          -103.19090012119557,
          -89.27976273267913,
          -67.44913963716037,
          -49.583092936797264,
          -75.12201279971069,
          -97.28487294568279,
          -67.40875141386707,
          -65.58901369064434,
          -56.30163862858334,
          -44.29480637620763,
          -88.28512582718069,
          -68.48871538698003,
          -105.33399236100125,
          -35.6692987154295,
          22.192575502801446,
          -26.9896368974021,
          -62.35701095737697,
          -81.65066326826056,
          -35.3876764244864,
          -91.60853335889297,
          -63.750317298365545,
          -88.42270921785995,
          -20.156303536845606,
          -51.73564173631788,
          -31.29489060205654,
          -41.67181407725253,
          -13.71829492292994,
          0.20523511216552642
         ],
         "z": [
          87.72921006989282,
          -66.32951306464838,
          -4.753769442642517,
          -18.9421894309354,
          2.9379503829702815,
          40.215099664163894,
          31.884949550237472,
          23.730479248113713,
          54.34576704427689,
          50.32686456415225,
          56.78251009594778,
          26.81358188475093,
          2.1469665383832526,
          -69.8921151941593,
          -15.906718767065822,
          -0.08068578337778452,
          19.977975725208243,
          32.34218706798409,
          -39.659380623047596,
          7.605755013840267,
          7.208324198436898,
          -67.2659450580739,
          -6.085001989713419,
          2.1967919897969352,
          34.93094612791918,
          37.88300769588976,
          -1.578094483968913,
          15.304806207106191,
          57.96738262421347,
          -9.555328355113776,
          25.920025924419726,
          -16.786138660210163,
          99.1504879987002,
          66.20222317024616,
          -21.68085427434422,
          -0.5241084854587942,
          -67.53778769578429,
          -19.609308123124254,
          22.15327619389034,
          53.0047256200405,
          -3.0737447321852835,
          77.70314119382667,
          4.685570828591407,
          17.732131552025994,
          114.25381103862131,
          132.78694965849266
         ]
        },
        {
         "hovertemplate": "color=glioblastoma<br>PC 0=%{x}<br>PC 1=%{y}<br>PC 2=%{z}<extra></extra>",
         "legendgroup": "glioblastoma",
         "marker": {
          "color": "#EF553B",
          "symbol": "circle"
         },
         "mode": "markers",
         "name": "glioblastoma",
         "scene": "scene",
         "showlegend": true,
         "type": "scatter3d",
         "x": [
          90.50006393351606,
          97.16789538713587,
          -105.85170764589816,
          -100.09201441704059,
          -90.34585867015223,
          113.565793378131,
          92.61557081339879,
          161.83534141875438,
          102.07777861226215,
          161.9031664849937,
          94.71856497056217,
          127.29715687511323,
          85.36409577380437,
          117.21766568114866,
          76.75990270034113,
          -45.50387897633535,
          -129.44842901139185,
          -105.6911766965361,
          -129.38172028516007,
          -106.44186141336924,
          154.12362776460776,
          86.66135567513672,
          219.73586927253237,
          75.53654581516126,
          -159.88006311195562,
          61.654708259277484,
          98.76088435592655,
          -140.95976788063908,
          -135.5230156685544,
          -120.32591320285428,
          -123.07180319508457,
          -92.85195613320853,
          -130.78701329655624,
          -94.76739923899086
         ],
         "y": [
          -37.63409213379589,
          34.32981870724558,
          -19.82905153430415,
          -14.16968853816533,
          -20.805916854268943,
          -60.21110352688353,
          -0.7679037618245077,
          -12.796014297279095,
          2.3088232533730486,
          43.99763209261344,
          -36.740297950083594,
          46.68728026666185,
          -15.604600398259091,
          17.030756774139984,
          -6.538082301148542,
          -75.40030350775282,
          5.996874364192606,
          -46.891955549195885,
          15.000915799356733,
          30.180022858690208,
          28.293163338724085,
          -24.698932747586873,
          63.11445345659228,
          -2.1882439098517543,
          -51.76113045320167,
          -12.914239595785926,
          -37.438224177507195,
          -54.45023436948987,
          57.16494092800542,
          1.1407145497971949,
          -48.29091192761191,
          -43.328524354985454,
          -25.80199448271708,
          -23.073834398531883
         ],
         "z": [
          14.837574872069643,
          -66.28615250366123,
          -29.869370028045967,
          41.07981111650079,
          56.198930042883006,
          -19.207794068471,
          0.5063235943341853,
          26.769132481905455,
          -69.65380115790553,
          -20.24894361594118,
          -25.359145247206346,
          -22.18006657159738,
          -73.94421515825553,
          -41.51713315006226,
          -111.19666368007184,
          -22.859944022104973,
          -39.28338127279531,
          0.5698877727760453,
          -28.908533046302445,
          -20.715938496181305,
          22.29017740593109,
          57.514659805002495,
          5.737119196608589,
          -10.749185230805178,
          -36.07410671231844,
          -56.09568921798787,
          -35.98729647705865,
          -8.768566036134919,
          54.275253977092014,
          58.78161358696185,
          -22.749058354551078,
          -8.118286426107526,
          -21.37703023647235,
          30.96740426693296
         ]
        },
        {
         "hovertemplate": "color=medulloblastoma<br>PC 0=%{x}<br>PC 1=%{y}<br>PC 2=%{z}<extra></extra>",
         "legendgroup": "medulloblastoma",
         "marker": {
          "color": "#00cc96",
          "symbol": "circle"
         },
         "mode": "markers",
         "name": "medulloblastoma",
         "scene": "scene",
         "showlegend": true,
         "type": "scatter3d",
         "x": [
          -114.52874404736178,
          115.9903856976485,
          127.7226911673868,
          105.39442444451446,
          151.0701842633437,
          -110.75052034805177,
          89.48734832141955,
          142.16813359601497,
          45.55343594806827,
          -118.28707536878797,
          72.46737463812184,
          33.19131600322913,
          -130.83052923117484,
          -130.89094039353,
          -154.31674475650578,
          -38.10516951306567,
          -91.70614557103752,
          -140.3256265709826,
          -87.6998201699896,
          -106.52665916064298,
          -130.09165314959276,
          -43.37820671936775
         ],
         "y": [
          163.3848607257947,
          92.54232864316062,
          98.83560634125996,
          76.97801579418967,
          107.23534791675209,
          84.04090307161324,
          62.90539563500708,
          124.00975728843059,
          70.05218954860757,
          -14.68573219758996,
          36.01285784469277,
          25.318368789087227,
          102.65956894205891,
          53.70444327177395,
          57.453527717446875,
          89.99966893682897,
          86.5529635600796,
          73.16558387383766,
          72.6990102456018,
          87.77182561406323,
          84.7428294846126,
          8.776274630064513
         ],
         "z": [
          4.9620370129817255,
          -93.82835381533872,
          -66.24093520351732,
          -107.18333813303413,
          -60.19159645773459,
          -73.03903899648363,
          -114.16023091610636,
          -63.3853269592448,
          -137.01265759767148,
          -13.894704966496013,
          -136.50420014751572,
          -113.54581548343668,
          -109.23719915358447,
          -83.08629952649683,
          -131.9200872099652,
          -96.04595899961247,
          -75.71004875777452,
          -153.26951807722736,
          -51.47494811869459,
          -85.04473031254912,
          -51.83468459916435,
          -80.76305919801689
         ]
        },
        {
         "hovertemplate": "color=normal<br>PC 0=%{x}<br>PC 1=%{y}<br>PC 2=%{z}<extra></extra>",
         "legendgroup": "normal",
         "marker": {
          "color": "#ab63fa",
          "symbol": "circle"
         },
         "mode": "markers",
         "name": "normal",
         "scene": "scene",
         "showlegend": true,
         "type": "scatter3d",
         "x": [
          -30.740372929285993,
          115.95222716306832,
          -78.13772032585818,
          42.28531363779724,
          -101.80848488389496,
          -86.95188365187974,
          -92.46631259162204,
          145.82400509081796,
          -72.109537465379,
          6.079000381116063,
          -99.50431080778442,
          -102.18895460358466,
          21.947542576173227
         ],
         "y": [
          104.9115610369172,
          97.9387238104461,
          65.5958295124818,
          209.46672391670137,
          119.59841606821182,
          128.81085246276695,
          136.4041672855311,
          58.75750389971212,
          114.92942550032764,
          86.66361367295762,
          113.33903694840838,
          107.45211182984326,
          109.86833521264163
         ],
         "z": [
          -16.06510070411993,
          65.75261951957386,
          126.60133198877678,
          244.83658779217188,
          88.74381399058706,
          118.68540913005666,
          107.74157277764176,
          55.966952901407716,
          23.75449072995017,
          97.42472638677403,
          83.08602390738915,
          80.94344856941736,
          109.38929434107214
         ]
        },
        {
         "hovertemplate": "color=pilocytic_astrocytoma<br>PC 0=%{x}<br>PC 1=%{y}<br>PC 2=%{z}<extra></extra>",
         "legendgroup": "pilocytic_astrocytoma",
         "marker": {
          "color": "#FFA15A",
          "symbol": "circle"
         },
         "mode": "markers",
         "name": "pilocytic_astrocytoma",
         "scene": "scene",
         "showlegend": true,
         "type": "scatter3d",
         "x": [
          77.89105176107714,
          61.78308321118553,
          67.43770743306835,
          219.42161877894205,
          177.2673385657441,
          109.52491201539168,
          100.40362091759619,
          -91.77427702057834,
          -101.22920867647909,
          51.58535051413955,
          -104.69450204446234,
          -42.57959651892993,
          -116.93246054835978,
          -119.73895497084554,
          -109.47989038387092
         ],
         "y": [
          -32.442395638804356,
          -45.470257614035766,
          -30.82513595220325,
          20.689903542786766,
          35.42054347858632,
          -27.88863292920859,
          -51.66069247798127,
          -33.381285802558,
          -44.84309089405402,
          -47.544958698284745,
          -33.49827307195051,
          -25.177088886607308,
          -38.582234092509935,
          -10.468291483270814,
          8.767147774975014
         ],
         "z": [
          -17.397807252606725,
          35.55503946425279,
          -6.50255310325169,
          52.91722474536697,
          73.47712858022794,
          7.110161945649524,
          20.05389092853071,
          44.565171211058534,
          7.623986221854805,
          -0.9253265610050528,
          20.1282369768021,
          12.666988003447946,
          42.74516753339794,
          36.92181552360354,
          21.57059795141097
         ]
        }
       ],
       "layout": {
        "legend": {
         "title": {
          "text": "color"
         },
         "tracegroupgap": 0
        },
        "scene": {
         "domain": {
          "x": [
           0,
           1
          ],
          "y": [
           0,
           1
          ]
         },
         "xaxis": {
          "title": {
           "text": "PC 0"
          }
         },
         "yaxis": {
          "title": {
           "text": "PC 1"
          }
         },
         "zaxis": {
          "title": {
           "text": "PC 2"
          }
         }
        },
        "template": {
         "data": {
          "bar": [
           {
            "error_x": {
             "color": "#2a3f5f"
            },
            "error_y": {
             "color": "#2a3f5f"
            },
            "marker": {
             "line": {
              "color": "#E5ECF6",
              "width": 0.5
             },
             "pattern": {
              "fillmode": "overlay",
              "size": 10,
              "solidity": 0.2
             }
            },
            "type": "bar"
           }
          ],
          "barpolar": [
           {
            "marker": {
             "line": {
              "color": "#E5ECF6",
              "width": 0.5
             },
             "pattern": {
              "fillmode": "overlay",
              "size": 10,
              "solidity": 0.2
             }
            },
            "type": "barpolar"
           }
          ],
          "carpet": [
           {
            "aaxis": {
             "endlinecolor": "#2a3f5f",
             "gridcolor": "white",
             "linecolor": "white",
             "minorgridcolor": "white",
             "startlinecolor": "#2a3f5f"
            },
            "baxis": {
             "endlinecolor": "#2a3f5f",
             "gridcolor": "white",
             "linecolor": "white",
             "minorgridcolor": "white",
             "startlinecolor": "#2a3f5f"
            },
            "type": "carpet"
           }
          ],
          "choropleth": [
           {
            "colorbar": {
             "outlinewidth": 0,
             "ticks": ""
            },
            "type": "choropleth"
           }
          ],
          "contour": [
           {
            "colorbar": {
             "outlinewidth": 0,
             "ticks": ""
            },
            "colorscale": [
             [
              0,
              "#0d0887"
             ],
             [
              0.1111111111111111,
              "#46039f"
             ],
             [
              0.2222222222222222,
              "#7201a8"
             ],
             [
              0.3333333333333333,
              "#9c179e"
             ],
             [
              0.4444444444444444,
              "#bd3786"
             ],
             [
              0.5555555555555556,
              "#d8576b"
             ],
             [
              0.6666666666666666,
              "#ed7953"
             ],
             [
              0.7777777777777778,
              "#fb9f3a"
             ],
             [
              0.8888888888888888,
              "#fdca26"
             ],
             [
              1,
              "#f0f921"
             ]
            ],
            "type": "contour"
           }
          ],
          "contourcarpet": [
           {
            "colorbar": {
             "outlinewidth": 0,
             "ticks": ""
            },
            "type": "contourcarpet"
           }
          ],
          "heatmap": [
           {
            "colorbar": {
             "outlinewidth": 0,
             "ticks": ""
            },
            "colorscale": [
             [
              0,
              "#0d0887"
             ],
             [
              0.1111111111111111,
              "#46039f"
             ],
             [
              0.2222222222222222,
              "#7201a8"
             ],
             [
              0.3333333333333333,
              "#9c179e"
             ],
             [
              0.4444444444444444,
              "#bd3786"
             ],
             [
              0.5555555555555556,
              "#d8576b"
             ],
             [
              0.6666666666666666,
              "#ed7953"
             ],
             [
              0.7777777777777778,
              "#fb9f3a"
             ],
             [
              0.8888888888888888,
              "#fdca26"
             ],
             [
              1,
              "#f0f921"
             ]
            ],
            "type": "heatmap"
           }
          ],
          "heatmapgl": [
           {
            "colorbar": {
             "outlinewidth": 0,
             "ticks": ""
            },
            "colorscale": [
             [
              0,
              "#0d0887"
             ],
             [
              0.1111111111111111,
              "#46039f"
             ],
             [
              0.2222222222222222,
              "#7201a8"
             ],
             [
              0.3333333333333333,
              "#9c179e"
             ],
             [
              0.4444444444444444,
              "#bd3786"
             ],
             [
              0.5555555555555556,
              "#d8576b"
             ],
             [
              0.6666666666666666,
              "#ed7953"
             ],
             [
              0.7777777777777778,
              "#fb9f3a"
             ],
             [
              0.8888888888888888,
              "#fdca26"
             ],
             [
              1,
              "#f0f921"
             ]
            ],
            "type": "heatmapgl"
           }
          ],
          "histogram": [
           {
            "marker": {
             "pattern": {
              "fillmode": "overlay",
              "size": 10,
              "solidity": 0.2
             }
            },
            "type": "histogram"
           }
          ],
          "histogram2d": [
           {
            "colorbar": {
             "outlinewidth": 0,
             "ticks": ""
            },
            "colorscale": [
             [
              0,
              "#0d0887"
             ],
             [
              0.1111111111111111,
              "#46039f"
             ],
             [
              0.2222222222222222,
              "#7201a8"
             ],
             [
              0.3333333333333333,
              "#9c179e"
             ],
             [
              0.4444444444444444,
              "#bd3786"
             ],
             [
              0.5555555555555556,
              "#d8576b"
             ],
             [
              0.6666666666666666,
              "#ed7953"
             ],
             [
              0.7777777777777778,
              "#fb9f3a"
             ],
             [
              0.8888888888888888,
              "#fdca26"
             ],
             [
              1,
              "#f0f921"
             ]
            ],
            "type": "histogram2d"
           }
          ],
          "histogram2dcontour": [
           {
            "colorbar": {
             "outlinewidth": 0,
             "ticks": ""
            },
            "colorscale": [
             [
              0,
              "#0d0887"
             ],
             [
              0.1111111111111111,
              "#46039f"
             ],
             [
              0.2222222222222222,
              "#7201a8"
             ],
             [
              0.3333333333333333,
              "#9c179e"
             ],
             [
              0.4444444444444444,
              "#bd3786"
             ],
             [
              0.5555555555555556,
              "#d8576b"
             ],
             [
              0.6666666666666666,
              "#ed7953"
             ],
             [
              0.7777777777777778,
              "#fb9f3a"
             ],
             [
              0.8888888888888888,
              "#fdca26"
             ],
             [
              1,
              "#f0f921"
             ]
            ],
            "type": "histogram2dcontour"
           }
          ],
          "mesh3d": [
           {
            "colorbar": {
             "outlinewidth": 0,
             "ticks": ""
            },
            "type": "mesh3d"
           }
          ],
          "parcoords": [
           {
            "line": {
             "colorbar": {
              "outlinewidth": 0,
              "ticks": ""
             }
            },
            "type": "parcoords"
           }
          ],
          "pie": [
           {
            "automargin": true,
            "type": "pie"
           }
          ],
          "scatter": [
           {
            "marker": {
             "colorbar": {
              "outlinewidth": 0,
              "ticks": ""
             }
            },
            "type": "scatter"
           }
          ],
          "scatter3d": [
           {
            "line": {
             "colorbar": {
              "outlinewidth": 0,
              "ticks": ""
             }
            },
            "marker": {
             "colorbar": {
              "outlinewidth": 0,
              "ticks": ""
             }
            },
            "type": "scatter3d"
           }
          ],
          "scattercarpet": [
           {
            "marker": {
             "colorbar": {
              "outlinewidth": 0,
              "ticks": ""
             }
            },
            "type": "scattercarpet"
           }
          ],
          "scattergeo": [
           {
            "marker": {
             "colorbar": {
              "outlinewidth": 0,
              "ticks": ""
             }
            },
            "type": "scattergeo"
           }
          ],
          "scattergl": [
           {
            "marker": {
             "colorbar": {
              "outlinewidth": 0,
              "ticks": ""
             }
            },
            "type": "scattergl"
           }
          ],
          "scattermapbox": [
           {
            "marker": {
             "colorbar": {
              "outlinewidth": 0,
              "ticks": ""
             }
            },
            "type": "scattermapbox"
           }
          ],
          "scatterpolar": [
           {
            "marker": {
             "colorbar": {
              "outlinewidth": 0,
              "ticks": ""
             }
            },
            "type": "scatterpolar"
           }
          ],
          "scatterpolargl": [
           {
            "marker": {
             "colorbar": {
              "outlinewidth": 0,
              "ticks": ""
             }
            },
            "type": "scatterpolargl"
           }
          ],
          "scatterternary": [
           {
            "marker": {
             "colorbar": {
              "outlinewidth": 0,
              "ticks": ""
             }
            },
            "type": "scatterternary"
           }
          ],
          "surface": [
           {
            "colorbar": {
             "outlinewidth": 0,
             "ticks": ""
            },
            "colorscale": [
             [
              0,
              "#0d0887"
             ],
             [
              0.1111111111111111,
              "#46039f"
             ],
             [
              0.2222222222222222,
              "#7201a8"
             ],
             [
              0.3333333333333333,
              "#9c179e"
             ],
             [
              0.4444444444444444,
              "#bd3786"
             ],
             [
              0.5555555555555556,
              "#d8576b"
             ],
             [
              0.6666666666666666,
              "#ed7953"
             ],
             [
              0.7777777777777778,
              "#fb9f3a"
             ],
             [
              0.8888888888888888,
              "#fdca26"
             ],
             [
              1,
              "#f0f921"
             ]
            ],
            "type": "surface"
           }
          ],
          "table": [
           {
            "cells": {
             "fill": {
              "color": "#EBF0F8"
             },
             "line": {
              "color": "white"
             }
            },
            "header": {
             "fill": {
              "color": "#C8D4E3"
             },
             "line": {
              "color": "white"
             }
            },
            "type": "table"
           }
          ]
         },
         "layout": {
          "annotationdefaults": {
           "arrowcolor": "#2a3f5f",
           "arrowhead": 0,
           "arrowwidth": 1
          },
          "autotypenumbers": "strict",
          "coloraxis": {
           "colorbar": {
            "outlinewidth": 0,
            "ticks": ""
           }
          },
          "colorscale": {
           "diverging": [
            [
             0,
             "#8e0152"
            ],
            [
             0.1,
             "#c51b7d"
            ],
            [
             0.2,
             "#de77ae"
            ],
            [
             0.3,
             "#f1b6da"
            ],
            [
             0.4,
             "#fde0ef"
            ],
            [
             0.5,
             "#f7f7f7"
            ],
            [
             0.6,
             "#e6f5d0"
            ],
            [
             0.7,
             "#b8e186"
            ],
            [
             0.8,
             "#7fbc41"
            ],
            [
             0.9,
             "#4d9221"
            ],
            [
             1,
             "#276419"
            ]
           ],
           "sequential": [
            [
             0,
             "#0d0887"
            ],
            [
             0.1111111111111111,
             "#46039f"
            ],
            [
             0.2222222222222222,
             "#7201a8"
            ],
            [
             0.3333333333333333,
             "#9c179e"
            ],
            [
             0.4444444444444444,
             "#bd3786"
            ],
            [
             0.5555555555555556,
             "#d8576b"
            ],
            [
             0.6666666666666666,
             "#ed7953"
            ],
            [
             0.7777777777777778,
             "#fb9f3a"
            ],
            [
             0.8888888888888888,
             "#fdca26"
            ],
            [
             1,
             "#f0f921"
            ]
           ],
           "sequentialminus": [
            [
             0,
             "#0d0887"
            ],
            [
             0.1111111111111111,
             "#46039f"
            ],
            [
             0.2222222222222222,
             "#7201a8"
            ],
            [
             0.3333333333333333,
             "#9c179e"
            ],
            [
             0.4444444444444444,
             "#bd3786"
            ],
            [
             0.5555555555555556,
             "#d8576b"
            ],
            [
             0.6666666666666666,
             "#ed7953"
            ],
            [
             0.7777777777777778,
             "#fb9f3a"
            ],
            [
             0.8888888888888888,
             "#fdca26"
            ],
            [
             1,
             "#f0f921"
            ]
           ]
          },
          "colorway": [
           "#636efa",
           "#EF553B",
           "#00cc96",
           "#ab63fa",
           "#FFA15A",
           "#19d3f3",
           "#FF6692",
           "#B6E880",
           "#FF97FF",
           "#FECB52"
          ],
          "font": {
           "color": "#2a3f5f"
          },
          "geo": {
           "bgcolor": "white",
           "lakecolor": "white",
           "landcolor": "#E5ECF6",
           "showlakes": true,
           "showland": true,
           "subunitcolor": "white"
          },
          "hoverlabel": {
           "align": "left"
          },
          "hovermode": "closest",
          "mapbox": {
           "style": "light"
          },
          "paper_bgcolor": "white",
          "plot_bgcolor": "#E5ECF6",
          "polar": {
           "angularaxis": {
            "gridcolor": "white",
            "linecolor": "white",
            "ticks": ""
           },
           "bgcolor": "#E5ECF6",
           "radialaxis": {
            "gridcolor": "white",
            "linecolor": "white",
            "ticks": ""
           }
          },
          "scene": {
           "xaxis": {
            "backgroundcolor": "#E5ECF6",
            "gridcolor": "white",
            "gridwidth": 2,
            "linecolor": "white",
            "showbackground": true,
            "ticks": "",
            "zerolinecolor": "white"
           },
           "yaxis": {
            "backgroundcolor": "#E5ECF6",
            "gridcolor": "white",
            "gridwidth": 2,
            "linecolor": "white",
            "showbackground": true,
            "ticks": "",
            "zerolinecolor": "white"
           },
           "zaxis": {
            "backgroundcolor": "#E5ECF6",
            "gridcolor": "white",
            "gridwidth": 2,
            "linecolor": "white",
            "showbackground": true,
            "ticks": "",
            "zerolinecolor": "white"
           }
          },
          "shapedefaults": {
           "line": {
            "color": "#2a3f5f"
           }
          },
          "ternary": {
           "aaxis": {
            "gridcolor": "white",
            "linecolor": "white",
            "ticks": ""
           },
           "baxis": {
            "gridcolor": "white",
            "linecolor": "white",
            "ticks": ""
           },
           "bgcolor": "#E5ECF6",
           "caxis": {
            "gridcolor": "white",
            "linecolor": "white",
            "ticks": ""
           }
          },
          "title": {
           "x": 0.05
          },
          "xaxis": {
           "automargin": true,
           "gridcolor": "white",
           "linecolor": "white",
           "ticks": "",
           "title": {
            "standoff": 15
           },
           "zerolinecolor": "white",
           "zerolinewidth": 2
          },
          "yaxis": {
           "automargin": true,
           "gridcolor": "white",
           "linecolor": "white",
           "ticks": "",
           "title": {
            "standoff": 15
           },
           "zerolinecolor": "white",
           "zerolinewidth": 2
          }
         }
        },
        "title": {
         "text": "PCA 3 Components- Total Explained Variance: 37.76%"
        }
       }
      }
     },
     "metadata": {},
     "output_type": "display_data"
    }
   ],
   "source": [
    "pca = PCA(n_components=3)\n",
    "components = pca.fit_transform(X)\n",
    "total_var = pca.explained_variance_ratio_.sum() * 100\n",
    "\n",
    "fig = px.scatter_3d(\n",
    "    components, x=0, y=1, z=2, color=y,\n",
    "    title=f'PCA 3 Components- Total Explained Variance: {total_var:.2f}%',\n",
    "    labels={'0': 'PC 0', '1': 'PC 1', '2': 'PC 2'}\n",
    ")\n",
    "fig.show()"
   ]
  },
  {
   "cell_type": "code",
   "execution_count": 12,
   "metadata": {},
   "outputs": [
    {
     "data": {
      "application/vnd.plotly.v1+json": {
       "config": {
        "plotlyServerURL": "https://plot.ly"
       },
       "data": [
        {
         "hovertemplate": "# Components=%{x}<br>Explained Variance=%{y}<extra></extra>",
         "legendgroup": "",
         "line": {
          "color": "#636efa"
         },
         "marker": {
          "symbol": "circle"
         },
         "mode": "lines",
         "name": "",
         "orientation": "v",
         "showlegend": false,
         "stackgroup": "1",
         "type": "scatter",
         "x": [
          1,
          2,
          3,
          4,
          5,
          6,
          7,
          8,
          9,
          10,
          11,
          12,
          13,
          14,
          15,
          16,
          17,
          18,
          19,
          20,
          21,
          22,
          23,
          24,
          25,
          26,
          27,
          28,
          29,
          30,
          31,
          32,
          33,
          34,
          35,
          36,
          37,
          38,
          39,
          40,
          41,
          42,
          43,
          44,
          45,
          46,
          47,
          48,
          49,
          50,
          51,
          52,
          53,
          54,
          55,
          56,
          57,
          58,
          59,
          60,
          61,
          62,
          63,
          64,
          65,
          66,
          67,
          68,
          69,
          70,
          71,
          72,
          73,
          74,
          75,
          76,
          77,
          78,
          79,
          80,
          81,
          82,
          83,
          84,
          85,
          86,
          87,
          88,
          89,
          90,
          91,
          92,
          93,
          94,
          95,
          96,
          97,
          98,
          99,
          100,
          101,
          102,
          103,
          104,
          105,
          106,
          107,
          108,
          109,
          110,
          111,
          112,
          113,
          114,
          115,
          116,
          117,
          118,
          119,
          120,
          121,
          122,
          123,
          124,
          125,
          126,
          127,
          128,
          129,
          130
         ],
         "xaxis": "x",
         "y": [
          0.2240524530798,
          0.30321328580746054,
          0.37755271276659436,
          0.4305906198149849,
          0.47445640458235094,
          0.5057750426780938,
          0.5309677320536952,
          0.5533618083788951,
          0.5723196155161369,
          0.589681391372076,
          0.6051495675763674,
          0.6199760479948643,
          0.6334873523641958,
          0.6443982392573361,
          0.654154449196092,
          0.6631060392340123,
          0.6717570399451999,
          0.6797420149095278,
          0.6875514830887608,
          0.69497682801087,
          0.7020835934146804,
          0.7088645158301163,
          0.7155588999657244,
          0.7218802142654636,
          0.7280337580294084,
          0.7340999918560551,
          0.7399280379917663,
          0.7456345376085709,
          0.751193278833816,
          0.7565291567287572,
          0.7616160922178813,
          0.7665829615066214,
          0.7714546314839319,
          0.7762113114493457,
          0.7809180671186213,
          0.7854420288205073,
          0.7898875476923116,
          0.7942392193879889,
          0.7984280339224036,
          0.8026019410464106,
          0.8066198941633532,
          0.8105905554045304,
          0.8144481303324347,
          0.8182966524178772,
          0.8220841902355482,
          0.8257133343963525,
          0.829315605609992,
          0.832870440600584,
          0.8363037637072971,
          0.8397170075730009,
          0.8430904354742788,
          0.8464113560471377,
          0.8496024119291472,
          0.852748199338818,
          0.8558719697163554,
          0.8589585584082856,
          0.861975508667069,
          0.864950494337978,
          0.8679147928876892,
          0.8707860996475474,
          0.8736239810330247,
          0.8764361187882832,
          0.8791658078807849,
          0.8818823507469108,
          0.8845883841952905,
          0.8872692455822325,
          0.8899007579213413,
          0.8925051875869484,
          0.8950663896132807,
          0.8975932230741227,
          0.9000590159308606,
          0.9024927974967056,
          0.9049059476840782,
          0.9072863234229201,
          0.9096430372958141,
          0.9119571971131126,
          0.914243485453269,
          0.9165163758212759,
          0.9187602497827387,
          0.9209738145207048,
          0.9231372096061367,
          0.9252830156584164,
          0.927424626948563,
          0.9295361076953069,
          0.9316100485791375,
          0.93366125648777,
          0.9356812953371828,
          0.9376782984086522,
          0.9396564170974141,
          0.94162732489158,
          0.9435482066317292,
          0.9454487419336395,
          0.9473407206650737,
          0.9491963244044461,
          0.9510381437424164,
          0.9528290036188829,
          0.9546097442126925,
          0.9563791594740781,
          0.9581087334744652,
          0.9598151350930881,
          0.96151265063028,
          0.9631884706559186,
          0.9648413989083306,
          0.9664747931803802,
          0.968093858160958,
          0.9696882895535317,
          0.9712720764043371,
          0.9728326351054998,
          0.9743523768816624,
          0.9758356656817623,
          0.9773145145502633,
          0.9787704472178383,
          0.9802193608049187,
          0.9816368059651138,
          0.9830263887959861,
          0.9843952955745151,
          0.9857347939719752,
          0.9870618838621515,
          0.9883796576749609,
          0.9896610959440046,
          0.990934279366398,
          0.992191236144334,
          0.9934106090083227,
          0.9945987319982276,
          0.9957549764952052,
          0.9968574923128305,
          0.9979407825696835,
          0.9989875841305778,
          1,
          1
         ],
         "yaxis": "y"
        }
       ],
       "layout": {
        "legend": {
         "tracegroupgap": 0
        },
        "margin": {
         "t": 60
        },
        "template": {
         "data": {
          "bar": [
           {
            "error_x": {
             "color": "#2a3f5f"
            },
            "error_y": {
             "color": "#2a3f5f"
            },
            "marker": {
             "line": {
              "color": "#E5ECF6",
              "width": 0.5
             },
             "pattern": {
              "fillmode": "overlay",
              "size": 10,
              "solidity": 0.2
             }
            },
            "type": "bar"
           }
          ],
          "barpolar": [
           {
            "marker": {
             "line": {
              "color": "#E5ECF6",
              "width": 0.5
             },
             "pattern": {
              "fillmode": "overlay",
              "size": 10,
              "solidity": 0.2
             }
            },
            "type": "barpolar"
           }
          ],
          "carpet": [
           {
            "aaxis": {
             "endlinecolor": "#2a3f5f",
             "gridcolor": "white",
             "linecolor": "white",
             "minorgridcolor": "white",
             "startlinecolor": "#2a3f5f"
            },
            "baxis": {
             "endlinecolor": "#2a3f5f",
             "gridcolor": "white",
             "linecolor": "white",
             "minorgridcolor": "white",
             "startlinecolor": "#2a3f5f"
            },
            "type": "carpet"
           }
          ],
          "choropleth": [
           {
            "colorbar": {
             "outlinewidth": 0,
             "ticks": ""
            },
            "type": "choropleth"
           }
          ],
          "contour": [
           {
            "colorbar": {
             "outlinewidth": 0,
             "ticks": ""
            },
            "colorscale": [
             [
              0,
              "#0d0887"
             ],
             [
              0.1111111111111111,
              "#46039f"
             ],
             [
              0.2222222222222222,
              "#7201a8"
             ],
             [
              0.3333333333333333,
              "#9c179e"
             ],
             [
              0.4444444444444444,
              "#bd3786"
             ],
             [
              0.5555555555555556,
              "#d8576b"
             ],
             [
              0.6666666666666666,
              "#ed7953"
             ],
             [
              0.7777777777777778,
              "#fb9f3a"
             ],
             [
              0.8888888888888888,
              "#fdca26"
             ],
             [
              1,
              "#f0f921"
             ]
            ],
            "type": "contour"
           }
          ],
          "contourcarpet": [
           {
            "colorbar": {
             "outlinewidth": 0,
             "ticks": ""
            },
            "type": "contourcarpet"
           }
          ],
          "heatmap": [
           {
            "colorbar": {
             "outlinewidth": 0,
             "ticks": ""
            },
            "colorscale": [
             [
              0,
              "#0d0887"
             ],
             [
              0.1111111111111111,
              "#46039f"
             ],
             [
              0.2222222222222222,
              "#7201a8"
             ],
             [
              0.3333333333333333,
              "#9c179e"
             ],
             [
              0.4444444444444444,
              "#bd3786"
             ],
             [
              0.5555555555555556,
              "#d8576b"
             ],
             [
              0.6666666666666666,
              "#ed7953"
             ],
             [
              0.7777777777777778,
              "#fb9f3a"
             ],
             [
              0.8888888888888888,
              "#fdca26"
             ],
             [
              1,
              "#f0f921"
             ]
            ],
            "type": "heatmap"
           }
          ],
          "heatmapgl": [
           {
            "colorbar": {
             "outlinewidth": 0,
             "ticks": ""
            },
            "colorscale": [
             [
              0,
              "#0d0887"
             ],
             [
              0.1111111111111111,
              "#46039f"
             ],
             [
              0.2222222222222222,
              "#7201a8"
             ],
             [
              0.3333333333333333,
              "#9c179e"
             ],
             [
              0.4444444444444444,
              "#bd3786"
             ],
             [
              0.5555555555555556,
              "#d8576b"
             ],
             [
              0.6666666666666666,
              "#ed7953"
             ],
             [
              0.7777777777777778,
              "#fb9f3a"
             ],
             [
              0.8888888888888888,
              "#fdca26"
             ],
             [
              1,
              "#f0f921"
             ]
            ],
            "type": "heatmapgl"
           }
          ],
          "histogram": [
           {
            "marker": {
             "pattern": {
              "fillmode": "overlay",
              "size": 10,
              "solidity": 0.2
             }
            },
            "type": "histogram"
           }
          ],
          "histogram2d": [
           {
            "colorbar": {
             "outlinewidth": 0,
             "ticks": ""
            },
            "colorscale": [
             [
              0,
              "#0d0887"
             ],
             [
              0.1111111111111111,
              "#46039f"
             ],
             [
              0.2222222222222222,
              "#7201a8"
             ],
             [
              0.3333333333333333,
              "#9c179e"
             ],
             [
              0.4444444444444444,
              "#bd3786"
             ],
             [
              0.5555555555555556,
              "#d8576b"
             ],
             [
              0.6666666666666666,
              "#ed7953"
             ],
             [
              0.7777777777777778,
              "#fb9f3a"
             ],
             [
              0.8888888888888888,
              "#fdca26"
             ],
             [
              1,
              "#f0f921"
             ]
            ],
            "type": "histogram2d"
           }
          ],
          "histogram2dcontour": [
           {
            "colorbar": {
             "outlinewidth": 0,
             "ticks": ""
            },
            "colorscale": [
             [
              0,
              "#0d0887"
             ],
             [
              0.1111111111111111,
              "#46039f"
             ],
             [
              0.2222222222222222,
              "#7201a8"
             ],
             [
              0.3333333333333333,
              "#9c179e"
             ],
             [
              0.4444444444444444,
              "#bd3786"
             ],
             [
              0.5555555555555556,
              "#d8576b"
             ],
             [
              0.6666666666666666,
              "#ed7953"
             ],
             [
              0.7777777777777778,
              "#fb9f3a"
             ],
             [
              0.8888888888888888,
              "#fdca26"
             ],
             [
              1,
              "#f0f921"
             ]
            ],
            "type": "histogram2dcontour"
           }
          ],
          "mesh3d": [
           {
            "colorbar": {
             "outlinewidth": 0,
             "ticks": ""
            },
            "type": "mesh3d"
           }
          ],
          "parcoords": [
           {
            "line": {
             "colorbar": {
              "outlinewidth": 0,
              "ticks": ""
             }
            },
            "type": "parcoords"
           }
          ],
          "pie": [
           {
            "automargin": true,
            "type": "pie"
           }
          ],
          "scatter": [
           {
            "marker": {
             "colorbar": {
              "outlinewidth": 0,
              "ticks": ""
             }
            },
            "type": "scatter"
           }
          ],
          "scatter3d": [
           {
            "line": {
             "colorbar": {
              "outlinewidth": 0,
              "ticks": ""
             }
            },
            "marker": {
             "colorbar": {
              "outlinewidth": 0,
              "ticks": ""
             }
            },
            "type": "scatter3d"
           }
          ],
          "scattercarpet": [
           {
            "marker": {
             "colorbar": {
              "outlinewidth": 0,
              "ticks": ""
             }
            },
            "type": "scattercarpet"
           }
          ],
          "scattergeo": [
           {
            "marker": {
             "colorbar": {
              "outlinewidth": 0,
              "ticks": ""
             }
            },
            "type": "scattergeo"
           }
          ],
          "scattergl": [
           {
            "marker": {
             "colorbar": {
              "outlinewidth": 0,
              "ticks": ""
             }
            },
            "type": "scattergl"
           }
          ],
          "scattermapbox": [
           {
            "marker": {
             "colorbar": {
              "outlinewidth": 0,
              "ticks": ""
             }
            },
            "type": "scattermapbox"
           }
          ],
          "scatterpolar": [
           {
            "marker": {
             "colorbar": {
              "outlinewidth": 0,
              "ticks": ""
             }
            },
            "type": "scatterpolar"
           }
          ],
          "scatterpolargl": [
           {
            "marker": {
             "colorbar": {
              "outlinewidth": 0,
              "ticks": ""
             }
            },
            "type": "scatterpolargl"
           }
          ],
          "scatterternary": [
           {
            "marker": {
             "colorbar": {
              "outlinewidth": 0,
              "ticks": ""
             }
            },
            "type": "scatterternary"
           }
          ],
          "surface": [
           {
            "colorbar": {
             "outlinewidth": 0,
             "ticks": ""
            },
            "colorscale": [
             [
              0,
              "#0d0887"
             ],
             [
              0.1111111111111111,
              "#46039f"
             ],
             [
              0.2222222222222222,
              "#7201a8"
             ],
             [
              0.3333333333333333,
              "#9c179e"
             ],
             [
              0.4444444444444444,
              "#bd3786"
             ],
             [
              0.5555555555555556,
              "#d8576b"
             ],
             [
              0.6666666666666666,
              "#ed7953"
             ],
             [
              0.7777777777777778,
              "#fb9f3a"
             ],
             [
              0.8888888888888888,
              "#fdca26"
             ],
             [
              1,
              "#f0f921"
             ]
            ],
            "type": "surface"
           }
          ],
          "table": [
           {
            "cells": {
             "fill": {
              "color": "#EBF0F8"
             },
             "line": {
              "color": "white"
             }
            },
            "header": {
             "fill": {
              "color": "#C8D4E3"
             },
             "line": {
              "color": "white"
             }
            },
            "type": "table"
           }
          ]
         },
         "layout": {
          "annotationdefaults": {
           "arrowcolor": "#2a3f5f",
           "arrowhead": 0,
           "arrowwidth": 1
          },
          "autotypenumbers": "strict",
          "coloraxis": {
           "colorbar": {
            "outlinewidth": 0,
            "ticks": ""
           }
          },
          "colorscale": {
           "diverging": [
            [
             0,
             "#8e0152"
            ],
            [
             0.1,
             "#c51b7d"
            ],
            [
             0.2,
             "#de77ae"
            ],
            [
             0.3,
             "#f1b6da"
            ],
            [
             0.4,
             "#fde0ef"
            ],
            [
             0.5,
             "#f7f7f7"
            ],
            [
             0.6,
             "#e6f5d0"
            ],
            [
             0.7,
             "#b8e186"
            ],
            [
             0.8,
             "#7fbc41"
            ],
            [
             0.9,
             "#4d9221"
            ],
            [
             1,
             "#276419"
            ]
           ],
           "sequential": [
            [
             0,
             "#0d0887"
            ],
            [
             0.1111111111111111,
             "#46039f"
            ],
            [
             0.2222222222222222,
             "#7201a8"
            ],
            [
             0.3333333333333333,
             "#9c179e"
            ],
            [
             0.4444444444444444,
             "#bd3786"
            ],
            [
             0.5555555555555556,
             "#d8576b"
            ],
            [
             0.6666666666666666,
             "#ed7953"
            ],
            [
             0.7777777777777778,
             "#fb9f3a"
            ],
            [
             0.8888888888888888,
             "#fdca26"
            ],
            [
             1,
             "#f0f921"
            ]
           ],
           "sequentialminus": [
            [
             0,
             "#0d0887"
            ],
            [
             0.1111111111111111,
             "#46039f"
            ],
            [
             0.2222222222222222,
             "#7201a8"
            ],
            [
             0.3333333333333333,
             "#9c179e"
            ],
            [
             0.4444444444444444,
             "#bd3786"
            ],
            [
             0.5555555555555556,
             "#d8576b"
            ],
            [
             0.6666666666666666,
             "#ed7953"
            ],
            [
             0.7777777777777778,
             "#fb9f3a"
            ],
            [
             0.8888888888888888,
             "#fdca26"
            ],
            [
             1,
             "#f0f921"
            ]
           ]
          },
          "colorway": [
           "#636efa",
           "#EF553B",
           "#00cc96",
           "#ab63fa",
           "#FFA15A",
           "#19d3f3",
           "#FF6692",
           "#B6E880",
           "#FF97FF",
           "#FECB52"
          ],
          "font": {
           "color": "#2a3f5f"
          },
          "geo": {
           "bgcolor": "white",
           "lakecolor": "white",
           "landcolor": "#E5ECF6",
           "showlakes": true,
           "showland": true,
           "subunitcolor": "white"
          },
          "hoverlabel": {
           "align": "left"
          },
          "hovermode": "closest",
          "mapbox": {
           "style": "light"
          },
          "paper_bgcolor": "white",
          "plot_bgcolor": "#E5ECF6",
          "polar": {
           "angularaxis": {
            "gridcolor": "white",
            "linecolor": "white",
            "ticks": ""
           },
           "bgcolor": "#E5ECF6",
           "radialaxis": {
            "gridcolor": "white",
            "linecolor": "white",
            "ticks": ""
           }
          },
          "scene": {
           "xaxis": {
            "backgroundcolor": "#E5ECF6",
            "gridcolor": "white",
            "gridwidth": 2,
            "linecolor": "white",
            "showbackground": true,
            "ticks": "",
            "zerolinecolor": "white"
           },
           "yaxis": {
            "backgroundcolor": "#E5ECF6",
            "gridcolor": "white",
            "gridwidth": 2,
            "linecolor": "white",
            "showbackground": true,
            "ticks": "",
            "zerolinecolor": "white"
           },
           "zaxis": {
            "backgroundcolor": "#E5ECF6",
            "gridcolor": "white",
            "gridwidth": 2,
            "linecolor": "white",
            "showbackground": true,
            "ticks": "",
            "zerolinecolor": "white"
           }
          },
          "shapedefaults": {
           "line": {
            "color": "#2a3f5f"
           }
          },
          "ternary": {
           "aaxis": {
            "gridcolor": "white",
            "linecolor": "white",
            "ticks": ""
           },
           "baxis": {
            "gridcolor": "white",
            "linecolor": "white",
            "ticks": ""
           },
           "bgcolor": "#E5ECF6",
           "caxis": {
            "gridcolor": "white",
            "linecolor": "white",
            "ticks": ""
           }
          },
          "title": {
           "x": 0.05
          },
          "xaxis": {
           "automargin": true,
           "gridcolor": "white",
           "linecolor": "white",
           "ticks": "",
           "title": {
            "standoff": 15
           },
           "zerolinecolor": "white",
           "zerolinewidth": 2
          },
          "yaxis": {
           "automargin": true,
           "gridcolor": "white",
           "linecolor": "white",
           "ticks": "",
           "title": {
            "standoff": 15
           },
           "zerolinecolor": "white",
           "zerolinewidth": 2
          }
         }
        },
        "xaxis": {
         "anchor": "y",
         "domain": [
          0,
          1
         ],
         "title": {
          "text": "# Components"
         }
        },
        "yaxis": {
         "anchor": "x",
         "domain": [
          0,
          1
         ],
         "title": {
          "text": "Explained Variance"
         }
        }
       }
      }
     },
     "metadata": {},
     "output_type": "display_data"
    }
   ],
   "source": [
    "pca = PCA()\n",
    "pca.fit(X)\n",
    "exp_var_cumul = np.cumsum(pca.explained_variance_ratio_)\n",
    "\n",
    "px.area(\n",
    "    x=range(1, exp_var_cumul.shape[0] + 1),\n",
    "    y=exp_var_cumul,\n",
    "    labels={\"x\": \"# Components\", \"y\": \"Explained Variance\"}\n",
    ")"
   ]
  },
  {
   "cell_type": "code",
   "execution_count": 13,
   "metadata": {},
   "outputs": [
    {
     "data": {
      "application/vnd.plotly.v1+json": {
       "config": {
        "plotlyServerURL": "https://plot.ly"
       },
       "data": [
        {
         "hovertemplate": "color=ependymoma<br>PC 0=%{x}<br>PC 1=%{y}<extra></extra>",
         "legendgroup": "ependymoma",
         "marker": {
          "color": "#636efa",
          "symbol": "circle"
         },
         "mode": "markers",
         "name": "ependymoma",
         "orientation": "v",
         "showlegend": true,
         "type": "scatter",
         "x": [
          75.16765594482422,
          29.58627700805664,
          27.294954299926758,
          -16.547956466674805,
          67.91477966308594,
          65.91551971435547,
          46.38029098510742,
          63.584163665771484,
          66.35765075683594,
          64.45867156982422,
          -18.66207504272461,
          69.81617736816406,
          64.57357025146484,
          11.665996551513672,
          30.135663986206055,
          3.5897700786590576,
          45.647701263427734,
          30.947132110595703,
          5.85737419128418,
          28.592958450317383,
          29.698875427246094,
          22.442014694213867,
          9.463478088378906,
          4.83225154876709,
          31.536216735839844,
          35.53756332397461,
          25.091930389404297,
          34.846702575683594,
          0.9617830514907837,
          -20.51010513305664,
          -20.623435974121094,
          38.768863677978516,
          73.48207092285156,
          -14.017266273498535,
          26.533323287963867,
          -24.32349967956543,
          -28.514142990112305,
          -23.93560028076172,
          -22.53169822692871,
          -22.090038299560547,
          -10.754786491394043,
          -22.36689567565918,
          -45.16019058227539,
          -12.49316120147705,
          -14.151103973388672,
          -14.359278678894043
         ],
         "xaxis": "x",
         "y": [
          -14.195080757141113,
          -33.77445602416992,
          -19.392826080322266,
          14.469120025634766,
          -24.35297966003418,
          -32.17632293701172,
          -28.08605194091797,
          -29.62028694152832,
          -27.626144409179688,
          -26.794124603271484,
          23.137605667114258,
          -28.921363830566406,
          -34.687374114990234,
          26.86107063293457,
          -31.427650451660156,
          25.670534133911133,
          -29.678457260131836,
          -25.024362564086914,
          28.02738380432129,
          -29.384687423706055,
          -20.74759292602539,
          -20.80902862548828,
          27.99282455444336,
          29.55446434020996,
          -22.930391311645508,
          -28.938228607177734,
          -24.631467819213867,
          -31.04473114013672,
          31.354534149169922,
          16.1209716796875,
          18.998266220092773,
          -29.319847106933594,
          -14.812446594238281,
          18.90692901611328,
          -21.842626571655273,
          15.931586265563965,
          18.473278045654297,
          18.83513641357422,
          21.258853912353516,
          24.121490478515625,
          14.490957260131836,
          27.40260887145996,
          31.706764221191406,
          15.291976928710938,
          5.2892045974731445,
          3.4974365234375
         ],
         "yaxis": "y"
        },
        {
         "hovertemplate": "color=glioblastoma<br>PC 0=%{x}<br>PC 1=%{y}<extra></extra>",
         "legendgroup": "glioblastoma",
         "marker": {
          "color": "#EF553B",
          "symbol": "circle"
         },
         "mode": "markers",
         "name": "glioblastoma",
         "orientation": "v",
         "showlegend": true,
         "type": "scatter",
         "x": [
          57.460899353027344,
          47.05060577392578,
          -37.55019760131836,
          -29.007204055786133,
          -38.59737014770508,
          53.304115295410156,
          46.98031997680664,
          52.56187438964844,
          45.08510208129883,
          47.87815475463867,
          43.747337341308594,
          64.75741577148438,
          48.228736877441406,
          49.87824249267578,
          33.7011604309082,
          6.204726696014404,
          -56.6243896484375,
          -44.3839225769043,
          -59.440895080566406,
          -61.08819580078125,
          63.49781799316406,
          59.76945877075195,
          66.14225769042969,
          54.10470199584961,
          -48.14188766479492,
          29.01721954345703,
          30.584434509277344,
          -45.1506462097168,
          -25.232154846191406,
          -27.080394744873047,
          -42.728153228759766,
          -45.573486328125,
          -45.57563400268555,
          -42.32829666137695
         ],
         "xaxis": "x",
         "y": [
          -12.295623779296875,
          -43.578792572021484,
          30.139999389648438,
          27.453128814697266,
          34.646549224853516,
          -15.297994613647461,
          -12.924202919006348,
          -20.50813102722168,
          -17.61254119873047,
          -19.236225128173828,
          -4.696084022521973,
          0.7614274621009827,
          -42.17194747924805,
          -39.530296325683594,
          -11.640617370605469,
          32.616024017333984,
          34.33927536010742,
          18.639873504638672,
          33.62143325805664,
          32.812049865722656,
          -1.7757610082626343,
          -2.03385329246521,
          -3.8821449279785156,
          -7.697800159454346,
          13.393451690673828,
          -10.255541801452637,
          -11.657709121704102,
          15.096909523010254,
          59.494728088378906,
          57.27731704711914,
          12.17737102508545,
          9.613838195800781,
          13.003898620605469,
          27.843530654907227
         ],
         "yaxis": "y"
        },
        {
         "hovertemplate": "color=medulloblastoma<br>PC 0=%{x}<br>PC 1=%{y}<extra></extra>",
         "legendgroup": "medulloblastoma",
         "marker": {
          "color": "#00cc96",
          "symbol": "circle"
         },
         "mode": "markers",
         "name": "medulloblastoma",
         "orientation": "v",
         "showlegend": true,
         "type": "scatter",
         "x": [
          -47.07728958129883,
          3.768801689147949,
          2.048909902572632,
          16.532550811767578,
          4.104128360748291,
          -39.8013916015625,
          15.479599952697754,
          5.4165472984313965,
          0.1656080037355423,
          -45.40393829345703,
          14.446860313415527,
          14.329684257507324,
          -40.935081481933594,
          -46.73902893066406,
          -38.8240966796875,
          -1.6284546852111816,
          -46.49714660644531,
          -48.99967575073242,
          -43.22637939453125,
          -45.65318298339844,
          -45.01015090942383,
          -3.2048416137695312
         ],
         "xaxis": "x",
         "y": [
          -26.160018920898438,
          -57.375179290771484,
          -60.48551559448242,
          -56.140045166015625,
          -61.29315948486328,
          -25.42961883544922,
          -54.383663177490234,
          -59.78269577026367,
          -54.94194793701172,
          39.92964172363281,
          -52.06174850463867,
          -49.00691223144531,
          -28.54231071472168,
          -36.85728454589844,
          -30.095462799072266,
          -53.250709533691406,
          -31.86960792541504,
          -32.64085006713867,
          -34.814510345458984,
          -34.261905670166016,
          -28.669193267822266,
          35.349998474121094
         ],
         "yaxis": "y"
        },
        {
         "hovertemplate": "color=normal<br>PC 0=%{x}<br>PC 1=%{y}<extra></extra>",
         "legendgroup": "normal",
         "marker": {
          "color": "#ab63fa",
          "symbol": "circle"
         },
         "mode": "markers",
         "name": "normal",
         "orientation": "v",
         "showlegend": true,
         "type": "scatter",
         "x": [
          -15.476476669311523,
          46.63627243041992,
          -17.0075740814209,
          -14.249715805053711,
          -21.244388580322266,
          -24.28753662109375,
          -22.16264533996582,
          47.70733642578125,
          -17.498275756835938,
          -9.043082237243652,
          -19.680625915527344,
          -21.974441528320312,
          -10.591512680053711
         ],
         "xaxis": "x",
         "y": [
          57.946258544921875,
          12.605777740478516,
          66.90382385253906,
          70.41663360595703,
          65.35741424560547,
          66.9013671875,
          67.84745025634766,
          10.79629898071289,
          59.7108154296875,
          68.1098403930664,
          62.73338317871094,
          62.63382339477539,
          69.14933013916016
         ],
         "yaxis": "y"
        },
        {
         "hovertemplate": "color=pilocytic_astrocytoma<br>PC 0=%{x}<br>PC 1=%{y}<extra></extra>",
         "legendgroup": "pilocytic_astrocytoma",
         "marker": {
          "color": "#FFA15A",
          "symbol": "circle"
         },
         "mode": "markers",
         "name": "pilocytic_astrocytoma",
         "orientation": "v",
         "showlegend": true,
         "type": "scatter",
         "x": [
          49.21831130981445,
          55.88351058959961,
          50.118507385253906,
          51.905662536621094,
          73.05401611328125,
          49.48314666748047,
          52.05620193481445,
          -41.13388442993164,
          -43.06295394897461,
          51.714412689208984,
          -49.757808685302734,
          -1.081381916999817,
          -46.683074951171875,
          -48.27143096923828,
          -49.71625900268555
         ],
         "xaxis": "x",
         "y": [
          -8.039568901062012,
          -2.807734966278076,
          -4.477227687835693,
          -22.897525787353516,
          -11.517242431640625,
          -2.79890513420105,
          -11.576496124267578,
          31.62027359008789,
          33.53065490722656,
          -7.809115409851074,
          25.510683059692383,
          33.156028747558594,
          33.314090728759766,
          31.20121192932129,
          28.202945709228516
         ],
         "yaxis": "y"
        }
       ],
       "layout": {
        "legend": {
         "title": {
          "text": "color"
         },
         "tracegroupgap": 0
        },
        "template": {
         "data": {
          "bar": [
           {
            "error_x": {
             "color": "#2a3f5f"
            },
            "error_y": {
             "color": "#2a3f5f"
            },
            "marker": {
             "line": {
              "color": "#E5ECF6",
              "width": 0.5
             },
             "pattern": {
              "fillmode": "overlay",
              "size": 10,
              "solidity": 0.2
             }
            },
            "type": "bar"
           }
          ],
          "barpolar": [
           {
            "marker": {
             "line": {
              "color": "#E5ECF6",
              "width": 0.5
             },
             "pattern": {
              "fillmode": "overlay",
              "size": 10,
              "solidity": 0.2
             }
            },
            "type": "barpolar"
           }
          ],
          "carpet": [
           {
            "aaxis": {
             "endlinecolor": "#2a3f5f",
             "gridcolor": "white",
             "linecolor": "white",
             "minorgridcolor": "white",
             "startlinecolor": "#2a3f5f"
            },
            "baxis": {
             "endlinecolor": "#2a3f5f",
             "gridcolor": "white",
             "linecolor": "white",
             "minorgridcolor": "white",
             "startlinecolor": "#2a3f5f"
            },
            "type": "carpet"
           }
          ],
          "choropleth": [
           {
            "colorbar": {
             "outlinewidth": 0,
             "ticks": ""
            },
            "type": "choropleth"
           }
          ],
          "contour": [
           {
            "colorbar": {
             "outlinewidth": 0,
             "ticks": ""
            },
            "colorscale": [
             [
              0,
              "#0d0887"
             ],
             [
              0.1111111111111111,
              "#46039f"
             ],
             [
              0.2222222222222222,
              "#7201a8"
             ],
             [
              0.3333333333333333,
              "#9c179e"
             ],
             [
              0.4444444444444444,
              "#bd3786"
             ],
             [
              0.5555555555555556,
              "#d8576b"
             ],
             [
              0.6666666666666666,
              "#ed7953"
             ],
             [
              0.7777777777777778,
              "#fb9f3a"
             ],
             [
              0.8888888888888888,
              "#fdca26"
             ],
             [
              1,
              "#f0f921"
             ]
            ],
            "type": "contour"
           }
          ],
          "contourcarpet": [
           {
            "colorbar": {
             "outlinewidth": 0,
             "ticks": ""
            },
            "type": "contourcarpet"
           }
          ],
          "heatmap": [
           {
            "colorbar": {
             "outlinewidth": 0,
             "ticks": ""
            },
            "colorscale": [
             [
              0,
              "#0d0887"
             ],
             [
              0.1111111111111111,
              "#46039f"
             ],
             [
              0.2222222222222222,
              "#7201a8"
             ],
             [
              0.3333333333333333,
              "#9c179e"
             ],
             [
              0.4444444444444444,
              "#bd3786"
             ],
             [
              0.5555555555555556,
              "#d8576b"
             ],
             [
              0.6666666666666666,
              "#ed7953"
             ],
             [
              0.7777777777777778,
              "#fb9f3a"
             ],
             [
              0.8888888888888888,
              "#fdca26"
             ],
             [
              1,
              "#f0f921"
             ]
            ],
            "type": "heatmap"
           }
          ],
          "heatmapgl": [
           {
            "colorbar": {
             "outlinewidth": 0,
             "ticks": ""
            },
            "colorscale": [
             [
              0,
              "#0d0887"
             ],
             [
              0.1111111111111111,
              "#46039f"
             ],
             [
              0.2222222222222222,
              "#7201a8"
             ],
             [
              0.3333333333333333,
              "#9c179e"
             ],
             [
              0.4444444444444444,
              "#bd3786"
             ],
             [
              0.5555555555555556,
              "#d8576b"
             ],
             [
              0.6666666666666666,
              "#ed7953"
             ],
             [
              0.7777777777777778,
              "#fb9f3a"
             ],
             [
              0.8888888888888888,
              "#fdca26"
             ],
             [
              1,
              "#f0f921"
             ]
            ],
            "type": "heatmapgl"
           }
          ],
          "histogram": [
           {
            "marker": {
             "pattern": {
              "fillmode": "overlay",
              "size": 10,
              "solidity": 0.2
             }
            },
            "type": "histogram"
           }
          ],
          "histogram2d": [
           {
            "colorbar": {
             "outlinewidth": 0,
             "ticks": ""
            },
            "colorscale": [
             [
              0,
              "#0d0887"
             ],
             [
              0.1111111111111111,
              "#46039f"
             ],
             [
              0.2222222222222222,
              "#7201a8"
             ],
             [
              0.3333333333333333,
              "#9c179e"
             ],
             [
              0.4444444444444444,
              "#bd3786"
             ],
             [
              0.5555555555555556,
              "#d8576b"
             ],
             [
              0.6666666666666666,
              "#ed7953"
             ],
             [
              0.7777777777777778,
              "#fb9f3a"
             ],
             [
              0.8888888888888888,
              "#fdca26"
             ],
             [
              1,
              "#f0f921"
             ]
            ],
            "type": "histogram2d"
           }
          ],
          "histogram2dcontour": [
           {
            "colorbar": {
             "outlinewidth": 0,
             "ticks": ""
            },
            "colorscale": [
             [
              0,
              "#0d0887"
             ],
             [
              0.1111111111111111,
              "#46039f"
             ],
             [
              0.2222222222222222,
              "#7201a8"
             ],
             [
              0.3333333333333333,
              "#9c179e"
             ],
             [
              0.4444444444444444,
              "#bd3786"
             ],
             [
              0.5555555555555556,
              "#d8576b"
             ],
             [
              0.6666666666666666,
              "#ed7953"
             ],
             [
              0.7777777777777778,
              "#fb9f3a"
             ],
             [
              0.8888888888888888,
              "#fdca26"
             ],
             [
              1,
              "#f0f921"
             ]
            ],
            "type": "histogram2dcontour"
           }
          ],
          "mesh3d": [
           {
            "colorbar": {
             "outlinewidth": 0,
             "ticks": ""
            },
            "type": "mesh3d"
           }
          ],
          "parcoords": [
           {
            "line": {
             "colorbar": {
              "outlinewidth": 0,
              "ticks": ""
             }
            },
            "type": "parcoords"
           }
          ],
          "pie": [
           {
            "automargin": true,
            "type": "pie"
           }
          ],
          "scatter": [
           {
            "marker": {
             "colorbar": {
              "outlinewidth": 0,
              "ticks": ""
             }
            },
            "type": "scatter"
           }
          ],
          "scatter3d": [
           {
            "line": {
             "colorbar": {
              "outlinewidth": 0,
              "ticks": ""
             }
            },
            "marker": {
             "colorbar": {
              "outlinewidth": 0,
              "ticks": ""
             }
            },
            "type": "scatter3d"
           }
          ],
          "scattercarpet": [
           {
            "marker": {
             "colorbar": {
              "outlinewidth": 0,
              "ticks": ""
             }
            },
            "type": "scattercarpet"
           }
          ],
          "scattergeo": [
           {
            "marker": {
             "colorbar": {
              "outlinewidth": 0,
              "ticks": ""
             }
            },
            "type": "scattergeo"
           }
          ],
          "scattergl": [
           {
            "marker": {
             "colorbar": {
              "outlinewidth": 0,
              "ticks": ""
             }
            },
            "type": "scattergl"
           }
          ],
          "scattermapbox": [
           {
            "marker": {
             "colorbar": {
              "outlinewidth": 0,
              "ticks": ""
             }
            },
            "type": "scattermapbox"
           }
          ],
          "scatterpolar": [
           {
            "marker": {
             "colorbar": {
              "outlinewidth": 0,
              "ticks": ""
             }
            },
            "type": "scatterpolar"
           }
          ],
          "scatterpolargl": [
           {
            "marker": {
             "colorbar": {
              "outlinewidth": 0,
              "ticks": ""
             }
            },
            "type": "scatterpolargl"
           }
          ],
          "scatterternary": [
           {
            "marker": {
             "colorbar": {
              "outlinewidth": 0,
              "ticks": ""
             }
            },
            "type": "scatterternary"
           }
          ],
          "surface": [
           {
            "colorbar": {
             "outlinewidth": 0,
             "ticks": ""
            },
            "colorscale": [
             [
              0,
              "#0d0887"
             ],
             [
              0.1111111111111111,
              "#46039f"
             ],
             [
              0.2222222222222222,
              "#7201a8"
             ],
             [
              0.3333333333333333,
              "#9c179e"
             ],
             [
              0.4444444444444444,
              "#bd3786"
             ],
             [
              0.5555555555555556,
              "#d8576b"
             ],
             [
              0.6666666666666666,
              "#ed7953"
             ],
             [
              0.7777777777777778,
              "#fb9f3a"
             ],
             [
              0.8888888888888888,
              "#fdca26"
             ],
             [
              1,
              "#f0f921"
             ]
            ],
            "type": "surface"
           }
          ],
          "table": [
           {
            "cells": {
             "fill": {
              "color": "#EBF0F8"
             },
             "line": {
              "color": "white"
             }
            },
            "header": {
             "fill": {
              "color": "#C8D4E3"
             },
             "line": {
              "color": "white"
             }
            },
            "type": "table"
           }
          ]
         },
         "layout": {
          "annotationdefaults": {
           "arrowcolor": "#2a3f5f",
           "arrowhead": 0,
           "arrowwidth": 1
          },
          "autotypenumbers": "strict",
          "coloraxis": {
           "colorbar": {
            "outlinewidth": 0,
            "ticks": ""
           }
          },
          "colorscale": {
           "diverging": [
            [
             0,
             "#8e0152"
            ],
            [
             0.1,
             "#c51b7d"
            ],
            [
             0.2,
             "#de77ae"
            ],
            [
             0.3,
             "#f1b6da"
            ],
            [
             0.4,
             "#fde0ef"
            ],
            [
             0.5,
             "#f7f7f7"
            ],
            [
             0.6,
             "#e6f5d0"
            ],
            [
             0.7,
             "#b8e186"
            ],
            [
             0.8,
             "#7fbc41"
            ],
            [
             0.9,
             "#4d9221"
            ],
            [
             1,
             "#276419"
            ]
           ],
           "sequential": [
            [
             0,
             "#0d0887"
            ],
            [
             0.1111111111111111,
             "#46039f"
            ],
            [
             0.2222222222222222,
             "#7201a8"
            ],
            [
             0.3333333333333333,
             "#9c179e"
            ],
            [
             0.4444444444444444,
             "#bd3786"
            ],
            [
             0.5555555555555556,
             "#d8576b"
            ],
            [
             0.6666666666666666,
             "#ed7953"
            ],
            [
             0.7777777777777778,
             "#fb9f3a"
            ],
            [
             0.8888888888888888,
             "#fdca26"
            ],
            [
             1,
             "#f0f921"
            ]
           ],
           "sequentialminus": [
            [
             0,
             "#0d0887"
            ],
            [
             0.1111111111111111,
             "#46039f"
            ],
            [
             0.2222222222222222,
             "#7201a8"
            ],
            [
             0.3333333333333333,
             "#9c179e"
            ],
            [
             0.4444444444444444,
             "#bd3786"
            ],
            [
             0.5555555555555556,
             "#d8576b"
            ],
            [
             0.6666666666666666,
             "#ed7953"
            ],
            [
             0.7777777777777778,
             "#fb9f3a"
            ],
            [
             0.8888888888888888,
             "#fdca26"
            ],
            [
             1,
             "#f0f921"
            ]
           ]
          },
          "colorway": [
           "#636efa",
           "#EF553B",
           "#00cc96",
           "#ab63fa",
           "#FFA15A",
           "#19d3f3",
           "#FF6692",
           "#B6E880",
           "#FF97FF",
           "#FECB52"
          ],
          "font": {
           "color": "#2a3f5f"
          },
          "geo": {
           "bgcolor": "white",
           "lakecolor": "white",
           "landcolor": "#E5ECF6",
           "showlakes": true,
           "showland": true,
           "subunitcolor": "white"
          },
          "hoverlabel": {
           "align": "left"
          },
          "hovermode": "closest",
          "mapbox": {
           "style": "light"
          },
          "paper_bgcolor": "white",
          "plot_bgcolor": "#E5ECF6",
          "polar": {
           "angularaxis": {
            "gridcolor": "white",
            "linecolor": "white",
            "ticks": ""
           },
           "bgcolor": "#E5ECF6",
           "radialaxis": {
            "gridcolor": "white",
            "linecolor": "white",
            "ticks": ""
           }
          },
          "scene": {
           "xaxis": {
            "backgroundcolor": "#E5ECF6",
            "gridcolor": "white",
            "gridwidth": 2,
            "linecolor": "white",
            "showbackground": true,
            "ticks": "",
            "zerolinecolor": "white"
           },
           "yaxis": {
            "backgroundcolor": "#E5ECF6",
            "gridcolor": "white",
            "gridwidth": 2,
            "linecolor": "white",
            "showbackground": true,
            "ticks": "",
            "zerolinecolor": "white"
           },
           "zaxis": {
            "backgroundcolor": "#E5ECF6",
            "gridcolor": "white",
            "gridwidth": 2,
            "linecolor": "white",
            "showbackground": true,
            "ticks": "",
            "zerolinecolor": "white"
           }
          },
          "shapedefaults": {
           "line": {
            "color": "#2a3f5f"
           }
          },
          "ternary": {
           "aaxis": {
            "gridcolor": "white",
            "linecolor": "white",
            "ticks": ""
           },
           "baxis": {
            "gridcolor": "white",
            "linecolor": "white",
            "ticks": ""
           },
           "bgcolor": "#E5ECF6",
           "caxis": {
            "gridcolor": "white",
            "linecolor": "white",
            "ticks": ""
           }
          },
          "title": {
           "x": 0.05
          },
          "xaxis": {
           "automargin": true,
           "gridcolor": "white",
           "linecolor": "white",
           "ticks": "",
           "title": {
            "standoff": 15
           },
           "zerolinecolor": "white",
           "zerolinewidth": 2
          },
          "yaxis": {
           "automargin": true,
           "gridcolor": "white",
           "linecolor": "white",
           "ticks": "",
           "title": {
            "standoff": 15
           },
           "zerolinecolor": "white",
           "zerolinewidth": 2
          }
         }
        },
        "title": {
         "text": "TSNE Perplexity: 5"
        },
        "xaxis": {
         "anchor": "y",
         "domain": [
          0,
          1
         ],
         "title": {
          "text": "PC 0"
         }
        },
        "yaxis": {
         "anchor": "x",
         "domain": [
          0,
          1
         ],
         "title": {
          "text": "PC 1"
         }
        }
       }
      }
     },
     "metadata": {},
     "output_type": "display_data"
    },
    {
     "data": {
      "application/vnd.plotly.v1+json": {
       "config": {
        "plotlyServerURL": "https://plot.ly"
       },
       "data": [
        {
         "hovertemplate": "color=ependymoma<br>PC 0=%{x}<br>PC 1=%{y}<extra></extra>",
         "legendgroup": "ependymoma",
         "marker": {
          "color": "#636efa",
          "symbol": "circle"
         },
         "mode": "markers",
         "name": "ependymoma",
         "orientation": "v",
         "showlegend": true,
         "type": "scatter",
         "x": [
          -7.3322978019714355,
          -25.246850967407227,
          -19.550342559814453,
          18.6624813079834,
          -11.864704132080078,
          -12.9547700881958,
          -21.93255043029785,
          -12.597662925720215,
          -10.768171310424805,
          -10.89399242401123,
          19.494400024414062,
          -8.979411125183105,
          -14.742387771606445,
          22.128690719604492,
          -24.056428909301758,
          25.697477340698242,
          -22.840007781982422,
          -21.394821166992188,
          25.378042221069336,
          -22.96875762939453,
          -20.9892520904541,
          -22.6872501373291,
          23.396127700805664,
          26.120391845703125,
          -21.77549934387207,
          -20.16643524169922,
          -17.774213790893555,
          -18.719654083251953,
          26.74648666381836,
          17.39558982849121,
          18.969070434570312,
          -19.63607406616211,
          -6.337007999420166,
          22.761104583740234,
          -19.479787826538086,
          15.997657775878906,
          14.716595649719238,
          17.41970443725586,
          19.11100959777832,
          20.867815017700195,
          20.93547821044922,
          22.863645553588867,
          21.466407775878906,
          20.902225494384766,
          26.917619705200195,
          27.68800926208496
         ],
         "xaxis": "x",
         "y": [
          25.781391143798828,
          29.035816192626953,
          32.78350830078125,
          -23.209915161132812,
          31.884126663208008,
          27.216707229614258,
          22.783370971679688,
          29.13224220275879,
          29.571670532226562,
          28.430530548095703,
          -16.91463851928711,
          30.964487075805664,
          27.564144134521484,
          -31.3885440826416,
          28.918344497680664,
          -33.43535614013672,
          22.868837356567383,
          29.643999099731445,
          -31.470468521118164,
          27.732202529907227,
          32.21803665161133,
          34.11842727661133,
          -30.636898040771484,
          -30.79387664794922,
          30.848773956298828,
          27.436384201049805,
          31.500234603881836,
          28.065872192382812,
          -28.341175079345703,
          -21.392587661743164,
          -20.42463493347168,
          25.43585205078125,
          25.779823303222656,
          -22.01647186279297,
          30.927799224853516,
          -19.883333206176758,
          -16.76888084411621,
          -19.01351547241211,
          -18.802841186523438,
          -18.756887435913086,
          -25.045631408691406,
          -18.235139846801758,
          -8.21529483795166,
          -23.927654266357422,
          -20.798036575317383,
          -20.20172119140625
         ],
         "yaxis": "y"
        },
        {
         "hovertemplate": "color=glioblastoma<br>PC 0=%{x}<br>PC 1=%{y}<extra></extra>",
         "legendgroup": "glioblastoma",
         "marker": {
          "color": "#EF553B",
          "symbol": "circle"
         },
         "mode": "markers",
         "name": "glioblastoma",
         "orientation": "v",
         "showlegend": true,
         "type": "scatter",
         "x": [
          -13.699580192565918,
          -18.723466873168945,
          19.961946487426758,
          22.610984802246094,
          23.67499351501465,
          -16.460071563720703,
          -17.40620994567871,
          -18.93035316467285,
          -21.87195587158203,
          -21.06679344177246,
          -14.451800346374512,
          -8.17813777923584,
          -18.12257957458496,
          -19.211502075195312,
          -16.91105842590332,
          28.1248836517334,
          24.804452896118164,
          15.00384521484375,
          24.972082138061523,
          24.539928436279297,
          -6.92892599105835,
          -8.198644638061523,
          -5.443766117095947,
          -12.735320091247559,
          13.895584106445312,
          -19.54940414428711,
          -18.97924041748047,
          13.772998809814453,
          11.803783416748047,
          12.89478588104248,
          11.661581039428711,
          11.344858169555664,
          13.074167251586914,
          23.94186019897461
         ],
         "xaxis": "x",
         "y": [
          18.806774139404297,
          8.818643569946289,
          -12.021905899047852,
          -14.286287307739258,
          -11.745688438415527,
          18.116228103637695,
          13.742536544799805,
          18.990964889526367,
          14.884302139282227,
          16.561315536499023,
          10.560599327087402,
          19.541545867919922,
          9.751623153686523,
          11.380317687988281,
          38.457340240478516,
          -31.427331924438477,
          -5.161699295043945,
          -7.823276519775391,
          -3.4081013202667236,
          -2.527862787246704,
          18.529937744140625,
          16.404109954833984,
          20.11849021911621,
          15.695472717285156,
          -12.209443092346191,
          39.10918045043945,
          38.414676666259766,
          -9.884847640991211,
          -0.9196052551269531,
          -3.2651748657226562,
          -12.04665470123291,
          -9.8995943069458,
          -10.960851669311523,
          -8.597445487976074
         ],
         "yaxis": "y"
        },
        {
         "hovertemplate": "color=medulloblastoma<br>PC 0=%{x}<br>PC 1=%{y}<extra></extra>",
         "legendgroup": "medulloblastoma",
         "marker": {
          "color": "#00cc96",
          "symbol": "circle"
         },
         "mode": "markers",
         "name": "medulloblastoma",
         "orientation": "v",
         "showlegend": true,
         "type": "scatter",
         "x": [
          -1.7930307388305664,
          -29.034461975097656,
          -30.799800872802734,
          -28.524858474731445,
          -31.3704891204834,
          1.7110490798950195,
          -27.860361099243164,
          -30.592069625854492,
          -27.962196350097656,
          27.43487548828125,
          -26.750560760498047,
          -24.844778060913086,
          -1.5447653532028198,
          3.4861321449279785,
          -2.74409818649292,
          -27.187437057495117,
          1.4829716682434082,
          3.024519920349121,
          1.0588489770889282,
          2.0557479858398438,
          -0.3737034797668457,
          29.783042907714844
         ],
         "xaxis": "x",
         "y": [
          -16.600406646728516,
          4.91392707824707,
          3.917717218399048,
          11.143506050109863,
          5.027872562408447,
          -15.99081802368164,
          10.151707649230957,
          5.807202339172363,
          2.2849719524383545,
          -9.208306312561035,
          9.01144027709961,
          8.61758041381836,
          -19.64129638671875,
          -21.898698806762695,
          -20.59100914001465,
          0.9774177670478821,
          -19.610816955566406,
          -19.24625015258789,
          -22.08100128173828,
          -21.026227951049805,
          -18.34991455078125,
          -26.5751953125
         ],
         "yaxis": "y"
        },
        {
         "hovertemplate": "color=normal<br>PC 0=%{x}<br>PC 1=%{y}<extra></extra>",
         "legendgroup": "normal",
         "marker": {
          "color": "#ab63fa",
          "symbol": "circle"
         },
         "mode": "markers",
         "name": "normal",
         "orientation": "v",
         "showlegend": true,
         "type": "scatter",
         "x": [
          13.509108543395996,
          0.6631916165351868,
          7.191331386566162,
          4.368052005767822,
          9.185887336730957,
          7.8123321533203125,
          9.159058570861816,
          -0.476230651140213,
          12.863595962524414,
          4.979814529418945,
          11.03581714630127,
          10.653707504272461,
          4.486811637878418
         ],
         "xaxis": "x",
         "y": [
          5.5520853996276855,
          8.180274963378906,
          -0.0779908075928688,
          1.8033528327941895,
          2.0835349559783936,
          3.4505422115325928,
          3.793612241744995,
          8.998814582824707,
          4.055875778198242,
          5.7090373039245605,
          2.6875505447387695,
          1.4634528160095215,
          4.7978129386901855
         ],
         "yaxis": "y"
        },
        {
         "hovertemplate": "color=pilocytic_astrocytoma<br>PC 0=%{x}<br>PC 1=%{y}<extra></extra>",
         "legendgroup": "pilocytic_astrocytoma",
         "marker": {
          "color": "#FFA15A",
          "symbol": "circle"
         },
         "mode": "markers",
         "name": "pilocytic_astrocytoma",
         "orientation": "v",
         "showlegend": true,
         "type": "scatter",
         "x": [
          -14.434550285339355,
          -9.960624694824219,
          -12.347878456115723,
          -20.240509033203125,
          -6.454456329345703,
          -11.750670433044434,
          -15.298185348510742,
          22.421384811401367,
          20.719139099121094,
          -13.378921508789062,
          19.535158157348633,
          27.90115737915039,
          20.04865837097168,
          19.63623809814453,
          18.501331329345703
         ],
         "xaxis": "x",
         "y": [
          13.465729713439941,
          14.619199752807617,
          12.582314491271973,
          19.822921752929688,
          23.678295135498047,
          12.147085189819336,
          16.007719039916992,
          -10.208885192871094,
          -10.128915786743164,
          14.772639274597168,
          -4.689677715301514,
          -27.225582122802734,
          -8.694391250610352,
          -7.39381742477417,
          -5.985184669494629
         ],
         "yaxis": "y"
        }
       ],
       "layout": {
        "legend": {
         "title": {
          "text": "color"
         },
         "tracegroupgap": 0
        },
        "template": {
         "data": {
          "bar": [
           {
            "error_x": {
             "color": "#2a3f5f"
            },
            "error_y": {
             "color": "#2a3f5f"
            },
            "marker": {
             "line": {
              "color": "#E5ECF6",
              "width": 0.5
             },
             "pattern": {
              "fillmode": "overlay",
              "size": 10,
              "solidity": 0.2
             }
            },
            "type": "bar"
           }
          ],
          "barpolar": [
           {
            "marker": {
             "line": {
              "color": "#E5ECF6",
              "width": 0.5
             },
             "pattern": {
              "fillmode": "overlay",
              "size": 10,
              "solidity": 0.2
             }
            },
            "type": "barpolar"
           }
          ],
          "carpet": [
           {
            "aaxis": {
             "endlinecolor": "#2a3f5f",
             "gridcolor": "white",
             "linecolor": "white",
             "minorgridcolor": "white",
             "startlinecolor": "#2a3f5f"
            },
            "baxis": {
             "endlinecolor": "#2a3f5f",
             "gridcolor": "white",
             "linecolor": "white",
             "minorgridcolor": "white",
             "startlinecolor": "#2a3f5f"
            },
            "type": "carpet"
           }
          ],
          "choropleth": [
           {
            "colorbar": {
             "outlinewidth": 0,
             "ticks": ""
            },
            "type": "choropleth"
           }
          ],
          "contour": [
           {
            "colorbar": {
             "outlinewidth": 0,
             "ticks": ""
            },
            "colorscale": [
             [
              0,
              "#0d0887"
             ],
             [
              0.1111111111111111,
              "#46039f"
             ],
             [
              0.2222222222222222,
              "#7201a8"
             ],
             [
              0.3333333333333333,
              "#9c179e"
             ],
             [
              0.4444444444444444,
              "#bd3786"
             ],
             [
              0.5555555555555556,
              "#d8576b"
             ],
             [
              0.6666666666666666,
              "#ed7953"
             ],
             [
              0.7777777777777778,
              "#fb9f3a"
             ],
             [
              0.8888888888888888,
              "#fdca26"
             ],
             [
              1,
              "#f0f921"
             ]
            ],
            "type": "contour"
           }
          ],
          "contourcarpet": [
           {
            "colorbar": {
             "outlinewidth": 0,
             "ticks": ""
            },
            "type": "contourcarpet"
           }
          ],
          "heatmap": [
           {
            "colorbar": {
             "outlinewidth": 0,
             "ticks": ""
            },
            "colorscale": [
             [
              0,
              "#0d0887"
             ],
             [
              0.1111111111111111,
              "#46039f"
             ],
             [
              0.2222222222222222,
              "#7201a8"
             ],
             [
              0.3333333333333333,
              "#9c179e"
             ],
             [
              0.4444444444444444,
              "#bd3786"
             ],
             [
              0.5555555555555556,
              "#d8576b"
             ],
             [
              0.6666666666666666,
              "#ed7953"
             ],
             [
              0.7777777777777778,
              "#fb9f3a"
             ],
             [
              0.8888888888888888,
              "#fdca26"
             ],
             [
              1,
              "#f0f921"
             ]
            ],
            "type": "heatmap"
           }
          ],
          "heatmapgl": [
           {
            "colorbar": {
             "outlinewidth": 0,
             "ticks": ""
            },
            "colorscale": [
             [
              0,
              "#0d0887"
             ],
             [
              0.1111111111111111,
              "#46039f"
             ],
             [
              0.2222222222222222,
              "#7201a8"
             ],
             [
              0.3333333333333333,
              "#9c179e"
             ],
             [
              0.4444444444444444,
              "#bd3786"
             ],
             [
              0.5555555555555556,
              "#d8576b"
             ],
             [
              0.6666666666666666,
              "#ed7953"
             ],
             [
              0.7777777777777778,
              "#fb9f3a"
             ],
             [
              0.8888888888888888,
              "#fdca26"
             ],
             [
              1,
              "#f0f921"
             ]
            ],
            "type": "heatmapgl"
           }
          ],
          "histogram": [
           {
            "marker": {
             "pattern": {
              "fillmode": "overlay",
              "size": 10,
              "solidity": 0.2
             }
            },
            "type": "histogram"
           }
          ],
          "histogram2d": [
           {
            "colorbar": {
             "outlinewidth": 0,
             "ticks": ""
            },
            "colorscale": [
             [
              0,
              "#0d0887"
             ],
             [
              0.1111111111111111,
              "#46039f"
             ],
             [
              0.2222222222222222,
              "#7201a8"
             ],
             [
              0.3333333333333333,
              "#9c179e"
             ],
             [
              0.4444444444444444,
              "#bd3786"
             ],
             [
              0.5555555555555556,
              "#d8576b"
             ],
             [
              0.6666666666666666,
              "#ed7953"
             ],
             [
              0.7777777777777778,
              "#fb9f3a"
             ],
             [
              0.8888888888888888,
              "#fdca26"
             ],
             [
              1,
              "#f0f921"
             ]
            ],
            "type": "histogram2d"
           }
          ],
          "histogram2dcontour": [
           {
            "colorbar": {
             "outlinewidth": 0,
             "ticks": ""
            },
            "colorscale": [
             [
              0,
              "#0d0887"
             ],
             [
              0.1111111111111111,
              "#46039f"
             ],
             [
              0.2222222222222222,
              "#7201a8"
             ],
             [
              0.3333333333333333,
              "#9c179e"
             ],
             [
              0.4444444444444444,
              "#bd3786"
             ],
             [
              0.5555555555555556,
              "#d8576b"
             ],
             [
              0.6666666666666666,
              "#ed7953"
             ],
             [
              0.7777777777777778,
              "#fb9f3a"
             ],
             [
              0.8888888888888888,
              "#fdca26"
             ],
             [
              1,
              "#f0f921"
             ]
            ],
            "type": "histogram2dcontour"
           }
          ],
          "mesh3d": [
           {
            "colorbar": {
             "outlinewidth": 0,
             "ticks": ""
            },
            "type": "mesh3d"
           }
          ],
          "parcoords": [
           {
            "line": {
             "colorbar": {
              "outlinewidth": 0,
              "ticks": ""
             }
            },
            "type": "parcoords"
           }
          ],
          "pie": [
           {
            "automargin": true,
            "type": "pie"
           }
          ],
          "scatter": [
           {
            "marker": {
             "colorbar": {
              "outlinewidth": 0,
              "ticks": ""
             }
            },
            "type": "scatter"
           }
          ],
          "scatter3d": [
           {
            "line": {
             "colorbar": {
              "outlinewidth": 0,
              "ticks": ""
             }
            },
            "marker": {
             "colorbar": {
              "outlinewidth": 0,
              "ticks": ""
             }
            },
            "type": "scatter3d"
           }
          ],
          "scattercarpet": [
           {
            "marker": {
             "colorbar": {
              "outlinewidth": 0,
              "ticks": ""
             }
            },
            "type": "scattercarpet"
           }
          ],
          "scattergeo": [
           {
            "marker": {
             "colorbar": {
              "outlinewidth": 0,
              "ticks": ""
             }
            },
            "type": "scattergeo"
           }
          ],
          "scattergl": [
           {
            "marker": {
             "colorbar": {
              "outlinewidth": 0,
              "ticks": ""
             }
            },
            "type": "scattergl"
           }
          ],
          "scattermapbox": [
           {
            "marker": {
             "colorbar": {
              "outlinewidth": 0,
              "ticks": ""
             }
            },
            "type": "scattermapbox"
           }
          ],
          "scatterpolar": [
           {
            "marker": {
             "colorbar": {
              "outlinewidth": 0,
              "ticks": ""
             }
            },
            "type": "scatterpolar"
           }
          ],
          "scatterpolargl": [
           {
            "marker": {
             "colorbar": {
              "outlinewidth": 0,
              "ticks": ""
             }
            },
            "type": "scatterpolargl"
           }
          ],
          "scatterternary": [
           {
            "marker": {
             "colorbar": {
              "outlinewidth": 0,
              "ticks": ""
             }
            },
            "type": "scatterternary"
           }
          ],
          "surface": [
           {
            "colorbar": {
             "outlinewidth": 0,
             "ticks": ""
            },
            "colorscale": [
             [
              0,
              "#0d0887"
             ],
             [
              0.1111111111111111,
              "#46039f"
             ],
             [
              0.2222222222222222,
              "#7201a8"
             ],
             [
              0.3333333333333333,
              "#9c179e"
             ],
             [
              0.4444444444444444,
              "#bd3786"
             ],
             [
              0.5555555555555556,
              "#d8576b"
             ],
             [
              0.6666666666666666,
              "#ed7953"
             ],
             [
              0.7777777777777778,
              "#fb9f3a"
             ],
             [
              0.8888888888888888,
              "#fdca26"
             ],
             [
              1,
              "#f0f921"
             ]
            ],
            "type": "surface"
           }
          ],
          "table": [
           {
            "cells": {
             "fill": {
              "color": "#EBF0F8"
             },
             "line": {
              "color": "white"
             }
            },
            "header": {
             "fill": {
              "color": "#C8D4E3"
             },
             "line": {
              "color": "white"
             }
            },
            "type": "table"
           }
          ]
         },
         "layout": {
          "annotationdefaults": {
           "arrowcolor": "#2a3f5f",
           "arrowhead": 0,
           "arrowwidth": 1
          },
          "autotypenumbers": "strict",
          "coloraxis": {
           "colorbar": {
            "outlinewidth": 0,
            "ticks": ""
           }
          },
          "colorscale": {
           "diverging": [
            [
             0,
             "#8e0152"
            ],
            [
             0.1,
             "#c51b7d"
            ],
            [
             0.2,
             "#de77ae"
            ],
            [
             0.3,
             "#f1b6da"
            ],
            [
             0.4,
             "#fde0ef"
            ],
            [
             0.5,
             "#f7f7f7"
            ],
            [
             0.6,
             "#e6f5d0"
            ],
            [
             0.7,
             "#b8e186"
            ],
            [
             0.8,
             "#7fbc41"
            ],
            [
             0.9,
             "#4d9221"
            ],
            [
             1,
             "#276419"
            ]
           ],
           "sequential": [
            [
             0,
             "#0d0887"
            ],
            [
             0.1111111111111111,
             "#46039f"
            ],
            [
             0.2222222222222222,
             "#7201a8"
            ],
            [
             0.3333333333333333,
             "#9c179e"
            ],
            [
             0.4444444444444444,
             "#bd3786"
            ],
            [
             0.5555555555555556,
             "#d8576b"
            ],
            [
             0.6666666666666666,
             "#ed7953"
            ],
            [
             0.7777777777777778,
             "#fb9f3a"
            ],
            [
             0.8888888888888888,
             "#fdca26"
            ],
            [
             1,
             "#f0f921"
            ]
           ],
           "sequentialminus": [
            [
             0,
             "#0d0887"
            ],
            [
             0.1111111111111111,
             "#46039f"
            ],
            [
             0.2222222222222222,
             "#7201a8"
            ],
            [
             0.3333333333333333,
             "#9c179e"
            ],
            [
             0.4444444444444444,
             "#bd3786"
            ],
            [
             0.5555555555555556,
             "#d8576b"
            ],
            [
             0.6666666666666666,
             "#ed7953"
            ],
            [
             0.7777777777777778,
             "#fb9f3a"
            ],
            [
             0.8888888888888888,
             "#fdca26"
            ],
            [
             1,
             "#f0f921"
            ]
           ]
          },
          "colorway": [
           "#636efa",
           "#EF553B",
           "#00cc96",
           "#ab63fa",
           "#FFA15A",
           "#19d3f3",
           "#FF6692",
           "#B6E880",
           "#FF97FF",
           "#FECB52"
          ],
          "font": {
           "color": "#2a3f5f"
          },
          "geo": {
           "bgcolor": "white",
           "lakecolor": "white",
           "landcolor": "#E5ECF6",
           "showlakes": true,
           "showland": true,
           "subunitcolor": "white"
          },
          "hoverlabel": {
           "align": "left"
          },
          "hovermode": "closest",
          "mapbox": {
           "style": "light"
          },
          "paper_bgcolor": "white",
          "plot_bgcolor": "#E5ECF6",
          "polar": {
           "angularaxis": {
            "gridcolor": "white",
            "linecolor": "white",
            "ticks": ""
           },
           "bgcolor": "#E5ECF6",
           "radialaxis": {
            "gridcolor": "white",
            "linecolor": "white",
            "ticks": ""
           }
          },
          "scene": {
           "xaxis": {
            "backgroundcolor": "#E5ECF6",
            "gridcolor": "white",
            "gridwidth": 2,
            "linecolor": "white",
            "showbackground": true,
            "ticks": "",
            "zerolinecolor": "white"
           },
           "yaxis": {
            "backgroundcolor": "#E5ECF6",
            "gridcolor": "white",
            "gridwidth": 2,
            "linecolor": "white",
            "showbackground": true,
            "ticks": "",
            "zerolinecolor": "white"
           },
           "zaxis": {
            "backgroundcolor": "#E5ECF6",
            "gridcolor": "white",
            "gridwidth": 2,
            "linecolor": "white",
            "showbackground": true,
            "ticks": "",
            "zerolinecolor": "white"
           }
          },
          "shapedefaults": {
           "line": {
            "color": "#2a3f5f"
           }
          },
          "ternary": {
           "aaxis": {
            "gridcolor": "white",
            "linecolor": "white",
            "ticks": ""
           },
           "baxis": {
            "gridcolor": "white",
            "linecolor": "white",
            "ticks": ""
           },
           "bgcolor": "#E5ECF6",
           "caxis": {
            "gridcolor": "white",
            "linecolor": "white",
            "ticks": ""
           }
          },
          "title": {
           "x": 0.05
          },
          "xaxis": {
           "automargin": true,
           "gridcolor": "white",
           "linecolor": "white",
           "ticks": "",
           "title": {
            "standoff": 15
           },
           "zerolinecolor": "white",
           "zerolinewidth": 2
          },
          "yaxis": {
           "automargin": true,
           "gridcolor": "white",
           "linecolor": "white",
           "ticks": "",
           "title": {
            "standoff": 15
           },
           "zerolinecolor": "white",
           "zerolinewidth": 2
          }
         }
        },
        "title": {
         "text": "TSNE Perplexity: 10"
        },
        "xaxis": {
         "anchor": "y",
         "domain": [
          0,
          1
         ],
         "title": {
          "text": "PC 0"
         }
        },
        "yaxis": {
         "anchor": "x",
         "domain": [
          0,
          1
         ],
         "title": {
          "text": "PC 1"
         }
        }
       }
      }
     },
     "metadata": {},
     "output_type": "display_data"
    },
    {
     "data": {
      "application/vnd.plotly.v1+json": {
       "config": {
        "plotlyServerURL": "https://plot.ly"
       },
       "data": [
        {
         "hovertemplate": "color=ependymoma<br>PC 0=%{x}<br>PC 1=%{y}<extra></extra>",
         "legendgroup": "ependymoma",
         "marker": {
          "color": "#636efa",
          "symbol": "circle"
         },
         "mode": "markers",
         "name": "ependymoma",
         "orientation": "v",
         "showlegend": true,
         "type": "scatter",
         "x": [
          -12.989089012145996,
          -9.856956481933594,
          -7.758044719696045,
          4.088876724243164,
          -15.501731872558594,
          -13.9713716506958,
          -10.527446746826172,
          -13.595538139343262,
          -13.958830833435059,
          -13.139287948608398,
          4.574090480804443,
          -15.418858528137207,
          -13.967015266418457,
          -3.7136971950531006,
          -10.928705215454102,
          -1.2799320220947266,
          -10.339189529418945,
          -9.565079689025879,
          -1.5709518194198608,
          -11.605210304260254,
          -8.570829391479492,
          -10.576505661010742,
          -2.929086208343506,
          -1.2335257530212402,
          -8.818831443786621,
          -11.248383522033691,
          -9.165997505187988,
          -12.159680366516113,
          0.33932211995124817,
          5.163140296936035,
          4.252646446228027,
          -11.634135246276855,
          -12.880902290344238,
          1.6181559562683105,
          -9.724981307983398,
          6.211592674255371,
          8.214349746704102,
          5.613760471343994,
          4.685505390167236,
          3.5715999603271484,
          2.3886423110961914,
          2.5238418579101562,
          6.756971836090088,
          2.7804903984069824,
          -0.3204008638858795,
          -0.5585483908653259
         ],
         "xaxis": "x",
         "y": [
          15.260765075683594,
          9.4160737991333,
          7.094542503356934,
          -14.33283519744873,
          11.006214141845703,
          10.297773361206055,
          11.27515697479248,
          11.293835639953613,
          12.301870346069336,
          12.355672836303711,
          -18.038244247436523,
          12.88010311126709,
          9.092296600341797,
          -11.43096923828125,
          7.397308349609375,
          -12.346403121948242,
          11.126398086547852,
          7.794717788696289,
          -11.116216659545898,
          6.541137218475342,
          6.9146037101745605,
          4.9298834800720215,
          -11.218205451965332,
          -10.765084266662598,
          8.0083589553833,
          8.517462730407715,
          5.61215353012085,
          8.111837387084961,
          -10.183277130126953,
          -15.19568920135498,
          -15.81357479095459,
          9.68150806427002,
          15.676736831665039,
          -15.692121505737305,
          6.655592441558838,
          -16.691438674926758,
          -17.031919479370117,
          -16.128995895385742,
          -16.570465087890625,
          -16.725522994995117,
          -13.562044143676758,
          -17.769733428955078,
          -10.751197814941406,
          -14.082441329956055,
          -16.96741485595703,
          -17.219524383544922
         ],
         "yaxis": "y"
        },
        {
         "hovertemplate": "color=glioblastoma<br>PC 0=%{x}<br>PC 1=%{y}<extra></extra>",
         "legendgroup": "glioblastoma",
         "marker": {
          "color": "#EF553B",
          "symbol": "circle"
         },
         "mode": "markers",
         "name": "glioblastoma",
         "orientation": "v",
         "showlegend": true,
         "type": "scatter",
         "x": [
          -1.072210431098938,
          -4.243015289306641,
          4.18283748626709,
          4.8735270500183105,
          4.726608753204346,
          -5.090327739715576,
          -5.690705299377441,
          -9.064332962036133,
          -7.227461814880371,
          -7.820528030395508,
          -6.520946025848389,
          -6.922823429107666,
          -4.2837324142456055,
          -5.550302982330322,
          -1.990094780921936,
          -1.8253954648971558,
          10.637584686279297,
          8.888506889343262,
          11.634303092956543,
          11.998543739318848,
          -8.132686614990234,
          -0.6642044186592102,
          -9.30161190032959,
          -2.811889886856079,
          10.701763153076172,
          -0.45781710743904114,
          -0.696260929107666,
          9.856873512268066,
          8.45336627960205,
          8.358325958251953,
          11.533960342407227,
          11.10289192199707,
          10.379438400268555,
          6.951298236846924
         ],
         "xaxis": "x",
         "y": [
          10.8082914352417,
          13.112241744995117,
          -9.828804016113281,
          -8.151000022888184,
          -11.529420852661133,
          6.79184627532959,
          10.54208755493164,
          13.043553352355957,
          11.393697738647461,
          12.625246047973633,
          8.956522941589355,
          15.82049560546875,
          12.381648063659668,
          12.463360786437988,
          14.595271110534668,
          -9.434258460998535,
          -14.297684669494629,
          -13.30793571472168,
          -14.941646575927734,
          -15.134086608886719,
          15.7870454788208,
          8.994990348815918,
          16.283790588378906,
          10.068008422851562,
          -9.894478797912598,
          13.583970069885254,
          13.496014595031738,
          -11.365690231323242,
          -5.528343677520752,
          -7.858247756958008,
          -10.709739685058594,
          -11.843050003051758,
          -10.787888526916504,
          -12.220793724060059
         ],
         "yaxis": "y"
        },
        {
         "hovertemplate": "color=medulloblastoma<br>PC 0=%{x}<br>PC 1=%{y}<extra></extra>",
         "legendgroup": "medulloblastoma",
         "marker": {
          "color": "#00cc96",
          "symbol": "circle"
         },
         "mode": "markers",
         "name": "medulloblastoma",
         "orientation": "v",
         "showlegend": true,
         "type": "scatter",
         "x": [
          18.950658798217773,
          -5.405335426330566,
          -4.3682050704956055,
          -8.80527114868164,
          -4.81803560256958,
          14.999805450439453,
          -8.345877647399902,
          -5.2770795822143555,
          -4.370179653167725,
          7.13096809387207,
          -7.719806671142578,
          -8.202826499938965,
          16.309579849243164,
          15.98618221282959,
          16.411346435546875,
          -3.795239210128784,
          17.130586624145508,
          17.564334869384766,
          15.572548866271973,
          16.27464485168457,
          17.518232345581055,
          0.5362119674682617
         ],
         "xaxis": "x",
         "y": [
          -12.935847282409668,
          1.0449047088623047,
          1.8102657794952393,
          1.9469780921936035,
          2.223015069961548,
          -13.054038047790527,
          1.5209897756576538,
          2.2056379318237305,
          -0.5935030579566956,
          -14.052148818969727,
          0.5989122986793518,
          -0.6473026871681213,
          -13.405722618103027,
          -9.756773948669434,
          -14.44842529296875,
          -1.4773527383804321,
          -11.352530479431152,
          -10.497845649719238,
          -11.115100860595703,
          -10.852992057800293,
          -12.709010124206543,
          -7.436132431030273
         ],
         "yaxis": "y"
        },
        {
         "hovertemplate": "color=normal<br>PC 0=%{x}<br>PC 1=%{y}<extra></extra>",
         "legendgroup": "normal",
         "marker": {
          "color": "#ab63fa",
          "symbol": "circle"
         },
         "mode": "markers",
         "name": "normal",
         "orientation": "v",
         "showlegend": true,
         "type": "scatter",
         "x": [
          4.981153964996338,
          1.6792939901351929,
          6.250591278076172,
          7.686380863189697,
          7.447889804840088,
          7.321054458618164,
          8.026257514953613,
          1.0442613363265991,
          9.701483726501465,
          5.948216438293457,
          8.47573184967041,
          7.944883346557617,
          6.217652320861816
         ],
         "xaxis": "x",
         "y": [
          -2.6104578971862793,
          4.848428249359131,
          -4.932332992553711,
          0.9617229700088501,
          -3.156170129776001,
          -1.9983596801757812,
          -2.2635433673858643,
          5.560379981994629,
          -3.3525097370147705,
          -0.31285274028778076,
          -3.5916311740875244,
          -3.885516405105591,
          0.016012802720069885
         ],
         "yaxis": "y"
        },
        {
         "hovertemplate": "color=pilocytic_astrocytoma<br>PC 0=%{x}<br>PC 1=%{y}<extra></extra>",
         "legendgroup": "pilocytic_astrocytoma",
         "marker": {
          "color": "#FFA15A",
          "symbol": "circle"
         },
         "mode": "markers",
         "name": "pilocytic_astrocytoma",
         "orientation": "v",
         "showlegend": true,
         "type": "scatter",
         "x": [
          -4.250980854034424,
          -1.7009614706039429,
          -3.3986783027648926,
          -9.834259986877441,
          -11.423095703125,
          -3.3228721618652344,
          -5.048731327056885,
          5.5564188957214355,
          5.670803546905518,
          -3.202674627304077,
          8.140097618103027,
          0.9439246654510498,
          6.629570960998535,
          7.31694221496582,
          8.483592987060547
         ],
         "xaxis": "x",
         "y": [
          9.5740327835083,
          8.324445724487305,
          8.146964073181152,
          13.465577125549316,
          15.938690185546875,
          7.979921817779541,
          8.547927856445312,
          -10.783708572387695,
          -9.843409538269043,
          9.682687759399414,
          -11.309690475463867,
          -9.135725975036621,
          -9.87628173828125,
          -9.527667045593262,
          -10.073938369750977
         ],
         "yaxis": "y"
        }
       ],
       "layout": {
        "legend": {
         "title": {
          "text": "color"
         },
         "tracegroupgap": 0
        },
        "template": {
         "data": {
          "bar": [
           {
            "error_x": {
             "color": "#2a3f5f"
            },
            "error_y": {
             "color": "#2a3f5f"
            },
            "marker": {
             "line": {
              "color": "#E5ECF6",
              "width": 0.5
             },
             "pattern": {
              "fillmode": "overlay",
              "size": 10,
              "solidity": 0.2
             }
            },
            "type": "bar"
           }
          ],
          "barpolar": [
           {
            "marker": {
             "line": {
              "color": "#E5ECF6",
              "width": 0.5
             },
             "pattern": {
              "fillmode": "overlay",
              "size": 10,
              "solidity": 0.2
             }
            },
            "type": "barpolar"
           }
          ],
          "carpet": [
           {
            "aaxis": {
             "endlinecolor": "#2a3f5f",
             "gridcolor": "white",
             "linecolor": "white",
             "minorgridcolor": "white",
             "startlinecolor": "#2a3f5f"
            },
            "baxis": {
             "endlinecolor": "#2a3f5f",
             "gridcolor": "white",
             "linecolor": "white",
             "minorgridcolor": "white",
             "startlinecolor": "#2a3f5f"
            },
            "type": "carpet"
           }
          ],
          "choropleth": [
           {
            "colorbar": {
             "outlinewidth": 0,
             "ticks": ""
            },
            "type": "choropleth"
           }
          ],
          "contour": [
           {
            "colorbar": {
             "outlinewidth": 0,
             "ticks": ""
            },
            "colorscale": [
             [
              0,
              "#0d0887"
             ],
             [
              0.1111111111111111,
              "#46039f"
             ],
             [
              0.2222222222222222,
              "#7201a8"
             ],
             [
              0.3333333333333333,
              "#9c179e"
             ],
             [
              0.4444444444444444,
              "#bd3786"
             ],
             [
              0.5555555555555556,
              "#d8576b"
             ],
             [
              0.6666666666666666,
              "#ed7953"
             ],
             [
              0.7777777777777778,
              "#fb9f3a"
             ],
             [
              0.8888888888888888,
              "#fdca26"
             ],
             [
              1,
              "#f0f921"
             ]
            ],
            "type": "contour"
           }
          ],
          "contourcarpet": [
           {
            "colorbar": {
             "outlinewidth": 0,
             "ticks": ""
            },
            "type": "contourcarpet"
           }
          ],
          "heatmap": [
           {
            "colorbar": {
             "outlinewidth": 0,
             "ticks": ""
            },
            "colorscale": [
             [
              0,
              "#0d0887"
             ],
             [
              0.1111111111111111,
              "#46039f"
             ],
             [
              0.2222222222222222,
              "#7201a8"
             ],
             [
              0.3333333333333333,
              "#9c179e"
             ],
             [
              0.4444444444444444,
              "#bd3786"
             ],
             [
              0.5555555555555556,
              "#d8576b"
             ],
             [
              0.6666666666666666,
              "#ed7953"
             ],
             [
              0.7777777777777778,
              "#fb9f3a"
             ],
             [
              0.8888888888888888,
              "#fdca26"
             ],
             [
              1,
              "#f0f921"
             ]
            ],
            "type": "heatmap"
           }
          ],
          "heatmapgl": [
           {
            "colorbar": {
             "outlinewidth": 0,
             "ticks": ""
            },
            "colorscale": [
             [
              0,
              "#0d0887"
             ],
             [
              0.1111111111111111,
              "#46039f"
             ],
             [
              0.2222222222222222,
              "#7201a8"
             ],
             [
              0.3333333333333333,
              "#9c179e"
             ],
             [
              0.4444444444444444,
              "#bd3786"
             ],
             [
              0.5555555555555556,
              "#d8576b"
             ],
             [
              0.6666666666666666,
              "#ed7953"
             ],
             [
              0.7777777777777778,
              "#fb9f3a"
             ],
             [
              0.8888888888888888,
              "#fdca26"
             ],
             [
              1,
              "#f0f921"
             ]
            ],
            "type": "heatmapgl"
           }
          ],
          "histogram": [
           {
            "marker": {
             "pattern": {
              "fillmode": "overlay",
              "size": 10,
              "solidity": 0.2
             }
            },
            "type": "histogram"
           }
          ],
          "histogram2d": [
           {
            "colorbar": {
             "outlinewidth": 0,
             "ticks": ""
            },
            "colorscale": [
             [
              0,
              "#0d0887"
             ],
             [
              0.1111111111111111,
              "#46039f"
             ],
             [
              0.2222222222222222,
              "#7201a8"
             ],
             [
              0.3333333333333333,
              "#9c179e"
             ],
             [
              0.4444444444444444,
              "#bd3786"
             ],
             [
              0.5555555555555556,
              "#d8576b"
             ],
             [
              0.6666666666666666,
              "#ed7953"
             ],
             [
              0.7777777777777778,
              "#fb9f3a"
             ],
             [
              0.8888888888888888,
              "#fdca26"
             ],
             [
              1,
              "#f0f921"
             ]
            ],
            "type": "histogram2d"
           }
          ],
          "histogram2dcontour": [
           {
            "colorbar": {
             "outlinewidth": 0,
             "ticks": ""
            },
            "colorscale": [
             [
              0,
              "#0d0887"
             ],
             [
              0.1111111111111111,
              "#46039f"
             ],
             [
              0.2222222222222222,
              "#7201a8"
             ],
             [
              0.3333333333333333,
              "#9c179e"
             ],
             [
              0.4444444444444444,
              "#bd3786"
             ],
             [
              0.5555555555555556,
              "#d8576b"
             ],
             [
              0.6666666666666666,
              "#ed7953"
             ],
             [
              0.7777777777777778,
              "#fb9f3a"
             ],
             [
              0.8888888888888888,
              "#fdca26"
             ],
             [
              1,
              "#f0f921"
             ]
            ],
            "type": "histogram2dcontour"
           }
          ],
          "mesh3d": [
           {
            "colorbar": {
             "outlinewidth": 0,
             "ticks": ""
            },
            "type": "mesh3d"
           }
          ],
          "parcoords": [
           {
            "line": {
             "colorbar": {
              "outlinewidth": 0,
              "ticks": ""
             }
            },
            "type": "parcoords"
           }
          ],
          "pie": [
           {
            "automargin": true,
            "type": "pie"
           }
          ],
          "scatter": [
           {
            "marker": {
             "colorbar": {
              "outlinewidth": 0,
              "ticks": ""
             }
            },
            "type": "scatter"
           }
          ],
          "scatter3d": [
           {
            "line": {
             "colorbar": {
              "outlinewidth": 0,
              "ticks": ""
             }
            },
            "marker": {
             "colorbar": {
              "outlinewidth": 0,
              "ticks": ""
             }
            },
            "type": "scatter3d"
           }
          ],
          "scattercarpet": [
           {
            "marker": {
             "colorbar": {
              "outlinewidth": 0,
              "ticks": ""
             }
            },
            "type": "scattercarpet"
           }
          ],
          "scattergeo": [
           {
            "marker": {
             "colorbar": {
              "outlinewidth": 0,
              "ticks": ""
             }
            },
            "type": "scattergeo"
           }
          ],
          "scattergl": [
           {
            "marker": {
             "colorbar": {
              "outlinewidth": 0,
              "ticks": ""
             }
            },
            "type": "scattergl"
           }
          ],
          "scattermapbox": [
           {
            "marker": {
             "colorbar": {
              "outlinewidth": 0,
              "ticks": ""
             }
            },
            "type": "scattermapbox"
           }
          ],
          "scatterpolar": [
           {
            "marker": {
             "colorbar": {
              "outlinewidth": 0,
              "ticks": ""
             }
            },
            "type": "scatterpolar"
           }
          ],
          "scatterpolargl": [
           {
            "marker": {
             "colorbar": {
              "outlinewidth": 0,
              "ticks": ""
             }
            },
            "type": "scatterpolargl"
           }
          ],
          "scatterternary": [
           {
            "marker": {
             "colorbar": {
              "outlinewidth": 0,
              "ticks": ""
             }
            },
            "type": "scatterternary"
           }
          ],
          "surface": [
           {
            "colorbar": {
             "outlinewidth": 0,
             "ticks": ""
            },
            "colorscale": [
             [
              0,
              "#0d0887"
             ],
             [
              0.1111111111111111,
              "#46039f"
             ],
             [
              0.2222222222222222,
              "#7201a8"
             ],
             [
              0.3333333333333333,
              "#9c179e"
             ],
             [
              0.4444444444444444,
              "#bd3786"
             ],
             [
              0.5555555555555556,
              "#d8576b"
             ],
             [
              0.6666666666666666,
              "#ed7953"
             ],
             [
              0.7777777777777778,
              "#fb9f3a"
             ],
             [
              0.8888888888888888,
              "#fdca26"
             ],
             [
              1,
              "#f0f921"
             ]
            ],
            "type": "surface"
           }
          ],
          "table": [
           {
            "cells": {
             "fill": {
              "color": "#EBF0F8"
             },
             "line": {
              "color": "white"
             }
            },
            "header": {
             "fill": {
              "color": "#C8D4E3"
             },
             "line": {
              "color": "white"
             }
            },
            "type": "table"
           }
          ]
         },
         "layout": {
          "annotationdefaults": {
           "arrowcolor": "#2a3f5f",
           "arrowhead": 0,
           "arrowwidth": 1
          },
          "autotypenumbers": "strict",
          "coloraxis": {
           "colorbar": {
            "outlinewidth": 0,
            "ticks": ""
           }
          },
          "colorscale": {
           "diverging": [
            [
             0,
             "#8e0152"
            ],
            [
             0.1,
             "#c51b7d"
            ],
            [
             0.2,
             "#de77ae"
            ],
            [
             0.3,
             "#f1b6da"
            ],
            [
             0.4,
             "#fde0ef"
            ],
            [
             0.5,
             "#f7f7f7"
            ],
            [
             0.6,
             "#e6f5d0"
            ],
            [
             0.7,
             "#b8e186"
            ],
            [
             0.8,
             "#7fbc41"
            ],
            [
             0.9,
             "#4d9221"
            ],
            [
             1,
             "#276419"
            ]
           ],
           "sequential": [
            [
             0,
             "#0d0887"
            ],
            [
             0.1111111111111111,
             "#46039f"
            ],
            [
             0.2222222222222222,
             "#7201a8"
            ],
            [
             0.3333333333333333,
             "#9c179e"
            ],
            [
             0.4444444444444444,
             "#bd3786"
            ],
            [
             0.5555555555555556,
             "#d8576b"
            ],
            [
             0.6666666666666666,
             "#ed7953"
            ],
            [
             0.7777777777777778,
             "#fb9f3a"
            ],
            [
             0.8888888888888888,
             "#fdca26"
            ],
            [
             1,
             "#f0f921"
            ]
           ],
           "sequentialminus": [
            [
             0,
             "#0d0887"
            ],
            [
             0.1111111111111111,
             "#46039f"
            ],
            [
             0.2222222222222222,
             "#7201a8"
            ],
            [
             0.3333333333333333,
             "#9c179e"
            ],
            [
             0.4444444444444444,
             "#bd3786"
            ],
            [
             0.5555555555555556,
             "#d8576b"
            ],
            [
             0.6666666666666666,
             "#ed7953"
            ],
            [
             0.7777777777777778,
             "#fb9f3a"
            ],
            [
             0.8888888888888888,
             "#fdca26"
            ],
            [
             1,
             "#f0f921"
            ]
           ]
          },
          "colorway": [
           "#636efa",
           "#EF553B",
           "#00cc96",
           "#ab63fa",
           "#FFA15A",
           "#19d3f3",
           "#FF6692",
           "#B6E880",
           "#FF97FF",
           "#FECB52"
          ],
          "font": {
           "color": "#2a3f5f"
          },
          "geo": {
           "bgcolor": "white",
           "lakecolor": "white",
           "landcolor": "#E5ECF6",
           "showlakes": true,
           "showland": true,
           "subunitcolor": "white"
          },
          "hoverlabel": {
           "align": "left"
          },
          "hovermode": "closest",
          "mapbox": {
           "style": "light"
          },
          "paper_bgcolor": "white",
          "plot_bgcolor": "#E5ECF6",
          "polar": {
           "angularaxis": {
            "gridcolor": "white",
            "linecolor": "white",
            "ticks": ""
           },
           "bgcolor": "#E5ECF6",
           "radialaxis": {
            "gridcolor": "white",
            "linecolor": "white",
            "ticks": ""
           }
          },
          "scene": {
           "xaxis": {
            "backgroundcolor": "#E5ECF6",
            "gridcolor": "white",
            "gridwidth": 2,
            "linecolor": "white",
            "showbackground": true,
            "ticks": "",
            "zerolinecolor": "white"
           },
           "yaxis": {
            "backgroundcolor": "#E5ECF6",
            "gridcolor": "white",
            "gridwidth": 2,
            "linecolor": "white",
            "showbackground": true,
            "ticks": "",
            "zerolinecolor": "white"
           },
           "zaxis": {
            "backgroundcolor": "#E5ECF6",
            "gridcolor": "white",
            "gridwidth": 2,
            "linecolor": "white",
            "showbackground": true,
            "ticks": "",
            "zerolinecolor": "white"
           }
          },
          "shapedefaults": {
           "line": {
            "color": "#2a3f5f"
           }
          },
          "ternary": {
           "aaxis": {
            "gridcolor": "white",
            "linecolor": "white",
            "ticks": ""
           },
           "baxis": {
            "gridcolor": "white",
            "linecolor": "white",
            "ticks": ""
           },
           "bgcolor": "#E5ECF6",
           "caxis": {
            "gridcolor": "white",
            "linecolor": "white",
            "ticks": ""
           }
          },
          "title": {
           "x": 0.05
          },
          "xaxis": {
           "automargin": true,
           "gridcolor": "white",
           "linecolor": "white",
           "ticks": "",
           "title": {
            "standoff": 15
           },
           "zerolinecolor": "white",
           "zerolinewidth": 2
          },
          "yaxis": {
           "automargin": true,
           "gridcolor": "white",
           "linecolor": "white",
           "ticks": "",
           "title": {
            "standoff": 15
           },
           "zerolinecolor": "white",
           "zerolinewidth": 2
          }
         }
        },
        "title": {
         "text": "TSNE Perplexity: 20"
        },
        "xaxis": {
         "anchor": "y",
         "domain": [
          0,
          1
         ],
         "title": {
          "text": "PC 0"
         }
        },
        "yaxis": {
         "anchor": "x",
         "domain": [
          0,
          1
         ],
         "title": {
          "text": "PC 1"
         }
        }
       }
      }
     },
     "metadata": {},
     "output_type": "display_data"
    },
    {
     "data": {
      "application/vnd.plotly.v1+json": {
       "config": {
        "plotlyServerURL": "https://plot.ly"
       },
       "data": [
        {
         "hovertemplate": "color=ependymoma<br>PC 0=%{x}<br>PC 1=%{y}<extra></extra>",
         "legendgroup": "ependymoma",
         "marker": {
          "color": "#636efa",
          "symbol": "circle"
         },
         "mode": "markers",
         "name": "ependymoma",
         "orientation": "v",
         "showlegend": true,
         "type": "scatter",
         "x": [
          -7.464995861053467,
          -4.450550079345703,
          -4.196136951446533,
          -1.3588582277297974,
          -5.500823020935059,
          -6.43361759185791,
          -5.608201503753662,
          -6.316162109375,
          -6.431664943695068,
          -6.39263916015625,
          -0.8091369271278381,
          -6.620996475219727,
          -5.971477031707764,
          -2.7156832218170166,
          -4.613420486450195,
          -3.0701422691345215,
          -5.5322699546813965,
          -4.67314338684082,
          -2.655132293701172,
          -4.538573265075684,
          -4.455336570739746,
          -3.6501996517181396,
          -2.6293835639953613,
          -2.4817826747894287,
          -4.850680351257324,
          -5.252204895019531,
          -3.9850971698760986,
          -5.071114540100098,
          -1.816582441329956,
          -1.343989372253418,
          -1.1251097917556763,
          -5.441934108734131,
          -7.5709309577941895,
          -2.1481821537017822,
          -4.2972588539123535,
          -1.0121148824691772,
          0.22556090354919434,
          -0.6802706122398376,
          -0.6294239163398743,
          -0.56388920545578,
          -1.2427935600280762,
          -0.5009626150131226,
          0.9729287624359131,
          -1.1247698068618774,
          -2.380331039428711,
          -2.3666341304779053
         ],
         "xaxis": "x",
         "y": [
          2.861786365509033,
          1.51740562915802,
          2.969081401824951,
          -2.0979554653167725,
          1.4785007238388062,
          2.254326581954956,
          3.254380702972412,
          2.339381456375122,
          2.6181716918945312,
          2.919926166534424,
          -3.1074390411376953,
          1.3981350660324097,
          1.9306979179382324,
          -1.2042045593261719,
          2.232231378555298,
          -0.6936550140380859,
          3.2136197090148926,
          2.9546303749084473,
          -0.5992612242698669,
          2.02892804145813,
          3.0495848655700684,
          2.2965290546417236,
          -1.0705727338790894,
          -0.5769320130348206,
          3.1119916439056396,
          2.7616026401519775,
          2.3509676456451416,
          2.39009165763855,
          -0.49331068992614746,
          -2.6001741886138916,
          -2.522495985031128,
          2.282132863998413,
          2.939793825149536,
          -2.5994040966033936,
          2.692636251449585,
          -2.4257664680480957,
          -3.779449939727783,
          -2.2459089756011963,
          -2.393972635269165,
          -2.5256547927856445,
          -1.564784288406372,
          -3.5421128273010254,
          -1.913543701171875,
          -1.707082986831665,
          -3.4800186157226562,
          -3.5627853870391846
         ],
         "yaxis": "y"
        },
        {
         "hovertemplate": "color=glioblastoma<br>PC 0=%{x}<br>PC 1=%{y}<extra></extra>",
         "legendgroup": "glioblastoma",
         "marker": {
          "color": "#EF553B",
          "symbol": "circle"
         },
         "mode": "markers",
         "name": "glioblastoma",
         "orientation": "v",
         "showlegend": true,
         "type": "scatter",
         "x": [
          -5.566464424133301,
          -3.32157301902771,
          1.1586629152297974,
          0.3773479163646698,
          0.4674469530582428,
          -5.476869583129883,
          -4.324570178985596,
          -6.042675495147705,
          -3.222219228744507,
          -3.5406956672668457,
          -4.250965118408203,
          -6.761293888092041,
          -3.5468082427978516,
          -3.4346096515655518,
          -2.7473387718200684,
          -2.495887517929077,
          1.9974172115325928,
          1.3470168113708496,
          2.075599431991577,
          2.0100088119506836,
          -6.6941022872924805,
          -5.885265350341797,
          -7.396424293518066,
          -4.344257831573486,
          -0.019253037869930267,
          -3.8273818492889404,
          -3.882519483566284,
          0.1458010971546173,
          1.0660059452056885,
          0.7255781888961792,
          -0.04218650981783867,
          -0.26190146803855896,
          0.17856000363826752,
          0.34948858618736267
         ],
         "xaxis": "x",
         "y": [
          5.155512809753418,
          4.731414794921875,
          -2.6161911487579346,
          -2.7796990871429443,
          -2.526073455810547,
          4.352259159088135,
          4.167583465576172,
          3.983912467956543,
          3.617917060852051,
          3.8717262744903564,
          3.8729350566864014,
          5.093700408935547,
          4.638801574707031,
          4.428503036499023,
          3.1718904972076416,
          -0.1410878747701645,
          -2.0944581031799316,
          -3.9206392765045166,
          -1.9714761972427368,
          -1.8627102375030518,
          4.5710835456848145,
          4.957578182220459,
          4.331556797027588,
          5.344705581665039,
          -0.8345718383789062,
          6.428277492523193,
          6.204161167144775,
          -1.2181929349899292,
          0.4354950785636902,
          -0.7159151434898376,
          -0.8971877098083496,
          -0.9408307075500488,
          -1.025326132774353,
          -1.8678511381149292
         ],
         "yaxis": "y"
        },
        {
         "hovertemplate": "color=medulloblastoma<br>PC 0=%{x}<br>PC 1=%{y}<extra></extra>",
         "legendgroup": "medulloblastoma",
         "marker": {
          "color": "#00cc96",
          "symbol": "circle"
         },
         "mode": "markers",
         "name": "medulloblastoma",
         "orientation": "v",
         "showlegend": true,
         "type": "scatter",
         "x": [
          3.8452978134155273,
          -1.6972413063049316,
          -1.9624218940734863,
          -2.131791353225708,
          -1.9648287296295166,
          2.861689805984497,
          -2.0829365253448486,
          -1.8986866474151611,
          -0.8356337547302246,
          1.852917194366455,
          -1.99160897731781,
          -1.9808034896850586,
          3.237989664077759,
          2.600925922393799,
          3.5856993198394775,
          -0.16038936376571655,
          3.078080654144287,
          3.2513084411621094,
          2.739765167236328,
          2.8463478088378906,
          3.2171504497528076,
          -1.3024159669876099
         ],
         "xaxis": "x",
         "y": [
          -1.693153977394104,
          5.076164245605469,
          5.1921515464782715,
          4.196402072906494,
          5.215067386627197,
          0.3585353493690491,
          4.1400346755981445,
          5.276285171508789,
          4.373780727386475,
          -3.2090694904327393,
          3.8681819438934326,
          3.2779619693756104,
          -0.006915435194969177,
          -0.35409390926361084,
          0.14055734872817993,
          3.953150749206543,
          -0.9478256106376648,
          -0.5715810656547546,
          -0.8168300986289978,
          -0.5996514558792114,
          -1.3436813354492188,
          0.7691733837127686
         ],
         "yaxis": "y"
        },
        {
         "hovertemplate": "color=normal<br>PC 0=%{x}<br>PC 1=%{y}<extra></extra>",
         "legendgroup": "normal",
         "marker": {
          "color": "#ab63fa",
          "symbol": "circle"
         },
         "mode": "markers",
         "name": "normal",
         "orientation": "v",
         "showlegend": true,
         "type": "scatter",
         "x": [
          1.457358956336975,
          -5.533848762512207,
          0.2903953790664673,
          -5.012824058532715,
          0.9831482172012329,
          0.7592305541038513,
          0.856895923614502,
          -5.874290943145752,
          1.7147563695907593,
          0.11681891232728958,
          1.1113860607147217,
          1.0506722927093506,
          0.06957737356424332
         ],
         "xaxis": "x",
         "y": [
          2.4669456481933594,
          6.558924674987793,
          0.5942682027816772,
          -1.222559928894043,
          1.270194411277771,
          1.5018365383148193,
          1.4397550821304321,
          6.2572526931762695,
          1.7815786600112915,
          2.1784181594848633,
          1.2538152933120728,
          1.2289574146270752,
          2.1993958950042725
         ],
         "yaxis": "y"
        },
        {
         "hovertemplate": "color=pilocytic_astrocytoma<br>PC 0=%{x}<br>PC 1=%{y}<extra></extra>",
         "legendgroup": "pilocytic_astrocytoma",
         "marker": {
          "color": "#FFA15A",
          "symbol": "circle"
         },
         "mode": "markers",
         "name": "pilocytic_astrocytoma",
         "orientation": "v",
         "showlegend": true,
         "type": "scatter",
         "x": [
          -4.446521759033203,
          -5.026434421539307,
          -4.68226957321167,
          -6.339729309082031,
          -7.420929431915283,
          -4.76217794418335,
          -4.884945869445801,
          0.7059038281440735,
          0.8979641199111938,
          -4.384411334991455,
          0.6860966682434082,
          -1.2617721557617188,
          0.772460401058197,
          0.946286141872406,
          0.9833656549453735
         ],
         "xaxis": "x",
         "y": [
          4.579995632171631,
          5.357248306274414,
          4.863515853881836,
          3.9935944080352783,
          3.642913579940796,
          4.893462657928467,
          4.181120872497559,
          -2.219865560531616,
          -2.12546443939209,
          5.061532020568848,
          -1.4407695531845093,
          -0.2267839014530182,
          -1.9415671825408936,
          -1.5921748876571655,
          -1.151842713356018
         ],
         "yaxis": "y"
        }
       ],
       "layout": {
        "legend": {
         "title": {
          "text": "color"
         },
         "tracegroupgap": 0
        },
        "template": {
         "data": {
          "bar": [
           {
            "error_x": {
             "color": "#2a3f5f"
            },
            "error_y": {
             "color": "#2a3f5f"
            },
            "marker": {
             "line": {
              "color": "#E5ECF6",
              "width": 0.5
             },
             "pattern": {
              "fillmode": "overlay",
              "size": 10,
              "solidity": 0.2
             }
            },
            "type": "bar"
           }
          ],
          "barpolar": [
           {
            "marker": {
             "line": {
              "color": "#E5ECF6",
              "width": 0.5
             },
             "pattern": {
              "fillmode": "overlay",
              "size": 10,
              "solidity": 0.2
             }
            },
            "type": "barpolar"
           }
          ],
          "carpet": [
           {
            "aaxis": {
             "endlinecolor": "#2a3f5f",
             "gridcolor": "white",
             "linecolor": "white",
             "minorgridcolor": "white",
             "startlinecolor": "#2a3f5f"
            },
            "baxis": {
             "endlinecolor": "#2a3f5f",
             "gridcolor": "white",
             "linecolor": "white",
             "minorgridcolor": "white",
             "startlinecolor": "#2a3f5f"
            },
            "type": "carpet"
           }
          ],
          "choropleth": [
           {
            "colorbar": {
             "outlinewidth": 0,
             "ticks": ""
            },
            "type": "choropleth"
           }
          ],
          "contour": [
           {
            "colorbar": {
             "outlinewidth": 0,
             "ticks": ""
            },
            "colorscale": [
             [
              0,
              "#0d0887"
             ],
             [
              0.1111111111111111,
              "#46039f"
             ],
             [
              0.2222222222222222,
              "#7201a8"
             ],
             [
              0.3333333333333333,
              "#9c179e"
             ],
             [
              0.4444444444444444,
              "#bd3786"
             ],
             [
              0.5555555555555556,
              "#d8576b"
             ],
             [
              0.6666666666666666,
              "#ed7953"
             ],
             [
              0.7777777777777778,
              "#fb9f3a"
             ],
             [
              0.8888888888888888,
              "#fdca26"
             ],
             [
              1,
              "#f0f921"
             ]
            ],
            "type": "contour"
           }
          ],
          "contourcarpet": [
           {
            "colorbar": {
             "outlinewidth": 0,
             "ticks": ""
            },
            "type": "contourcarpet"
           }
          ],
          "heatmap": [
           {
            "colorbar": {
             "outlinewidth": 0,
             "ticks": ""
            },
            "colorscale": [
             [
              0,
              "#0d0887"
             ],
             [
              0.1111111111111111,
              "#46039f"
             ],
             [
              0.2222222222222222,
              "#7201a8"
             ],
             [
              0.3333333333333333,
              "#9c179e"
             ],
             [
              0.4444444444444444,
              "#bd3786"
             ],
             [
              0.5555555555555556,
              "#d8576b"
             ],
             [
              0.6666666666666666,
              "#ed7953"
             ],
             [
              0.7777777777777778,
              "#fb9f3a"
             ],
             [
              0.8888888888888888,
              "#fdca26"
             ],
             [
              1,
              "#f0f921"
             ]
            ],
            "type": "heatmap"
           }
          ],
          "heatmapgl": [
           {
            "colorbar": {
             "outlinewidth": 0,
             "ticks": ""
            },
            "colorscale": [
             [
              0,
              "#0d0887"
             ],
             [
              0.1111111111111111,
              "#46039f"
             ],
             [
              0.2222222222222222,
              "#7201a8"
             ],
             [
              0.3333333333333333,
              "#9c179e"
             ],
             [
              0.4444444444444444,
              "#bd3786"
             ],
             [
              0.5555555555555556,
              "#d8576b"
             ],
             [
              0.6666666666666666,
              "#ed7953"
             ],
             [
              0.7777777777777778,
              "#fb9f3a"
             ],
             [
              0.8888888888888888,
              "#fdca26"
             ],
             [
              1,
              "#f0f921"
             ]
            ],
            "type": "heatmapgl"
           }
          ],
          "histogram": [
           {
            "marker": {
             "pattern": {
              "fillmode": "overlay",
              "size": 10,
              "solidity": 0.2
             }
            },
            "type": "histogram"
           }
          ],
          "histogram2d": [
           {
            "colorbar": {
             "outlinewidth": 0,
             "ticks": ""
            },
            "colorscale": [
             [
              0,
              "#0d0887"
             ],
             [
              0.1111111111111111,
              "#46039f"
             ],
             [
              0.2222222222222222,
              "#7201a8"
             ],
             [
              0.3333333333333333,
              "#9c179e"
             ],
             [
              0.4444444444444444,
              "#bd3786"
             ],
             [
              0.5555555555555556,
              "#d8576b"
             ],
             [
              0.6666666666666666,
              "#ed7953"
             ],
             [
              0.7777777777777778,
              "#fb9f3a"
             ],
             [
              0.8888888888888888,
              "#fdca26"
             ],
             [
              1,
              "#f0f921"
             ]
            ],
            "type": "histogram2d"
           }
          ],
          "histogram2dcontour": [
           {
            "colorbar": {
             "outlinewidth": 0,
             "ticks": ""
            },
            "colorscale": [
             [
              0,
              "#0d0887"
             ],
             [
              0.1111111111111111,
              "#46039f"
             ],
             [
              0.2222222222222222,
              "#7201a8"
             ],
             [
              0.3333333333333333,
              "#9c179e"
             ],
             [
              0.4444444444444444,
              "#bd3786"
             ],
             [
              0.5555555555555556,
              "#d8576b"
             ],
             [
              0.6666666666666666,
              "#ed7953"
             ],
             [
              0.7777777777777778,
              "#fb9f3a"
             ],
             [
              0.8888888888888888,
              "#fdca26"
             ],
             [
              1,
              "#f0f921"
             ]
            ],
            "type": "histogram2dcontour"
           }
          ],
          "mesh3d": [
           {
            "colorbar": {
             "outlinewidth": 0,
             "ticks": ""
            },
            "type": "mesh3d"
           }
          ],
          "parcoords": [
           {
            "line": {
             "colorbar": {
              "outlinewidth": 0,
              "ticks": ""
             }
            },
            "type": "parcoords"
           }
          ],
          "pie": [
           {
            "automargin": true,
            "type": "pie"
           }
          ],
          "scatter": [
           {
            "marker": {
             "colorbar": {
              "outlinewidth": 0,
              "ticks": ""
             }
            },
            "type": "scatter"
           }
          ],
          "scatter3d": [
           {
            "line": {
             "colorbar": {
              "outlinewidth": 0,
              "ticks": ""
             }
            },
            "marker": {
             "colorbar": {
              "outlinewidth": 0,
              "ticks": ""
             }
            },
            "type": "scatter3d"
           }
          ],
          "scattercarpet": [
           {
            "marker": {
             "colorbar": {
              "outlinewidth": 0,
              "ticks": ""
             }
            },
            "type": "scattercarpet"
           }
          ],
          "scattergeo": [
           {
            "marker": {
             "colorbar": {
              "outlinewidth": 0,
              "ticks": ""
             }
            },
            "type": "scattergeo"
           }
          ],
          "scattergl": [
           {
            "marker": {
             "colorbar": {
              "outlinewidth": 0,
              "ticks": ""
             }
            },
            "type": "scattergl"
           }
          ],
          "scattermapbox": [
           {
            "marker": {
             "colorbar": {
              "outlinewidth": 0,
              "ticks": ""
             }
            },
            "type": "scattermapbox"
           }
          ],
          "scatterpolar": [
           {
            "marker": {
             "colorbar": {
              "outlinewidth": 0,
              "ticks": ""
             }
            },
            "type": "scatterpolar"
           }
          ],
          "scatterpolargl": [
           {
            "marker": {
             "colorbar": {
              "outlinewidth": 0,
              "ticks": ""
             }
            },
            "type": "scatterpolargl"
           }
          ],
          "scatterternary": [
           {
            "marker": {
             "colorbar": {
              "outlinewidth": 0,
              "ticks": ""
             }
            },
            "type": "scatterternary"
           }
          ],
          "surface": [
           {
            "colorbar": {
             "outlinewidth": 0,
             "ticks": ""
            },
            "colorscale": [
             [
              0,
              "#0d0887"
             ],
             [
              0.1111111111111111,
              "#46039f"
             ],
             [
              0.2222222222222222,
              "#7201a8"
             ],
             [
              0.3333333333333333,
              "#9c179e"
             ],
             [
              0.4444444444444444,
              "#bd3786"
             ],
             [
              0.5555555555555556,
              "#d8576b"
             ],
             [
              0.6666666666666666,
              "#ed7953"
             ],
             [
              0.7777777777777778,
              "#fb9f3a"
             ],
             [
              0.8888888888888888,
              "#fdca26"
             ],
             [
              1,
              "#f0f921"
             ]
            ],
            "type": "surface"
           }
          ],
          "table": [
           {
            "cells": {
             "fill": {
              "color": "#EBF0F8"
             },
             "line": {
              "color": "white"
             }
            },
            "header": {
             "fill": {
              "color": "#C8D4E3"
             },
             "line": {
              "color": "white"
             }
            },
            "type": "table"
           }
          ]
         },
         "layout": {
          "annotationdefaults": {
           "arrowcolor": "#2a3f5f",
           "arrowhead": 0,
           "arrowwidth": 1
          },
          "autotypenumbers": "strict",
          "coloraxis": {
           "colorbar": {
            "outlinewidth": 0,
            "ticks": ""
           }
          },
          "colorscale": {
           "diverging": [
            [
             0,
             "#8e0152"
            ],
            [
             0.1,
             "#c51b7d"
            ],
            [
             0.2,
             "#de77ae"
            ],
            [
             0.3,
             "#f1b6da"
            ],
            [
             0.4,
             "#fde0ef"
            ],
            [
             0.5,
             "#f7f7f7"
            ],
            [
             0.6,
             "#e6f5d0"
            ],
            [
             0.7,
             "#b8e186"
            ],
            [
             0.8,
             "#7fbc41"
            ],
            [
             0.9,
             "#4d9221"
            ],
            [
             1,
             "#276419"
            ]
           ],
           "sequential": [
            [
             0,
             "#0d0887"
            ],
            [
             0.1111111111111111,
             "#46039f"
            ],
            [
             0.2222222222222222,
             "#7201a8"
            ],
            [
             0.3333333333333333,
             "#9c179e"
            ],
            [
             0.4444444444444444,
             "#bd3786"
            ],
            [
             0.5555555555555556,
             "#d8576b"
            ],
            [
             0.6666666666666666,
             "#ed7953"
            ],
            [
             0.7777777777777778,
             "#fb9f3a"
            ],
            [
             0.8888888888888888,
             "#fdca26"
            ],
            [
             1,
             "#f0f921"
            ]
           ],
           "sequentialminus": [
            [
             0,
             "#0d0887"
            ],
            [
             0.1111111111111111,
             "#46039f"
            ],
            [
             0.2222222222222222,
             "#7201a8"
            ],
            [
             0.3333333333333333,
             "#9c179e"
            ],
            [
             0.4444444444444444,
             "#bd3786"
            ],
            [
             0.5555555555555556,
             "#d8576b"
            ],
            [
             0.6666666666666666,
             "#ed7953"
            ],
            [
             0.7777777777777778,
             "#fb9f3a"
            ],
            [
             0.8888888888888888,
             "#fdca26"
            ],
            [
             1,
             "#f0f921"
            ]
           ]
          },
          "colorway": [
           "#636efa",
           "#EF553B",
           "#00cc96",
           "#ab63fa",
           "#FFA15A",
           "#19d3f3",
           "#FF6692",
           "#B6E880",
           "#FF97FF",
           "#FECB52"
          ],
          "font": {
           "color": "#2a3f5f"
          },
          "geo": {
           "bgcolor": "white",
           "lakecolor": "white",
           "landcolor": "#E5ECF6",
           "showlakes": true,
           "showland": true,
           "subunitcolor": "white"
          },
          "hoverlabel": {
           "align": "left"
          },
          "hovermode": "closest",
          "mapbox": {
           "style": "light"
          },
          "paper_bgcolor": "white",
          "plot_bgcolor": "#E5ECF6",
          "polar": {
           "angularaxis": {
            "gridcolor": "white",
            "linecolor": "white",
            "ticks": ""
           },
           "bgcolor": "#E5ECF6",
           "radialaxis": {
            "gridcolor": "white",
            "linecolor": "white",
            "ticks": ""
           }
          },
          "scene": {
           "xaxis": {
            "backgroundcolor": "#E5ECF6",
            "gridcolor": "white",
            "gridwidth": 2,
            "linecolor": "white",
            "showbackground": true,
            "ticks": "",
            "zerolinecolor": "white"
           },
           "yaxis": {
            "backgroundcolor": "#E5ECF6",
            "gridcolor": "white",
            "gridwidth": 2,
            "linecolor": "white",
            "showbackground": true,
            "ticks": "",
            "zerolinecolor": "white"
           },
           "zaxis": {
            "backgroundcolor": "#E5ECF6",
            "gridcolor": "white",
            "gridwidth": 2,
            "linecolor": "white",
            "showbackground": true,
            "ticks": "",
            "zerolinecolor": "white"
           }
          },
          "shapedefaults": {
           "line": {
            "color": "#2a3f5f"
           }
          },
          "ternary": {
           "aaxis": {
            "gridcolor": "white",
            "linecolor": "white",
            "ticks": ""
           },
           "baxis": {
            "gridcolor": "white",
            "linecolor": "white",
            "ticks": ""
           },
           "bgcolor": "#E5ECF6",
           "caxis": {
            "gridcolor": "white",
            "linecolor": "white",
            "ticks": ""
           }
          },
          "title": {
           "x": 0.05
          },
          "xaxis": {
           "automargin": true,
           "gridcolor": "white",
           "linecolor": "white",
           "ticks": "",
           "title": {
            "standoff": 15
           },
           "zerolinecolor": "white",
           "zerolinewidth": 2
          },
          "yaxis": {
           "automargin": true,
           "gridcolor": "white",
           "linecolor": "white",
           "ticks": "",
           "title": {
            "standoff": 15
           },
           "zerolinecolor": "white",
           "zerolinewidth": 2
          }
         }
        },
        "title": {
         "text": "TSNE Perplexity: 50"
        },
        "xaxis": {
         "anchor": "y",
         "domain": [
          0,
          1
         ],
         "title": {
          "text": "PC 0"
         }
        },
        "yaxis": {
         "anchor": "x",
         "domain": [
          0,
          1
         ],
         "title": {
          "text": "PC 1"
         }
        }
       }
      }
     },
     "metadata": {},
     "output_type": "display_data"
    },
    {
     "data": {
      "application/vnd.plotly.v1+json": {
       "config": {
        "plotlyServerURL": "https://plot.ly"
       },
       "data": [
        {
         "hovertemplate": "color=ependymoma<br>PC 0=%{x}<br>PC 1=%{y}<extra></extra>",
         "legendgroup": "ependymoma",
         "marker": {
          "color": "#636efa",
          "symbol": "circle"
         },
         "mode": "markers",
         "name": "ependymoma",
         "orientation": "v",
         "showlegend": true,
         "type": "scatter",
         "x": [
          -0.38915765285491943,
          -0.27452918887138367,
          -0.6359114646911621,
          -0.14383934438228607,
          -0.26262831687927246,
          -0.37547746300697327,
          -0.6059248447418213,
          -0.32515910267829895,
          -0.43446916341781616,
          -0.5531302094459534,
          0.07338270545005798,
          0.030811095610260963,
          -0.3167954385280609,
          0.1943453699350357,
          -0.44798970222473145,
          0.17727714776992798,
          -0.5432307720184326,
          -0.6307785511016846,
          0.001845754450187087,
          -0.31117796897888184,
          -0.66490238904953,
          -0.4981060028076172,
          0.1535908579826355,
          -0.07691644132137299,
          -0.635261595249176,
          -0.5658040046691895,
          -0.5349195599555969,
          -0.5100248456001282,
          -0.25571736693382263,
          0.03534722328186035,
          -0.04166734218597412,
          -0.47993001341819763,
          -0.4506538212299347,
          -0.003034911584109068,
          -0.65414959192276,
          -0.020169269293546677,
          -0.24125263094902039,
          -0.1801503598690033,
          -0.269203782081604,
          -0.1883479803800583,
          -0.0874558687210083,
          0.10593240708112717,
          -0.5974766612052917,
          -0.2489159107208252,
          0.5435994863510132,
          0.48643818497657776
         ],
         "xaxis": "x",
         "y": [
          -1.5256338119506836,
          -0.6505612730979919,
          -0.2835199236869812,
          1.1024445295333862,
          -0.46864771842956543,
          -1.0553812980651855,
          -1.0362670421600342,
          -0.9501926302909851,
          -0.8940284848213196,
          -1.1133681535720825,
          0.9928942322731018,
          -0.8249262571334839,
          -0.9935835599899292,
          0.5521610975265503,
          -0.49259647727012634,
          0.35185617208480835,
          -0.9486275315284729,
          -0.513172447681427,
          0.35395732522010803,
          -0.5141757726669312,
          -0.47829657793045044,
          -0.5315481424331665,
          0.44826769828796387,
          0.36481690406799316,
          -0.6300148963928223,
          -0.8604205846786499,
          -0.2781444787979126,
          -0.7875620722770691,
          0.3674603998661041,
          1.0972933769226074,
          0.9383617043495178,
          -1.0448710918426514,
          -1.6271427869796753,
          0.5726355314254761,
          -0.4574772119522095,
          1.1568350791931152,
          1.7711971998214722,
          1.1083745956420898,
          1.0274347066879272,
          0.9263644814491272,
          1.3597264289855957,
          1.1327052116394043,
          1.1295465230941772,
          0.9979450106620789,
          1.1732637882232666,
          1.2390323877334595
         ],
         "yaxis": "y"
        },
        {
         "hovertemplate": "color=glioblastoma<br>PC 0=%{x}<br>PC 1=%{y}<extra></extra>",
         "legendgroup": "glioblastoma",
         "marker": {
          "color": "#EF553B",
          "symbol": "circle"
         },
         "mode": "markers",
         "name": "glioblastoma",
         "orientation": "v",
         "showlegend": true,
         "type": "scatter",
         "x": [
          -1.092639684677124,
          -1.3861632347106934,
          -0.6513834595680237,
          -0.622182309627533,
          -0.6818457841873169,
          -0.9085084199905396,
          -1.0209827423095703,
          -0.934458315372467,
          -1.237496018409729,
          -1.1553683280944824,
          -0.9398460388183594,
          -1.23298978805542,
          -1.1655243635177612,
          -1.2233428955078125,
          -1.7519608736038208,
          0.0962262749671936,
          -0.5964885950088501,
          0.11379913240671158,
          -0.6831033229827881,
          -0.871608555316925,
          -1.013105869293213,
          -0.9079099893569946,
          -1.014973521232605,
          -1.189469337463379,
          -0.3169676959514618,
          -1.4637969732284546,
          -1.3386412858963013,
          -0.41275614500045776,
          -1.2896422147750854,
          -0.7519310712814331,
          -0.40146467089653015,
          -0.36538901925086975,
          -0.5381704568862915,
          -0.5503665208816528
         ],
         "xaxis": "x",
         "y": [
          -0.6433206796646118,
          -0.6380097270011902,
          1.0674548149108887,
          0.9792872071266174,
          0.8910656571388245,
          -0.8914099335670471,
          -0.5200544595718384,
          -1.2209680080413818,
          -0.8098011612892151,
          -1.2455235719680786,
          -0.45375174283981323,
          -1.2323395013809204,
          -0.5083624720573425,
          -0.9129641056060791,
          -0.6809370517730713,
          0.34536033868789673,
          1.524477481842041,
          1.7741562128067017,
          1.5205081701278687,
          1.318594217300415,
          -1.2195028066635132,
          -0.6003665328025818,
          -1.6689097881317139,
          -0.43272486329078674,
          1.6008553504943848,
          -1.3714028596878052,
          -1.1471569538116455,
          1.3055224418640137,
          1.2024208307266235,
          1.113240361213684,
          1.3699780702590942,
          1.1703239679336548,
          1.3041417598724365,
          1.0192270278930664
         ],
         "yaxis": "y"
        },
        {
         "hovertemplate": "color=medulloblastoma<br>PC 0=%{x}<br>PC 1=%{y}<extra></extra>",
         "legendgroup": "medulloblastoma",
         "marker": {
          "color": "#00cc96",
          "symbol": "circle"
         },
         "mode": "markers",
         "name": "medulloblastoma",
         "orientation": "v",
         "showlegend": true,
         "type": "scatter",
         "x": [
          -1.4963816404342651,
          -1.7235203981399536,
          -1.6001797914505005,
          -1.8089187145233154,
          -1.5827078819274902,
          -1.210715889930725,
          -1.6841020584106445,
          -1.6554865837097168,
          -1.841042160987854,
          -0.18696609139442444,
          -1.5827597379684448,
          -1.612919807434082,
          -1.2165517807006836,
          -1.011578917503357,
          -0.9256474375724792,
          -1.7277886867523193,
          -1.1072841882705688,
          -1.0348410606384277,
          -1.0999116897583008,
          -1.0941404104232788,
          -1.042490839958191,
          -1.05195951461792
         ],
         "xaxis": "x",
         "y": [
          2.1163980960845947,
          -0.9188843965530396,
          -0.9608266353607178,
          -0.9867646098136902,
          -1.064644694328308,
          1.8087503910064697,
          -0.7237053513526917,
          -1.09791100025177,
          -0.19849075376987457,
          1.6678146123886108,
          -0.49389559030532837,
          -0.25333404541015625,
          1.7646255493164062,
          1.7893637418746948,
          2.018763303756714,
          0.5513656139373779,
          1.6908119916915894,
          1.9690139293670654,
          1.6240167617797852,
          1.6648961305618286,
          1.764647126197815,
          0.5840257406234741
         ],
         "yaxis": "y"
        },
        {
         "hovertemplate": "color=normal<br>PC 0=%{x}<br>PC 1=%{y}<extra></extra>",
         "legendgroup": "normal",
         "marker": {
          "color": "#ab63fa",
          "symbol": "circle"
         },
         "mode": "markers",
         "name": "normal",
         "orientation": "v",
         "showlegend": true,
         "type": "scatter",
         "x": [
          -1.903245449066162,
          -1.8583555221557617,
          -1.5049182176589966,
          -2.63996958732605,
          -1.5746303796768188,
          -1.7060527801513672,
          -1.6945899724960327,
          -1.4084378480911255,
          -1.6619850397109985,
          -1.7171438932418823,
          -1.5749573707580566,
          -1.5380982160568237,
          -1.7744349241256714
         ],
         "xaxis": "x",
         "y": [
          0.7033225297927856,
          -0.3251888155937195,
          1.0182076692581177,
          0.6041069030761719,
          1.061765432357788,
          1.0166300535202026,
          1.0498278141021729,
          -1.3480916023254395,
          1.131403923034668,
          0.45274943113327026,
          1.0506508350372314,
          1.0533480644226074,
          0.40363651514053345
         ],
         "yaxis": "y"
        },
        {
         "hovertemplate": "color=pilocytic_astrocytoma<br>PC 0=%{x}<br>PC 1=%{y}<extra></extra>",
         "legendgroup": "pilocytic_astrocytoma",
         "marker": {
          "color": "#FFA15A",
          "symbol": "circle"
         },
         "mode": "markers",
         "name": "pilocytic_astrocytoma",
         "orientation": "v",
         "showlegend": true,
         "type": "scatter",
         "x": [
          -1.0380499362945557,
          -0.938703179359436,
          -0.09548068046569824,
          -0.9485939741134644,
          -0.7415819764137268,
          -2.203110456466675,
          -0.9023442268371582,
          -0.6194276213645935,
          -0.6800106167793274,
          -0.8776654601097107,
          -0.5970443487167358,
          -0.6208977103233337,
          -0.6015957593917847,
          -0.7301570773124695,
          -0.769508421421051
         ],
         "xaxis": "x",
         "y": [
          -0.33518949151039124,
          -0.2213461846113205,
          -0.17968222498893738,
          -1.4025119543075562,
          -1.5535026788711548,
          -0.8223041296005249,
          -0.45690277218818665,
          0.8575571775436401,
          0.8995649218559265,
          -0.15560290217399597,
          1.026487112045288,
          0.5157051086425781,
          1.0341858863830566,
          1.0566985607147217,
          1.135867714881897
         ],
         "yaxis": "y"
        }
       ],
       "layout": {
        "legend": {
         "title": {
          "text": "color"
         },
         "tracegroupgap": 0
        },
        "template": {
         "data": {
          "bar": [
           {
            "error_x": {
             "color": "#2a3f5f"
            },
            "error_y": {
             "color": "#2a3f5f"
            },
            "marker": {
             "line": {
              "color": "#E5ECF6",
              "width": 0.5
             },
             "pattern": {
              "fillmode": "overlay",
              "size": 10,
              "solidity": 0.2
             }
            },
            "type": "bar"
           }
          ],
          "barpolar": [
           {
            "marker": {
             "line": {
              "color": "#E5ECF6",
              "width": 0.5
             },
             "pattern": {
              "fillmode": "overlay",
              "size": 10,
              "solidity": 0.2
             }
            },
            "type": "barpolar"
           }
          ],
          "carpet": [
           {
            "aaxis": {
             "endlinecolor": "#2a3f5f",
             "gridcolor": "white",
             "linecolor": "white",
             "minorgridcolor": "white",
             "startlinecolor": "#2a3f5f"
            },
            "baxis": {
             "endlinecolor": "#2a3f5f",
             "gridcolor": "white",
             "linecolor": "white",
             "minorgridcolor": "white",
             "startlinecolor": "#2a3f5f"
            },
            "type": "carpet"
           }
          ],
          "choropleth": [
           {
            "colorbar": {
             "outlinewidth": 0,
             "ticks": ""
            },
            "type": "choropleth"
           }
          ],
          "contour": [
           {
            "colorbar": {
             "outlinewidth": 0,
             "ticks": ""
            },
            "colorscale": [
             [
              0,
              "#0d0887"
             ],
             [
              0.1111111111111111,
              "#46039f"
             ],
             [
              0.2222222222222222,
              "#7201a8"
             ],
             [
              0.3333333333333333,
              "#9c179e"
             ],
             [
              0.4444444444444444,
              "#bd3786"
             ],
             [
              0.5555555555555556,
              "#d8576b"
             ],
             [
              0.6666666666666666,
              "#ed7953"
             ],
             [
              0.7777777777777778,
              "#fb9f3a"
             ],
             [
              0.8888888888888888,
              "#fdca26"
             ],
             [
              1,
              "#f0f921"
             ]
            ],
            "type": "contour"
           }
          ],
          "contourcarpet": [
           {
            "colorbar": {
             "outlinewidth": 0,
             "ticks": ""
            },
            "type": "contourcarpet"
           }
          ],
          "heatmap": [
           {
            "colorbar": {
             "outlinewidth": 0,
             "ticks": ""
            },
            "colorscale": [
             [
              0,
              "#0d0887"
             ],
             [
              0.1111111111111111,
              "#46039f"
             ],
             [
              0.2222222222222222,
              "#7201a8"
             ],
             [
              0.3333333333333333,
              "#9c179e"
             ],
             [
              0.4444444444444444,
              "#bd3786"
             ],
             [
              0.5555555555555556,
              "#d8576b"
             ],
             [
              0.6666666666666666,
              "#ed7953"
             ],
             [
              0.7777777777777778,
              "#fb9f3a"
             ],
             [
              0.8888888888888888,
              "#fdca26"
             ],
             [
              1,
              "#f0f921"
             ]
            ],
            "type": "heatmap"
           }
          ],
          "heatmapgl": [
           {
            "colorbar": {
             "outlinewidth": 0,
             "ticks": ""
            },
            "colorscale": [
             [
              0,
              "#0d0887"
             ],
             [
              0.1111111111111111,
              "#46039f"
             ],
             [
              0.2222222222222222,
              "#7201a8"
             ],
             [
              0.3333333333333333,
              "#9c179e"
             ],
             [
              0.4444444444444444,
              "#bd3786"
             ],
             [
              0.5555555555555556,
              "#d8576b"
             ],
             [
              0.6666666666666666,
              "#ed7953"
             ],
             [
              0.7777777777777778,
              "#fb9f3a"
             ],
             [
              0.8888888888888888,
              "#fdca26"
             ],
             [
              1,
              "#f0f921"
             ]
            ],
            "type": "heatmapgl"
           }
          ],
          "histogram": [
           {
            "marker": {
             "pattern": {
              "fillmode": "overlay",
              "size": 10,
              "solidity": 0.2
             }
            },
            "type": "histogram"
           }
          ],
          "histogram2d": [
           {
            "colorbar": {
             "outlinewidth": 0,
             "ticks": ""
            },
            "colorscale": [
             [
              0,
              "#0d0887"
             ],
             [
              0.1111111111111111,
              "#46039f"
             ],
             [
              0.2222222222222222,
              "#7201a8"
             ],
             [
              0.3333333333333333,
              "#9c179e"
             ],
             [
              0.4444444444444444,
              "#bd3786"
             ],
             [
              0.5555555555555556,
              "#d8576b"
             ],
             [
              0.6666666666666666,
              "#ed7953"
             ],
             [
              0.7777777777777778,
              "#fb9f3a"
             ],
             [
              0.8888888888888888,
              "#fdca26"
             ],
             [
              1,
              "#f0f921"
             ]
            ],
            "type": "histogram2d"
           }
          ],
          "histogram2dcontour": [
           {
            "colorbar": {
             "outlinewidth": 0,
             "ticks": ""
            },
            "colorscale": [
             [
              0,
              "#0d0887"
             ],
             [
              0.1111111111111111,
              "#46039f"
             ],
             [
              0.2222222222222222,
              "#7201a8"
             ],
             [
              0.3333333333333333,
              "#9c179e"
             ],
             [
              0.4444444444444444,
              "#bd3786"
             ],
             [
              0.5555555555555556,
              "#d8576b"
             ],
             [
              0.6666666666666666,
              "#ed7953"
             ],
             [
              0.7777777777777778,
              "#fb9f3a"
             ],
             [
              0.8888888888888888,
              "#fdca26"
             ],
             [
              1,
              "#f0f921"
             ]
            ],
            "type": "histogram2dcontour"
           }
          ],
          "mesh3d": [
           {
            "colorbar": {
             "outlinewidth": 0,
             "ticks": ""
            },
            "type": "mesh3d"
           }
          ],
          "parcoords": [
           {
            "line": {
             "colorbar": {
              "outlinewidth": 0,
              "ticks": ""
             }
            },
            "type": "parcoords"
           }
          ],
          "pie": [
           {
            "automargin": true,
            "type": "pie"
           }
          ],
          "scatter": [
           {
            "marker": {
             "colorbar": {
              "outlinewidth": 0,
              "ticks": ""
             }
            },
            "type": "scatter"
           }
          ],
          "scatter3d": [
           {
            "line": {
             "colorbar": {
              "outlinewidth": 0,
              "ticks": ""
             }
            },
            "marker": {
             "colorbar": {
              "outlinewidth": 0,
              "ticks": ""
             }
            },
            "type": "scatter3d"
           }
          ],
          "scattercarpet": [
           {
            "marker": {
             "colorbar": {
              "outlinewidth": 0,
              "ticks": ""
             }
            },
            "type": "scattercarpet"
           }
          ],
          "scattergeo": [
           {
            "marker": {
             "colorbar": {
              "outlinewidth": 0,
              "ticks": ""
             }
            },
            "type": "scattergeo"
           }
          ],
          "scattergl": [
           {
            "marker": {
             "colorbar": {
              "outlinewidth": 0,
              "ticks": ""
             }
            },
            "type": "scattergl"
           }
          ],
          "scattermapbox": [
           {
            "marker": {
             "colorbar": {
              "outlinewidth": 0,
              "ticks": ""
             }
            },
            "type": "scattermapbox"
           }
          ],
          "scatterpolar": [
           {
            "marker": {
             "colorbar": {
              "outlinewidth": 0,
              "ticks": ""
             }
            },
            "type": "scatterpolar"
           }
          ],
          "scatterpolargl": [
           {
            "marker": {
             "colorbar": {
              "outlinewidth": 0,
              "ticks": ""
             }
            },
            "type": "scatterpolargl"
           }
          ],
          "scatterternary": [
           {
            "marker": {
             "colorbar": {
              "outlinewidth": 0,
              "ticks": ""
             }
            },
            "type": "scatterternary"
           }
          ],
          "surface": [
           {
            "colorbar": {
             "outlinewidth": 0,
             "ticks": ""
            },
            "colorscale": [
             [
              0,
              "#0d0887"
             ],
             [
              0.1111111111111111,
              "#46039f"
             ],
             [
              0.2222222222222222,
              "#7201a8"
             ],
             [
              0.3333333333333333,
              "#9c179e"
             ],
             [
              0.4444444444444444,
              "#bd3786"
             ],
             [
              0.5555555555555556,
              "#d8576b"
             ],
             [
              0.6666666666666666,
              "#ed7953"
             ],
             [
              0.7777777777777778,
              "#fb9f3a"
             ],
             [
              0.8888888888888888,
              "#fdca26"
             ],
             [
              1,
              "#f0f921"
             ]
            ],
            "type": "surface"
           }
          ],
          "table": [
           {
            "cells": {
             "fill": {
              "color": "#EBF0F8"
             },
             "line": {
              "color": "white"
             }
            },
            "header": {
             "fill": {
              "color": "#C8D4E3"
             },
             "line": {
              "color": "white"
             }
            },
            "type": "table"
           }
          ]
         },
         "layout": {
          "annotationdefaults": {
           "arrowcolor": "#2a3f5f",
           "arrowhead": 0,
           "arrowwidth": 1
          },
          "autotypenumbers": "strict",
          "coloraxis": {
           "colorbar": {
            "outlinewidth": 0,
            "ticks": ""
           }
          },
          "colorscale": {
           "diverging": [
            [
             0,
             "#8e0152"
            ],
            [
             0.1,
             "#c51b7d"
            ],
            [
             0.2,
             "#de77ae"
            ],
            [
             0.3,
             "#f1b6da"
            ],
            [
             0.4,
             "#fde0ef"
            ],
            [
             0.5,
             "#f7f7f7"
            ],
            [
             0.6,
             "#e6f5d0"
            ],
            [
             0.7,
             "#b8e186"
            ],
            [
             0.8,
             "#7fbc41"
            ],
            [
             0.9,
             "#4d9221"
            ],
            [
             1,
             "#276419"
            ]
           ],
           "sequential": [
            [
             0,
             "#0d0887"
            ],
            [
             0.1111111111111111,
             "#46039f"
            ],
            [
             0.2222222222222222,
             "#7201a8"
            ],
            [
             0.3333333333333333,
             "#9c179e"
            ],
            [
             0.4444444444444444,
             "#bd3786"
            ],
            [
             0.5555555555555556,
             "#d8576b"
            ],
            [
             0.6666666666666666,
             "#ed7953"
            ],
            [
             0.7777777777777778,
             "#fb9f3a"
            ],
            [
             0.8888888888888888,
             "#fdca26"
            ],
            [
             1,
             "#f0f921"
            ]
           ],
           "sequentialminus": [
            [
             0,
             "#0d0887"
            ],
            [
             0.1111111111111111,
             "#46039f"
            ],
            [
             0.2222222222222222,
             "#7201a8"
            ],
            [
             0.3333333333333333,
             "#9c179e"
            ],
            [
             0.4444444444444444,
             "#bd3786"
            ],
            [
             0.5555555555555556,
             "#d8576b"
            ],
            [
             0.6666666666666666,
             "#ed7953"
            ],
            [
             0.7777777777777778,
             "#fb9f3a"
            ],
            [
             0.8888888888888888,
             "#fdca26"
            ],
            [
             1,
             "#f0f921"
            ]
           ]
          },
          "colorway": [
           "#636efa",
           "#EF553B",
           "#00cc96",
           "#ab63fa",
           "#FFA15A",
           "#19d3f3",
           "#FF6692",
           "#B6E880",
           "#FF97FF",
           "#FECB52"
          ],
          "font": {
           "color": "#2a3f5f"
          },
          "geo": {
           "bgcolor": "white",
           "lakecolor": "white",
           "landcolor": "#E5ECF6",
           "showlakes": true,
           "showland": true,
           "subunitcolor": "white"
          },
          "hoverlabel": {
           "align": "left"
          },
          "hovermode": "closest",
          "mapbox": {
           "style": "light"
          },
          "paper_bgcolor": "white",
          "plot_bgcolor": "#E5ECF6",
          "polar": {
           "angularaxis": {
            "gridcolor": "white",
            "linecolor": "white",
            "ticks": ""
           },
           "bgcolor": "#E5ECF6",
           "radialaxis": {
            "gridcolor": "white",
            "linecolor": "white",
            "ticks": ""
           }
          },
          "scene": {
           "xaxis": {
            "backgroundcolor": "#E5ECF6",
            "gridcolor": "white",
            "gridwidth": 2,
            "linecolor": "white",
            "showbackground": true,
            "ticks": "",
            "zerolinecolor": "white"
           },
           "yaxis": {
            "backgroundcolor": "#E5ECF6",
            "gridcolor": "white",
            "gridwidth": 2,
            "linecolor": "white",
            "showbackground": true,
            "ticks": "",
            "zerolinecolor": "white"
           },
           "zaxis": {
            "backgroundcolor": "#E5ECF6",
            "gridcolor": "white",
            "gridwidth": 2,
            "linecolor": "white",
            "showbackground": true,
            "ticks": "",
            "zerolinecolor": "white"
           }
          },
          "shapedefaults": {
           "line": {
            "color": "#2a3f5f"
           }
          },
          "ternary": {
           "aaxis": {
            "gridcolor": "white",
            "linecolor": "white",
            "ticks": ""
           },
           "baxis": {
            "gridcolor": "white",
            "linecolor": "white",
            "ticks": ""
           },
           "bgcolor": "#E5ECF6",
           "caxis": {
            "gridcolor": "white",
            "linecolor": "white",
            "ticks": ""
           }
          },
          "title": {
           "x": 0.05
          },
          "xaxis": {
           "automargin": true,
           "gridcolor": "white",
           "linecolor": "white",
           "ticks": "",
           "title": {
            "standoff": 15
           },
           "zerolinecolor": "white",
           "zerolinewidth": 2
          },
          "yaxis": {
           "automargin": true,
           "gridcolor": "white",
           "linecolor": "white",
           "ticks": "",
           "title": {
            "standoff": 15
           },
           "zerolinecolor": "white",
           "zerolinewidth": 2
          }
         }
        },
        "title": {
         "text": "TSNE Perplexity: 100"
        },
        "xaxis": {
         "anchor": "y",
         "domain": [
          0,
          1
         ],
         "title": {
          "text": "PC 0"
         }
        },
        "yaxis": {
         "anchor": "x",
         "domain": [
          0,
          1
         ],
         "title": {
          "text": "PC 1"
         }
        }
       }
      }
     },
     "metadata": {},
     "output_type": "display_data"
    }
   ],
   "source": [
    "from sklearn.manifold import TSNE\n",
    "import pandas as pd\n",
    " \n",
    "perps = [5, 10, 20, 50, 100]\n",
    "\n",
    "for perp in perps:\n",
    "    # Try with 3 embeddings so we can visualize it \n",
    "    tsne = TSNE(2, perplexity=perp)\n",
    "    tsne_result = tsne.fit_transform(X)\n",
    "    tsne_result.shape\n",
    "\n",
    "    fig = px.scatter(tsne_result, x=0, y=1, color=y, title=f'TSNE Perplexity: {perp}', labels={'0': 'PC 0', '1': 'PC 1'})\n",
    "    fig.show()\n",
    "\n",
    "    # fig = px.scatter_3d(\n",
    "    #     tsne_result, x=0, y=1, z=2, color=y,\n",
    "    #     title=f'TSNE Perplexity: {perp}',\n",
    "    #     labels={'0': 'PC 1', '1': 'PC 2', '2': 'PC 3'}\n",
    "    # )\n",
    "    # fig.show()"
   ]
  },
  {
   "cell_type": "code",
   "execution_count": 14,
   "metadata": {},
   "outputs": [
    {
     "data": {
      "application/vnd.plotly.v1+json": {
       "config": {
        "plotlyServerURL": "https://plot.ly"
       },
       "data": [
        {
         "hovertemplate": "color=ependymoma<br>PC 0=%{x}<br>PC 1=%{y}<extra></extra>",
         "legendgroup": "ependymoma",
         "marker": {
          "color": "#636efa",
          "symbol": "circle"
         },
         "mode": "markers",
         "name": "ependymoma",
         "orientation": "v",
         "showlegend": true,
         "type": "scatter",
         "x": [
          -5.534414291381836,
          0.29629361629486084,
          3.076535701751709,
          -1.2960314750671387,
          0.2439746856689453,
          1.8641830682754517,
          -6.370452880859375,
          0.303777813911438,
          -1.1729168891906738,
          0.4164615571498871,
          2.8322818279266357,
          2.4618630409240723,
          4.458849906921387,
          -1.1799870729446411,
          3.021573066711426,
          2.4546821117401123,
          2.6950902938842773,
          3.0904998779296875,
          -4.63339900970459,
          5.062582969665527,
          -4.66806697845459,
          1.2592048645019531,
          -0.37014293670654297,
          -1.467941403388977,
          0.23707199096679688,
          -13.905325889587402,
          0.6750620007514954,
          -1.6255011558532715,
          0.018701255321502686,
          3.5990488529205322,
          -18.475000381469727,
          3.0277490615844727,
          2.9990601539611816,
          -0.3101625442504883,
          -2.5604095458984375,
          -3.0025932788848877,
          -2.7661099433898926,
          -0.8278894424438477,
          -3.6747939586639404,
          -0.6101236343383789,
          -3.412503957748413,
          -2.0777201652526855,
          12.498529434204102,
          5.265687465667725,
          -10.404726028442383,
          6.505953788757324
         ],
         "xaxis": "x",
         "y": [
          -0.8165578842163086,
          -2.8245387077331543,
          -5.243509769439697,
          1.4988396167755127,
          -1.607863187789917,
          -1.0311000347137451,
          -16.636980056762695,
          -6.812624931335449,
          -2.289236068725586,
          -2.569916248321533,
          3.421996593475342,
          -0.31395256519317627,
          -3.437528610229492,
          3.0496859550476074,
          -4.6864118576049805,
          -0.9327094554901123,
          -3.382223129272461,
          -3.108910083770752,
          4.327670574188232,
          -6.40866756439209,
          -4.6386823654174805,
          -3.5126101970672607,
          -0.8093032836914062,
          -2.856649398803711,
          -4.868623733520508,
          -3.2950387001037598,
          -8.554529190063477,
          -1.2703495025634766,
          1.2199848890304565,
          12.085139274597168,
          1.1842436790466309,
          -2.640096426010132,
          -5.158178329467773,
          2.7811012268066406,
          -1.2679402828216553,
          2.976505756378174,
          1.0057026147842407,
          3.7455992698669434,
          -1.84318208694458,
          2.204477310180664,
          1.1267904043197632,
          3.0796451568603516,
          4.023173809051514,
          0.3096400499343872,
          -7.878602981567383,
          12.054256439208984
         ],
         "yaxis": "y"
        },
        {
         "hovertemplate": "color=glioblastoma<br>PC 0=%{x}<br>PC 1=%{y}<extra></extra>",
         "legendgroup": "glioblastoma",
         "marker": {
          "color": "#EF553B",
          "symbol": "circle"
         },
         "mode": "markers",
         "name": "glioblastoma",
         "orientation": "v",
         "showlegend": true,
         "type": "scatter",
         "x": [
          2.185285806655884,
          0.8462672233581543,
          -6.316117286682129,
          -1.4718914031982422,
          -4.07561731338501,
          1.3351765871047974,
          1.6962692737579346,
          1.0098447799682617,
          0.3493375778198242,
          4.158607482910156,
          -6.12637186050415,
          1.03004789352417,
          4.186519622802734,
          2.5078094005584717,
          1.2926315069198608,
          -1.5545523166656494,
          -4.6281232833862305,
          -4.866436004638672,
          -0.8246761560440063,
          -2.8408021926879883,
          -1.7370651960372925,
          1.2841103076934814,
          1.7937798500061035,
          2.0182647705078125,
          0.36735498905181885,
          7.218460559844971,
          2.9688143730163574,
          -21.00649070739746,
          -3.1034955978393555,
          -6.428285598754883,
          -4.516521453857422,
          0.773390531539917,
          -4.717717170715332,
          -4.352355480194092
         ],
         "xaxis": "x",
         "y": [
          -2.8542208671569824,
          -8.694905281066895,
          1.428970217704773,
          2.9534618854522705,
          2.7408056259155273,
          -0.9650833606719971,
          -3.598870277404785,
          -2.8875951766967773,
          1.290395736694336,
          -3.736090660095215,
          -2.9844274520874023,
          -2.647706985473633,
          -2.6357293128967285,
          -5.350417137145996,
          -3.8156814575195312,
          -0.21297812461853027,
          2.0946044921875,
          2.456235885620117,
          -1.5402770042419434,
          3.167882204055786,
          -10.214641571044922,
          -3.0452041625976562,
          -3.5813183784484863,
          -6.09393310546875,
          2.6029059886932373,
          -5.657753944396973,
          -4.8715643882751465,
          -3.594696521759033,
          -1.5785717964172363,
          1.0963516235351562,
          -6.59005069732666,
          2.2706458568573,
          -0.019292205572128296,
          0.8883063793182373
         ],
         "yaxis": "y"
        },
        {
         "hovertemplate": "color=medulloblastoma<br>PC 0=%{x}<br>PC 1=%{y}<extra></extra>",
         "legendgroup": "medulloblastoma",
         "marker": {
          "color": "#00cc96",
          "symbol": "circle"
         },
         "mode": "markers",
         "name": "medulloblastoma",
         "orientation": "v",
         "showlegend": true,
         "type": "scatter",
         "x": [
          -0.8404309749603271,
          7.026584148406982,
          3.331862449645996,
          7.0609612464904785,
          1.6549971103668213,
          -0.5133239030838013,
          -9.429994583129883,
          -1.0886101722717285,
          2.210054874420166,
          -5.781431198120117,
          3.77321195602417,
          1.100360631942749,
          12.69542407989502,
          -1.9575421810150146,
          -5.764936447143555,
          -0.042938232421875,
          2.864476203918457,
          -0.9107753038406372,
          -1.1453951597213745,
          6.801096439361572,
          -3.830770969390869,
          0.058647871017456055
         ],
         "xaxis": "x",
         "y": [
          -0.31290769577026367,
          -6.786640167236328,
          -3.3074841499328613,
          -5.109013557434082,
          0.76385498046875,
          -1.6164133548736572,
          -6.978763580322266,
          -2.2707581520080566,
          -2.24723482131958,
          1.4614074230194092,
          1.0057339668273926,
          -5.84326696395874,
          4.2412590980529785,
          5.152259826660156,
          0.5333542823791504,
          -1.4203612804412842,
          -0.38529348373413086,
          1.950374960899353,
          1.3738044500350952,
          3.1901798248291016,
          3.374830722808838,
          0.9693858027458191
         ],
         "yaxis": "y"
        },
        {
         "hovertemplate": "color=normal<br>PC 0=%{x}<br>PC 1=%{y}<extra></extra>",
         "legendgroup": "normal",
         "marker": {
          "color": "#ab63fa",
          "symbol": "circle"
         },
         "mode": "markers",
         "name": "normal",
         "orientation": "v",
         "showlegend": true,
         "type": "scatter",
         "x": [
          -2.941667318344116,
          0.87441486120224,
          -2.1626458168029785,
          -1.177649974822998,
          -0.8582342863082886,
          0.8991498947143555,
          -1.835564136505127,
          2.527557134628296,
          4.2134575843811035,
          -0.7326570153236389,
          -1.6661293506622314,
          -3.7505064010620117,
          3.523087978363037
         ],
         "xaxis": "x",
         "y": [
          -0.11652256548404694,
          -4.477325439453125,
          0.7107187509536743,
          -0.1623845398426056,
          3.414430618286133,
          -0.9110440015792847,
          10.543439865112305,
          -3.3876824378967285,
          0.5616811513900757,
          -1.7664072513580322,
          0.5730154514312744,
          1.4149103164672852,
          -3.9602508544921875
         ],
         "yaxis": "y"
        },
        {
         "hovertemplate": "color=pilocytic_astrocytoma<br>PC 0=%{x}<br>PC 1=%{y}<extra></extra>",
         "legendgroup": "pilocytic_astrocytoma",
         "marker": {
          "color": "#FFA15A",
          "symbol": "circle"
         },
         "mode": "markers",
         "name": "pilocytic_astrocytoma",
         "orientation": "v",
         "showlegend": true,
         "type": "scatter",
         "x": [
          1.6512418985366821,
          1.701822280883789,
          0.7881258726119995,
          2.7570505142211914,
          3.1971852779388428,
          2.201510190963745,
          3.060678482055664,
          7.607193946838379,
          -3.3599677085876465,
          5.950654029846191,
          -3.285151720046997,
          -1.3703243732452393,
          -1.3375072479248047,
          -6.921119689941406,
          -3.226137399673462
         ],
         "xaxis": "x",
         "y": [
          -1.5232834815979004,
          -4.726414680480957,
          -17.718093872070312,
          -3.6932761669158936,
          -6.25793981552124,
          1.6658086776733398,
          -3.6554744243621826,
          -0.13870453834533691,
          0.9890697598457336,
          -25.903026580810547,
          3.5078978538513184,
          -3.396411180496216,
          1.0962541103363037,
          3.9295716285705566,
          1.8669215440750122
         ],
         "yaxis": "y"
        }
       ],
       "layout": {
        "legend": {
         "title": {
          "text": "color"
         },
         "tracegroupgap": 0
        },
        "template": {
         "data": {
          "bar": [
           {
            "error_x": {
             "color": "#2a3f5f"
            },
            "error_y": {
             "color": "#2a3f5f"
            },
            "marker": {
             "line": {
              "color": "#E5ECF6",
              "width": 0.5
             },
             "pattern": {
              "fillmode": "overlay",
              "size": 10,
              "solidity": 0.2
             }
            },
            "type": "bar"
           }
          ],
          "barpolar": [
           {
            "marker": {
             "line": {
              "color": "#E5ECF6",
              "width": 0.5
             },
             "pattern": {
              "fillmode": "overlay",
              "size": 10,
              "solidity": 0.2
             }
            },
            "type": "barpolar"
           }
          ],
          "carpet": [
           {
            "aaxis": {
             "endlinecolor": "#2a3f5f",
             "gridcolor": "white",
             "linecolor": "white",
             "minorgridcolor": "white",
             "startlinecolor": "#2a3f5f"
            },
            "baxis": {
             "endlinecolor": "#2a3f5f",
             "gridcolor": "white",
             "linecolor": "white",
             "minorgridcolor": "white",
             "startlinecolor": "#2a3f5f"
            },
            "type": "carpet"
           }
          ],
          "choropleth": [
           {
            "colorbar": {
             "outlinewidth": 0,
             "ticks": ""
            },
            "type": "choropleth"
           }
          ],
          "contour": [
           {
            "colorbar": {
             "outlinewidth": 0,
             "ticks": ""
            },
            "colorscale": [
             [
              0,
              "#0d0887"
             ],
             [
              0.1111111111111111,
              "#46039f"
             ],
             [
              0.2222222222222222,
              "#7201a8"
             ],
             [
              0.3333333333333333,
              "#9c179e"
             ],
             [
              0.4444444444444444,
              "#bd3786"
             ],
             [
              0.5555555555555556,
              "#d8576b"
             ],
             [
              0.6666666666666666,
              "#ed7953"
             ],
             [
              0.7777777777777778,
              "#fb9f3a"
             ],
             [
              0.8888888888888888,
              "#fdca26"
             ],
             [
              1,
              "#f0f921"
             ]
            ],
            "type": "contour"
           }
          ],
          "contourcarpet": [
           {
            "colorbar": {
             "outlinewidth": 0,
             "ticks": ""
            },
            "type": "contourcarpet"
           }
          ],
          "heatmap": [
           {
            "colorbar": {
             "outlinewidth": 0,
             "ticks": ""
            },
            "colorscale": [
             [
              0,
              "#0d0887"
             ],
             [
              0.1111111111111111,
              "#46039f"
             ],
             [
              0.2222222222222222,
              "#7201a8"
             ],
             [
              0.3333333333333333,
              "#9c179e"
             ],
             [
              0.4444444444444444,
              "#bd3786"
             ],
             [
              0.5555555555555556,
              "#d8576b"
             ],
             [
              0.6666666666666666,
              "#ed7953"
             ],
             [
              0.7777777777777778,
              "#fb9f3a"
             ],
             [
              0.8888888888888888,
              "#fdca26"
             ],
             [
              1,
              "#f0f921"
             ]
            ],
            "type": "heatmap"
           }
          ],
          "heatmapgl": [
           {
            "colorbar": {
             "outlinewidth": 0,
             "ticks": ""
            },
            "colorscale": [
             [
              0,
              "#0d0887"
             ],
             [
              0.1111111111111111,
              "#46039f"
             ],
             [
              0.2222222222222222,
              "#7201a8"
             ],
             [
              0.3333333333333333,
              "#9c179e"
             ],
             [
              0.4444444444444444,
              "#bd3786"
             ],
             [
              0.5555555555555556,
              "#d8576b"
             ],
             [
              0.6666666666666666,
              "#ed7953"
             ],
             [
              0.7777777777777778,
              "#fb9f3a"
             ],
             [
              0.8888888888888888,
              "#fdca26"
             ],
             [
              1,
              "#f0f921"
             ]
            ],
            "type": "heatmapgl"
           }
          ],
          "histogram": [
           {
            "marker": {
             "pattern": {
              "fillmode": "overlay",
              "size": 10,
              "solidity": 0.2
             }
            },
            "type": "histogram"
           }
          ],
          "histogram2d": [
           {
            "colorbar": {
             "outlinewidth": 0,
             "ticks": ""
            },
            "colorscale": [
             [
              0,
              "#0d0887"
             ],
             [
              0.1111111111111111,
              "#46039f"
             ],
             [
              0.2222222222222222,
              "#7201a8"
             ],
             [
              0.3333333333333333,
              "#9c179e"
             ],
             [
              0.4444444444444444,
              "#bd3786"
             ],
             [
              0.5555555555555556,
              "#d8576b"
             ],
             [
              0.6666666666666666,
              "#ed7953"
             ],
             [
              0.7777777777777778,
              "#fb9f3a"
             ],
             [
              0.8888888888888888,
              "#fdca26"
             ],
             [
              1,
              "#f0f921"
             ]
            ],
            "type": "histogram2d"
           }
          ],
          "histogram2dcontour": [
           {
            "colorbar": {
             "outlinewidth": 0,
             "ticks": ""
            },
            "colorscale": [
             [
              0,
              "#0d0887"
             ],
             [
              0.1111111111111111,
              "#46039f"
             ],
             [
              0.2222222222222222,
              "#7201a8"
             ],
             [
              0.3333333333333333,
              "#9c179e"
             ],
             [
              0.4444444444444444,
              "#bd3786"
             ],
             [
              0.5555555555555556,
              "#d8576b"
             ],
             [
              0.6666666666666666,
              "#ed7953"
             ],
             [
              0.7777777777777778,
              "#fb9f3a"
             ],
             [
              0.8888888888888888,
              "#fdca26"
             ],
             [
              1,
              "#f0f921"
             ]
            ],
            "type": "histogram2dcontour"
           }
          ],
          "mesh3d": [
           {
            "colorbar": {
             "outlinewidth": 0,
             "ticks": ""
            },
            "type": "mesh3d"
           }
          ],
          "parcoords": [
           {
            "line": {
             "colorbar": {
              "outlinewidth": 0,
              "ticks": ""
             }
            },
            "type": "parcoords"
           }
          ],
          "pie": [
           {
            "automargin": true,
            "type": "pie"
           }
          ],
          "scatter": [
           {
            "marker": {
             "colorbar": {
              "outlinewidth": 0,
              "ticks": ""
             }
            },
            "type": "scatter"
           }
          ],
          "scatter3d": [
           {
            "line": {
             "colorbar": {
              "outlinewidth": 0,
              "ticks": ""
             }
            },
            "marker": {
             "colorbar": {
              "outlinewidth": 0,
              "ticks": ""
             }
            },
            "type": "scatter3d"
           }
          ],
          "scattercarpet": [
           {
            "marker": {
             "colorbar": {
              "outlinewidth": 0,
              "ticks": ""
             }
            },
            "type": "scattercarpet"
           }
          ],
          "scattergeo": [
           {
            "marker": {
             "colorbar": {
              "outlinewidth": 0,
              "ticks": ""
             }
            },
            "type": "scattergeo"
           }
          ],
          "scattergl": [
           {
            "marker": {
             "colorbar": {
              "outlinewidth": 0,
              "ticks": ""
             }
            },
            "type": "scattergl"
           }
          ],
          "scattermapbox": [
           {
            "marker": {
             "colorbar": {
              "outlinewidth": 0,
              "ticks": ""
             }
            },
            "type": "scattermapbox"
           }
          ],
          "scatterpolar": [
           {
            "marker": {
             "colorbar": {
              "outlinewidth": 0,
              "ticks": ""
             }
            },
            "type": "scatterpolar"
           }
          ],
          "scatterpolargl": [
           {
            "marker": {
             "colorbar": {
              "outlinewidth": 0,
              "ticks": ""
             }
            },
            "type": "scatterpolargl"
           }
          ],
          "scatterternary": [
           {
            "marker": {
             "colorbar": {
              "outlinewidth": 0,
              "ticks": ""
             }
            },
            "type": "scatterternary"
           }
          ],
          "surface": [
           {
            "colorbar": {
             "outlinewidth": 0,
             "ticks": ""
            },
            "colorscale": [
             [
              0,
              "#0d0887"
             ],
             [
              0.1111111111111111,
              "#46039f"
             ],
             [
              0.2222222222222222,
              "#7201a8"
             ],
             [
              0.3333333333333333,
              "#9c179e"
             ],
             [
              0.4444444444444444,
              "#bd3786"
             ],
             [
              0.5555555555555556,
              "#d8576b"
             ],
             [
              0.6666666666666666,
              "#ed7953"
             ],
             [
              0.7777777777777778,
              "#fb9f3a"
             ],
             [
              0.8888888888888888,
              "#fdca26"
             ],
             [
              1,
              "#f0f921"
             ]
            ],
            "type": "surface"
           }
          ],
          "table": [
           {
            "cells": {
             "fill": {
              "color": "#EBF0F8"
             },
             "line": {
              "color": "white"
             }
            },
            "header": {
             "fill": {
              "color": "#C8D4E3"
             },
             "line": {
              "color": "white"
             }
            },
            "type": "table"
           }
          ]
         },
         "layout": {
          "annotationdefaults": {
           "arrowcolor": "#2a3f5f",
           "arrowhead": 0,
           "arrowwidth": 1
          },
          "autotypenumbers": "strict",
          "coloraxis": {
           "colorbar": {
            "outlinewidth": 0,
            "ticks": ""
           }
          },
          "colorscale": {
           "diverging": [
            [
             0,
             "#8e0152"
            ],
            [
             0.1,
             "#c51b7d"
            ],
            [
             0.2,
             "#de77ae"
            ],
            [
             0.3,
             "#f1b6da"
            ],
            [
             0.4,
             "#fde0ef"
            ],
            [
             0.5,
             "#f7f7f7"
            ],
            [
             0.6,
             "#e6f5d0"
            ],
            [
             0.7,
             "#b8e186"
            ],
            [
             0.8,
             "#7fbc41"
            ],
            [
             0.9,
             "#4d9221"
            ],
            [
             1,
             "#276419"
            ]
           ],
           "sequential": [
            [
             0,
             "#0d0887"
            ],
            [
             0.1111111111111111,
             "#46039f"
            ],
            [
             0.2222222222222222,
             "#7201a8"
            ],
            [
             0.3333333333333333,
             "#9c179e"
            ],
            [
             0.4444444444444444,
             "#bd3786"
            ],
            [
             0.5555555555555556,
             "#d8576b"
            ],
            [
             0.6666666666666666,
             "#ed7953"
            ],
            [
             0.7777777777777778,
             "#fb9f3a"
            ],
            [
             0.8888888888888888,
             "#fdca26"
            ],
            [
             1,
             "#f0f921"
            ]
           ],
           "sequentialminus": [
            [
             0,
             "#0d0887"
            ],
            [
             0.1111111111111111,
             "#46039f"
            ],
            [
             0.2222222222222222,
             "#7201a8"
            ],
            [
             0.3333333333333333,
             "#9c179e"
            ],
            [
             0.4444444444444444,
             "#bd3786"
            ],
            [
             0.5555555555555556,
             "#d8576b"
            ],
            [
             0.6666666666666666,
             "#ed7953"
            ],
            [
             0.7777777777777778,
             "#fb9f3a"
            ],
            [
             0.8888888888888888,
             "#fdca26"
            ],
            [
             1,
             "#f0f921"
            ]
           ]
          },
          "colorway": [
           "#636efa",
           "#EF553B",
           "#00cc96",
           "#ab63fa",
           "#FFA15A",
           "#19d3f3",
           "#FF6692",
           "#B6E880",
           "#FF97FF",
           "#FECB52"
          ],
          "font": {
           "color": "#2a3f5f"
          },
          "geo": {
           "bgcolor": "white",
           "lakecolor": "white",
           "landcolor": "#E5ECF6",
           "showlakes": true,
           "showland": true,
           "subunitcolor": "white"
          },
          "hoverlabel": {
           "align": "left"
          },
          "hovermode": "closest",
          "mapbox": {
           "style": "light"
          },
          "paper_bgcolor": "white",
          "plot_bgcolor": "#E5ECF6",
          "polar": {
           "angularaxis": {
            "gridcolor": "white",
            "linecolor": "white",
            "ticks": ""
           },
           "bgcolor": "#E5ECF6",
           "radialaxis": {
            "gridcolor": "white",
            "linecolor": "white",
            "ticks": ""
           }
          },
          "scene": {
           "xaxis": {
            "backgroundcolor": "#E5ECF6",
            "gridcolor": "white",
            "gridwidth": 2,
            "linecolor": "white",
            "showbackground": true,
            "ticks": "",
            "zerolinecolor": "white"
           },
           "yaxis": {
            "backgroundcolor": "#E5ECF6",
            "gridcolor": "white",
            "gridwidth": 2,
            "linecolor": "white",
            "showbackground": true,
            "ticks": "",
            "zerolinecolor": "white"
           },
           "zaxis": {
            "backgroundcolor": "#E5ECF6",
            "gridcolor": "white",
            "gridwidth": 2,
            "linecolor": "white",
            "showbackground": true,
            "ticks": "",
            "zerolinecolor": "white"
           }
          },
          "shapedefaults": {
           "line": {
            "color": "#2a3f5f"
           }
          },
          "ternary": {
           "aaxis": {
            "gridcolor": "white",
            "linecolor": "white",
            "ticks": ""
           },
           "baxis": {
            "gridcolor": "white",
            "linecolor": "white",
            "ticks": ""
           },
           "bgcolor": "#E5ECF6",
           "caxis": {
            "gridcolor": "white",
            "linecolor": "white",
            "ticks": ""
           }
          },
          "title": {
           "x": 0.05
          },
          "xaxis": {
           "automargin": true,
           "gridcolor": "white",
           "linecolor": "white",
           "ticks": "",
           "title": {
            "standoff": 15
           },
           "zerolinecolor": "white",
           "zerolinewidth": 2
          },
          "yaxis": {
           "automargin": true,
           "gridcolor": "white",
           "linecolor": "white",
           "ticks": "",
           "title": {
            "standoff": 15
           },
           "zerolinecolor": "white",
           "zerolinewidth": 2
          }
         }
        },
        "title": {
         "text": "TSNE N_iterations: 250"
        },
        "xaxis": {
         "anchor": "y",
         "domain": [
          0,
          1
         ],
         "title": {
          "text": "PC 0"
         }
        },
        "yaxis": {
         "anchor": "x",
         "domain": [
          0,
          1
         ],
         "title": {
          "text": "PC 1"
         }
        }
       }
      }
     },
     "metadata": {},
     "output_type": "display_data"
    },
    {
     "data": {
      "application/vnd.plotly.v1+json": {
       "config": {
        "plotlyServerURL": "https://plot.ly"
       },
       "data": [
        {
         "hovertemplate": "color=ependymoma<br>PC 0=%{x}<br>PC 1=%{y}<extra></extra>",
         "legendgroup": "ependymoma",
         "marker": {
          "color": "#636efa",
          "symbol": "circle"
         },
         "mode": "markers",
         "name": "ependymoma",
         "orientation": "v",
         "showlegend": true,
         "type": "scatter",
         "x": [
          10.482122421264648,
          1.1055344343185425,
          3.492612600326538,
          -13.502315521240234,
          -0.2562781274318695,
          6.211136341094971,
          3.3897392749786377,
          7.059114933013916,
          7.8801374435424805,
          7.736841678619385,
          -12.106399536132812,
          7.444463729858398,
          5.364277362823486,
          -17.34235191345215,
          2.750667095184326,
          -18.294912338256836,
          3.041656732559204,
          3.95459246635437,
          -16.948034286499023,
          1.8596031665802002,
          4.2787017822265625,
          0.49085795879364014,
          -16.96354103088379,
          -16.394683837890625,
          4.874402046203613,
          4.369723796844482,
          2.0022101402282715,
          3.7566468715667725,
          -14.541979789733887,
          -14.328814506530762,
          -12.975537300109863,
          2.8383634090423584,
          11.027846336364746,
          -11.708660125732422,
          2.8236262798309326,
          -14.531339645385742,
          -15.324326515197754,
          -13.455846786499023,
          -12.267827987670898,
          -11.172677993774414,
          -12.091560363769531,
          -9.859859466552734,
          -6.198603630065918,
          -11.97999382019043,
          -11.002484321594238,
          -10.623045921325684
         ],
         "xaxis": "x",
         "y": [
          -19.513412475585938,
          -18.932384490966797,
          -13.8104248046875,
          12.974102973937988,
          -17.310588836669922,
          -18.865257263183594,
          -20.89527702331543,
          -19.668237686157227,
          -18.937070846557617,
          -18.150554656982422,
          16.94516944885254,
          -21.546436309814453,
          -19.695568084716797,
          7.0109477043151855,
          -16.80687713623047,
          9.768569946289062,
          -21.117507934570312,
          -15.700278282165527,
          9.255586624145508,
          -16.63080406188965,
          -14.421939849853516,
          -14.751154899597168,
          7.85743522644043,
          9.498252868652344,
          -15.394713401794434,
          -17.204544067382812,
          -14.41408634185791,
          -17.86777114868164,
          9.359284400939941,
          14.35521411895752,
          14.633889198303223,
          -19.13559913635254,
          -19.497697830200195,
          13.622785568237305,
          -15.105087280273438,
          15.587081909179688,
          17.454668045043945,
          15.605345726013184,
          15.43186092376709,
          15.450215339660645,
          11.399099349975586,
          16.16208267211914,
          12.944741249084473,
          12.130270004272461,
          19.910306930541992,
          20.13200569152832
         ],
         "yaxis": "y"
        },
        {
         "hovertemplate": "color=glioblastoma<br>PC 0=%{x}<br>PC 1=%{y}<extra></extra>",
         "legendgroup": "glioblastoma",
         "marker": {
          "color": "#EF553B",
          "symbol": "circle"
         },
         "mode": "markers",
         "name": "glioblastoma",
         "orientation": "v",
         "showlegend": true,
         "type": "scatter",
         "x": [
          10.574039459228516,
          4.039244174957275,
          -4.981407165527344,
          -7.223816394805908,
          -7.700319290161133,
          7.569082736968994,
          4.469644546508789,
          8.003345489501953,
          1.69894278049469,
          1.9944576025009155,
          4.763680934906006,
          12.49694538116455,
          4.345937728881836,
          3.267059803009033,
          7.750536918640137,
          -16.56821060180664,
          -2.9861550331115723,
          -9.305229187011719,
          -2.2517952919006348,
          -2.1884729862213135,
          11.435770988464355,
          10.309884071350098,
          12.004006385803223,
          8.212446212768555,
          -7.906311988830566,
          9.593658447265625,
          9.340043067932129,
          -7.796379089355469,
          -2.1283037662506104,
          -4.523401737213135,
          -6.757094383239746,
          -9.139848709106445,
          -7.756180763244629,
          -7.840170383453369
         ],
         "xaxis": "x",
         "y": [
          -10.555798530578613,
          -7.328671455383301,
          15.631637573242188,
          16.38741683959961,
          14.719500541687012,
          -13.534539222717285,
          -10.40440559387207,
          -15.405210494995117,
          -10.319985389709473,
          -11.36483383178711,
          -11.886454582214355,
          -14.07280158996582,
          -8.005208969116211,
          -8.869977951049805,
          -5.838067054748535,
          10.859575271606445,
          12.077934265136719,
          10.903528213500977,
          13.121511459350586,
          13.636445999145508,
          -14.70909309387207,
          -12.885947227478027,
          -16.13470458984375,
          -10.108713150024414,
          7.717959880828857,
          -6.763971328735352,
          -6.919624328613281,
          9.590017318725586,
          7.512801647186279,
          9.309250831604004,
          8.30051040649414,
          8.637794494628906,
          8.769193649291992,
          12.598949432373047
         ],
         "yaxis": "y"
        },
        {
         "hovertemplate": "color=medulloblastoma<br>PC 0=%{x}<br>PC 1=%{y}<extra></extra>",
         "legendgroup": "medulloblastoma",
         "marker": {
          "color": "#00cc96",
          "symbol": "circle"
         },
         "mode": "markers",
         "name": "medulloblastoma",
         "orientation": "v",
         "showlegend": true,
         "type": "scatter",
         "x": [
          -12.42263126373291,
          -4.531560897827148,
          -3.6649045944213867,
          -0.7548093795776367,
          -4.298235893249512,
          -9.73018741607666,
          -1.1249868869781494,
          -4.817257881164551,
          -5.331374168395996,
          -9.620735168457031,
          -1.511075496673584,
          -0.8552183508872986,
          -9.21925163269043,
          -8.780135154724121,
          -8.055981636047363,
          -5.999600410461426,
          -10.152320861816406,
          -8.8942289352417,
          -10.616552352905273,
          -9.679262161254883,
          -10.903633117675781,
          -13.231036186218262
         ],
         "xaxis": "x",
         "y": [
          1.1351641416549683,
          -9.220733642578125,
          -10.293235778808594,
          -7.162818908691406,
          -10.662270545959473,
          -0.9421947598457336,
          -7.768747329711914,
          -10.447671890258789,
          -7.427204608917236,
          13.020039558410645,
          -8.895342826843262,
          -10.191570281982422,
          0.20374393463134766,
          3.75679349899292,
          0.100025475025177,
          -6.4130659103393555,
          2.261270523071289,
          2.111783981323242,
          3.60740327835083,
          3.0894858837127686,
          1.183897614479065,
          6.623688697814941
         ],
         "yaxis": "y"
        },
        {
         "hovertemplate": "color=normal<br>PC 0=%{x}<br>PC 1=%{y}<extra></extra>",
         "legendgroup": "normal",
         "marker": {
          "color": "#ab63fa",
          "symbol": "circle"
         },
         "mode": "markers",
         "name": "normal",
         "orientation": "v",
         "showlegend": true,
         "type": "scatter",
         "x": [
          -1.7609208822250366,
          4.902649402618408,
          1.2660205364227295,
          3.7046923637390137,
          -0.16293765604496002,
          0.9635210633277893,
          0.7828480005264282,
          5.355876445770264,
          -1.9517314434051514,
          2.4395556449890137,
          -1.1484501361846924,
          -0.5287483334541321,
          2.814445734024048
         ],
         "xaxis": "x",
         "y": [
          3.223445415496826,
          -0.7947568893432617,
          8.36098861694336,
          6.248484134674072,
          6.654624938964844,
          5.406186580657959,
          6.224008560180664,
          -1.7476407289505005,
          4.4011406898498535,
          3.6624057292938232,
          5.989879131317139,
          5.66319465637207,
          4.037031173706055
         ],
         "yaxis": "y"
        },
        {
         "hovertemplate": "color=pilocytic_astrocytoma<br>PC 0=%{x}<br>PC 1=%{y}<extra></extra>",
         "legendgroup": "pilocytic_astrocytoma",
         "marker": {
          "color": "#FFA15A",
          "symbol": "circle"
         },
         "mode": "markers",
         "name": "pilocytic_astrocytoma",
         "orientation": "v",
         "showlegend": true,
         "type": "scatter",
         "x": [
          6.407022476196289,
          8.984345436096191,
          6.466517925262451,
          8.874528884887695,
          11.285238265991211,
          6.474697113037109,
          6.82490348815918,
          -6.499236106872559,
          -5.390278339385986,
          7.684777736663818,
          -7.0501909255981445,
          -13.551969528198242,
          -5.378305912017822,
          -5.320151329040527,
          -5.893974781036377
         ],
         "xaxis": "x",
         "y": [
          -10.742182731628418,
          -11.499008178710938,
          -9.302095413208008,
          -15.981860160827637,
          -17.9589786529541,
          -9.14137077331543,
          -12.12918758392334,
          14.213761329650879,
          14.145397186279297,
          -10.397737503051758,
          11.308723449707031,
          8.412702560424805,
          13.032469749450684,
          12.081027030944824,
          10.860564231872559
         ],
         "yaxis": "y"
        }
       ],
       "layout": {
        "legend": {
         "title": {
          "text": "color"
         },
         "tracegroupgap": 0
        },
        "template": {
         "data": {
          "bar": [
           {
            "error_x": {
             "color": "#2a3f5f"
            },
            "error_y": {
             "color": "#2a3f5f"
            },
            "marker": {
             "line": {
              "color": "#E5ECF6",
              "width": 0.5
             },
             "pattern": {
              "fillmode": "overlay",
              "size": 10,
              "solidity": 0.2
             }
            },
            "type": "bar"
           }
          ],
          "barpolar": [
           {
            "marker": {
             "line": {
              "color": "#E5ECF6",
              "width": 0.5
             },
             "pattern": {
              "fillmode": "overlay",
              "size": 10,
              "solidity": 0.2
             }
            },
            "type": "barpolar"
           }
          ],
          "carpet": [
           {
            "aaxis": {
             "endlinecolor": "#2a3f5f",
             "gridcolor": "white",
             "linecolor": "white",
             "minorgridcolor": "white",
             "startlinecolor": "#2a3f5f"
            },
            "baxis": {
             "endlinecolor": "#2a3f5f",
             "gridcolor": "white",
             "linecolor": "white",
             "minorgridcolor": "white",
             "startlinecolor": "#2a3f5f"
            },
            "type": "carpet"
           }
          ],
          "choropleth": [
           {
            "colorbar": {
             "outlinewidth": 0,
             "ticks": ""
            },
            "type": "choropleth"
           }
          ],
          "contour": [
           {
            "colorbar": {
             "outlinewidth": 0,
             "ticks": ""
            },
            "colorscale": [
             [
              0,
              "#0d0887"
             ],
             [
              0.1111111111111111,
              "#46039f"
             ],
             [
              0.2222222222222222,
              "#7201a8"
             ],
             [
              0.3333333333333333,
              "#9c179e"
             ],
             [
              0.4444444444444444,
              "#bd3786"
             ],
             [
              0.5555555555555556,
              "#d8576b"
             ],
             [
              0.6666666666666666,
              "#ed7953"
             ],
             [
              0.7777777777777778,
              "#fb9f3a"
             ],
             [
              0.8888888888888888,
              "#fdca26"
             ],
             [
              1,
              "#f0f921"
             ]
            ],
            "type": "contour"
           }
          ],
          "contourcarpet": [
           {
            "colorbar": {
             "outlinewidth": 0,
             "ticks": ""
            },
            "type": "contourcarpet"
           }
          ],
          "heatmap": [
           {
            "colorbar": {
             "outlinewidth": 0,
             "ticks": ""
            },
            "colorscale": [
             [
              0,
              "#0d0887"
             ],
             [
              0.1111111111111111,
              "#46039f"
             ],
             [
              0.2222222222222222,
              "#7201a8"
             ],
             [
              0.3333333333333333,
              "#9c179e"
             ],
             [
              0.4444444444444444,
              "#bd3786"
             ],
             [
              0.5555555555555556,
              "#d8576b"
             ],
             [
              0.6666666666666666,
              "#ed7953"
             ],
             [
              0.7777777777777778,
              "#fb9f3a"
             ],
             [
              0.8888888888888888,
              "#fdca26"
             ],
             [
              1,
              "#f0f921"
             ]
            ],
            "type": "heatmap"
           }
          ],
          "heatmapgl": [
           {
            "colorbar": {
             "outlinewidth": 0,
             "ticks": ""
            },
            "colorscale": [
             [
              0,
              "#0d0887"
             ],
             [
              0.1111111111111111,
              "#46039f"
             ],
             [
              0.2222222222222222,
              "#7201a8"
             ],
             [
              0.3333333333333333,
              "#9c179e"
             ],
             [
              0.4444444444444444,
              "#bd3786"
             ],
             [
              0.5555555555555556,
              "#d8576b"
             ],
             [
              0.6666666666666666,
              "#ed7953"
             ],
             [
              0.7777777777777778,
              "#fb9f3a"
             ],
             [
              0.8888888888888888,
              "#fdca26"
             ],
             [
              1,
              "#f0f921"
             ]
            ],
            "type": "heatmapgl"
           }
          ],
          "histogram": [
           {
            "marker": {
             "pattern": {
              "fillmode": "overlay",
              "size": 10,
              "solidity": 0.2
             }
            },
            "type": "histogram"
           }
          ],
          "histogram2d": [
           {
            "colorbar": {
             "outlinewidth": 0,
             "ticks": ""
            },
            "colorscale": [
             [
              0,
              "#0d0887"
             ],
             [
              0.1111111111111111,
              "#46039f"
             ],
             [
              0.2222222222222222,
              "#7201a8"
             ],
             [
              0.3333333333333333,
              "#9c179e"
             ],
             [
              0.4444444444444444,
              "#bd3786"
             ],
             [
              0.5555555555555556,
              "#d8576b"
             ],
             [
              0.6666666666666666,
              "#ed7953"
             ],
             [
              0.7777777777777778,
              "#fb9f3a"
             ],
             [
              0.8888888888888888,
              "#fdca26"
             ],
             [
              1,
              "#f0f921"
             ]
            ],
            "type": "histogram2d"
           }
          ],
          "histogram2dcontour": [
           {
            "colorbar": {
             "outlinewidth": 0,
             "ticks": ""
            },
            "colorscale": [
             [
              0,
              "#0d0887"
             ],
             [
              0.1111111111111111,
              "#46039f"
             ],
             [
              0.2222222222222222,
              "#7201a8"
             ],
             [
              0.3333333333333333,
              "#9c179e"
             ],
             [
              0.4444444444444444,
              "#bd3786"
             ],
             [
              0.5555555555555556,
              "#d8576b"
             ],
             [
              0.6666666666666666,
              "#ed7953"
             ],
             [
              0.7777777777777778,
              "#fb9f3a"
             ],
             [
              0.8888888888888888,
              "#fdca26"
             ],
             [
              1,
              "#f0f921"
             ]
            ],
            "type": "histogram2dcontour"
           }
          ],
          "mesh3d": [
           {
            "colorbar": {
             "outlinewidth": 0,
             "ticks": ""
            },
            "type": "mesh3d"
           }
          ],
          "parcoords": [
           {
            "line": {
             "colorbar": {
              "outlinewidth": 0,
              "ticks": ""
             }
            },
            "type": "parcoords"
           }
          ],
          "pie": [
           {
            "automargin": true,
            "type": "pie"
           }
          ],
          "scatter": [
           {
            "marker": {
             "colorbar": {
              "outlinewidth": 0,
              "ticks": ""
             }
            },
            "type": "scatter"
           }
          ],
          "scatter3d": [
           {
            "line": {
             "colorbar": {
              "outlinewidth": 0,
              "ticks": ""
             }
            },
            "marker": {
             "colorbar": {
              "outlinewidth": 0,
              "ticks": ""
             }
            },
            "type": "scatter3d"
           }
          ],
          "scattercarpet": [
           {
            "marker": {
             "colorbar": {
              "outlinewidth": 0,
              "ticks": ""
             }
            },
            "type": "scattercarpet"
           }
          ],
          "scattergeo": [
           {
            "marker": {
             "colorbar": {
              "outlinewidth": 0,
              "ticks": ""
             }
            },
            "type": "scattergeo"
           }
          ],
          "scattergl": [
           {
            "marker": {
             "colorbar": {
              "outlinewidth": 0,
              "ticks": ""
             }
            },
            "type": "scattergl"
           }
          ],
          "scattermapbox": [
           {
            "marker": {
             "colorbar": {
              "outlinewidth": 0,
              "ticks": ""
             }
            },
            "type": "scattermapbox"
           }
          ],
          "scatterpolar": [
           {
            "marker": {
             "colorbar": {
              "outlinewidth": 0,
              "ticks": ""
             }
            },
            "type": "scatterpolar"
           }
          ],
          "scatterpolargl": [
           {
            "marker": {
             "colorbar": {
              "outlinewidth": 0,
              "ticks": ""
             }
            },
            "type": "scatterpolargl"
           }
          ],
          "scatterternary": [
           {
            "marker": {
             "colorbar": {
              "outlinewidth": 0,
              "ticks": ""
             }
            },
            "type": "scatterternary"
           }
          ],
          "surface": [
           {
            "colorbar": {
             "outlinewidth": 0,
             "ticks": ""
            },
            "colorscale": [
             [
              0,
              "#0d0887"
             ],
             [
              0.1111111111111111,
              "#46039f"
             ],
             [
              0.2222222222222222,
              "#7201a8"
             ],
             [
              0.3333333333333333,
              "#9c179e"
             ],
             [
              0.4444444444444444,
              "#bd3786"
             ],
             [
              0.5555555555555556,
              "#d8576b"
             ],
             [
              0.6666666666666666,
              "#ed7953"
             ],
             [
              0.7777777777777778,
              "#fb9f3a"
             ],
             [
              0.8888888888888888,
              "#fdca26"
             ],
             [
              1,
              "#f0f921"
             ]
            ],
            "type": "surface"
           }
          ],
          "table": [
           {
            "cells": {
             "fill": {
              "color": "#EBF0F8"
             },
             "line": {
              "color": "white"
             }
            },
            "header": {
             "fill": {
              "color": "#C8D4E3"
             },
             "line": {
              "color": "white"
             }
            },
            "type": "table"
           }
          ]
         },
         "layout": {
          "annotationdefaults": {
           "arrowcolor": "#2a3f5f",
           "arrowhead": 0,
           "arrowwidth": 1
          },
          "autotypenumbers": "strict",
          "coloraxis": {
           "colorbar": {
            "outlinewidth": 0,
            "ticks": ""
           }
          },
          "colorscale": {
           "diverging": [
            [
             0,
             "#8e0152"
            ],
            [
             0.1,
             "#c51b7d"
            ],
            [
             0.2,
             "#de77ae"
            ],
            [
             0.3,
             "#f1b6da"
            ],
            [
             0.4,
             "#fde0ef"
            ],
            [
             0.5,
             "#f7f7f7"
            ],
            [
             0.6,
             "#e6f5d0"
            ],
            [
             0.7,
             "#b8e186"
            ],
            [
             0.8,
             "#7fbc41"
            ],
            [
             0.9,
             "#4d9221"
            ],
            [
             1,
             "#276419"
            ]
           ],
           "sequential": [
            [
             0,
             "#0d0887"
            ],
            [
             0.1111111111111111,
             "#46039f"
            ],
            [
             0.2222222222222222,
             "#7201a8"
            ],
            [
             0.3333333333333333,
             "#9c179e"
            ],
            [
             0.4444444444444444,
             "#bd3786"
            ],
            [
             0.5555555555555556,
             "#d8576b"
            ],
            [
             0.6666666666666666,
             "#ed7953"
            ],
            [
             0.7777777777777778,
             "#fb9f3a"
            ],
            [
             0.8888888888888888,
             "#fdca26"
            ],
            [
             1,
             "#f0f921"
            ]
           ],
           "sequentialminus": [
            [
             0,
             "#0d0887"
            ],
            [
             0.1111111111111111,
             "#46039f"
            ],
            [
             0.2222222222222222,
             "#7201a8"
            ],
            [
             0.3333333333333333,
             "#9c179e"
            ],
            [
             0.4444444444444444,
             "#bd3786"
            ],
            [
             0.5555555555555556,
             "#d8576b"
            ],
            [
             0.6666666666666666,
             "#ed7953"
            ],
            [
             0.7777777777777778,
             "#fb9f3a"
            ],
            [
             0.8888888888888888,
             "#fdca26"
            ],
            [
             1,
             "#f0f921"
            ]
           ]
          },
          "colorway": [
           "#636efa",
           "#EF553B",
           "#00cc96",
           "#ab63fa",
           "#FFA15A",
           "#19d3f3",
           "#FF6692",
           "#B6E880",
           "#FF97FF",
           "#FECB52"
          ],
          "font": {
           "color": "#2a3f5f"
          },
          "geo": {
           "bgcolor": "white",
           "lakecolor": "white",
           "landcolor": "#E5ECF6",
           "showlakes": true,
           "showland": true,
           "subunitcolor": "white"
          },
          "hoverlabel": {
           "align": "left"
          },
          "hovermode": "closest",
          "mapbox": {
           "style": "light"
          },
          "paper_bgcolor": "white",
          "plot_bgcolor": "#E5ECF6",
          "polar": {
           "angularaxis": {
            "gridcolor": "white",
            "linecolor": "white",
            "ticks": ""
           },
           "bgcolor": "#E5ECF6",
           "radialaxis": {
            "gridcolor": "white",
            "linecolor": "white",
            "ticks": ""
           }
          },
          "scene": {
           "xaxis": {
            "backgroundcolor": "#E5ECF6",
            "gridcolor": "white",
            "gridwidth": 2,
            "linecolor": "white",
            "showbackground": true,
            "ticks": "",
            "zerolinecolor": "white"
           },
           "yaxis": {
            "backgroundcolor": "#E5ECF6",
            "gridcolor": "white",
            "gridwidth": 2,
            "linecolor": "white",
            "showbackground": true,
            "ticks": "",
            "zerolinecolor": "white"
           },
           "zaxis": {
            "backgroundcolor": "#E5ECF6",
            "gridcolor": "white",
            "gridwidth": 2,
            "linecolor": "white",
            "showbackground": true,
            "ticks": "",
            "zerolinecolor": "white"
           }
          },
          "shapedefaults": {
           "line": {
            "color": "#2a3f5f"
           }
          },
          "ternary": {
           "aaxis": {
            "gridcolor": "white",
            "linecolor": "white",
            "ticks": ""
           },
           "baxis": {
            "gridcolor": "white",
            "linecolor": "white",
            "ticks": ""
           },
           "bgcolor": "#E5ECF6",
           "caxis": {
            "gridcolor": "white",
            "linecolor": "white",
            "ticks": ""
           }
          },
          "title": {
           "x": 0.05
          },
          "xaxis": {
           "automargin": true,
           "gridcolor": "white",
           "linecolor": "white",
           "ticks": "",
           "title": {
            "standoff": 15
           },
           "zerolinecolor": "white",
           "zerolinewidth": 2
          },
          "yaxis": {
           "automargin": true,
           "gridcolor": "white",
           "linecolor": "white",
           "ticks": "",
           "title": {
            "standoff": 15
           },
           "zerolinecolor": "white",
           "zerolinewidth": 2
          }
         }
        },
        "title": {
         "text": "TSNE N_iterations: 1000"
        },
        "xaxis": {
         "anchor": "y",
         "domain": [
          0,
          1
         ],
         "title": {
          "text": "PC 0"
         }
        },
        "yaxis": {
         "anchor": "x",
         "domain": [
          0,
          1
         ],
         "title": {
          "text": "PC 1"
         }
        }
       }
      }
     },
     "metadata": {},
     "output_type": "display_data"
    },
    {
     "data": {
      "application/vnd.plotly.v1+json": {
       "config": {
        "plotlyServerURL": "https://plot.ly"
       },
       "data": [
        {
         "hovertemplate": "color=ependymoma<br>PC 0=%{x}<br>PC 1=%{y}<extra></extra>",
         "legendgroup": "ependymoma",
         "marker": {
          "color": "#636efa",
          "symbol": "circle"
         },
         "mode": "markers",
         "name": "ependymoma",
         "orientation": "v",
         "showlegend": true,
         "type": "scatter",
         "x": [
          -12.73267650604248,
          -9.071313858032227,
          -7.301478862762451,
          21.359764099121094,
          -15.477853775024414,
          -13.8674898147583,
          -9.969956398010254,
          -13.248157501220703,
          -13.77974796295166,
          -12.79507827758789,
          19.152517318725586,
          -15.365804672241211,
          -13.89067268371582,
          19.30355453491211,
          -10.421106338500977,
          19.271657943725586,
          -9.550877571105957,
          -9.25417709350586,
          18.14432716369629,
          -11.126798629760742,
          -7.293747901916504,
          -10.224724769592285,
          18.821269989013672,
          17.543807983398438,
          -8.302379608154297,
          -10.839037895202637,
          -8.355533599853516,
          -11.893326759338379,
          16.269254684448242,
          19.98090171813965,
          20.36695671081543,
          -11.176981925964355,
          -12.597731590270996,
          23.152246475219727,
          -8.739770889282227,
          18.687543869018555,
          16.731800079345703,
          18.68399429321289,
          19.496801376342773,
          20.481447219848633,
          23.35874366760254,
          21.671314239501953,
          16.151275634765625,
          22.67232894897461,
          25.3875675201416,
          25.751220703125
         ],
         "xaxis": "x",
         "y": [
          -16.875696182250977,
          -10.117222785949707,
          -8.450475692749023,
          4.048116683959961,
          -12.414717674255371,
          -11.476024627685547,
          -12.364130973815918,
          -12.5487642288208,
          -13.71336555480957,
          -13.785571098327637,
          7.705751419067383,
          -14.453227996826172,
          -10.128633499145508,
          -2.990602970123291,
          -8.139283180236816,
          0.10577724128961563,
          -12.101175308227539,
          -7.308441638946533,
          -0.7604056000709534,
          -7.05644416809082,
          -7.199174880981445,
          -5.129053115844727,
          -2.1546568870544434,
          -0.5272823572158813,
          -7.162928104400635,
          -9.332879066467285,
          -5.685012340545654,
          -8.950925827026367,
          0.7468584179878235,
          4.438480377197266,
          5.686695098876953,
          -10.672261238098145,
          -17.50107765197754,
          6.489490509033203,
          -8.487231254577637,
          4.448627948760986,
          4.8807597160339355,
          5.621704578399658,
          6.483799457550049,
          7.369017601013184,
          4.100852966308594,
          8.789073944091797,
          11.595381736755371,
          4.741212844848633,
          7.323683261871338,
          7.758360862731934
         ],
         "yaxis": "y"
        },
        {
         "hovertemplate": "color=glioblastoma<br>PC 0=%{x}<br>PC 1=%{y}<extra></extra>",
         "legendgroup": "glioblastoma",
         "marker": {
          "color": "#EF553B",
          "symbol": "circle"
         },
         "mode": "markers",
         "name": "glioblastoma",
         "orientation": "v",
         "showlegend": true,
         "type": "scatter",
         "x": [
          0.9759443402290344,
          -2.961353063583374,
          17.782798767089844,
          19.172578811645508,
          19.472023010253906,
          0.04944658279418945,
          -4.800673961639404,
          -8.397494316101074,
          -6.471343994140625,
          -7.072033405303955,
          -5.700935363769531,
          -5.887882709503174,
          -3.020230770111084,
          -4.488744258880615,
          -0.4111814796924591,
          16.596059799194336,
          14.382057189941406,
          21.264432907104492,
          14.684701919555664,
          15.204540252685547,
          -7.299283504486084,
          0.002047460526227951,
          -8.601306915283203,
          -2.493648052215576,
          14.921829223632812,
          -3.664674758911133,
          -3.7645063400268555,
          14.262788772583008,
          9.405210494995117,
          12.193426132202148,
          15.662516593933105,
          13.406830787658691,
          14.517334938049316,
          14.650277137756348
         ],
         "xaxis": "x",
         "y": [
          -9.842902183532715,
          -14.366547584533691,
          13.766093254089355,
          9.978500366210938,
          11.665054321289062,
          -11.879659652709961,
          -11.533421516418457,
          -14.586766242980957,
          -12.509848594665527,
          -13.946685791015625,
          -9.928154945373535,
          -17.31308364868164,
          -13.46811580657959,
          -13.669438362121582,
          -15.214994430541992,
          -1.705105185508728,
          13.984877586364746,
          13.746382713317871,
          15.282681465148926,
          15.624418258666992,
          -17.323610305786133,
          -7.7945661544799805,
          -17.963483810424805,
          -8.197265625,
          5.924773216247559,
          -5.2578301429748535,
          -5.558717250823975,
          7.82404899597168,
          6.860794544219971,
          8.400144577026367,
          7.1070780754089355,
          6.255040645599365,
          6.987911224365234,
          11.506630897521973
         ],
         "yaxis": "y"
        },
        {
         "hovertemplate": "color=medulloblastoma<br>PC 0=%{x}<br>PC 1=%{y}<extra></extra>",
         "legendgroup": "medulloblastoma",
         "marker": {
          "color": "#00cc96",
          "symbol": "circle"
         },
         "mode": "markers",
         "name": "medulloblastoma",
         "orientation": "v",
         "showlegend": true,
         "type": "scatter",
         "x": [
          10.390206336975098,
          -9.663247108459473,
          -11.05157470703125,
          -5.671445846557617,
          -11.1812105178833,
          6.188260555267334,
          -6.375311851501465,
          -10.670516014099121,
          -8.96892261505127,
          12.693397521972656,
          -7.330615043640137,
          -7.28082799911499,
          7.381160259246826,
          7.715377330780029,
          6.903015613555908,
          -8.47656536102295,
          9.534031867980957,
          10.348189353942871,
          9.32576847076416,
          8.590777397155762,
          9.2559175491333,
          13.254563331604004
         ],
         "xaxis": "x",
         "y": [
          18.56700897216797,
          0.8278393149375916,
          1.1224817037582397,
          0.3854973316192627,
          0.32882046699523926,
          15.957599639892578,
          0.03932732343673706,
          -0.06110885739326477,
          2.8275277614593506,
          12.197654724121094,
          -0.7608529329299927,
          -2.338010787963867,
          17.018598556518555,
          14.297205924987793,
          18.04652976989746,
          3.914295196533203,
          15.886764526367188,
          15.505766868591309,
          14.166382789611816,
          15.05487060546875,
          17.414207458496094,
          0.684968888759613
         ],
         "yaxis": "y"
        },
        {
         "hovertemplate": "color=normal<br>PC 0=%{x}<br>PC 1=%{y}<extra></extra>",
         "legendgroup": "normal",
         "marker": {
          "color": "#ab63fa",
          "symbol": "circle"
         },
         "mode": "markers",
         "name": "normal",
         "orientation": "v",
         "showlegend": true,
         "type": "scatter",
         "x": [
          8.357571601867676,
          1.5375661849975586,
          6.0216383934021,
          3.098137855529785,
          6.976229190826416,
          5.733191967010498,
          6.486435890197754,
          1.0742223262786865,
          8.703843116760254,
          4.46975564956665,
          7.988500595092773,
          8.022963523864746,
          4.032660484313965
         ],
         "xaxis": "x",
         "y": [
          2.25899076461792,
          -2.387698173522949,
          7.727989673614502,
          5.442093849182129,
          5.862556457519531,
          5.326574325561523,
          4.769558429718018,
          -3.429446220397949,
          3.490255355834961,
          2.8612377643585205,
          4.9709696769714355,
          5.8201165199279785,
          3.301481246948242
         ],
         "yaxis": "y"
        },
        {
         "hovertemplate": "color=pilocytic_astrocytoma<br>PC 0=%{x}<br>PC 1=%{y}<extra></extra>",
         "legendgroup": "pilocytic_astrocytoma",
         "marker": {
          "color": "#FFA15A",
          "symbol": "circle"
         },
         "mode": "markers",
         "name": "pilocytic_astrocytoma",
         "orientation": "v",
         "showlegend": true,
         "type": "scatter",
         "x": [
          -3.600353479385376,
          -0.9538291096687317,
          -2.4118621349334717,
          -9.42495059967041,
          -10.940245628356934,
          -2.2927112579345703,
          -4.380273342132568,
          17.9758243560791,
          17.13287925720215,
          -2.716503143310547,
          14.240917205810547,
          14.984090805053711,
          17.034202575683594,
          16.44822883605957,
          15.34066104888916
         ],
         "xaxis": "x",
         "y": [
          -9.783821105957031,
          -8.873700141906738,
          -10.678434371948242,
          -14.760316848754883,
          -17.56010627746582,
          -10.800673484802246,
          -8.676658630371094,
          11.791401863098145,
          12.295347213745117,
          -8.723995208740234,
          9.97500991821289,
          1.1674562692642212,
          10.876553535461426,
          10.13992977142334,
          9.462182998657227
         ],
         "yaxis": "y"
        }
       ],
       "layout": {
        "legend": {
         "title": {
          "text": "color"
         },
         "tracegroupgap": 0
        },
        "template": {
         "data": {
          "bar": [
           {
            "error_x": {
             "color": "#2a3f5f"
            },
            "error_y": {
             "color": "#2a3f5f"
            },
            "marker": {
             "line": {
              "color": "#E5ECF6",
              "width": 0.5
             },
             "pattern": {
              "fillmode": "overlay",
              "size": 10,
              "solidity": 0.2
             }
            },
            "type": "bar"
           }
          ],
          "barpolar": [
           {
            "marker": {
             "line": {
              "color": "#E5ECF6",
              "width": 0.5
             },
             "pattern": {
              "fillmode": "overlay",
              "size": 10,
              "solidity": 0.2
             }
            },
            "type": "barpolar"
           }
          ],
          "carpet": [
           {
            "aaxis": {
             "endlinecolor": "#2a3f5f",
             "gridcolor": "white",
             "linecolor": "white",
             "minorgridcolor": "white",
             "startlinecolor": "#2a3f5f"
            },
            "baxis": {
             "endlinecolor": "#2a3f5f",
             "gridcolor": "white",
             "linecolor": "white",
             "minorgridcolor": "white",
             "startlinecolor": "#2a3f5f"
            },
            "type": "carpet"
           }
          ],
          "choropleth": [
           {
            "colorbar": {
             "outlinewidth": 0,
             "ticks": ""
            },
            "type": "choropleth"
           }
          ],
          "contour": [
           {
            "colorbar": {
             "outlinewidth": 0,
             "ticks": ""
            },
            "colorscale": [
             [
              0,
              "#0d0887"
             ],
             [
              0.1111111111111111,
              "#46039f"
             ],
             [
              0.2222222222222222,
              "#7201a8"
             ],
             [
              0.3333333333333333,
              "#9c179e"
             ],
             [
              0.4444444444444444,
              "#bd3786"
             ],
             [
              0.5555555555555556,
              "#d8576b"
             ],
             [
              0.6666666666666666,
              "#ed7953"
             ],
             [
              0.7777777777777778,
              "#fb9f3a"
             ],
             [
              0.8888888888888888,
              "#fdca26"
             ],
             [
              1,
              "#f0f921"
             ]
            ],
            "type": "contour"
           }
          ],
          "contourcarpet": [
           {
            "colorbar": {
             "outlinewidth": 0,
             "ticks": ""
            },
            "type": "contourcarpet"
           }
          ],
          "heatmap": [
           {
            "colorbar": {
             "outlinewidth": 0,
             "ticks": ""
            },
            "colorscale": [
             [
              0,
              "#0d0887"
             ],
             [
              0.1111111111111111,
              "#46039f"
             ],
             [
              0.2222222222222222,
              "#7201a8"
             ],
             [
              0.3333333333333333,
              "#9c179e"
             ],
             [
              0.4444444444444444,
              "#bd3786"
             ],
             [
              0.5555555555555556,
              "#d8576b"
             ],
             [
              0.6666666666666666,
              "#ed7953"
             ],
             [
              0.7777777777777778,
              "#fb9f3a"
             ],
             [
              0.8888888888888888,
              "#fdca26"
             ],
             [
              1,
              "#f0f921"
             ]
            ],
            "type": "heatmap"
           }
          ],
          "heatmapgl": [
           {
            "colorbar": {
             "outlinewidth": 0,
             "ticks": ""
            },
            "colorscale": [
             [
              0,
              "#0d0887"
             ],
             [
              0.1111111111111111,
              "#46039f"
             ],
             [
              0.2222222222222222,
              "#7201a8"
             ],
             [
              0.3333333333333333,
              "#9c179e"
             ],
             [
              0.4444444444444444,
              "#bd3786"
             ],
             [
              0.5555555555555556,
              "#d8576b"
             ],
             [
              0.6666666666666666,
              "#ed7953"
             ],
             [
              0.7777777777777778,
              "#fb9f3a"
             ],
             [
              0.8888888888888888,
              "#fdca26"
             ],
             [
              1,
              "#f0f921"
             ]
            ],
            "type": "heatmapgl"
           }
          ],
          "histogram": [
           {
            "marker": {
             "pattern": {
              "fillmode": "overlay",
              "size": 10,
              "solidity": 0.2
             }
            },
            "type": "histogram"
           }
          ],
          "histogram2d": [
           {
            "colorbar": {
             "outlinewidth": 0,
             "ticks": ""
            },
            "colorscale": [
             [
              0,
              "#0d0887"
             ],
             [
              0.1111111111111111,
              "#46039f"
             ],
             [
              0.2222222222222222,
              "#7201a8"
             ],
             [
              0.3333333333333333,
              "#9c179e"
             ],
             [
              0.4444444444444444,
              "#bd3786"
             ],
             [
              0.5555555555555556,
              "#d8576b"
             ],
             [
              0.6666666666666666,
              "#ed7953"
             ],
             [
              0.7777777777777778,
              "#fb9f3a"
             ],
             [
              0.8888888888888888,
              "#fdca26"
             ],
             [
              1,
              "#f0f921"
             ]
            ],
            "type": "histogram2d"
           }
          ],
          "histogram2dcontour": [
           {
            "colorbar": {
             "outlinewidth": 0,
             "ticks": ""
            },
            "colorscale": [
             [
              0,
              "#0d0887"
             ],
             [
              0.1111111111111111,
              "#46039f"
             ],
             [
              0.2222222222222222,
              "#7201a8"
             ],
             [
              0.3333333333333333,
              "#9c179e"
             ],
             [
              0.4444444444444444,
              "#bd3786"
             ],
             [
              0.5555555555555556,
              "#d8576b"
             ],
             [
              0.6666666666666666,
              "#ed7953"
             ],
             [
              0.7777777777777778,
              "#fb9f3a"
             ],
             [
              0.8888888888888888,
              "#fdca26"
             ],
             [
              1,
              "#f0f921"
             ]
            ],
            "type": "histogram2dcontour"
           }
          ],
          "mesh3d": [
           {
            "colorbar": {
             "outlinewidth": 0,
             "ticks": ""
            },
            "type": "mesh3d"
           }
          ],
          "parcoords": [
           {
            "line": {
             "colorbar": {
              "outlinewidth": 0,
              "ticks": ""
             }
            },
            "type": "parcoords"
           }
          ],
          "pie": [
           {
            "automargin": true,
            "type": "pie"
           }
          ],
          "scatter": [
           {
            "marker": {
             "colorbar": {
              "outlinewidth": 0,
              "ticks": ""
             }
            },
            "type": "scatter"
           }
          ],
          "scatter3d": [
           {
            "line": {
             "colorbar": {
              "outlinewidth": 0,
              "ticks": ""
             }
            },
            "marker": {
             "colorbar": {
              "outlinewidth": 0,
              "ticks": ""
             }
            },
            "type": "scatter3d"
           }
          ],
          "scattercarpet": [
           {
            "marker": {
             "colorbar": {
              "outlinewidth": 0,
              "ticks": ""
             }
            },
            "type": "scattercarpet"
           }
          ],
          "scattergeo": [
           {
            "marker": {
             "colorbar": {
              "outlinewidth": 0,
              "ticks": ""
             }
            },
            "type": "scattergeo"
           }
          ],
          "scattergl": [
           {
            "marker": {
             "colorbar": {
              "outlinewidth": 0,
              "ticks": ""
             }
            },
            "type": "scattergl"
           }
          ],
          "scattermapbox": [
           {
            "marker": {
             "colorbar": {
              "outlinewidth": 0,
              "ticks": ""
             }
            },
            "type": "scattermapbox"
           }
          ],
          "scatterpolar": [
           {
            "marker": {
             "colorbar": {
              "outlinewidth": 0,
              "ticks": ""
             }
            },
            "type": "scatterpolar"
           }
          ],
          "scatterpolargl": [
           {
            "marker": {
             "colorbar": {
              "outlinewidth": 0,
              "ticks": ""
             }
            },
            "type": "scatterpolargl"
           }
          ],
          "scatterternary": [
           {
            "marker": {
             "colorbar": {
              "outlinewidth": 0,
              "ticks": ""
             }
            },
            "type": "scatterternary"
           }
          ],
          "surface": [
           {
            "colorbar": {
             "outlinewidth": 0,
             "ticks": ""
            },
            "colorscale": [
             [
              0,
              "#0d0887"
             ],
             [
              0.1111111111111111,
              "#46039f"
             ],
             [
              0.2222222222222222,
              "#7201a8"
             ],
             [
              0.3333333333333333,
              "#9c179e"
             ],
             [
              0.4444444444444444,
              "#bd3786"
             ],
             [
              0.5555555555555556,
              "#d8576b"
             ],
             [
              0.6666666666666666,
              "#ed7953"
             ],
             [
              0.7777777777777778,
              "#fb9f3a"
             ],
             [
              0.8888888888888888,
              "#fdca26"
             ],
             [
              1,
              "#f0f921"
             ]
            ],
            "type": "surface"
           }
          ],
          "table": [
           {
            "cells": {
             "fill": {
              "color": "#EBF0F8"
             },
             "line": {
              "color": "white"
             }
            },
            "header": {
             "fill": {
              "color": "#C8D4E3"
             },
             "line": {
              "color": "white"
             }
            },
            "type": "table"
           }
          ]
         },
         "layout": {
          "annotationdefaults": {
           "arrowcolor": "#2a3f5f",
           "arrowhead": 0,
           "arrowwidth": 1
          },
          "autotypenumbers": "strict",
          "coloraxis": {
           "colorbar": {
            "outlinewidth": 0,
            "ticks": ""
           }
          },
          "colorscale": {
           "diverging": [
            [
             0,
             "#8e0152"
            ],
            [
             0.1,
             "#c51b7d"
            ],
            [
             0.2,
             "#de77ae"
            ],
            [
             0.3,
             "#f1b6da"
            ],
            [
             0.4,
             "#fde0ef"
            ],
            [
             0.5,
             "#f7f7f7"
            ],
            [
             0.6,
             "#e6f5d0"
            ],
            [
             0.7,
             "#b8e186"
            ],
            [
             0.8,
             "#7fbc41"
            ],
            [
             0.9,
             "#4d9221"
            ],
            [
             1,
             "#276419"
            ]
           ],
           "sequential": [
            [
             0,
             "#0d0887"
            ],
            [
             0.1111111111111111,
             "#46039f"
            ],
            [
             0.2222222222222222,
             "#7201a8"
            ],
            [
             0.3333333333333333,
             "#9c179e"
            ],
            [
             0.4444444444444444,
             "#bd3786"
            ],
            [
             0.5555555555555556,
             "#d8576b"
            ],
            [
             0.6666666666666666,
             "#ed7953"
            ],
            [
             0.7777777777777778,
             "#fb9f3a"
            ],
            [
             0.8888888888888888,
             "#fdca26"
            ],
            [
             1,
             "#f0f921"
            ]
           ],
           "sequentialminus": [
            [
             0,
             "#0d0887"
            ],
            [
             0.1111111111111111,
             "#46039f"
            ],
            [
             0.2222222222222222,
             "#7201a8"
            ],
            [
             0.3333333333333333,
             "#9c179e"
            ],
            [
             0.4444444444444444,
             "#bd3786"
            ],
            [
             0.5555555555555556,
             "#d8576b"
            ],
            [
             0.6666666666666666,
             "#ed7953"
            ],
            [
             0.7777777777777778,
             "#fb9f3a"
            ],
            [
             0.8888888888888888,
             "#fdca26"
            ],
            [
             1,
             "#f0f921"
            ]
           ]
          },
          "colorway": [
           "#636efa",
           "#EF553B",
           "#00cc96",
           "#ab63fa",
           "#FFA15A",
           "#19d3f3",
           "#FF6692",
           "#B6E880",
           "#FF97FF",
           "#FECB52"
          ],
          "font": {
           "color": "#2a3f5f"
          },
          "geo": {
           "bgcolor": "white",
           "lakecolor": "white",
           "landcolor": "#E5ECF6",
           "showlakes": true,
           "showland": true,
           "subunitcolor": "white"
          },
          "hoverlabel": {
           "align": "left"
          },
          "hovermode": "closest",
          "mapbox": {
           "style": "light"
          },
          "paper_bgcolor": "white",
          "plot_bgcolor": "#E5ECF6",
          "polar": {
           "angularaxis": {
            "gridcolor": "white",
            "linecolor": "white",
            "ticks": ""
           },
           "bgcolor": "#E5ECF6",
           "radialaxis": {
            "gridcolor": "white",
            "linecolor": "white",
            "ticks": ""
           }
          },
          "scene": {
           "xaxis": {
            "backgroundcolor": "#E5ECF6",
            "gridcolor": "white",
            "gridwidth": 2,
            "linecolor": "white",
            "showbackground": true,
            "ticks": "",
            "zerolinecolor": "white"
           },
           "yaxis": {
            "backgroundcolor": "#E5ECF6",
            "gridcolor": "white",
            "gridwidth": 2,
            "linecolor": "white",
            "showbackground": true,
            "ticks": "",
            "zerolinecolor": "white"
           },
           "zaxis": {
            "backgroundcolor": "#E5ECF6",
            "gridcolor": "white",
            "gridwidth": 2,
            "linecolor": "white",
            "showbackground": true,
            "ticks": "",
            "zerolinecolor": "white"
           }
          },
          "shapedefaults": {
           "line": {
            "color": "#2a3f5f"
           }
          },
          "ternary": {
           "aaxis": {
            "gridcolor": "white",
            "linecolor": "white",
            "ticks": ""
           },
           "baxis": {
            "gridcolor": "white",
            "linecolor": "white",
            "ticks": ""
           },
           "bgcolor": "#E5ECF6",
           "caxis": {
            "gridcolor": "white",
            "linecolor": "white",
            "ticks": ""
           }
          },
          "title": {
           "x": 0.05
          },
          "xaxis": {
           "automargin": true,
           "gridcolor": "white",
           "linecolor": "white",
           "ticks": "",
           "title": {
            "standoff": 15
           },
           "zerolinecolor": "white",
           "zerolinewidth": 2
          },
          "yaxis": {
           "automargin": true,
           "gridcolor": "white",
           "linecolor": "white",
           "ticks": "",
           "title": {
            "standoff": 15
           },
           "zerolinecolor": "white",
           "zerolinewidth": 2
          }
         }
        },
        "title": {
         "text": "TSNE N_iterations: 5000"
        },
        "xaxis": {
         "anchor": "y",
         "domain": [
          0,
          1
         ],
         "title": {
          "text": "PC 0"
         }
        },
        "yaxis": {
         "anchor": "x",
         "domain": [
          0,
          1
         ],
         "title": {
          "text": "PC 1"
         }
        }
       }
      }
     },
     "metadata": {},
     "output_type": "display_data"
    }
   ],
   "source": [
    "from sklearn.manifold import TSNE\n",
    "import pandas as pd\n",
    " \n",
    "iters = [250, 1000, 5000]\n",
    "\n",
    "for i in iters:\n",
    "    # Try with 3 embeddings so we can visualize it \n",
    "    tsne = TSNE(2, perplexity=20, n_iter=i)\n",
    "    tsne_result = tsne.fit_transform(X)\n",
    "    tsne_result.shape\n",
    "\n",
    "    fig = px.scatter(tsne_result, x=0, y=1, color=y, title=f'TSNE N_iterations: {i}', labels={'0': 'PC 0', '1': 'PC 1'})\n",
    "    fig.show()"
   ]
  },
  {
   "cell_type": "code",
   "execution_count": 15,
   "metadata": {},
   "outputs": [
    {
     "name": "stdout",
     "output_type": "stream",
     "text": [
      "(130, 130)\n",
      "1.0000000000000004\n",
      "[[ 1.00000000e+00  1.03432440e-01  9.43357747e-02 -3.11017176e-01\n",
      "   5.26711872e-01  8.22131529e-01  3.98182549e-01  5.20789660e-01\n",
      "   7.34995979e-01  6.85771185e-01 -1.86776250e-01  4.74374720e-01\n",
      "   6.02731823e-01 -3.63926912e-01  3.93201123e-01 -1.12613937e-01\n",
      "   3.23838404e-01  4.37691797e-01 -1.82442170e-01  3.07272969e-01\n",
      "   2.02022035e-01  1.85779751e-01 -2.10988344e-01 -1.00047039e-01\n",
      "   3.87730677e-01  5.75057419e-01  2.40898585e-01  5.59506330e-01\n",
      "  -1.27616772e-01 -2.20455643e-01 -2.39311100e-01  4.28173055e-01\n",
      "   9.86259365e-01  6.74582479e-02  2.36828601e-01 -2.90575412e-01\n",
      "  -4.16197123e-01 -4.02766120e-01 -3.35750345e-01 -3.21832255e-01\n",
      "  -3.76413106e-01 -2.16379337e-01 -5.15383196e-01 -3.11744611e-01\n",
      "   4.41507998e-02  6.18100692e-03  8.33985708e-02  5.48688441e-02\n",
      "  -4.36313503e-01 -3.02953574e-01 -3.50897874e-01  1.49198842e-01\n",
      "   1.58312688e-01  4.53555871e-01  1.46398355e-01  4.45791170e-01\n",
      "   2.03474658e-01  4.64392959e-01 -2.37365280e-02  3.14689017e-01\n",
      "  -9.03534845e-03 -2.59036693e-01 -4.67052759e-01 -3.06714754e-01\n",
      "  -4.28363359e-01 -4.29485413e-01  5.91735780e-01  3.20372472e-01\n",
      "   5.89621922e-01  1.09726733e-01 -4.47501168e-01  5.08171299e-03\n",
      "   1.08180497e-01 -4.84109654e-01 -3.54301465e-01 -3.71491852e-01\n",
      "  -4.63380542e-01 -3.35346091e-01 -4.55639864e-01 -3.62703745e-01\n",
      "  -9.18980522e-02  2.45077243e-01  3.19520967e-01  1.31786171e-01\n",
      "   3.44663430e-01 -3.11081548e-01  1.12419948e-01  3.16712447e-01\n",
      "  -1.08953144e-01 -2.81080331e-01  2.09702647e-02 -1.14584426e-01\n",
      "  -4.15359674e-01 -4.17799417e-01 -4.38740771e-01 -2.17836044e-01\n",
      "  -3.02602807e-01 -4.01296688e-01 -2.75666831e-01 -3.58866449e-01\n",
      "  -3.82287931e-01 -2.96711468e-01 -1.52416702e-01  1.92019598e-01\n",
      "  -8.18759263e-02  2.18454638e-01 -2.54695146e-01 -1.45974473e-01\n",
      "  -1.71828165e-01  3.51222705e-01 -1.94286210e-01  2.07191987e-02\n",
      "  -2.71280281e-01 -2.78743930e-01  1.48725167e-01  4.22031073e-02\n",
      "   5.60596670e-02  5.54208156e-02  4.93064126e-01  8.17414877e-01\n",
      "   2.39422314e-01  1.24353067e-01 -3.72445966e-01 -5.11702669e-01\n",
      "  -8.63969971e-02 -3.96594826e-01 -3.29898872e-01 -4.31830446e-01\n",
      "  -4.10798348e-01 -4.33805438e-01]\n",
      " [ 1.03432440e-01  1.00000000e+00  3.21330977e-01 -1.15726847e-01\n",
      "   2.53892330e-01  3.13543362e-01  4.70152964e-01  1.96555103e-01\n",
      "   8.23390328e-02  1.98483871e-01 -2.01400247e-01  4.67450135e-01\n",
      "   4.41958805e-01  3.75590719e-01  5.68180705e-01 -2.21142105e-03\n",
      "   5.11503267e-01  3.47750282e-01  2.10946253e-01  4.57475804e-01\n",
      "   2.44541909e-01  4.51446641e-01  2.16949680e-01  9.04891756e-02\n",
      "   2.71900297e-01  3.79075187e-01  2.68158560e-01  4.73001905e-01\n",
      "  -1.27953717e-01 -6.61897129e-02 -1.52446441e-01  6.99495310e-01\n",
      "   7.21011702e-02 -2.79704371e-01  4.94506347e-01 -1.50729274e-01\n",
      "  -1.08725331e-01 -1.77498461e-01 -3.03499993e-01 -3.48357535e-01\n",
      "   1.60302839e-01 -3.53416685e-01 -3.31180853e-01 -3.28197742e-03\n",
      "  -3.28347520e-01 -3.88826517e-01  5.05802551e-02  2.48641195e-01\n",
      "  -2.35789460e-01 -4.03164810e-01 -2.62164493e-01  2.83878833e-01\n",
      "   1.89963714e-01  1.89738601e-01  3.13302103e-01  2.54224315e-01\n",
      "   4.57431693e-01  7.18298517e-02  3.71407380e-01  2.92177371e-01\n",
      "   2.32417995e-01 -2.60170511e-02 -3.87404636e-01 -1.75139651e-01\n",
      "  -3.58016777e-01 -3.25509098e-01  1.64074334e-01 -7.38476619e-02\n",
      "   1.50447475e-01  5.51607788e-02 -2.61174345e-01  1.84816901e-01\n",
      "   2.39256221e-01 -2.85203885e-01 -3.60510732e-01 -4.59234292e-01\n",
      "  -2.96141831e-01 -2.57894554e-01 -3.21302692e-01 -3.62447493e-01\n",
      "  -2.93396242e-01  3.08533120e-01  2.68854502e-01  1.63409013e-01\n",
      "   2.47860691e-01 -3.01536200e-01  2.48291664e-01  2.17981172e-01\n",
      "   2.93831460e-01 -1.70342556e-01  4.36984832e-01  2.45766641e-01\n",
      "  -1.95163500e-01 -2.52264722e-01 -1.56625053e-01 -1.00818957e-02\n",
      "  -2.24486650e-01 -1.37850772e-01 -2.51442470e-01 -2.94027177e-01\n",
      "  -2.88965011e-01 -6.80034838e-02 -3.37675753e-02  6.99654599e-02\n",
      "  -4.33245229e-01 -2.73526161e-01 -4.01982365e-01 -3.81807595e-01\n",
      "  -4.06580652e-01  1.02961269e-01 -2.80146468e-01 -1.20347451e-01\n",
      "  -4.25383740e-01 -3.94240613e-01 -1.22192876e-01  2.42204862e-01\n",
      "   3.23705346e-02  2.34781850e-01  1.91999396e-01  4.56638014e-02\n",
      "   2.66616981e-01  2.85664347e-01 -2.99125632e-01 -2.60067833e-01\n",
      "   1.67503731e-01 -3.54563001e-01 -1.35055716e-01 -3.36901534e-01\n",
      "  -3.75774751e-01 -4.93807477e-01]\n",
      " [ 9.43357747e-02  3.21330977e-01  1.00000000e+00 -2.40710100e-01\n",
      "   3.64048854e-01  3.04026419e-01  4.77956493e-01  3.21507919e-01\n",
      "   4.08556609e-01  4.89408902e-01 -1.42619473e-01  2.98806206e-03\n",
      "   2.59815240e-01 -1.39275628e-01  5.71599865e-01  1.40920927e-01\n",
      "   5.23164396e-01  6.56726284e-01  2.98669708e-01  4.80110503e-01\n",
      "   7.74882670e-01  4.20886936e-01  2.74401731e-02  2.22723988e-01\n",
      "   6.95458720e-01  5.28266628e-01  5.08557595e-01  5.12041240e-01\n",
      "   2.99876674e-01 -2.25557001e-01 -4.98879013e-02  2.81074279e-01\n",
      "   4.57593218e-02 -8.72560307e-02  7.83034893e-01 -4.49953032e-02\n",
      "  -3.19913272e-01 -5.61616331e-02 -7.02453559e-02  1.62504259e-02\n",
      "  -3.63868694e-01 -1.37464490e-01 -3.23136677e-01 -2.79100649e-01\n",
      "  -3.30514113e-01 -3.25995259e-01  3.21464007e-01  1.71130681e-01\n",
      "  -1.60576256e-01 -2.15199408e-01 -1.58821024e-01  3.60098084e-01\n",
      "   3.83065475e-01  3.40679116e-01  3.77774637e-01  3.05750996e-01\n",
      "   4.75351065e-01  4.29036625e-03  3.34572230e-01  3.28888938e-01\n",
      "   1.87873266e-01  1.16257117e-02 -3.50493610e-01 -1.75404764e-01\n",
      "  -4.78408680e-01 -4.20930834e-01  1.07038137e-01  1.25220453e-01\n",
      "   1.25115271e-01  1.79541458e-01 -2.76491561e-01 -1.54689975e-02\n",
      "   4.82840495e-01 -3.19945388e-01 -5.04922425e-01 -4.68930154e-01\n",
      "  -2.42060910e-01  3.44964762e-02 -3.48519736e-01 -2.80647409e-01\n",
      "  -4.71095507e-01  3.11154280e-02  7.64632635e-02  7.35251223e-02\n",
      "   1.38178850e-01 -3.99577965e-01  8.86453195e-02  6.38376798e-02\n",
      "   3.73531535e-02 -2.24027516e-01  2.11697011e-01  1.23087458e-01\n",
      "  -4.63570081e-01 -3.96121890e-01 -4.40978034e-01 -2.23407687e-01\n",
      "  -3.68309305e-01 -3.90520976e-01 -4.54762235e-01 -4.86674929e-01\n",
      "  -4.30123768e-01 -1.21828527e-01 -1.20426109e-01  1.57201906e-01\n",
      "  -3.42653978e-01 -1.77743919e-01 -4.19181439e-01 -3.45643061e-01\n",
      "  -3.95163254e-01  1.49563372e-01 -3.15503504e-01  3.58256289e-02\n",
      "  -4.17511114e-01 -4.15799537e-01 -9.08379846e-02  3.82605457e-01\n",
      "   2.42495658e-01  2.75824416e-01  4.08450232e-01  4.38223084e-02\n",
      "   3.68960480e-01  6.16838901e-01 -2.08582318e-01 -2.42532493e-01\n",
      "   4.05697298e-01 -3.09032505e-01  1.83614470e-01 -2.84815040e-01\n",
      "  -4.14760124e-01 -3.05058149e-01]\n",
      " [-3.11017176e-01 -1.15726847e-01 -2.40710100e-01  1.00000000e+00\n",
      "  -1.66020178e-01 -2.17609733e-01 -2.16191456e-01 -6.61621415e-02\n",
      "  -4.14327866e-01 -4.54366914e-01  2.97276417e-01 -2.13902984e-01\n",
      "  -1.09852632e-01  1.72698474e-01  1.06535633e-02  2.30065400e-01\n",
      "  -2.07525241e-01 -2.94190691e-01  2.27450317e-01 -8.02127373e-02\n",
      "  -3.01196900e-01 -1.54874520e-01  2.10775995e-01  2.62526254e-01\n",
      "  -2.64005977e-01 -1.88246624e-01 -4.94634091e-02 -1.41646915e-01\n",
      "   2.89933720e-02  7.45662343e-01  6.84250249e-01 -5.31862316e-02\n",
      "  -3.34123872e-01  4.86655872e-01 -1.26416349e-01  5.98805888e-01\n",
      "   4.30855969e-01  5.58042528e-01  5.10796496e-01  4.07867585e-01\n",
      "   5.47694828e-01  3.14372110e-01  3.98499251e-01  6.02626186e-01\n",
      "   4.70168861e-01  2.78947868e-01 -3.93906092e-01 -4.12227932e-01\n",
      "   3.08789376e-01  2.17808143e-01  9.22604424e-02 -2.86473535e-01\n",
      "  -4.11213353e-01 -4.74653160e-01 -1.55576263e-01 -4.14312315e-01\n",
      "  -3.59949171e-01 -5.15695207e-01 -4.04188442e-01 -4.27251920e-01\n",
      "  -2.11953166e-01  7.98770965e-02  4.39511153e-01  1.98372303e-01\n",
      "   3.52484503e-01  1.48933940e-01 -4.72869321e-01 -4.21859029e-01\n",
      "  -4.87876540e-01 -2.43976397e-01  4.01431085e-01 -1.27253379e-01\n",
      "  -3.02080825e-01  4.15588969e-01  2.63026377e-01  2.57119367e-01\n",
      "   4.44044142e-01  3.60494484e-01  4.48025924e-01  4.94158438e-01\n",
      "   1.12445255e-01 -3.02221434e-01 -3.96079785e-01 -3.01442692e-01\n",
      "  -4.07557239e-01  1.90263677e-01 -3.05072246e-01 -3.54463857e-01\n",
      "  -1.92917718e-01  3.26788492e-01 -1.37437486e-01 -2.83665899e-02\n",
      "   3.74179015e-01  3.16252766e-01  3.34356244e-01  3.13222348e-02\n",
      "   2.83176968e-01  2.78973519e-01  1.61911399e-01  3.33565580e-01\n",
      "   3.78678254e-01 -1.01318104e-01 -1.39929470e-01 -4.27534074e-01\n",
      "   3.41603974e-02 -2.92768191e-01  1.15197290e-01  4.82684268e-02\n",
      "   5.53359258e-02 -4.59935276e-01 -5.92708311e-03 -2.90359920e-01\n",
      "   1.71747961e-02  6.40252547e-02 -3.25617788e-01 -3.61146679e-01\n",
      "  -3.03859339e-01 -3.99691754e-01 -5.43919852e-01 -5.25418916e-01\n",
      "  -4.70188717e-01 -4.77669034e-01  2.68021729e-01  2.32755242e-01\n",
      "  -3.47636737e-01  1.65220326e-01 -3.06603040e-02  3.45548123e-01\n",
      "   2.73249239e-01  1.64555206e-01]\n",
      " [ 5.26711872e-01  2.53892330e-01  3.64048854e-01 -1.66020178e-01\n",
      "   1.00000000e+00  5.85610726e-01  2.07590058e-01  5.18777277e-01\n",
      "   5.68397701e-01  6.32349175e-01 -1.41835543e-01  4.08876678e-01\n",
      "   4.53776258e-01 -6.78405960e-03  4.71519753e-01  4.65668378e-01\n",
      "   2.58697739e-01  3.03400954e-01  2.96315893e-01  3.43607005e-01\n",
      "   1.71106549e-01  3.53710811e-01  7.68659916e-02  3.18605180e-01\n",
      "   2.32867893e-01  3.93685800e-01  1.66151944e-01  3.90725773e-01\n",
      "   7.02716058e-02 -1.49541903e-02 -1.77872355e-02  3.03913163e-01\n",
      "   4.73528408e-01  1.64210625e-02  2.56406060e-01  1.22039210e-01\n",
      "  -2.20162966e-01 -3.00797071e-02 -1.59291530e-01 -1.67770550e-01\n",
      "  -3.01351819e-01 -2.53287959e-01 -3.75688364e-01 -2.34052111e-01\n",
      "  -4.18810995e-03 -1.53123734e-01  8.41653023e-02  7.15805643e-02\n",
      "  -2.87493662e-01 -1.92335904e-01 -2.23168224e-01  1.77655679e-01\n",
      "   1.20006949e-01  3.55068243e-01  1.84675472e-01  2.83803486e-01\n",
      "   2.90700496e-01  2.22524953e-01  1.46187194e-01  4.15240662e-01\n",
      "   1.91973386e-01  2.59930398e-01 -2.95625956e-01 -1.60411846e-01\n",
      "  -3.46775553e-01 -3.24188959e-01  3.03070008e-01  2.17033699e-01\n",
      "   2.97400872e-01 -6.54240245e-02 -2.23345767e-01 -7.78292868e-02\n",
      "   1.52478222e-01 -1.91647982e-01 -3.58037288e-01 -2.63924810e-01\n",
      "  -1.76711714e-01  3.60006549e-02 -2.82287598e-01 -3.21141053e-01\n",
      "  -1.85037233e-01  1.17198388e-01  1.38248867e-01  6.39489134e-02\n",
      "   6.39752294e-02 -2.68102898e-01  1.57350004e-01  1.32728379e-02\n",
      "  -7.98924905e-02 -2.08259746e-01  1.50485835e-01 -9.47244995e-02\n",
      "  -4.29004994e-01 -3.75681895e-01 -3.36884765e-01 -1.46489791e-01\n",
      "  -3.29007478e-01 -3.20419920e-01 -2.82743741e-01 -3.95429521e-01\n",
      "  -3.03021242e-01  3.65544483e-02 -1.87852959e-01 -1.25667237e-01\n",
      "  -2.80294963e-01 -1.47695933e-01 -4.30822575e-01 -3.63195093e-01\n",
      "  -3.78415892e-01  3.69023731e-02 -3.39242280e-01 -4.60182581e-02\n",
      "  -4.00478537e-01 -3.88464160e-01 -8.28418007e-02 -8.54175596e-03\n",
      "  -1.22310874e-01 -1.03927448e-02  1.62702963e-01  3.68260502e-01\n",
      "   7.79257450e-02  1.10131422e-01 -3.21473542e-01 -3.54425354e-01\n",
      "  -4.85909042e-02 -1.94241305e-01  9.65637925e-02 -3.65886643e-01\n",
      "  -4.10124374e-01 -3.66110077e-01]\n",
      " [ 8.22131529e-01  3.13543362e-01  3.04026419e-01 -2.17609733e-01\n",
      "   5.85610726e-01  1.00000000e+00  4.57666907e-01  7.64400714e-01\n",
      "   7.00858802e-01  7.68064984e-01 -2.33510871e-01  4.90376545e-01\n",
      "   8.04524980e-01 -2.46443695e-01  5.54093258e-01  1.60237593e-02\n",
      "   4.06413779e-01  4.81025960e-01 -3.40258831e-02  4.66751290e-01\n",
      "   2.90451147e-01  3.63102632e-01 -1.85282772e-01  2.65457847e-02\n",
      "   4.24166803e-01  6.26125477e-01  2.79356054e-01  6.87603284e-01\n",
      "  -1.06879368e-01 -1.45703840e-01 -1.46952420e-01  5.39085362e-01\n",
      "   7.97202138e-01  1.19290116e-01  3.72835410e-01 -1.76497168e-01\n",
      "  -4.60890904e-01 -3.35553784e-01 -3.01480302e-01 -3.19518582e-01\n",
      "  -3.15930697e-01 -2.81165823e-01 -5.62958670e-01 -3.15076695e-01\n",
      "   5.97125654e-03 -1.25415705e-01  3.24346874e-02  1.62696922e-01\n",
      "  -4.08686104e-01 -4.20584352e-01 -3.15148323e-01  1.60075163e-01\n",
      "   1.34988937e-01  4.25024741e-01  2.25256581e-01  4.50933684e-01\n",
      "   2.24696836e-01  3.48378581e-01  9.82041717e-02  3.16730412e-01\n",
      "   5.51766631e-03 -2.51294017e-01 -5.26527134e-01 -2.71324499e-01\n",
      "  -4.75619388e-01 -4.01705338e-01  5.06898652e-01  1.79249874e-01\n",
      "   5.30826067e-01  4.36532882e-02 -4.37066717e-01  2.03871683e-02\n",
      "   1.54807898e-01 -5.08664577e-01 -4.86693904e-01 -5.46388797e-01\n",
      "  -4.99488786e-01 -3.25068520e-01 -4.99271444e-01 -4.52633889e-01\n",
      "  -1.47460409e-01  2.81298333e-01  3.29872626e-01  1.94003146e-01\n",
      "   3.41032628e-01 -3.12438945e-01  1.56779231e-01  3.27547838e-01\n",
      "  -7.22002740e-02 -2.42533536e-01  1.46580003e-01 -4.11705174e-02\n",
      "  -4.18753849e-01 -4.65980303e-01 -4.96298995e-01 -2.42903437e-01\n",
      "  -3.17464440e-01 -4.25329702e-01 -3.12761605e-01 -4.29132301e-01\n",
      "  -3.34104621e-01 -3.17752159e-01 -1.57786310e-01  1.65773829e-01\n",
      "  -2.43309323e-01  1.32688376e-01 -3.30379153e-01 -1.91478522e-01\n",
      "  -2.35317338e-01  2.19237166e-01 -2.86661298e-01 -3.31346040e-03\n",
      "  -3.67725728e-01 -3.68760084e-01  7.11696196e-02  5.81597630e-02\n",
      "  -3.05728104e-02  1.18081522e-02  4.49439982e-01  5.87558414e-01\n",
      "   1.92534503e-01  2.08043502e-01 -4.52233898e-01 -5.42565722e-01\n",
      "  -6.65347652e-02 -4.03269933e-01 -2.31435616e-01 -4.71339360e-01\n",
      "  -4.98064151e-01 -4.69305066e-01]\n",
      " [ 3.98182549e-01  4.70152964e-01  4.77956493e-01 -2.16191456e-01\n",
      "   2.07590058e-01  4.57666907e-01  1.00000000e+00  5.08864731e-01\n",
      "   4.10567991e-01  5.70817899e-01 -3.63896026e-01  3.45226047e-01\n",
      "   4.94872683e-01 -2.49910512e-01  4.82457146e-01 -1.99981019e-01\n",
      "   9.40379651e-01  5.23081043e-01 -2.57551547e-01  4.50403402e-01\n",
      "   5.78771598e-01  3.12229862e-01  5.12613143e-02 -1.54097938e-01\n",
      "   6.41081502e-01  7.37474315e-01  3.60332163e-01  6.58150493e-01\n",
      "  -2.87430371e-02 -3.56141325e-01 -2.84284392e-01  6.64054218e-01\n",
      "   4.03211575e-01  1.31055276e-01  5.34657773e-01 -4.57556414e-01\n",
      "  -4.76579023e-01 -5.43166284e-01 -5.14553264e-01 -3.23378877e-01\n",
      "  -1.18393786e-01 -2.15823908e-01 -5.95946686e-01  1.29537272e-02\n",
      "  -1.49293680e-01 -2.12805319e-01  3.73784658e-01  2.44723343e-01\n",
      "  -4.75800941e-01 -4.61329524e-01 -3.50729212e-01  3.86290731e-01\n",
      "   5.44340436e-01  6.05577396e-01  4.34436333e-01  4.93580093e-01\n",
      "   3.10251285e-01  2.06488317e-01  2.25768325e-01  2.61741071e-01\n",
      "   1.18212236e-01 -1.79455486e-01 -5.57577782e-01 -2.22773133e-01\n",
      "  -5.27803460e-01 -4.77806339e-01  4.05980937e-01  4.01001297e-01\n",
      "   3.87158016e-01  2.60994883e-01 -5.29625524e-01  1.36108921e-01\n",
      "   3.35816386e-01 -5.11656268e-01 -5.04289955e-01 -4.91751841e-01\n",
      "  -4.22353031e-01 -2.78635351e-01 -5.16257825e-01 -3.32034240e-01\n",
      "  -2.91158302e-01  2.30590775e-01  3.12957072e-01  2.42333016e-01\n",
      "   4.25069558e-01 -3.65434962e-01  1.50161249e-01  3.71171565e-01\n",
      "   2.10777738e-02 -3.30507474e-01  6.71775915e-02  4.50292680e-02\n",
      "  -5.24133511e-01 -4.43112004e-01 -5.78216970e-01 -2.74358354e-01\n",
      "  -3.69587923e-01 -5.12363713e-01 -3.63616423e-01 -4.53359716e-01\n",
      "  -5.10938575e-01 -3.92536984e-01 -2.49941010e-01  3.01335664e-01\n",
      "  -2.42299941e-01  1.03251104e-01 -3.96474843e-01 -3.05475550e-01\n",
      "  -3.45719003e-01  3.79290769e-01 -2.72109664e-01 -5.29953578e-02\n",
      "  -4.12584206e-01 -4.26470944e-01  8.71040820e-03  2.88062546e-01\n",
      "   3.32466755e-01  2.84005263e-01  7.42050406e-01  3.51629142e-01\n",
      "   4.45182086e-01  5.25284854e-01 -3.75288097e-01 -4.37391638e-01\n",
      "   2.88100998e-01 -4.67131221e-01 -2.45908419e-01 -4.14476043e-01\n",
      "  -5.09451485e-01 -5.02562568e-01]\n",
      " [ 5.20789660e-01  1.96555103e-01  3.21507919e-01 -6.61621415e-02\n",
      "   5.18777277e-01  7.64400714e-01  5.08864731e-01  1.00000000e+00\n",
      "   7.40235941e-01  7.96924800e-01 -2.82562630e-01  4.69577488e-01\n",
      "   7.25461027e-01 -2.30656818e-01  3.64695397e-01  2.02008890e-02\n",
      "   4.15116261e-01  2.84780582e-01 -6.22225162e-02  2.37750106e-01\n",
      "   3.55625318e-01  3.98645880e-01 -1.01776879e-01  2.06973871e-02\n",
      "   3.95096627e-01  5.23459765e-01  2.47406423e-01  4.67224597e-01\n",
      "   4.82715364e-03 -1.27821737e-01 -1.14304171e-01  5.43768407e-01\n",
      "   5.22774283e-01  1.51222177e-01  2.75898374e-01 -1.64280069e-01\n",
      "  -2.96818068e-01 -2.65178805e-01 -3.54239131e-01 -1.93283862e-01\n",
      "  -3.26968639e-01 -1.55870960e-01 -5.37955543e-01 -2.32118384e-01\n",
      "  -2.30784211e-02 -1.48882382e-01  2.00271897e-01  1.15757400e-01\n",
      "  -3.23880410e-01 -3.94311699e-01 -3.51886866e-01  3.48297647e-01\n",
      "   1.66478205e-01  5.02696339e-01  2.51174104e-01  3.66270907e-01\n",
      "   9.32512670e-02  2.44994311e-01  7.72973221e-02  2.32490992e-01\n",
      "   9.43917264e-02 -1.14419912e-01 -4.38574981e-01 -1.55191966e-01\n",
      "  -4.42847705e-01 -4.11978359e-01  4.23871996e-01  3.07606382e-01\n",
      "   4.43372451e-01  1.00778103e-01 -2.82124322e-01  1.32427658e-01\n",
      "   2.48777207e-01 -3.48353393e-01 -4.54128240e-01 -4.65815938e-01\n",
      "  -1.82587381e-01 -1.45398049e-01 -3.65607044e-01 -3.38532748e-01\n",
      "  -2.07021223e-01  1.62754887e-01  1.75780366e-01  1.80598383e-01\n",
      "   2.58687207e-01 -2.28120250e-01  1.37783790e-01  2.29673203e-01\n",
      "  -4.94863765e-02 -2.37095507e-01  8.00267598e-02 -5.08305380e-02\n",
      "  -3.99804730e-01 -3.97829716e-01 -4.56803789e-01 -2.49018705e-01\n",
      "  -3.36869303e-01 -3.66722977e-01 -3.18901849e-01 -3.85617742e-01\n",
      "  -3.75162494e-01 -2.01222470e-01 -1.87106663e-01  1.70086707e-02\n",
      "  -2.42413726e-01  5.34155839e-02 -3.80625234e-01 -3.12511385e-01\n",
      "  -3.12504462e-01  1.22989377e-01 -2.67022884e-01 -1.48501976e-01\n",
      "  -3.46308313e-01 -3.71839980e-01 -1.43521048e-01  1.94547256e-02\n",
      "   1.05380916e-01  4.60174463e-02  4.62117293e-01  4.33652031e-01\n",
      "   1.82979885e-01  1.68175523e-01 -4.50059028e-01 -4.46241039e-01\n",
      "   5.20821300e-03 -3.09430261e-01 -1.56668090e-01 -4.36958078e-01\n",
      "  -4.70192769e-01 -3.00143073e-01]\n",
      " [ 7.34995979e-01  8.23390328e-02  4.08556609e-01 -4.14327866e-01\n",
      "   5.68397701e-01  7.00858802e-01  4.10567991e-01  7.40235941e-01\n",
      "   1.00000000e+00  8.54646265e-01 -1.19185755e-01  5.63322746e-01\n",
      "   5.84648717e-01 -3.25911032e-01  3.02371753e-01 -7.09098069e-02\n",
      "   3.28390530e-01  5.05761943e-01 -5.77009199e-02  1.88978498e-01\n",
      "   4.66730149e-01  2.96824333e-01 -1.49815779e-01 -2.40685618e-02\n",
      "   5.43295931e-01  5.06860393e-01  3.31292361e-01  3.86806676e-01\n",
      "   1.53225377e-01 -3.16747016e-01 -2.26000676e-01  3.69406462e-01\n",
      "   7.25944194e-01 -7.16098969e-02  3.42180888e-01 -2.54406495e-01\n",
      "  -3.56238074e-01 -2.61525183e-01 -2.59492692e-01 -6.87095988e-02\n",
      "  -4.61374302e-01 -1.49382306e-01 -5.13454830e-01 -3.94771204e-01\n",
      "  -1.59103231e-01 -3.67579903e-02  2.07267020e-01 -1.87384282e-03\n",
      "  -4.23981305e-01 -2.57220875e-01 -3.62419702e-01  3.37018878e-01\n",
      "   2.43108404e-01  5.39251343e-01  1.74403219e-01  3.92651472e-01\n",
      "   2.24591628e-01  3.52129851e-01  1.04575791e-02  2.99365441e-01\n",
      "   1.29215488e-02 -2.01807400e-01 -5.02361036e-01 -2.64459206e-01\n",
      "  -5.03802694e-01 -4.73655192e-01  4.97713429e-01  4.42161882e-01\n",
      "   4.82560379e-01  8.52169149e-02 -3.34005693e-01  1.82427792e-02\n",
      "   2.74594419e-01 -3.67354319e-01 -3.70403229e-01 -3.42512120e-01\n",
      "  -2.30584388e-01 -1.26578251e-01 -3.78211955e-01 -3.66388480e-01\n",
      "  -2.46432762e-01  1.10734731e-01  1.66751884e-01  9.28477542e-02\n",
      "   2.72967397e-01 -3.22404757e-01  9.83055234e-02  2.22265967e-01\n",
      "  -1.21444777e-01 -3.67773006e-01  1.20998094e-02 -1.79695332e-01\n",
      "  -5.02515644e-01 -4.33639721e-01 -5.29549950e-01 -3.25225736e-01\n",
      "  -4.37664650e-01 -4.36792457e-01 -3.69545516e-01 -4.33808715e-01\n",
      "  -4.96152759e-01 -1.55259375e-01 -1.48656064e-01  7.35631292e-02\n",
      "  -1.29587522e-01  1.16357589e-01 -3.29872520e-01 -2.69259488e-01\n",
      "  -2.76438514e-01  2.72735804e-01 -1.77565198e-01 -3.84430150e-02\n",
      "  -2.62703371e-01 -3.08487867e-01 -2.43563988e-02  1.01868700e-01\n",
      "   2.04253574e-01  1.60301522e-01  5.60135582e-01  6.96359623e-01\n",
      "   3.20154820e-01  2.43490145e-01 -3.84721367e-01 -4.48827206e-01\n",
      "   6.56708728e-02 -3.02667503e-01 -6.91585587e-02 -3.71808039e-01\n",
      "  -3.78762465e-01 -2.39489179e-01]\n",
      " [ 6.85771185e-01  1.98483871e-01  4.89408902e-01 -4.54366914e-01\n",
      "   6.32349175e-01  7.68064984e-01  5.70817899e-01  7.96924800e-01\n",
      "   8.54646265e-01  1.00000000e+00 -3.70490347e-01  4.67253971e-01\n",
      "   5.98221608e-01 -3.04880927e-01  4.15910652e-01 -2.79293279e-02\n",
      "   5.21569537e-01  4.62925395e-01 -7.95539788e-02  3.79179942e-01\n",
      "   5.11398203e-01  3.60222883e-01 -1.59889525e-01 -1.97873805e-03\n",
      "   5.73852766e-01  6.47985884e-01  1.89576597e-01  4.94698932e-01\n",
      "   8.32300166e-02 -4.34539042e-01 -2.99990916e-01  4.69039526e-01\n",
      "   6.86755928e-01  3.50062244e-03  3.68024182e-01 -3.49294221e-01\n",
      "  -5.14641035e-01 -3.94159134e-01 -4.62591602e-01 -2.45708382e-01\n",
      "  -5.17095013e-01 -1.57544578e-01 -5.97535698e-01 -3.96996494e-01\n",
      "  -1.80847787e-01 -2.08087346e-01  4.20204205e-01  1.85330314e-01\n",
      "  -5.51542198e-01 -4.48234246e-01 -2.97733883e-01  5.25754594e-01\n",
      "   3.42351781e-01  7.54317324e-01  2.80415674e-01  5.39092393e-01\n",
      "   2.62604793e-01  3.94142630e-01  2.47203506e-01  4.40023371e-01\n",
      "   7.42742603e-02 -7.24269077e-02 -5.06316939e-01 -1.15028653e-01\n",
      "  -5.29026952e-01 -4.94105837e-01  5.72532129e-01  4.56629753e-01\n",
      "   6.14071620e-01  1.42924980e-01 -4.40915255e-01  1.69518234e-02\n",
      "   3.28441937e-01 -4.19250717e-01 -5.65256310e-01 -4.68510081e-01\n",
      "  -3.73399733e-01 -1.97753327e-01 -5.43245330e-01 -3.91770212e-01\n",
      "  -2.25739115e-01  2.19395255e-01  3.08225046e-01  2.05866663e-01\n",
      "   3.42394770e-01 -4.08275606e-01  1.69344686e-01  2.90386533e-01\n",
      "  -1.15454331e-01 -3.35003151e-01  8.61527974e-02 -1.37611199e-01\n",
      "  -6.01619391e-01 -5.64718640e-01 -6.15887931e-01 -3.53553560e-01\n",
      "  -4.12999930e-01 -5.10742078e-01 -3.70594132e-01 -5.59243738e-01\n",
      "  -4.80187181e-01 -2.39490505e-01 -2.24418802e-01  1.94037593e-01\n",
      "  -2.32745604e-01  1.51015279e-01 -4.30509949e-01 -2.85038660e-01\n",
      "  -3.25689941e-01  3.18048527e-01 -3.38041515e-01  1.65381029e-02\n",
      "  -4.15851818e-01 -4.31032038e-01  2.06078714e-02  2.03934445e-01\n",
      "   1.46508544e-01  1.56952802e-01  6.61441072e-01  6.69646073e-01\n",
      "   3.32745018e-01  4.69336111e-01 -4.81229346e-01 -5.55150538e-01\n",
      "   1.25119082e-01 -3.37876461e-01 -1.40638646e-01 -4.72946271e-01\n",
      "  -5.75129780e-01 -4.02041940e-01]\n",
      " [-1.86776250e-01 -2.01400247e-01 -1.42619473e-01  2.97276417e-01\n",
      "  -1.41835543e-01 -2.33510871e-01 -3.63896026e-01 -2.82562630e-01\n",
      "  -1.19185755e-01 -3.70490347e-01  1.00000000e+00 -1.27584936e-01\n",
      "  -2.60563547e-01  8.53470427e-02  3.54587126e-02  1.65826619e-01\n",
      "  -3.93525634e-01  1.37331826e-01  3.43990329e-01  5.02660615e-02\n",
      "  -1.22119049e-01 -2.00464104e-01  2.65746683e-01  4.01176873e-01\n",
      "  -7.46361028e-02 -1.81022450e-01  1.99267475e-01 -1.78057221e-01\n",
      "   4.72989011e-01  6.17245389e-01  7.54366364e-01 -3.79167544e-01\n",
      "  -2.31492794e-01  1.83120906e-01 -1.22799795e-01  5.83742662e-01\n",
      "   4.30041484e-01  6.55851826e-01  8.04670113e-01  7.89808587e-01\n",
      "   3.52397220e-01  3.61150519e-01  3.68432397e-01  3.73051837e-01\n",
      "   3.42864408e-01  4.47761669e-01 -3.61519394e-01 -5.58077070e-01\n",
      "   3.57530761e-01  5.79417163e-01  4.00650242e-01 -2.94344959e-01\n",
      "  -4.64715854e-01 -4.99832365e-01 -5.42432651e-01 -6.21579339e-01\n",
      "  -1.29897864e-01 -4.61434456e-01 -4.63816870e-01 -5.79647897e-01\n",
      "  -2.88906805e-01  9.52664431e-02  8.24271686e-02  1.37653265e-01\n",
      "   1.66476773e-01  1.59217163e-01 -4.34130271e-01 -1.14353528e-01\n",
      "  -5.45390895e-01 -3.24679361e-01  3.86523629e-01 -7.89732948e-02\n",
      "  -2.98139433e-01  3.62093018e-01  3.80569715e-01  3.98786255e-01\n",
      "   2.89970641e-01  1.45078928e-01  3.38251854e-01  2.69750313e-01\n",
      "  -8.04778358e-02 -4.69124131e-01 -5.25706435e-01 -4.87916097e-01\n",
      "  -5.46255781e-01  1.17364888e-01 -4.76170288e-01 -5.40498392e-01\n",
      "  -2.24552967e-01  1.74123949e-01 -4.40163017e-01 -2.44500788e-01\n",
      "   9.45783058e-02  1.79029692e-01  1.88717736e-01 -1.21491745e-01\n",
      "  -1.16602843e-01  3.74463522e-02 -7.43832188e-02 -1.78336637e-02\n",
      "  -1.37195401e-02  8.59311484e-02 -2.26359939e-02 -3.23866660e-01\n",
      "   3.60435817e-01 -1.96860738e-01  1.87256112e-01  1.28006409e-01\n",
      "   1.12434998e-01 -2.96875042e-01  4.83319933e-02 -1.02935171e-01\n",
      "   2.11792743e-01  2.14655815e-01 -1.66800566e-01 -2.80800939e-01\n",
      "   1.10070110e-01 -1.54631930e-01 -5.38533542e-01 -4.04097334e-01\n",
      "  -1.97915644e-01 -2.70495863e-01  4.40632194e-01  4.44466476e-01\n",
      "  -1.26830493e-01  4.41118314e-01  1.40650187e-01  4.71639571e-01\n",
      "   5.28186214e-01  2.59378940e-01]\n",
      " [ 4.74374720e-01  4.67450135e-01  2.98806206e-03 -2.13902984e-01\n",
      "   4.08876678e-01  4.90376545e-01  3.45226047e-01  4.69577488e-01\n",
      "   5.63322746e-01  4.67253971e-01 -1.27584936e-01  1.00000000e+00\n",
      "   5.04497716e-01  2.80123500e-01  5.26801307e-02  3.40972125e-02\n",
      "   3.94017777e-01  9.34843035e-02  4.59346641e-02  3.53390308e-02\n",
      "  -3.06600011e-02  1.37019188e-01  3.26473596e-01  5.74833801e-02\n",
      "   8.98169004e-02  8.78562900e-02  1.55105564e-02  1.21939711e-01\n",
      "   1.12673300e-04 -2.10056829e-01 -2.31922153e-01  4.12157439e-01\n",
      "   4.46964653e-01 -4.52411530e-02 -2.62087286e-02 -2.30518421e-01\n",
      "  -1.42464902e-01 -2.65275866e-01 -2.69977143e-01 -1.95021272e-01\n",
      "   1.78706024e-01 -2.15581429e-01 -2.98180249e-01  4.76011430e-02\n",
      "   8.96538026e-03  6.12026425e-02  3.02179775e-03 -8.06235859e-02\n",
      "  -3.06019031e-01 -1.85532841e-01 -1.70841038e-01  1.56781493e-01\n",
      "   9.92512497e-03  2.17520293e-01  1.07266573e-01  1.91955498e-01\n",
      "  -6.55669771e-02  9.28342075e-02 -3.37913091e-02  2.20648374e-01\n",
      "  -5.19759263e-02 -8.28658263e-02 -2.67653176e-01 -1.43059100e-01\n",
      "  -2.62940718e-01 -3.00738570e-01  1.93507696e-01  3.68816724e-02\n",
      "   1.88359996e-01 -1.15377205e-01 -1.95855528e-01 -1.20249198e-01\n",
      "  -2.55814273e-02 -1.95940239e-01 -2.36815601e-01 -2.60651051e-01\n",
      "  -1.90165636e-01 -7.83811375e-02 -2.29409975e-01 -1.74384411e-01\n",
      "   2.01232565e-02  1.56300758e-01  6.64606781e-02  1.06901241e-01\n",
      "   1.36591953e-01 -1.24480924e-01  7.07323607e-02  1.41092205e-01\n",
      "  -5.74299399e-02 -1.22374274e-01 -1.37409730e-02 -1.15708629e-01\n",
      "  -2.81169384e-01 -2.57972440e-01 -1.98779287e-01 -3.03987133e-02\n",
      "  -2.01540706e-01 -2.30818840e-01 -1.57608951e-01 -1.77874884e-01\n",
      "  -2.17729750e-01 -4.88880447e-02 -4.77659454e-03 -1.08789471e-01\n",
      "  -9.72333203e-02  1.24255016e-01 -2.13414624e-01 -1.54299154e-01\n",
      "  -1.56387914e-01 -2.71874033e-02 -1.26517766e-01  8.73678815e-03\n",
      "  -1.66394583e-01 -2.01147233e-01  4.54982992e-02 -1.34890295e-01\n",
      "  -1.17096462e-01 -1.76489748e-02  1.77837689e-01  4.13441565e-01\n",
      "  -6.25260340e-03 -2.91783196e-02 -2.06263765e-01 -2.94747855e-01\n",
      "  -1.50177495e-01 -1.44475118e-01  5.93452460e-02 -2.89161468e-01\n",
      "  -2.65696259e-01 -1.83067421e-01]\n",
      " [ 6.02731823e-01  4.41958805e-01  2.59815240e-01 -1.09852632e-01\n",
      "   4.53776258e-01  8.04524980e-01  4.94872683e-01  7.25461027e-01\n",
      "   5.84648717e-01  5.98221608e-01 -2.60563547e-01  5.04497716e-01\n",
      "   1.00000000e+00 -1.52340293e-01  5.53569776e-01  7.50210138e-02\n",
      "   4.59332164e-01  3.99717856e-01  1.19929401e-01  4.97713700e-01\n",
      "   3.52872637e-01  5.88560509e-01 -4.59218242e-02  1.23974508e-01\n",
      "   3.56278865e-01  5.31839115e-01  3.92963536e-01  6.95269778e-01\n",
      "  -1.46954610e-01 -9.51623963e-02 -2.28825808e-01  5.56327883e-01\n",
      "   5.82533852e-01  7.70074396e-02  4.61503531e-01 -2.87875800e-01\n",
      "  -3.27546875e-01 -3.43440688e-01 -3.69113732e-01 -3.97774298e-01\n",
      "  -2.87811355e-01 -3.78086303e-01 -5.96243200e-01 -2.90889117e-01\n",
      "  -2.58794171e-02 -9.57415609e-02 -7.00717833e-02  1.65379780e-01\n",
      "  -3.90804170e-01 -4.74099340e-01 -4.81573675e-01  1.76836932e-01\n",
      "   2.21041505e-01  3.32714575e-01  3.98499426e-01  4.96894267e-01\n",
      "   2.08941369e-01  1.73996690e-01  1.06246029e-01  3.12720878e-01\n",
      "   9.24928366e-02 -1.63313466e-01 -4.86545552e-01 -2.97861212e-01\n",
      "  -4.79031315e-01 -4.35034772e-01  3.73954147e-01  3.11238189e-02\n",
      "   3.99224421e-01  1.01671632e-02 -4.04686614e-01  7.74956631e-02\n",
      "   1.18188551e-01 -4.71234238e-01 -4.43261072e-01 -5.58011201e-01\n",
      "  -4.20693448e-01 -3.83956875e-01 -4.19529707e-01 -4.05307622e-01\n",
      "  -1.31658970e-01  3.77884570e-01  3.56201102e-01  2.74351559e-01\n",
      "   4.34703472e-01 -2.89910321e-01  2.61997495e-01  4.34186584e-01\n",
      "   1.49595889e-01 -3.32166243e-01  2.50039078e-01  3.95426533e-02\n",
      "  -3.15960367e-01 -3.86938361e-01 -4.43323151e-01 -7.86597316e-02\n",
      "  -3.12461512e-01 -3.21809879e-01 -2.56720057e-01 -3.29779372e-01\n",
      "  -4.07880041e-01 -2.68019100e-01 -3.42730516e-02  9.65713531e-02\n",
      "  -3.40113608e-01  7.10123113e-02 -3.50529449e-01 -3.01977552e-01\n",
      "  -2.96615435e-01  1.40451246e-01 -2.04778131e-01 -1.33672209e-01\n",
      "  -3.58469055e-01 -3.74206899e-01 -3.26547307e-02  4.66356504e-02\n",
      "  -7.19301183e-02  6.97185111e-02  4.28146028e-01  3.76599767e-01\n",
      "   1.46788387e-01  6.64664820e-02 -4.70288059e-01 -5.25218069e-01\n",
      "  -6.59181364e-02 -4.34909872e-01 -2.61350514e-01 -5.39532735e-01\n",
      "  -4.64694116e-01 -4.49258773e-01]\n",
      " [-3.63926912e-01  3.75590719e-01 -1.39275628e-01  1.72698474e-01\n",
      "  -6.78405960e-03 -2.46443695e-01 -2.49910512e-01 -2.30656818e-01\n",
      "  -3.25911032e-01 -3.04880927e-01  8.53470427e-02  2.80123500e-01\n",
      "  -1.52340293e-01  1.00000000e+00 -9.96675580e-02  4.33072642e-01\n",
      "  -1.40742164e-01 -3.00376634e-01  5.47227000e-01 -6.02702268e-02\n",
      "  -2.09038656e-01  1.09417950e-02  6.86742698e-01  4.62968535e-01\n",
      "  -3.18654082e-01 -4.70027108e-01 -1.32072292e-01 -3.51771077e-01\n",
      "   9.70301132e-02  2.66824136e-01  1.67509082e-01 -4.50151913e-02\n",
      "  -3.65218250e-01 -1.79791101e-01 -2.14403751e-01  2.63978433e-01\n",
      "   3.04170332e-01  3.35066274e-01  1.95392435e-01  8.44141555e-02\n",
      "   4.69745860e-01 -3.70180685e-02  2.08709009e-01  3.24582335e-01\n",
      "   8.16965603e-02  4.18961404e-02 -1.91532796e-01 -1.71651827e-01\n",
      "   2.32442388e-01  5.64660082e-02  6.71020076e-02 -1.64188004e-01\n",
      "  -3.73975377e-01 -3.76860269e-01 -9.56563187e-02 -2.71675968e-01\n",
      "  -1.90881872e-01 -1.48692486e-01 -5.74415244e-02 -1.73931834e-01\n",
      "  -3.05777191e-02  3.96161463e-01  2.06389583e-01  1.25843115e-01\n",
      "   1.92778403e-01  1.05684501e-01 -3.50669948e-01 -4.15471257e-01\n",
      "  -3.36413545e-01 -2.47024344e-01  2.52439735e-01 -5.34523048e-02\n",
      "  -2.05235325e-01  2.18428632e-01  1.30993350e-02  3.05617652e-02\n",
      "   9.33939101e-02  6.15168522e-03  1.68502985e-01  9.97242628e-02\n",
      "   1.05133598e-01 -1.14068543e-01 -2.75579512e-01 -1.37667115e-02\n",
      "  -3.11326524e-01  2.10021096e-01  4.47523330e-02 -2.78887187e-01\n",
      "   8.69229397e-02  2.04523224e-01  7.13538353e-02  8.83617633e-02\n",
      "   2.59851633e-01  1.52623166e-01  2.78231211e-01  2.30821376e-01\n",
      "   1.70963827e-01  2.69644528e-01  7.65669001e-02  2.16896668e-01\n",
      "   2.78529881e-01  3.42229228e-01  2.52672017e-01 -2.57417293e-01\n",
      "  -1.26661056e-01 -1.77579807e-01 -4.85706230e-02 -8.25979050e-02\n",
      "  -5.73223992e-02 -3.36959639e-01 -8.35949052e-02 -6.02298564e-02\n",
      "  -3.03615604e-02 -1.45759882e-02 -8.57603123e-02 -2.00753092e-01\n",
      "  -2.95326108e-01 -2.28078662e-01 -5.52158669e-01 -3.43809514e-01\n",
      "  -2.97551006e-01 -2.62644664e-01  1.20150121e-01  1.24262905e-01\n",
      "  -1.73020468e-01  2.01620452e-01  2.51608579e-01  5.79732449e-03\n",
      "   5.59741119e-02  8.60701709e-02]\n",
      " [ 3.93201123e-01  5.68180705e-01  5.71599865e-01  1.06535633e-02\n",
      "   4.71519753e-01  5.54093258e-01  4.82457146e-01  3.64695397e-01\n",
      "   3.02371753e-01  4.15910652e-01  3.54587126e-02  5.26801307e-02\n",
      "   5.53569776e-01 -9.96675580e-02  1.00000000e+00  8.67793963e-02\n",
      "   4.53216977e-01  7.38982549e-01  3.87074519e-01  8.49456221e-01\n",
      "   5.50691310e-01  5.38268826e-01  3.64018304e-02  3.95766858e-01\n",
      "   5.96685770e-01  7.74406372e-01  5.53726940e-01  7.97001509e-01\n",
      "   1.42627296e-01  1.53765488e-01  1.98906079e-01  5.39163922e-01\n",
      "   3.36773770e-01 -5.63314064e-03  7.59073140e-01 -2.77703844e-03\n",
      "  -2.55476621e-01 -6.44183788e-03 -7.58843369e-02 -9.08418872e-02\n",
      "  -2.30430368e-01 -2.33208395e-01 -3.67943396e-01 -1.44002523e-01\n",
      "  -1.32945007e-01 -2.85268900e-01  4.54814880e-02  1.46714725e-01\n",
      "  -2.62824886e-01 -3.99261101e-01 -3.20248308e-01  2.80433716e-01\n",
      "   2.61506649e-01  2.69435221e-01  2.70960657e-01  2.08640165e-01\n",
      "   6.28114808e-01  6.73934894e-02  2.72232499e-01  2.21717757e-01\n",
      "   7.35980558e-02  8.79960470e-02 -5.00796944e-01 -2.32560539e-01\n",
      "  -4.53159492e-01 -4.22529122e-01  2.05210702e-01  1.07636184e-01\n",
      "   1.58352733e-01  7.92350379e-02 -3.86444634e-01  1.51654358e-01\n",
      "   2.06678911e-01 -3.84576057e-01 -4.09065794e-01 -4.37298044e-01\n",
      "  -3.74591035e-01 -3.75201685e-01 -4.48402251e-01 -3.99861571e-01\n",
      "  -4.94753413e-01  1.92950294e-01  2.14080787e-01  4.28448544e-02\n",
      "   1.60318249e-01 -4.64038298e-01  1.30862585e-01  9.70522182e-02\n",
      "   1.14412261e-01 -2.39269980e-01  3.41606220e-01  8.98987043e-02\n",
      "  -3.81410690e-01 -3.79685741e-01 -3.15717730e-01 -2.33425830e-01\n",
      "  -4.40136896e-01 -3.87327033e-01 -4.78170927e-01 -5.22156943e-01\n",
      "  -4.15120621e-01 -1.41139933e-01 -2.06115276e-01  1.26789098e-01\n",
      "  -4.45625051e-01 -3.58392769e-01 -4.78795822e-01 -4.29458475e-01\n",
      "  -4.87676946e-01  1.86385526e-01 -4.57111218e-01 -1.35171478e-01\n",
      "  -5.46385079e-01 -4.81956974e-01 -1.38476104e-01  3.02712689e-01\n",
      "   1.63460270e-01  2.61097869e-01  2.55323905e-01  1.40202681e-01\n",
      "   3.62692090e-01  4.27848062e-01 -2.78923273e-01 -2.69892294e-01\n",
      "   2.64524088e-01 -4.02448518e-01 -2.38507492e-01 -2.99023412e-01\n",
      "  -3.96081850e-01 -6.54607826e-01]\n",
      " [-1.12613937e-01 -2.21142105e-03  1.40920927e-01  2.30065400e-01\n",
      "   4.65668378e-01  1.60237593e-02 -1.99981019e-01  2.02008890e-02\n",
      "  -7.09098069e-02 -2.79293279e-02  1.65826619e-01  3.40972125e-02\n",
      "   7.50210138e-02  4.33072642e-01  8.67793963e-02  1.00000000e+00\n",
      "  -1.29773914e-01 -4.20469526e-02  6.18070285e-01  2.52463101e-01\n",
      "   7.77625675e-02  1.61768985e-01  4.36316697e-01  6.27131605e-01\n",
      "   2.64587561e-03 -1.22871396e-01  1.76502986e-01 -2.97435290e-02\n",
      "   2.78691301e-01  3.38308263e-01  3.08131885e-01 -9.01142330e-02\n",
      "  -1.30833110e-01  3.23863267e-01 -4.10291586e-03  4.21005160e-01\n",
      "   1.18281277e-01  3.32116236e-01  3.02142146e-01  2.00778355e-01\n",
      "   9.75544823e-02  5.98229463e-02  3.35321165e-02  1.21402636e-01\n",
      "   3.64884801e-01  2.27153582e-01 -1.71598540e-01 -1.37614895e-01\n",
      "   1.58122882e-01  2.21651031e-01  4.48939388e-03 -2.14593468e-01\n",
      "  -3.21113544e-01 -3.01784198e-01 -1.75889423e-01 -2.34143820e-01\n",
      "  -2.13448100e-01 -1.93403256e-01 -1.10543081e-01 -6.60129337e-02\n",
      "   4.30792394e-02  4.18550373e-01  1.84134743e-01  6.90982721e-02\n",
      "   1.27228045e-01  5.01121216e-02 -3.07793356e-01 -2.63449161e-01\n",
      "  -2.66087338e-01 -2.85109701e-01  7.73915566e-02 -1.74208548e-01\n",
      "  -1.38243672e-01  7.34492930e-02 -1.02483109e-01 -2.23866389e-02\n",
      "   4.20111064e-02  1.33345728e-01  1.54584856e-02  1.04692718e-01\n",
      "   8.72673423e-02 -2.25178137e-01 -3.03276189e-01 -1.51550617e-01\n",
      "  -3.21520883e-01  3.75702211e-02 -1.28193683e-01 -3.00035374e-01\n",
      "  -1.17650484e-01  1.35382988e-01 -1.86080052e-01  1.23391260e-02\n",
      "  -9.15432451e-02  6.41163327e-04 -5.18548741e-02  7.13512511e-02\n",
      "   3.81787892e-02  1.31714649e-02 -5.62096739e-02  1.22696489e-02\n",
      "   4.20180146e-02  8.42550187e-02  2.10376858e-02 -2.30815450e-01\n",
      "  -4.53844485e-02 -2.48363358e-03 -1.29123553e-01 -1.24892674e-01\n",
      "  -1.05430407e-01 -2.89997188e-01 -2.09783993e-01 -3.08474529e-02\n",
      "  -1.05256026e-01 -9.62374399e-02 -6.93976689e-02 -2.34506860e-01\n",
      "  -3.05355634e-01 -3.31903748e-01 -4.20005631e-01 -2.80283717e-01\n",
      "  -3.57447139e-01 -2.83287886e-01  5.91734903e-02 -6.37222964e-03\n",
      "  -2.45622543e-01  1.07370980e-01  2.68190878e-01 -1.15867713e-01\n",
      "  -7.51272363e-02 -3.04892549e-02]\n",
      " [ 3.23838404e-01  5.11503267e-01  5.23164396e-01 -2.07525241e-01\n",
      "   2.58697739e-01  4.06413779e-01  9.40379651e-01  4.15116261e-01\n",
      "   3.28390530e-01  5.21569537e-01 -3.93525634e-01  3.94017777e-01\n",
      "   4.59332164e-01 -1.40742164e-01  4.53216977e-01 -1.29773914e-01\n",
      "   1.00000000e+00  4.05024524e-01 -1.12164223e-01  3.97459386e-01\n",
      "   4.61808660e-01  2.26466163e-01  2.02269163e-01 -4.92606655e-02\n",
      "   5.10889574e-01  6.26221013e-01  2.46366857e-01  6.28441117e-01\n",
      "   1.66524660e-02 -3.55906432e-01 -2.81105468e-01  5.90639488e-01\n",
      "   3.03196022e-01  9.12700705e-02  5.29930658e-01 -4.01319472e-01\n",
      "  -4.69086164e-01 -4.79336343e-01 -4.97174884e-01 -3.37499043e-01\n",
      "  -7.79292418e-02 -2.56358693e-01 -5.09448389e-01  8.11813058e-02\n",
      "  -9.92542315e-02 -1.73820278e-01  2.93507697e-01  2.32997436e-01\n",
      "  -4.10938532e-01 -4.13373647e-01 -2.89460326e-01  3.54331591e-01\n",
      "   5.36748472e-01  5.56924295e-01  4.80598481e-01  5.13290215e-01\n",
      "   3.00703969e-01  9.06622000e-02  2.94032218e-01  3.74052094e-01\n",
      "   1.24463457e-01 -6.28356800e-02 -4.28121591e-01 -1.58362080e-01\n",
      "  -4.63414972e-01 -4.13303308e-01  2.61020203e-01  2.03352469e-01\n",
      "   3.16694241e-01  1.31758985e-01 -4.76755956e-01 -4.04971994e-02\n",
      "   2.58382859e-01 -4.34494476e-01 -5.16064990e-01 -4.57486101e-01\n",
      "  -4.12778948e-01 -1.75634077e-01 -4.72486637e-01 -2.54960834e-01\n",
      "  -2.30017378e-01  2.44873527e-01  2.95954163e-01  2.87656558e-01\n",
      "   3.75055335e-01 -3.65691388e-01  1.90437473e-01  3.36769817e-01\n",
      "   1.83197675e-02 -2.40462204e-01  9.79706158e-02  2.87317217e-03\n",
      "  -4.95214666e-01 -4.39305424e-01 -5.31625214e-01 -1.77572478e-01\n",
      "  -3.08894228e-01 -4.75881775e-01 -3.43253652e-01 -4.37326962e-01\n",
      "  -4.32479667e-01 -3.87382934e-01 -2.17564835e-01  1.89228063e-01\n",
      "  -3.07742647e-01  1.01524099e-01 -3.92215750e-01 -2.75548363e-01\n",
      "  -3.21375921e-01  2.03434585e-01 -2.96203643e-01  3.32040638e-02\n",
      "  -4.12422992e-01 -4.19789337e-01  6.88423695e-02  1.99967444e-01\n",
      "   1.22414723e-01  2.24331794e-01  6.46405681e-01  2.56940110e-01\n",
      "   3.27541882e-01  5.16010384e-01 -3.02483730e-01 -4.29894121e-01\n",
      "   2.15808808e-01 -4.05838201e-01 -8.97225406e-02 -4.00660981e-01\n",
      "  -4.92227107e-01 -4.41722411e-01]\n",
      " [ 4.37691797e-01  3.47750282e-01  6.56726284e-01 -2.94190691e-01\n",
      "   3.03400954e-01  4.81025960e-01  5.23081043e-01  2.84780582e-01\n",
      "   5.05761943e-01  4.62925395e-01  1.37331826e-01  9.34843035e-02\n",
      "   3.99717856e-01 -3.00376634e-01  7.38982549e-01 -4.20469526e-02\n",
      "   4.05024524e-01  1.00000000e+00  7.49934456e-02  7.33924943e-01\n",
      "   7.38739460e-01  4.07101786e-01 -1.74152905e-01  1.04909237e-01\n",
      "   8.59523077e-01  7.41392466e-01  6.68738041e-01  6.50438623e-01\n",
      "   2.14304885e-01 -1.63774366e-01  3.24231280e-03  4.27783636e-01\n",
      "   4.02543635e-01 -1.19908962e-02  7.05019234e-01 -2.08706382e-01\n",
      "  -3.63826104e-01 -2.27227525e-01 -4.58095079e-02  1.60875117e-02\n",
      "  -2.56935561e-01 -1.58984637e-01 -4.19594043e-01 -3.35595580e-01\n",
      "  -2.64916344e-01 -1.85378245e-01  2.12338368e-01  1.27039886e-01\n",
      "  -2.71128438e-01 -2.38455976e-01 -2.04226041e-01  2.83704527e-01\n",
      "   4.22003730e-01  3.51126462e-01  2.34105014e-01  2.57974663e-01\n",
      "   6.09637519e-01  2.07840772e-01  1.42353008e-01  1.83801374e-01\n",
      "  -2.70179041e-02 -1.51649557e-01 -6.23605851e-01 -2.79264914e-01\n",
      "  -5.15629522e-01 -4.69655254e-01  3.91177755e-01  4.27184467e-01\n",
      "   2.18270021e-01  2.64790222e-01 -4.88167653e-01  1.94171352e-01\n",
      "   3.71016802e-01 -4.91823956e-01 -3.41898609e-01 -4.06919565e-01\n",
      "  -4.35381879e-01 -3.58998345e-01 -4.71160178e-01 -4.30785296e-01\n",
      "  -5.30482912e-01  1.15447181e-01  1.69505767e-01 -6.66792743e-02\n",
      "   2.32168681e-01 -4.53670367e-01 -1.86986001e-02  1.64849384e-01\n",
      "  -5.37937192e-02 -3.23124452e-01  9.06216394e-02  3.91194278e-02\n",
      "  -5.71565275e-01 -4.23032018e-01 -4.45183583e-01 -3.84485594e-01\n",
      "  -5.63159588e-01 -5.85613209e-01 -5.67059402e-01 -5.94471036e-01\n",
      "  -5.67576682e-01 -2.14426538e-01 -1.73015588e-01  3.78582853e-01\n",
      "  -1.87997319e-01 -1.54331545e-01 -3.31340850e-01 -2.80106478e-01\n",
      "  -3.53386515e-01  4.57349139e-01 -2.72320159e-01  2.15469756e-02\n",
      "  -3.66246843e-01 -3.53398847e-01  9.81879423e-03  4.40666682e-01\n",
      "   4.59416432e-01  3.74090148e-01  4.70625874e-01  3.05467500e-01\n",
      "   5.40586576e-01  5.46939174e-01 -2.02460813e-01 -2.12334021e-01\n",
      "   4.12947598e-01 -4.24519207e-01 -1.65594902e-01 -2.35718365e-01\n",
      "  -3.72717337e-01 -5.91078875e-01]\n",
      " [-1.82442170e-01  2.10946253e-01  2.98669708e-01  2.27450317e-01\n",
      "   2.96315893e-01 -3.40258831e-02 -2.57551547e-01 -6.22225162e-02\n",
      "  -5.77009199e-02 -7.95539788e-02  3.43990329e-01  4.59346641e-02\n",
      "   1.19929401e-01  5.47227000e-01  3.87074519e-01  6.18070285e-01\n",
      "  -1.12164223e-01  7.49934456e-02  1.00000000e+00  3.71847439e-01\n",
      "   1.60225028e-01  2.89726765e-01  6.40723036e-01  8.99908028e-01\n",
      "  -1.06678024e-02 -1.13392809e-01  2.63130527e-01  4.08913121e-02\n",
      "   4.52540717e-01  4.40416569e-01  4.54111888e-01 -1.25568894e-01\n",
      "  -2.48667240e-01 -1.92983965e-02  2.57806184e-01  4.06581600e-01\n",
      "   1.98270776e-01  5.73025308e-01  4.34405763e-01  3.27472714e-01\n",
      "   4.83250204e-02  5.34761672e-02  1.83103824e-01  1.55085265e-01\n",
      "   1.70435247e-01  1.09212191e-01 -2.78388356e-01 -2.51225813e-01\n",
      "   2.26487725e-01  1.34010322e-01 -3.12345154e-02 -8.41480124e-02\n",
      "  -3.16101194e-01 -3.87937526e-01 -1.28095527e-01 -2.99714893e-01\n",
      "   7.45163914e-02 -3.68090086e-01  3.12344813e-02 -4.71287723e-02\n",
      "  -8.09911533e-02  5.09884352e-01  1.13186573e-01  1.59481987e-03\n",
      "   3.34182437e-02 -5.33301942e-02 -4.32744770e-01 -4.68094878e-01\n",
      "  -3.63913515e-01 -2.86150871e-01  1.92598351e-01 -1.91007617e-01\n",
      "  -1.77875765e-01  1.38167667e-01 -8.88711638e-02 -1.55506289e-02\n",
      "   8.16410078e-02  1.21502207e-02  6.29289931e-02  4.32446669e-02\n",
      "  -1.12253347e-01 -1.41762302e-01 -3.29798819e-01 -1.35866916e-01\n",
      "  -3.79105877e-01 -7.55512145e-02 -3.92912628e-02 -3.78745904e-01\n",
      "   5.95112862e-02  1.55345500e-01  7.66887617e-02 -3.67409482e-02\n",
      "   2.31248594e-02 -9.04791106e-03  1.19292513e-01  1.05559554e-01\n",
      "  -1.08936103e-01  6.23362851e-02 -1.41718862e-01 -8.60186733e-02\n",
      "  -1.89092001e-02  2.82415270e-01  1.08478957e-01 -3.57347991e-01\n",
      "  -2.30366385e-01 -3.41971684e-01 -2.22437284e-01 -2.53844835e-01\n",
      "  -2.40116928e-01 -4.07665969e-01 -2.94328604e-01 -9.05612602e-02\n",
      "  -2.03202674e-01 -1.61825668e-01 -1.75855315e-01 -1.16368270e-01\n",
      "  -2.65148991e-01 -9.32780140e-02 -5.12470325e-01 -3.59423578e-01\n",
      "  -2.16960499e-01 -1.17101612e-01  1.28544173e-01  1.11062692e-01\n",
      "  -6.80809742e-02  1.29182313e-01  2.80515664e-01 -1.99614229e-02\n",
      "   5.17744660e-02 -2.87629933e-02]\n",
      " [ 3.07272969e-01  4.57475804e-01  4.80110503e-01 -8.02127373e-02\n",
      "   3.43607005e-01  4.66751290e-01  4.50403402e-01  2.37750106e-01\n",
      "   1.88978498e-01  3.79179942e-01  5.02660615e-02  3.53390308e-02\n",
      "   4.97713700e-01 -6.02702268e-02  8.49456221e-01  2.52463101e-01\n",
      "   3.97459386e-01  7.33924943e-01  3.71847439e-01  1.00000000e+00\n",
      "   6.29410646e-01  5.28619177e-01  7.62323134e-02  4.44866181e-01\n",
      "   6.71898867e-01  7.02755719e-01  5.41968096e-01  6.94992898e-01\n",
      "   2.03037133e-01  7.77630235e-03  1.30001858e-01  4.12535279e-01\n",
      "   2.77454879e-01  1.68701990e-01  6.19332713e-01 -1.48515008e-01\n",
      "  -3.35229831e-01 -1.24816338e-01 -7.62942548e-02 -6.04459622e-02\n",
      "  -1.37679188e-01 -1.33732076e-01 -3.43635207e-01 -1.40503770e-01\n",
      "  -8.30145778e-02 -1.97649320e-01  1.61647210e-01  1.86681327e-01\n",
      "  -3.22138620e-01 -3.17614133e-01 -1.97919213e-01  2.81036058e-01\n",
      "   2.01446317e-01  2.44046243e-01  1.71982729e-01  1.39888855e-01\n",
      "   4.35519223e-01  1.10302147e-02  2.55088885e-01  1.47069141e-01\n",
      "   3.21929875e-02  1.56292589e-01 -4.07914198e-01 -1.41578011e-01\n",
      "  -3.56334467e-01 -3.57841138e-01  1.87379103e-01  1.09539013e-01\n",
      "   1.28355292e-01  1.25774388e-01 -4.45464995e-01  1.97847701e-01\n",
      "   2.19321132e-01 -3.90212755e-01 -4.25290187e-01 -4.25286589e-01\n",
      "  -4.63286408e-01 -4.33285552e-01 -4.95992691e-01 -3.06962959e-01\n",
      "  -3.57332987e-01  1.72157149e-01  1.70040000e-01  2.21275106e-03\n",
      "   1.21972942e-01 -4.30030952e-01 -7.85225428e-03  8.86182484e-02\n",
      "   1.18777867e-02 -2.07505108e-01  1.31602236e-01  3.46248228e-02\n",
      "  -4.60679238e-01 -3.95924347e-01 -3.23376833e-01 -2.49576341e-01\n",
      "  -3.83634728e-01 -4.34464033e-01 -4.08281142e-01 -5.22601485e-01\n",
      "  -3.82797604e-01 -2.00094631e-01 -1.99464824e-01  2.90578537e-01\n",
      "  -3.40690694e-01 -1.65554508e-01 -3.94722660e-01 -3.03213585e-01\n",
      "  -3.77589364e-01  2.28077662e-01 -4.54371780e-01 -4.16355703e-02\n",
      "  -4.76512543e-01 -4.14259865e-01 -2.91737235e-02  3.47838983e-01\n",
      "   1.63951567e-01  2.11986961e-01  2.21254401e-01  8.46363934e-02\n",
      "   2.85702202e-01  4.33864022e-01 -2.28918208e-01 -2.35657974e-01\n",
      "   2.58729433e-01 -3.48286346e-01 -2.22904562e-01 -2.84449523e-01\n",
      "  -4.04600661e-01 -6.69353438e-01]\n",
      " [ 2.02022035e-01  2.44541909e-01  7.74882670e-01 -3.01196900e-01\n",
      "   1.71106549e-01  2.90451147e-01  5.78771598e-01  3.55625318e-01\n",
      "   4.66730149e-01  5.11398203e-01 -1.22119049e-01 -3.06600011e-02\n",
      "   3.52872637e-01 -2.09038656e-01  5.50691310e-01  7.77625675e-02\n",
      "   4.61808660e-01  7.38739460e-01  1.60225028e-01  6.29410646e-01\n",
      "   1.00000000e+00  5.80188458e-01 -3.96283787e-02  1.50363574e-01\n",
      "   8.70967503e-01  6.61980607e-01  6.91933258e-01  5.51813213e-01\n",
      "   2.74339827e-01 -2.94587412e-01 -1.42456491e-01  3.85005244e-01\n",
      "   2.19502455e-01 -8.86194572e-03  7.70748609e-01 -2.84364606e-01\n",
      "  -3.73244115e-01 -1.92012380e-01 -1.55118314e-01  5.08689318e-03\n",
      "  -3.98389551e-01 -3.07730266e-02 -4.75751550e-01 -2.94885498e-01\n",
      "  -3.59112976e-01 -2.67101474e-01  4.33076440e-01  1.71386790e-01\n",
      "  -3.18094422e-01 -2.94597831e-01 -3.30798606e-01  4.25448419e-01\n",
      "   3.44838181e-01  4.03907628e-01  3.20991557e-01  2.77180246e-01\n",
      "   3.54668993e-01  1.65246793e-01  2.18384556e-01  1.14624319e-01\n",
      "   1.94969112e-01 -8.02964396e-02 -4.86096215e-01 -2.31942769e-01\n",
      "  -5.12659184e-01 -4.96395740e-01  3.08303622e-01  3.73161541e-01\n",
      "   2.63693375e-01  3.03097141e-01 -3.59866300e-01  2.72607075e-01\n",
      "   5.33925519e-01 -4.04466430e-01 -4.93531656e-01 -4.62092584e-01\n",
      "  -2.83606282e-01 -2.24417181e-01 -4.07776198e-01 -3.38109117e-01\n",
      "  -4.67755125e-01  2.13738043e-02  7.83147299e-02  8.51054128e-02\n",
      "   2.09849965e-01 -3.64357461e-01  5.96307108e-02  1.36163403e-01\n",
      "   4.61344198e-02 -3.10090947e-01  8.89860193e-02  7.69239584e-02\n",
      "  -4.95726765e-01 -3.39593139e-01 -4.80985257e-01 -3.13833776e-01\n",
      "  -4.01383688e-01 -3.72139830e-01 -3.75922029e-01 -4.32506048e-01\n",
      "  -5.47560130e-01 -1.69617354e-01 -1.86261742e-01  3.23776353e-01\n",
      "  -2.73751398e-01 -7.11474061e-02 -4.33754485e-01 -4.12786449e-01\n",
      "  -4.32981426e-01  3.99071526e-01 -3.08005309e-01 -1.36623779e-01\n",
      "  -4.10092293e-01 -4.24997214e-01 -1.61980619e-01  4.70633747e-01\n",
      "   4.44723403e-01  3.23347978e-01  5.37939436e-01  1.92017135e-01\n",
      "   4.67020018e-01  5.46221980e-01 -3.56034053e-01 -3.06089741e-01\n",
      "   4.18405718e-01 -3.54187310e-01 -7.83434330e-02 -3.74691450e-01\n",
      "  -4.51294717e-01 -3.90880433e-01]\n",
      " [ 1.85779751e-01  4.51446641e-01  4.20886936e-01 -1.54874520e-01\n",
      "   3.53710811e-01  3.63102632e-01  3.12229862e-01  3.98645880e-01\n",
      "   2.96824333e-01  3.60222883e-01 -2.00464104e-01  1.37019188e-01\n",
      "   5.88560509e-01  1.09417950e-02  5.38268826e-01  1.61768985e-01\n",
      "   2.26466163e-01  4.07101786e-01  2.89726765e-01  5.28619177e-01\n",
      "   5.80188458e-01  1.00000000e+00 -4.32656466e-02  1.86469494e-01\n",
      "   3.34821662e-01  4.21972362e-01  5.51343069e-01  5.05927180e-01\n",
      "  -1.83587798e-01  6.01085014e-03 -1.51742324e-01  3.73156955e-01\n",
      "   1.84567205e-01 -3.00927399e-02  5.83435443e-01 -1.24498461e-01\n",
      "   2.55061638e-03 -5.95221731e-02 -1.45491065e-01 -2.87939839e-01\n",
      "  -3.33659849e-01 -3.14769243e-01 -5.27383036e-01 -2.92705591e-01\n",
      "  -3.43199529e-01 -4.09422485e-01  1.44126596e-01  3.16950365e-01\n",
      "  -2.75781856e-01 -4.95034181e-01 -4.61544648e-01  2.69215524e-01\n",
      "   1.59195506e-01  1.57901195e-01  3.72780880e-01  3.08095111e-01\n",
      "   2.61298403e-01  2.17617737e-01  3.29953490e-01  2.09464633e-01\n",
      "   3.20495407e-01 -1.05789603e-01 -4.14315350e-01 -2.50733946e-01\n",
      "  -3.85307922e-01 -3.33816559e-01  2.95022317e-01  7.24092070e-02\n",
      "   2.42441296e-01  2.44352242e-01 -1.64523426e-01  2.95828770e-01\n",
      "   3.12780063e-01 -3.23166783e-01 -4.04879640e-01 -5.37606018e-01\n",
      "  -1.66391946e-01 -2.49551627e-01 -2.11302561e-01 -4.66875990e-01\n",
      "  -2.81800157e-01  2.32280135e-01  1.49118685e-01  1.75983655e-01\n",
      "   2.09305499e-01 -4.85321824e-02  2.44133277e-01  1.41790178e-01\n",
      "   3.48455109e-01 -2.87014539e-01  3.42542764e-01  2.46242233e-01\n",
      "  -1.48578662e-01 -1.91346952e-01 -1.69904736e-01 -2.12516477e-02\n",
      "  -2.72219923e-01 -2.38026341e-02 -6.65696381e-02 -1.81142201e-01\n",
      "  -4.40752356e-01  1.68962822e-01 -4.25004877e-02  9.19354183e-02\n",
      "  -4.14494413e-01 -2.76653225e-01 -4.26643414e-01 -5.00973436e-01\n",
      "  -4.47933395e-01  2.23958866e-01 -1.61266464e-01 -3.83885190e-01\n",
      "  -3.67929973e-01 -3.85863003e-01 -3.70866153e-01  2.29767877e-01\n",
      "   1.15840876e-01  1.75405926e-01  2.49563173e-01  5.97614432e-02\n",
      "   2.11511122e-01  1.03853392e-01 -6.00770200e-01 -3.96522522e-01\n",
      "   1.34549692e-01 -2.87133531e-01 -2.19741147e-01 -5.68226411e-01\n",
      "  -4.48104651e-01 -3.61243794e-01]\n",
      " [-2.10988344e-01  2.16949680e-01  2.74401731e-02  2.10775995e-01\n",
      "   7.68659916e-02 -1.85282772e-01  5.12613143e-02 -1.01776879e-01\n",
      "  -1.49815779e-01 -1.59889525e-01  2.65746683e-01  3.26473596e-01\n",
      "  -4.59218242e-02  6.86742698e-01  3.64018304e-02  4.36316697e-01\n",
      "   2.02269163e-01 -1.74152905e-01  6.40723036e-01  7.62323134e-02\n",
      "  -3.96283787e-02 -4.32656466e-02  1.00000000e+00  6.51778186e-01\n",
      "  -1.43457958e-01 -2.77581773e-01  4.20269857e-02 -1.59116887e-01\n",
      "   3.48385900e-01  2.61069880e-01  2.86435821e-01 -9.40053534e-02\n",
      "  -2.42297645e-01 -2.47882574e-02 -1.04913980e-01  2.54144632e-01\n",
      "   2.15394243e-01  3.21134677e-01  2.29474428e-01  2.32959682e-01\n",
      "   3.80546308e-01  1.10830305e-02  1.74619743e-01  5.55591473e-01\n",
      "   2.75020528e-01  2.31431768e-01 -2.17547504e-01 -3.00275915e-01\n",
      "   2.02605669e-01  1.89648098e-01  3.60755958e-02 -1.28522805e-01\n",
      "  -3.19441382e-01 -3.55492398e-01 -1.96366869e-01 -3.55077443e-01\n",
      "  -1.48734792e-01 -3.55142975e-01 -9.96898361e-02 -1.61563851e-01\n",
      "  -1.02975034e-01  5.09691568e-01  1.54587858e-01  4.23313874e-02\n",
      "   6.08749041e-02 -1.81667771e-02 -3.96666681e-01 -3.45274010e-01\n",
      "  -3.59874364e-01 -2.95103926e-01  2.69921809e-01 -1.50591208e-01\n",
      "  -1.97275176e-01  2.16778227e-01  1.16390199e-02  1.00783725e-01\n",
      "   1.24446808e-01  1.03606277e-01  1.49820407e-01  1.59379787e-01\n",
      "   4.91621866e-03 -2.19386216e-01 -4.07799702e-01 -1.61633524e-01\n",
      "  -3.98662419e-01  3.30218728e-02 -1.60750881e-01 -3.96207080e-01\n",
      "  -3.39099686e-02  1.61415303e-01 -1.63079438e-01 -1.48918086e-01\n",
      "   2.04673995e-02  6.59750649e-02  6.44658776e-02  7.74694220e-02\n",
      "  -1.26866150e-01  8.82959063e-03 -1.34817892e-01 -4.35945546e-02\n",
      "  -1.84989345e-02  2.51819676e-01  1.62429021e-01 -2.87331544e-01\n",
      "  -4.19727228e-02 -1.08019152e-01 -8.11482326e-02 -1.01162568e-01\n",
      "  -7.76809397e-02 -3.21571831e-01 -2.02435535e-01 -1.46294502e-02\n",
      "  -5.52592278e-02 -4.12192514e-02 -4.13120697e-02 -2.17947028e-01\n",
      "  -1.80817740e-01 -1.17716480e-01 -4.36392468e-01 -3.06972564e-01\n",
      "  -2.09239645e-01 -1.77623922e-01  1.97298327e-01  1.24549879e-01\n",
      "  -1.20032972e-01  1.95983619e-01  3.35395266e-01  1.72749893e-02\n",
      "   1.17856081e-01  9.01397128e-02]\n",
      " [-1.00047039e-01  9.04891756e-02  2.22723988e-01  2.62526254e-01\n",
      "   3.18605180e-01  2.65457847e-02 -1.54097938e-01  2.06973871e-02\n",
      "  -2.40685618e-02 -1.97873805e-03  4.01176873e-01  5.74833801e-02\n",
      "   1.23974508e-01  4.62968535e-01  3.95766858e-01  6.27131605e-01\n",
      "  -4.92606655e-02  1.04909237e-01  8.99908028e-01  4.44866181e-01\n",
      "   1.50363574e-01  1.86469494e-01  6.51778186e-01  1.00000000e+00\n",
      "   4.78915699e-02  9.02637298e-03  1.84841591e-01  9.40311961e-02\n",
      "   6.51708481e-01  4.43601045e-01  5.40351638e-01 -1.23742532e-01\n",
      "  -1.56699911e-01  2.13008675e-01  1.53980927e-01  3.73488833e-01\n",
      "   1.26909897e-01  5.07697603e-01  4.13195699e-01  4.37334407e-01\n",
      "   1.30636893e-01  1.53506725e-01  1.58131907e-01  2.81604739e-01\n",
      "   3.67740235e-01  2.60760715e-01 -1.91593511e-01 -3.24069646e-01\n",
      "   1.62537988e-01  1.56722752e-01  9.66818905e-02 -9.37401356e-02\n",
      "  -3.23081514e-01 -2.77691582e-01 -2.20813030e-01 -3.43485274e-01\n",
      "  -5.15016101e-02 -4.24414016e-01 -1.34280139e-01 -2.06816080e-01\n",
      "  -2.24875260e-01  6.32797736e-01  1.26751666e-01  6.41556744e-02\n",
      "   3.92932057e-02 -4.86887125e-02 -4.14001427e-01 -3.35777701e-01\n",
      "  -3.78228531e-01 -2.76434166e-01  1.18781574e-01 -1.98588609e-01\n",
      "  -2.79429313e-01  1.41696725e-01 -1.17853844e-01  4.32119320e-02\n",
      "   6.27918822e-02 -4.14674612e-02 -6.78326187e-04  1.21531436e-01\n",
      "  -1.48856912e-02 -2.54126027e-01 -3.65823904e-01 -2.33237940e-01\n",
      "  -4.36111156e-01 -1.34614227e-01 -2.13089462e-01 -4.38147287e-01\n",
      "  -1.16331220e-01  1.13693079e-01 -1.16893036e-01 -1.20119964e-01\n",
      "  -7.11991216e-02 -6.18829298e-02  3.03406583e-02  7.63190425e-02\n",
      "  -1.36998016e-01 -9.27927217e-02 -1.56302282e-01 -1.50746387e-01\n",
      "   1.90310138e-02  2.18359653e-01  4.27961272e-02 -3.54266227e-01\n",
      "  -1.56173567e-01 -2.13427772e-01 -2.17287113e-01 -1.92318790e-01\n",
      "  -2.07590796e-01 -4.36186942e-01 -3.06316652e-01 -1.59367336e-02\n",
      "  -2.17097385e-01 -1.77320663e-01 -8.29771424e-02 -2.20342264e-01\n",
      "  -2.34985121e-01 -1.87814772e-01 -4.90013899e-01 -3.47579761e-01\n",
      "  -2.97943003e-01 -1.06126459e-01  1.86687988e-01  1.08522721e-01\n",
      "  -9.34026233e-02  1.39447321e-01  3.54724468e-01  3.84850723e-02\n",
      "   3.38346855e-02 -7.72234193e-02]\n",
      " [ 3.87730677e-01  2.71900297e-01  6.95458720e-01 -2.64005977e-01\n",
      "   2.32867893e-01  4.24166803e-01  6.41081502e-01  3.95096627e-01\n",
      "   5.43295931e-01  5.73852766e-01 -7.46361028e-02  8.98169004e-02\n",
      "   3.56278865e-01 -3.18654082e-01  5.96685770e-01  2.64587561e-03\n",
      "   5.10889574e-01  8.59523077e-01 -1.06678024e-02  6.71898867e-01\n",
      "   8.70967503e-01  3.34821662e-01 -1.43457958e-01  4.78915699e-02\n",
      "   1.00000000e+00  7.70182525e-01  6.55167312e-01  5.98901375e-01\n",
      "   2.78319315e-01 -3.30263359e-01 -1.06099014e-01  5.15289706e-01\n",
      "   3.93620988e-01  7.54162433e-02  6.94534605e-01 -3.34698634e-01\n",
      "  -4.52446265e-01 -3.39897406e-01 -2.12683034e-01  3.71866452e-03\n",
      "  -2.74567892e-01 -1.45672669e-02 -4.85362227e-01 -3.04827663e-01\n",
      "  -2.62884937e-01 -1.80634080e-01  4.00808767e-01  1.67028366e-01\n",
      "  -3.87159897e-01 -2.45924950e-01 -3.01388040e-01  4.40041126e-01\n",
      "   3.75290026e-01  4.80543134e-01  2.88477275e-01  2.85435890e-01\n",
      "   4.28274463e-01  1.97214630e-01  1.47152245e-01  2.16852253e-01\n",
      "   1.26780230e-01 -1.32270543e-01 -4.97712694e-01 -2.29751023e-01\n",
      "  -5.28589804e-01 -5.42579535e-01  3.85151545e-01  4.36032228e-01\n",
      "   3.47415195e-01  2.80053048e-01 -5.61039676e-01  2.48430749e-01\n",
      "   5.13391386e-01 -5.40204579e-01 -5.09932729e-01 -5.10027054e-01\n",
      "  -4.31101541e-01 -2.90569666e-01 -5.89160588e-01 -3.46015833e-01\n",
      "  -4.20882941e-01  1.09199324e-01  1.68872954e-01  6.23439373e-02\n",
      "   2.76101185e-01 -4.86021065e-01  3.49108971e-02  2.26926033e-01\n",
      "  -9.63191324e-02 -2.97215867e-01  8.17136410e-02  5.25802595e-02\n",
      "  -5.89708257e-01 -3.94330335e-01 -5.03424120e-01 -3.88887261e-01\n",
      "  -4.08217247e-01 -5.33482443e-01 -5.11137598e-01 -5.12286922e-01\n",
      "  -5.00311025e-01 -3.23435916e-01 -2.19082193e-01  3.93457690e-01\n",
      "  -2.01285132e-01 -1.01605157e-02 -4.14789859e-01 -3.25051622e-01\n",
      "  -3.98270605e-01  4.51414279e-01 -3.31236247e-01  1.28382502e-03\n",
      "  -4.50100785e-01 -4.45346167e-01 -2.54549077e-02  4.47863386e-01\n",
      "   4.37759961e-01  3.06302126e-01  5.71402026e-01  3.43375755e-01\n",
      "   5.08746988e-01  5.64205862e-01 -2.91470729e-01 -3.30649016e-01\n",
      "   3.56419786e-01 -5.13058849e-01 -1.55826305e-01 -3.20919418e-01\n",
      "  -5.11185061e-01 -5.99407070e-01]\n",
      " [ 5.75057419e-01  3.79075187e-01  5.28266628e-01 -1.88246624e-01\n",
      "   3.93685800e-01  6.26125477e-01  7.37474315e-01  5.23459765e-01\n",
      "   5.06860393e-01  6.47985884e-01 -1.81022450e-01  8.78562900e-02\n",
      "   5.31839115e-01 -4.70027108e-01  7.74406372e-01 -1.22871396e-01\n",
      "   6.26221013e-01  7.41392466e-01 -1.13392809e-01  7.02755719e-01\n",
      "   6.61980607e-01  4.21972362e-01 -2.77581773e-01  9.02637298e-03\n",
      "   7.70182525e-01  1.00000000e+00  5.16822636e-01  8.74560088e-01\n",
      "   1.50047824e-01 -1.65461326e-01 -6.42084197e-02  7.03641850e-01\n",
      "   5.69241761e-01  1.81940900e-01  7.39063503e-01 -2.93074108e-01\n",
      "  -4.90934921e-01 -3.45877371e-01 -3.35307925e-01 -1.79943803e-01\n",
      "  -3.44192587e-01 -1.16815962e-01 -5.69425237e-01 -1.95706863e-01\n",
      "  -1.45563357e-01 -2.32516842e-01  2.99030610e-01  2.14950969e-01\n",
      "  -5.03329924e-01 -4.46765759e-01 -3.57993192e-01  4.10460316e-01\n",
      "   4.44107735e-01  6.03129454e-01  2.85565585e-01  4.23589744e-01\n",
      "   4.78919061e-01  2.41452008e-01  2.13451276e-01  2.24755267e-01\n",
      "   1.00399037e-01 -1.83149043e-01 -5.96069357e-01 -2.07089640e-01\n",
      "  -5.21093778e-01 -4.68152595e-01  4.67782056e-01  4.24151816e-01\n",
      "   4.41636914e-01  2.09031278e-01 -5.95545789e-01  1.92395696e-01\n",
      "   3.27928012e-01 -5.43243437e-01 -4.90767634e-01 -4.63538830e-01\n",
      "  -4.40207310e-01 -3.94113285e-01 -5.95439496e-01 -3.94862061e-01\n",
      "  -4.07569277e-01  1.56416671e-01  3.13633330e-01  7.30191963e-02\n",
      "   3.33500802e-01 -4.82716143e-01  6.03511509e-02  2.63292513e-01\n",
      "  -4.12364539e-02 -3.22570859e-01  9.68027525e-02 -2.14393499e-02\n",
      "  -5.65538595e-01 -4.69309570e-01 -5.51554106e-01 -3.11788632e-01\n",
      "  -4.12001670e-01 -5.17348565e-01 -4.06356625e-01 -5.48592553e-01\n",
      "  -5.23631726e-01 -4.24367887e-01 -3.44728942e-01  3.04811082e-01\n",
      "  -3.07449748e-01 -3.90132701e-02 -4.15229107e-01 -3.17686720e-01\n",
      "  -3.78335110e-01  3.91054259e-01 -3.37755326e-01 -3.21649963e-02\n",
      "  -4.54100855e-01 -4.37899726e-01  5.81392707e-03  3.18349587e-01\n",
      "   2.98590507e-01  2.66973934e-01  6.61841211e-01  4.16003067e-01\n",
      "   4.44686610e-01  5.41716701e-01 -4.26593725e-01 -4.56154087e-01\n",
      "   2.61365323e-01 -4.78472553e-01 -2.79663855e-01 -3.65967668e-01\n",
      "  -5.01241402e-01 -6.17828893e-01]\n",
      " [ 2.40898585e-01  2.68158560e-01  5.08557595e-01 -4.94634091e-02\n",
      "   1.66151944e-01  2.79356054e-01  3.60332163e-01  2.47406423e-01\n",
      "   3.31292361e-01  1.89576597e-01  1.99267475e-01  1.55105564e-02\n",
      "   3.92963536e-01 -1.32072292e-01  5.53726940e-01  1.76502986e-01\n",
      "   2.46366857e-01  6.68738041e-01  2.63130527e-01  5.41968096e-01\n",
      "   6.91933258e-01  5.51343069e-01  4.20269857e-02  1.84841591e-01\n",
      "   6.55167312e-01  5.16822636e-01  1.00000000e+00  5.81272532e-01\n",
      "   1.22900532e-01  1.41873124e-01  9.38053387e-02  3.40574123e-01\n",
      "   2.31418656e-01  7.12206417e-02  7.16435996e-01  1.17698862e-02\n",
      "  -1.29993988e-01 -3.61106554e-02  1.04320170e-01  1.93007428e-02\n",
      "  -2.48634922e-01 -6.98470989e-02 -4.79456756e-01 -1.98812171e-01\n",
      "  -8.89330073e-02 -5.82342098e-02  3.40565529e-02  3.88536551e-02\n",
      "  -2.29275676e-01 -1.16829166e-01 -4.72801392e-01  1.00455185e-01\n",
      "   5.42551899e-02 -6.13399657e-02  1.31619387e-01  6.02870360e-02\n",
      "   2.94458694e-01  6.83335210e-02  4.85744785e-02  2.88590777e-02\n",
      "   2.75701293e-01 -2.86225314e-01 -5.47908924e-01 -3.89451605e-01\n",
      "  -4.42346671e-01 -4.57487607e-01  1.55439791e-01  1.21797767e-01\n",
      "   6.32770230e-02  2.08800024e-01 -2.89834176e-01  4.43849999e-01\n",
      "   4.62766324e-01 -4.64084826e-01 -3.10622641e-01 -4.69432996e-01\n",
      "  -2.72723398e-01 -2.27704679e-01 -2.83004050e-01 -3.70334890e-01\n",
      "  -4.28236591e-01  5.89442440e-02 -4.72629761e-02 -8.79419114e-03\n",
      "   1.11527582e-01 -1.37907879e-01  8.62191806e-02  5.60345244e-02\n",
      "   2.07645347e-01 -2.53661140e-01  7.69004881e-02  5.13348002e-02\n",
      "  -2.93533049e-01 -1.69681468e-01 -2.74656189e-01 -5.87670343e-02\n",
      "  -4.13839934e-01 -2.56309160e-01 -3.37243128e-01 -2.71157380e-01\n",
      "  -5.66099019e-01 -1.87155930e-02  4.61869506e-02  2.01481744e-01\n",
      "  -1.13184560e-01 -1.41249404e-01 -2.73632928e-01 -3.38146216e-01\n",
      "  -3.08600642e-01  3.12753194e-01 -1.21926138e-01 -1.70776432e-01\n",
      "  -2.28299065e-01 -2.55413297e-01 -1.42322093e-01  1.81409657e-01\n",
      "   3.75564361e-01  2.01985444e-01  2.14831900e-01  4.13380568e-02\n",
      "   3.62533109e-01  1.08394484e-01 -3.66588166e-01 -3.11831300e-01\n",
      "   1.30267749e-01 -3.93381889e-01 -1.29637069e-01 -4.20606223e-01\n",
      "  -2.96421320e-01 -3.95270175e-01]\n",
      " [ 5.59506330e-01  4.73001905e-01  5.12041240e-01 -1.41646915e-01\n",
      "   3.90725773e-01  6.87603284e-01  6.58150493e-01  4.67224597e-01\n",
      "   3.86806676e-01  4.94698932e-01 -1.78057221e-01  1.21939711e-01\n",
      "   6.95269778e-01 -3.51771077e-01  7.97001509e-01 -2.97435290e-02\n",
      "   6.28441117e-01  6.50438623e-01  4.08913121e-02  6.94992898e-01\n",
      "   5.51813213e-01  5.05927180e-01 -1.59116887e-01  9.40311961e-02\n",
      "   5.98901375e-01  8.74560088e-01  5.81272532e-01  1.00000000e+00\n",
      "   2.98422126e-02 -6.14275360e-02 -9.99258099e-02  6.68489275e-01\n",
      "   5.38063255e-01  1.42225129e-01  7.97073521e-01 -2.19548900e-01\n",
      "  -4.37199284e-01 -3.14417100e-01 -2.94907700e-01 -3.10133371e-01\n",
      "  -3.25043041e-01 -2.84153901e-01 -6.17389910e-01 -2.12661532e-01\n",
      "  -9.06039104e-02 -2.12307785e-01  7.74957959e-02  2.45881050e-01\n",
      "  -3.93320501e-01 -4.03989175e-01 -3.94061005e-01  2.25040521e-01\n",
      "   3.35549289e-01  3.99781151e-01  3.87712634e-01  4.63448367e-01\n",
      "   4.32922534e-01  1.65756046e-01  1.97158238e-01  2.72353431e-01\n",
      "   2.02382097e-01 -1.97726394e-01 -5.68243389e-01 -3.16980443e-01\n",
      "  -5.55758265e-01 -4.47629897e-01  3.74682380e-01  1.45560896e-01\n",
      "   4.02687658e-01  1.05973169e-01 -5.51328279e-01  1.43969779e-01\n",
      "   2.78057870e-01 -5.77524918e-01 -5.12767615e-01 -5.64640726e-01\n",
      "  -5.35080043e-01 -4.10794245e-01 -5.41001645e-01 -4.15336440e-01\n",
      "  -3.12660437e-01  2.58623423e-01  3.21615257e-01  1.91910449e-01\n",
      "   3.47546154e-01 -3.70166251e-01  1.67482579e-01  3.03472937e-01\n",
      "   9.85642931e-02 -3.05921200e-01  1.83929089e-01  3.75710464e-02\n",
      "  -4.24770037e-01 -4.43540826e-01 -4.85476582e-01 -9.76527655e-02\n",
      "  -3.70615691e-01 -4.44447376e-01 -3.66928915e-01 -4.82788441e-01\n",
      "  -4.81181059e-01 -4.35383334e-01 -1.96816695e-01  2.39561939e-01\n",
      "  -3.40494264e-01  3.56541992e-02 -3.84284364e-01 -3.02261522e-01\n",
      "  -3.37503615e-01  2.71654946e-01 -2.73673548e-01 -2.13636888e-02\n",
      "  -4.12009182e-01 -4.08865949e-01  5.61547320e-02  1.75087384e-01\n",
      "   8.90460761e-02  1.70942575e-01  5.30776049e-01  2.81100335e-01\n",
      "   3.23198919e-01  3.60266001e-01 -4.48658808e-01 -5.10513569e-01\n",
      "   1.08837572e-01 -4.78221785e-01 -1.95410048e-01 -4.96529353e-01\n",
      "  -4.97464614e-01 -5.83909973e-01]\n",
      " [-1.27616772e-01 -1.27953717e-01  2.99876674e-01  2.89933720e-02\n",
      "   7.02716058e-02 -1.06879368e-01 -2.87430371e-02  4.82715364e-03\n",
      "   1.53225377e-01  8.32300166e-02  4.72989011e-01  1.12673300e-04\n",
      "  -1.46954610e-01  9.70301132e-02  1.42627296e-01  2.78691301e-01\n",
      "   1.66524660e-02  2.14304885e-01  4.52540717e-01  2.03037133e-01\n",
      "   2.74339827e-01 -1.83587798e-01  3.48385900e-01  6.51708481e-01\n",
      "   2.78319315e-01  1.50047824e-01  1.22900532e-01  2.98422126e-02\n",
      "   1.00000000e+00  1.08968527e-01  4.17541495e-01 -8.12209310e-02\n",
      "  -1.55220599e-01  2.01801992e-01  1.65806375e-01  1.65765502e-01\n",
      "  -3.00935139e-02  3.39593804e-01  3.40826534e-01  6.57010823e-01\n",
      "   9.39427901e-02  3.64604416e-01  2.08470681e-01  2.38277487e-01\n",
      "   2.38686380e-01  3.51498894e-01  5.30331159e-02 -4.08406615e-01\n",
      "   7.14023047e-02  3.09080196e-01  2.79324484e-01  8.02481339e-02\n",
      "  -1.23691232e-01 -2.91614251e-03 -3.09981870e-01 -3.23296182e-01\n",
      "  -9.89866428e-02 -4.32462776e-01 -2.56269814e-01 -3.39127426e-01\n",
      "  -3.02137051e-01  4.28527423e-01  9.36516024e-02  2.04802966e-01\n",
      "   1.94708876e-02 -4.50143643e-02 -3.31866551e-01  1.94786484e-02\n",
      "  -3.17449934e-01 -2.48353697e-01  3.88360823e-02 -1.97238260e-01\n",
      "  -1.36584298e-01  1.62538432e-01 -6.59623829e-02  2.04657962e-01\n",
      "   1.46526869e-01  3.83406760e-02 -4.22616779e-02  2.44152998e-01\n",
      "  -7.09385561e-02 -4.48911685e-01 -3.98992776e-01 -2.99713788e-01\n",
      "  -4.07175665e-01 -2.20816538e-01 -3.79899809e-01 -4.21881464e-01\n",
      "  -3.53442250e-01  1.21899421e-01 -3.92632141e-01 -2.04290023e-01\n",
      "  -2.78132984e-01 -1.06329447e-01 -1.58128710e-01 -1.42651580e-02\n",
      "  -1.43522381e-01 -2.37126657e-01 -2.14089423e-01 -2.17688845e-01\n",
      "  -7.36737304e-02 -2.16155077e-02 -1.24458205e-01 -2.60972879e-01\n",
      "   3.53810856e-02 -3.56817055e-02 -1.16820784e-01 -4.77706658e-02\n",
      "  -1.03087404e-01 -3.29011119e-01 -2.45655978e-01  1.92150590e-01\n",
      "  -8.40557732e-02 -8.65260924e-02  8.92229775e-02 -1.16928810e-01\n",
      "   5.77118242e-02 -4.98372271e-02 -1.73736355e-01 -2.12538464e-01\n",
      "  -1.26739801e-01  1.69460124e-01  3.09941010e-01  2.00787710e-01\n",
      "   9.89619165e-02  2.49913090e-01  5.73678449e-01  2.80308630e-01\n",
      "   1.60172457e-01  1.11524514e-01]\n",
      " [-2.20455643e-01 -6.61897129e-02 -2.25557001e-01  7.45662343e-01\n",
      "  -1.49541903e-02 -1.45703840e-01 -3.56141325e-01 -1.27821737e-01\n",
      "  -3.16747016e-01 -4.34539042e-01  6.17245389e-01 -2.10056829e-01\n",
      "  -9.51623963e-02  2.66824136e-01  1.53765488e-01  3.38308263e-01\n",
      "  -3.55906432e-01 -1.63774366e-01  4.40416569e-01  7.77630235e-03\n",
      "  -2.94587412e-01  6.01085014e-03  2.61069880e-01  4.43601045e-01\n",
      "  -3.30263359e-01 -1.65461326e-01  1.41873124e-01 -6.14275360e-02\n",
      "   1.08968527e-01  1.00000000e+00  8.67440925e-01 -1.89889429e-01\n",
      "  -2.56027151e-01  3.87095100e-01 -4.68010025e-02  8.24866906e-01\n",
      "   5.49258495e-01  7.92947405e-01  7.33559886e-01  5.36364664e-01\n",
      "   3.95808714e-01  2.40065974e-01  3.16633503e-01  5.18531507e-01\n",
      "   5.44063980e-01  3.66110750e-01 -5.51475179e-01 -4.94065716e-01\n",
      "   3.15272743e-01  2.29866732e-01  4.77124144e-02 -4.32042028e-01\n",
      "  -5.56750717e-01 -6.18054421e-01 -4.19917836e-01 -5.67231319e-01\n",
      "  -2.55733957e-01 -4.41223297e-01 -4.21473202e-01 -5.11413954e-01\n",
      "  -2.47881339e-01  4.04607267e-02  1.65370674e-01  1.09248939e-01\n",
      "   2.17499350e-01  1.62965175e-01 -5.17466828e-01 -4.25200564e-01\n",
      "  -5.60830299e-01 -3.74902186e-01  4.15282189e-01 -1.44992198e-01\n",
      "  -4.48216331e-01  3.40679968e-01  3.38934913e-01  2.74946629e-01\n",
      "   3.69124875e-01  2.19243113e-01  4.08011579e-01  2.81986777e-01\n",
      "   3.21759079e-02 -3.28087369e-01 -4.42333761e-01 -3.70386818e-01\n",
      "  -4.83608030e-01  2.71314787e-01 -2.87589635e-01 -4.66660971e-01\n",
      "  -1.67928840e-02  2.12587574e-01 -2.01258654e-01 -1.37634273e-01\n",
      "   4.07149173e-01  2.48997455e-01  3.34776188e-01  6.27775630e-02\n",
      "   9.49254393e-02  2.61008660e-01  1.10018264e-01  2.22396146e-01\n",
      "   2.33844129e-01  7.04214703e-02  2.10647654e-02 -4.65602658e-01\n",
      "   6.78393884e-02 -2.92400333e-01  1.56073473e-01  4.63425516e-02\n",
      "   8.64088742e-02 -4.49256887e-01  1.22002015e-01 -2.89687283e-01\n",
      "   1.49611728e-01  1.79614951e-01 -3.11287366e-01 -4.82232018e-01\n",
      "  -2.44941700e-01 -3.75001906e-01 -6.49465254e-01 -5.13118133e-01\n",
      "  -4.12009584e-01 -5.29978016e-01  2.18256350e-01  2.26111773e-01\n",
      "  -3.81315978e-01  2.67207732e-01 -6.71788971e-02  2.93006554e-01\n",
      "   3.85805597e-01  2.18477985e-01]\n",
      " [-2.39311100e-01 -1.52446441e-01 -4.98879013e-02  6.84250249e-01\n",
      "  -1.77872355e-02 -1.46952420e-01 -2.84284392e-01 -1.14304171e-01\n",
      "  -2.26000676e-01 -2.99990916e-01  7.54366364e-01 -2.31922153e-01\n",
      "  -2.28825808e-01  1.67509082e-01  1.98906079e-01  3.08131885e-01\n",
      "  -2.81105468e-01  3.24231280e-03  4.54111888e-01  1.30001858e-01\n",
      "  -1.42456491e-01 -1.51742324e-01  2.86435821e-01  5.40351638e-01\n",
      "  -1.06099014e-01 -6.42084197e-02  9.38053387e-02 -9.99258099e-02\n",
      "   4.17541495e-01  8.67440925e-01  1.00000000e+00 -2.49705542e-01\n",
      "  -2.86251362e-01  4.83126029e-01 -3.36533958e-02  8.15078512e-01\n",
      "   4.46834491e-01  8.37663670e-01  8.38986570e-01  8.16379046e-01\n",
      "   4.66720180e-01  4.74133289e-01  4.20882765e-01  5.97602226e-01\n",
      "   5.36320947e-01  4.03840385e-01 -3.54291520e-01 -5.38073357e-01\n",
      "   3.09418116e-01  3.40783248e-01  2.91294298e-01 -3.19147656e-01\n",
      "  -5.24123686e-01 -4.77213532e-01 -4.70748094e-01 -6.35480001e-01\n",
      "  -2.40958814e-01 -5.43061895e-01 -4.23611793e-01 -5.56736483e-01\n",
      "  -3.42507889e-01  1.67294593e-01  2.27330883e-01  2.46013164e-01\n",
      "   2.38666728e-01  1.76457636e-01 -5.67083979e-01 -2.87298781e-01\n",
      "  -5.95980658e-01 -3.42338033e-01  4.03761915e-01 -1.90711268e-01\n",
      "  -3.89893952e-01  4.13531796e-01  2.73697355e-01  3.50807565e-01\n",
      "   3.90210817e-01  3.00725606e-01  3.46172472e-01  3.46359278e-01\n",
      "  -4.59368915e-02 -4.80649085e-01 -5.18671998e-01 -4.62225915e-01\n",
      "  -5.93324411e-01  7.40690616e-02 -4.75717488e-01 -5.79235503e-01\n",
      "  -2.81782767e-01  2.93145856e-01 -3.41589172e-01 -2.09342159e-01\n",
      "   1.85708857e-01  1.48157657e-01  2.32454812e-01 -1.60089673e-01\n",
      "   2.71245275e-02  7.90902145e-02  1.14503661e-02  4.95355892e-02\n",
      "   2.23437613e-01 -1.07468622e-02 -1.97355976e-01 -4.52688719e-01\n",
      "   9.82818633e-02 -3.21118411e-01  9.23646790e-02  7.32430849e-02\n",
      "   4.40193107e-02 -4.99025593e-01 -6.41548949e-02 -2.04770843e-01\n",
      "   5.34637940e-02  1.04612985e-01 -3.04315572e-01 -3.94813899e-01\n",
      "  -1.39828991e-01 -3.63663114e-01 -6.19842068e-01 -5.18895708e-01\n",
      "  -3.98387467e-01 -3.02216818e-01  3.50022445e-01  3.27297366e-01\n",
      "  -2.50104977e-01  3.21434212e-01  4.78827211e-02  4.64035857e-01\n",
      "   3.83381013e-01  1.87403640e-01]\n",
      " [ 4.28173055e-01  6.99495310e-01  2.81074279e-01 -5.31862316e-02\n",
      "   3.03913163e-01  5.39085362e-01  6.64054218e-01  5.43768407e-01\n",
      "   3.69406462e-01  4.69039526e-01 -3.79167544e-01  4.12157439e-01\n",
      "   5.56327883e-01 -4.50151913e-02  5.39163922e-01 -9.01142330e-02\n",
      "   5.90639488e-01  4.27783636e-01 -1.25568894e-01  4.12535279e-01\n",
      "   3.85005244e-01  3.73156955e-01 -9.40053534e-02 -1.23742532e-01\n",
      "   5.15289706e-01  7.03641850e-01  3.40574123e-01  6.68489275e-01\n",
      "  -8.12209310e-02 -1.89889429e-01 -2.49705542e-01  1.00000000e+00\n",
      "   4.47291928e-01 -1.57341008e-02  5.50909871e-01 -3.62859913e-01\n",
      "  -3.21963776e-01 -4.10044906e-01 -4.85483375e-01 -4.05113271e-01\n",
      "  -6.32733409e-02 -1.99574652e-01 -5.56217903e-01 -1.08216554e-01\n",
      "  -2.73455702e-01 -3.61287714e-01  1.60086674e-01  2.80720710e-01\n",
      "  -3.01896398e-01 -4.32551382e-01 -4.24258919e-01  4.06223283e-01\n",
      "   3.00033656e-01  4.55032446e-01  3.42184335e-01  4.14251009e-01\n",
      "   3.62340657e-01  3.27708421e-01  2.53300841e-01  3.03997667e-01\n",
      "   1.78224770e-01 -2.19396800e-01 -4.61618841e-01 -1.95007005e-01\n",
      "  -4.14037273e-01 -4.05543156e-01  4.62830929e-01  2.40033149e-01\n",
      "   4.59646018e-01  1.26819188e-01 -4.98807267e-01  2.12065258e-01\n",
      "   3.04054528e-01 -5.00610117e-01 -4.66967120e-01 -5.40868375e-01\n",
      "  -3.64849196e-01 -3.81774890e-01 -5.04606616e-01 -3.67690432e-01\n",
      "  -2.71070304e-01  3.07101922e-01  3.22038938e-01  1.84590061e-01\n",
      "   3.86845578e-01 -3.11966938e-01  2.21508289e-01  3.62136672e-01\n",
      "   1.09298275e-01 -2.05921400e-01  2.55752901e-01  1.72847854e-01\n",
      "  -3.50495203e-01 -3.03971931e-01 -3.35357697e-01 -9.29008996e-02\n",
      "  -2.85227203e-01 -3.41689305e-01 -3.28650290e-01 -3.47633584e-01\n",
      "  -3.89127690e-01 -3.71286304e-01 -2.27825133e-01  1.85542385e-01\n",
      "  -3.59493378e-01 -8.30222070e-02 -4.22948891e-01 -3.82242469e-01\n",
      "  -4.03260106e-01  2.91607624e-01 -2.83208166e-01 -9.61867308e-02\n",
      "  -4.33630094e-01 -4.30974051e-01 -4.85338365e-02  2.09596244e-01\n",
      "   9.90199304e-02  1.75995222e-01  4.93631104e-01  3.80658769e-01\n",
      "   3.16379925e-01  2.87530279e-01 -4.43641231e-01 -4.38182423e-01\n",
      "   8.96868418e-02 -4.86133636e-01 -2.78717355e-01 -4.68663362e-01\n",
      "  -5.61442916e-01 -5.87762517e-01]\n",
      " [ 9.86259365e-01  7.21011702e-02  4.57593218e-02 -3.34123872e-01\n",
      "   4.73528408e-01  7.97202138e-01  4.03211575e-01  5.22774283e-01\n",
      "   7.25944194e-01  6.86755928e-01 -2.31492794e-01  4.46964653e-01\n",
      "   5.82533852e-01 -3.65218250e-01  3.36773770e-01 -1.30833110e-01\n",
      "   3.03196022e-01  4.02543635e-01 -2.48667240e-01  2.77454879e-01\n",
      "   2.19502455e-01  1.84567205e-01 -2.42297645e-01 -1.56699911e-01\n",
      "   3.93620988e-01  5.69241761e-01  2.31418656e-01  5.38063255e-01\n",
      "  -1.55220599e-01 -2.56027151e-01 -2.86251362e-01  4.47291928e-01\n",
      "   1.00000000e+00  6.19434466e-02  2.08213035e-01 -3.32319121e-01\n",
      "  -4.15124802e-01 -4.35163685e-01 -3.68471441e-01 -3.39682911e-01\n",
      "  -3.88031279e-01 -1.84208925e-01 -5.49848144e-01 -3.25601677e-01\n",
      "   1.22519398e-02 -1.24901034e-02  1.15102065e-01  9.31791180e-02\n",
      "  -4.68579729e-01 -3.22024075e-01 -3.75503836e-01  1.62278459e-01\n",
      "   1.45230396e-01  4.65151447e-01  1.39261141e-01  4.44658398e-01\n",
      "   1.51695811e-01  5.33272889e-01 -3.11248611e-02  2.99098850e-01\n",
      "   1.07217724e-02 -2.98407927e-01 -4.64992218e-01 -2.92616131e-01\n",
      "  -4.27075013e-01 -4.12159504e-01  6.35478262e-01  3.76827219e-01\n",
      "   6.39776999e-01  1.14073717e-01 -4.57870420e-01  5.19524972e-02\n",
      "   1.26316741e-01 -4.93419374e-01 -3.52545105e-01 -3.72836619e-01\n",
      "  -4.65044823e-01 -3.60759987e-01 -4.67003876e-01 -3.69503159e-01\n",
      "  -7.72291855e-02  2.48525656e-01  3.20652838e-01  1.57244850e-01\n",
      "   3.61335230e-01 -2.80290124e-01  1.28286460e-01  3.34717262e-01\n",
      "  -1.03392687e-01 -3.16164413e-01  1.04351529e-02 -1.12802770e-01\n",
      "  -3.99900618e-01 -3.93634808e-01 -4.43152715e-01 -2.06265963e-01\n",
      "  -3.03039282e-01 -4.00002994e-01 -2.47949085e-01 -3.32696824e-01\n",
      "  -3.77799045e-01 -3.07540205e-01 -1.49373017e-01  2.34616767e-01\n",
      "  -4.49651494e-02  2.86453881e-01 -2.34500010e-01 -1.34141316e-01\n",
      "  -1.51971948e-01  4.14091706e-01 -1.66234395e-01  9.00791495e-03\n",
      "  -2.44254984e-01 -2.60189123e-01  1.57690160e-01  4.71173081e-02\n",
      "   7.56318169e-02  4.39012879e-02  5.17752685e-01  8.39665368e-01\n",
      "   2.50202207e-01  9.97935841e-02 -4.17333350e-01 -5.31678993e-01\n",
      "  -1.02360438e-01 -3.89410822e-01 -3.46916066e-01 -4.50040273e-01\n",
      "  -4.22159284e-01 -4.14083726e-01]\n",
      " [ 6.74582479e-02 -2.79704371e-01 -8.72560307e-02  4.86655872e-01\n",
      "   1.64210625e-02  1.19290116e-01  1.31055276e-01  1.51222177e-01\n",
      "  -7.16098969e-02  3.50062244e-03  1.83120906e-01 -4.52411530e-02\n",
      "   7.70074396e-02 -1.79791101e-01 -5.63314064e-03  3.23863267e-01\n",
      "   9.12700705e-02 -1.19908962e-02 -1.92983965e-02  1.68701990e-01\n",
      "  -8.86194572e-03 -3.00927399e-02 -2.47882574e-02  2.13008675e-01\n",
      "   7.54162433e-02  1.81940900e-01  7.12206417e-02  1.42225129e-01\n",
      "   2.01801992e-01  3.87095100e-01  4.83126029e-01 -1.57341008e-02\n",
      "   6.19434466e-02  1.00000000e+00 -3.98366639e-02  2.73973115e-01\n",
      "   2.14459225e-02  1.65650863e-01  3.47593718e-01  3.82189643e-01\n",
      "   3.54236275e-01  4.67642535e-01  1.63978312e-02  4.44814047e-01\n",
      "   6.92406829e-01  5.08878077e-01 -2.73749023e-02 -2.21727488e-01\n",
      "  -2.69240841e-02  1.12391698e-01  1.60343498e-01 -2.67083369e-01\n",
      "  -1.82548881e-01 -9.59708823e-02 -1.53587033e-01 -1.08155968e-01\n",
      "  -5.26323052e-01 -3.15258372e-01 -3.85391532e-01 -3.03295623e-01\n",
      "  -2.70943493e-01 -6.91076738e-02  1.69025143e-01  1.64609804e-01\n",
      "   1.82378165e-01  8.81256838e-02 -2.26483717e-01 -1.03594582e-01\n",
      "  -1.76353015e-01 -1.11498418e-02 -5.35992392e-02 -2.15845197e-01\n",
      "  -3.20516923e-01 -2.58423597e-03 -6.46826106e-02  5.39692423e-02\n",
      "   8.37280336e-02  1.42138713e-01  2.40599386e-02  2.61938845e-01\n",
      "   2.60573635e-01 -2.89303724e-01 -2.72868882e-01 -1.76677208e-01\n",
      "  -2.39002548e-01  6.25450963e-02 -3.90227781e-01 -1.86827659e-01\n",
      "  -4.61291524e-01  1.94122289e-01 -5.33624510e-01 -1.31980282e-01\n",
      "  -1.20835352e-01 -4.34338199e-02 -7.06157004e-02 -1.26183948e-01\n",
      "   1.92642614e-01 -1.12493982e-01  2.01015823e-01  9.66380319e-02\n",
      "   1.31486821e-01 -3.81234170e-01 -3.44094794e-01 -2.05977938e-01\n",
      "   1.49088895e-01  2.31362049e-01  2.97591062e-02  1.15069929e-01\n",
      "   8.45164003e-02 -3.14380722e-01 -8.58076534e-03 -9.10632976e-02\n",
      "  -9.36792156e-03 -1.55803468e-02 -7.08325256e-02 -4.26802096e-01\n",
      "  -2.20835593e-01 -4.62870919e-01 -1.19992923e-01 -2.08829460e-01\n",
      "  -4.64506230e-01 -2.80433017e-01  6.64659321e-02 -6.22201507e-02\n",
      "  -3.45029999e-01 -1.55639364e-02 -6.83118056e-02  7.80854495e-02\n",
      "  -3.33429064e-02 -1.90510172e-02]\n",
      " [ 2.36828601e-01  4.94506347e-01  7.83034893e-01 -1.26416349e-01\n",
      "   2.56406060e-01  3.72835410e-01  5.34657773e-01  2.75898374e-01\n",
      "   3.42180888e-01  3.68024182e-01 -1.22799795e-01 -2.62087286e-02\n",
      "   4.61503531e-01 -2.14403751e-01  7.59073140e-01 -4.10291586e-03\n",
      "   5.29930658e-01  7.05019234e-01  2.57806184e-01  6.19332713e-01\n",
      "   7.70748609e-01  5.83435443e-01 -1.04913980e-01  1.53980927e-01\n",
      "   6.94534605e-01  7.39063503e-01  7.16435996e-01  7.97073521e-01\n",
      "   1.65806375e-01 -4.68010025e-02 -3.36533958e-02  5.50909871e-01\n",
      "   2.08213035e-01 -3.98366639e-02  1.00000000e+00 -1.13796905e-01\n",
      "  -2.94998920e-01 -7.19093808e-02 -1.06941286e-01 -1.09600162e-01\n",
      "  -3.48678920e-01 -1.68577473e-01 -4.64179636e-01 -2.46623597e-01\n",
      "  -3.02965364e-01 -2.83160852e-01  1.13202140e-01  1.80277861e-01\n",
      "  -2.94589745e-01 -3.80861817e-01 -4.34118147e-01  3.14165879e-01\n",
      "   3.72336567e-01  2.83887485e-01  4.12076128e-01  3.63446332e-01\n",
      "   5.09206544e-01  6.31897138e-02  2.91194030e-01  2.62847849e-01\n",
      "   2.10494798e-01 -2.12923991e-01 -5.05346937e-01 -3.03541158e-01\n",
      "  -5.15373954e-01 -4.61303338e-01  1.89021443e-01  5.97648895e-02\n",
      "   1.99729373e-01  1.18081399e-01 -3.81580071e-01  1.35745338e-01\n",
      "   4.08849966e-01 -4.41477591e-01 -4.82058625e-01 -5.23130555e-01\n",
      "  -3.15315369e-01 -2.05822650e-01 -3.80992252e-01 -3.64088899e-01\n",
      "  -4.57878913e-01  1.84665509e-01  2.00208736e-01  1.58169170e-01\n",
      "   2.80198682e-01 -3.21568912e-01  2.29974834e-01  2.22821830e-01\n",
      "   2.00219593e-01 -2.59076370e-01  3.10452405e-01  1.14021828e-01\n",
      "  -3.36404764e-01 -2.91961117e-01 -3.69682138e-01 -1.00001378e-01\n",
      "  -3.36827883e-01 -2.85801027e-01 -3.37527653e-01 -3.60533277e-01\n",
      "  -4.79480358e-01 -2.52296743e-01 -1.75091059e-01  1.49193612e-01\n",
      "  -4.55524637e-01 -2.20249793e-01 -4.43397466e-01 -4.32860545e-01\n",
      "  -4.50484815e-01  2.04949603e-01 -2.66000423e-01 -1.22402435e-01\n",
      "  -4.41268558e-01 -4.41211420e-01 -1.33173911e-01  3.15148994e-01\n",
      "   1.54520202e-01  2.73173005e-01  4.57672043e-01  9.13237387e-02\n",
      "   3.85147939e-01  4.51533801e-01 -3.85731738e-01 -3.90003604e-01\n",
      "   2.58684083e-01 -4.20315588e-01 -7.02212433e-02 -4.02820479e-01\n",
      "  -4.37943700e-01 -4.41137436e-01]\n",
      " [-2.90575412e-01 -1.50729274e-01 -4.49953032e-02  5.98805888e-01\n",
      "   1.22039210e-01 -1.76497168e-01 -4.57556414e-01 -1.64280069e-01\n",
      "  -2.54406495e-01 -3.49294221e-01  5.83742662e-01 -2.30518421e-01\n",
      "  -2.87875800e-01  2.63978433e-01 -2.77703844e-03  4.21005160e-01\n",
      "  -4.01319472e-01 -2.08706382e-01  4.06581600e-01 -1.48515008e-01\n",
      "  -2.84364606e-01 -1.24498461e-01  2.54144632e-01  3.73488833e-01\n",
      "  -3.34698634e-01 -2.93074108e-01  1.17698862e-02 -2.19548900e-01\n",
      "   1.65765502e-01  8.24866906e-01  8.15078512e-01 -3.62859913e-01\n",
      "  -3.32319121e-01  2.73973115e-01 -1.13796905e-01  1.00000000e+00\n",
      "   5.29204370e-01  8.64026555e-01  7.96543535e-01  6.36589308e-01\n",
      "   3.72724098e-01  3.19353072e-01  3.97047230e-01  4.83743026e-01\n",
      "   4.56363603e-01  3.42343351e-01 -4.17851489e-01 -4.92831985e-01\n",
      "   3.20320510e-01  3.07733779e-01  2.61254805e-01 -4.34280873e-01\n",
      "  -6.18429214e-01 -5.65655564e-01 -4.34383688e-01 -5.75867271e-01\n",
      "  -2.93228176e-01 -4.47497833e-01 -4.08312820e-01 -4.49003499e-01\n",
      "  -1.25405548e-01  1.07978597e-01  2.59133349e-01  2.01649817e-01\n",
      "   1.88487887e-01  1.68892059e-01 -5.08004118e-01 -3.43659121e-01\n",
      "  -5.37972955e-01 -3.97548751e-01  6.37608795e-01 -1.70911968e-01\n",
      "  -2.70484870e-01  5.52771595e-01  3.53715403e-01  3.90052419e-01\n",
      "   5.47599274e-01  5.96462293e-01  5.63213260e-01  2.74538080e-01\n",
      "  -7.11287297e-03 -4.61868747e-01 -5.18031706e-01 -4.27353981e-01\n",
      "  -5.98122107e-01  2.41071167e-01 -3.77540751e-01 -5.91162459e-01\n",
      "  -1.80039326e-01  2.80625841e-01 -2.37508384e-01 -1.60010588e-01\n",
      "   3.06117690e-01  2.46614991e-01  2.78470817e-01 -6.37988484e-02\n",
      "   8.32410166e-02  2.74170974e-01  1.08720877e-01  1.57511250e-01\n",
      "   2.60212301e-01  1.20110007e-01 -3.38312200e-02 -4.98554416e-01\n",
      "   1.03474114e-01 -2.81169273e-01  1.52440870e-01  7.83929241e-02\n",
      "   9.77953460e-02 -4.49998886e-01  8.42659070e-02 -2.06082688e-01\n",
      "   1.47052772e-01  1.70426595e-01 -3.10528416e-01 -4.55221110e-01\n",
      "  -2.82204215e-01 -4.34981311e-01 -6.79196652e-01 -5.28668198e-01\n",
      "  -4.45021564e-01 -4.52541523e-01  2.27337818e-01  2.45828634e-01\n",
      "  -3.69837040e-01  3.57225388e-01  2.21050893e-01  3.62107278e-01\n",
      "   3.65905678e-01  3.58736982e-01]\n",
      " [-4.16197123e-01 -1.08725331e-01 -3.19913272e-01  4.30855969e-01\n",
      "  -2.20162966e-01 -4.60890904e-01 -4.76579023e-01 -2.96818068e-01\n",
      "  -3.56238074e-01 -5.14641035e-01  4.30041484e-01 -1.42464902e-01\n",
      "  -3.27546875e-01  3.04170332e-01 -2.55476621e-01  1.18281277e-01\n",
      "  -4.69086164e-01 -3.63826104e-01  1.98270776e-01 -3.35229831e-01\n",
      "  -3.73244115e-01  2.55061638e-03  2.15394243e-01  1.26909897e-01\n",
      "  -4.52446265e-01 -4.90934921e-01 -1.29993988e-01 -4.37199284e-01\n",
      "  -3.00935139e-02  5.49258495e-01  4.46834491e-01 -3.21963776e-01\n",
      "  -4.15124802e-01  2.14459225e-02 -2.94998920e-01  5.29204370e-01\n",
      "   1.00000000e+00  6.10796643e-01  4.93277633e-01  3.71042509e-01\n",
      "   3.39684869e-01  1.20093062e-01  4.53350596e-01  2.88398139e-01\n",
      "   8.79372170e-02  9.23782756e-02 -3.88117018e-01 -2.27933110e-01\n",
      "   3.88843511e-01  1.89151055e-01  1.74323111e-01 -2.10258266e-01\n",
      "  -3.83419680e-01 -5.22366215e-01 -2.43016921e-01 -4.65300068e-01\n",
      "  -2.62478388e-01 -2.62336303e-01 -2.30671476e-01 -2.88108980e-01\n",
      "  -8.76311478e-03  1.03198990e-01  4.00060965e-01  1.43379494e-01\n",
      "   2.69587371e-01  2.77153227e-01 -4.20238729e-01 -3.74915185e-01\n",
      "  -4.70466300e-01 -3.04616775e-01  5.82991002e-01 -4.50453736e-02\n",
      "  -2.32803693e-01  4.52939070e-01  3.39092258e-01  2.21528663e-01\n",
      "   5.16490957e-01  3.06606882e-01  5.13354476e-01  2.80626091e-01\n",
      "   5.23742711e-02 -2.79620704e-01 -3.79344075e-01 -2.56969611e-01\n",
      "  -4.04453708e-01  3.17620011e-01 -1.98453746e-01 -4.05322079e-01\n",
      "   6.34964707e-02  3.07573071e-01 -9.22200325e-02  1.10568030e-02\n",
      "   4.24259300e-01  3.72783606e-01  4.11691932e-01  1.37913116e-01\n",
      "   1.28148982e-01  4.05031702e-01  1.50011898e-01  3.31288538e-01\n",
      "   1.60938405e-01  3.10948728e-01  1.14727463e-01 -3.77724710e-01\n",
      "   4.73332169e-02 -2.66881402e-01  1.51959918e-01  3.02980420e-02\n",
      "   8.31759030e-02 -3.61906649e-01  1.84447113e-01 -2.48359931e-01\n",
      "   1.94102411e-01  1.97750661e-01 -3.15292665e-01 -2.45926447e-01\n",
      "  -1.76156465e-01 -1.57783124e-01 -5.71386671e-01 -4.02701323e-01\n",
      "  -2.83412137e-01 -5.03888383e-01  2.34170631e-01  3.60699244e-01\n",
      "  -1.85568571e-01  4.48881184e-01  1.06115659e-01  2.93322202e-01\n",
      "   4.28705625e-01  4.29696437e-01]\n",
      " [-4.02766120e-01 -1.77498461e-01 -5.61616331e-02  5.58042528e-01\n",
      "  -3.00797071e-02 -3.35553784e-01 -5.43166284e-01 -2.65178805e-01\n",
      "  -2.61525183e-01 -3.94159134e-01  6.55851826e-01 -2.65275866e-01\n",
      "  -3.43440688e-01  3.35066274e-01 -6.44183788e-03  3.32116236e-01\n",
      "  -4.79336343e-01 -2.27227525e-01  5.73025308e-01 -1.24816338e-01\n",
      "  -1.92012380e-01 -5.95221731e-02  3.21134677e-01  5.07697603e-01\n",
      "  -3.39897406e-01 -3.45877371e-01 -3.61106554e-02 -3.14417100e-01\n",
      "   3.39593804e-01  7.92947405e-01  8.37663670e-01 -4.10044906e-01\n",
      "  -4.35163685e-01  1.65650863e-01 -7.19093808e-02  8.64026555e-01\n",
      "   6.10796643e-01  1.00000000e+00  8.62461193e-01  7.67594369e-01\n",
      "   3.38195829e-01  3.94950270e-01  5.22428308e-01  4.81892254e-01\n",
      "   2.97752488e-01  2.76209582e-01 -3.97209537e-01 -5.00270132e-01\n",
      "   4.09717969e-01  3.64090990e-01  2.58615140e-01 -3.23679969e-01\n",
      "  -5.92790863e-01 -5.64827778e-01 -4.12754303e-01 -6.27557323e-01\n",
      "  -2.85810896e-01 -4.62460836e-01 -3.16951137e-01 -4.97077346e-01\n",
      "  -2.06056485e-01  2.03626551e-01  3.82996935e-01  2.84624972e-01\n",
      "   3.16615037e-01  2.78744010e-01 -6.06201765e-01 -3.80886512e-01\n",
      "  -5.98946184e-01 -4.28717191e-01  6.71284351e-01 -2.44393668e-01\n",
      "  -3.39518617e-01  6.32429323e-01  3.47827680e-01  4.50091213e-01\n",
      "   5.94595769e-01  4.81592099e-01  5.91108249e-01  3.74692964e-01\n",
      "   4.95707665e-03 -5.07394574e-01 -5.80326747e-01 -3.70291975e-01\n",
      "  -6.55964499e-01  2.10212216e-01 -3.49895429e-01 -6.47581987e-01\n",
      "  -1.57760181e-01  3.32425621e-01 -2.23156952e-01 -1.91457493e-01\n",
      "   3.66623342e-01  2.59231034e-01  3.50161076e-01 -3.60898844e-02\n",
      "   1.18682635e-01  3.43408380e-01  1.64912145e-01  2.01896582e-01\n",
      "   2.84092041e-01  1.77753077e-01 -1.10080846e-01 -5.93441462e-01\n",
      "   2.61935205e-02 -3.98271364e-01  8.85226055e-02 -6.81465875e-03\n",
      "   1.57671213e-02 -5.56779904e-01  1.74294655e-02 -2.99640124e-01\n",
      "   1.14197081e-01  1.42880349e-01 -4.20224821e-01 -3.72586371e-01\n",
      "  -2.64203113e-01 -3.43009026e-01 -7.09681339e-01 -5.52513665e-01\n",
      "  -4.35999336e-01 -3.93059601e-01  3.07657456e-01  3.70350860e-01\n",
      "  -2.66009835e-01  5.11419210e-01  2.19567741e-01  4.59351220e-01\n",
      "   4.84934355e-01  4.72502976e-01]\n",
      " [-3.35750345e-01 -3.03499993e-01 -7.02453559e-02  5.10796496e-01\n",
      "  -1.59291530e-01 -3.01480302e-01 -5.14553264e-01 -3.54239131e-01\n",
      "  -2.59492692e-01 -4.62591602e-01  8.04670113e-01 -2.69977143e-01\n",
      "  -3.69113732e-01  1.95392435e-01 -7.58843369e-02  3.02142146e-01\n",
      "  -4.97174884e-01 -4.58095079e-02  4.34405763e-01 -7.62942548e-02\n",
      "  -1.55118314e-01 -1.45491065e-01  2.29474428e-01  4.13195699e-01\n",
      "  -2.12683034e-01 -3.35307925e-01  1.04320170e-01 -2.94907700e-01\n",
      "   3.40826534e-01  7.33559886e-01  8.38986570e-01 -4.85483375e-01\n",
      "  -3.68471441e-01  3.47593718e-01 -1.06941286e-01  7.96543535e-01\n",
      "   4.93277633e-01  8.62461193e-01  1.00000000e+00  8.43709111e-01\n",
      "   4.60447640e-01  5.18910233e-01  4.73622820e-01  4.97890088e-01\n",
      "   3.78514615e-01  4.03469267e-01 -4.16336881e-01 -5.38126774e-01\n",
      "   4.12412390e-01  5.39575734e-01  3.79644445e-01 -5.13221918e-01\n",
      "  -5.82035749e-01 -6.74419503e-01 -4.63671649e-01 -6.25535259e-01\n",
      "  -3.31094615e-01 -4.89791151e-01 -4.73960059e-01 -5.76287148e-01\n",
      "  -3.16478714e-01  1.31994796e-02  2.99492241e-01  2.28099953e-01\n",
      "   3.31649029e-01  3.00831131e-01 -5.81453861e-01 -3.09952313e-01\n",
      "  -6.24611022e-01 -2.96933296e-01  5.20356179e-01 -2.11824414e-01\n",
      "  -3.57138558e-01  4.65552378e-01  3.93130370e-01  4.44248344e-01\n",
      "   4.34405891e-01  3.89425409e-01  5.10291409e-01  3.25403048e-01\n",
      "   3.02873402e-02 -5.38159507e-01 -6.08332858e-01 -4.95348854e-01\n",
      "  -6.27336721e-01  2.41184734e-01 -4.95878678e-01 -6.04458302e-01\n",
      "  -2.86370385e-01  3.40001017e-01 -3.82549830e-01 -1.82340291e-01\n",
      "   2.82826745e-01  2.83913861e-01  3.14435215e-01 -8.10957110e-02\n",
      "   7.48792314e-02  1.89953467e-01  1.93393762e-01  2.01282930e-01\n",
      "   2.46523651e-01  1.08805127e-01 -9.08544383e-02 -4.30671489e-01\n",
      "   3.04680474e-01 -2.17142523e-01  2.43157393e-01  1.73602887e-01\n",
      "   1.70242703e-01 -4.30149879e-01  1.25514079e-01 -1.87693411e-01\n",
      "   2.41934146e-01  2.47576529e-01 -2.75808413e-01 -3.96529130e-01\n",
      "  -1.43208549e-01 -4.00280386e-01 -6.89957958e-01 -5.60743849e-01\n",
      "  -4.52428854e-01 -4.30740775e-01  3.56680252e-01  3.86503852e-01\n",
      "  -2.93465035e-01  4.25181608e-01  1.99332972e-01  4.99037034e-01\n",
      "   5.07999156e-01  3.98580063e-01]\n",
      " [-3.21832255e-01 -3.48357535e-01  1.62504259e-02  4.07867585e-01\n",
      "  -1.67770550e-01 -3.19518582e-01 -3.23378877e-01 -1.93283862e-01\n",
      "  -6.87095988e-02 -2.45708382e-01  7.89808587e-01 -1.95021272e-01\n",
      "  -3.97774298e-01  8.44141555e-02 -9.08418872e-02  2.00778355e-01\n",
      "  -3.37499043e-01  1.60875117e-02  3.27472714e-01 -6.04459622e-02\n",
      "   5.08689318e-03 -2.87939839e-01  2.32959682e-01  4.37334407e-01\n",
      "   3.71866452e-03 -1.79943803e-01  1.93007428e-02 -3.10133371e-01\n",
      "   6.57010823e-01  5.36364664e-01  8.16379046e-01 -4.05113271e-01\n",
      "  -3.39682911e-01  3.82189643e-01 -1.09600162e-01  6.36589308e-01\n",
      "   3.71042509e-01  7.67594369e-01  8.43709111e-01  1.00000000e+00\n",
      "   4.31147491e-01  6.60380146e-01  4.67263797e-01  5.18536368e-01\n",
      "   3.83377031e-01  4.84470443e-01 -1.38672889e-01 -5.93609155e-01\n",
      "   2.91453327e-01  5.20738738e-01  4.58605899e-01 -2.41870607e-01\n",
      "  -4.66954567e-01 -3.56472057e-01 -4.75466999e-01 -6.21217908e-01\n",
      "  -3.60665780e-01 -5.48298946e-01 -5.18638923e-01 -6.23939665e-01\n",
      "  -3.53906159e-01  1.72344991e-01  3.03509876e-01  3.25546725e-01\n",
      "   2.47673194e-01  1.97361352e-01 -5.49620429e-01 -7.48937160e-02\n",
      "  -5.61720396e-01 -2.85943010e-01  4.45692219e-01 -2.13052173e-01\n",
      "  -2.98730054e-01  5.12030116e-01  2.96900190e-01  5.00337809e-01\n",
      "   4.90058456e-01  4.07125395e-01  3.93163683e-01  4.23287700e-01\n",
      "  -5.31959617e-05 -6.31226207e-01 -6.15642869e-01 -4.82288837e-01\n",
      "  -6.25996606e-01  4.45668827e-02 -5.76806465e-01 -6.10470367e-01\n",
      "  -4.46706955e-01  2.75752416e-01 -5.07995318e-01 -2.44362359e-01\n",
      "   7.35455643e-02  1.57897112e-01  1.46684279e-01 -2.30807982e-01\n",
      "   2.16153024e-02  3.16207415e-02  6.86134736e-02  5.17899379e-02\n",
      "   1.87243751e-01 -1.96002455e-02 -2.32484176e-01 -4.50460234e-01\n",
      "   2.73683201e-01 -1.40963895e-01  1.20738520e-01  1.07457531e-01\n",
      "   7.02516886e-02 -4.49468094e-01  1.16389218e-02 -1.41249846e-01\n",
      "   1.35234130e-01  1.39503917e-01 -2.68069159e-01 -3.37243885e-01\n",
      "   6.68878312e-03 -3.20240818e-01 -5.00288860e-01 -4.56332970e-01\n",
      "  -3.70145380e-01 -2.10701785e-01  4.35383876e-01  4.14525140e-01\n",
      "  -1.48341789e-01  4.33913113e-01  2.79661973e-01  5.82169786e-01\n",
      "   4.58735921e-01  3.82219488e-01]\n",
      " [-3.76413106e-01  1.60302839e-01 -3.63868694e-01  5.47694828e-01\n",
      "  -3.01351819e-01 -3.15930697e-01 -1.18393786e-01 -3.26968639e-01\n",
      "  -4.61374302e-01 -5.17095013e-01  3.52397220e-01  1.78706024e-01\n",
      "  -2.87811355e-01  4.69745860e-01 -2.30430368e-01  9.75544823e-02\n",
      "  -7.79292418e-02 -2.56935561e-01  4.83250204e-02 -1.37679188e-01\n",
      "  -3.98389551e-01 -3.33659849e-01  3.80546308e-01  1.30636893e-01\n",
      "  -2.74567892e-01 -3.44192587e-01 -2.48634922e-01 -3.25043041e-01\n",
      "   9.39427901e-02  3.95808714e-01  4.66720180e-01 -6.32733409e-02\n",
      "  -3.88031279e-01  3.54236275e-01 -3.48678920e-01  3.72724098e-01\n",
      "   3.39684869e-01  3.38195829e-01  4.60447640e-01  4.31147491e-01\n",
      "   1.00000000e+00  3.02453044e-01  3.95338248e-01  7.89474876e-01\n",
      "   3.24887837e-01  2.86135940e-01 -2.87098452e-01 -3.55782836e-01\n",
      "   2.06583144e-01  2.98938615e-01  3.30269858e-01 -4.25919410e-01\n",
      "  -4.09436447e-01 -4.39291034e-01 -2.21989461e-01 -4.31028808e-01\n",
      "  -4.18397681e-01 -5.05422539e-01 -4.43565036e-01 -4.66089996e-01\n",
      "  -2.45913965e-01  9.55274004e-02  3.78656792e-01  2.65091369e-01\n",
      "   3.44643266e-01  2.54147208e-01 -4.55710214e-01 -3.27914049e-01\n",
      "  -4.70671999e-01 -1.89663295e-01  2.67114724e-01 -1.20050749e-01\n",
      "  -3.68252476e-01  3.42310011e-01  2.77519706e-01  3.12941620e-01\n",
      "   2.64069006e-01  2.63884975e-01  3.24556565e-01  3.31871536e-01\n",
      "   2.07526549e-01 -2.56433409e-01 -2.91985915e-01 -2.94535492e-01\n",
      "  -3.27360268e-01  1.73298864e-01 -3.91217444e-01 -2.64391895e-01\n",
      "  -2.44233292e-01  3.71282044e-01 -2.33682048e-01  3.39561176e-03\n",
      "   2.96957440e-01  2.90186935e-01  3.75077075e-01  4.20151906e-02\n",
      "   3.08841072e-01  1.97246670e-01  3.09330041e-01  3.25647225e-01\n",
      "   4.54406722e-01 -3.69965827e-02 -1.04349140e-01 -3.11456917e-01\n",
      "   1.28598453e-01 -1.11242781e-01  1.97236053e-01  1.99927587e-01\n",
      "   1.56765947e-01 -4.32747047e-01  1.23788413e-01 -1.01190481e-01\n",
      "   1.26131576e-01  1.46478538e-01 -1.47152709e-01 -3.78302772e-01\n",
      "  -2.66674123e-01 -4.14260565e-01 -5.40444475e-01 -5.08306520e-01\n",
      "  -5.07795527e-01 -4.04705618e-01  2.90875649e-01  2.70943637e-01\n",
      "  -3.24300574e-01  1.55191946e-01  1.29132101e-01  4.35221453e-01\n",
      "   2.88518262e-01  1.20664029e-01]\n",
      " [-2.16379337e-01 -3.53416685e-01 -1.37464490e-01  3.14372110e-01\n",
      "  -2.53287959e-01 -2.81165823e-01 -2.15823908e-01 -1.55870960e-01\n",
      "  -1.49382306e-01 -1.57544578e-01  3.61150519e-01 -2.15581429e-01\n",
      "  -3.78086303e-01 -3.70180685e-02 -2.33208395e-01  5.98229463e-02\n",
      "  -2.56358693e-01 -1.58984637e-01  5.34761672e-02 -1.33732076e-01\n",
      "  -3.07730266e-02 -3.14769243e-01  1.10830305e-02  1.53506725e-01\n",
      "  -1.45672669e-02 -1.16815962e-01 -6.98470989e-02 -2.84153901e-01\n",
      "   3.64604416e-01  2.40065974e-01  4.74133289e-01 -1.99574652e-01\n",
      "  -1.84208925e-01  4.67642535e-01 -1.68577473e-01  3.19353072e-01\n",
      "   1.20093062e-01  3.94950270e-01  5.18910233e-01  6.60380146e-01\n",
      "   3.02453044e-01  1.00000000e+00  3.07140680e-01  4.00608960e-01\n",
      "   3.33166171e-01  3.56393978e-01  1.38496978e-01 -3.93906970e-01\n",
      "   1.68604500e-01  4.09058642e-01  5.36715630e-01 -1.44286989e-01\n",
      "  -3.68012041e-01 -1.90177036e-01 -3.32123735e-01 -3.55818053e-01\n",
      "  -4.38785031e-01 -3.17331316e-01 -3.84795389e-01 -4.40852719e-01\n",
      "  -1.89613624e-01  7.44995467e-03  2.42577873e-01  3.05100788e-01\n",
      "   2.23169518e-01  1.70375708e-01 -3.72454463e-01  4.61653388e-02\n",
      "  -3.06889378e-01 -5.32995084e-02  2.51445860e-01 -5.11493846e-02\n",
      "  -1.95466869e-01  3.32354206e-01  1.61326832e-01  3.99240260e-01\n",
      "   3.71461522e-01  2.90439215e-01  2.05686079e-01  3.08864414e-01\n",
      "   1.15502753e-01 -4.80799011e-01 -4.38373233e-01 -3.48035147e-01\n",
      "  -4.19211088e-01  4.11060553e-02 -4.30699841e-01 -3.75808608e-01\n",
      "  -4.57216553e-01  2.42915066e-01 -4.64294793e-01 -1.65272858e-01\n",
      "  -3.47519087e-02  2.12992639e-01  1.25904597e-01 -2.22919686e-01\n",
      "   5.86675723e-02 -3.86951402e-02  2.57268471e-01  9.51073708e-02\n",
      "   1.59021283e-01 -1.44029680e-01 -2.44445217e-01 -2.69524649e-01\n",
      "   4.59360058e-01  9.71334107e-02  1.02612406e-01  1.28847889e-01\n",
      "   9.59314534e-02 -2.29116945e-01  7.04235220e-02 -9.32973338e-02\n",
      "   1.02543359e-01  9.04652587e-02 -1.48033068e-01 -2.54876238e-01\n",
      "   2.89518481e-02 -3.46990094e-01 -2.91272876e-01 -2.37218744e-01\n",
      "  -3.64709324e-01 -1.60781560e-01  3.18888662e-01  3.24313124e-01\n",
      "  -1.62807479e-01  2.62453946e-01  5.99771515e-02  4.07360297e-01\n",
      "   2.18325969e-01  2.34835308e-01]\n",
      " [-5.15383196e-01 -3.31180853e-01 -3.23136677e-01  3.98499251e-01\n",
      "  -3.75688364e-01 -5.62958670e-01 -5.95946686e-01 -5.37955543e-01\n",
      "  -5.13454830e-01 -5.97535698e-01  3.68432397e-01 -2.98180249e-01\n",
      "  -5.96243200e-01  2.08709009e-01 -3.67943396e-01  3.35321165e-02\n",
      "  -5.09448389e-01 -4.19594043e-01  1.83103824e-01 -3.43635207e-01\n",
      "  -4.75751550e-01 -5.27383036e-01  1.74619743e-01  1.58131907e-01\n",
      "  -4.85362227e-01 -5.69425237e-01 -4.79456756e-01 -6.17389910e-01\n",
      "   2.08470681e-01  3.16633503e-01  4.20882765e-01 -5.56217903e-01\n",
      "  -5.49848144e-01  1.63978312e-02 -4.64179636e-01  3.97047230e-01\n",
      "   4.53350596e-01  5.22428308e-01  4.73622820e-01  4.67263797e-01\n",
      "   3.95338248e-01  3.07140680e-01  1.00000000e+00  3.72698248e-01\n",
      "   2.26514089e-01  2.64372855e-01 -2.49845548e-01 -3.18005243e-01\n",
      "   4.85391304e-01  4.15057073e-01  4.80601546e-01 -2.80294306e-01\n",
      "  -1.95677052e-01 -4.95981043e-01 -4.16954549e-01 -5.75575819e-01\n",
      "  -1.93166083e-01 -4.10545087e-01 -1.38062820e-01 -2.71780971e-01\n",
      "  -2.91302778e-01  2.73458808e-01  6.36921011e-01  3.26421029e-01\n",
      "   5.72761592e-01  5.16790205e-01 -5.54813425e-01 -3.43072845e-01\n",
      "  -5.29910262e-01 -2.35661210e-01  5.20894447e-01 -3.42252102e-01\n",
      "  -3.71769716e-01  6.19489537e-01  4.60055543e-01  5.87487064e-01\n",
      "   5.09809301e-01  3.74672809e-01  5.37127208e-01  5.84586774e-01\n",
      "   8.98177087e-02 -4.56457766e-01 -4.72933110e-01 -4.42410124e-01\n",
      "  -5.59365521e-01  8.57137533e-02 -4.52998202e-01 -5.24079108e-01\n",
      "  -2.87572529e-01  4.17609582e-01 -3.21499672e-01 -1.82649120e-01\n",
      "   2.59957829e-01  2.80160796e-01  4.09433922e-01 -3.63482764e-02\n",
      "   2.32524388e-01  2.70675660e-01  1.55275269e-01  2.33243237e-01\n",
      "   4.17787289e-01  6.68873946e-02 -2.78264861e-02 -3.80345061e-01\n",
      "   1.09363259e-01 -2.26280296e-01  2.50005187e-01  2.12630232e-01\n",
      "   1.92703830e-01 -4.75656499e-01  5.77766597e-02 -1.02005054e-02\n",
      "   2.10032460e-01  2.58802199e-01 -9.51775045e-02  9.85844124e-02\n",
      "  -4.89807104e-02  1.22745906e-01 -5.09053413e-01 -3.25967396e-01\n",
      "  -1.60319582e-01 -9.59224526e-02  7.94604699e-01  8.34916834e-01\n",
      "   2.08489141e-01  6.05807785e-01  3.26335638e-01  8.80760751e-01\n",
      "   8.15408581e-01  6.52504844e-01]\n",
      " [-3.11744611e-01 -3.28197742e-03 -2.79100649e-01  6.02626186e-01\n",
      "  -2.34052111e-01 -3.15076695e-01  1.29537272e-02 -2.32118384e-01\n",
      "  -3.94771204e-01 -3.96996494e-01  3.73051837e-01  4.76011430e-02\n",
      "  -2.90889117e-01  3.24582335e-01 -1.44002523e-01  1.21402636e-01\n",
      "   8.11813058e-02 -3.35595580e-01  1.55085265e-01 -1.40503770e-01\n",
      "  -2.94885498e-01 -2.92705591e-01  5.55591473e-01  2.81604739e-01\n",
      "  -3.04827663e-01 -1.95706863e-01 -1.98812171e-01 -2.12661532e-01\n",
      "   2.38277487e-01  5.18531507e-01  5.97602226e-01 -1.08216554e-01\n",
      "  -3.25601677e-01  4.44814047e-01 -2.46623597e-01  4.83743026e-01\n",
      "   2.88398139e-01  4.81892254e-01  4.97890088e-01  5.18536368e-01\n",
      "   7.89474876e-01  4.00608960e-01  3.72698248e-01  1.00000000e+00\n",
      "   5.09526940e-01  4.06248983e-01 -2.80234830e-01 -4.55659233e-01\n",
      "   1.99143760e-01  2.67345148e-01  2.45569616e-01 -3.97455050e-01\n",
      "  -4.18501259e-01 -4.03479546e-01 -3.25015897e-01 -4.67893624e-01\n",
      "  -4.41192841e-01 -5.55466848e-01 -4.11085652e-01 -5.37349220e-01\n",
      "  -2.73328845e-01  1.60522593e-01  3.56563776e-01  3.32853025e-01\n",
      "   3.45702788e-01  2.70462301e-01 -5.32173247e-01 -3.03809788e-01\n",
      "  -4.85228494e-01 -2.74736426e-01  3.79136505e-01 -2.16784917e-01\n",
      "  -4.55636654e-01  4.32490234e-01  2.93117160e-01  4.43275538e-01\n",
      "   4.00330072e-01  3.35815593e-01  3.88317982e-01  3.81129763e-01\n",
      "   1.51138557e-01 -4.53799924e-01 -4.35929930e-01 -4.06031408e-01\n",
      "  -4.62956545e-01  1.46927819e-01 -4.93583527e-01 -4.38829932e-01\n",
      "  -2.79020044e-01  3.64217418e-01 -3.83558622e-01 -1.77059718e-01\n",
      "   2.50790630e-01  2.96724983e-01  2.40165776e-01 -4.25884859e-02\n",
      "   1.93639604e-01  1.88488183e-01  3.06633737e-01  2.46909349e-01\n",
      "   3.22113800e-01 -3.68531433e-02 -1.80585256e-01 -4.18001473e-01\n",
      "   1.11435241e-01 -1.26091542e-01  1.80453244e-01  1.61214582e-01\n",
      "   1.52136764e-01 -4.69979543e-01  6.24585553e-02 -1.62880868e-01\n",
      "   1.37519716e-01  1.54892210e-01 -1.94951774e-01 -4.61126229e-01\n",
      "  -2.60143911e-01 -4.27213700e-01 -4.76608243e-01 -5.07748291e-01\n",
      "  -5.25663072e-01 -3.63648285e-01  2.48054270e-01  2.06345807e-01\n",
      "  -3.44343078e-01  2.49793751e-01  1.38661607e-01  4.12797625e-01\n",
      "   3.40071925e-01  2.52199926e-01]\n",
      " [ 4.41507998e-02 -3.28347520e-01 -3.30514113e-01  4.70168861e-01\n",
      "  -4.18810995e-03  5.97125654e-03 -1.49293680e-01 -2.30784211e-02\n",
      "  -1.59103231e-01 -1.80847787e-01  3.42864408e-01  8.96538026e-03\n",
      "  -2.58794171e-02  8.16965603e-02 -1.32945007e-01  3.64884801e-01\n",
      "  -9.92542315e-02 -2.64916344e-01  1.70435247e-01 -8.30145778e-02\n",
      "  -3.59112976e-01 -3.43199529e-01  2.75020528e-01  3.67740235e-01\n",
      "  -2.62884937e-01 -1.45563357e-01 -8.89330073e-02 -9.06039104e-02\n",
      "   2.38686380e-01  5.44063980e-01  5.36320947e-01 -2.73455702e-01\n",
      "   1.22519398e-02  6.92406829e-01 -3.02965364e-01  4.56363603e-01\n",
      "   8.79372170e-02  2.97752488e-01  3.78514615e-01  3.83377031e-01\n",
      "   3.24887837e-01  3.33166171e-01  2.26514089e-01  5.09526940e-01\n",
      "   1.00000000e+00  8.68376801e-01 -2.75696231e-01 -4.55680774e-01\n",
      "   1.30750759e-01  2.28299152e-01  1.73788760e-01 -4.17506597e-01\n",
      "  -3.74813481e-01 -3.19235461e-01 -3.75807284e-01 -3.11739677e-01\n",
      "  -5.21274165e-01 -3.80641258e-01 -5.02159321e-01 -3.36676601e-01\n",
      "  -3.78138680e-01  1.11555508e-01  2.15325835e-01  1.43348005e-01\n",
      "   2.59454287e-01  1.33654195e-01 -3.75875859e-01 -2.87249867e-01\n",
      "  -2.96571303e-01 -2.63693717e-01  1.47368930e-01 -3.63157354e-01\n",
      "  -5.83797827e-01  1.82951858e-01  1.74705412e-01  3.06054815e-01\n",
      "   1.42675691e-01  1.64343518e-01  1.71994525e-01  3.78010286e-01\n",
      "   4.01931272e-01 -3.44474689e-01 -3.67154994e-01 -2.90066733e-01\n",
      "  -3.63865418e-01  7.55918353e-02 -3.64907725e-01 -3.01391017e-01\n",
      "  -3.56948164e-01  2.69624466e-01 -4.93068739e-01 -2.69940880e-01\n",
      "   8.43455187e-02  9.81008326e-02  4.86119414e-02  8.86413631e-03\n",
      "   1.75949371e-01 -9.62212559e-04  1.48886565e-01  1.72162628e-01\n",
      "   2.83278753e-01 -1.80441399e-01 -4.66407525e-02 -3.58071993e-01\n",
      "   2.25774865e-01  2.82276785e-01  1.90201047e-01  2.39446983e-01\n",
      "   2.43872750e-01 -4.40394992e-01  3.55759313e-02  3.31373005e-02\n",
      "   1.46329318e-01  1.56868821e-01  1.01840154e-01 -6.03930950e-01\n",
      "  -3.41361672e-01 -4.82196667e-01 -3.81272446e-01 -2.30580918e-01\n",
      "  -5.14909725e-01 -4.62208614e-01  3.19199719e-01  5.64859829e-02\n",
      "  -4.63456137e-01  1.20947749e-01  7.43901240e-02  1.86510592e-01\n",
      "   2.01868070e-01  1.57672078e-01]\n",
      " [ 6.18100692e-03 -3.88826517e-01 -3.25995259e-01  2.78947868e-01\n",
      "  -1.53123734e-01 -1.25415705e-01 -2.12805319e-01 -1.48882382e-01\n",
      "  -3.67579903e-02 -2.08087346e-01  4.47761669e-01  6.12026425e-02\n",
      "  -9.57415609e-02  4.18961404e-02 -2.85268900e-01  2.27153582e-01\n",
      "  -1.73820278e-01 -1.85378245e-01  1.09212191e-01 -1.97649320e-01\n",
      "  -2.67101474e-01 -4.09422485e-01  2.31431768e-01  2.60760715e-01\n",
      "  -1.80634080e-01 -2.32516842e-01 -5.82342098e-02 -2.12307785e-01\n",
      "   3.51498894e-01  3.66110750e-01  4.03840385e-01 -3.61287714e-01\n",
      "  -1.24901034e-02  5.08878077e-01 -2.83160852e-01  3.42343351e-01\n",
      "   9.23782756e-02  2.76209582e-01  4.03469267e-01  4.84470443e-01\n",
      "   2.86135940e-01  3.56393978e-01  2.64372855e-01  4.06248983e-01\n",
      "   8.68376801e-01  1.00000000e+00 -2.96717867e-01 -5.23734717e-01\n",
      "   9.54325064e-02  2.89824083e-01  1.78781337e-01 -3.75877650e-01\n",
      "  -2.98270870e-01 -2.99797403e-01 -3.82084778e-01 -2.98022880e-01\n",
      "  -5.04392396e-01 -3.67084825e-01 -5.71515931e-01 -3.63116322e-01\n",
      "  -4.29219819e-01  2.74391792e-02  1.98799500e-01  1.24815159e-01\n",
      "   2.49032677e-01  1.23090234e-01 -3.42681778e-01 -1.92337294e-01\n",
      "  -2.88077202e-01 -3.27808192e-01  2.10559544e-01 -3.72509164e-01\n",
      "  -5.46786742e-01  2.60085329e-01  2.86139034e-01  4.31302064e-01\n",
      "   2.36771320e-01  2.01338731e-01  2.59912250e-01  3.87476208e-01\n",
      "   4.14285686e-01 -3.84299174e-01 -4.24667240e-01 -3.09812194e-01\n",
      "  -3.62287887e-01  1.13973738e-01 -3.80009553e-01 -2.87958625e-01\n",
      "  -4.20969247e-01  2.19292599e-01 -5.52998734e-01 -3.47026450e-01\n",
      "   6.73374779e-02  1.64898170e-01  3.17263030e-02 -4.99019971e-02\n",
      "   1.43435818e-01  3.34143004e-02  1.23053918e-01  1.95943705e-01\n",
      "   2.25007262e-01 -1.92849207e-01 -8.92416757e-03 -3.45332508e-01\n",
      "   3.05826139e-01  3.40879274e-01  2.46119792e-01  2.52688893e-01\n",
      "   2.66047107e-01 -3.49265057e-01  1.14508919e-01  6.09610993e-02\n",
      "   2.32500784e-01  2.10480890e-01  1.40429517e-01 -5.40945690e-01\n",
      "  -2.81834980e-01 -3.80454224e-01 -3.01565575e-01 -1.69046649e-01\n",
      "  -4.16742632e-01 -4.47264494e-01  3.62877954e-01  1.03575224e-01\n",
      "  -4.20610336e-01  1.80885935e-01  1.95642406e-01  2.61627164e-01\n",
      "   2.97587385e-01  2.80480771e-01]\n",
      " [ 8.33985708e-02  5.05802551e-02  3.21464007e-01 -3.93906092e-01\n",
      "   8.41653023e-02  3.24346874e-02  3.73784658e-01  2.00271897e-01\n",
      "   2.07267020e-01  4.20204205e-01 -3.61519394e-01  3.02179775e-03\n",
      "  -7.00717833e-02 -1.91532796e-01  4.54814880e-02 -1.71598540e-01\n",
      "   2.93507697e-01  2.12338368e-01 -2.78388356e-01  1.61647210e-01\n",
      "   4.33076440e-01  1.44126596e-01 -2.17547504e-01 -1.91593511e-01\n",
      "   4.00808767e-01  2.99030610e-01  3.40565529e-02  7.74957959e-02\n",
      "   5.30331159e-02 -5.51475179e-01 -3.54291520e-01  1.60086674e-01\n",
      "   1.15102065e-01 -2.73749023e-02  1.13202140e-01 -4.17851489e-01\n",
      "  -3.88117018e-01 -3.97209537e-01 -4.16336881e-01 -1.38672889e-01\n",
      "  -2.87098452e-01  1.38496978e-01 -2.49845548e-01 -2.80234830e-01\n",
      "  -2.75696231e-01 -2.96717867e-01  1.00000000e+00  3.22629373e-01\n",
      "  -2.69001833e-01 -1.33194290e-01  1.50447948e-01  6.62619592e-01\n",
      "   3.32798506e-01  6.68749797e-01  3.44792076e-01  3.19153050e-01\n",
      "   7.47552668e-02  2.56176023e-01  3.32236106e-01  2.20589992e-01\n",
      "   3.66821589e-01  1.14625190e-01 -1.16951967e-01  1.15640658e-01\n",
      "  -1.77783697e-01 -2.39897642e-01  3.53353158e-01  5.85739286e-01\n",
      "   3.44083832e-01  6.23196102e-01 -2.25459748e-01  3.25797675e-01\n",
      "   5.57898743e-01 -5.82069144e-02 -4.61043275e-01 -1.77638673e-01\n",
      "  -1.66982470e-01  6.58124585e-03 -2.42590611e-01  6.32742642e-02\n",
      "  -1.91958287e-01 -4.36743982e-02  5.02198365e-02  1.59308686e-01\n",
      "   7.24359433e-02 -3.02903840e-01  3.15044792e-02  2.05252855e-02\n",
      "  -1.39896386e-01 -1.30856010e-01 -2.98328035e-02  2.05048407e-01\n",
      "  -5.03158110e-01 -3.96408814e-01 -3.44964612e-01 -2.51483873e-01\n",
      "  -1.83474077e-01 -3.59107615e-01 -8.01134126e-02 -3.42496590e-01\n",
      "  -2.93074055e-01 -9.96948704e-02 -3.47288636e-01  1.82770052e-01\n",
      "  -6.23659589e-02  1.26395965e-01 -3.97041863e-01 -2.90760999e-01\n",
      "  -3.33934814e-01  2.42342570e-01 -2.92352997e-01 -1.12964548e-01\n",
      "  -3.62501800e-01 -3.65742139e-01 -1.36551505e-01  3.74685261e-01\n",
      "   5.13435425e-01  2.50005605e-01  4.83767286e-01  2.62121767e-01\n",
      "   3.22346857e-01  5.85204832e-01 -8.12357604e-02 -9.82444419e-02\n",
      "   4.71190243e-01 -7.18091478e-02 -6.82979459e-02 -1.85672941e-01\n",
      "  -3.70979171e-01 -2.07946763e-01]\n",
      " [ 5.48688441e-02  2.48641195e-01  1.71130681e-01 -4.12227932e-01\n",
      "   7.15805643e-02  1.62696922e-01  2.44723343e-01  1.15757400e-01\n",
      "  -1.87384282e-03  1.85330314e-01 -5.58077070e-01 -8.06235859e-02\n",
      "   1.65379780e-01 -1.71651827e-01  1.46714725e-01 -1.37614895e-01\n",
      "   2.32997436e-01  1.27039886e-01 -2.51225813e-01  1.86681327e-01\n",
      "   1.71386790e-01  3.16950365e-01 -3.00275915e-01 -3.24069646e-01\n",
      "   1.67028366e-01  2.14950969e-01  3.88536551e-02  2.45881050e-01\n",
      "  -4.08406615e-01 -4.94065716e-01 -5.38073357e-01  2.80720710e-01\n",
      "   9.31791180e-02 -2.21727488e-01  1.80277861e-01 -4.92831985e-01\n",
      "  -2.27933110e-01 -5.00270132e-01 -5.38126774e-01 -5.93609155e-01\n",
      "  -3.55782836e-01 -3.93906970e-01 -3.18005243e-01 -4.55659233e-01\n",
      "  -4.55680774e-01 -5.23734717e-01  3.22629373e-01  1.00000000e+00\n",
      "  -1.19241046e-01 -3.56961357e-01 -2.58560454e-01  2.71771707e-01\n",
      "   4.85878539e-01  3.05263974e-01  4.40113190e-01  4.56365268e-01\n",
      "   3.88509137e-01  6.25495477e-01  8.18436464e-01  6.23006906e-01\n",
      "   4.82469776e-01 -1.12576496e-01  2.37292832e-02 -2.41490372e-01\n",
      "   1.22899901e-01  2.95472840e-01  3.58586531e-01  1.62420805e-01\n",
      "   4.82433217e-01  4.11005469e-01 -3.47321489e-01  3.08685714e-01\n",
      "   4.14068995e-01 -3.52326335e-01 -3.83063131e-01 -4.40906165e-01\n",
      "  -3.21924940e-01 -2.78123310e-01 -3.16486165e-01 -3.62669371e-01\n",
      "  -1.06562850e-01  3.81825628e-01  3.83185150e-01  4.55380666e-01\n",
      "   3.53459127e-01 -1.34726338e-01  3.89927160e-01  3.34258431e-01\n",
      "   2.10399180e-01 -2.57375636e-01  3.93725758e-01  3.41209559e-01\n",
      "  -1.93384593e-01 -2.21801468e-01 -1.72335600e-01  6.23271658e-03\n",
      "  -5.94400650e-02 -1.04199534e-01 -1.23842446e-01 -1.58814179e-01\n",
      "  -1.34967519e-01  4.05594781e-02 -6.98230234e-02  2.99348951e-01\n",
      "  -3.31836634e-01  1.21497955e-02 -2.86948392e-01 -2.56057032e-01\n",
      "  -2.58099690e-01  2.78838225e-01 -1.59233759e-01 -3.99824222e-02\n",
      "  -2.73113757e-01 -2.70487116e-01  3.90117791e-04  4.02148084e-01\n",
      "   9.28644015e-02  3.20168789e-01  3.71109028e-01  1.98797020e-01\n",
      "   3.60091077e-01  2.75963781e-01 -3.75668945e-01 -2.36701518e-01\n",
      "   2.89210104e-01 -3.39004147e-01 -1.72870057e-01 -4.27102999e-01\n",
      "  -3.95645158e-01 -3.04065409e-01]\n",
      " [-4.36313503e-01 -2.35789460e-01 -1.60576256e-01  3.08789376e-01\n",
      "  -2.87493662e-01 -4.08686104e-01 -4.75800941e-01 -3.23880410e-01\n",
      "  -4.23981305e-01 -5.51542198e-01  3.57530761e-01 -3.06019031e-01\n",
      "  -3.90804170e-01  2.32442388e-01 -2.62824886e-01  1.58122882e-01\n",
      "  -4.10938532e-01 -2.71128438e-01  2.26487725e-01 -3.22138620e-01\n",
      "  -3.18094422e-01 -2.75781856e-01  2.02605669e-01  1.62537988e-01\n",
      "  -3.87159897e-01 -5.03329924e-01 -2.29275676e-01 -3.93320501e-01\n",
      "   7.14023047e-02  3.15272743e-01  3.09418116e-01 -3.01896398e-01\n",
      "  -4.68579729e-01 -2.69240841e-02 -2.94589745e-01  3.20320510e-01\n",
      "   3.88843511e-01  4.09717969e-01  4.12412390e-01  2.91453327e-01\n",
      "   2.06583144e-01  1.68604500e-01  4.85391304e-01  1.99143760e-01\n",
      "   1.30750759e-01  9.54325064e-02 -2.69001833e-01 -1.19241046e-01\n",
      "   1.00000000e+00  5.94095840e-01  4.40169887e-01 -3.22281622e-01\n",
      "  -2.56147725e-01 -4.85081326e-01 -2.13645545e-01 -3.71677969e-01\n",
      "  -5.72723003e-02 -1.48398710e-01 -7.87756363e-02 -2.17497418e-01\n",
      "  -1.22810154e-01  2.60998931e-01  4.53491734e-01  1.86392881e-01\n",
      "   4.16882843e-01  4.50552140e-01 -3.97725177e-01 -3.01188297e-01\n",
      "  -4.20728925e-01 -5.07059746e-02  4.34205774e-01 -1.87196091e-01\n",
      "  -2.36455952e-01  3.46427854e-01  2.65272716e-01  2.64873216e-01\n",
      "   3.40640118e-01  2.11303453e-01  4.38001996e-01  2.80262068e-01\n",
      "   9.44040807e-02 -3.27145342e-01 -3.58001156e-01 -2.16163418e-01\n",
      "  -3.78148435e-01  1.63786425e-01 -1.90199160e-01 -3.37695553e-01\n",
      "  -6.46650324e-02  2.58597346e-01 -1.59588043e-01  2.37482039e-02\n",
      "   3.00556353e-01  3.89132121e-01  4.27468326e-01  5.55290691e-02\n",
      "   1.91210098e-01  2.57231472e-01  7.58605669e-02  2.17225203e-01\n",
      "   2.69731562e-01  1.58974325e-01  2.90048946e-02 -2.97833913e-01\n",
      "   8.03855589e-02 -2.04131494e-01  1.31670678e-01  6.16585050e-02\n",
      "   8.15336981e-02 -4.35684338e-01  1.14757647e-01 -7.67733983e-02\n",
      "   1.70807056e-01  1.83090951e-01 -1.80424025e-01 -1.60874806e-01\n",
      "  -1.22480561e-01 -1.18169005e-01 -5.25686648e-01 -4.07054055e-01\n",
      "  -2.77777448e-01 -2.53087813e-01  5.94535993e-01  5.99330225e-01\n",
      "  -5.48198284e-03  3.18625571e-01  1.06771184e-01  3.24337776e-01\n",
      "   3.44890000e-01  3.60169324e-01]\n",
      " [-3.02953574e-01 -4.03164810e-01 -2.15199408e-01  2.17808143e-01\n",
      "  -1.92335904e-01 -4.20584352e-01 -4.61329524e-01 -3.94311699e-01\n",
      "  -2.57220875e-01 -4.48234246e-01  5.79417163e-01 -1.85532841e-01\n",
      "  -4.74099340e-01  5.64660082e-02 -3.99261101e-01  2.21651031e-01\n",
      "  -4.13373647e-01 -2.38455976e-01  1.34010322e-01 -3.17614133e-01\n",
      "  -2.94597831e-01 -4.95034181e-01  1.89648098e-01  1.56722752e-01\n",
      "  -2.45924950e-01 -4.46765759e-01 -1.16829166e-01 -4.03989175e-01\n",
      "   3.09080196e-01  2.29866732e-01  3.40783248e-01 -4.32551382e-01\n",
      "  -3.22024075e-01  1.12391698e-01 -3.80861817e-01  3.07733779e-01\n",
      "   1.89151055e-01  3.64090990e-01  5.39575734e-01  5.20738738e-01\n",
      "   2.98938615e-01  4.09058642e-01  4.15057073e-01  2.67345148e-01\n",
      "   2.28299152e-01  2.89824083e-01 -1.33194290e-01 -3.56961357e-01\n",
      "   5.94095840e-01  1.00000000e+00  5.13113062e-01 -3.48781983e-01\n",
      "  -3.92289421e-01 -4.22614204e-01 -3.54106774e-01 -4.10492744e-01\n",
      "  -2.23585721e-01 -3.46066290e-01 -3.29797233e-01 -3.36988712e-01\n",
      "  -5.80190468e-02  1.94734881e-01  4.44415276e-01  1.91403988e-01\n",
      "   4.17833868e-01  3.53349040e-01 -4.15947926e-01 -1.24968108e-01\n",
      "  -3.85171096e-01 -4.80550922e-02  2.71551566e-01 -1.26167597e-01\n",
      "  -1.20388777e-01  3.25691873e-01  2.52777634e-01  4.14562753e-01\n",
      "   2.03715451e-01  2.78377958e-01  3.24580666e-01  4.68918959e-01\n",
      "   2.34316475e-01 -4.85409452e-01 -4.68344231e-01 -3.51547993e-01\n",
      "  -4.75779763e-01  6.71602175e-02 -3.81633244e-01 -4.38786789e-01\n",
      "  -2.98339713e-01  2.58856874e-01 -4.18841271e-01 -2.28311647e-01\n",
      "   1.34470344e-01  2.31044158e-01  2.04494100e-01  4.47671756e-02\n",
      "   1.92401173e-01  9.60877169e-02  1.68084153e-01  1.49520899e-01\n",
      "   2.02574894e-01  9.82752834e-03 -5.17865503e-02 -3.33911154e-01\n",
      "   5.74736736e-01  1.54016691e-01  2.05410417e-01  1.98019994e-01\n",
      "   1.88648251e-01 -3.49853134e-01  1.10609675e-01 -1.53002963e-02\n",
      "   2.40075979e-01  2.20101990e-01 -7.20393354e-02 -2.76121080e-01\n",
      "   4.13275522e-02 -2.21587221e-01 -4.58038773e-01 -3.32535082e-01\n",
      "  -2.96747255e-01 -2.88659343e-01  5.75968093e-01  4.76015107e-01\n",
      "  -1.50088916e-01  3.72002569e-01  2.55510617e-01  4.43317081e-01\n",
      "   5.03387258e-01  3.96998838e-01]\n",
      " [-3.50897874e-01 -2.62164493e-01 -1.58821024e-01  9.22604424e-02\n",
      "  -2.23168224e-01 -3.15148323e-01 -3.50729212e-01 -3.51886866e-01\n",
      "  -3.62419702e-01 -2.97733883e-01  4.00650242e-01 -1.70841038e-01\n",
      "  -4.81573675e-01  6.71020076e-02 -3.20248308e-01  4.48939388e-03\n",
      "  -2.89460326e-01 -2.04226041e-01 -3.12345154e-02 -1.97919213e-01\n",
      "  -3.30798606e-01 -4.61544648e-01  3.60755958e-02  9.66818905e-02\n",
      "  -3.01388040e-01 -3.57993192e-01 -4.72801392e-01 -3.94061005e-01\n",
      "   2.79324484e-01  4.77124144e-02  2.91294298e-01 -4.24258919e-01\n",
      "  -3.75503836e-01  1.60343498e-01 -4.34118147e-01  2.61254805e-01\n",
      "   1.74323111e-01  2.58615140e-01  3.79644445e-01  4.58605899e-01\n",
      "   3.30269858e-01  5.36715630e-01  4.80601546e-01  2.45569616e-01\n",
      "   1.73788760e-01  1.78781337e-01  1.50447948e-01 -2.58560454e-01\n",
      "   4.40169887e-01  5.13113062e-01  1.00000000e+00 -8.78374298e-02\n",
      "  -2.21832786e-01 -1.28554256e-01 -2.70187345e-01 -3.15535318e-01\n",
      "  -2.67986719e-01 -3.64137502e-01 -2.34422870e-01 -3.83898596e-01\n",
      "  -2.22944368e-01  2.50500511e-01  3.46732982e-01  3.21601038e-01\n",
      "   2.88159204e-01  3.40063340e-01 -3.51098032e-01 -1.51686511e-02\n",
      "  -4.22157669e-01 -1.10274979e-01  3.80963749e-01 -2.31818486e-01\n",
      "  -2.38083450e-01  5.20363083e-01  2.88614044e-01  4.72704653e-01\n",
      "   2.72158993e-01  3.15186022e-01  3.27791834e-01  4.43576173e-01\n",
      "   9.90115760e-02 -4.95591170e-01 -3.64910202e-01 -3.54822443e-01\n",
      "  -4.73923850e-01  1.69907890e-02 -4.79955094e-01 -4.46154884e-01\n",
      "  -4.39356581e-01  2.54117412e-01 -4.34887079e-01 -1.10208873e-01\n",
      "  -5.96486759e-02  1.28474263e-01  1.40565154e-01 -1.53950216e-01\n",
      "   7.34165419e-02 -4.99948224e-02  1.15735090e-01 -2.34776591e-02\n",
      "   2.31544824e-01 -2.79361553e-02 -1.02110210e-01 -1.42822886e-01\n",
      "   4.45652104e-01  8.29940350e-02  2.61733623e-01  3.45795741e-01\n",
      "   2.73681893e-01 -2.99997129e-01  6.50285257e-02  2.06457501e-01\n",
      "   2.34632446e-01  2.44651828e-01  9.83974661e-02 -1.38515865e-01\n",
      "  -5.14494857e-03 -2.25889364e-01 -3.69045990e-01 -3.61855628e-01\n",
      "  -3.43117709e-01  5.55819642e-02  6.26198778e-01  5.68110430e-01\n",
      "   5.32147099e-02  5.64836671e-01  3.28979897e-01  5.18109278e-01\n",
      "   3.33134218e-01  3.38848722e-01]\n",
      " [ 1.49198842e-01  2.83878833e-01  3.60098084e-01 -2.86473535e-01\n",
      "   1.77655679e-01  1.60075163e-01  3.86290731e-01  3.48297647e-01\n",
      "   3.37018878e-01  5.25754594e-01 -2.94344959e-01  1.56781493e-01\n",
      "   1.76836932e-01 -1.64188004e-01  2.80433716e-01 -2.14593468e-01\n",
      "   3.54331591e-01  2.83704527e-01 -8.41480124e-02  2.81036058e-01\n",
      "   4.25448419e-01  2.69215524e-01 -1.28522805e-01 -9.37401356e-02\n",
      "   4.40041126e-01  4.10460316e-01  1.00455185e-01  2.25040521e-01\n",
      "   8.02481339e-02 -4.32042028e-01 -3.19147656e-01  4.06223283e-01\n",
      "   1.62278459e-01 -2.67083369e-01  3.14165879e-01 -4.34280873e-01\n",
      "  -2.10258266e-01 -3.23679969e-01 -5.13221918e-01 -2.41870607e-01\n",
      "  -4.25919410e-01 -1.44286989e-01 -2.80294306e-01 -3.97455050e-01\n",
      "  -4.17506597e-01 -3.75877650e-01  6.62619592e-01  2.71771707e-01\n",
      "  -3.22281622e-01 -3.48781983e-01 -8.78374298e-02  1.00000000e+00\n",
      "   3.84447342e-01  6.88798439e-01  3.18135746e-01  3.26510797e-01\n",
      "   2.86385440e-01  2.17557937e-01  4.76515604e-01  3.91786254e-01\n",
      "   2.36083525e-01  7.25977267e-02 -1.99051121e-01  5.26520676e-02\n",
      "  -2.99447661e-01 -3.81468091e-01  4.16891651e-01  3.84394037e-01\n",
      "   3.96441596e-01  2.04494786e-01 -1.98703431e-01  1.59603438e-01\n",
      "   4.90778955e-01 -6.62612940e-02 -4.62861373e-01 -3.42378054e-01\n",
      "  -1.82357222e-01 -1.03090442e-01 -2.91913657e-01  1.00984818e-01\n",
      "  -3.52543307e-01  1.59338719e-01  9.91646908e-02  2.28854378e-01\n",
      "   1.36859943e-01 -2.83322559e-01  2.59450529e-01  9.30839418e-02\n",
      "   3.43950483e-02 -1.76297056e-01  1.91200285e-01  1.06651085e-01\n",
      "  -4.62316073e-01 -3.06224736e-01 -3.58787639e-01 -2.23551356e-01\n",
      "  -2.96440787e-01 -2.89635833e-01 -3.14689625e-01 -3.82666503e-01\n",
      "  -4.72490055e-01 -9.76872562e-02 -1.77776194e-01  1.24121312e-01\n",
      "  -3.12838615e-01 -1.09023264e-01 -4.58351570e-01 -4.02376957e-01\n",
      "  -4.25582776e-01  2.21715998e-01 -3.31309946e-01 -1.18894554e-01\n",
      "  -4.29213163e-01 -4.23360235e-01 -1.60555268e-01  4.35719202e-01\n",
      "   3.13410956e-01  4.07361135e-01  4.95071246e-01  3.19090048e-01\n",
      "   4.51371144e-01  6.23795341e-01 -1.28623039e-01 -1.72011159e-01\n",
      "   4.12368601e-01  2.25462162e-02 -9.32988870e-02 -2.68529293e-01\n",
      "  -3.94790024e-01 -2.66353725e-01]\n",
      " [ 1.58312688e-01  1.89963714e-01  3.83065475e-01 -4.11213353e-01\n",
      "   1.20006949e-01  1.34988937e-01  5.44340436e-01  1.66478205e-01\n",
      "   2.43108404e-01  3.42351781e-01 -4.64715854e-01  9.92512497e-03\n",
      "   2.21041505e-01 -3.73975377e-01  2.61506649e-01 -3.21113544e-01\n",
      "   5.36748472e-01  4.22003730e-01 -3.16101194e-01  2.01446317e-01\n",
      "   3.44838181e-01  1.59195506e-01 -3.19441382e-01 -3.23081514e-01\n",
      "   3.75290026e-01  4.44107735e-01  5.42551899e-02  3.35549289e-01\n",
      "  -1.23691232e-01 -5.56750717e-01 -5.24123686e-01  3.00033656e-01\n",
      "   1.45230396e-01 -1.82548881e-01  3.72336567e-01 -6.18429214e-01\n",
      "  -3.83419680e-01 -5.92790863e-01 -5.82035749e-01 -4.66954567e-01\n",
      "  -4.09436447e-01 -3.68012041e-01 -1.95677052e-01 -4.18501259e-01\n",
      "  -3.74813481e-01 -2.98270870e-01  3.32798506e-01  4.85878539e-01\n",
      "  -2.56147725e-01 -3.92289421e-01 -2.21832786e-01  3.84447342e-01\n",
      "   1.00000000e+00  6.11303998e-01  5.47225374e-01  6.71827354e-01\n",
      "   6.17061717e-01  3.79340672e-01  5.17415981e-01  5.72705959e-01\n",
      "   7.87810806e-02 -5.34881059e-02 -3.03058701e-01 -1.95037824e-01\n",
      "  -1.53507108e-01 -7.31198098e-02  4.02233590e-01  3.97443026e-01\n",
      "   3.58857870e-01  3.58211944e-01 -5.09007103e-01  1.20224558e-02\n",
      "   2.72918984e-01 -3.85006002e-01 -3.17216681e-01 -2.66854136e-01\n",
      "  -3.21475640e-01 -3.15927657e-01 -3.58773476e-01 -2.38659898e-01\n",
      "  -3.30318153e-01  2.72843841e-01  4.04541740e-01  2.14273632e-01\n",
      "   4.62553336e-01 -3.09879663e-01  2.69453014e-01  4.13970742e-01\n",
      "   2.63495415e-02 -3.30260780e-01  1.84641830e-01  4.54399678e-02\n",
      "  -4.84071924e-01 -3.53385848e-01 -4.27533883e-01 -1.78254369e-01\n",
      "  -2.78945032e-01 -4.05706919e-01 -3.26387214e-01 -3.41691117e-01\n",
      "  -4.03019569e-01 -2.15423808e-01 -1.74860928e-01  2.93360766e-01\n",
      "  -2.74957518e-01  1.02027368e-02 -2.87063028e-01 -2.40794489e-01\n",
      "  -2.74844709e-01  3.39770831e-01 -1.84586220e-01  6.90403018e-02\n",
      "  -2.96983521e-01 -3.08153241e-01  1.28102055e-01  5.94081923e-01\n",
      "   3.51125702e-01  6.25926478e-01  7.68650165e-01  3.95890242e-01\n",
      "   6.13555324e-01  6.46077718e-01 -5.50248929e-02 -6.65188920e-02\n",
      "   6.24224411e-01 -2.55438510e-01 -8.45545270e-02 -1.16546518e-01\n",
      "  -1.95124849e-01 -2.33721780e-01]\n",
      " [ 4.53555871e-01  1.89738601e-01  3.40679116e-01 -4.74653160e-01\n",
      "   3.55068243e-01  4.25024741e-01  6.05577396e-01  5.02696339e-01\n",
      "   5.39251343e-01  7.54317324e-01 -4.99832365e-01  2.17520293e-01\n",
      "   3.32714575e-01 -3.76860269e-01  2.69435221e-01 -3.01784198e-01\n",
      "   5.56924295e-01  3.51126462e-01 -3.87937526e-01  2.44046243e-01\n",
      "   4.03907628e-01  1.57901195e-01 -3.55492398e-01 -2.77691582e-01\n",
      "   4.80543134e-01  6.03129454e-01 -6.13399657e-02  3.99781151e-01\n",
      "  -2.91614251e-03 -6.18054421e-01 -4.77213532e-01  4.55032446e-01\n",
      "   4.65151447e-01 -9.59708823e-02  2.83887485e-01 -5.65655564e-01\n",
      "  -5.22366215e-01 -5.64827778e-01 -6.74419503e-01 -3.56472057e-01\n",
      "  -4.39291034e-01 -1.90177036e-01 -4.95981043e-01 -4.03479546e-01\n",
      "  -3.19235461e-01 -2.99797403e-01  6.68749797e-01  3.05263974e-01\n",
      "  -4.85081326e-01 -4.22614204e-01 -1.28554256e-01  6.88798439e-01\n",
      "   6.11303998e-01  1.00000000e+00  5.02158068e-01  7.08102660e-01\n",
      "   3.24952438e-01  3.74383755e-01  3.09990780e-01  4.13702851e-01\n",
      "   1.93679163e-01  6.47420596e-02 -3.43280384e-01 -9.06724473e-03\n",
      "  -3.80504258e-01 -3.78205554e-01  5.98224407e-01  5.71421002e-01\n",
      "   6.14706625e-01  3.24420995e-01 -4.52182966e-01  1.10256602e-01\n",
      "   4.00199261e-01 -2.70106595e-01 -5.27065634e-01 -3.11529523e-01\n",
      "  -3.46011134e-01 -2.07688535e-01 -4.48147773e-01 -1.62650595e-01\n",
      "  -1.79474270e-01  2.67528463e-01  4.61143691e-01  3.15595711e-01\n",
      "   4.53294185e-01 -3.72573433e-01  2.34062558e-01  4.14521544e-01\n",
      "  -9.09356380e-02 -2.62002513e-01  1.15108043e-01  1.79368413e-02\n",
      "  -5.35453921e-01 -5.42004976e-01 -5.48240862e-01 -2.96731025e-01\n",
      "  -2.18478369e-01 -4.34867736e-01 -2.64945058e-01 -4.68526313e-01\n",
      "  -3.59334121e-01 -3.65683531e-01 -3.46241526e-01  2.22723630e-01\n",
      "  -2.86247831e-01  1.41348921e-01 -4.36841582e-01 -2.86664523e-01\n",
      "  -3.47059424e-01  2.91567702e-01 -3.00164297e-01 -4.59629998e-03\n",
      "  -4.33129781e-01 -4.40042889e-01  1.40401905e-02  3.01509007e-01\n",
      "   2.25987940e-01  2.39929768e-01  7.86732070e-01  5.69791568e-01\n",
      "   3.74177062e-01  6.24025992e-01 -3.09054898e-01 -4.27386506e-01\n",
      "   2.94556370e-01 -2.61789013e-01 -2.10346294e-01 -3.51965004e-01\n",
      "  -5.35988550e-01 -3.96549082e-01]\n",
      " [ 1.46398355e-01  3.13302103e-01  3.77774637e-01 -1.55576263e-01\n",
      "   1.84675472e-01  2.25256581e-01  4.34436333e-01  2.51174104e-01\n",
      "   1.74403219e-01  2.80415674e-01 -5.42432651e-01  1.07266573e-01\n",
      "   3.98499426e-01 -9.56563187e-02  2.70960657e-01 -1.75889423e-01\n",
      "   4.80598481e-01  2.34105014e-01 -1.28095527e-01  1.71982729e-01\n",
      "   3.20991557e-01  3.72780880e-01 -1.96366869e-01 -2.20813030e-01\n",
      "   2.88477275e-01  2.85565585e-01  1.31619387e-01  3.87712634e-01\n",
      "  -3.09981870e-01 -4.19917836e-01 -4.70748094e-01  3.42184335e-01\n",
      "   1.39261141e-01 -1.53587033e-01  4.12076128e-01 -4.34383688e-01\n",
      "  -2.43016921e-01 -4.12754303e-01 -4.63671649e-01 -4.75466999e-01\n",
      "  -2.21989461e-01 -3.32123735e-01 -4.16954549e-01 -3.25015897e-01\n",
      "  -3.75807284e-01 -3.82084778e-01  3.44792076e-01  4.40113190e-01\n",
      "  -2.13645545e-01 -3.54106774e-01 -2.70187345e-01  3.18135746e-01\n",
      "   5.47225374e-01  5.02158068e-01  1.00000000e+00  7.12884014e-01\n",
      "   2.83197178e-01  2.64516427e-01  3.31369767e-01  5.02420650e-01\n",
      "   5.24451055e-01 -2.00756303e-02 -1.05544199e-01 -6.04502468e-02\n",
      "  -2.18620722e-01 -2.11934670e-01  2.49645183e-01  1.18279608e-01\n",
      "   3.63341469e-01  2.59968631e-01 -3.94861187e-01  1.15346859e-01\n",
      "   3.74040422e-01 -3.12579308e-01 -5.13276213e-01 -4.74638954e-01\n",
      "  -3.74696716e-01 -1.75797361e-01 -3.13496737e-01 -2.20117830e-01\n",
      "  -1.07496944e-01  2.97700116e-01  3.76934784e-01  5.27224688e-01\n",
      "   4.29043107e-01 -2.19938391e-01  4.72838748e-01  4.22393991e-01\n",
      "   1.17963062e-01 -6.01910377e-02  4.98449125e-01  2.85392189e-01\n",
      "  -1.74866529e-01 -2.32745166e-01 -2.19154267e-01  1.53788534e-02\n",
      "   2.06305146e-02 -1.21160593e-01 -5.63161873e-02 -6.87060913e-02\n",
      "  -8.59438168e-02 -1.72355896e-01 -2.10678956e-01  9.75147284e-02\n",
      "  -3.89414828e-01 -8.51984004e-02 -4.19507038e-01 -3.54888518e-01\n",
      "  -3.85711878e-01  1.11836764e-01 -2.41377775e-01 -1.91550285e-01\n",
      "  -4.59133492e-01 -4.65846191e-01 -1.71710651e-01  2.35370224e-01\n",
      "  -2.97816777e-02  8.90976534e-02  4.66487407e-01  1.37805119e-01\n",
      "   1.63200191e-01  2.72938126e-01 -3.70924610e-01 -3.85402307e-01\n",
      "   1.48179656e-01 -3.48603856e-01 -1.04463120e-01 -4.35783653e-01\n",
      "  -5.23561486e-01 -3.92343238e-01]\n",
      " [ 4.45791170e-01  2.54224315e-01  3.05750996e-01 -4.14312315e-01\n",
      "   2.83803486e-01  4.50933684e-01  4.93580093e-01  3.66270907e-01\n",
      "   3.92651472e-01  5.39092393e-01 -6.21579339e-01  1.91955498e-01\n",
      "   4.96894267e-01 -2.71675968e-01  2.08640165e-01 -2.34143820e-01\n",
      "   5.13290215e-01  2.57974663e-01 -2.99714893e-01  1.39888855e-01\n",
      "   2.77180246e-01  3.08095111e-01 -3.55077443e-01 -3.43485274e-01\n",
      "   2.85435890e-01  4.23589744e-01  6.02870360e-02  4.63448367e-01\n",
      "  -3.23296182e-01 -5.67231319e-01 -6.35480001e-01  4.14251009e-01\n",
      "   4.44658398e-01 -1.08155968e-01  3.63446332e-01 -5.75867271e-01\n",
      "  -4.65300068e-01 -6.27557323e-01 -6.25535259e-01 -6.21217908e-01\n",
      "  -4.31028808e-01 -3.55818053e-01 -5.75575819e-01 -4.67893624e-01\n",
      "  -3.11739677e-01 -2.98022880e-01  3.19153050e-01  4.56365268e-01\n",
      "  -3.71677969e-01 -4.10492744e-01 -3.15535318e-01  3.26510797e-01\n",
      "   6.71827354e-01  7.08102660e-01  7.12884014e-01  1.00000000e+00\n",
      "   3.74620397e-01  4.52896827e-01  3.74877224e-01  6.14393496e-01\n",
      "   2.91184712e-01 -1.37288972e-01 -2.90253276e-01 -1.90967962e-01\n",
      "  -2.62263775e-01 -2.44146317e-01  5.75187763e-01  2.06457828e-01\n",
      "   6.71132574e-01  3.81933527e-01 -4.93742196e-01  1.01438791e-01\n",
      "   3.57575343e-01 -4.75848514e-01 -5.78857337e-01 -5.11881317e-01\n",
      "  -4.76366026e-01 -3.10864715e-01 -4.04578287e-01 -3.37318693e-01\n",
      "  -5.90337011e-02  4.44352956e-01  5.71255226e-01  4.39001464e-01\n",
      "   6.14428560e-01 -1.99883530e-01  4.38237057e-01  6.11311640e-01\n",
      "   6.12785521e-02 -3.03854567e-01  3.10935252e-01  1.56966373e-01\n",
      "  -3.47961613e-01 -4.08445256e-01 -4.86219162e-01 -4.83060675e-02\n",
      "  -5.01498446e-02 -2.43920302e-01 -8.58554191e-02 -2.23970249e-01\n",
      "  -3.27883382e-01 -3.04860284e-01 -1.64705951e-01  2.17566284e-01\n",
      "  -2.73921928e-01  1.81369824e-01 -3.63284421e-01 -2.41696708e-01\n",
      "  -2.63826250e-01  2.42371145e-01 -1.88987039e-01 -2.44876106e-02\n",
      "  -3.81887221e-01 -4.16016810e-01  7.41997736e-02  2.11852806e-01\n",
      "  -1.56767523e-02  1.44018518e-01  7.17281745e-01  4.83527384e-01\n",
      "   2.56188031e-01  3.18157903e-01 -4.49368560e-01 -5.78452670e-01\n",
      "   9.34360791e-02 -4.44932403e-01 -2.35214754e-01 -5.44477364e-01\n",
      "  -5.48659788e-01 -3.76755792e-01]\n",
      " [ 2.03474658e-01  4.57431693e-01  4.75351065e-01 -3.59949171e-01\n",
      "   2.90700496e-01  2.24696836e-01  3.10251285e-01  9.32512670e-02\n",
      "   2.24591628e-01  2.62604793e-01 -1.29897864e-01 -6.55669771e-02\n",
      "   2.08941369e-01 -1.90881872e-01  6.28114808e-01 -2.13448100e-01\n",
      "   3.00703969e-01  6.09637519e-01  7.45163914e-02  4.35519223e-01\n",
      "   3.54668993e-01  2.61298403e-01 -1.48734792e-01 -5.15016101e-02\n",
      "   4.28274463e-01  4.78919061e-01  2.94458694e-01  4.32922534e-01\n",
      "  -9.89866428e-02 -2.55733957e-01 -2.40958814e-01  3.62340657e-01\n",
      "   1.51695811e-01 -5.26323052e-01  5.09206544e-01 -2.93228176e-01\n",
      "  -2.62478388e-01 -2.85810896e-01 -3.31094615e-01 -3.60665780e-01\n",
      "  -4.18397681e-01 -4.38785031e-01 -1.93166083e-01 -4.41192841e-01\n",
      "  -5.21274165e-01 -5.04392396e-01  7.47552668e-02  3.88509137e-01\n",
      "  -5.72723003e-02 -2.23585721e-01 -2.67986719e-01  2.86385440e-01\n",
      "   6.17061717e-01  3.24952438e-01  2.83197178e-01  3.74620397e-01\n",
      "   1.00000000e+00  3.17955509e-01  5.44379486e-01  5.20886942e-01\n",
      "   1.79347924e-01  8.41489020e-02 -4.33901934e-01 -3.17225628e-01\n",
      "  -3.07481401e-01 -2.00101370e-01  3.60228448e-01  2.42273613e-01\n",
      "   2.85572504e-01  2.96977865e-01 -4.01350243e-01  2.20404743e-01\n",
      "   3.70935073e-01 -4.08885434e-01 -1.88257023e-01 -2.86365010e-01\n",
      "  -3.43182768e-01 -3.88612619e-01 -3.89264793e-01 -4.96194136e-01\n",
      "  -5.33989564e-01  3.03174398e-01  3.80541655e-01  1.36222802e-02\n",
      "   3.20212826e-01 -4.41014916e-01  2.38552551e-01  2.42811762e-01\n",
      "   2.23846732e-01 -3.42112026e-01  4.47323107e-01  7.21379336e-02\n",
      "  -3.42859719e-01 -2.98614616e-01 -2.51041285e-01 -2.43388988e-01\n",
      "  -4.35508670e-01 -3.13944602e-01 -5.26440400e-01 -5.20600482e-01\n",
      "  -4.49353190e-01  2.79429164e-02  1.14798850e-02  3.48415832e-01\n",
      "  -2.90212384e-01 -3.23913448e-01 -2.62702970e-01 -2.63474032e-01\n",
      "  -3.01836567e-01  4.15102646e-01 -2.44760186e-01  9.15424102e-02\n",
      "  -2.95890864e-01 -2.46944944e-01  6.44808887e-02  6.15046472e-01\n",
      "   3.85135809e-01  6.46172360e-01  4.25178858e-01  3.09473504e-01\n",
      "   6.92389404e-01  5.81031681e-01 -1.02445952e-01 -3.77939146e-02\n",
      "   5.64129787e-01 -4.08316972e-01 -2.16277992e-01 -1.52004941e-01\n",
      "  -1.78918186e-01 -4.68408885e-01]\n",
      " [ 4.64392959e-01  7.18298517e-02  4.29036625e-03 -5.15695207e-01\n",
      "   2.22524953e-01  3.48378581e-01  2.06488317e-01  2.44994311e-01\n",
      "   3.52129851e-01  3.94142630e-01 -4.61434456e-01  9.28342075e-02\n",
      "   1.73996690e-01 -1.48692486e-01  6.73934894e-02 -1.93403256e-01\n",
      "   9.06622000e-02  2.07840772e-01 -3.68090086e-01  1.10302147e-02\n",
      "   1.65246793e-01  2.17617737e-01 -3.55142975e-01 -4.24414016e-01\n",
      "   1.97214630e-01  2.41452008e-01  6.83335210e-02  1.65756046e-01\n",
      "  -4.32462776e-01 -4.41223297e-01 -5.43061895e-01  3.27708421e-01\n",
      "   5.33272889e-01 -3.15258372e-01  6.31897138e-02 -4.47497833e-01\n",
      "  -2.62336303e-01 -4.62460836e-01 -4.89791151e-01 -5.48298946e-01\n",
      "  -5.05422539e-01 -3.17331316e-01 -4.10545087e-01 -5.55466848e-01\n",
      "  -3.80641258e-01 -3.67084825e-01  2.56176023e-01  6.25495477e-01\n",
      "  -1.48398710e-01 -3.46066290e-01 -3.64137502e-01  2.17557937e-01\n",
      "   3.79340672e-01  3.74383755e-01  2.64516427e-01  4.52896827e-01\n",
      "   3.17955509e-01  1.00000000e+00  4.89741457e-01  4.94560019e-01\n",
      "   2.22231403e-01 -3.04128732e-01 -2.86870013e-01 -2.74546337e-01\n",
      "  -9.54548106e-02  1.09120818e-02  7.16121342e-01  5.16984103e-01\n",
      "   6.81143949e-01  3.21637981e-01 -2.98239461e-01  2.32484110e-01\n",
      "   3.28383118e-01 -3.91481947e-01 -3.12605086e-01 -3.83341205e-01\n",
      "  -3.20321708e-01 -3.36314654e-01 -2.80319409e-01 -4.64079386e-01\n",
      "  -1.42948004e-01  3.18644698e-01  3.54132315e-01  3.74996453e-01\n",
      "   4.03024448e-01 -1.19988358e-01  4.07366695e-01  3.54561912e-01\n",
      "   1.45206303e-01 -3.55064706e-01  2.38363397e-01  4.09450785e-02\n",
      "  -2.35198438e-01 -2.22920603e-01 -2.11822929e-01 -6.18473055e-02\n",
      "  -2.29873420e-01 -1.86846872e-01 -2.06378853e-01 -1.71377157e-01\n",
      "  -2.68277426e-01  4.17026220e-02 -4.73673922e-02  3.10165885e-01\n",
      "  -1.31095070e-01  7.07689936e-02 -2.82539347e-01 -2.86089556e-01\n",
      "  -2.59992611e-01  5.52894016e-01 -1.05476578e-01 -1.04148779e-01\n",
      "  -2.39613562e-01 -2.64550517e-01  9.35551377e-03  3.74606197e-01\n",
      "   2.34444825e-01  3.17495154e-01  4.77424135e-01  6.66700416e-01\n",
      "   4.95707384e-01  1.92073239e-01 -3.97927565e-01 -2.69127815e-01\n",
      "   2.08382877e-01 -2.65354057e-01 -2.83512296e-01 -4.29395851e-01\n",
      "  -3.67387586e-01 -2.19652672e-01]\n",
      " [-2.37365280e-02  3.71407380e-01  3.34572230e-01 -4.04188442e-01\n",
      "   1.46187194e-01  9.82041717e-02  2.25768325e-01  7.72973221e-02\n",
      "   1.04575791e-02  2.47203506e-01 -4.63816870e-01 -3.37913091e-02\n",
      "   1.06246029e-01 -5.74415244e-02  2.72232499e-01 -1.10543081e-01\n",
      "   2.94032218e-01  1.42353008e-01  3.12344813e-02  2.55088885e-01\n",
      "   2.18384556e-01  3.29953490e-01 -9.96898361e-02 -1.34280139e-01\n",
      "   1.47152245e-01  2.13451276e-01  4.85744785e-02  1.97158238e-01\n",
      "  -2.56269814e-01 -4.21473202e-01 -4.23611793e-01  2.53300841e-01\n",
      "  -3.11248611e-02 -3.85391532e-01  2.91194030e-01 -4.08312820e-01\n",
      "  -2.30671476e-01 -3.16951137e-01 -4.73960059e-01 -5.18638923e-01\n",
      "  -4.43565036e-01 -3.84795389e-01 -1.38062820e-01 -4.11085652e-01\n",
      "  -5.02159321e-01 -5.71515931e-01  3.32236106e-01  8.18436464e-01\n",
      "  -7.87756363e-02 -3.29797233e-01 -2.34422870e-01  4.76515604e-01\n",
      "   5.17415981e-01  3.09990780e-01  3.31369767e-01  3.74877224e-01\n",
      "   5.44379486e-01  4.89741457e-01  1.00000000e+00  6.83280789e-01\n",
      "   3.71753975e-01 -6.93368413e-03 -1.75642171e-02 -1.09304507e-01\n",
      "   1.21111323e-01  2.01011138e-01  2.50749100e-01  7.24873828e-02\n",
      "   3.46089507e-01  3.17223483e-01 -2.10649412e-01  1.70305116e-01\n",
      "   4.31956833e-01 -2.06813818e-01 -4.14390376e-01 -3.95608271e-01\n",
      "  -2.32022839e-01 -1.80291579e-01 -2.37436856e-01 -2.43330743e-01\n",
      "  -2.70232562e-01  3.33681157e-01  2.90470396e-01  3.44153896e-01\n",
      "   2.46904385e-01 -2.30563882e-01  3.79276961e-01  2.01151718e-01\n",
      "   2.80255650e-01 -1.71412990e-01  3.91449532e-01  1.67938828e-01\n",
      "  -2.66678035e-01 -2.75425196e-01 -1.63624595e-01 -1.86934491e-02\n",
      "  -1.71588649e-01 -9.98476112e-02 -2.31521820e-01 -2.93158114e-01\n",
      "  -2.81712971e-01  1.12556188e-01 -5.69804494e-02  1.49910149e-01\n",
      "  -4.25688087e-01 -2.25274651e-01 -4.09393445e-01 -3.88078854e-01\n",
      "  -3.90079088e-01  1.76628313e-01 -2.97202892e-01 -8.99186648e-02\n",
      "  -3.88422257e-01 -3.65121491e-01 -1.08774051e-01  5.57415606e-01\n",
      "   1.53825223e-01  5.29102193e-01  3.53980100e-01  1.86798475e-01\n",
      "   4.86126996e-01  5.22475039e-01 -2.13197565e-01 -9.29241583e-02\n",
      "   4.69484442e-01 -1.57218562e-01 -1.11479236e-01 -2.92592066e-01\n",
      "  -2.63058621e-01 -1.97655087e-01]\n",
      " [ 3.14689017e-01  2.92177371e-01  3.28888938e-01 -4.27251920e-01\n",
      "   4.15240662e-01  3.16730412e-01  2.61741071e-01  2.32490992e-01\n",
      "   2.99365441e-01  4.40023371e-01 -5.79647897e-01  2.20648374e-01\n",
      "   3.12720878e-01 -1.73931834e-01  2.21717757e-01 -6.60129337e-02\n",
      "   3.74052094e-01  1.83801374e-01 -4.71287723e-02  1.47069141e-01\n",
      "   1.14624319e-01  2.09464633e-01 -1.61563851e-01 -2.06816080e-01\n",
      "   2.16852253e-01  2.24755267e-01  2.88590777e-02  2.72353431e-01\n",
      "  -3.39127426e-01 -5.11413954e-01 -5.56736483e-01  3.03997667e-01\n",
      "   2.99098850e-01 -3.03295623e-01  2.62847849e-01 -4.49003499e-01\n",
      "  -2.88108980e-01 -4.97077346e-01 -5.76287148e-01 -6.23939665e-01\n",
      "  -4.66089996e-01 -4.40852719e-01 -2.71780971e-01 -5.37349220e-01\n",
      "  -3.36676601e-01 -3.63116322e-01  2.20589992e-01  6.23006906e-01\n",
      "  -2.17497418e-01 -3.36988712e-01 -3.83898596e-01  3.91786254e-01\n",
      "   5.72705959e-01  4.13702851e-01  5.02420650e-01  6.14393496e-01\n",
      "   5.20886942e-01  4.94560019e-01  6.83280789e-01  1.00000000e+00\n",
      "   3.66103282e-01 -1.67586139e-02 -1.11054999e-01 -1.51164048e-01\n",
      "  -1.98757172e-01 -1.32924817e-01  4.32303697e-01  7.58771938e-02\n",
      "   6.10058456e-01  2.48353847e-01 -4.47839236e-01 -3.22784036e-02\n",
      "   3.53895444e-01 -4.42597716e-01 -4.99002309e-01 -5.17702604e-01\n",
      "  -4.19517199e-01 -1.62357588e-01 -4.42083106e-01 -3.36027905e-01\n",
      "  -1.32056253e-01  5.35242868e-01  4.25520719e-01  3.96004778e-01\n",
      "   4.27170649e-01 -3.00323543e-01  4.98416594e-01  4.20559829e-01\n",
      "   1.54751027e-01 -2.60986627e-01  4.57163611e-01  1.26156869e-01\n",
      "  -3.46794442e-01 -3.18927160e-01 -2.29145819e-01 -1.45690140e-03\n",
      "  -2.15592429e-01 -2.90778254e-01 -2.53889846e-01 -3.01019039e-01\n",
      "  -3.02397986e-01 -7.79341635e-02 -7.46288503e-02  1.61826008e-01\n",
      "  -3.83878150e-01  3.62411095e-02 -3.89326398e-01 -2.99230422e-01\n",
      "  -3.16579585e-01  2.03230067e-01 -2.67352615e-01  5.47385520e-02\n",
      "  -3.98934327e-01 -3.84352551e-01  7.52839990e-02  3.99017985e-01\n",
      "  -3.51766758e-02  4.22342922e-01  4.70296802e-01  4.91301115e-01\n",
      "   4.29361379e-01  3.38928888e-01 -2.42623305e-01 -2.79808888e-01\n",
      "   2.46557884e-01 -3.89748907e-01 -9.86130563e-02 -3.86962362e-01\n",
      "  -3.98982984e-01 -3.31657714e-01]\n",
      " [-9.03534845e-03  2.32417995e-01  1.87873266e-01 -2.11953166e-01\n",
      "   1.91973386e-01  5.51766631e-03  1.18212236e-01  9.43917264e-02\n",
      "   1.29215488e-02  7.42742603e-02 -2.88906805e-01 -5.19759263e-02\n",
      "   9.24928366e-02 -3.05777191e-02  7.35980558e-02  4.30792394e-02\n",
      "   1.24463457e-01 -2.70179041e-02 -8.09911533e-02  3.21929875e-02\n",
      "   1.94969112e-01  3.20495407e-01 -1.02975034e-01 -2.24875260e-01\n",
      "   1.26780230e-01  1.00399037e-01  2.75701293e-01  2.02382097e-01\n",
      "  -3.02137051e-01 -2.47881339e-01 -3.42507889e-01  1.78224770e-01\n",
      "   1.07217724e-02 -2.70943493e-01  2.10494798e-01 -1.25405548e-01\n",
      "  -8.76311478e-03 -2.06056485e-01 -3.16478714e-01 -3.53906159e-01\n",
      "  -2.45913965e-01 -1.89613624e-01 -2.91302778e-01 -2.73328845e-01\n",
      "  -3.78138680e-01 -4.29219819e-01  3.66821589e-01  4.82469776e-01\n",
      "  -1.22810154e-01 -5.80190468e-02 -2.22944368e-01  2.36083525e-01\n",
      "   7.87810806e-02  1.93679163e-01  5.24451055e-01  2.91184712e-01\n",
      "   1.79347924e-01  2.22231403e-01  3.71753975e-01  3.66103282e-01\n",
      "   1.00000000e+00  2.88347058e-02  3.16594903e-02 -7.55266565e-02\n",
      "  -1.38682317e-01 -4.56460007e-02  9.56823382e-02  4.21270489e-02\n",
      "   3.07990495e-01  2.32588413e-01 -1.37240245e-01  4.93276098e-01\n",
      "   5.99141983e-01 -1.62041282e-01 -3.82911011e-01 -3.81845994e-01\n",
      "  -1.48810281e-01  2.06766263e-02 -1.88982690e-01 -2.30427974e-01\n",
      "  -1.44937191e-01  1.37261658e-01  1.58053145e-01  3.40433667e-01\n",
      "   1.45671650e-01 -2.74623286e-02  3.01781679e-01  1.19249898e-01\n",
      "   2.67090276e-01 -1.08283916e-01  3.34747026e-01  3.24095995e-01\n",
      "  -5.46348546e-02 -1.00356353e-01 -3.41031486e-02  9.84911550e-02\n",
      "   4.56397233e-02  1.32640957e-01 -8.32221457e-03 -5.03600295e-02\n",
      "  -1.30055424e-01  2.88441963e-02 -7.07907271e-02  3.57331010e-02\n",
      "  -2.32060173e-01 -1.30030183e-01 -3.43731189e-01 -3.43258397e-01\n",
      "  -3.21925827e-01  7.62541614e-02 -1.63357124e-01 -2.52130932e-01\n",
      "  -2.86629261e-01 -2.98969179e-01 -2.83809910e-01  2.13002485e-01\n",
      "   1.39416812e-01  1.15610203e-01  1.70059636e-01  2.17284853e-02\n",
      "   1.75136067e-01  5.91393321e-02 -3.72087440e-01 -2.13216555e-01\n",
      "   1.08207970e-01 -1.86133860e-01 -5.42035082e-02 -3.71495108e-01\n",
      "  -2.89032632e-01 -1.84261170e-01]\n",
      " [-2.59036693e-01 -2.60170511e-02  1.16257117e-02  7.98770965e-02\n",
      "   2.59930398e-01 -2.51294017e-01 -1.79455486e-01 -1.14419912e-01\n",
      "  -2.01807400e-01 -7.24269077e-02  9.52664431e-02 -8.28658263e-02\n",
      "  -1.63313466e-01  3.96161463e-01  8.79960470e-02  4.18550373e-01\n",
      "  -6.28356800e-02 -1.51649557e-01  5.09884352e-01  1.56292589e-01\n",
      "  -8.02964396e-02 -1.05789603e-01  5.09691568e-01  6.32797736e-01\n",
      "  -1.32270543e-01 -1.83149043e-01 -2.86225314e-01 -1.97726394e-01\n",
      "   4.28527423e-01  4.04607267e-02  1.67294593e-01 -2.19396800e-01\n",
      "  -2.98407927e-01 -6.91076738e-02 -2.12923991e-01  1.07978597e-01\n",
      "   1.03198990e-01  2.03626551e-01  1.31994796e-02  1.72344991e-01\n",
      "   9.55274004e-02  7.44995467e-03  2.73458808e-01  1.60522593e-01\n",
      "   1.11555508e-01  2.74391792e-02  1.14625190e-01 -1.12576496e-01\n",
      "   2.60998931e-01  1.94734881e-01  2.50500511e-01  7.25977267e-02\n",
      "  -5.34881059e-02  6.47420596e-02 -2.00756303e-02 -1.37288972e-01\n",
      "   8.41489020e-02 -3.04128732e-01 -6.93368413e-03 -1.67586139e-02\n",
      "   2.88347058e-02  1.00000000e+00  3.41605409e-01  2.60715548e-01\n",
      "   1.34611036e-01  5.43624722e-02 -2.44984807e-01 -8.68997038e-02\n",
      "  -2.11612792e-01 -3.61427845e-02  1.58253005e-01 -3.05466030e-02\n",
      "  -9.59444190e-02  3.14516723e-01 -4.09612100e-02  2.49859702e-01\n",
      "   1.62944015e-01  4.78467313e-02  8.32345141e-02  1.85911073e-01\n",
      "   4.36200345e-02 -1.41113708e-01 -1.65838225e-01 -9.68317212e-02\n",
      "  -3.29316825e-01 -1.16132056e-01 -1.07696292e-01 -3.16713979e-01\n",
      "  -1.71048729e-01  1.69439295e-01 -4.77947580e-02  1.02206943e-02\n",
      "  -8.61303278e-02 -6.31909175e-02  7.35422763e-02 -1.19317484e-02\n",
      "   4.16625118e-03 -2.70689677e-02 -1.06433640e-01 -1.64538506e-01\n",
      "   1.15109981e-01  2.29325626e-01 -2.40786979e-02 -2.52987331e-01\n",
      "  -1.98797876e-01 -1.77866363e-01 -2.09046250e-01 -1.65545516e-01\n",
      "  -1.97177614e-01 -3.59560592e-01 -2.88127627e-01  5.70754721e-02\n",
      "  -2.02519252e-01 -1.48172205e-01 -3.71027767e-02 -5.36910451e-02\n",
      "  -1.48445450e-01 -3.22526034e-02 -3.43699164e-01 -2.35055470e-01\n",
      "  -1.83897875e-01  4.33051104e-02  3.16595597e-01  2.57131306e-01\n",
      "   1.05140856e-01  1.67267378e-01  3.02969955e-01  1.42676984e-01\n",
      "   4.46011243e-02 -6.42246047e-02]\n",
      " [-4.67052759e-01 -3.87404636e-01 -3.50493610e-01  4.39511153e-01\n",
      "  -2.95625956e-01 -5.26527134e-01 -5.57577782e-01 -4.38574981e-01\n",
      "  -5.02361036e-01 -5.06316939e-01  8.24271686e-02 -2.67653176e-01\n",
      "  -4.86545552e-01  2.06389583e-01 -5.00796944e-01  1.84134743e-01\n",
      "  -4.28121591e-01 -6.23605851e-01  1.13186573e-01 -4.07914198e-01\n",
      "  -4.86096215e-01 -4.14315350e-01  1.54587858e-01  1.26751666e-01\n",
      "  -4.97712694e-01 -5.96069357e-01 -5.47908924e-01 -5.68243389e-01\n",
      "   9.36516024e-02  1.65370674e-01  2.27330883e-01 -4.61618841e-01\n",
      "  -4.64992218e-01  1.69025143e-01 -5.05346937e-01  2.59133349e-01\n",
      "   4.00060965e-01  3.82996935e-01  2.99492241e-01  3.03509876e-01\n",
      "   3.78656792e-01  2.42577873e-01  6.36921011e-01  3.56563776e-01\n",
      "   2.15325835e-01  1.98799500e-01 -1.16951967e-01  2.37292832e-02\n",
      "   4.53491734e-01  4.44415276e-01  3.46732982e-01 -1.99051121e-01\n",
      "  -3.03058701e-01 -3.43280384e-01 -1.05544199e-01 -2.90253276e-01\n",
      "  -4.33901934e-01 -2.86870013e-01 -1.75642171e-02 -1.11054999e-01\n",
      "   3.16594903e-02  3.41605409e-01  1.00000000e+00  4.09448881e-01\n",
      "   7.80459279e-01  6.56227583e-01 -5.22595087e-01 -4.57046338e-01\n",
      "  -3.04921981e-01 -1.64084229e-01  4.53383931e-01 -2.75541640e-01\n",
      "  -2.56884700e-01  5.83476326e-01  1.85193627e-01  3.85366918e-01\n",
      "   4.52759064e-01  4.35297419e-01  4.79467043e-01  6.37153412e-01\n",
      "   3.81916870e-01 -3.25622014e-01 -3.53516049e-01 -1.05234671e-01\n",
      "  -4.44294933e-01  1.73960372e-01 -2.69221256e-01 -3.71582291e-01\n",
      "  -2.70652857e-01  3.90627764e-01 -1.81099054e-01  5.81028830e-02\n",
      "   3.73551705e-01  2.92555182e-01  4.05580729e-01  1.65075341e-01\n",
      "   5.54997810e-01  4.44546724e-01  3.33154878e-01  4.17275203e-01\n",
      "   5.88439698e-01  4.76611789e-02 -6.41698234e-02 -4.76654673e-01\n",
      "   3.82916987e-02 -5.62213443e-02  1.06466526e-01  1.06311944e-01\n",
      "   9.96704542e-02 -5.98141577e-01  5.61583579e-02 -1.24890510e-01\n",
      "   7.29383405e-02  9.30739943e-02 -2.04954230e-01 -2.49737730e-01\n",
      "  -4.34920874e-01 -3.24643923e-01 -5.53638217e-01 -4.25944723e-01\n",
      "  -5.37073417e-01 -3.85192780e-01  4.16195572e-01  3.75023429e-01\n",
      "  -2.39766644e-01  3.70154568e-01  2.79019799e-01  4.26848630e-01\n",
      "   3.75397977e-01  4.60161518e-01]\n",
      " [-3.06714754e-01 -1.75139651e-01 -1.75404764e-01  1.98372303e-01\n",
      "  -1.60411846e-01 -2.71324499e-01 -2.22773133e-01 -1.55191966e-01\n",
      "  -2.64459206e-01 -1.15028653e-01  1.37653265e-01 -1.43059100e-01\n",
      "  -2.97861212e-01  1.25843115e-01 -2.32560539e-01  6.90982721e-02\n",
      "  -1.58362080e-01 -2.79264914e-01  1.59481987e-03 -1.41578011e-01\n",
      "  -2.31942769e-01 -2.50733946e-01  4.23313874e-02  6.41556744e-02\n",
      "  -2.29751023e-01 -2.07089640e-01 -3.89451605e-01 -3.16980443e-01\n",
      "   2.04802966e-01  1.09248939e-01  2.46013164e-01 -1.95007005e-01\n",
      "  -2.92616131e-01  1.64609804e-01 -3.03541158e-01  2.01649817e-01\n",
      "   1.43379494e-01  2.84624972e-01  2.28099953e-01  3.25546725e-01\n",
      "   2.65091369e-01  3.05100788e-01  3.26421029e-01  3.32853025e-01\n",
      "   1.43348005e-01  1.24815159e-01  1.15640658e-01 -2.41490372e-01\n",
      "   1.86392881e-01  1.91403988e-01  3.21601038e-01  5.26520676e-02\n",
      "  -1.95037824e-01 -9.06724473e-03 -6.04502468e-02 -1.90967962e-01\n",
      "  -3.17225628e-01 -2.74546337e-01 -1.09304507e-01 -1.51164048e-01\n",
      "  -7.55266565e-02  2.60715548e-01  4.09448881e-01  1.00000000e+00\n",
      "   3.15829946e-01  2.02179622e-01 -3.28451188e-01 -2.18422553e-02\n",
      "  -2.65296101e-01 -1.89664650e-01  2.73838601e-01 -1.46290518e-01\n",
      "  -1.92499565e-01  4.50819411e-01  7.22772720e-02  3.31985870e-01\n",
      "   3.20525034e-01  2.58850812e-01  2.40780105e-01  3.38056952e-01\n",
      "   1.31995421e-01 -2.86732026e-01 -2.78202301e-01 -1.29744276e-01\n",
      "  -3.44918875e-01  6.26682490e-02 -2.21745277e-01 -2.99780432e-01\n",
      "  -2.93506831e-01  3.67696481e-01 -2.30461061e-01 -1.55360828e-02\n",
      "   6.50349169e-02  1.38038640e-01  1.95398549e-01 -1.06039816e-02\n",
      "   2.10577717e-01  1.38027887e-01  2.43211451e-01  7.57662684e-02\n",
      "   2.13381354e-01 -7.62800796e-02 -2.08902722e-01 -3.03482546e-01\n",
      "   3.19960136e-02 -7.07435597e-02  1.26557033e-02  5.15079676e-02\n",
      "   5.59521368e-03 -3.17247297e-01 -3.41759658e-02 -1.13032606e-01\n",
      "  -2.12241013e-02 -1.00336547e-02 -1.96930339e-01 -1.86961166e-01\n",
      "  -1.64817686e-01 -2.35866112e-01 -2.60126312e-01 -2.81530826e-01\n",
      "  -3.43437175e-01 -6.70609159e-03  2.17108223e-01  2.32559258e-01\n",
      "  -1.28052142e-01  3.52833619e-01  1.12897154e-01  3.98082201e-01\n",
      "   1.94979738e-01  2.23283528e-01]\n",
      " [-4.28363359e-01 -3.58016777e-01 -4.78408680e-01  3.52484503e-01\n",
      "  -3.46775553e-01 -4.75619388e-01 -5.27803460e-01 -4.42847705e-01\n",
      "  -5.03802694e-01 -5.29026952e-01  1.66476773e-01 -2.62940718e-01\n",
      "  -4.79031315e-01  1.92778403e-01 -4.53159492e-01  1.27228045e-01\n",
      "  -4.63414972e-01 -5.15629522e-01  3.34182437e-02 -3.56334467e-01\n",
      "  -5.12659184e-01 -3.85307922e-01  6.08749041e-02  3.92932057e-02\n",
      "  -5.28589804e-01 -5.21093778e-01 -4.42346671e-01 -5.55758265e-01\n",
      "   1.94708876e-02  2.17499350e-01  2.38666728e-01 -4.14037273e-01\n",
      "  -4.27075013e-01  1.82378165e-01 -5.15373954e-01  1.88487887e-01\n",
      "   2.69587371e-01  3.16615037e-01  3.31649029e-01  2.47673194e-01\n",
      "   3.44643266e-01  2.23169518e-01  5.72761592e-01  3.45702788e-01\n",
      "   2.59454287e-01  2.49032677e-01 -1.77783697e-01  1.22899901e-01\n",
      "   4.16882843e-01  4.17833868e-01  2.88159204e-01 -2.99447661e-01\n",
      "  -1.53507108e-01 -3.80504258e-01 -2.18620722e-01 -2.62263775e-01\n",
      "  -3.07481401e-01 -9.54548106e-02  1.21111323e-01 -1.98757172e-01\n",
      "  -1.38682317e-01  1.34611036e-01  7.80459279e-01  3.15829946e-01\n",
      "   1.00000000e+00  8.66447137e-01 -4.68593455e-01 -3.15161530e-01\n",
      "  -3.70667155e-01 -6.16160531e-02  3.59844333e-01 -1.46736362e-01\n",
      "  -3.38265389e-01  4.89611969e-01  2.75781423e-01  4.67994195e-01\n",
      "   3.84569452e-01  2.02714679e-01  4.72845814e-01  5.06306228e-01\n",
      "   3.05464755e-01 -3.40270196e-01 -3.12087835e-01 -1.89101051e-01\n",
      "  -3.84098882e-01  2.65840489e-01 -2.62028843e-01 -3.29158864e-01\n",
      "  -2.26320512e-01  4.12931945e-01 -2.41539441e-01 -2.82934204e-02\n",
      "   3.26969199e-01  3.10392989e-01  3.61979639e-01  1.40494265e-01\n",
      "   4.76903895e-01  4.11571604e-01  3.44332833e-01  4.31279321e-01\n",
      "   5.12886167e-01  1.46726042e-01 -9.64673917e-02 -4.17296465e-01\n",
      "   1.62336684e-01 -6.07419443e-02  1.60700087e-01  1.17053496e-01\n",
      "   1.27018546e-01 -4.67907081e-01  3.36977375e-02 -1.72114899e-01\n",
      "   1.37059943e-01  1.43562764e-01 -1.61298245e-01 -2.26177501e-01\n",
      "  -2.82226266e-01 -2.51136107e-01 -4.88398731e-01 -3.86005705e-01\n",
      "  -4.28918758e-01 -3.51172121e-01  3.59027655e-01  3.59443122e-01\n",
      "  -1.84612891e-01  3.80708702e-01  1.24733586e-01  4.05863290e-01\n",
      "   4.35453786e-01  4.20822919e-01]\n",
      " [-4.29485413e-01 -3.25509098e-01 -4.20930834e-01  1.48933940e-01\n",
      "  -3.24188959e-01 -4.01705338e-01 -4.77806339e-01 -4.11978359e-01\n",
      "  -4.73655192e-01 -4.94105837e-01  1.59217163e-01 -3.00738570e-01\n",
      "  -4.35034772e-01  1.05684501e-01 -4.22529122e-01  5.01121216e-02\n",
      "  -4.13303308e-01 -4.69655254e-01 -5.33301942e-02 -3.57841138e-01\n",
      "  -4.96395740e-01 -3.33816559e-01 -1.81667771e-02 -4.86887125e-02\n",
      "  -5.42579535e-01 -4.68152595e-01 -4.57487607e-01 -4.47629897e-01\n",
      "  -4.50143643e-02  1.62965175e-01  1.76457636e-01 -4.05543156e-01\n",
      "  -4.12159504e-01  8.81256838e-02 -4.61303338e-01  1.68892059e-01\n",
      "   2.77153227e-01  2.78744010e-01  3.00831131e-01  1.97361352e-01\n",
      "   2.54147208e-01  1.70375708e-01  5.16790205e-01  2.70462301e-01\n",
      "   1.33654195e-01  1.23090234e-01 -2.39897642e-01  2.95472840e-01\n",
      "   4.50552140e-01  3.53349040e-01  3.40063340e-01 -3.81468091e-01\n",
      "  -7.31198098e-02 -3.78205554e-01 -2.11934670e-01 -2.44146317e-01\n",
      "  -2.00101370e-01  1.09120818e-02  2.01011138e-01 -1.32924817e-01\n",
      "  -4.56460007e-02  5.43624722e-02  6.56227583e-01  2.02179622e-01\n",
      "   8.66447137e-01  1.00000000e+00 -4.58723612e-01 -2.87444511e-01\n",
      "  -3.09554793e-01 -1.49569205e-01  2.68776859e-01 -1.72525234e-01\n",
      "  -3.68193997e-01  3.72635573e-01  2.95525696e-01  4.03975296e-01\n",
      "   2.75723886e-01  1.08206354e-01  3.56950457e-01  3.18064587e-01\n",
      "   2.66761019e-01 -3.01461519e-01 -2.29940348e-01 -1.52681319e-01\n",
      "  -3.17491131e-01  2.97802391e-01 -2.21364733e-01 -2.69891941e-01\n",
      "  -1.58350122e-01  2.38307539e-01 -2.11105713e-01 -2.28061509e-02\n",
      "   3.30911047e-01  3.02089120e-01  2.92220692e-01  8.17861646e-02\n",
      "   3.31037578e-01  2.99307516e-01  3.21731243e-01  3.38270394e-01\n",
      "   4.85113909e-01  1.19670519e-01 -6.04886427e-02 -2.98092813e-01\n",
      "   1.21638433e-01 -1.11200325e-02  2.42481557e-01  2.09714272e-01\n",
      "   2.18747976e-01 -4.23303798e-01  1.59705161e-01 -7.62967674e-02\n",
      "   2.59282512e-01  2.52462807e-01 -7.05721602e-02 -1.66991066e-01\n",
      "  -2.47624789e-01 -1.73751027e-01 -3.97957863e-01 -3.59571434e-01\n",
      "  -3.39828893e-01 -2.83895658e-01  3.37585650e-01  4.10670355e-01\n",
      "  -9.54131970e-02  4.25052600e-01  1.48660974e-01  4.16115554e-01\n",
      "   4.79435110e-01  4.85501852e-01]\n",
      " [ 5.91735780e-01  1.64074334e-01  1.07038137e-01 -4.72869321e-01\n",
      "   3.03070008e-01  5.06898652e-01  4.05980937e-01  4.23871996e-01\n",
      "   4.97713429e-01  5.72532129e-01 -4.34130271e-01  1.93507696e-01\n",
      "   3.73954147e-01 -3.50669948e-01  2.05210702e-01 -3.07793356e-01\n",
      "   2.61020203e-01  3.91177755e-01 -4.32744770e-01  1.87379103e-01\n",
      "   3.08303622e-01  2.95022317e-01 -3.96666681e-01 -4.14001427e-01\n",
      "   3.85151545e-01  4.67782056e-01  1.55439791e-01  3.74682380e-01\n",
      "  -3.31866551e-01 -5.17466828e-01 -5.67083979e-01  4.62830929e-01\n",
      "   6.35478262e-01 -2.26483717e-01  1.89021443e-01 -5.08004118e-01\n",
      "  -4.20238729e-01 -6.06201765e-01 -5.81453861e-01 -5.49620429e-01\n",
      "  -4.55710214e-01 -3.72454463e-01 -5.54813425e-01 -5.32173247e-01\n",
      "  -3.75875859e-01 -3.42681778e-01  3.53353158e-01  3.58586531e-01\n",
      "  -3.97725177e-01 -4.15947926e-01 -3.51098032e-01  4.16891651e-01\n",
      "   4.02233590e-01  5.98224407e-01  2.49645183e-01  5.75187763e-01\n",
      "   3.60228448e-01  7.16121342e-01  2.50749100e-01  4.32303697e-01\n",
      "   9.56823382e-02 -2.44984807e-01 -5.22595087e-01 -3.28451188e-01\n",
      "  -4.68593455e-01 -4.58723612e-01  1.00000000e+00  6.46417676e-01\n",
      "   8.41437111e-01  4.59844886e-01 -3.27235946e-01  3.03361071e-01\n",
      "   4.72062022e-01 -4.11045700e-01 -3.19012712e-01 -3.85552954e-01\n",
      "  -3.70101081e-01 -2.88068441e-01 -2.99953735e-01 -4.16506588e-01\n",
      "  -2.46769673e-01  3.92294829e-01  4.10031019e-01  2.47879150e-01\n",
      "   4.64597906e-01 -2.68605188e-01  2.91006475e-01  4.09562316e-01\n",
      "   3.44373024e-02 -3.89194131e-01  1.79325954e-01 -3.81363834e-02\n",
      "  -4.37278204e-01 -3.71567791e-01 -4.20119091e-01 -2.06430674e-01\n",
      "  -3.70323540e-01 -3.60044123e-01 -2.35242135e-01 -3.69264567e-01\n",
      "  -5.20644097e-01 -1.19194032e-01 -1.00411635e-01  4.48626037e-01\n",
      "  -1.30645374e-01  1.11792762e-01 -2.41796772e-01 -2.09486085e-01\n",
      "  -2.04357521e-01  6.65723114e-01 -1.11048081e-01  9.13091980e-03\n",
      "  -2.35549201e-01 -2.52861348e-01  1.03611198e-01  3.96275061e-01\n",
      "   3.20067806e-01  3.68136703e-01  6.53658505e-01  7.17194634e-01\n",
      "   5.58837024e-01  3.08549674e-01 -4.52282736e-01 -4.21476555e-01\n",
      "   2.18815848e-01 -3.69800129e-01 -2.72158469e-01 -4.53128761e-01\n",
      "  -4.52662572e-01 -3.76492779e-01]\n",
      " [ 3.20372472e-01 -7.38476619e-02  1.25220453e-01 -4.21859029e-01\n",
      "   2.17033699e-01  1.79249874e-01  4.01001297e-01  3.07606382e-01\n",
      "   4.42161882e-01  4.56629753e-01 -1.14353528e-01  3.68816724e-02\n",
      "   3.11238189e-02 -4.15471257e-01  1.07636184e-01 -2.63449161e-01\n",
      "   2.03352469e-01  4.27184467e-01 -4.68094878e-01  1.09539013e-01\n",
      "   3.73161541e-01  7.24092070e-02 -3.45274010e-01 -3.35777701e-01\n",
      "   4.36032228e-01  4.24151816e-01  1.21797767e-01  1.45560896e-01\n",
      "   1.94786484e-02 -4.25200564e-01 -2.87298781e-01  2.40033149e-01\n",
      "   3.76827219e-01 -1.03594582e-01  5.97648895e-02 -3.43659121e-01\n",
      "  -3.74915185e-01 -3.80886512e-01 -3.09952313e-01 -7.48937160e-02\n",
      "  -3.27914049e-01  4.61653388e-02 -3.43072845e-01 -3.03809788e-01\n",
      "  -2.87249867e-01 -1.92337294e-01  5.85739286e-01  1.62420805e-01\n",
      "  -3.01188297e-01 -1.24968108e-01 -1.51686511e-02  3.84394037e-01\n",
      "   3.97443026e-01  5.71421002e-01  1.18279608e-01  2.06457828e-01\n",
      "   2.42273613e-01  5.16984103e-01  7.24873828e-02  7.58771938e-02\n",
      "   4.21270489e-02 -8.68997038e-02 -4.57046338e-01 -2.18422553e-02\n",
      "  -3.15161530e-01 -2.87444511e-01  6.46417676e-01  1.00000000e+00\n",
      "   4.13765196e-01  4.10952750e-01 -2.07513721e-01  3.16272931e-01\n",
      "   3.74870214e-01 -1.12204150e-01 -7.48362957e-02  6.08627608e-02\n",
      "  -5.74276361e-02 -9.80873746e-02 -1.62640248e-01 -2.44832241e-01\n",
      "  -3.63727467e-01 -5.16769249e-02  6.67259287e-02  4.89751727e-02\n",
      "   1.30097176e-01 -2.97231906e-01  1.98827389e-02  4.71207245e-02\n",
      "  -2.16532137e-01 -3.01551674e-01 -1.23060917e-01 -9.90369081e-02\n",
      "  -5.68927898e-01 -2.94217651e-01 -4.01223125e-01 -4.01897315e-01\n",
      "  -4.68982936e-01 -4.66374189e-01 -2.50445191e-01 -4.14605509e-01\n",
      "  -4.88971471e-01 -5.58089297e-02 -2.82808503e-01  2.86317728e-01\n",
      "   1.80436645e-01  1.00661848e-01 -2.07702018e-01 -2.26839198e-01\n",
      "  -2.42490306e-01  6.37329507e-01 -1.02272505e-01 -6.85022918e-02\n",
      "  -1.52832053e-01 -1.84525063e-01 -2.87021197e-02  3.64260371e-01\n",
      "   6.45968789e-01  3.66574921e-01  5.58518065e-01  4.91220513e-01\n",
      "   5.39395497e-01  4.30084442e-01 -1.72528769e-01 -4.24971429e-02\n",
      "   4.14815047e-01 -9.58218935e-02 -1.16653228e-01 -7.12212844e-02\n",
      "  -2.02333599e-01 -2.09998758e-01]\n",
      " [ 5.89621922e-01  1.50447475e-01  1.25115271e-01 -4.87876540e-01\n",
      "   2.97400872e-01  5.30826067e-01  3.87158016e-01  4.43372451e-01\n",
      "   4.82560379e-01  6.14071620e-01 -5.45390895e-01  1.88359996e-01\n",
      "   3.99224421e-01 -3.36413545e-01  1.58352733e-01 -2.66087338e-01\n",
      "   3.16694241e-01  2.18270021e-01 -3.63913515e-01  1.28355292e-01\n",
      "   2.63693375e-01  2.42441296e-01 -3.59874364e-01 -3.78228531e-01\n",
      "   3.47415195e-01  4.41636914e-01  6.32770230e-02  4.02687658e-01\n",
      "  -3.17449934e-01 -5.60830299e-01 -5.95980658e-01  4.59646018e-01\n",
      "   6.39776999e-01 -1.76353015e-01  1.99729373e-01 -5.37972955e-01\n",
      "  -4.70466300e-01 -5.98946184e-01 -6.24611022e-01 -5.61720396e-01\n",
      "  -4.70671999e-01 -3.06889378e-01 -5.29910262e-01 -4.85228494e-01\n",
      "  -2.96571303e-01 -2.88077202e-01  3.44083832e-01  4.82433217e-01\n",
      "  -4.20728925e-01 -3.85171096e-01 -4.22157669e-01  3.96441596e-01\n",
      "   3.58857870e-01  6.14706625e-01  3.63341469e-01  6.71132574e-01\n",
      "   2.85572504e-01  6.81143949e-01  3.46089507e-01  6.10058456e-01\n",
      "   3.07990495e-01 -2.11612792e-01 -3.04921981e-01 -2.65296101e-01\n",
      "  -3.70667155e-01 -3.09554793e-01  8.41437111e-01  4.13765196e-01\n",
      "   1.00000000e+00  3.45796969e-01 -4.59691049e-01  1.35961701e-01\n",
      "   3.68839832e-01 -5.16539768e-01 -5.03779831e-01 -5.01337104e-01\n",
      "  -4.87722339e-01 -3.45874595e-01 -4.91036847e-01 -4.00255111e-01\n",
      "  -7.32335675e-02  4.49324149e-01  4.52670466e-01  4.03231926e-01\n",
      "   4.93431958e-01 -2.62215588e-01  3.76872993e-01  4.74076746e-01\n",
      "   3.60243602e-02 -3.10370887e-01  2.56035789e-01  7.47941733e-02\n",
      "  -3.40114378e-01 -3.84291553e-01 -3.92106393e-01 -1.42977709e-01\n",
      "  -1.63545577e-01 -2.56786810e-01 -1.36747418e-01 -2.85256227e-01\n",
      "  -3.38464666e-01 -2.65203772e-01 -1.45501567e-01  2.97206676e-01\n",
      "  -1.93596681e-01  2.22628025e-01 -3.35004111e-01 -2.41827799e-01\n",
      "  -2.48130502e-01  4.60591224e-01 -1.84090629e-01 -4.00420655e-02\n",
      "  -3.31012580e-01 -3.50230610e-01  5.00352771e-02  3.17703177e-01\n",
      "   1.23402792e-01  2.64148775e-01  6.47367175e-01  7.06449132e-01\n",
      "   4.28592688e-01  2.47743057e-01 -4.98237845e-01 -4.99551567e-01\n",
      "   9.21918470e-02 -4.16433560e-01 -2.78272291e-01 -4.85300692e-01\n",
      "  -4.72108532e-01 -3.54724690e-01]\n",
      " [ 1.09726733e-01  5.51607788e-02  1.79541458e-01 -2.43976397e-01\n",
      "  -6.54240245e-02  4.36532882e-02  2.60994883e-01  1.00778103e-01\n",
      "   8.52169149e-02  1.42924980e-01 -3.24679361e-01 -1.15377205e-01\n",
      "   1.01671632e-02 -2.47024344e-01  7.92350379e-02 -2.85109701e-01\n",
      "   1.31758985e-01  2.64790222e-01 -2.86150871e-01  1.25774388e-01\n",
      "   3.03097141e-01  2.44352242e-01 -2.95103926e-01 -2.76434166e-01\n",
      "   2.80053048e-01  2.09031278e-01  2.08800024e-01  1.05973169e-01\n",
      "  -2.48353697e-01 -3.74902186e-01 -3.42338033e-01  1.26819188e-01\n",
      "   1.14073717e-01 -1.11498418e-02  1.18081399e-01 -3.97548751e-01\n",
      "  -3.04616775e-01 -4.28717191e-01 -2.96933296e-01 -2.85943010e-01\n",
      "  -1.89663295e-01 -5.32995084e-02 -2.35661210e-01 -2.74736426e-01\n",
      "  -2.63693717e-01 -3.27808192e-01  6.23196102e-01  4.11005469e-01\n",
      "  -5.07059746e-02 -4.80550922e-02 -1.10274979e-01  2.04494786e-01\n",
      "   3.58211944e-01  3.24420995e-01  2.59968631e-01  3.81933527e-01\n",
      "   2.96977865e-01  3.21637981e-01  3.17223483e-01  2.48353847e-01\n",
      "   2.32588413e-01 -3.61427845e-02 -1.64084229e-01 -1.89664650e-01\n",
      "  -6.16160531e-02 -1.49569205e-01  4.59844886e-01  4.10952750e-01\n",
      "   3.45796969e-01  1.00000000e+00 -2.24299146e-01  5.53833877e-01\n",
      "   5.70956938e-01 -2.62137282e-01 -3.20144834e-01 -2.22624861e-01\n",
      "  -1.68124598e-01 -1.13857469e-01 -9.37448604e-02 -1.80590713e-01\n",
      "  -1.56480934e-01  1.32545687e-01  1.65274514e-01  6.62194385e-02\n",
      "   2.03241254e-01 -2.23838861e-01  5.77248037e-02  1.60553533e-01\n",
      "   5.65597967e-04 -1.83996936e-01  1.05317530e-01  2.49129705e-01\n",
      "  -2.95444042e-01 -2.70585474e-01 -1.98981382e-01 -1.77961326e-01\n",
      "  -1.19847436e-01 -2.24637167e-01  4.83532188e-02 -1.93698352e-01\n",
      "  -3.06533320e-01  7.37881364e-02 -2.07157244e-01  2.55822506e-01\n",
      "  -5.20786700e-02  4.41016447e-02 -2.63747145e-01 -2.38658168e-01\n",
      "  -2.43420177e-01  2.99711134e-01 -9.53705640e-02 -1.69986414e-01\n",
      "  -2.49364382e-01 -2.48027257e-01 -1.32393691e-01  3.56044560e-01\n",
      "   5.37740663e-01  3.35950165e-01  3.93314268e-01  2.45523475e-01\n",
      "   3.83615555e-01  2.94137986e-01 -1.31061925e-01 -1.09033788e-01\n",
      "   4.20095925e-01 -4.30541261e-01 -3.04266791e-01 -2.20726525e-01\n",
      "  -2.47012691e-01 -2.68612571e-01]\n",
      " [-4.47501168e-01 -2.61174345e-01 -2.76491561e-01  4.01431085e-01\n",
      "  -2.23345767e-01 -4.37066717e-01 -5.29625524e-01 -2.82124322e-01\n",
      "  -3.34005693e-01 -4.40915255e-01  3.86523629e-01 -1.95855528e-01\n",
      "  -4.04686614e-01  2.52439735e-01 -3.86444634e-01  7.73915566e-02\n",
      "  -4.76755956e-01 -4.88167653e-01  1.92598351e-01 -4.45464995e-01\n",
      "  -3.59866300e-01 -1.64523426e-01  2.69921809e-01  1.18781574e-01\n",
      "  -5.61039676e-01 -5.95545789e-01 -2.89834176e-01 -5.51328279e-01\n",
      "   3.88360823e-02  4.15282189e-01  4.03761915e-01 -4.98807267e-01\n",
      "  -4.57870420e-01 -5.35992392e-02 -3.81580071e-01  6.37608795e-01\n",
      "   5.82991002e-01  6.71284351e-01  5.20356179e-01  4.45692219e-01\n",
      "   2.67114724e-01  2.51445860e-01  5.20894447e-01  3.79136505e-01\n",
      "   1.47368930e-01  2.10559544e-01 -2.25459748e-01 -3.47321489e-01\n",
      "   4.34205774e-01  2.71551566e-01  3.80963749e-01 -1.98703431e-01\n",
      "  -5.09007103e-01 -4.52182966e-01 -3.94861187e-01 -4.93742196e-01\n",
      "  -4.01350243e-01 -2.98239461e-01 -2.10649412e-01 -4.47839236e-01\n",
      "  -1.37240245e-01  1.58253005e-01  4.53383931e-01  2.73838601e-01\n",
      "   3.59844333e-01  2.68776859e-01 -3.27235946e-01 -2.07513721e-01\n",
      "  -4.59691049e-01 -2.24299146e-01  1.00000000e+00 -2.18205356e-02\n",
      "  -1.02281437e-01  8.84627117e-01  4.56366442e-01  5.56058877e-01\n",
      "   8.47507018e-01  7.30313020e-01  9.23551571e-01  4.14705660e-01\n",
      "   4.44369912e-02 -4.10172053e-01 -5.06301371e-01 -2.82967572e-01\n",
      "  -5.52865378e-01  3.41279825e-01 -3.20110995e-01 -5.41823161e-01\n",
      "  -1.23640173e-01  2.75905102e-01 -2.64531744e-01 -1.62447623e-01\n",
      "   3.37043622e-01  3.60447277e-01  3.69442861e-01 -9.49161370e-03\n",
      "   1.33017014e-01  4.74605081e-01  2.15568932e-01  2.53463302e-01\n",
      "   1.76320409e-01  2.93832504e-01  1.75573882e-02 -4.90944464e-01\n",
      "   1.01929721e-01 -2.92186001e-01  1.42815582e-01  2.66580979e-04\n",
      "   6.23377276e-02 -3.59728759e-01  1.25493336e-01 -2.83506945e-01\n",
      "   1.84093928e-01  1.79513973e-01 -3.65183118e-01 -2.62010927e-01\n",
      "  -1.91737833e-01 -2.10475062e-01 -5.79651351e-01 -4.38768198e-01\n",
      "  -3.40181005e-01 -3.91170540e-01  2.96100256e-01  4.05925653e-01\n",
      "  -1.88180693e-01  5.70871915e-01  2.87176197e-01  3.86412703e-01\n",
      "   4.51138454e-01  6.36948563e-01]\n",
      " [ 5.08171299e-03  1.84816901e-01 -1.54689975e-02 -1.27253379e-01\n",
      "  -7.78292868e-02  2.03871683e-02  1.36108921e-01  1.32427658e-01\n",
      "   1.82427792e-02  1.69518234e-02 -7.89732948e-02 -1.20249198e-01\n",
      "   7.74956631e-02 -5.34523048e-02  1.51654358e-01 -1.74208548e-01\n",
      "  -4.04971994e-02  1.94171352e-01 -1.91007617e-01  1.97847701e-01\n",
      "   2.72607075e-01  2.95828770e-01 -1.50591208e-01 -1.98588609e-01\n",
      "   2.48430749e-01  1.92395696e-01  4.43849999e-01  1.43969779e-01\n",
      "  -1.97238260e-01 -1.44992198e-01 -1.90711268e-01  2.12065258e-01\n",
      "   5.19524972e-02 -2.15845197e-01  1.35745338e-01 -1.70911968e-01\n",
      "  -4.50453736e-02 -2.44393668e-01 -2.11824414e-01 -2.13052173e-01\n",
      "  -1.20050749e-01 -5.11493846e-02 -3.42252102e-01 -2.16784917e-01\n",
      "  -3.63157354e-01 -3.72509164e-01  3.25797675e-01  3.08685714e-01\n",
      "  -1.87196091e-01 -1.26167597e-01 -2.31818486e-01  1.59603438e-01\n",
      "   1.20224558e-02  1.10256602e-01  1.15346859e-01  1.01438791e-01\n",
      "   2.20404743e-01  2.32484110e-01  1.70305116e-01 -3.22784036e-02\n",
      "   4.93276098e-01 -3.05466030e-02 -2.75541640e-01 -1.46290518e-01\n",
      "  -1.46736362e-01 -1.72525234e-01  3.03361071e-01  3.16272931e-01\n",
      "   1.35961701e-01  5.53833877e-01 -2.18205356e-02  1.00000000e+00\n",
      "   6.93501320e-01 -1.17624860e-01 -1.81477753e-01 -2.16918040e-01\n",
      "   2.17689887e-03 -1.22067842e-01 -5.32919280e-03 -3.43338249e-01\n",
      "  -2.59685179e-01  1.60577048e-01  1.52001001e-01  7.50579129e-02\n",
      "   1.54256041e-01  4.10324047e-02  1.39111143e-01  1.21470735e-01\n",
      "   2.26467898e-01 -2.33543244e-01  2.15407400e-01  1.90067465e-01\n",
      "  -8.93931381e-02  2.77618575e-03 -3.92149140e-02 -2.76685083e-03\n",
      "  -1.76056922e-01 -3.23965347e-03 -3.22730048e-02 -1.03571702e-01\n",
      "  -2.96329662e-01  2.48593822e-01 -1.91768353e-02  2.54191523e-01\n",
      "  -7.89942956e-02 -1.37247118e-01 -2.13495885e-01 -2.66927247e-01\n",
      "  -2.43764118e-01  3.36733208e-01 -1.05748363e-01 -2.29974306e-01\n",
      "  -1.88524123e-01 -1.94390342e-01 -1.76120097e-01  2.21932596e-01\n",
      "   4.45038206e-01  1.93002060e-01  1.31019769e-01  4.66324322e-02\n",
      "   3.20217086e-01  3.88091791e-02 -3.77768553e-01 -1.87045915e-01\n",
      "   1.76286032e-01 -3.16279020e-01 -2.24003746e-01 -2.95772157e-01\n",
      "  -2.39192172e-01 -3.06101531e-01]\n",
      " [ 1.08180497e-01  2.39256221e-01  4.82840495e-01 -3.02080825e-01\n",
      "   1.52478222e-01  1.54807898e-01  3.35816386e-01  2.48777207e-01\n",
      "   2.74594419e-01  3.28441937e-01 -2.98139433e-01 -2.55814273e-02\n",
      "   1.18188551e-01 -2.05235325e-01  2.06678911e-01 -1.38243672e-01\n",
      "   2.58382859e-01  3.71016802e-01 -1.77875765e-01  2.19321132e-01\n",
      "   5.33925519e-01  3.12780063e-01 -1.97275176e-01 -2.79429313e-01\n",
      "   5.13391386e-01  3.27928012e-01  4.62766324e-01  2.78057870e-01\n",
      "  -1.36584298e-01 -4.48216331e-01 -3.89893952e-01  3.04054528e-01\n",
      "   1.26316741e-01 -3.20516923e-01  4.08849966e-01 -2.70484870e-01\n",
      "  -2.32803693e-01 -3.39518617e-01 -3.57138558e-01 -2.98730054e-01\n",
      "  -3.68252476e-01 -1.95466869e-01 -3.71769716e-01 -4.55636654e-01\n",
      "  -5.83797827e-01 -5.46786742e-01  5.57898743e-01  4.14068995e-01\n",
      "  -2.36455952e-01 -1.20388777e-01 -2.38083450e-01  4.90778955e-01\n",
      "   2.72918984e-01  4.00199261e-01  3.74040422e-01  3.57575343e-01\n",
      "   3.70935073e-01  3.28383118e-01  4.31956833e-01  3.53895444e-01\n",
      "   5.99141983e-01 -9.59444190e-02 -2.56884700e-01 -1.92499565e-01\n",
      "  -3.38265389e-01 -3.68193997e-01  4.72062022e-01  3.74870214e-01\n",
      "   3.68839832e-01  5.70956938e-01 -1.02281437e-01  6.93501320e-01\n",
      "   1.00000000e+00 -1.75029771e-01 -4.78371499e-01 -4.52541381e-01\n",
      "  -1.37794647e-01  1.12344528e-01 -1.01388321e-01 -2.14306944e-01\n",
      "  -3.67042912e-01  1.70865243e-01  1.56904806e-01  2.02683272e-01\n",
      "   2.10078656e-01 -2.23059812e-01  2.07117694e-01  1.55840632e-01\n",
      "   1.14356189e-01 -2.73969352e-01  2.26133136e-01  1.06379303e-01\n",
      "  -3.80089821e-01 -3.12778917e-01 -3.43998193e-01 -1.39553731e-01\n",
      "  -2.92179397e-01 -2.30457761e-01 -2.70840146e-01 -3.66826853e-01\n",
      "  -4.91791679e-01 -1.37378026e-02 -1.34034096e-01  2.80628947e-01\n",
      "  -2.36073678e-01 -1.32686987e-01 -4.19444985e-01 -3.92005980e-01\n",
      "  -3.99017172e-01  3.74360386e-01 -2.45058695e-01 -1.51876959e-01\n",
      "  -3.89448525e-01 -4.00376047e-01 -1.86829572e-01  5.05730126e-01\n",
      "   4.80198794e-01  4.06822607e-01  4.57105511e-01  2.53257354e-01\n",
      "   5.56967012e-01  4.36038023e-01 -3.27638717e-01 -2.54502706e-01\n",
      "   4.05727897e-01 -2.95137628e-01 -1.64636317e-02 -3.51845981e-01\n",
      "  -3.65170294e-01 -2.36734923e-01]\n",
      " [-4.84109654e-01 -2.85203885e-01 -3.19945388e-01  4.15588969e-01\n",
      "  -1.91647982e-01 -5.08664577e-01 -5.11656268e-01 -3.48353393e-01\n",
      "  -3.67354319e-01 -4.19250717e-01  3.62093018e-01 -1.95940239e-01\n",
      "  -4.71234238e-01  2.18428632e-01 -3.84576057e-01  7.34492930e-02\n",
      "  -4.34494476e-01 -4.91823956e-01  1.38167667e-01 -3.90212755e-01\n",
      "  -4.04466430e-01 -3.23166783e-01  2.16778227e-01  1.41696725e-01\n",
      "  -5.40204579e-01 -5.43243437e-01 -4.64084826e-01 -5.77524918e-01\n",
      "   1.62538432e-01  3.40679968e-01  4.13531796e-01 -5.00610117e-01\n",
      "  -4.93419374e-01 -2.58423597e-03 -4.41477591e-01  5.52771595e-01\n",
      "   4.52939070e-01  6.32429323e-01  4.65552378e-01  5.12030116e-01\n",
      "   3.42310011e-01  3.32354206e-01  6.19489537e-01  4.32490234e-01\n",
      "   1.82951858e-01  2.60085329e-01 -5.82069144e-02 -3.52326335e-01\n",
      "   3.46427854e-01  3.25691873e-01  5.20363083e-01 -6.62612940e-02\n",
      "  -3.85006002e-01 -2.70106595e-01 -3.12579308e-01 -4.75848514e-01\n",
      "  -4.08885434e-01 -3.91481947e-01 -2.06813818e-01 -4.42597716e-01\n",
      "  -1.62041282e-01  3.14516723e-01  5.83476326e-01  4.50819411e-01\n",
      "   4.89611969e-01  3.72635573e-01 -4.11045700e-01 -1.12204150e-01\n",
      "  -5.16539768e-01 -2.62137282e-01  8.84627117e-01 -1.17624860e-01\n",
      "  -1.75029771e-01  1.00000000e+00  4.69136421e-01  7.27764153e-01\n",
      "   8.11454089e-01  7.27369906e-01  8.72518199e-01  6.39897492e-01\n",
      "   8.19917447e-02 -4.98302238e-01 -5.20897687e-01 -3.35873656e-01\n",
      "  -6.11761715e-01  2.30307492e-01 -4.07306552e-01 -5.87299790e-01\n",
      "  -2.93610513e-01  3.11320825e-01 -3.37691099e-01 -2.10298001e-01\n",
      "   2.44293990e-01  2.78846460e-01  3.11540801e-01 -8.18527978e-02\n",
      "   1.50266583e-01  3.41875387e-01  2.30927372e-01  1.92069528e-01\n",
      "   2.88692058e-01  1.45026794e-01 -1.38250154e-01 -5.35322894e-01\n",
      "   1.01757532e-01 -2.37751780e-01  1.38011411e-01  4.05162531e-02\n",
      "   6.36416485e-02 -4.43593337e-01  7.06188140e-02 -2.45463800e-01\n",
      "   1.52666227e-01  1.64082569e-01 -3.25716446e-01 -2.51289467e-01\n",
      "  -2.05742812e-01 -2.31493565e-01 -5.36533705e-01 -4.53927591e-01\n",
      "  -3.94561708e-01 -2.56376786e-01  4.48176928e-01  4.78540427e-01\n",
      "  -1.29127445e-01  6.69347008e-01  3.36781405e-01  5.53669299e-01\n",
      "   4.95007038e-01  6.14720434e-01]\n",
      " [-3.54301465e-01 -3.60510732e-01 -5.04922425e-01  2.63026377e-01\n",
      "  -3.58037288e-01 -4.86693904e-01 -5.04289955e-01 -4.54128240e-01\n",
      "  -3.70403229e-01 -5.65256310e-01  3.80569715e-01 -2.36815601e-01\n",
      "  -4.43261072e-01  1.30993350e-02 -4.09065794e-01 -1.02483109e-01\n",
      "  -5.16064990e-01 -3.41898609e-01 -8.88711638e-02 -4.25290187e-01\n",
      "  -4.93531656e-01 -4.04879640e-01  1.16390199e-02 -1.17853844e-01\n",
      "  -5.09932729e-01 -4.90767634e-01 -3.10622641e-01 -5.12767615e-01\n",
      "  -6.59623829e-02  3.38934913e-01  2.73697355e-01 -4.66967120e-01\n",
      "  -3.52545105e-01 -6.46826106e-02 -4.82058625e-01  3.53715403e-01\n",
      "   3.39092258e-01  3.47827680e-01  3.93130370e-01  2.96900190e-01\n",
      "   2.77519706e-01  1.61326832e-01  4.60055543e-01  2.93117160e-01\n",
      "   1.74705412e-01  2.86139034e-01 -4.61043275e-01 -3.83063131e-01\n",
      "   2.65272716e-01  2.52777634e-01  2.88614044e-01 -4.62861373e-01\n",
      "  -3.17216681e-01 -5.27065634e-01 -5.13276213e-01 -5.78857337e-01\n",
      "  -1.88257023e-01 -3.12605086e-01 -4.14390376e-01 -4.99002309e-01\n",
      "  -3.82911011e-01 -4.09612100e-02  1.85193627e-01  7.22772720e-02\n",
      "   2.75781423e-01  2.95525696e-01 -3.19012712e-01 -7.48362957e-02\n",
      "  -5.03779831e-01 -3.20144834e-01  4.56366442e-01 -1.81477753e-01\n",
      "  -4.78371499e-01  4.69136421e-01  1.00000000e+00  8.08352067e-01\n",
      "   5.10551278e-01  2.43303891e-01  5.13761580e-01  1.91128731e-01\n",
      "   4.86137777e-02 -3.13209081e-01 -3.01046854e-01 -3.90624124e-01\n",
      "  -3.63107790e-01  2.28036251e-01 -3.69142470e-01 -3.55672262e-01\n",
      "  -1.04257956e-01  1.64828847e-01 -2.77612495e-01 -2.27627858e-01\n",
      "   3.53156387e-01  3.40182484e-01  3.72147758e-01 -5.65019836e-02\n",
      "   9.16328780e-02  3.07476552e-01  1.26548825e-01  2.34852388e-01\n",
      "   2.87704485e-01  1.86740714e-01  2.85241915e-01  1.07359481e-01\n",
      "   4.60037407e-01 -3.84448231e-02  8.16743507e-01  6.38879193e-01\n",
      "   6.91158143e-01  6.72659336e-02  4.79226752e-01  3.40250214e-01\n",
      "   8.12916804e-01  8.35874128e-01  2.99703122e-01 -2.45031600e-01\n",
      "  -8.55560491e-02 -1.43590830e-01 -4.67897396e-01 -3.20700380e-01\n",
      "  -2.40103669e-01 -3.90386935e-01  3.05867601e-01  4.15561874e-01\n",
      "  -1.85289526e-01  3.14835725e-01  4.39401656e-02  4.83600739e-01\n",
      "   5.62590407e-01  3.96856524e-01]\n",
      " [-3.71491852e-01 -4.59234292e-01 -4.68930154e-01  2.57119367e-01\n",
      "  -2.63924810e-01 -5.46388797e-01 -4.91751841e-01 -4.65815938e-01\n",
      "  -3.42512120e-01 -4.68510081e-01  3.98786255e-01 -2.60651051e-01\n",
      "  -5.58011201e-01  3.05617652e-02 -4.37298044e-01 -2.23866389e-02\n",
      "  -4.57486101e-01 -4.06919565e-01 -1.55506289e-02 -4.25286589e-01\n",
      "  -4.62092584e-01 -5.37606018e-01  1.00783725e-01  4.32119320e-02\n",
      "  -5.10027054e-01 -4.63538830e-01 -4.69432996e-01 -5.64640726e-01\n",
      "   2.04657962e-01  2.74946629e-01  3.50807565e-01 -5.40868375e-01\n",
      "  -3.72836619e-01  5.39692423e-02 -5.23130555e-01  3.90052419e-01\n",
      "   2.21528663e-01  4.50091213e-01  4.44248344e-01  5.00337809e-01\n",
      "   3.12941620e-01  3.99240260e-01  5.87487064e-01  4.43275538e-01\n",
      "   3.06054815e-01  4.31302064e-01 -1.77638673e-01 -4.40906165e-01\n",
      "   2.64873216e-01  4.14562753e-01  4.72704653e-01 -3.42378054e-01\n",
      "  -2.66854136e-01 -3.11529523e-01 -4.74638954e-01 -5.11881317e-01\n",
      "  -2.86365010e-01 -3.83341205e-01 -3.95608271e-01 -5.17702604e-01\n",
      "  -3.81845994e-01  2.49859702e-01  3.85366918e-01  3.31985870e-01\n",
      "   4.67994195e-01  4.03975296e-01 -3.85552954e-01  6.08627608e-02\n",
      "  -5.01337104e-01 -2.22624861e-01  5.56058877e-01 -2.16918040e-01\n",
      "  -4.52541381e-01  7.27764153e-01  8.08352067e-01  1.00000000e+00\n",
      "   6.38916560e-01  4.16323796e-01  6.36771794e-01  4.50924796e-01\n",
      "   1.10426524e-01 -5.33402191e-01 -4.63832183e-01 -4.51845775e-01\n",
      "  -5.56277987e-01  1.45136947e-01 -4.92110735e-01 -5.38330318e-01\n",
      "  -3.99414121e-01  3.19920230e-01 -4.69214500e-01 -3.17241509e-01\n",
      "   1.75061284e-01  2.56580317e-01  2.46386882e-01 -1.76248587e-01\n",
      "   1.14289151e-01  2.13398184e-01  2.36286787e-01  1.63147106e-01\n",
      "   3.01243096e-01  8.62212231e-02 -3.84843995e-02 -2.31294814e-01\n",
      "   4.31624526e-01  3.59037540e-02  5.30192131e-01  4.11845491e-01\n",
      "   4.35354776e-01 -1.70508812e-01  2.66790119e-01  1.30792648e-01\n",
      "   5.43621557e-01  5.57145381e-01  1.04783027e-01 -3.02668758e-01\n",
      "  -9.18397311e-02 -1.99324921e-01 -4.40336707e-01 -3.16827215e-01\n",
      "  -3.33034791e-01 -2.71421768e-01  4.70653711e-01  4.83138561e-01\n",
      "  -1.35809954e-01  4.91134880e-01  2.12657952e-01  6.33039680e-01\n",
      "   6.11934739e-01  5.05936227e-01]\n",
      " [-4.63380542e-01 -2.96141831e-01 -2.42060910e-01  4.44044142e-01\n",
      "  -1.76711714e-01 -4.99488786e-01 -4.22353031e-01 -1.82587381e-01\n",
      "  -2.30584388e-01 -3.73399733e-01  2.89970641e-01 -1.90165636e-01\n",
      "  -4.20693448e-01  9.33939101e-02 -3.74591035e-01  4.20111064e-02\n",
      "  -4.12778948e-01 -4.35381879e-01  8.16410078e-02 -4.63286408e-01\n",
      "  -2.83606282e-01 -1.66391946e-01  1.24446808e-01  6.27918822e-02\n",
      "  -4.31101541e-01 -4.40207310e-01 -2.72723398e-01 -5.35080043e-01\n",
      "   1.46526869e-01  3.69124875e-01  3.90210817e-01 -3.64849196e-01\n",
      "  -4.65044823e-01  8.37280336e-02 -3.15315369e-01  5.47599274e-01\n",
      "   5.16490957e-01  5.94595769e-01  4.34405891e-01  4.90058456e-01\n",
      "   2.64069006e-01  3.71461522e-01  5.09809301e-01  4.00330072e-01\n",
      "   1.42675691e-01  2.36771320e-01 -1.66982470e-01 -3.21924940e-01\n",
      "   3.40640118e-01  2.03715451e-01  2.72158993e-01 -1.82357222e-01\n",
      "  -3.21475640e-01 -3.46011134e-01 -3.74696716e-01 -4.76366026e-01\n",
      "  -3.43182768e-01 -3.20321708e-01 -2.32022839e-01 -4.19517199e-01\n",
      "  -1.48810281e-01  1.62944015e-01  4.52759064e-01  3.20525034e-01\n",
      "   3.84569452e-01  2.75723886e-01 -3.70101081e-01 -5.74276361e-02\n",
      "  -4.87722339e-01 -1.68124598e-01  8.47507018e-01  2.17689887e-03\n",
      "  -1.37794647e-01  8.11454089e-01  5.10551278e-01  6.38916560e-01\n",
      "   1.00000000e+00  7.35029678e-01  8.32723679e-01  3.21003367e-01\n",
      "  -3.32473123e-03 -4.40923678e-01 -4.92362271e-01 -3.17056075e-01\n",
      "  -5.22728032e-01  2.99784480e-01 -3.55337507e-01 -5.18545571e-01\n",
      "  -2.10330979e-01  1.73921953e-01 -2.96064101e-01 -1.45596200e-01\n",
      "   2.45342018e-01  3.86631662e-01  3.96286206e-01 -6.34284618e-02\n",
      "   1.68131560e-01  4.66635378e-01  1.97894303e-01  2.68225152e-01\n",
      "   1.74677204e-01  2.50452188e-01 -8.13422731e-02 -5.09856173e-01\n",
      "   9.26826297e-02 -3.12216763e-01  1.15045729e-01 -6.26386077e-02\n",
      "  -6.18712688e-04 -3.15246992e-01  1.57878238e-01 -2.72429622e-01\n",
      "   1.73485481e-01  1.60641274e-01 -3.76500989e-01 -2.37916504e-01\n",
      "  -1.27780136e-01 -1.39528283e-01 -4.53710986e-01 -3.91097615e-01\n",
      "  -3.01835493e-01 -3.59674985e-01  2.43975644e-01  4.29491884e-01\n",
      "  -1.19692336e-01  3.94710742e-01  2.69969565e-01  4.43284565e-01\n",
      "   4.12645362e-01  5.54454408e-01]\n",
      " [-3.35346091e-01 -2.57894554e-01  3.44964762e-02  3.60494484e-01\n",
      "   3.60006549e-02 -3.25068520e-01 -2.78635351e-01 -1.45398049e-01\n",
      "  -1.26578251e-01 -1.97753327e-01  1.45078928e-01 -7.83811375e-02\n",
      "  -3.83956875e-01  6.15168522e-03 -3.75201685e-01  1.33345728e-01\n",
      "  -1.75634077e-01 -3.58998345e-01  1.21502207e-02 -4.33285552e-01\n",
      "  -2.24417181e-01 -2.49551627e-01  1.03606277e-01 -4.14674612e-02\n",
      "  -2.90569666e-01 -3.94113285e-01 -2.27704679e-01 -4.10794245e-01\n",
      "   3.83406760e-02  2.19243113e-01  3.00725606e-01 -3.81774890e-01\n",
      "  -3.60759987e-01  1.42138713e-01 -2.05822650e-01  5.96462293e-01\n",
      "   3.06606882e-01  4.81592099e-01  3.89425409e-01  4.07125395e-01\n",
      "   2.63884975e-01  2.90439215e-01  3.74672809e-01  3.35815593e-01\n",
      "   1.64343518e-01  2.01338731e-01  6.58124585e-03 -2.78123310e-01\n",
      "   2.11303453e-01  2.78377958e-01  3.15186022e-01 -1.03090442e-01\n",
      "  -3.15927657e-01 -2.07688535e-01 -1.75797361e-01 -3.10864715e-01\n",
      "  -3.88612619e-01 -3.36314654e-01 -1.80291579e-01 -1.62357588e-01\n",
      "   2.06766263e-02  4.78467313e-02  4.35297419e-01  2.58850812e-01\n",
      "   2.02714679e-01  1.08206354e-01 -2.88068441e-01 -9.80873746e-02\n",
      "  -3.45874595e-01 -1.13857469e-01  7.30313020e-01 -1.22067842e-01\n",
      "   1.12344528e-01  7.27369906e-01  2.43303891e-01  4.16323796e-01\n",
      "   7.35029678e-01  1.00000000e+00  7.35635832e-01  4.34395416e-01\n",
      "   5.66781878e-02 -3.62843523e-01 -4.06264803e-01 -2.07742353e-01\n",
      "  -4.21374946e-01  1.63706481e-01 -2.73919079e-01 -4.09087509e-01\n",
      "  -2.63596786e-01  1.75410069e-01 -2.39059403e-01 -2.09879836e-01\n",
      "   1.18758446e-01  2.31289422e-01  2.02633278e-01 -9.98732126e-02\n",
      "   1.52535483e-01  2.59011258e-01  2.17996749e-01  1.80682290e-01\n",
      "   1.79070209e-01  6.70490020e-02 -1.66178901e-01 -4.68732083e-01\n",
      "   3.55029664e-02 -1.55834190e-01  3.45783957e-02 -2.38735366e-02\n",
      "  -1.27269188e-03 -3.61497456e-01  1.40139900e-01 -2.06992472e-01\n",
      "   6.01134923e-02  4.72502051e-02 -3.43787768e-01 -2.56726606e-01\n",
      "  -2.20993767e-01 -2.49052426e-01 -3.22212843e-01 -3.31673512e-01\n",
      "  -3.19054432e-01 -2.24949925e-01  2.27594014e-01  2.20860631e-01\n",
      "  -1.92743021e-01  3.15215787e-01  3.78976813e-01  3.26813126e-01\n",
      "   2.22129127e-01  5.02374088e-01]\n",
      " [-4.55639864e-01 -3.21302692e-01 -3.48519736e-01  4.48025924e-01\n",
      "  -2.82287598e-01 -4.99271444e-01 -5.16257825e-01 -3.65607044e-01\n",
      "  -3.78211955e-01 -5.43245330e-01  3.38251854e-01 -2.29409975e-01\n",
      "  -4.19529707e-01  1.68502985e-01 -4.48402251e-01  1.54584856e-02\n",
      "  -4.72486637e-01 -4.71160178e-01  6.29289931e-02 -4.95992691e-01\n",
      "  -4.07776198e-01 -2.11302561e-01  1.49820407e-01 -6.78326187e-04\n",
      "  -5.89160588e-01 -5.95439496e-01 -2.83004050e-01 -5.41001645e-01\n",
      "  -4.22616779e-02  4.08011579e-01  3.46172472e-01 -5.04606616e-01\n",
      "  -4.67003876e-01  2.40599386e-02 -3.80992252e-01  5.63213260e-01\n",
      "   5.13354476e-01  5.91108249e-01  5.10291409e-01  3.93163683e-01\n",
      "   3.24556565e-01  2.05686079e-01  5.37127208e-01  3.88317982e-01\n",
      "   1.71994525e-01  2.59912250e-01 -2.42590611e-01 -3.16486165e-01\n",
      "   4.38001996e-01  3.24580666e-01  3.27791834e-01 -2.91913657e-01\n",
      "  -3.58773476e-01 -4.48147773e-01 -3.13496737e-01 -4.04578287e-01\n",
      "  -3.89264793e-01 -2.80319409e-01 -2.37436856e-01 -4.42083106e-01\n",
      "  -1.88982690e-01  8.32345141e-02  4.79467043e-01  2.40780105e-01\n",
      "   4.72845814e-01  3.56950457e-01 -2.99953735e-01 -1.62640248e-01\n",
      "  -4.91036847e-01 -9.37448604e-02  9.23551571e-01 -5.32919280e-03\n",
      "  -1.01388321e-01  8.72518199e-01  5.13761580e-01  6.36771794e-01\n",
      "   8.32723679e-01  7.35635832e-01  1.00000000e+00  4.99518312e-01\n",
      "   9.11922993e-02 -4.19550211e-01 -4.98451119e-01 -3.06383670e-01\n",
      "  -5.16481946e-01  3.77947184e-01 -3.30321272e-01 -4.94141856e-01\n",
      "  -1.82194808e-01  2.57964392e-01 -3.22349687e-01 -2.23161668e-01\n",
      "   3.44281996e-01  3.66610881e-01  3.54255933e-01  4.33155121e-03\n",
      "   1.74825147e-01  4.38994213e-01  3.10299653e-01  3.22353138e-01\n",
      "   2.07440888e-01  2.21487973e-01 -2.97956444e-02 -4.88143168e-01\n",
      "   1.12904670e-01 -2.37008009e-01  2.03239005e-01  3.64665751e-02\n",
      "   1.06837149e-01 -3.59647126e-01  2.50122671e-01 -3.02570272e-01\n",
      "   2.47362529e-01  2.29077718e-01 -3.39305357e-01 -2.78931296e-01\n",
      "  -1.82401259e-01 -1.90532858e-01 -5.04877959e-01 -4.34132627e-01\n",
      "  -3.33696197e-01 -4.24900430e-01  3.47505869e-01  4.12799288e-01\n",
      "  -1.77289480e-01  5.25648620e-01  2.66601575e-01  4.40948197e-01\n",
      "   5.15033666e-01  6.67957666e-01]\n",
      " [-3.62703745e-01 -3.62447493e-01 -2.80647409e-01  4.94158438e-01\n",
      "  -3.21141053e-01 -4.52633889e-01 -3.32034240e-01 -3.38532748e-01\n",
      "  -3.66388480e-01 -3.91770212e-01  2.69750313e-01 -1.74384411e-01\n",
      "  -4.05307622e-01  9.97242628e-02 -3.99861571e-01  1.04692718e-01\n",
      "  -2.54960834e-01 -4.30785296e-01  4.32446669e-02 -3.06962959e-01\n",
      "  -3.38109117e-01 -4.66875990e-01  1.59379787e-01  1.21531436e-01\n",
      "  -3.46015833e-01 -3.94862061e-01 -3.70334890e-01 -4.15336440e-01\n",
      "   2.44152998e-01  2.81986777e-01  3.46359278e-01 -3.67690432e-01\n",
      "  -3.69503159e-01  2.61938845e-01 -3.64088899e-01  2.74538080e-01\n",
      "   2.80626091e-01  3.74692964e-01  3.25403048e-01  4.23287700e-01\n",
      "   3.31871536e-01  3.08864414e-01  5.84586774e-01  3.81129763e-01\n",
      "   3.78010286e-01  3.87476208e-01  6.32742642e-02 -3.62669371e-01\n",
      "   2.80262068e-01  4.68918959e-01  4.43576173e-01  1.00984818e-01\n",
      "  -2.38659898e-01 -1.62650595e-01 -2.20117830e-01 -3.37318693e-01\n",
      "  -4.96194136e-01 -4.64079386e-01 -2.43330743e-01 -3.36027905e-01\n",
      "  -2.30427974e-01  1.85911073e-01  6.37153412e-01  3.38056952e-01\n",
      "   5.06306228e-01  3.18064587e-01 -4.16506588e-01 -2.44832241e-01\n",
      "  -4.00255111e-01 -1.80590713e-01  4.14705660e-01 -3.43338249e-01\n",
      "  -2.14306944e-01  6.39897492e-01  1.91128731e-01  4.50924796e-01\n",
      "   3.21003367e-01  4.34395416e-01  4.99518312e-01  1.00000000e+00\n",
      "   2.64283877e-01 -4.88113799e-01 -5.24308365e-01 -3.06318027e-01\n",
      "  -5.16193882e-01  1.14186083e-01 -3.91934412e-01 -4.61380897e-01\n",
      "  -3.64456681e-01  3.54876863e-01 -4.57997098e-01 -1.85997962e-01\n",
      "   1.61822134e-01  1.27496540e-01  6.67919283e-02 -8.17372887e-04\n",
      "   2.51225177e-01  9.07001712e-02  2.25949098e-01  2.22683784e-01\n",
      "   2.95608305e-01 -2.08861367e-01 -1.44787583e-01 -4.32763907e-01\n",
      "   1.69804925e-01  9.74186136e-02  1.53985556e-01  1.67772587e-01\n",
      "   1.64652951e-01 -5.29206729e-01  7.26199478e-02 -1.23670819e-01\n",
      "   1.39009684e-01  1.45345307e-01 -1.35650070e-01 -2.19816421e-01\n",
      "  -1.37101472e-01 -2.05883504e-01 -3.23807843e-01 -3.39252552e-01\n",
      "  -3.52332749e-01 -1.31972218e-01  6.58171286e-01  4.06394908e-01\n",
      "  -8.28469167e-02  6.37129348e-01  2.56520848e-01  5.30695687e-01\n",
      "   4.97566397e-01  5.61749418e-01]\n",
      " [-9.18980522e-02 -2.93396242e-01 -4.71095507e-01  1.12445255e-01\n",
      "  -1.85037233e-01 -1.47460409e-01 -2.91158302e-01 -2.07021223e-01\n",
      "  -2.46432762e-01 -2.25739115e-01 -8.04778358e-02  2.01232565e-02\n",
      "  -1.31658970e-01  1.05133598e-01 -4.94753413e-01  8.72673423e-02\n",
      "  -2.30017378e-01 -5.30482912e-01 -1.12253347e-01 -3.57332987e-01\n",
      "  -4.67755125e-01 -2.81800157e-01  4.91621866e-03 -1.48856912e-02\n",
      "  -4.20882941e-01 -4.07569277e-01 -4.28236591e-01 -3.12660437e-01\n",
      "  -7.09385561e-02  3.21759079e-02 -4.59368915e-02 -2.71070304e-01\n",
      "  -7.72291855e-02  2.60573635e-01 -4.57878913e-01 -7.11287297e-03\n",
      "   5.23742711e-02  4.95707665e-03  3.02873402e-02 -5.31959617e-05\n",
      "   2.07526549e-01  1.15502753e-01  8.98177087e-02  1.51138557e-01\n",
      "   4.01931272e-01  4.14285686e-01 -1.91958287e-01 -1.06562850e-01\n",
      "   9.44040807e-02  2.34316475e-01  9.90115760e-02 -3.52543307e-01\n",
      "  -3.30318153e-01 -1.79474270e-01 -1.07496944e-01 -5.90337011e-02\n",
      "  -5.33989564e-01 -1.42948004e-01 -2.70232562e-01 -1.32056253e-01\n",
      "  -1.44937191e-01  4.36200345e-02  3.81916870e-01  1.31995421e-01\n",
      "   3.05464755e-01  2.66761019e-01 -2.46769673e-01 -3.63727467e-01\n",
      "  -7.32335675e-02 -1.56480934e-01  4.44369912e-02 -2.59685179e-01\n",
      "  -3.67042912e-01  8.19917447e-02  4.86137777e-02  1.10426524e-01\n",
      "  -3.32473123e-03  5.66781878e-02  9.11922993e-02  2.64283877e-01\n",
      "   1.00000000e+00  9.32003906e-02  2.93913459e-02  7.63784338e-02\n",
      "  -6.66848999e-03  3.61494127e-01 -1.55645270e-02  1.08633243e-01\n",
      "  -6.25949388e-02  2.37391494e-01 -1.05299955e-01  1.46502410e-02\n",
      "   5.34137241e-01  1.91708622e-01  2.32634443e-01  3.14060956e-01\n",
      "   4.80508590e-01  2.33503075e-01  4.63787043e-01  4.07968002e-01\n",
      "   6.26930306e-01 -7.73794021e-02  4.93925464e-02 -2.21698707e-01\n",
      "   1.76710734e-01  3.49296472e-01  1.90992992e-01  2.62660348e-01\n",
      "   2.69141995e-01 -3.43656463e-01  1.82615299e-01  6.01251197e-02\n",
      "   1.62139191e-01  1.51052448e-01  1.38379034e-01 -4.88741708e-01\n",
      "  -4.72223912e-01 -4.75188437e-01 -2.56465345e-01 -1.24326163e-01\n",
      "  -4.90867885e-01 -4.74132719e-01  9.60555871e-02 -9.82131605e-02\n",
      "  -5.10724380e-01  4.45355958e-02  4.08718761e-02  1.77940509e-02\n",
      "   8.85951849e-02  1.90351444e-01]\n",
      " [ 2.45077243e-01  3.08533120e-01  3.11154280e-02 -3.02221434e-01\n",
      "   1.17198388e-01  2.81298333e-01  2.30590775e-01  1.62754887e-01\n",
      "   1.10734731e-01  2.19395255e-01 -4.69124131e-01  1.56300758e-01\n",
      "   3.77884570e-01 -1.14068543e-01  1.92950294e-01 -2.25178137e-01\n",
      "   2.44873527e-01  1.15447181e-01 -1.41762302e-01  1.72157149e-01\n",
      "   2.13738043e-02  2.32280135e-01 -2.19386216e-01 -2.54126027e-01\n",
      "   1.09199324e-01  1.56416671e-01  5.89442440e-02  2.58623423e-01\n",
      "  -4.48911685e-01 -3.28087369e-01 -4.80649085e-01  3.07101922e-01\n",
      "   2.48525656e-01 -2.89303724e-01  1.84665509e-01 -4.61868747e-01\n",
      "  -2.79620704e-01 -5.07394574e-01 -5.38159507e-01 -6.31226207e-01\n",
      "  -2.56433409e-01 -4.80799011e-01 -4.56457766e-01 -4.53799924e-01\n",
      "  -3.44474689e-01 -3.84299174e-01 -4.36743982e-02  3.81825628e-01\n",
      "  -3.27145342e-01 -4.85409452e-01 -4.95591170e-01  1.59338719e-01\n",
      "   2.72843841e-01  2.67528463e-01  2.97700116e-01  4.44352956e-01\n",
      "   3.03174398e-01  3.18644698e-01  3.33681157e-01  5.35242868e-01\n",
      "   1.37261658e-01 -1.41113708e-01 -3.25622014e-01 -2.86732026e-01\n",
      "  -3.40270196e-01 -3.01461519e-01  3.92294829e-01 -5.16769249e-02\n",
      "   4.49324149e-01  1.32545687e-01 -4.10172053e-01  1.60577048e-01\n",
      "   1.70865243e-01 -4.98302238e-01 -3.13209081e-01 -5.33402191e-01\n",
      "  -4.40923678e-01 -3.62843523e-01 -4.19550211e-01 -4.88113799e-01\n",
      "   9.32003906e-02  1.00000000e+00  8.24525217e-01  4.88773474e-01\n",
      "   8.17603779e-01  1.36688528e-01  5.84477295e-01  8.42895122e-01\n",
      "   6.54759600e-01 -2.69624362e-01  5.82964879e-01  3.59933673e-01\n",
      "   1.78765941e-01 -1.59799626e-01  1.50279279e-01  3.91984470e-01\n",
      "  -6.32903961e-02 -8.73586833e-02 -1.30156949e-01 -7.04474917e-02\n",
      "  -3.41589497e-02 -2.68642776e-03  1.82696466e-01  2.79932230e-01\n",
      "  -3.30773928e-01 -2.04183591e-02 -2.06433210e-01 -1.77897010e-01\n",
      "  -1.78948416e-01  2.63859107e-01 -3.86539594e-02  4.30328113e-02\n",
      "  -2.32642907e-01 -2.22550569e-01  1.12323483e-01  1.53152566e-01\n",
      "  -1.14784865e-01  1.66711273e-01  3.02894873e-01  2.97792490e-01\n",
      "   2.29309016e-01  8.50293591e-02 -4.49546379e-01 -4.13967948e-01\n",
      "  -3.12074407e-02 -5.18520347e-01 -3.98728344e-01 -4.94368656e-01\n",
      "  -4.69034027e-01 -5.04599853e-01]\n",
      " [ 3.19520967e-01  2.68854502e-01  7.64632635e-02 -3.96079785e-01\n",
      "   1.38248867e-01  3.29872626e-01  3.12957072e-01  1.75780366e-01\n",
      "   1.66751884e-01  3.08225046e-01 -5.25706435e-01  6.64606781e-02\n",
      "   3.56201102e-01 -2.75579512e-01  2.14080787e-01 -3.03276189e-01\n",
      "   2.95954163e-01  1.69505767e-01 -3.29798819e-01  1.70040000e-01\n",
      "   7.83147299e-02  1.49118685e-01 -4.07799702e-01 -3.65823904e-01\n",
      "   1.68872954e-01  3.13633330e-01 -4.72629761e-02  3.21615257e-01\n",
      "  -3.98992776e-01 -4.42333761e-01 -5.18671998e-01  3.22038938e-01\n",
      "   3.20652838e-01 -2.72868882e-01  2.00208736e-01 -5.18031706e-01\n",
      "  -3.79344075e-01 -5.80326747e-01 -6.08332858e-01 -6.15642869e-01\n",
      "  -2.91985915e-01 -4.38373233e-01 -4.72933110e-01 -4.35929930e-01\n",
      "  -3.67154994e-01 -4.24667240e-01  5.02198365e-02  3.83185150e-01\n",
      "  -3.58001156e-01 -4.68344231e-01 -3.64910202e-01  9.91646908e-02\n",
      "   4.04541740e-01  4.61143691e-01  3.76934784e-01  5.71255226e-01\n",
      "   3.80541655e-01  3.54132315e-01  2.90470396e-01  4.25520719e-01\n",
      "   1.58053145e-01 -1.65838225e-01 -3.53516049e-01 -2.78202301e-01\n",
      "  -3.12087835e-01 -2.29940348e-01  4.10031019e-01  6.67259287e-02\n",
      "   4.52670466e-01  1.65274514e-01 -5.06301371e-01  1.52001001e-01\n",
      "   1.56904806e-01 -5.20897687e-01 -3.01046854e-01 -4.63832183e-01\n",
      "  -4.92362271e-01 -4.06264803e-01 -4.98451119e-01 -5.24308365e-01\n",
      "   2.93913459e-02  8.24525217e-01  1.00000000e+00  4.02428557e-01\n",
      "   9.42366109e-01 -1.29972131e-01  4.67903586e-01  9.25545430e-01\n",
      "   6.04717222e-01 -2.85002888e-01  5.77747144e-01  2.75293003e-01\n",
      "   9.63634920e-02 -1.96569514e-01  3.29999880e-03  3.08115234e-01\n",
      "   1.97520976e-02 -9.72980659e-02 -8.05817760e-02 -7.69190476e-02\n",
      "   2.67062356e-02 -8.15899069e-02  5.40889977e-02  3.97675767e-01\n",
      "  -3.06285877e-01  1.26857886e-02 -1.37182921e-01 -4.40236671e-02\n",
      "  -8.09034333e-02  2.90637676e-01 -6.53648054e-02  1.36697695e-01\n",
      "  -2.07972059e-01 -1.83362430e-01  1.91054157e-01  1.99309059e-01\n",
      "  -5.41918078e-02  9.97674155e-02  4.57790414e-01  3.52651756e-01\n",
      "   1.85687294e-01  2.13886276e-01 -4.60314968e-01 -4.62129793e-01\n",
      "   2.69565322e-02 -5.58785379e-01 -4.21487610e-01 -4.32413449e-01\n",
      "  -4.86316581e-01 -5.12795882e-01]\n",
      " [ 1.31786171e-01  1.63409013e-01  7.35251223e-02 -3.01442692e-01\n",
      "   6.39489134e-02  1.94003146e-01  2.42333016e-01  1.80598383e-01\n",
      "   9.28477542e-02  2.05866663e-01 -4.87916097e-01  1.06901241e-01\n",
      "   2.74351559e-01 -1.37667115e-02  4.28448544e-02 -1.51550617e-01\n",
      "   2.87656558e-01 -6.66792743e-02 -1.35866916e-01  2.21275106e-03\n",
      "   8.51054128e-02  1.75983655e-01 -1.61633524e-01 -2.33237940e-01\n",
      "   6.23439373e-02  7.30191963e-02 -8.79419114e-03  1.91910449e-01\n",
      "  -2.99713788e-01 -3.70386818e-01 -4.62225915e-01  1.84590061e-01\n",
      "   1.57244850e-01 -1.76677208e-01  1.58169170e-01 -4.27353981e-01\n",
      "  -2.56969611e-01 -3.70291975e-01 -4.95348854e-01 -4.82288837e-01\n",
      "  -2.94535492e-01 -3.48035147e-01 -4.42410124e-01 -4.06031408e-01\n",
      "  -2.90066733e-01 -3.09812194e-01  1.59308686e-01  4.55380666e-01\n",
      "  -2.16163418e-01 -3.51547993e-01 -3.54822443e-01  2.28854378e-01\n",
      "   2.14273632e-01  3.15595711e-01  5.27224688e-01  4.39001464e-01\n",
      "   1.36222802e-02  3.74996453e-01  3.44153896e-01  3.96004778e-01\n",
      "   3.40433667e-01 -9.68317212e-02 -1.05234671e-01 -1.29744276e-01\n",
      "  -1.89101051e-01 -1.52681319e-01  2.47879150e-01  4.89751727e-02\n",
      "   4.03231926e-01  6.62194385e-02 -2.82967572e-01  7.50579129e-02\n",
      "   2.02683272e-01 -3.35873656e-01 -3.90624124e-01 -4.51845775e-01\n",
      "  -3.17056075e-01 -2.07742353e-01 -3.06383670e-01 -3.06318027e-01\n",
      "   7.63784338e-02  4.88773474e-01  4.02428557e-01  1.00000000e+00\n",
      "   4.21097976e-01  8.84702679e-03  8.55181648e-01  4.59993247e-01\n",
      "   2.47816940e-01 -1.34557242e-01  5.09197630e-01  2.92713268e-01\n",
      "  -4.13344932e-02 -6.45619606e-02 -1.02755695e-01  1.74734141e-01\n",
      "   3.42003746e-01  2.08981970e-01  1.29651818e-01  2.20199009e-01\n",
      "  -9.26692711e-03  4.13151712e-02  2.12607348e-03  7.57052499e-02\n",
      "  -3.11652104e-01  6.86221178e-02 -3.15798563e-01 -2.77250830e-01\n",
      "  -2.67974437e-01  8.39026418e-02 -1.09501536e-01 -6.40715526e-02\n",
      "  -2.66264131e-01 -2.85189294e-01 -2.65657556e-02  4.03249826e-02\n",
      "  -1.61922616e-01  3.82410977e-02  2.94878425e-01  1.94169824e-01\n",
      "   1.25645268e-01  9.52808541e-02 -4.12210718e-01 -3.70051634e-01\n",
      "  -4.97819256e-02 -2.63147741e-01 -1.84524314e-01 -5.03173136e-01\n",
      "  -4.63915565e-01 -2.61867644e-01]\n",
      " [ 3.44663430e-01  2.47860691e-01  1.38178850e-01 -4.07557239e-01\n",
      "   6.39752294e-02  3.41032628e-01  4.25069558e-01  2.58687207e-01\n",
      "   2.72967397e-01  3.42394770e-01 -5.46255781e-01  1.36591953e-01\n",
      "   4.34703472e-01 -3.11326524e-01  1.60318249e-01 -3.21520883e-01\n",
      "   3.75055335e-01  2.32168681e-01 -3.79105877e-01  1.21972942e-01\n",
      "   2.09849965e-01  2.09305499e-01 -3.98662419e-01 -4.36111156e-01\n",
      "   2.76101185e-01  3.33500802e-01  1.11527582e-01  3.47546154e-01\n",
      "  -4.07175665e-01 -4.83608030e-01 -5.93324411e-01  3.86845578e-01\n",
      "   3.61335230e-01 -2.39002548e-01  2.80198682e-01 -5.98122107e-01\n",
      "  -4.04453708e-01 -6.55964499e-01 -6.27336721e-01 -6.25996606e-01\n",
      "  -3.27360268e-01 -4.19211088e-01 -5.59365521e-01 -4.62956545e-01\n",
      "  -3.63865418e-01 -3.62287887e-01  7.24359433e-02  3.53459127e-01\n",
      "  -3.78148435e-01 -4.75779763e-01 -4.73923850e-01  1.36859943e-01\n",
      "   4.62553336e-01  4.53294185e-01  4.29043107e-01  6.14428560e-01\n",
      "   3.20212826e-01  4.03024448e-01  2.46904385e-01  4.27170649e-01\n",
      "   1.45671650e-01 -3.29316825e-01 -4.44294933e-01 -3.44918875e-01\n",
      "  -3.84098882e-01 -3.17491131e-01  4.64597906e-01  1.30097176e-01\n",
      "   4.93431958e-01  2.03241254e-01 -5.52865378e-01  1.54256041e-01\n",
      "   2.10078656e-01 -6.11761715e-01 -3.63107790e-01 -5.56277987e-01\n",
      "  -5.22728032e-01 -4.21374946e-01 -5.16481946e-01 -5.16193882e-01\n",
      "  -6.66848999e-03  8.17603779e-01  9.42366109e-01  4.21097976e-01\n",
      "   1.00000000e+00 -9.59808617e-02  5.01349749e-01  9.81858893e-01\n",
      "   6.27502750e-01 -3.25523498e-01  5.25826746e-01  2.75265120e-01\n",
      "   4.95180358e-02 -1.72048211e-01 -7.53345720e-02  3.06687322e-01\n",
      "  -5.34012767e-02 -1.58278743e-01 -9.82798740e-02 -4.93831218e-02\n",
      "  -9.90957073e-02 -1.24665121e-01  1.04385937e-01  3.99948588e-01\n",
      "  -2.59784538e-01  9.08345544e-02 -1.73431172e-01 -1.14575389e-01\n",
      "  -1.26986057e-01  3.63506484e-01  1.34441417e-02  5.97199795e-02\n",
      "  -2.11832117e-01 -2.24792042e-01  1.42443489e-01  2.24309553e-01\n",
      "   4.71576050e-02  1.51716724e-01  5.76233686e-01  4.03674383e-01\n",
      "   2.61707111e-01  2.08005668e-01 -4.83610913e-01 -4.94482435e-01\n",
      "   5.31907858e-02 -5.86873763e-01 -4.21742792e-01 -4.93904293e-01\n",
      "  -5.09289941e-01 -4.71727733e-01]\n",
      " [-3.11081548e-01 -3.01536200e-01 -3.99577965e-01  1.90263677e-01\n",
      "  -2.68102898e-01 -3.12438945e-01 -3.65434962e-01 -2.28120250e-01\n",
      "  -3.22404757e-01 -4.08275606e-01  1.17364888e-01 -1.24480924e-01\n",
      "  -2.89910321e-01  2.10021096e-01 -4.64038298e-01  3.75702211e-02\n",
      "  -3.65691388e-01 -4.53670367e-01 -7.55512145e-02 -4.30030952e-01\n",
      "  -3.64357461e-01 -4.85321824e-02  3.30218728e-02 -1.34614227e-01\n",
      "  -4.86021065e-01 -4.82716143e-01 -1.37907879e-01 -3.70166251e-01\n",
      "  -2.20816538e-01  2.71314787e-01  7.40690616e-02 -3.11966938e-01\n",
      "  -2.80290124e-01  6.25450963e-02 -3.21568912e-01  2.41071167e-01\n",
      "   3.17620011e-01  2.10212216e-01  2.41184734e-01  4.45668827e-02\n",
      "   1.73298864e-01  4.11060553e-02  8.57137533e-02  1.46927819e-01\n",
      "   7.55918353e-02  1.13973738e-01 -3.02903840e-01 -1.34726338e-01\n",
      "   1.63786425e-01  6.71602175e-02  1.69907890e-02 -2.83322559e-01\n",
      "  -3.09879663e-01 -3.72573433e-01 -2.19938391e-01 -1.99883530e-01\n",
      "  -4.41014916e-01 -1.19988358e-01 -2.30563882e-01 -3.00323543e-01\n",
      "  -2.74623286e-02 -1.16132056e-01  1.73960372e-01  6.26682490e-02\n",
      "   2.65840489e-01  2.97802391e-01 -2.68605188e-01 -2.97231906e-01\n",
      "  -2.62215588e-01 -2.23838861e-01  3.41279825e-01  4.10324047e-02\n",
      "  -2.23059812e-01  2.30307492e-01  2.28036251e-01  1.45136947e-01\n",
      "   2.99784480e-01  1.63706481e-01  3.77947184e-01  1.14186083e-01\n",
      "   3.61494127e-01  1.36688528e-01 -1.29972131e-01  8.84702679e-03\n",
      "  -9.59808617e-02  1.00000000e+00  7.26194324e-02 -2.30479891e-02\n",
      "   2.07313548e-01  1.36422029e-01 -1.14935530e-01  1.86058934e-01\n",
      "   6.18513557e-01  4.65119938e-01  5.04660754e-01  3.62390684e-01\n",
      "   3.10138928e-01  4.58028446e-01  3.61373357e-01  5.09409852e-01\n",
      "   3.56926858e-01  2.19955524e-01  1.94540956e-01 -2.56414173e-01\n",
      "   1.32514483e-01  1.98606285e-02  1.99688307e-01  7.30036968e-02\n",
      "   1.53896963e-01 -2.20409993e-01  3.17042230e-01 -1.99020210e-01\n",
      "   2.85201721e-01  2.14843857e-01 -1.37643767e-01 -3.95122869e-01\n",
      "  -2.79529610e-01 -3.17889923e-01 -3.57878454e-01 -3.13184743e-01\n",
      "  -3.42613053e-01 -4.79499607e-01 -3.67284178e-02  7.13562262e-02\n",
      "  -3.68997789e-01  3.30647355e-01  3.30662347e-02  7.67673707e-03\n",
      "   1.78901025e-01  3.31686479e-01]\n",
      " [ 1.12419948e-01  2.48291664e-01  8.86453195e-02 -3.05072246e-01\n",
      "   1.57350004e-01  1.56779231e-01  1.50161249e-01  1.37783790e-01\n",
      "   9.83055234e-02  1.69344686e-01 -4.76170288e-01  7.07323607e-02\n",
      "   2.61997495e-01  4.47523330e-02  1.30862585e-01 -1.28193683e-01\n",
      "   1.90437473e-01 -1.86986001e-02 -3.92912628e-02 -7.85225428e-03\n",
      "   5.96307108e-02  2.44133277e-01 -1.60750881e-01 -2.13089462e-01\n",
      "   3.49108971e-02  6.03511509e-02  8.62191806e-02  1.67482579e-01\n",
      "  -3.79899809e-01 -2.87589635e-01 -4.75717488e-01  2.21508289e-01\n",
      "   1.28286460e-01 -3.90227781e-01  2.29974834e-01 -3.77540751e-01\n",
      "  -1.98453746e-01 -3.49895429e-01 -4.95878678e-01 -5.76806465e-01\n",
      "  -3.91217444e-01 -4.30699841e-01 -4.52998202e-01 -4.93583527e-01\n",
      "  -3.64907725e-01 -3.80009553e-01  3.15044792e-02  3.89927160e-01\n",
      "  -1.90199160e-01 -3.81633244e-01 -4.79955094e-01  2.59450529e-01\n",
      "   2.69453014e-01  2.34062558e-01  4.72838748e-01  4.38237057e-01\n",
      "   2.38552551e-01  4.07366695e-01  3.79276961e-01  4.98416594e-01\n",
      "   3.01781679e-01 -1.07696292e-01 -2.69221256e-01 -2.21745277e-01\n",
      "  -2.62028843e-01 -2.21364733e-01  2.91006475e-01  1.98827389e-02\n",
      "   3.76872993e-01  5.77248037e-02 -3.20110995e-01  1.39111143e-01\n",
      "   2.07117694e-01 -4.07306552e-01 -3.69142470e-01 -4.92110735e-01\n",
      "  -3.55337507e-01 -2.73919079e-01 -3.30321272e-01 -3.91934412e-01\n",
      "  -1.55645270e-02  5.84477295e-01  4.67903586e-01  8.55181648e-01\n",
      "   5.01349749e-01  7.26194324e-02  1.00000000e+00  5.23745641e-01\n",
      "   4.40484742e-01 -1.95317093e-01  7.38979577e-01  3.05152139e-01\n",
      "   5.23242658e-02  1.59051952e-01 -4.31769960e-02  2.29399266e-01\n",
      "   2.22426999e-01  2.19500088e-01  1.72473595e-01  2.95901933e-01\n",
      "  -7.85687827e-02  2.73819700e-01  1.30603687e-01  7.06496068e-02\n",
      "  -3.58985123e-01 -6.02271821e-02 -3.25149905e-01 -3.38128630e-01\n",
      "  -3.04645995e-01  1.38249472e-01 -4.73133935e-02 -1.10258845e-01\n",
      "  -2.77858675e-01 -2.96394036e-01 -5.26262938e-02  9.88816573e-02\n",
      "  -1.25504795e-01  1.36436243e-01  2.64349258e-01  2.14174682e-01\n",
      "   2.28254065e-01  8.41414968e-02 -3.95493255e-01 -3.61397623e-01\n",
      "  -1.62062148e-02 -2.91981012e-01 -2.12272483e-01 -5.15285310e-01\n",
      "  -4.45976662e-01 -3.12885892e-01]\n",
      " [ 3.16712447e-01  2.17981172e-01  6.38376798e-02 -3.54463857e-01\n",
      "   1.32728379e-02  3.27547838e-01  3.71171565e-01  2.29673203e-01\n",
      "   2.22265967e-01  2.90386533e-01 -5.40498392e-01  1.41092205e-01\n",
      "   4.34186584e-01 -2.78887187e-01  9.70522182e-02 -3.00035374e-01\n",
      "   3.36769817e-01  1.64849384e-01 -3.78745904e-01  8.86182484e-02\n",
      "   1.36163403e-01  1.41790178e-01 -3.96207080e-01 -4.38147287e-01\n",
      "   2.26926033e-01  2.63292513e-01  5.60345244e-02  3.03472937e-01\n",
      "  -4.21881464e-01 -4.66660971e-01 -5.79235503e-01  3.62136672e-01\n",
      "   3.34717262e-01 -1.86827659e-01  2.22821830e-01 -5.91162459e-01\n",
      "  -4.05322079e-01 -6.47581987e-01 -6.04458302e-01 -6.10470367e-01\n",
      "  -2.64391895e-01 -3.75808608e-01 -5.24079108e-01 -4.38829932e-01\n",
      "  -3.01391017e-01 -2.87958625e-01  2.05252855e-02  3.34258431e-01\n",
      "  -3.37695553e-01 -4.38786789e-01 -4.46154884e-01  9.30839418e-02\n",
      "   4.13970742e-01  4.14521544e-01  4.22393991e-01  6.11311640e-01\n",
      "   2.42811762e-01  3.54561912e-01  2.01151718e-01  4.20559829e-01\n",
      "   1.19249898e-01 -3.16713979e-01 -3.71582291e-01 -2.99780432e-01\n",
      "  -3.29158864e-01 -2.69891941e-01  4.09562316e-01  4.71207245e-02\n",
      "   4.74076746e-01  1.60553533e-01 -5.41823161e-01  1.21470735e-01\n",
      "   1.55840632e-01 -5.87299790e-01 -3.55672262e-01 -5.38330318e-01\n",
      "  -5.18545571e-01 -4.09087509e-01 -4.94141856e-01 -4.61380897e-01\n",
      "   1.08633243e-01  8.42895122e-01  9.25545430e-01  4.59993247e-01\n",
      "   9.81858893e-01 -2.30479891e-02  5.23745641e-01  1.00000000e+00\n",
      "   5.74466056e-01 -2.81955769e-01  5.07605105e-01  2.94451441e-01\n",
      "   1.05312521e-01 -1.23109786e-01 -4.09056092e-02  3.07777768e-01\n",
      "   3.34477287e-02 -1.20957347e-01 -3.39738264e-02  1.74603524e-02\n",
      "  -1.17815404e-02 -1.81179270e-01  9.49118154e-02  3.55932510e-01\n",
      "  -2.58282513e-01  1.33636412e-01 -1.50608030e-01 -7.94177842e-02\n",
      "  -9.59853087e-02  2.79939485e-01  3.18050035e-02  6.06808656e-02\n",
      "  -1.95573452e-01 -2.09092416e-01  1.53480283e-01  1.51382071e-01\n",
      "  -5.18413581e-02  7.68988667e-02  5.21435453e-01  3.70791186e-01\n",
      "   1.78469974e-01  1.34692579e-01 -4.34423396e-01 -4.81276466e-01\n",
      "  -3.02850898e-02 -5.74506407e-01 -4.36082174e-01 -4.69215087e-01\n",
      "  -4.94438728e-01 -4.53855343e-01]\n",
      " [-1.08953144e-01  2.93831460e-01  3.73531535e-02 -1.92917718e-01\n",
      "  -7.98924905e-02 -7.22002740e-02  2.10777738e-02 -4.94863765e-02\n",
      "  -1.21444777e-01 -1.15454331e-01 -2.24552967e-01 -5.74299399e-02\n",
      "   1.49595889e-01  8.69229397e-02  1.14412261e-01 -1.17650484e-01\n",
      "   1.83197675e-02 -5.37937192e-02  5.95112862e-02  1.18777867e-02\n",
      "   4.61344198e-02  3.48455109e-01 -3.39099686e-02 -1.16331220e-01\n",
      "  -9.63191324e-02 -4.12364539e-02  2.07645347e-01  9.85642931e-02\n",
      "  -3.53442250e-01 -1.67928840e-02 -2.81782767e-01  1.09298275e-01\n",
      "  -1.03392687e-01 -4.61291524e-01  2.00219593e-01 -1.80039326e-01\n",
      "   6.34964707e-02 -1.57760181e-01 -2.86370385e-01 -4.46706955e-01\n",
      "  -2.44233292e-01 -4.57216553e-01 -2.87572529e-01 -2.79020044e-01\n",
      "  -3.56948164e-01 -4.20969247e-01 -1.39896386e-01  2.10399180e-01\n",
      "  -6.46650324e-02 -2.98339713e-01 -4.39356581e-01  3.43950483e-02\n",
      "   2.63495415e-02 -9.09356380e-02  1.17963062e-01  6.12785521e-02\n",
      "   2.23846732e-01  1.45206303e-01  2.80255650e-01  1.54751027e-01\n",
      "   2.67090276e-01 -1.71048729e-01 -2.70652857e-01 -2.93506831e-01\n",
      "  -2.26320512e-01 -1.58350122e-01  3.44373024e-02 -2.16532137e-01\n",
      "   3.60243602e-02  5.65597967e-04 -1.23640173e-01  2.26467898e-01\n",
      "   1.14356189e-01 -2.93610513e-01 -1.04257956e-01 -3.99414121e-01\n",
      "  -2.10330979e-01 -2.63596786e-01 -1.82194808e-01 -3.64456681e-01\n",
      "  -6.25949388e-02  6.54759600e-01  6.04717222e-01  2.47816940e-01\n",
      "   6.27502750e-01  2.07313548e-01  4.40484742e-01  5.74466056e-01\n",
      "   1.00000000e+00 -2.05071809e-01  5.80727936e-01  3.46857023e-01\n",
      "   4.65587708e-01  1.15454635e-01  3.68150580e-01  6.35636996e-01\n",
      "  -2.41554506e-02  2.19399096e-01 -2.68864176e-02  1.45092362e-01\n",
      "   1.58801079e-02  3.43379294e-01  4.15860962e-01  1.59267666e-01\n",
      "  -2.52633654e-01 -2.13075221e-01 -7.13998225e-02 -1.72582535e-01\n",
      "  -1.05589181e-01  1.45615120e-01  1.35293696e-01 -9.36681139e-02\n",
      "  -3.57025982e-02 -3.94599334e-02 -7.42119605e-02  1.12282498e-01\n",
      "   3.49983335e-02  1.48209010e-01  3.14906356e-02 -8.00594768e-02\n",
      "   1.39435228e-01 -2.75965202e-02 -3.53774409e-01 -2.01035802e-01\n",
      "   3.17419734e-02 -2.49600199e-01 -2.55721805e-01 -3.85167316e-01\n",
      "  -2.02476495e-01 -1.90866475e-01]\n",
      " [-2.81080331e-01 -1.70342556e-01 -2.24027516e-01  3.26788492e-01\n",
      "  -2.08259746e-01 -2.42533536e-01 -3.30507474e-01 -2.37095507e-01\n",
      "  -3.67773006e-01 -3.35003151e-01  1.74123949e-01 -1.22374274e-01\n",
      "  -3.32166243e-01  2.04523224e-01 -2.39269980e-01  1.35382988e-01\n",
      "  -2.40462204e-01 -3.23124452e-01  1.55345500e-01 -2.07505108e-01\n",
      "  -3.10090947e-01 -2.87014539e-01  1.61415303e-01  1.13693079e-01\n",
      "  -2.97215867e-01 -3.22570859e-01 -2.53661140e-01 -3.05921200e-01\n",
      "   1.21899421e-01  2.12587574e-01  2.93145856e-01 -2.05921400e-01\n",
      "  -3.16164413e-01  1.94122289e-01 -2.59076370e-01  2.80625841e-01\n",
      "   3.07573071e-01  3.32425621e-01  3.40001017e-01  2.75752416e-01\n",
      "   3.71282044e-01  2.42915066e-01  4.17609582e-01  3.64217418e-01\n",
      "   2.69624466e-01  2.19292599e-01 -1.30856010e-01 -2.57375636e-01\n",
      "   2.58597346e-01  2.58856874e-01  2.54117412e-01 -1.76297056e-01\n",
      "  -3.30260780e-01 -2.62002513e-01 -6.01910377e-02 -3.03854567e-01\n",
      "  -3.42112026e-01 -3.55064706e-01 -1.71412990e-01 -2.60986627e-01\n",
      "  -1.08283916e-01  1.69439295e-01  3.90627764e-01  3.67696481e-01\n",
      "   4.12931945e-01  2.38307539e-01 -3.89194131e-01 -3.01551674e-01\n",
      "  -3.10370887e-01 -1.83996936e-01  2.75905102e-01 -2.33543244e-01\n",
      "  -2.73969352e-01  3.11320825e-01  1.64828847e-01  3.19920230e-01\n",
      "   1.73921953e-01  1.75410069e-01  2.57964392e-01  3.54876863e-01\n",
      "   2.37391494e-01 -2.69624362e-01 -2.85002888e-01 -1.34557242e-01\n",
      "  -3.25523498e-01  1.36422029e-01 -1.95317093e-01 -2.81955769e-01\n",
      "  -2.05071809e-01  1.00000000e+00 -1.56242781e-01  7.18788792e-03\n",
      "   2.25129865e-01  2.05576651e-01  2.56868045e-01  3.70052224e-02\n",
      "   3.24875182e-01  2.63814582e-01  2.88851978e-01  2.72165132e-01\n",
      "   3.70223916e-01  1.24327980e-02 -8.52208718e-02 -3.31396073e-01\n",
      "   7.15939059e-02 -6.42459552e-02  9.78891366e-02  1.04585992e-01\n",
      "   8.52510134e-02 -3.76368504e-01 -1.88936138e-02 -5.68316722e-02\n",
      "   6.91181787e-02  8.75473300e-02 -1.21819300e-01 -2.75250373e-01\n",
      "  -3.06748660e-01 -3.24228710e-01 -4.17064615e-01 -3.25585163e-01\n",
      "  -4.07771775e-01 -1.87659418e-01  2.16491826e-01  1.58930820e-01\n",
      "  -2.44847348e-01  3.22854482e-01  1.48103962e-01  2.54280938e-01\n",
      "   2.11697904e-01  1.69145287e-01]\n",
      " [ 2.09702647e-02  4.36984832e-01  2.11697011e-01 -1.37437486e-01\n",
      "   1.50485835e-01  1.46580003e-01  6.71775915e-02  8.00267598e-02\n",
      "   1.20998094e-02  8.61527974e-02 -4.40163017e-01 -1.37409730e-02\n",
      "   2.50039078e-01  7.13538353e-02  3.41606220e-01 -1.86080052e-01\n",
      "   9.79706158e-02  9.06216394e-02  7.66887617e-02  1.31602236e-01\n",
      "   8.89860193e-02  3.42542764e-01 -1.63079438e-01 -1.16893036e-01\n",
      "   8.17136410e-02  9.68027525e-02  7.69004881e-02  1.83929089e-01\n",
      "  -3.92632141e-01 -2.01258654e-01 -3.41589172e-01  2.55752901e-01\n",
      "   1.04351529e-02 -5.33624510e-01  3.10452405e-01 -2.37508384e-01\n",
      "  -9.22200325e-02 -2.23156952e-01 -3.82549830e-01 -5.07995318e-01\n",
      "  -2.33682048e-01 -4.64294793e-01 -3.21499672e-01 -3.83558622e-01\n",
      "  -4.93068739e-01 -5.52998734e-01 -2.98328035e-02  3.93725758e-01\n",
      "  -1.59588043e-01 -4.18841271e-01 -4.34887079e-01  1.91200285e-01\n",
      "   1.84641830e-01  1.15108043e-01  4.98449125e-01  3.10935252e-01\n",
      "   4.47323107e-01  2.38363397e-01  3.91449532e-01  4.57163611e-01\n",
      "   3.34747026e-01 -4.77947580e-02 -1.81099054e-01 -2.30461061e-01\n",
      "  -2.41539441e-01 -2.11105713e-01  1.79325954e-01 -1.23060917e-01\n",
      "   2.56035789e-01  1.05317530e-01 -2.64531744e-01  2.15407400e-01\n",
      "   2.26133136e-01 -3.37691099e-01 -2.77612495e-01 -4.69214500e-01\n",
      "  -2.96064101e-01 -2.39059403e-01 -3.22349687e-01 -4.57997098e-01\n",
      "  -1.05299955e-01  5.82964879e-01  5.77747144e-01  5.09197630e-01\n",
      "   5.25826746e-01 -1.14935530e-01  7.38979577e-01  5.07605105e-01\n",
      "   5.80727936e-01 -1.56242781e-01  1.00000000e+00  4.73816268e-01\n",
      "   2.45207976e-01  2.05368925e-01  1.51837509e-01  2.51622353e-01\n",
      "   1.46188436e-01  2.37344900e-01  1.03418697e-01  2.27904958e-01\n",
      "   1.07567809e-01  3.86851810e-01  1.16581500e-01  1.35898227e-01\n",
      "  -4.44613385e-01 -3.28506829e-01 -2.69644551e-01 -2.80614385e-01\n",
      "  -2.85288034e-01  1.43063046e-01 -1.49706958e-01 -1.15918236e-01\n",
      "  -3.38082881e-01 -2.94276509e-01 -1.25639742e-01  2.15593990e-01\n",
      "  -1.12551979e-01  1.15002637e-01  9.58970175e-02  3.64721885e-02\n",
      "   1.72790303e-01  9.24316812e-02 -4.26227036e-01 -3.30702983e-01\n",
      "   3.81730699e-02 -4.54206587e-01 -2.11532528e-01 -4.00297013e-01\n",
      "  -4.37507015e-01 -4.59162811e-01]\n",
      " [-1.14584426e-01  2.45766641e-01  1.23087458e-01 -2.83665899e-02\n",
      "  -9.47244995e-02 -4.11705174e-02  4.50292680e-02 -5.08305380e-02\n",
      "  -1.79695332e-01 -1.37611199e-01 -2.44500788e-01 -1.15708629e-01\n",
      "   3.95426533e-02  8.83617633e-02  8.98987043e-02  1.23391260e-02\n",
      "   2.87317217e-03  3.91194278e-02 -3.67409482e-02  3.46248228e-02\n",
      "   7.69239584e-02  2.46242233e-01 -1.48918086e-01 -1.20119964e-01\n",
      "   5.25802595e-02 -2.14393499e-02  5.13348002e-02  3.75710464e-02\n",
      "  -2.04290023e-01 -1.37634273e-01 -2.09342159e-01  1.72847854e-01\n",
      "  -1.12802770e-01 -1.31980282e-01  1.14021828e-01 -1.60010588e-01\n",
      "   1.10568030e-02 -1.91457493e-01 -1.82340291e-01 -2.44362359e-01\n",
      "   3.39561176e-03 -1.65272858e-01 -1.82649120e-01 -1.77059718e-01\n",
      "  -2.69940880e-01 -3.47026450e-01  2.05048407e-01  3.41209559e-01\n",
      "   2.37482039e-02 -2.28311647e-01 -1.10208873e-01  1.06651085e-01\n",
      "   4.54399678e-02  1.79368413e-02  2.85392189e-01  1.56966373e-01\n",
      "   7.21379336e-02  4.09450785e-02  1.67938828e-01  1.26156869e-01\n",
      "   3.24095995e-01  1.02206943e-02  5.81028830e-02 -1.55360828e-02\n",
      "  -2.82934204e-02 -2.28061509e-02 -3.81363834e-02 -9.90369081e-02\n",
      "   7.47941733e-02  2.49129705e-01 -1.62447623e-01  1.90067465e-01\n",
      "   1.06379303e-01 -2.10298001e-01 -2.27627858e-01 -3.17241509e-01\n",
      "  -1.45596200e-01 -2.09879836e-01 -2.23161668e-01 -1.85997962e-01\n",
      "   1.46502410e-02  3.59933673e-01  2.75293003e-01  2.92713268e-01\n",
      "   2.75265120e-01  1.86058934e-01  3.05152139e-01  2.94451441e-01\n",
      "   3.46857023e-01  7.18788792e-03  4.73816268e-01  1.00000000e+00\n",
      "   1.98168006e-01  8.37908253e-02  1.23731127e-01  2.25723553e-01\n",
      "   2.08982709e-01  1.66444531e-01  1.08122119e-01  2.03422479e-01\n",
      "   9.83841132e-02  1.56280216e-01  5.44016101e-03  4.67124182e-02\n",
      "  -2.18346311e-01 -1.77422136e-01 -2.14163513e-01 -2.23126095e-01\n",
      "  -2.33849670e-01  9.30800912e-04 -1.34307018e-01 -1.45412844e-01\n",
      "  -2.22658792e-01 -2.13529453e-01 -1.51423537e-01  9.18087998e-02\n",
      "   7.92886299e-02 -3.94592967e-02 -2.71294692e-02 -1.48145116e-01\n",
      "  -3.86378347e-02  9.09799552e-04 -1.91544781e-01 -1.00716377e-01\n",
      "   9.36522288e-02 -2.47516134e-01 -2.05500206e-01 -2.56245420e-01\n",
      "  -3.02128707e-01 -3.21119457e-01]\n",
      " [-4.15359674e-01 -1.95163500e-01 -4.63570081e-01  3.74179015e-01\n",
      "  -4.29004994e-01 -4.18753849e-01 -5.24133511e-01 -3.99804730e-01\n",
      "  -5.02515644e-01 -6.01619391e-01  9.45783058e-02 -2.81169384e-01\n",
      "  -3.15960367e-01  2.59851633e-01 -3.81410690e-01 -9.15432451e-02\n",
      "  -4.95214666e-01 -5.71565275e-01  2.31248594e-02 -4.60679238e-01\n",
      "  -4.95726765e-01 -1.48578662e-01  2.04673995e-02 -7.11991216e-02\n",
      "  -5.89708257e-01 -5.65538595e-01 -2.93533049e-01 -4.24770037e-01\n",
      "  -2.78132984e-01  4.07149173e-01  1.85708857e-01 -3.50495203e-01\n",
      "  -3.99900618e-01 -1.20835352e-01 -3.36404764e-01  3.06117690e-01\n",
      "   4.24259300e-01  3.66623342e-01  2.82826745e-01  7.35455643e-02\n",
      "   2.96957440e-01 -3.47519087e-02  2.59957829e-01  2.50790630e-01\n",
      "   8.43455187e-02  6.73374779e-02 -5.03158110e-01 -1.93384593e-01\n",
      "   3.00556353e-01  1.34470344e-01 -5.96486759e-02 -4.62316073e-01\n",
      "  -4.84071924e-01 -5.35453921e-01 -1.74866529e-01 -3.47961613e-01\n",
      "  -3.42859719e-01 -2.35198438e-01 -2.66678035e-01 -3.46794442e-01\n",
      "  -5.46348546e-02 -8.61303278e-02  3.73551705e-01  6.50349169e-02\n",
      "   3.26969199e-01  3.30911047e-01 -4.37278204e-01 -5.68927898e-01\n",
      "  -3.40114378e-01 -2.95444042e-01  3.37043622e-01 -8.93931381e-02\n",
      "  -3.80089821e-01  2.44293990e-01  3.53156387e-01  1.75061284e-01\n",
      "   2.45342018e-01  1.18758446e-01  3.44281996e-01  1.61822134e-01\n",
      "   5.34137241e-01  1.78765941e-01  9.63634920e-02 -4.13344932e-02\n",
      "   4.95180358e-02  6.18513557e-01  5.23242658e-02  1.05312521e-01\n",
      "   4.65587708e-01  2.25129865e-01  2.45207976e-01  1.98168006e-01\n",
      "   1.00000000e+00  5.41104116e-01  7.20513177e-01  5.27881557e-01\n",
      "   5.03061930e-01  6.29897545e-01  4.53280756e-01  6.44140098e-01\n",
      "   7.38359980e-01  2.69072305e-01  2.95069588e-01 -2.35834276e-01\n",
      "   3.10444065e-02 -1.48404934e-01  3.37598369e-01  2.27820187e-01\n",
      "   2.84473797e-01 -3.29169407e-01  3.68779558e-01 -1.53564305e-01\n",
      "   3.10357853e-01  3.17179920e-01 -1.47735223e-01 -4.01732722e-01\n",
      "  -4.11452862e-01 -4.08780356e-01 -5.43091282e-01 -4.55357728e-01\n",
      "  -4.66255838e-01 -5.86745613e-01  2.39725515e-02  8.46109512e-02\n",
      "  -4.56555364e-01  1.26230293e-01 -9.28670884e-02  1.47576453e-01\n",
      "   2.74640439e-01  2.91160119e-01]\n",
      " [-4.17799417e-01 -2.52264722e-01 -3.96121890e-01  3.16252766e-01\n",
      "  -3.75681895e-01 -4.65980303e-01 -4.43112004e-01 -3.97829716e-01\n",
      "  -4.33639721e-01 -5.64718640e-01  1.79029692e-01 -2.57972440e-01\n",
      "  -3.86938361e-01  1.52623166e-01 -3.79685741e-01  6.41163327e-04\n",
      "  -4.39305424e-01 -4.23032018e-01 -9.04791106e-03 -3.95924347e-01\n",
      "  -3.39593139e-01 -1.91346952e-01  6.59750649e-02 -6.18829298e-02\n",
      "  -3.94330335e-01 -4.69309570e-01 -1.69681468e-01 -4.43540826e-01\n",
      "  -1.06329447e-01  2.48997455e-01  1.48157657e-01 -3.03971931e-01\n",
      "  -3.93634808e-01 -4.34338199e-02 -2.91961117e-01  2.46614991e-01\n",
      "   3.72783606e-01  2.59231034e-01  2.83913861e-01  1.57897112e-01\n",
      "   2.90186935e-01  2.12992639e-01  2.80160796e-01  2.96724983e-01\n",
      "   9.81008326e-02  1.64898170e-01 -3.96408814e-01 -2.21801468e-01\n",
      "   3.89132121e-01  2.31044158e-01  1.28474263e-01 -3.06224736e-01\n",
      "  -3.53385848e-01 -5.42004976e-01 -2.32745166e-01 -4.08445256e-01\n",
      "  -2.98614616e-01 -2.22920603e-01 -2.75425196e-01 -3.18927160e-01\n",
      "  -1.00356353e-01 -6.31909175e-02  2.92555182e-01  1.38038640e-01\n",
      "   3.10392989e-01  3.02089120e-01 -3.71567791e-01 -2.94217651e-01\n",
      "  -3.84291553e-01 -2.70585474e-01  3.60447277e-01  2.77618575e-03\n",
      "  -3.12778917e-01  2.78846460e-01  3.40182484e-01  2.56580317e-01\n",
      "   3.86631662e-01  2.31289422e-01  3.66610881e-01  1.27496540e-01\n",
      "   1.91708622e-01 -1.59799626e-01 -1.96569514e-01 -6.45619606e-02\n",
      "  -1.72048211e-01  4.65119938e-01  1.59051952e-01 -1.23109786e-01\n",
      "   1.15454635e-01  2.05576651e-01  2.05368925e-01  8.37908253e-02\n",
      "   5.41104116e-01  1.00000000e+00  5.57857115e-01  2.03186098e-01\n",
      "   4.66954445e-01  6.40235565e-01  6.06835319e-01  8.02567861e-01\n",
      "   4.14517635e-01  4.89558366e-01  1.58922369e-01 -2.62480000e-01\n",
      "   1.09922310e-01 -1.32958307e-01  2.18079580e-01  8.26027941e-02\n",
      "   1.33606786e-01 -2.44419231e-01  3.24898248e-01 -1.96167715e-01\n",
      "   2.13693129e-01  1.87751100e-01 -1.98715587e-01 -2.87174549e-01\n",
      "  -2.90416257e-01 -2.93192468e-01 -4.91007963e-01 -4.25689244e-01\n",
      "  -3.85582906e-01 -4.75955190e-01  1.76579166e-01  2.70018747e-01\n",
      "  -3.20668363e-01  2.14782834e-01  1.06534116e-01  2.18583693e-01\n",
      "   2.10514340e-01  2.54562862e-01]\n",
      " [-4.38740771e-01 -1.56625053e-01 -4.40978034e-01  3.34356244e-01\n",
      "  -3.36884765e-01 -4.96298995e-01 -5.78216970e-01 -4.56803789e-01\n",
      "  -5.29549950e-01 -6.15887931e-01  1.88717736e-01 -1.98779287e-01\n",
      "  -4.43323151e-01  2.78231211e-01 -3.15717730e-01 -5.18548741e-02\n",
      "  -5.31625214e-01 -4.45183583e-01  1.19292513e-01 -3.23376833e-01\n",
      "  -4.80985257e-01 -1.69904736e-01  6.44658776e-02  3.03406583e-02\n",
      "  -5.03424120e-01 -5.51554106e-01 -2.74656189e-01 -4.85476582e-01\n",
      "  -1.58128710e-01  3.34776188e-01  2.32454812e-01 -3.35357697e-01\n",
      "  -4.43152715e-01 -7.06157004e-02 -3.69682138e-01  2.78470817e-01\n",
      "   4.11691932e-01  3.50161076e-01  3.14435215e-01  1.46684279e-01\n",
      "   3.75077075e-01  1.25904597e-01  4.09433922e-01  2.40165776e-01\n",
      "   4.86119414e-02  3.17263030e-02 -3.44964612e-01 -1.72335600e-01\n",
      "   4.27468326e-01  2.04494100e-01  1.40565154e-01 -3.58787639e-01\n",
      "  -4.27533883e-01 -5.48240862e-01 -2.19154267e-01 -4.86219162e-01\n",
      "  -2.51041285e-01 -2.11822929e-01 -1.63624595e-01 -2.29145819e-01\n",
      "  -3.41031486e-02  7.35422763e-02  4.05580729e-01  1.95398549e-01\n",
      "   3.61979639e-01  2.92220692e-01 -4.20119091e-01 -4.01223125e-01\n",
      "  -3.92106393e-01 -1.98981382e-01  3.69442861e-01 -3.92149140e-02\n",
      "  -3.43998193e-01  3.11540801e-01  3.72147758e-01  2.46386882e-01\n",
      "   3.96286206e-01  2.02633278e-01  3.54255933e-01  6.67919283e-02\n",
      "   2.32634443e-01  1.50279279e-01  3.29999880e-03 -1.02755695e-01\n",
      "  -7.53345720e-02  5.04660754e-01 -4.31769960e-02 -4.09056092e-02\n",
      "   3.68150580e-01  2.56868045e-01  1.51837509e-01  1.23731127e-01\n",
      "   7.20513177e-01  5.57857115e-01  1.00000000e+00  5.19666105e-01\n",
      "   4.00251036e-01  5.76941169e-01  2.88506787e-01  5.15489914e-01\n",
      "   6.18626776e-01  3.68535710e-01  1.70010116e-01 -2.70386114e-01\n",
      "   5.14406874e-02 -2.97115338e-01  1.88754036e-01  6.27267093e-02\n",
      "   9.34193968e-02 -2.89261593e-01  2.01047960e-01 -1.46781843e-01\n",
      "   1.69949027e-01  1.93719395e-01 -2.14132169e-01 -2.43928917e-01\n",
      "  -3.19367899e-01 -2.33490493e-01 -6.43608832e-01 -4.34305720e-01\n",
      "  -4.01148177e-01 -4.63335426e-01  1.53242449e-01  3.67243310e-01\n",
      "  -2.65565515e-01  1.31677732e-01 -3.03354529e-03  2.41101487e-01\n",
      "   2.16113728e-01  1.49084226e-01]\n",
      " [-2.17836044e-01 -1.00818957e-02 -2.23407687e-01  3.13222348e-02\n",
      "  -1.46489791e-01 -2.42903437e-01 -2.74358354e-01 -2.49018705e-01\n",
      "  -3.25225736e-01 -3.53553560e-01 -1.21491745e-01 -3.03987133e-02\n",
      "  -7.86597316e-02  2.30821376e-01 -2.33425830e-01  7.13512511e-02\n",
      "  -1.77572478e-01 -3.84485594e-01  1.05559554e-01 -2.49576341e-01\n",
      "  -3.13833776e-01 -2.12516477e-02  7.74694220e-02  7.63190425e-02\n",
      "  -3.88887261e-01 -3.11788632e-01 -5.87670343e-02 -9.76527655e-02\n",
      "  -1.42651580e-02  6.27775630e-02 -1.60089673e-01 -9.29008996e-02\n",
      "  -2.06265963e-01 -1.26183948e-01 -1.00001378e-01 -6.37988484e-02\n",
      "   1.37913116e-01 -3.60898844e-02 -8.10957110e-02 -2.30807982e-01\n",
      "   4.20151906e-02 -2.22919686e-01 -3.63482764e-02 -4.25884859e-02\n",
      "   8.86413631e-03 -4.99019971e-02 -2.51483873e-01  6.23271658e-03\n",
      "   5.55290691e-02  4.47671756e-02 -1.53950216e-01 -2.23551356e-01\n",
      "  -1.78254369e-01 -2.96731025e-01  1.53788534e-02 -4.83060675e-02\n",
      "  -2.43388988e-01 -6.18473055e-02 -1.86934491e-02 -1.45690140e-03\n",
      "   9.84911550e-02 -1.19317484e-02  1.65075341e-01 -1.06039816e-02\n",
      "   1.40494265e-01  8.17861646e-02 -2.06430674e-01 -4.01897315e-01\n",
      "  -1.42977709e-01 -1.77961326e-01 -9.49161370e-03 -2.76685083e-03\n",
      "  -1.39553731e-01 -8.18527978e-02 -5.65019836e-02 -1.76248587e-01\n",
      "  -6.34284618e-02 -9.98732126e-02  4.33155121e-03 -8.17372887e-04\n",
      "   3.14060956e-01  3.91984470e-01  3.08115234e-01  1.74734141e-01\n",
      "   3.06687322e-01  3.62390684e-01  2.29399266e-01  3.07777768e-01\n",
      "   6.35636996e-01  3.70052224e-02  2.51622353e-01  2.25723553e-01\n",
      "   5.27881557e-01  2.03186098e-01  5.19666105e-01  1.00000000e+00\n",
      "   2.62799571e-01  2.82481770e-01  1.77044895e-01  3.84473454e-01\n",
      "   3.27972499e-01  2.89703860e-01  3.30408434e-01 -1.32026890e-01\n",
      "  -1.58116509e-02  2.36948331e-02  5.17935660e-02  1.68040520e-02\n",
      "   6.39691354e-02 -2.11219241e-01  9.16109986e-02  9.27930869e-02\n",
      "   6.48923379e-02  4.02174910e-02  1.41660207e-01 -2.62354439e-01\n",
      "  -2.96969628e-01 -1.94368300e-01 -2.86512486e-01 -2.68829939e-01\n",
      "  -2.93757521e-01 -3.47405504e-01 -1.37374810e-01 -9.66853891e-02\n",
      "  -2.66952506e-01  6.73934694e-03  2.57713395e-01 -1.85902963e-01\n",
      "  -2.25357956e-02  7.12033535e-02]\n",
      " [-3.02602807e-01 -2.24486650e-01 -3.68309305e-01  2.83176968e-01\n",
      "  -3.29007478e-01 -3.17464440e-01 -3.69587923e-01 -3.36869303e-01\n",
      "  -4.37664650e-01 -4.12999930e-01 -1.16602843e-01 -2.01540706e-01\n",
      "  -3.12461512e-01  1.70963827e-01 -4.40136896e-01  3.81787892e-02\n",
      "  -3.08894228e-01 -5.63159588e-01 -1.08936103e-01 -3.83634728e-01\n",
      "  -4.01383688e-01 -2.72219923e-01 -1.26866150e-01 -1.36998016e-01\n",
      "  -4.08217247e-01 -4.12001670e-01 -4.13839934e-01 -3.70615691e-01\n",
      "  -1.43522381e-01  9.49254393e-02  2.71245275e-02 -2.85227203e-01\n",
      "  -3.03039282e-01  1.92642614e-01 -3.36827883e-01  8.32410166e-02\n",
      "   1.28148982e-01  1.18682635e-01  7.48792314e-02  2.16153024e-02\n",
      "   3.08841072e-01  5.86675723e-02  2.32524388e-01  1.93639604e-01\n",
      "   1.75949371e-01  1.43435818e-01 -1.83474077e-01 -5.94400650e-02\n",
      "   1.91210098e-01  1.92401173e-01  7.34165419e-02 -2.96440787e-01\n",
      "  -2.78945032e-01 -2.18478369e-01  2.06305146e-02 -5.01498446e-02\n",
      "  -4.35508670e-01 -2.29873420e-01 -1.71588649e-01 -2.15592429e-01\n",
      "   4.56397233e-02  4.16625118e-03  5.54997810e-01  2.10577717e-01\n",
      "   4.76903895e-01  3.31037578e-01 -3.70323540e-01 -4.68982936e-01\n",
      "  -1.63545577e-01 -1.19847436e-01  1.33017014e-01 -1.76056922e-01\n",
      "  -2.92179397e-01  1.50266583e-01  9.16328780e-02  1.14289151e-01\n",
      "   1.68131560e-01  1.52535483e-01  1.74825147e-01  2.51225177e-01\n",
      "   4.80508590e-01 -6.32903961e-02  1.97520976e-02  3.42003746e-01\n",
      "  -5.34012767e-02  3.10138928e-01  2.22426999e-01  3.34477287e-02\n",
      "  -2.41554506e-02  3.24875182e-01  1.46188436e-01  2.08982709e-01\n",
      "   5.03061930e-01  4.66954445e-01  4.00251036e-01  2.62799571e-01\n",
      "   1.00000000e+00  7.95353346e-01  6.37991277e-01  7.95017417e-01\n",
      "   6.72317206e-01  8.15933797e-02 -4.15300736e-03 -2.60791756e-01\n",
      "   7.90855579e-03  5.21456678e-02  1.42916215e-01  1.60035119e-01\n",
      "   1.61854348e-01 -4.34966357e-01  1.29737189e-01 -8.44062057e-02\n",
      "   1.00574869e-01  1.05600279e-01 -1.06073134e-01 -3.47345370e-01\n",
      "  -4.82107260e-01 -4.46679839e-01 -3.27228950e-01 -3.23358742e-01\n",
      "  -5.29583286e-01 -3.87557171e-01  4.96774283e-02  4.68443371e-03\n",
      "  -4.11929040e-01  3.93395061e-02 -4.32886594e-02  9.73568720e-02\n",
      "   7.93450341e-02  1.80288161e-01]\n",
      " [-4.01296688e-01 -1.37850772e-01 -3.90520976e-01  2.78973519e-01\n",
      "  -3.20419920e-01 -4.25329702e-01 -5.12363713e-01 -3.66722977e-01\n",
      "  -4.36792457e-01 -5.10742078e-01  3.74463522e-02 -2.30818840e-01\n",
      "  -3.21809879e-01  2.69644528e-01 -3.87327033e-01  1.31714649e-02\n",
      "  -4.75881775e-01 -5.85613209e-01  6.23362851e-02 -4.34464033e-01\n",
      "  -3.72139830e-01 -2.38026341e-02  8.82959063e-03 -9.27927217e-02\n",
      "  -5.33482443e-01 -5.17348565e-01 -2.56309160e-01 -4.44447376e-01\n",
      "  -2.37126657e-01  2.61008660e-01  7.90902145e-02 -3.41689305e-01\n",
      "  -4.00002994e-01 -1.12493982e-01 -2.85801027e-01  2.74170974e-01\n",
      "   4.05031702e-01  3.43408380e-01  1.89953467e-01  3.16207415e-02\n",
      "   1.97246670e-01 -3.86951402e-02  2.70675660e-01  1.88488183e-01\n",
      "  -9.62212559e-04  3.34143004e-02 -3.59107615e-01 -1.04199534e-01\n",
      "   2.57231472e-01  9.60877169e-02 -4.99948224e-02 -2.89635833e-01\n",
      "  -4.05706919e-01 -4.34867736e-01 -1.21160593e-01 -2.43920302e-01\n",
      "  -3.13944602e-01 -1.86846872e-01 -9.98476112e-02 -2.90778254e-01\n",
      "   1.32640957e-01 -2.70689677e-02  4.44546724e-01  1.38027887e-01\n",
      "   4.11571604e-01  2.99307516e-01 -3.60044123e-01 -4.66374189e-01\n",
      "  -2.56786810e-01 -2.24637167e-01  4.74605081e-01 -3.23965347e-03\n",
      "  -2.30457761e-01  3.41875387e-01  3.07476552e-01  2.13398184e-01\n",
      "   4.66635378e-01  2.59011258e-01  4.38994213e-01  9.07001712e-02\n",
      "   2.33503075e-01 -8.73586833e-02 -9.72980659e-02  2.08981970e-01\n",
      "  -1.58278743e-01  4.58028446e-01  2.19500088e-01 -1.20957347e-01\n",
      "   2.19399096e-01  2.63814582e-01  2.37344900e-01  1.66444531e-01\n",
      "   6.29897545e-01  6.40235565e-01  5.76941169e-01  2.82481770e-01\n",
      "   7.95353346e-01  1.00000000e+00  5.64019007e-01  7.88435209e-01\n",
      "   4.86951782e-01  4.02763076e-01  1.83303609e-01 -3.20009350e-01\n",
      "  -3.15685198e-02 -2.37524776e-01  1.57586128e-01  1.64814797e-02\n",
      "   8.88618738e-02 -3.06747757e-01  2.10192026e-01 -2.56396409e-01\n",
      "   1.73162602e-01  1.66763957e-01 -2.98502484e-01 -2.67961055e-01\n",
      "  -3.97878873e-01 -2.87801773e-01 -4.70689846e-01 -3.97727643e-01\n",
      "  -4.04438972e-01 -4.93702011e-01 -6.93858276e-02  9.46668615e-02\n",
      "  -3.64992362e-01  1.60371990e-01 -2.47798575e-02  7.53228221e-02\n",
      "   1.98042801e-01  3.06107413e-01]\n",
      " [-2.75666831e-01 -2.51442470e-01 -4.54762235e-01  1.61911399e-01\n",
      "  -2.82743741e-01 -3.12761605e-01 -3.63616423e-01 -3.18901849e-01\n",
      "  -3.69545516e-01 -3.70594132e-01 -7.43832188e-02 -1.57608951e-01\n",
      "  -2.56720057e-01  7.65669001e-02 -4.78170927e-01 -5.62096739e-02\n",
      "  -3.43253652e-01 -5.67059402e-01 -1.41718862e-01 -4.08281142e-01\n",
      "  -3.75922029e-01 -6.65696381e-02 -1.34817892e-01 -1.56302282e-01\n",
      "  -5.11137598e-01 -4.06356625e-01 -3.37243128e-01 -3.66928915e-01\n",
      "  -2.14089423e-01  1.10018264e-01  1.14503661e-02 -3.28650290e-01\n",
      "  -2.47949085e-01  2.01015823e-01 -3.37527653e-01  1.08720877e-01\n",
      "   1.50011898e-01  1.64912145e-01  1.93393762e-01  6.86134736e-02\n",
      "   3.09330041e-01  2.57268471e-01  1.55275269e-01  3.06633737e-01\n",
      "   1.48886565e-01  1.23053918e-01 -8.01134126e-02 -1.23842446e-01\n",
      "   7.58605669e-02  1.68084153e-01  1.15735090e-01 -3.14689625e-01\n",
      "  -3.26387214e-01 -2.64945058e-01 -5.63161873e-02 -8.58554191e-02\n",
      "  -5.26440400e-01 -2.06378853e-01 -2.31521820e-01 -2.53889846e-01\n",
      "  -8.32221457e-03 -1.06433640e-01  3.33154878e-01  2.43211451e-01\n",
      "   3.44332833e-01  3.21731243e-01 -2.35242135e-01 -2.50445191e-01\n",
      "  -1.36747418e-01  4.83532188e-02  2.15568932e-01 -3.22730048e-02\n",
      "  -2.70840146e-01  2.30927372e-01  1.26548825e-01  2.36286787e-01\n",
      "   1.97894303e-01  2.17996749e-01  3.10299653e-01  2.25949098e-01\n",
      "   4.63787043e-01 -1.30156949e-01 -8.05817760e-02  1.29651818e-01\n",
      "  -9.82798740e-02  3.61373357e-01  1.72473595e-01 -3.39738264e-02\n",
      "  -2.68864176e-02  2.88851978e-01  1.03418697e-01  1.08122119e-01\n",
      "   4.53280756e-01  6.06835319e-01  2.88506787e-01  1.77044895e-01\n",
      "   6.37991277e-01  5.64019007e-01  1.00000000e+00  7.79992459e-01\n",
      "   4.56098925e-01  2.78664993e-01 -1.03119732e-01 -3.16691805e-01\n",
      "   5.86164888e-02  8.30628613e-02  1.69019695e-01  1.43118842e-01\n",
      "   1.80733449e-01 -3.83970618e-01  3.38586517e-01 -2.56889291e-01\n",
      "   1.89974225e-01  1.58082257e-01 -2.18008028e-01 -3.98557455e-01\n",
      "  -3.40604740e-01 -4.36606798e-01 -2.85527072e-01 -2.94436180e-01\n",
      "  -5.33971407e-01 -4.50554247e-01  4.85430129e-04  4.36524900e-03\n",
      "  -3.99193546e-01  1.97890665e-01 -7.15029978e-03  1.55546462e-01\n",
      "   1.79509859e-01  3.25861989e-01]\n",
      " [-3.58866449e-01 -2.94027177e-01 -4.86674929e-01  3.33565580e-01\n",
      "  -3.95429521e-01 -4.29132301e-01 -4.53359716e-01 -3.85617742e-01\n",
      "  -4.33808715e-01 -5.59243738e-01 -1.78336637e-02 -1.77874884e-01\n",
      "  -3.29779372e-01  2.16896668e-01 -5.22156943e-01  1.22696489e-02\n",
      "  -4.37326962e-01 -5.94471036e-01 -8.60186733e-02 -5.22601485e-01\n",
      "  -4.32506048e-01 -1.81142201e-01 -4.35945546e-02 -1.50746387e-01\n",
      "  -5.12286922e-01 -5.48592553e-01 -2.71157380e-01 -4.82788441e-01\n",
      "  -2.17688845e-01  2.22396146e-01  4.95355892e-02 -3.47633584e-01\n",
      "  -3.32696824e-01  9.66380319e-02 -3.60533277e-01  1.57511250e-01\n",
      "   3.31288538e-01  2.01896582e-01  2.01282930e-01  5.17899379e-02\n",
      "   3.25647225e-01  9.51073708e-02  2.33243237e-01  2.46909349e-01\n",
      "   1.72162628e-01  1.95943705e-01 -3.42496590e-01 -1.58814179e-01\n",
      "   2.17225203e-01  1.49520899e-01 -2.34776591e-02 -3.82666503e-01\n",
      "  -3.41691117e-01 -4.68526313e-01 -6.87060913e-02 -2.23970249e-01\n",
      "  -5.20600482e-01 -1.71377157e-01 -2.93158114e-01 -3.01019039e-01\n",
      "  -5.03600295e-02 -1.64538506e-01  4.17275203e-01  7.57662684e-02\n",
      "   4.31279321e-01  3.38270394e-01 -3.69264567e-01 -4.14605509e-01\n",
      "  -2.85256227e-01 -1.93698352e-01  2.53463302e-01 -1.03571702e-01\n",
      "  -3.66826853e-01  1.92069528e-01  2.34852388e-01  1.63147106e-01\n",
      "   2.68225152e-01  1.80682290e-01  3.22353138e-01  2.22683784e-01\n",
      "   4.07968002e-01 -7.04474917e-02 -7.69190476e-02  2.20199009e-01\n",
      "  -4.93831218e-02  5.09409852e-01  2.95901933e-01  1.74603524e-02\n",
      "   1.45092362e-01  2.72165132e-01  2.27904958e-01  2.03422479e-01\n",
      "   6.44140098e-01  8.02567861e-01  5.15489914e-01  3.84473454e-01\n",
      "   7.95017417e-01  7.88435209e-01  7.79992459e-01  1.00000000e+00\n",
      "   6.00658961e-01  3.90088593e-01  1.06626107e-01 -3.13749702e-01\n",
      "   5.94058477e-02 -1.50547056e-02  2.18095078e-01  1.26262968e-01\n",
      "   1.84449979e-01 -3.69709658e-01  3.00275275e-01 -2.14423210e-01\n",
      "   2.16499332e-01  1.88059250e-01 -1.75869473e-01 -3.96897530e-01\n",
      "  -4.12566790e-01 -4.29894205e-01 -4.31066049e-01 -3.67887127e-01\n",
      "  -5.17335318e-01 -5.91788298e-01  4.71922529e-02  7.92094578e-02\n",
      "  -4.41198892e-01  1.69876814e-01  3.81216733e-02  1.16101120e-01\n",
      "   1.81174067e-01  3.16708514e-01]\n",
      " [-3.82287931e-01 -2.88965011e-01 -4.30123768e-01  3.78678254e-01\n",
      "  -3.03021242e-01 -3.34104621e-01 -5.10938575e-01 -3.75162494e-01\n",
      "  -4.96152759e-01 -4.80187181e-01 -1.37195401e-02 -2.17729750e-01\n",
      "  -4.07880041e-01  2.78529881e-01 -4.15120621e-01  4.20180146e-02\n",
      "  -4.32479667e-01 -5.67576682e-01 -1.89092001e-02 -3.82797604e-01\n",
      "  -5.47560130e-01 -4.40752356e-01 -1.84989345e-02  1.90310138e-02\n",
      "  -5.00311025e-01 -5.23631726e-01 -5.66099019e-01 -4.81181059e-01\n",
      "  -7.36737304e-02  2.33844129e-01  2.23437613e-01 -3.89127690e-01\n",
      "  -3.77799045e-01  1.31486821e-01 -4.79480358e-01  2.60212301e-01\n",
      "   1.60938405e-01  2.84092041e-01  2.46523651e-01  1.87243751e-01\n",
      "   4.54406722e-01  1.59021283e-01  4.17787289e-01  3.22113800e-01\n",
      "   2.83278753e-01  2.25007262e-01 -2.93074055e-01 -1.34967519e-01\n",
      "   2.69731562e-01  2.02574894e-01  2.31544824e-01 -4.72490055e-01\n",
      "  -4.03019569e-01 -3.59334121e-01 -8.59438168e-02 -3.27883382e-01\n",
      "  -4.49353190e-01 -2.68277426e-01 -2.81712971e-01 -3.02397986e-01\n",
      "  -1.30055424e-01  1.15109981e-01  5.88439698e-01  2.13381354e-01\n",
      "   5.12886167e-01  4.85113909e-01 -5.20644097e-01 -4.88971471e-01\n",
      "  -3.38464666e-01 -3.06533320e-01  1.76320409e-01 -2.96329662e-01\n",
      "  -4.91791679e-01  2.88692058e-01  2.87704485e-01  3.01243096e-01\n",
      "   1.74677204e-01  1.79070209e-01  2.07440888e-01  2.95608305e-01\n",
      "   6.26930306e-01 -3.41589497e-02  2.67062356e-02 -9.26692711e-03\n",
      "  -9.90957073e-02  3.56926858e-01 -7.85687827e-02 -1.17815404e-02\n",
      "   1.58801079e-02  3.70223916e-01  1.07567809e-01  9.83841132e-02\n",
      "   7.38359980e-01  4.14517635e-01  6.18626776e-01  3.27972499e-01\n",
      "   6.72317206e-01  4.86951782e-01  4.56098925e-01  6.00658961e-01\n",
      "   1.00000000e+00  8.09583971e-02  3.84121490e-02 -2.37805947e-01\n",
      "   3.95218403e-02 -8.08121424e-03  3.20822089e-01  3.50607259e-01\n",
      "   3.24313044e-01 -4.71328373e-01  1.62436324e-01  5.05115994e-02\n",
      "   2.21843524e-01  2.64470953e-01  1.51382450e-02 -4.05393707e-01\n",
      "  -5.43615659e-01 -5.47293825e-01 -5.48201721e-01 -4.21782748e-01\n",
      "  -6.20059383e-01 -4.36078760e-01  2.04756494e-01  1.63137856e-01\n",
      "  -4.28645092e-01  1.28060880e-01  9.59903015e-02  3.12365990e-01\n",
      "   1.98986303e-01  2.14230310e-01]\n",
      " [-2.96711468e-01 -6.80034838e-02 -1.21828527e-01 -1.01318104e-01\n",
      "   3.65544483e-02 -3.17752159e-01 -3.92536984e-01 -2.01222470e-01\n",
      "  -1.55259375e-01 -2.39490505e-01  8.59311484e-02 -4.88880447e-02\n",
      "  -2.68019100e-01  3.42229228e-01 -1.41139933e-01  8.42550187e-02\n",
      "  -3.87382934e-01 -2.14426538e-01  2.82415270e-01 -2.00094631e-01\n",
      "  -1.69617354e-01  1.68962822e-01  2.51819676e-01  2.18359653e-01\n",
      "  -3.23435916e-01 -4.24367887e-01 -1.87155930e-02 -4.35383334e-01\n",
      "  -2.16155077e-02  7.04214703e-02 -1.07468622e-02 -3.71286304e-01\n",
      "  -3.07540205e-01 -3.81234170e-01 -2.52296743e-01  1.20110007e-01\n",
      "   3.10948728e-01  1.77753077e-01  1.08805127e-01 -1.96002455e-02\n",
      "  -3.69965827e-02 -1.44029680e-01  6.68873946e-02 -3.68531433e-02\n",
      "  -1.80441399e-01 -1.92849207e-01 -9.96948704e-02  4.05594781e-02\n",
      "   1.58974325e-01  9.82752834e-03 -2.79361553e-02 -9.76872562e-02\n",
      "  -2.15423808e-01 -3.65683531e-01 -1.72355896e-01 -3.04860284e-01\n",
      "   2.79429164e-02  4.17026220e-02  1.12556188e-01 -7.79341635e-02\n",
      "   2.88441963e-02  2.29325626e-01  4.76611789e-02 -7.62800796e-02\n",
      "   1.46726042e-01  1.19670519e-01 -1.19194032e-01 -5.58089297e-02\n",
      "  -2.65203772e-01  7.37881364e-02  2.93832504e-01  2.48593822e-01\n",
      "  -1.37378026e-02  1.45026794e-01  1.86740714e-01  8.62212231e-02\n",
      "   2.50452188e-01  6.70490020e-02  2.21487973e-01 -2.08861367e-01\n",
      "  -7.73794021e-02 -2.68642776e-03 -8.15899069e-02  4.13151712e-02\n",
      "  -1.24665121e-01  2.19955524e-01  2.73819700e-01 -1.81179270e-01\n",
      "   3.43379294e-01  1.24327980e-02  3.86851810e-01  1.56280216e-01\n",
      "   2.69072305e-01  4.89558366e-01  3.68535710e-01  2.89703860e-01\n",
      "   8.15933797e-02  4.02763076e-01  2.78664993e-01  3.90088593e-01\n",
      "   8.09583971e-02  1.00000000e+00  3.83831758e-01 -9.70449069e-02\n",
      "  -1.56790063e-02 -3.56745244e-01  3.89738853e-02 -9.68053994e-02\n",
      "  -3.18947942e-02 -2.33176267e-02  1.41889623e-01 -5.12117257e-02\n",
      "   1.00236791e-01  9.36319468e-02 -1.17128806e-01 -6.35587194e-02\n",
      "   2.06887761e-02  3.21054536e-03 -4.33644961e-01 -2.54157892e-01\n",
      "  -7.77607421e-02 -2.30358262e-01 -1.00280366e-01  1.08535165e-01\n",
      "  -4.51947992e-03  8.85727403e-02  2.27136695e-01 -7.56159234e-02\n",
      "   3.06223388e-02  6.28146520e-02]\n",
      " [-1.52416702e-01 -3.37675753e-02 -1.20426109e-01 -1.39929470e-01\n",
      "  -1.87852959e-01 -1.57786310e-01 -2.49941010e-01 -1.87106663e-01\n",
      "  -1.48656064e-01 -2.24418802e-01 -2.26359939e-02 -4.77659454e-03\n",
      "  -3.42730516e-02  2.52672017e-01 -2.06115276e-01  2.10376858e-02\n",
      "  -2.17564835e-01 -1.73015588e-01  1.08478957e-01 -1.99464824e-01\n",
      "  -1.86261742e-01 -4.25004877e-02  1.62429021e-01  4.27961272e-02\n",
      "  -2.19082193e-01 -3.44728942e-01  4.61869506e-02 -1.96816695e-01\n",
      "  -1.24458205e-01  2.10647654e-02 -1.97355976e-01 -2.27825133e-01\n",
      "  -1.49373017e-01 -3.44094794e-01 -1.75091059e-01 -3.38312200e-02\n",
      "   1.14727463e-01 -1.10080846e-01 -9.08544383e-02 -2.32484176e-01\n",
      "  -1.04349140e-01 -2.44445217e-01 -2.78264861e-02 -1.80585256e-01\n",
      "  -4.66407525e-02 -8.92416757e-03 -3.47288636e-01 -6.98230234e-02\n",
      "   2.90048946e-02 -5.17865503e-02 -1.02110210e-01 -1.77776194e-01\n",
      "  -1.74860928e-01 -3.46241526e-01 -2.10678956e-01 -1.64705951e-01\n",
      "   1.14798850e-02 -4.73673922e-02 -5.69804494e-02 -7.46288503e-02\n",
      "  -7.07907271e-02 -2.40786979e-02 -6.41698234e-02 -2.08902722e-01\n",
      "  -9.64673917e-02 -6.04886427e-02 -1.00411635e-01 -2.82808503e-01\n",
      "  -1.45501567e-01 -2.07157244e-01  1.75573882e-02 -1.91768353e-02\n",
      "  -1.34034096e-01 -1.38250154e-01  2.85241915e-01 -3.84843995e-02\n",
      "  -8.13422731e-02 -1.66178901e-01 -2.97956444e-02 -1.44787583e-01\n",
      "   4.93925464e-02  1.82696466e-01  5.40889977e-02  2.12607348e-03\n",
      "   1.04385937e-01  1.94540956e-01  1.30603687e-01  9.49118154e-02\n",
      "   4.15860962e-01 -8.52208718e-02  1.16581500e-01  5.44016101e-03\n",
      "   2.95069588e-01  1.58922369e-01  1.70010116e-01  3.30408434e-01\n",
      "  -4.15300736e-03  1.83303609e-01 -1.03119732e-01  1.06626107e-01\n",
      "   3.84121490e-02  3.83831758e-01  1.00000000e+00  2.46737270e-01\n",
      "   2.15669366e-01  8.07697198e-02  3.97444592e-01  2.75799316e-01\n",
      "   3.45833600e-01  2.14414269e-01  6.40391172e-01  3.86569682e-01\n",
      "   4.41776362e-01  3.94189698e-01  3.52996671e-01 -7.23900447e-02\n",
      "  -7.27470811e-02  2.44984403e-02 -2.08271798e-01 -1.24369706e-01\n",
      "   9.71214157e-03 -1.60174103e-01 -3.87302485e-02 -9.37278244e-03\n",
      "  -1.15646449e-01 -9.40118422e-02  1.21180487e-01 -1.20614443e-01\n",
      "   6.46458504e-02  3.75384580e-02]\n",
      " [ 1.92019598e-01  6.99654599e-02  1.57201906e-01 -4.27534074e-01\n",
      "  -1.25667237e-01  1.65773829e-01  3.01335664e-01  1.70086707e-02\n",
      "   7.35631292e-02  1.94037593e-01 -3.23866660e-01 -1.08789471e-01\n",
      "   9.65713531e-02 -2.57417293e-01  1.26789098e-01 -2.30815450e-01\n",
      "   1.89228063e-01  3.78582853e-01 -3.57347991e-01  2.90578537e-01\n",
      "   3.23776353e-01  9.19354183e-02 -2.87331544e-01 -3.54266227e-01\n",
      "   3.93457690e-01  3.04811082e-01  2.01481744e-01  2.39561939e-01\n",
      "  -2.60972879e-01 -4.65602658e-01 -4.52688719e-01  1.85542385e-01\n",
      "   2.34616767e-01 -2.05977938e-01  1.49193612e-01 -4.98554416e-01\n",
      "  -3.77724710e-01 -5.93441462e-01 -4.30671489e-01 -4.50460234e-01\n",
      "  -3.11456917e-01 -2.69524649e-01 -3.80345061e-01 -4.18001473e-01\n",
      "  -3.58071993e-01 -3.45332508e-01  1.82770052e-01  2.99348951e-01\n",
      "  -2.97833913e-01 -3.33911154e-01 -1.42822886e-01  1.24121312e-01\n",
      "   2.93360766e-01  2.22723630e-01  9.75147284e-02  2.17566284e-01\n",
      "   3.48415832e-01  3.10165885e-01  1.49910149e-01  1.61826008e-01\n",
      "   3.57331010e-02 -2.52987331e-01 -4.76654673e-01 -3.03482546e-01\n",
      "  -4.17296465e-01 -2.98092813e-01  4.48626037e-01  2.86317728e-01\n",
      "   2.97206676e-01  2.55822506e-01 -4.90944464e-01  2.54191523e-01\n",
      "   2.80628947e-01 -5.35322894e-01  1.07359481e-01 -2.31294814e-01\n",
      "  -5.09856173e-01 -4.68732083e-01 -4.88143168e-01 -4.32763907e-01\n",
      "  -2.21698707e-01  2.79932230e-01  3.97675767e-01  7.57052499e-02\n",
      "   3.99948588e-01 -2.56414173e-01  7.06496068e-02  3.55932510e-01\n",
      "   1.59267666e-01 -3.31396073e-01  1.35898227e-01  4.67124182e-02\n",
      "  -2.35834276e-01 -2.62480000e-01 -2.70386114e-01 -1.32026890e-01\n",
      "  -2.60791756e-01 -3.20009350e-01 -3.16691805e-01 -3.13749702e-01\n",
      "  -2.37805947e-01 -9.70449069e-02  2.46737270e-01  1.00000000e+00\n",
      "   1.03498233e-01  2.16241244e-01  4.19346508e-01  4.72060807e-01\n",
      "   4.47040850e-01  7.49647057e-01  7.98347124e-02  6.25582991e-01\n",
      "   3.43392981e-01  3.83376954e-01  6.48943577e-01  4.14224604e-01\n",
      "   3.24833807e-01  2.56114830e-01  4.11442008e-01  2.93351357e-01\n",
      "   4.13622944e-01  3.61845587e-01 -2.89499445e-01 -2.61354732e-01\n",
      "   2.59184067e-01 -4.05929804e-01 -2.87165873e-01 -3.05032782e-01\n",
      "  -3.10727078e-01 -4.09500108e-01]\n",
      " [-8.18759263e-02 -4.33245229e-01 -3.42653978e-01  3.41603974e-02\n",
      "  -2.80294963e-01 -2.43309323e-01 -2.42299941e-01 -2.42413726e-01\n",
      "  -1.29587522e-01 -2.32745604e-01  3.60435817e-01 -9.72333203e-02\n",
      "  -3.40113608e-01 -1.26661056e-01 -4.45625051e-01 -4.53844485e-02\n",
      "  -3.07742647e-01 -1.87997319e-01 -2.30366385e-01 -3.40690694e-01\n",
      "  -2.73751398e-01 -4.14494413e-01 -4.19727228e-02 -1.56173567e-01\n",
      "  -2.01285132e-01 -3.07449748e-01 -1.13184560e-01 -3.40494264e-01\n",
      "   3.53810856e-02  6.78393884e-02  9.82818633e-02 -3.59493378e-01\n",
      "  -4.49651494e-02  1.49088895e-01 -4.55524637e-01  1.03474114e-01\n",
      "   4.73332169e-02  2.61935205e-02  3.04680474e-01  2.73683201e-01\n",
      "   1.28598453e-01  4.59360058e-01  1.09363259e-01  1.11435241e-01\n",
      "   2.25774865e-01  3.05826139e-01 -6.23659589e-02 -3.31836634e-01\n",
      "   8.03855589e-02  5.74736736e-01  4.45652104e-01 -3.12838615e-01\n",
      "  -2.74957518e-01 -2.86247831e-01 -3.89414828e-01 -2.73921928e-01\n",
      "  -2.90212384e-01 -1.31095070e-01 -4.25688087e-01 -3.83878150e-01\n",
      "  -2.32060173e-01 -1.98797876e-01  3.82916987e-02  3.19960136e-02\n",
      "   1.62336684e-01  1.21638433e-01 -1.30645374e-01  1.80436645e-01\n",
      "  -1.93596681e-01 -5.20786700e-02  1.01929721e-01 -7.89942956e-02\n",
      "  -2.36073678e-01  1.01757532e-01  4.60037407e-01  4.31624526e-01\n",
      "   9.26826297e-02  3.55029664e-02  1.12904670e-01  1.69804925e-01\n",
      "   1.76710734e-01 -3.30773928e-01 -3.06285877e-01 -3.11652104e-01\n",
      "  -2.59784538e-01  1.32514483e-01 -3.58985123e-01 -2.58282513e-01\n",
      "  -2.52633654e-01  7.15939059e-02 -4.44613385e-01 -2.18346311e-01\n",
      "   3.10444065e-02  1.09922310e-01  5.14406874e-02 -1.58116509e-02\n",
      "   7.90855579e-03 -3.15685198e-02  5.86164888e-02  5.94058477e-02\n",
      "   3.95218403e-02 -1.56790063e-02  2.15669366e-01  1.03498233e-01\n",
      "   1.00000000e+00  5.02533284e-01  5.08920099e-01  4.69378654e-01\n",
      "   4.81190507e-01  2.58752541e-01  2.92256435e-01  2.36692831e-01\n",
      "   5.07012916e-01  4.58672391e-01  2.91584426e-01 -2.37377470e-01\n",
      "   2.13705513e-01 -1.99175704e-01 -1.83423743e-01 -8.77870724e-02\n",
      "  -1.32561803e-01 -2.46912064e-01  2.25485408e-01  2.23318750e-01\n",
      "  -1.91906494e-01  2.21207512e-01  4.21864630e-02  2.46710598e-01\n",
      "   3.46543755e-01  2.37871320e-01]\n",
      " [ 2.18454638e-01 -2.73526161e-01 -1.77743919e-01 -2.92768191e-01\n",
      "  -1.47695933e-01  1.32688376e-01  1.03251104e-01  5.34155839e-02\n",
      "   1.16357589e-01  1.51015279e-01 -1.96860738e-01  1.24255016e-01\n",
      "   7.10123113e-02 -1.77579807e-01 -3.58392769e-01 -2.48363358e-03\n",
      "   1.01524099e-01 -1.54331545e-01 -3.41971684e-01 -1.65554508e-01\n",
      "  -7.11474061e-02 -2.76653225e-01 -1.08019152e-01 -2.13427772e-01\n",
      "  -1.01605157e-02 -3.90132701e-02 -1.41249404e-01  3.56541992e-02\n",
      "  -3.56817055e-02 -2.92400333e-01 -3.21118411e-01 -8.30222070e-02\n",
      "   2.86453881e-01  2.31362049e-01 -2.20249793e-01 -2.81169273e-01\n",
      "  -2.66881402e-01 -3.98271364e-01 -2.17142523e-01 -1.40963895e-01\n",
      "  -1.11242781e-01  9.71334107e-02 -2.26280296e-01 -1.26091542e-01\n",
      "   2.82276785e-01  3.40879274e-01  1.26395965e-01  1.21497955e-02\n",
      "  -2.04131494e-01  1.54016691e-01  8.29940350e-02 -1.09023264e-01\n",
      "   1.02027368e-02  1.41348921e-01 -8.51984004e-02  1.81369824e-01\n",
      "  -3.23913448e-01  7.07689936e-02 -2.25274651e-01  3.62411095e-02\n",
      "  -1.30030183e-01 -1.77866363e-01 -5.62213443e-02 -7.07435597e-02\n",
      "  -6.07419443e-02 -1.11200325e-02  1.11792762e-01  1.00661848e-01\n",
      "   2.22628025e-01  4.41016447e-02 -2.92186001e-01 -1.37247118e-01\n",
      "  -1.32686987e-01 -2.37751780e-01 -3.84448231e-02  3.59037540e-02\n",
      "  -3.12216763e-01 -1.55834190e-01 -2.37008009e-01  9.74186136e-02\n",
      "   3.49296472e-01 -2.04183591e-02  1.26857886e-02  6.86221178e-02\n",
      "   9.08345544e-02  1.98606285e-02 -6.02271821e-02  1.33636412e-01\n",
      "  -2.13075221e-01 -6.42459552e-02 -3.28506829e-01 -1.77422136e-01\n",
      "  -1.48404934e-01 -1.32958307e-01 -2.97115338e-01  2.36948331e-02\n",
      "   5.21456678e-02 -2.37524776e-01  8.30628613e-02 -1.50547056e-02\n",
      "  -8.08121424e-03 -3.56745244e-01  8.07697198e-02  2.16241244e-01\n",
      "   5.02533284e-01  1.00000000e+00  2.59214369e-01  3.54452646e-01\n",
      "   3.64624476e-01  1.81774161e-01  1.71233825e-01  3.03032746e-01\n",
      "   2.79238813e-01  2.15917083e-01  4.82577968e-01 -2.66649368e-01\n",
      "  -6.41829973e-02 -1.92467459e-01  2.50473306e-01  2.47605578e-01\n",
      "  -9.10688406e-02 -8.94269829e-02  4.48248968e-03 -2.36758757e-01\n",
      "  -2.34199106e-01 -5.99423773e-02  1.01839765e-02 -1.69829275e-01\n",
      "  -5.24962077e-02  7.92669356e-02]\n",
      " [-2.54695146e-01 -4.01982365e-01 -4.19181439e-01  1.15197290e-01\n",
      "  -4.30822575e-01 -3.30379153e-01 -3.96474843e-01 -3.80625234e-01\n",
      "  -3.29872520e-01 -4.30509949e-01  1.87256112e-01 -2.13414624e-01\n",
      "  -3.50529449e-01 -4.85706230e-02 -4.78795822e-01 -1.29123553e-01\n",
      "  -3.92215750e-01 -3.31340850e-01 -2.22437284e-01 -3.94722660e-01\n",
      "  -4.33754485e-01 -4.26643414e-01 -8.11482326e-02 -2.17287113e-01\n",
      "  -4.14789859e-01 -4.15229107e-01 -2.73632928e-01 -3.84284364e-01\n",
      "  -1.16820784e-01  1.56073473e-01  9.23646790e-02 -4.22948891e-01\n",
      "  -2.34500010e-01  2.97591062e-02 -4.43397466e-01  1.52440870e-01\n",
      "   1.51959918e-01  8.85226055e-02  2.43157393e-01  1.20738520e-01\n",
      "   1.97236053e-01  1.02612406e-01  2.50005187e-01  1.80453244e-01\n",
      "   1.90201047e-01  2.46119792e-01 -3.97041863e-01 -2.86948392e-01\n",
      "   1.31670678e-01  2.05410417e-01  2.61733623e-01 -4.58351570e-01\n",
      "  -2.87063028e-01 -4.36841582e-01 -4.19507038e-01 -3.63284421e-01\n",
      "  -2.62702970e-01 -2.82539347e-01 -4.09393445e-01 -3.89326398e-01\n",
      "  -3.43731189e-01 -2.09046250e-01  1.06466526e-01  1.26557033e-02\n",
      "   1.60700087e-01  2.42481557e-01 -2.41796772e-01 -2.07702018e-01\n",
      "  -3.35004111e-01 -2.63747145e-01  1.42815582e-01 -2.13495885e-01\n",
      "  -4.19444985e-01  1.38011411e-01  8.16743507e-01  5.30192131e-01\n",
      "   1.15045729e-01  3.45783957e-02  2.03239005e-01  1.53985556e-01\n",
      "   1.90992992e-01 -2.06433210e-01 -1.37182921e-01 -3.15798563e-01\n",
      "  -1.73431172e-01  1.99688307e-01 -3.25149905e-01 -1.50608030e-01\n",
      "  -7.13998225e-02  9.78891366e-02 -2.69644551e-01 -2.14163513e-01\n",
      "   3.37598369e-01  2.18079580e-01  1.88754036e-01  5.17935660e-02\n",
      "   1.42916215e-01  1.57586128e-01  1.69019695e-01  2.18095078e-01\n",
      "   3.20822089e-01  3.89738853e-02  3.97444592e-01  4.19346508e-01\n",
      "   5.08920099e-01  2.59214369e-01  1.00000000e+00  9.43130346e-01\n",
      "   9.73390132e-01  1.18088992e-01  5.45711911e-01  6.43039623e-01\n",
      "   9.58975972e-01  9.75490478e-01  6.25960564e-01 -2.91173018e-01\n",
      "  -1.52167254e-01 -2.73771333e-01 -3.14111783e-01 -2.54131083e-01\n",
      "  -2.99780844e-01 -3.36802771e-01  1.77540438e-01  1.45008646e-01\n",
      "  -2.87311929e-01  1.81180381e-01  2.82329260e-02  2.87071797e-01\n",
      "   3.95508003e-01  3.22340552e-01]\n",
      " [-1.45974473e-01 -3.81807595e-01 -3.45643061e-01  4.82684268e-02\n",
      "  -3.63195093e-01 -1.91478522e-01 -3.05475550e-01 -3.12511385e-01\n",
      "  -2.69259488e-01 -2.85038660e-01  1.28006409e-01 -1.54299154e-01\n",
      "  -3.01977552e-01 -8.25979050e-02 -4.29458475e-01 -1.24892674e-01\n",
      "  -2.75548363e-01 -2.80106478e-01 -2.53844835e-01 -3.03213585e-01\n",
      "  -4.12786449e-01 -5.00973436e-01 -1.01162568e-01 -1.92318790e-01\n",
      "  -3.25051622e-01 -3.17686720e-01 -3.38146216e-01 -3.02261522e-01\n",
      "  -4.77706658e-02  4.63425516e-02  7.32430849e-02 -3.82242469e-01\n",
      "  -1.34141316e-01  1.15069929e-01 -4.32860545e-01  7.83929241e-02\n",
      "   3.02980420e-02 -6.81465875e-03  1.73602887e-01  1.07457531e-01\n",
      "   1.99927587e-01  1.28847889e-01  2.12630232e-01  1.61214582e-01\n",
      "   2.39446983e-01  2.52688893e-01 -2.90760999e-01 -2.56057032e-01\n",
      "   6.16585050e-02  1.98019994e-01  3.45795741e-01 -4.02376957e-01\n",
      "  -2.40794489e-01 -2.86664523e-01 -3.54888518e-01 -2.41696708e-01\n",
      "  -2.63474032e-01 -2.86089556e-01 -3.88078854e-01 -2.99230422e-01\n",
      "  -3.43258397e-01 -1.65545516e-01  1.06311944e-01  5.15079676e-02\n",
      "   1.17053496e-01  2.09714272e-01 -2.09486085e-01 -2.26839198e-01\n",
      "  -2.41827799e-01 -2.38658168e-01  2.66580979e-04 -2.66927247e-01\n",
      "  -3.92005980e-01  4.05162531e-02  6.38879193e-01  4.11845491e-01\n",
      "  -6.26386077e-02 -2.38735366e-02  3.64665751e-02  1.67772587e-01\n",
      "   2.62660348e-01 -1.77897010e-01 -4.40236671e-02 -2.77250830e-01\n",
      "  -1.14575389e-01  7.30036968e-02 -3.38128630e-01 -7.94177842e-02\n",
      "  -1.72582535e-01  1.04585992e-01 -2.80614385e-01 -2.23126095e-01\n",
      "   2.27820187e-01  8.26027941e-02  6.27267093e-02  1.68040520e-02\n",
      "   1.60035119e-01  1.64814797e-02  1.43118842e-01  1.26262968e-01\n",
      "   3.50607259e-01 -9.68053994e-02  2.75799316e-01  4.72060807e-01\n",
      "   4.69378654e-01  3.54452646e-01  9.43130346e-01  1.00000000e+00\n",
      "   9.83136935e-01  5.46096300e-02  3.95654690e-01  7.43913011e-01\n",
      "   8.60237274e-01  8.94827156e-01  7.25466140e-01 -2.81020163e-01\n",
      "  -1.88614159e-01 -3.22457012e-01 -2.29664256e-01 -1.69677285e-01\n",
      "  -3.24808346e-01 -2.23030488e-01  1.96925006e-01  6.52832009e-02\n",
      "  -2.82966623e-01  1.41521418e-01  3.99428957e-02  2.65149546e-01\n",
      "   3.03780587e-01  2.40929691e-01]\n",
      " [-1.71828165e-01 -4.06580652e-01 -3.95163254e-01  5.53359258e-02\n",
      "  -3.78415892e-01 -2.35317338e-01 -3.45719003e-01 -3.12504462e-01\n",
      "  -2.76438514e-01 -3.25689941e-01  1.12434998e-01 -1.56387914e-01\n",
      "  -2.96615435e-01 -5.73223992e-02 -4.87676946e-01 -1.05430407e-01\n",
      "  -3.21375921e-01 -3.53386515e-01 -2.40116928e-01 -3.77589364e-01\n",
      "  -4.32981426e-01 -4.47933395e-01 -7.76809397e-02 -2.07590796e-01\n",
      "  -3.98270605e-01 -3.78335110e-01 -3.08600642e-01 -3.37503615e-01\n",
      "  -1.03087404e-01  8.64088742e-02  4.40193107e-02 -4.03260106e-01\n",
      "  -1.51971948e-01  8.45164003e-02 -4.50484815e-01  9.77953460e-02\n",
      "   8.31759030e-02  1.57671213e-02  1.70242703e-01  7.02516886e-02\n",
      "   1.56765947e-01  9.59314534e-02  1.92703830e-01  1.52136764e-01\n",
      "   2.43872750e-01  2.66047107e-01 -3.33934814e-01 -2.58099690e-01\n",
      "   8.15336981e-02  1.88648251e-01  2.73681893e-01 -4.25582776e-01\n",
      "  -2.74844709e-01 -3.47059424e-01 -3.85711878e-01 -2.63826250e-01\n",
      "  -3.01836567e-01 -2.59992611e-01 -3.90079088e-01 -3.16579585e-01\n",
      "  -3.21925827e-01 -1.97177614e-01  9.96704542e-02  5.59521368e-03\n",
      "   1.27018546e-01  2.18747976e-01 -2.04357521e-01 -2.42490306e-01\n",
      "  -2.48130502e-01 -2.43420177e-01  6.23377276e-02 -2.43764118e-01\n",
      "  -3.99017172e-01  6.36416485e-02  6.91158143e-01  4.35354776e-01\n",
      "  -6.18712688e-04 -1.27269188e-03  1.06837149e-01  1.64652951e-01\n",
      "   2.69141995e-01 -1.78948416e-01 -8.09034333e-02 -2.67974437e-01\n",
      "  -1.26986057e-01  1.53896963e-01 -3.04645995e-01 -9.59853087e-02\n",
      "  -1.05589181e-01  8.52510134e-02 -2.85288034e-01 -2.33849670e-01\n",
      "   2.84473797e-01  1.33606786e-01  9.34193968e-02  6.39691354e-02\n",
      "   1.61854348e-01  8.88618738e-02  1.80733449e-01  1.84449979e-01\n",
      "   3.24313044e-01 -3.18947942e-02  3.45833600e-01  4.47040850e-01\n",
      "   4.81190507e-01  3.64624476e-01  9.73390132e-01  9.83136935e-01\n",
      "   1.00000000e+00  6.90025181e-02  4.70099233e-01  7.03887061e-01\n",
      "   9.22295735e-01  9.42833682e-01  7.00826151e-01 -3.20583073e-01\n",
      "  -1.99301585e-01 -3.20849121e-01 -2.51657559e-01 -1.80829611e-01\n",
      "  -3.30618720e-01 -3.08107165e-01  1.58646785e-01  5.21761859e-02\n",
      "  -3.19949473e-01  1.61962154e-01  3.40860510e-02  2.17151508e-01\n",
      "   3.26740416e-01  3.06162855e-01]\n",
      " [ 3.51222705e-01  1.02961269e-01  1.49563372e-01 -4.59935276e-01\n",
      "   3.69023731e-02  2.19237166e-01  3.79290769e-01  1.22989377e-01\n",
      "   2.72735804e-01  3.18048527e-01 -2.96875042e-01 -2.71874033e-02\n",
      "   1.40451246e-01 -3.36959639e-01  1.86385526e-01 -2.89997188e-01\n",
      "   2.03434585e-01  4.57349139e-01 -4.07665969e-01  2.28077662e-01\n",
      "   3.99071526e-01  2.23958866e-01 -3.21571831e-01 -4.36186942e-01\n",
      "   4.51414279e-01  3.91054259e-01  3.12753194e-01  2.71654946e-01\n",
      "  -3.29011119e-01 -4.49256887e-01 -4.99025593e-01  2.91607624e-01\n",
      "   4.14091706e-01 -3.14380722e-01  2.04949603e-01 -4.49998886e-01\n",
      "  -3.61906649e-01 -5.56779904e-01 -4.30149879e-01 -4.49468094e-01\n",
      "  -4.32747047e-01 -2.29116945e-01 -4.75656499e-01 -4.69979543e-01\n",
      "  -4.40394992e-01 -3.49265057e-01  2.42342570e-01  2.78838225e-01\n",
      "  -4.35684338e-01 -3.49853134e-01 -2.99997129e-01  2.21715998e-01\n",
      "   3.39770831e-01  2.91567702e-01  1.11836764e-01  2.42371145e-01\n",
      "   4.15102646e-01  5.52894016e-01  1.76628313e-01  2.03230067e-01\n",
      "   7.62541614e-02 -3.59560592e-01 -5.98141577e-01 -3.17247297e-01\n",
      "  -4.67907081e-01 -4.23303798e-01  6.65723114e-01  6.37329507e-01\n",
      "   4.60591224e-01  2.99711134e-01 -3.59728759e-01  3.36733208e-01\n",
      "   3.74360386e-01 -4.43593337e-01  6.72659336e-02 -1.70508812e-01\n",
      "  -3.15246992e-01 -3.61497456e-01 -3.59647126e-01 -5.29206729e-01\n",
      "  -3.43656463e-01  2.63859107e-01  2.90637676e-01  8.39026418e-02\n",
      "   3.63506484e-01 -2.20409993e-01  1.38249472e-01  2.79939485e-01\n",
      "   1.45615120e-01 -3.76368504e-01  1.43063046e-01  9.30800912e-04\n",
      "  -3.29169407e-01 -2.44419231e-01 -2.89261593e-01 -2.11219241e-01\n",
      "  -4.34966357e-01 -3.06747757e-01 -3.83970618e-01 -3.69709658e-01\n",
      "  -4.71328373e-01 -2.33176267e-02  2.14414269e-01  7.49647057e-01\n",
      "   2.58752541e-01  1.81774161e-01  1.18088992e-01  5.46096300e-02\n",
      "   6.90025181e-02  1.00000000e+00  7.37056339e-02  2.41479697e-01\n",
      "   9.52612626e-02  8.41473419e-02  3.23341410e-01  4.91704299e-01\n",
      "   5.15988044e-01  4.19544801e-01  5.33739942e-01  4.91218795e-01\n",
      "   6.42592630e-01  3.52888203e-01 -4.29915376e-01 -2.66277713e-01\n",
      "   3.03744345e-01 -4.02989030e-01 -3.03708726e-01 -3.35020158e-01\n",
      "  -3.05129324e-01 -4.08648102e-01]\n",
      " [-1.94286210e-01 -2.80146468e-01 -3.15503504e-01 -5.92708311e-03\n",
      "  -3.39242280e-01 -2.86661298e-01 -2.72109664e-01 -2.67022884e-01\n",
      "  -1.77565198e-01 -3.38041515e-01  4.83319933e-02 -1.26517766e-01\n",
      "  -2.04778131e-01 -8.35949052e-02 -4.57111218e-01 -2.09783993e-01\n",
      "  -2.96203643e-01 -2.72320159e-01 -2.94328604e-01 -4.54371780e-01\n",
      "  -3.08005309e-01 -1.61266464e-01 -2.02435535e-01 -3.06316652e-01\n",
      "  -3.31236247e-01 -3.37755326e-01 -1.21926138e-01 -2.73673548e-01\n",
      "  -2.45655978e-01  1.22002015e-01 -6.41548949e-02 -2.83208166e-01\n",
      "  -1.66234395e-01 -8.58076534e-03 -2.66000423e-01  8.42659070e-02\n",
      "   1.84447113e-01  1.74294655e-02  1.25514079e-01  1.16389218e-02\n",
      "   1.23788413e-01  7.04235220e-02  5.77766597e-02  6.24585553e-02\n",
      "   3.55759313e-02  1.14508919e-01 -2.92352997e-01 -1.59233759e-01\n",
      "   1.14757647e-01  1.10609675e-01  6.50285257e-02 -3.31309946e-01\n",
      "  -1.84586220e-01 -3.00164297e-01 -2.41377775e-01 -1.88987039e-01\n",
      "  -2.44760186e-01 -1.05476578e-01 -2.97202892e-01 -2.67352615e-01\n",
      "  -1.63357124e-01 -2.88127627e-01  5.61583579e-02 -3.41759658e-02\n",
      "   3.36977375e-02  1.59705161e-01 -1.11048081e-01 -1.02272505e-01\n",
      "  -1.84090629e-01 -9.53705640e-02  1.25493336e-01 -1.05748363e-01\n",
      "  -2.45058695e-01  7.06188140e-02  4.79226752e-01  2.66790119e-01\n",
      "   1.57878238e-01  1.40139900e-01  2.50122671e-01  7.26199478e-02\n",
      "   1.82615299e-01 -3.86539594e-02 -6.53648054e-02 -1.09501536e-01\n",
      "   1.34441417e-02  3.17042230e-01 -4.73133935e-02  3.18050035e-02\n",
      "   1.35293696e-01 -1.88936138e-02 -1.49706958e-01 -1.34307018e-01\n",
      "   3.68779558e-01  3.24898248e-01  2.01047960e-01  9.16109986e-02\n",
      "   1.29737189e-01  2.10192026e-01  3.38586517e-01  3.00275275e-01\n",
      "   1.62436324e-01  1.41889623e-01  6.40391172e-01  7.98347124e-02\n",
      "   2.92256435e-01  1.71233825e-01  5.45711911e-01  3.95654690e-01\n",
      "   4.70099233e-01  7.37056339e-02  1.00000000e+00  1.76850083e-01\n",
      "   6.38733770e-01  5.56008423e-01  1.39675203e-01 -2.95562465e-01\n",
      "  -1.15336006e-01 -1.72459052e-01 -1.33402234e-01 -1.64683991e-01\n",
      "  -1.96110777e-01 -3.10309502e-01  5.77611407e-02  8.17192196e-02\n",
      "  -2.60244027e-01  3.04979917e-02 -1.45000395e-02  1.47288605e-01\n",
      "   2.37631411e-01  2.92454861e-01]\n",
      " [ 2.07191987e-02 -1.20347451e-01  3.58256289e-02 -2.90359920e-01\n",
      "  -4.60182581e-02 -3.31346040e-03 -5.29953578e-02 -1.48501976e-01\n",
      "  -3.84430150e-02  1.65381029e-02 -1.02935171e-01  8.73678815e-03\n",
      "  -1.33672209e-01 -6.02298564e-02 -1.35171478e-01 -3.08474529e-02\n",
      "   3.32040638e-02  2.15469756e-02 -9.05612602e-02 -4.16355703e-02\n",
      "  -1.36623779e-01 -3.83885190e-01 -1.46294502e-02 -1.59367336e-02\n",
      "   1.28382502e-03 -3.21649963e-02 -1.70776432e-01 -2.13636888e-02\n",
      "   1.92150590e-01 -2.89687283e-01 -2.04770843e-01 -9.61867308e-02\n",
      "   9.00791495e-03 -9.10632976e-02 -1.22402435e-01 -2.06082688e-01\n",
      "  -2.48359931e-01 -2.99640124e-01 -1.87693411e-01 -1.41249846e-01\n",
      "  -1.01190481e-01 -9.32973338e-02 -1.02005054e-02 -1.62880868e-01\n",
      "   3.31373005e-02  6.09610993e-02 -1.12964548e-01 -3.99824222e-02\n",
      "  -7.67733983e-02 -1.53002963e-02  2.06457501e-01 -1.18894554e-01\n",
      "   6.90403018e-02 -4.59629998e-03 -1.91550285e-01 -2.44876106e-02\n",
      "   9.15424102e-02 -1.04148779e-01 -8.99186648e-02  5.47385520e-02\n",
      "  -2.52130932e-01  5.70754721e-02 -1.24890510e-01 -1.13032606e-01\n",
      "  -1.72114899e-01 -7.62967674e-02  9.13091980e-03 -6.85022918e-02\n",
      "  -4.00420655e-02 -1.69986414e-01 -2.83506945e-01 -2.29974306e-01\n",
      "  -1.51876959e-01 -2.45463800e-01  3.40250214e-01  1.30792648e-01\n",
      "  -2.72429622e-01 -2.06992472e-01 -3.02570272e-01 -1.23670819e-01\n",
      "   6.01251197e-02  4.30328113e-02  1.36697695e-01 -6.40715526e-02\n",
      "   5.97199795e-02 -1.99020210e-01 -1.10258845e-01  6.06808656e-02\n",
      "  -9.36681139e-02 -5.68316722e-02 -1.15918236e-01 -1.45412844e-01\n",
      "  -1.53564305e-01 -1.96167715e-01 -1.46781843e-01  9.27930869e-02\n",
      "  -8.44062057e-02 -2.56396409e-01 -2.56889291e-01 -2.14423210e-01\n",
      "   5.05115994e-02 -5.12117257e-02  3.86569682e-01  6.25582991e-01\n",
      "   2.36692831e-01  3.03032746e-01  6.43039623e-01  7.43913011e-01\n",
      "   7.03887061e-01  2.41479697e-01  1.76850083e-01  1.00000000e+00\n",
      "   5.89165935e-01  6.25807142e-01  9.41655879e-01 -2.15499837e-02\n",
      "  -1.00669024e-01 -1.86858900e-02  1.65565582e-02  5.96646077e-02\n",
      "  -9.59702393e-03  1.50075207e-01  7.91484675e-02 -5.99935544e-02\n",
      "  -6.08809325e-03 -1.11422532e-01  2.59621262e-01 -1.26668323e-02\n",
      "  -3.25599769e-02 -8.87076885e-02]\n",
      " [-2.71280281e-01 -4.25383740e-01 -4.17511114e-01  1.71747961e-02\n",
      "  -4.00478537e-01 -3.67725728e-01 -4.12584206e-01 -3.46308313e-01\n",
      "  -2.62703371e-01 -4.15851818e-01  2.11792743e-01 -1.66394583e-01\n",
      "  -3.58469055e-01 -3.03615604e-02 -5.46385079e-01 -1.05256026e-01\n",
      "  -4.12422992e-01 -3.66246843e-01 -2.03202674e-01 -4.76512543e-01\n",
      "  -4.10092293e-01 -3.67929973e-01 -5.52592278e-02 -2.17097385e-01\n",
      "  -4.50100785e-01 -4.54100855e-01 -2.28299065e-01 -4.12009182e-01\n",
      "  -8.40557732e-02  1.49611728e-01  5.34637940e-02 -4.33630094e-01\n",
      "  -2.44254984e-01 -9.36792156e-03 -4.41268558e-01  1.47052772e-01\n",
      "   1.94102411e-01  1.14197081e-01  2.41934146e-01  1.35234130e-01\n",
      "   1.26131576e-01  1.02543359e-01  2.10032460e-01  1.37519716e-01\n",
      "   1.46329318e-01  2.32500784e-01 -3.62501800e-01 -2.73113757e-01\n",
      "   1.70807056e-01  2.40075979e-01  2.34632446e-01 -4.29213163e-01\n",
      "  -2.96983521e-01 -4.33129781e-01 -4.59133492e-01 -3.81887221e-01\n",
      "  -2.95890864e-01 -2.39613562e-01 -3.88422257e-01 -3.98934327e-01\n",
      "  -2.86629261e-01 -2.02519252e-01  7.29383405e-02 -2.12241013e-02\n",
      "   1.37059943e-01  2.59282512e-01 -2.35549201e-01 -1.52832053e-01\n",
      "  -3.31012580e-01 -2.49364382e-01  1.84093928e-01 -1.88524123e-01\n",
      "  -3.89448525e-01  1.52666227e-01  8.12916804e-01  5.43621557e-01\n",
      "   1.73485481e-01  6.01134923e-02  2.47362529e-01  1.39009684e-01\n",
      "   1.62139191e-01 -2.32642907e-01 -2.07972059e-01 -2.66264131e-01\n",
      "  -2.11832117e-01  2.85201721e-01 -2.77858675e-01 -1.95573452e-01\n",
      "  -3.57025982e-02  6.91181787e-02 -3.38082881e-01 -2.22658792e-01\n",
      "   3.10357853e-01  2.13693129e-01  1.69949027e-01  6.48923379e-02\n",
      "   1.00574869e-01  1.73162602e-01  1.89974225e-01  2.16499332e-01\n",
      "   2.21843524e-01  1.00236791e-01  4.41776362e-01  3.43392981e-01\n",
      "   5.07012916e-01  2.79238813e-01  9.58975972e-01  8.60237274e-01\n",
      "   9.22295735e-01  9.52612626e-02  6.38733770e-01  5.89165935e-01\n",
      "   1.00000000e+00  9.85024026e-01  5.65969431e-01 -3.29200251e-01\n",
      "  -1.06090179e-01 -2.32553904e-01 -2.95065697e-01 -2.30568443e-01\n",
      "  -2.72593881e-01 -3.57353004e-01  1.64806888e-01  1.68580695e-01\n",
      "  -2.66205521e-01  2.52399592e-01  6.79007001e-02  2.42951596e-01\n",
      "   4.19770229e-01  4.14371402e-01]\n",
      " [-2.78743930e-01 -3.94240613e-01 -4.15799537e-01  6.40252547e-02\n",
      "  -3.88464160e-01 -3.68760084e-01 -4.26470944e-01 -3.71839980e-01\n",
      "  -3.08487867e-01 -4.31032038e-01  2.14655815e-01 -2.01147233e-01\n",
      "  -3.74206899e-01 -1.45759882e-02 -4.81956974e-01 -9.62374399e-02\n",
      "  -4.19789337e-01 -3.53398847e-01 -1.61825668e-01 -4.14259865e-01\n",
      "  -4.24997214e-01 -3.85863003e-01 -4.12192514e-02 -1.77320663e-01\n",
      "  -4.45346167e-01 -4.37899726e-01 -2.55413297e-01 -4.08865949e-01\n",
      "  -8.65260924e-02  1.79614951e-01  1.04612985e-01 -4.30974051e-01\n",
      "  -2.60189123e-01 -1.55803468e-02 -4.41211420e-01  1.70426595e-01\n",
      "   1.97750661e-01  1.42880349e-01  2.47576529e-01  1.39503917e-01\n",
      "   1.46478538e-01  9.04652587e-02  2.58802199e-01  1.54892210e-01\n",
      "   1.56868821e-01  2.10480890e-01 -3.65742139e-01 -2.70487116e-01\n",
      "   1.83090951e-01  2.20101990e-01  2.44651828e-01 -4.23360235e-01\n",
      "  -3.08153241e-01 -4.40042889e-01 -4.65846191e-01 -4.16016810e-01\n",
      "  -2.46944944e-01 -2.64550517e-01 -3.65121491e-01 -3.84352551e-01\n",
      "  -2.98969179e-01 -1.48172205e-01  9.30739943e-02 -1.00336547e-02\n",
      "   1.43562764e-01  2.52462807e-01 -2.52861348e-01 -1.84525063e-01\n",
      "  -3.50230610e-01 -2.48027257e-01  1.79513973e-01 -1.94390342e-01\n",
      "  -4.00376047e-01  1.64082569e-01  8.35874128e-01  5.57145381e-01\n",
      "   1.60641274e-01  4.72502051e-02  2.29077718e-01  1.45345307e-01\n",
      "   1.51052448e-01 -2.22550569e-01 -1.83362430e-01 -2.85189294e-01\n",
      "  -2.24792042e-01  2.14843857e-01 -2.96394036e-01 -2.09092416e-01\n",
      "  -3.94599334e-02  8.75473300e-02 -2.94276509e-01 -2.13529453e-01\n",
      "   3.17179920e-01  1.87751100e-01  1.93719395e-01  4.02174910e-02\n",
      "   1.05600279e-01  1.66763957e-01  1.58082257e-01  1.88059250e-01\n",
      "   2.64470953e-01  9.36319468e-02  3.94189698e-01  3.83376954e-01\n",
      "   4.58672391e-01  2.15917083e-01  9.75490478e-01  8.94827156e-01\n",
      "   9.42833682e-01  8.41473419e-02  5.56008423e-01  6.25807142e-01\n",
      "   9.85024026e-01  1.00000000e+00  5.90191072e-01 -2.91834909e-01\n",
      "  -1.16540744e-01 -2.22274203e-01 -3.33800335e-01 -2.43474368e-01\n",
      "  -2.69313696e-01 -3.31595500e-01  1.94084284e-01  1.90787262e-01\n",
      "  -2.41157337e-01  2.31808865e-01  2.64609768e-02  2.73561649e-01\n",
      "   4.21519775e-01  3.65998677e-01]\n",
      " [ 1.48725167e-01 -1.22192876e-01 -9.08379846e-02 -3.25617788e-01\n",
      "  -8.28418007e-02  7.11696196e-02  8.71040820e-03 -1.43521048e-01\n",
      "  -2.43563988e-02  2.06078714e-02 -1.66800566e-01  4.54982992e-02\n",
      "  -3.26547307e-02 -8.57603123e-02 -1.38476104e-01 -6.93976689e-02\n",
      "   6.88423695e-02  9.81879423e-03 -1.75855315e-01 -2.91737235e-02\n",
      "  -1.61980619e-01 -3.70866153e-01 -4.13120697e-02 -8.29771424e-02\n",
      "  -2.54549077e-02  5.81392707e-03 -1.42322093e-01  5.61547320e-02\n",
      "   8.92229775e-02 -3.11287366e-01 -3.04315572e-01 -4.85338365e-02\n",
      "   1.57690160e-01 -7.08325256e-02 -1.33173911e-01 -3.10528416e-01\n",
      "  -3.15292665e-01 -4.20224821e-01 -2.75808413e-01 -2.68069159e-01\n",
      "  -1.47152709e-01 -1.48033068e-01 -9.51775045e-02 -1.94951774e-01\n",
      "   1.01840154e-01  1.40429517e-01 -1.36551505e-01  3.90117791e-04\n",
      "  -1.80424025e-01 -7.20393354e-02  9.83974661e-02 -1.60555268e-01\n",
      "   1.28102055e-01  1.40401905e-02 -1.71710651e-01  7.41997736e-02\n",
      "   6.44808887e-02  9.35551377e-03 -1.08774051e-01  7.52839990e-02\n",
      "  -2.83809910e-01 -3.71027767e-02 -2.04954230e-01 -1.96930339e-01\n",
      "  -1.61298245e-01 -7.05721602e-02  1.03611198e-01 -2.87021197e-02\n",
      "   5.00352771e-02 -1.32393691e-01 -3.65183118e-01 -1.76120097e-01\n",
      "  -1.86829572e-01 -3.25716446e-01  2.99703122e-01  1.04783027e-01\n",
      "  -3.76500989e-01 -3.43787768e-01 -3.39305357e-01 -1.35650070e-01\n",
      "   1.38379034e-01  1.12323483e-01  1.91054157e-01 -2.65657556e-02\n",
      "   1.42443489e-01 -1.37643767e-01 -5.26262938e-02  1.53480283e-01\n",
      "  -7.42119605e-02 -1.21819300e-01 -1.25639742e-01 -1.51423537e-01\n",
      "  -1.47735223e-01 -1.98715587e-01 -2.14132169e-01  1.41660207e-01\n",
      "  -1.06073134e-01 -2.98502484e-01 -2.18008028e-01 -1.75869473e-01\n",
      "   1.51382450e-02 -1.17128806e-01  3.52996671e-01  6.48943577e-01\n",
      "   2.91584426e-01  4.82577968e-01  6.25960564e-01  7.25466140e-01\n",
      "   7.00826151e-01  3.23341410e-01  1.39675203e-01  9.41655879e-01\n",
      "   5.65969431e-01  5.90191072e-01  1.00000000e+00 -3.89326937e-02\n",
      "  -8.56943593e-02 -3.25057599e-03  1.11043502e-01  1.80549327e-01\n",
      "   3.82832371e-02  9.04529250e-02  3.40153683e-02 -1.44810770e-01\n",
      "  -4.16365023e-02 -1.36859817e-01  1.73400264e-01 -8.85180906e-02\n",
      "  -3.08295055e-02 -1.03348485e-01]\n",
      " [ 4.22031073e-02  2.42204862e-01  3.82605457e-01 -3.61146679e-01\n",
      "  -8.54175596e-03  5.81597630e-02  2.88062546e-01  1.94547256e-02\n",
      "   1.01868700e-01  2.03934445e-01 -2.80800939e-01 -1.34890295e-01\n",
      "   4.66356504e-02 -2.00753092e-01  3.02712689e-01 -2.34506860e-01\n",
      "   1.99967444e-01  4.40666682e-01 -1.16368270e-01  3.47838983e-01\n",
      "   4.70633747e-01  2.29767877e-01 -2.17947028e-01 -2.20342264e-01\n",
      "   4.47863386e-01  3.18349587e-01  1.81409657e-01  1.75087384e-01\n",
      "  -1.16928810e-01 -4.82232018e-01 -3.94813899e-01  2.09596244e-01\n",
      "   4.71173081e-02 -4.26802096e-01  3.15148994e-01 -4.55221110e-01\n",
      "  -2.45926447e-01 -3.72586371e-01 -3.96529130e-01 -3.37243885e-01\n",
      "  -3.78302772e-01 -2.54876238e-01  9.85844124e-02 -4.61126229e-01\n",
      "  -6.03930950e-01 -5.40945690e-01  3.74685261e-01  4.02148084e-01\n",
      "  -1.60874806e-01 -2.76121080e-01 -1.38515865e-01  4.35719202e-01\n",
      "   5.94081923e-01  3.01509007e-01  2.35370224e-01  2.11852806e-01\n",
      "   6.15046472e-01  3.74606197e-01  5.57415606e-01  3.99017985e-01\n",
      "   2.13002485e-01 -5.36910451e-02 -2.49737730e-01 -1.86961166e-01\n",
      "  -2.26177501e-01 -1.66991066e-01  3.96275061e-01  3.64260371e-01\n",
      "   3.17703177e-01  3.56044560e-01 -2.62010927e-01  2.21932596e-01\n",
      "   5.05730126e-01 -2.51289467e-01 -2.45031600e-01 -3.02668758e-01\n",
      "  -2.37916504e-01 -2.56726606e-01 -2.78931296e-01 -2.19816421e-01\n",
      "  -4.88741708e-01  1.53152566e-01  1.99309059e-01  4.03249826e-02\n",
      "   2.24309553e-01 -3.95122869e-01  9.88816573e-02  1.51382071e-01\n",
      "   1.12282498e-01 -2.75250373e-01  2.15593990e-01  9.18087998e-02\n",
      "  -4.01732722e-01 -2.87174549e-01 -2.43928917e-01 -2.62354439e-01\n",
      "  -3.47345370e-01 -2.67961055e-01 -3.98557455e-01 -3.96897530e-01\n",
      "  -4.05393707e-01 -6.35587194e-02 -7.23900447e-02  4.14224604e-01\n",
      "  -2.37377470e-01 -2.66649368e-01 -2.91173018e-01 -2.81020163e-01\n",
      "  -3.20583073e-01  4.91704299e-01 -2.95562465e-01 -2.15499837e-02\n",
      "  -3.29200251e-01 -2.91834909e-01 -3.89326937e-02  1.00000000e+00\n",
      "   6.48357200e-01  8.67056985e-01  5.30354523e-01  3.84234821e-01\n",
      "   8.30622645e-01  7.37750944e-01  7.39515844e-02  2.70411683e-01\n",
      "   8.82889980e-01 -8.07601868e-02 -7.92686553e-02  1.21094148e-01\n",
      "   4.08457683e-02 -1.18766775e-01]\n",
      " [ 5.60596670e-02  3.23705346e-02  2.42495658e-01 -3.03859339e-01\n",
      "  -1.22310874e-01 -3.05728104e-02  3.32466755e-01  1.05380916e-01\n",
      "   2.04253574e-01  1.46508544e-01  1.10070110e-01 -1.17096462e-01\n",
      "  -7.19301183e-02 -2.95326108e-01  1.63460270e-01 -3.05355634e-01\n",
      "   1.22414723e-01  4.59416432e-01 -2.65148991e-01  1.63951567e-01\n",
      "   4.44723403e-01  1.15840876e-01 -1.80817740e-01 -2.34985121e-01\n",
      "   4.37759961e-01  2.98590507e-01  3.75564361e-01  8.90460761e-02\n",
      "   5.77118242e-02 -2.44941700e-01 -1.39828991e-01  9.90199304e-02\n",
      "   7.56318169e-02 -2.20835593e-01  1.54520202e-01 -2.82204215e-01\n",
      "  -1.76156465e-01 -2.64203113e-01 -1.43208549e-01  6.68878312e-03\n",
      "  -2.66674123e-01  2.89518481e-02 -4.89807104e-02 -2.60143911e-01\n",
      "  -3.41361672e-01 -2.81834980e-01  5.13435425e-01  9.28644015e-02\n",
      "  -1.22480561e-01  4.13275522e-02 -5.14494857e-03  3.13410956e-01\n",
      "   3.51125702e-01  2.25987940e-01 -2.97816777e-02 -1.56767523e-02\n",
      "   3.85135809e-01  2.34444825e-01  1.53825223e-01 -3.51766758e-02\n",
      "   1.39416812e-01 -1.48445450e-01 -4.34920874e-01 -1.64817686e-01\n",
      "  -2.82226266e-01 -2.47624789e-01  3.20067806e-01  6.45968789e-01\n",
      "   1.23402792e-01  5.37740663e-01 -1.91737833e-01  4.45038206e-01\n",
      "   4.80198794e-01 -2.05742812e-01 -8.55560491e-02 -9.18397311e-02\n",
      "  -1.27780136e-01 -2.20993767e-01 -1.82401259e-01 -1.37101472e-01\n",
      "  -4.72223912e-01 -1.14784865e-01 -5.41918078e-02 -1.61922616e-01\n",
      "   4.71576050e-02 -2.79529610e-01 -1.25504795e-01 -5.18413581e-02\n",
      "   3.49983335e-02 -3.06748660e-01 -1.12551979e-01  7.92886299e-02\n",
      "  -4.11452862e-01 -2.90416257e-01 -3.19367899e-01 -2.96969628e-01\n",
      "  -4.82107260e-01 -3.97878873e-01 -3.40604740e-01 -4.12566790e-01\n",
      "  -5.43615659e-01  2.06887761e-02 -7.27470811e-02  3.24833807e-01\n",
      "   2.13705513e-01 -6.41829973e-02 -1.52167254e-01 -1.88614159e-01\n",
      "  -1.99301585e-01  5.15988044e-01 -1.15336006e-01 -1.00669024e-01\n",
      "  -1.06090179e-01 -1.16540744e-01 -8.56943593e-02  6.48357200e-01\n",
      "   1.00000000e+00  6.81681772e-01  4.55218317e-01  2.82118998e-01\n",
      "   7.47056545e-01  5.45771053e-01  1.21236250e-01  2.82879370e-01\n",
      "   7.63972465e-01 -2.10618686e-02 -1.55585136e-01  1.55195136e-01\n",
      "   1.64562412e-01 -3.74618160e-02]\n",
      " [ 5.54208156e-02  2.34781850e-01  2.75824416e-01 -3.99691754e-01\n",
      "  -1.03927448e-02  1.18081522e-02  2.84005263e-01  4.60174463e-02\n",
      "   1.60301522e-01  1.56952802e-01 -1.54631930e-01 -1.76489748e-02\n",
      "   6.97185111e-02 -2.28078662e-01  2.61097869e-01 -3.31903748e-01\n",
      "   2.24331794e-01  3.74090148e-01 -9.32780140e-02  2.11986961e-01\n",
      "   3.23347978e-01  1.75405926e-01 -1.17716480e-01 -1.87814772e-01\n",
      "   3.06302126e-01  2.66973934e-01  2.01985444e-01  1.70942575e-01\n",
      "  -4.98372271e-02 -3.75001906e-01 -3.63663114e-01  1.75995222e-01\n",
      "   4.39012879e-02 -4.62870919e-01  2.73173005e-01 -4.34981311e-01\n",
      "  -1.57783124e-01 -3.43009026e-01 -4.00280386e-01 -3.20240818e-01\n",
      "  -4.14260565e-01 -3.46990094e-01  1.22745906e-01 -4.27213700e-01\n",
      "  -4.82196667e-01 -3.80454224e-01  2.50005605e-01  3.20168789e-01\n",
      "  -1.18169005e-01 -2.21587221e-01 -2.25889364e-01  4.07361135e-01\n",
      "   6.25926478e-01  2.39929768e-01  8.90976534e-02  1.44018518e-01\n",
      "   6.46172360e-01  3.17495154e-01  5.29102193e-01  4.22342922e-01\n",
      "   1.15610203e-01 -3.22526034e-02 -3.24643923e-01 -2.35866112e-01\n",
      "  -2.51136107e-01 -1.73751027e-01  3.68136703e-01  3.66574921e-01\n",
      "   2.64148775e-01  3.35950165e-01 -2.10475062e-01  1.93002060e-01\n",
      "   4.06822607e-01 -2.31493565e-01 -1.43590830e-01 -1.99324921e-01\n",
      "  -1.39528283e-01 -2.49052426e-01 -1.90532858e-01 -2.05883504e-01\n",
      "  -4.75188437e-01  1.66711273e-01  9.97674155e-02  3.82410977e-02\n",
      "   1.51716724e-01 -3.17889923e-01  1.36436243e-01  7.68988667e-02\n",
      "   1.48209010e-01 -3.24228710e-01  1.15002637e-01 -3.94592967e-02\n",
      "  -4.08780356e-01 -2.93192468e-01 -2.33490493e-01 -1.94368300e-01\n",
      "  -4.46679839e-01 -2.87801773e-01 -4.36606798e-01 -4.29894205e-01\n",
      "  -5.47293825e-01  3.21054536e-03  2.44984403e-02  2.56114830e-01\n",
      "  -1.99175704e-01 -1.92467459e-01 -2.73771333e-01 -3.22457012e-01\n",
      "  -3.20849121e-01  4.19544801e-01 -1.72459052e-01 -1.86858900e-02\n",
      "  -2.32553904e-01 -2.22274203e-01 -3.25057599e-03  8.67056985e-01\n",
      "   6.81681772e-01  1.00000000e+00  5.31201020e-01  4.17697735e-01\n",
      "   9.11185555e-01  6.60335240e-01  1.61396848e-01  3.36779551e-01\n",
      "   8.82233990e-01 -3.33507949e-02 -2.51477577e-02  1.51781276e-01\n",
      "   2.01334117e-01  2.30567516e-03]\n",
      " [ 4.93064126e-01  1.91999396e-01  4.08450232e-01 -5.43919852e-01\n",
      "   1.62702963e-01  4.49439982e-01  7.42050406e-01  4.62117293e-01\n",
      "   5.60135582e-01  6.61441072e-01 -5.38533542e-01  1.77837689e-01\n",
      "   4.28146028e-01 -5.52158669e-01  2.55323905e-01 -4.20005631e-01\n",
      "   6.46405681e-01  4.70625874e-01 -5.12470325e-01  2.21254401e-01\n",
      "   5.37939436e-01  2.49563173e-01 -4.36392468e-01 -4.90013899e-01\n",
      "   5.71402026e-01  6.61841211e-01  2.14831900e-01  5.30776049e-01\n",
      "  -1.73736355e-01 -6.49465254e-01 -6.19842068e-01  4.93631104e-01\n",
      "   5.17752685e-01 -1.19992923e-01  4.57672043e-01 -6.79196652e-01\n",
      "  -5.71386671e-01 -7.09681339e-01 -6.89957958e-01 -5.00288860e-01\n",
      "  -5.40444475e-01 -2.91272876e-01 -5.09053413e-01 -4.76608243e-01\n",
      "  -3.81272446e-01 -3.01565575e-01  4.83767286e-01  3.71109028e-01\n",
      "  -5.25686648e-01 -4.58038773e-01 -3.69045990e-01  4.95071246e-01\n",
      "   7.68650165e-01  7.86732070e-01  4.66487407e-01  7.17281745e-01\n",
      "   4.25178858e-01  4.77424135e-01  3.53980100e-01  4.70296802e-01\n",
      "   1.70059636e-01 -3.43699164e-01 -5.53638217e-01 -2.60126312e-01\n",
      "  -4.88398731e-01 -3.97957863e-01  6.53658505e-01  5.58518065e-01\n",
      "   6.47367175e-01  3.93314268e-01 -5.79651351e-01  1.31019769e-01\n",
      "   4.57105511e-01 -5.36533705e-01 -4.67897396e-01 -4.40336707e-01\n",
      "  -4.53710986e-01 -3.22212843e-01 -5.04877959e-01 -3.23807843e-01\n",
      "  -2.56465345e-01  3.02894873e-01  4.57790414e-01  2.94878425e-01\n",
      "   5.76233686e-01 -3.57878454e-01  2.64349258e-01  5.21435453e-01\n",
      "   3.14906356e-02 -4.17064615e-01  9.58970175e-02 -2.71294692e-02\n",
      "  -5.43091282e-01 -4.91007963e-01 -6.43608832e-01 -2.86512486e-01\n",
      "  -3.27228950e-01 -4.70689846e-01 -2.85527072e-01 -4.31066049e-01\n",
      "  -5.48201721e-01 -4.33644961e-01 -2.08271798e-01  4.11442008e-01\n",
      "  -1.83423743e-01  2.50473306e-01 -3.14111783e-01 -2.29664256e-01\n",
      "  -2.51657559e-01  5.33739942e-01 -1.33402234e-01  1.65565582e-02\n",
      "  -2.95065697e-01 -3.33800335e-01  1.11043502e-01  5.30354523e-01\n",
      "   4.55218317e-01  5.31201020e-01  1.00000000e+00  6.78583346e-01\n",
      "   6.68067495e-01  6.55779262e-01 -3.25170106e-01 -3.71369163e-01\n",
      "   4.73870883e-01 -3.70214358e-01 -2.62058099e-01 -3.24899839e-01\n",
      "  -3.58647754e-01 -2.72683248e-01]\n",
      " [ 8.17414877e-01  4.56638014e-02  4.38223084e-02 -5.25418916e-01\n",
      "   3.68260502e-01  5.87558414e-01  3.51629142e-01  4.33652031e-01\n",
      "   6.96359623e-01  6.69646073e-01 -4.04097334e-01  4.13441565e-01\n",
      "   3.76599767e-01 -3.43809514e-01  1.40202681e-01 -2.80283717e-01\n",
      "   2.56940110e-01  3.05467500e-01 -3.59423578e-01  8.46363934e-02\n",
      "   1.92017135e-01  5.97614432e-02 -3.06972564e-01 -3.47579761e-01\n",
      "   3.43375755e-01  4.16003067e-01  4.13380568e-02  2.81100335e-01\n",
      "  -2.12538464e-01 -5.13118133e-01 -5.18895708e-01  3.80658769e-01\n",
      "   8.39665368e-01 -2.08829460e-01  9.13237387e-02 -5.28668198e-01\n",
      "  -4.02701323e-01 -5.52513665e-01 -5.60743849e-01 -4.56332970e-01\n",
      "  -5.08306520e-01 -2.37218744e-01 -3.25967396e-01 -5.07748291e-01\n",
      "  -2.30580918e-01 -1.69046649e-01  2.62121767e-01  1.98797020e-01\n",
      "  -4.07054055e-01 -3.32535082e-01 -3.61855628e-01  3.19090048e-01\n",
      "   3.95890242e-01  5.69791568e-01  1.37805119e-01  4.83527384e-01\n",
      "   3.09473504e-01  6.66700416e-01  1.86798475e-01  4.91301115e-01\n",
      "   2.17284853e-02 -2.35055470e-01 -4.25944723e-01 -2.81530826e-01\n",
      "  -3.86005705e-01 -3.59571434e-01  7.17194634e-01  4.91220513e-01\n",
      "   7.06449132e-01  2.45523475e-01 -4.38768198e-01  4.66324322e-02\n",
      "   2.53257354e-01 -4.53927591e-01 -3.20700380e-01 -3.16827215e-01\n",
      "  -3.91097615e-01 -3.31673512e-01 -4.34132627e-01 -3.39252552e-01\n",
      "  -1.24326163e-01  2.97792490e-01  3.52651756e-01  1.94169824e-01\n",
      "   4.03674383e-01 -3.13184743e-01  2.14174682e-01  3.70791186e-01\n",
      "  -8.00594768e-02 -3.25585163e-01  3.64721885e-02 -1.48145116e-01\n",
      "  -4.55357728e-01 -4.25689244e-01 -4.34305720e-01 -2.68829939e-01\n",
      "  -3.23358742e-01 -3.97727643e-01 -2.94436180e-01 -3.67887127e-01\n",
      "  -4.21782748e-01 -2.54157892e-01 -1.24369706e-01  2.93351357e-01\n",
      "  -8.77870724e-02  2.47605578e-01 -2.54131083e-01 -1.69677285e-01\n",
      "  -1.80829611e-01  4.91218795e-01 -1.64683991e-01  5.96646077e-02\n",
      "  -2.30568443e-01 -2.43474368e-01  1.80549327e-01  3.84234821e-01\n",
      "   2.82118998e-01  4.17697735e-01  6.78583346e-01  1.00000000e+00\n",
      "   5.47112460e-01  3.38275850e-01 -2.25070704e-01 -2.77796462e-01\n",
      "   2.52172203e-01 -2.86558502e-01 -3.02211643e-01 -2.64970928e-01\n",
      "  -2.47391992e-01 -2.24849665e-01]\n",
      " [ 2.39422314e-01  2.66616981e-01  3.68960480e-01 -4.70188717e-01\n",
      "   7.79257450e-02  1.92534503e-01  4.45182086e-01  1.82979885e-01\n",
      "   3.20154820e-01  3.32745018e-01 -1.97915644e-01 -6.25260340e-03\n",
      "   1.46788387e-01 -2.97551006e-01  3.62692090e-01 -3.57447139e-01\n",
      "   3.27541882e-01  5.40586576e-01 -2.16960499e-01  2.85702202e-01\n",
      "   4.67020018e-01  2.11511122e-01 -2.09239645e-01 -2.97943003e-01\n",
      "   5.08746988e-01  4.44686610e-01  3.62533109e-01  3.23198919e-01\n",
      "  -1.26739801e-01 -4.12009584e-01 -3.98387467e-01  3.16379925e-01\n",
      "   2.50202207e-01 -4.64506230e-01  3.85147939e-01 -4.45021564e-01\n",
      "  -2.83412137e-01 -4.35999336e-01 -4.52428854e-01 -3.70145380e-01\n",
      "  -5.07795527e-01 -3.64709324e-01 -1.60319582e-01 -5.25663072e-01\n",
      "  -5.14909725e-01 -4.16742632e-01  3.22346857e-01  3.60091077e-01\n",
      "  -2.77777448e-01 -2.96747255e-01 -3.43117709e-01  4.51371144e-01\n",
      "   6.13555324e-01  3.74177062e-01  1.63200191e-01  2.56188031e-01\n",
      "   6.92389404e-01  4.95707384e-01  4.86126996e-01  4.29361379e-01\n",
      "   1.75136067e-01 -1.83897875e-01 -5.37073417e-01 -3.43437175e-01\n",
      "  -4.28918758e-01 -3.39828893e-01  5.58837024e-01  5.39395497e-01\n",
      "   4.28592688e-01  3.83615555e-01 -3.40181005e-01  3.20217086e-01\n",
      "   5.56967012e-01 -3.94561708e-01 -2.40103669e-01 -3.33034791e-01\n",
      "  -3.01835493e-01 -3.19054432e-01 -3.33696197e-01 -3.52332749e-01\n",
      "  -4.90867885e-01  2.29309016e-01  1.85687294e-01  1.25645268e-01\n",
      "   2.61707111e-01 -3.42613053e-01  2.28254065e-01  1.78469974e-01\n",
      "   1.39435228e-01 -4.07771775e-01  1.72790303e-01 -3.86378347e-02\n",
      "  -4.66255838e-01 -3.85582906e-01 -4.01148177e-01 -2.93757521e-01\n",
      "  -5.29583286e-01 -4.04438972e-01 -5.33971407e-01 -5.17335318e-01\n",
      "  -6.20059383e-01 -7.77607421e-02  9.71214157e-03  4.13622944e-01\n",
      "  -1.32561803e-01 -9.10688406e-02 -2.99780844e-01 -3.24808346e-01\n",
      "  -3.30618720e-01  6.42592630e-01 -1.96110777e-01 -9.59702393e-03\n",
      "  -2.72593881e-01 -2.69313696e-01  3.82832371e-02  8.30622645e-01\n",
      "   7.47056545e-01  9.11185555e-01  6.68067495e-01  5.47112460e-01\n",
      "   1.00000000e+00  6.87817956e-01 -5.80177075e-02  7.73631232e-02\n",
      "   7.85643642e-01 -2.04288348e-01 -1.56855946e-01 -5.87996001e-02\n",
      "  -1.51524395e-02 -1.85445078e-01]\n",
      " [ 1.24353067e-01  2.85664347e-01  6.16838901e-01 -4.77669034e-01\n",
      "   1.10131422e-01  2.08043502e-01  5.25284854e-01  1.68175523e-01\n",
      "   2.43490145e-01  4.69336111e-01 -2.70495863e-01 -2.91783196e-02\n",
      "   6.64664820e-02 -2.62644664e-01  4.27848062e-01 -2.83287886e-01\n",
      "   5.16010384e-01  5.46939174e-01 -1.17101612e-01  4.33864022e-01\n",
      "   5.46221980e-01  1.03853392e-01 -1.77623922e-01 -1.06126459e-01\n",
      "   5.64205862e-01  5.41716701e-01  1.08394484e-01  3.60266001e-01\n",
      "   1.69460124e-01 -5.29978016e-01 -3.02216818e-01  2.87530279e-01\n",
      "   9.97935841e-02 -2.80433017e-01  4.51533801e-01 -4.52541523e-01\n",
      "  -5.03888383e-01 -3.93059601e-01 -4.30740775e-01 -2.10701785e-01\n",
      "  -4.04705618e-01 -1.60781560e-01 -9.59224526e-02 -3.63648285e-01\n",
      "  -4.62208614e-01 -4.47264494e-01  5.85204832e-01  2.75963781e-01\n",
      "  -2.53087813e-01 -2.88659343e-01  5.55819642e-02  6.23795341e-01\n",
      "   6.46077718e-01  6.24025992e-01  2.72938126e-01  3.18157903e-01\n",
      "   5.81031681e-01  1.92073239e-01  5.22475039e-01  3.38928888e-01\n",
      "   5.91393321e-02  4.33051104e-02 -3.85192780e-01 -6.70609159e-03\n",
      "  -3.51172121e-01 -2.83895658e-01  3.08549674e-01  4.30084442e-01\n",
      "   2.47743057e-01  2.94137986e-01 -3.91170540e-01  3.88091791e-02\n",
      "   4.36038023e-01 -2.56376786e-01 -3.90386935e-01 -2.71421768e-01\n",
      "  -3.59674985e-01 -2.24949925e-01 -4.24900430e-01 -1.31972218e-01\n",
      "  -4.74132719e-01  8.50293591e-02  2.13886276e-01  9.52808541e-02\n",
      "   2.08005668e-01 -4.79499607e-01  8.41414968e-02  1.34692579e-01\n",
      "  -2.75965202e-02 -1.87659418e-01  9.24316812e-02  9.09799552e-04\n",
      "  -5.86745613e-01 -4.75955190e-01 -4.63335426e-01 -3.47405504e-01\n",
      "  -3.87557171e-01 -4.93702011e-01 -4.50554247e-01 -5.91788298e-01\n",
      "  -4.36078760e-01 -2.30358262e-01 -1.60174103e-01  3.61845587e-01\n",
      "  -2.46912064e-01 -8.94269829e-02 -3.36802771e-01 -2.23030488e-01\n",
      "  -3.08107165e-01  3.52888203e-01 -3.10309502e-01  1.50075207e-01\n",
      "  -3.57353004e-01 -3.31595500e-01  9.04529250e-02  7.37750944e-01\n",
      "   5.45771053e-01  6.60335240e-01  6.55779262e-01  3.38275850e-01\n",
      "   6.87817956e-01  1.00000000e+00  7.35280229e-02  6.51709809e-02\n",
      "   7.87623425e-01 -7.17483945e-02 -4.16630596e-03  2.18671354e-02\n",
      "  -1.78443199e-01 -2.41983868e-01]\n",
      " [-3.72445966e-01 -2.99125632e-01 -2.08582318e-01  2.68021729e-01\n",
      "  -3.21473542e-01 -4.52233898e-01 -3.75288097e-01 -4.50059028e-01\n",
      "  -3.84721367e-01 -4.81229346e-01  4.40632194e-01 -2.06263765e-01\n",
      "  -4.70288059e-01  1.20150121e-01 -2.78923273e-01  5.91734903e-02\n",
      "  -3.02483730e-01 -2.02460813e-01  1.28544173e-01 -2.28918208e-01\n",
      "  -3.56034053e-01 -6.00770200e-01  1.97298327e-01  1.86687988e-01\n",
      "  -2.91470729e-01 -4.26593725e-01 -3.66588166e-01 -4.48658808e-01\n",
      "   3.09941010e-01  2.18256350e-01  3.50022445e-01 -4.43641231e-01\n",
      "  -4.17333350e-01  6.64659321e-02 -3.85731738e-01  2.27337818e-01\n",
      "   2.34170631e-01  3.07657456e-01  3.56680252e-01  4.35383876e-01\n",
      "   2.90875649e-01  3.18888662e-01  7.94604699e-01  2.48054270e-01\n",
      "   3.19199719e-01  3.62877954e-01 -8.12357604e-02 -3.75668945e-01\n",
      "   5.94535993e-01  5.75968093e-01  6.26198778e-01 -1.28623039e-01\n",
      "  -5.50248929e-02 -3.09054898e-01 -3.70924610e-01 -4.49368560e-01\n",
      "  -1.02445952e-01 -3.97927565e-01 -2.13197565e-01 -2.42623305e-01\n",
      "  -3.72087440e-01  3.16595597e-01  4.16195572e-01  2.17108223e-01\n",
      "   3.59027655e-01  3.37585650e-01 -4.52282736e-01 -1.72528769e-01\n",
      "  -4.98237845e-01 -1.31061925e-01  2.96100256e-01 -3.77768553e-01\n",
      "  -3.27638717e-01  4.48176928e-01  3.05867601e-01  4.70653711e-01\n",
      "   2.43975644e-01  2.27594014e-01  3.47505869e-01  6.58171286e-01\n",
      "   9.60555871e-02 -4.49546379e-01 -4.60314968e-01 -4.12210718e-01\n",
      "  -4.83610913e-01 -3.67284178e-02 -3.95493255e-01 -4.34423396e-01\n",
      "  -3.53774409e-01  2.16491826e-01 -4.26227036e-01 -1.91544781e-01\n",
      "   2.39725515e-02  1.76579166e-01  1.53242449e-01 -1.37374810e-01\n",
      "   4.96774283e-02 -6.93858276e-02  4.85430129e-04  4.71922529e-02\n",
      "   2.04756494e-01 -1.00280366e-01 -3.87302485e-02 -2.89499445e-01\n",
      "   2.25485408e-01  4.48248968e-03  1.77540438e-01  1.96925006e-01\n",
      "   1.58646785e-01 -4.29915376e-01  5.77611407e-02  7.91484675e-02\n",
      "   1.64806888e-01  1.94084284e-01  3.40153683e-02  7.39515844e-02\n",
      "   1.21236250e-01  1.61396848e-01 -3.25170106e-01 -2.25070704e-01\n",
      "  -5.80177075e-02  7.35280229e-02  1.00000000e+00  8.42712591e-01\n",
      "   3.03066164e-01  5.62338719e-01  2.61214959e-01  7.69535116e-01\n",
      "   6.83409221e-01  5.07395485e-01]\n",
      " [-5.11702669e-01 -2.60067833e-01 -2.42532493e-01  2.32755242e-01\n",
      "  -3.54425354e-01 -5.42565722e-01 -4.37391638e-01 -4.46241039e-01\n",
      "  -4.48827206e-01 -5.55150538e-01  4.44466476e-01 -2.94747855e-01\n",
      "  -5.25218069e-01  1.24262905e-01 -2.69892294e-01 -6.37222964e-03\n",
      "  -4.29894121e-01 -2.12334021e-01  1.11062692e-01 -2.35657974e-01\n",
      "  -3.06089741e-01 -3.96522522e-01  1.24549879e-01  1.08522721e-01\n",
      "  -3.30649016e-01 -4.56154087e-01 -3.11831300e-01 -5.10513569e-01\n",
      "   2.00787710e-01  2.26111773e-01  3.27297366e-01 -4.38182423e-01\n",
      "  -5.31678993e-01 -6.22201507e-02 -3.90003604e-01  2.45828634e-01\n",
      "   3.60699244e-01  3.70350860e-01  3.86503852e-01  4.14525140e-01\n",
      "   2.70943637e-01  3.24313124e-01  8.34916834e-01  2.06345807e-01\n",
      "   5.64859829e-02  1.03575224e-01 -9.82444419e-02 -2.36701518e-01\n",
      "   5.99330225e-01  4.76015107e-01  5.68110430e-01 -1.72011159e-01\n",
      "  -6.65188920e-02 -4.27386506e-01 -3.85402307e-01 -5.78452670e-01\n",
      "  -3.77939146e-02 -2.69127815e-01 -9.29241583e-02 -2.79808888e-01\n",
      "  -2.13216555e-01  2.57131306e-01  3.75023429e-01  2.32559258e-01\n",
      "   3.59443122e-01  4.10670355e-01 -4.21476555e-01 -4.24971429e-02\n",
      "  -4.99551567e-01 -1.09033788e-01  4.05925653e-01 -1.87045915e-01\n",
      "  -2.54502706e-01  4.78540427e-01  4.15561874e-01  4.83138561e-01\n",
      "   4.29491884e-01  2.20860631e-01  4.12799288e-01  4.06394908e-01\n",
      "  -9.82131605e-02 -4.13967948e-01 -4.62129793e-01 -3.70051634e-01\n",
      "  -4.94482435e-01  7.13562262e-02 -3.61397623e-01 -4.81276466e-01\n",
      "  -2.01035802e-01  1.58930820e-01 -3.30702983e-01 -1.00716377e-01\n",
      "   8.46109512e-02  2.70018747e-01  3.67243310e-01 -9.66853891e-02\n",
      "   4.68443371e-03  9.46668615e-02  4.36524900e-03  7.92094578e-02\n",
      "   1.63137856e-01  1.08535165e-01 -9.37278244e-03 -2.61354732e-01\n",
      "   2.23318750e-01 -2.36758757e-01  1.45008646e-01  6.52832009e-02\n",
      "   5.21761859e-02 -2.66277713e-01  8.17192196e-02 -5.99935544e-02\n",
      "   1.68580695e-01  1.90787262e-01 -1.44810770e-01  2.70411683e-01\n",
      "   2.82879370e-01  3.36779551e-01 -3.71369163e-01 -2.77796462e-01\n",
      "   7.73631232e-02  6.51709809e-02  8.42712591e-01  1.00000000e+00\n",
      "   4.57319171e-01  5.98120066e-01  2.47026954e-01  8.21716214e-01\n",
      "   7.52608196e-01  5.42283924e-01]\n",
      " [-8.63969971e-02  1.67503731e-01  4.05697298e-01 -3.47636737e-01\n",
      "  -4.85909042e-02 -6.65347652e-02  2.88100998e-01  5.20821300e-03\n",
      "   6.56708728e-02  1.25119082e-01 -1.26830493e-01 -1.50177495e-01\n",
      "  -6.59181364e-02 -1.73020468e-01  2.64524088e-01 -2.45622543e-01\n",
      "   2.15808808e-01  4.12947598e-01 -6.80809742e-02  2.58729433e-01\n",
      "   4.18405718e-01  1.34549692e-01 -1.20032972e-01 -9.34026233e-02\n",
      "   3.56419786e-01  2.61365323e-01  1.30267749e-01  1.08837572e-01\n",
      "   9.89619165e-02 -3.81315978e-01 -2.50104977e-01  8.96868418e-02\n",
      "  -1.02360438e-01 -3.45029999e-01  2.58684083e-01 -3.69837040e-01\n",
      "  -1.85568571e-01 -2.66009835e-01 -2.93465035e-01 -1.48341789e-01\n",
      "  -3.24300574e-01 -1.62807479e-01  2.08489141e-01 -3.44343078e-01\n",
      "  -4.63456137e-01 -4.20610336e-01  4.71190243e-01  2.89210104e-01\n",
      "  -5.48198284e-03 -1.50088916e-01  5.32147099e-02  4.12368601e-01\n",
      "   6.24224411e-01  2.94556370e-01  1.48179656e-01  9.34360791e-02\n",
      "   5.64129787e-01  2.08382877e-01  4.69484442e-01  2.46557884e-01\n",
      "   1.08207970e-01  1.05140856e-01 -2.39766644e-01 -1.28052142e-01\n",
      "  -1.84612891e-01 -9.54131970e-02  2.18815848e-01  4.14815047e-01\n",
      "   9.21918470e-02  4.20095925e-01 -1.88180693e-01  1.76286032e-01\n",
      "   4.05727897e-01 -1.29127445e-01 -1.85289526e-01 -1.35809954e-01\n",
      "  -1.19692336e-01 -1.92743021e-01 -1.77289480e-01 -8.28469167e-02\n",
      "  -5.10724380e-01 -3.12074407e-02  2.69565322e-02 -4.97819256e-02\n",
      "   5.31907858e-02 -3.68997789e-01 -1.62062148e-02 -3.02850898e-02\n",
      "   3.17419734e-02 -2.44847348e-01  3.81730699e-02  9.36522288e-02\n",
      "  -4.56555364e-01 -3.20668363e-01 -2.65565515e-01 -2.66952506e-01\n",
      "  -4.11929040e-01 -3.64992362e-01 -3.99193546e-01 -4.41198892e-01\n",
      "  -4.28645092e-01 -4.51947992e-03 -1.15646449e-01  2.59184067e-01\n",
      "  -1.91906494e-01 -2.34199106e-01 -2.87311929e-01 -2.82966623e-01\n",
      "  -3.19949473e-01  3.03744345e-01 -2.60244027e-01 -6.08809325e-03\n",
      "  -2.66205521e-01 -2.41157337e-01 -4.16365023e-02  8.82889980e-01\n",
      "   7.63972465e-01  8.82233990e-01  4.73870883e-01  2.52172203e-01\n",
      "   7.85643642e-01  7.87623425e-01  3.03066164e-01  4.57319171e-01\n",
      "   1.00000000e+00  7.50387402e-02  5.66943048e-02  2.60410018e-01\n",
      "   1.81145104e-01  2.22954042e-02]\n",
      " [-3.96594826e-01 -3.54563001e-01 -3.09032505e-01  1.65220326e-01\n",
      "  -1.94241305e-01 -4.03269933e-01 -4.67131221e-01 -3.09430261e-01\n",
      "  -3.02667503e-01 -3.37876461e-01  4.41118314e-01 -1.44475118e-01\n",
      "  -4.34909872e-01  2.01620452e-01 -4.02448518e-01  1.07370980e-01\n",
      "  -4.05838201e-01 -4.24519207e-01  1.29182313e-01 -3.48286346e-01\n",
      "  -3.54187310e-01 -2.87133531e-01  1.95983619e-01  1.39447321e-01\n",
      "  -5.13058849e-01 -4.78472553e-01 -3.93381889e-01 -4.78221785e-01\n",
      "   2.49913090e-01  2.67207732e-01  3.21434212e-01 -4.86133636e-01\n",
      "  -3.89410822e-01 -1.55639364e-02 -4.20315588e-01  3.57225388e-01\n",
      "   4.48881184e-01  5.11419210e-01  4.25181608e-01  4.33913113e-01\n",
      "   1.55191946e-01  2.62453946e-01  6.05807785e-01  2.49793751e-01\n",
      "   1.20947749e-01  1.80885935e-01 -7.18091478e-02 -3.39004147e-01\n",
      "   3.18625571e-01  3.72002569e-01  5.64836671e-01  2.25462162e-02\n",
      "  -2.55438510e-01 -2.61789013e-01 -3.48603856e-01 -4.44932403e-01\n",
      "  -4.08316972e-01 -2.65354057e-01 -1.57218562e-01 -3.89748907e-01\n",
      "  -1.86133860e-01  1.67267378e-01  3.70154568e-01  3.52833619e-01\n",
      "   3.80708702e-01  4.25052600e-01 -3.69800129e-01 -9.58218935e-02\n",
      "  -4.16433560e-01 -4.30541261e-01  5.70871915e-01 -3.16279020e-01\n",
      "  -2.95137628e-01  6.69347008e-01  3.14835725e-01  4.91134880e-01\n",
      "   3.94710742e-01  3.15215787e-01  5.25648620e-01  6.37129348e-01\n",
      "   4.45355958e-02 -5.18520347e-01 -5.58785379e-01 -2.63147741e-01\n",
      "  -5.86873763e-01  3.30647355e-01 -2.91981012e-01 -5.74506407e-01\n",
      "  -2.49600199e-01  3.22854482e-01 -4.54206587e-01 -2.47516134e-01\n",
      "   1.26230293e-01  2.14782834e-01  1.31677732e-01  6.73934694e-03\n",
      "   3.93395061e-02  1.60371990e-01  1.97890665e-01  1.69876814e-01\n",
      "   1.28060880e-01  8.85727403e-02 -9.40118422e-02 -4.05929804e-01\n",
      "   2.21207512e-01 -5.99423773e-02  1.81180381e-01  1.41521418e-01\n",
      "   1.61962154e-01 -4.02989030e-01  3.04979917e-02 -1.11422532e-01\n",
      "   2.52399592e-01  2.31808865e-01 -1.36859817e-01 -8.07601868e-02\n",
      "  -2.10618686e-02 -3.33507949e-02 -3.70214358e-01 -2.86558502e-01\n",
      "  -2.04288348e-01 -7.17483945e-02  5.62338719e-01  5.98120066e-01\n",
      "   7.50387402e-02  1.00000000e+00  4.13123127e-01  5.80236522e-01\n",
      "   6.58123169e-01  7.56744297e-01]\n",
      " [-3.29898872e-01 -1.35055716e-01  1.83614470e-01 -3.06603040e-02\n",
      "   9.65637925e-02 -2.31435616e-01 -2.45908419e-01 -1.56668090e-01\n",
      "  -6.91585587e-02 -1.40638646e-01  1.40650187e-01  5.93452460e-02\n",
      "  -2.61350514e-01  2.51608579e-01 -2.38507492e-01  2.68190878e-01\n",
      "  -8.97225406e-02 -1.65594902e-01  2.80515664e-01 -2.22904562e-01\n",
      "  -7.83434330e-02 -2.19741147e-01  3.35395266e-01  3.54724468e-01\n",
      "  -1.55826305e-01 -2.79663855e-01 -1.29637069e-01 -1.95410048e-01\n",
      "   5.73678449e-01 -6.71788971e-02  4.78827211e-02 -2.78717355e-01\n",
      "  -3.46916066e-01 -6.83118056e-02 -7.02212433e-02  2.21050893e-01\n",
      "   1.06115659e-01  2.19567741e-01  1.99332972e-01  2.79661973e-01\n",
      "   1.29132101e-01  5.99771515e-02  3.26335638e-01  1.38661607e-01\n",
      "   7.43901240e-02  1.95642406e-01 -6.82979459e-02 -1.72870057e-01\n",
      "   1.06771184e-01  2.55510617e-01  3.28979897e-01 -9.32988870e-02\n",
      "  -8.45545270e-02 -2.10346294e-01 -1.04463120e-01 -2.35214754e-01\n",
      "  -2.16277992e-01 -2.83512296e-01 -1.11479236e-01 -9.86130563e-02\n",
      "  -5.42035082e-02  3.02969955e-01  2.79019799e-01  1.12897154e-01\n",
      "   1.24733586e-01  1.48660974e-01 -2.72158469e-01 -1.16653228e-01\n",
      "  -2.78272291e-01 -3.04266791e-01  2.87176197e-01 -2.24003746e-01\n",
      "  -1.64636317e-02  3.36781405e-01  4.39401656e-02  2.12657952e-01\n",
      "   2.69969565e-01  3.78976813e-01  2.66601575e-01  2.56520848e-01\n",
      "   4.08718761e-02 -3.98728344e-01 -4.21487610e-01 -1.84524314e-01\n",
      "  -4.21742792e-01  3.30662347e-02 -2.12272483e-01 -4.36082174e-01\n",
      "  -2.55721805e-01  1.48103962e-01 -2.11532528e-01 -2.05500206e-01\n",
      "  -9.28670884e-02  1.06534116e-01 -3.03354529e-03  2.57713395e-01\n",
      "  -4.32886594e-02 -2.47798575e-02 -7.15029978e-03  3.81216733e-02\n",
      "   9.59903015e-02  2.27136695e-01  1.21180487e-01 -2.87165873e-01\n",
      "   4.21864630e-02  1.01839765e-02  2.82329260e-02  3.99428957e-02\n",
      "   3.40860510e-02 -3.03708726e-01 -1.45000395e-02  2.59621262e-01\n",
      "   6.79007001e-02  2.64609768e-02  1.73400264e-01 -7.92686553e-02\n",
      "  -1.55585136e-01 -2.51477577e-02 -2.62058099e-01 -3.02211643e-01\n",
      "  -1.56855946e-01 -4.16630596e-03  2.61214959e-01  2.47026954e-01\n",
      "   5.66943048e-02  4.13123127e-01  1.00000000e+00  2.70177537e-01\n",
      "   2.48638547e-01  4.27436317e-01]\n",
      " [-4.31830446e-01 -3.36901534e-01 -2.84815040e-01  3.45548123e-01\n",
      "  -3.65886643e-01 -4.71339360e-01 -4.14476043e-01 -4.36958078e-01\n",
      "  -3.71808039e-01 -4.72946271e-01  4.71639571e-01 -2.89161468e-01\n",
      "  -5.39532735e-01  5.79732449e-03 -2.99023412e-01 -1.15867713e-01\n",
      "  -4.00660981e-01 -2.35718365e-01 -1.99614229e-02 -2.84449523e-01\n",
      "  -3.74691450e-01 -5.68226411e-01  1.72749893e-02  3.84850723e-02\n",
      "  -3.20919418e-01 -3.65967668e-01 -4.20606223e-01 -4.96529353e-01\n",
      "   2.80308630e-01  2.93006554e-01  4.64035857e-01 -4.68663362e-01\n",
      "  -4.50040273e-01  7.80854495e-02 -4.02820479e-01  3.62107278e-01\n",
      "   2.93322202e-01  4.59351220e-01  4.99037034e-01  5.82169786e-01\n",
      "   4.35221453e-01  4.07360297e-01  8.80760751e-01  4.12797625e-01\n",
      "   1.86510592e-01  2.61627164e-01 -1.85672941e-01 -4.27102999e-01\n",
      "   3.24337776e-01  4.43317081e-01  5.18109278e-01 -2.68529293e-01\n",
      "  -1.16546518e-01 -3.51965004e-01 -4.35783653e-01 -5.44477364e-01\n",
      "  -1.52004941e-01 -4.29395851e-01 -2.92592066e-01 -3.86962362e-01\n",
      "  -3.71495108e-01  1.42676984e-01  4.26848630e-01  3.98082201e-01\n",
      "   4.05863290e-01  4.16115554e-01 -4.53128761e-01 -7.12212844e-02\n",
      "  -4.85300692e-01 -2.20726525e-01  3.86412703e-01 -2.95772157e-01\n",
      "  -3.51845981e-01  5.53669299e-01  4.83600739e-01  6.33039680e-01\n",
      "   4.43284565e-01  3.26813126e-01  4.40948197e-01  5.30695687e-01\n",
      "   1.77940509e-02 -4.94368656e-01 -4.32413449e-01 -5.03173136e-01\n",
      "  -4.93904293e-01  7.67673707e-03 -5.15285310e-01 -4.69215087e-01\n",
      "  -3.85167316e-01  2.54280938e-01 -4.00297013e-01 -2.56245420e-01\n",
      "   1.47576453e-01  2.18583693e-01  2.41101487e-01 -1.85902963e-01\n",
      "   9.73568720e-02  7.53228221e-02  1.55546462e-01  1.16101120e-01\n",
      "   3.12365990e-01 -7.56159234e-02 -1.20614443e-01 -3.05032782e-01\n",
      "   2.46710598e-01 -1.69829275e-01  2.87071797e-01  2.65149546e-01\n",
      "   2.17151508e-01 -3.35020158e-01  1.47288605e-01 -1.26668323e-02\n",
      "   2.42951596e-01  2.73561649e-01 -8.85180906e-02  1.21094148e-01\n",
      "   1.55195136e-01  1.51781276e-01 -3.24899839e-01 -2.64970928e-01\n",
      "  -5.87996001e-02  2.18671354e-02  7.69535116e-01  8.21716214e-01\n",
      "   2.60410018e-01  5.80236522e-01  2.70177537e-01  1.00000000e+00\n",
      "   8.56907614e-01  6.11841409e-01]\n",
      " [-4.10798348e-01 -3.75774751e-01 -4.14760124e-01  2.73249239e-01\n",
      "  -4.10124374e-01 -4.98064151e-01 -5.09451485e-01 -4.70192769e-01\n",
      "  -3.78762465e-01 -5.75129780e-01  5.28186214e-01 -2.65696259e-01\n",
      "  -4.64694116e-01  5.59741119e-02 -3.96081850e-01 -7.51272363e-02\n",
      "  -4.92227107e-01 -3.72717337e-01  5.17744660e-02 -4.04600661e-01\n",
      "  -4.51294717e-01 -4.48104651e-01  1.17856081e-01  3.38346855e-02\n",
      "  -5.11185061e-01 -5.01241402e-01 -2.96421320e-01 -4.97464614e-01\n",
      "   1.60172457e-01  3.85805597e-01  3.83381013e-01 -5.61442916e-01\n",
      "  -4.22159284e-01 -3.33429064e-02 -4.37943700e-01  3.65905678e-01\n",
      "   4.28705625e-01  4.84934355e-01  5.07999156e-01  4.58735921e-01\n",
      "   2.88518262e-01  2.18325969e-01  8.15408581e-01  3.40071925e-01\n",
      "   2.01868070e-01  2.97587385e-01 -3.70979171e-01 -3.95645158e-01\n",
      "   3.44890000e-01  5.03387258e-01  3.33134218e-01 -3.94790024e-01\n",
      "  -1.95124849e-01 -5.35988550e-01 -5.23561486e-01 -5.48659788e-01\n",
      "  -1.78918186e-01 -3.67387586e-01 -2.63058621e-01 -3.98982984e-01\n",
      "  -2.89032632e-01  4.46011243e-02  3.75397977e-01  1.94979738e-01\n",
      "   4.35453786e-01  4.79435110e-01 -4.52662572e-01 -2.02333599e-01\n",
      "  -4.72108532e-01 -2.47012691e-01  4.51138454e-01 -2.39192172e-01\n",
      "  -3.65170294e-01  4.95007038e-01  5.62590407e-01  6.11934739e-01\n",
      "   4.12645362e-01  2.22129127e-01  5.15033666e-01  4.97566397e-01\n",
      "   8.85951849e-02 -4.69034027e-01 -4.86316581e-01 -4.63915565e-01\n",
      "  -5.09289941e-01  1.78901025e-01 -4.45976662e-01 -4.94438728e-01\n",
      "  -2.02476495e-01  2.11697904e-01 -4.37507015e-01 -3.02128707e-01\n",
      "   2.74640439e-01  2.10514340e-01  2.16113728e-01 -2.25357956e-02\n",
      "   7.93450341e-02  1.98042801e-01  1.79509859e-01  1.81174067e-01\n",
      "   1.98986303e-01  3.06223388e-02  6.46458504e-02 -3.10727078e-01\n",
      "   3.46543755e-01 -5.24962077e-02  3.95508003e-01  3.03780587e-01\n",
      "   3.26740416e-01 -3.05129324e-01  2.37631411e-01 -3.25599769e-02\n",
      "   4.19770229e-01  4.21519775e-01 -3.08295055e-02  4.08457683e-02\n",
      "   1.64562412e-01  2.01334117e-01 -3.58647754e-01 -2.47391992e-01\n",
      "  -1.51524395e-02 -1.78443199e-01  6.83409221e-01  7.52608196e-01\n",
      "   1.81145104e-01  6.58123169e-01  2.48638547e-01  8.56907614e-01\n",
      "   1.00000000e+00  7.80439615e-01]\n",
      " [-4.33805438e-01 -4.93807477e-01 -3.05058149e-01  1.64555206e-01\n",
      "  -3.66110077e-01 -4.69305066e-01 -5.02562568e-01 -3.00143073e-01\n",
      "  -2.39489179e-01 -4.02041940e-01  2.59378940e-01 -1.83067421e-01\n",
      "  -4.49258773e-01  8.60701709e-02 -6.54607826e-01 -3.04892549e-02\n",
      "  -4.41722411e-01 -5.91078875e-01 -2.87629933e-02 -6.69353438e-01\n",
      "  -3.90880433e-01 -3.61243794e-01  9.01397128e-02 -7.72234193e-02\n",
      "  -5.99407070e-01 -6.17828893e-01 -3.95270175e-01 -5.83909973e-01\n",
      "   1.11524514e-01  2.18477985e-01  1.87403640e-01 -5.87762517e-01\n",
      "  -4.14083726e-01 -1.90510172e-02 -4.41137436e-01  3.58736982e-01\n",
      "   4.29696437e-01  4.72502976e-01  3.98580063e-01  3.82219488e-01\n",
      "   1.20664029e-01  2.34835308e-01  6.52504844e-01  2.52199926e-01\n",
      "   1.57672078e-01  2.80480771e-01 -2.07946763e-01 -3.04065409e-01\n",
      "   3.60169324e-01  3.96998838e-01  3.38848722e-01 -2.66353725e-01\n",
      "  -2.33721780e-01 -3.96549082e-01 -3.92343238e-01 -3.76755792e-01\n",
      "  -4.68408885e-01 -2.19652672e-01 -1.97655087e-01 -3.31657714e-01\n",
      "  -1.84261170e-01 -6.42246047e-02  4.60161518e-01  2.23283528e-01\n",
      "   4.20822919e-01  4.85501852e-01 -3.76492779e-01 -2.09998758e-01\n",
      "  -3.54724690e-01 -2.68612571e-01  6.36948563e-01 -3.06101531e-01\n",
      "  -2.36734923e-01  6.14720434e-01  3.96856524e-01  5.05936227e-01\n",
      "   5.54454408e-01  5.02374088e-01  6.67957666e-01  5.61749418e-01\n",
      "   1.90351444e-01 -5.04599853e-01 -5.12795882e-01 -2.61867644e-01\n",
      "  -4.71727733e-01  3.31686479e-01 -3.12885892e-01 -4.53855343e-01\n",
      "  -1.90866475e-01  1.69145287e-01 -4.59162811e-01 -3.21119457e-01\n",
      "   2.91160119e-01  2.54562862e-01  1.49084226e-01  7.12033535e-02\n",
      "   1.80288161e-01  3.06107413e-01  3.25861989e-01  3.16708514e-01\n",
      "   2.14230310e-01  6.28146520e-02  3.75384580e-02 -4.09500108e-01\n",
      "   2.37871320e-01  7.92669356e-02  3.22340552e-01  2.40929691e-01\n",
      "   3.06162855e-01 -4.08648102e-01  2.92454861e-01 -8.87076885e-02\n",
      "   4.14371402e-01  3.65998677e-01 -1.03348485e-01 -1.18766775e-01\n",
      "  -3.74618160e-02  2.30567516e-03 -2.72683248e-01 -2.24849665e-01\n",
      "  -1.85445078e-01 -2.41983868e-01  5.07395485e-01  5.42283924e-01\n",
      "   2.22954042e-02  7.56744297e-01  4.27436317e-01  6.11841409e-01\n",
      "   7.80439615e-01  1.00000000e+00]]\n"
     ]
    }
   ],
   "source": [
    "# from sklearn.metrics.pairwise.cosine_similarity import cosine_similarity\n",
    "from sklearn.metrics.pairwise import cosine_similarity\n",
    "\n",
    "import sys\n",
    "\n",
    "pca = PCA(n_components=40)\n",
    "components = pca.fit_transform(X)\n",
    "\n",
    "np.set_printoptions(threshold=sys.maxsize)\n",
    "\n",
    "cosine_sims = cosine_similarity(components)\n",
    "\n",
    "print(cosine_sims.shape)\n",
    "print(np.max(cosine_sims))\n",
    "print(cosine_sims)"
   ]
  },
  {
   "cell_type": "code",
   "execution_count": 25,
   "metadata": {},
   "outputs": [
    {
     "name": "stdout",
     "output_type": "stream",
     "text": [
      "(130, 2)\n"
     ]
    },
    {
     "data": {
      "application/vnd.plotly.v1+json": {
       "config": {
        "plotlyServerURL": "https://plot.ly"
       },
       "data": [
        {
         "hovertemplate": "color=ependymoma<br>0=%{x}<br>1=%{y}<extra></extra>",
         "legendgroup": "ependymoma",
         "marker": {
          "color": "#636efa",
          "symbol": "circle"
         },
         "mode": "markers",
         "name": "ependymoma",
         "orientation": "v",
         "showlegend": true,
         "type": "scatter",
         "x": [
          11.804301261901855,
          10.401308059692383,
          10.81784439086914,
          9.536829948425293,
          10.886808395385742,
          11.890299797058105,
          10.749390602111816,
          11.05431079864502,
          10.980913162231445,
          11.120896339416504,
          9.51994800567627,
          10.339043617248535,
          11.919415473937988,
          9.681222915649414,
          11.713542938232422,
          10.605827331542969,
          10.485007286071777,
          11.50670051574707,
          10.37732219696045,
          11.589173316955566,
          11.02843952178955,
          11.219765663146973,
          9.767843246459961,
          10.393707275390625,
          11.35241413116455,
          11.456316947937012,
          11.37313175201416,
          11.757516860961914,
          10.462923049926758,
          9.881485939025879,
          9.662235260009766,
          10.554722785949707,
          11.832810401916504,
          9.749727249145508,
          11.176913261413574,
          9.824820518493652,
          6.94068717956543,
          9.304718017578125,
          9.336742401123047,
          9.443031311035156,
          9.442517280578613,
          9.531201362609863,
          6.5349955558776855,
          9.319089889526367,
          9.945198059082031,
          9.908370018005371
         ],
         "xaxis": "x",
         "y": [
          3.266092538833618,
          2.953808546066284,
          3.8767824172973633,
          5.178980827331543,
          3.625339984893799,
          3.3567981719970703,
          3.0353338718414307,
          3.127095937728882,
          3.3798105716705322,
          3.2656872272491455,
          5.742580413818359,
          3.119922637939453,
          3.386631488800049,
          4.52431583404541,
          3.726393461227417,
          4.596379280090332,
          3.0681920051574707,
          3.674924612045288,
          4.527047634124756,
          3.778960704803467,
          3.8323230743408203,
          4.086796283721924,
          4.472549915313721,
          4.300698280334473,
          3.7630059719085693,
          3.3866348266601562,
          4.186821460723877,
          3.4989991188049316,
          4.097562789916992,
          5.42514705657959,
          5.486464977264404,
          2.9084136486053467,
          3.1950278282165527,
          5.751942157745361,
          4.006400108337402,
          5.580930233001709,
          5.835694313049316,
          5.636814117431641,
          5.725436210632324,
          5.577120304107666,
          4.942287445068359,
          5.601207256317139,
          5.124301910400391,
          5.016654014587402,
          5.913848876953125,
          5.987852573394775
         ],
         "yaxis": "y"
        },
        {
         "hovertemplate": "color=glioblastoma<br>0=%{x}<br>1=%{y}<extra></extra>",
         "legendgroup": "glioblastoma",
         "marker": {
          "color": "#EF553B",
          "symbol": "circle"
         },
         "mode": "markers",
         "name": "glioblastoma",
         "orientation": "v",
         "showlegend": true,
         "type": "scatter",
         "x": [
          5.478673934936523,
          4.058129787445068,
          6.042910575866699,
          5.766146183013916,
          5.838681221008301,
          5.673106670379639,
          4.83634090423584,
          5.683509826660156,
          4.427789211273193,
          4.37312650680542,
          4.950865268707275,
          4.096811771392822,
          4.19008731842041,
          4.193713665008545,
          4.687103271484375,
          10.256765365600586,
          6.190277576446533,
          6.401547908782959,
          6.0368804931640625,
          6.136651515960693,
          4.66254186630249,
          5.096088409423828,
          4.354404926300049,
          5.038672924041748,
          6.447931289672852,
          5.1296000480651855,
          5.082196235656738,
          6.39818000793457,
          5.712587356567383,
          5.910725116729736,
          6.34928035736084,
          6.282930850982666,
          6.554108142852783,
          6.57694149017334
         ],
         "xaxis": "x",
         "y": [
          1.672041654586792,
          1.2679792642593384,
          5.051229953765869,
          5.239226818084717,
          5.457911014556885,
          1.763731837272644,
          2.1979801654815674,
          1.7849754095077515,
          1.0338096618652344,
          1.2082364559173584,
          2.615112066268921,
          1.611434817314148,
          1.3120930194854736,
          1.3724474906921387,
          1.1308789253234863,
          4.278827667236328,
          5.432490348815918,
          5.915030479431152,
          5.469910144805908,
          5.275391101837158,
          1.9241281747817993,
          1.969941258430481,
          1.7291665077209473,
          1.5342987775802612,
          6.336681365966797,
          1.3348615169525146,
          1.2580747604370117,
          6.110465049743652,
          7.415701866149902,
          6.077626705169678,
          6.383961200714111,
          6.296347618103027,
          6.269994258880615,
          5.740142345428467
         ],
         "yaxis": "y"
        },
        {
         "hovertemplate": "color=medulloblastoma<br>0=%{x}<br>1=%{y}<extra></extra>",
         "legendgroup": "medulloblastoma",
         "marker": {
          "color": "#00cc96",
          "symbol": "circle"
         },
         "mode": "markers",
         "name": "medulloblastoma",
         "orientation": "v",
         "showlegend": true,
         "type": "scatter",
         "x": [
          6.279489040374756,
          6.071625232696533,
          6.164477348327637,
          5.588898181915283,
          6.066795349121094,
          6.2665019035339355,
          5.753130912780762,
          6.0516462326049805,
          5.989374160766602,
          8.619598388671875,
          5.793748378753662,
          5.908725738525391,
          6.201086044311523,
          6.150300979614258,
          6.096954345703125,
          6.224211692810059,
          6.112513542175293,
          6.241983413696289,
          5.984013557434082,
          6.193122863769531,
          6.102872848510742,
          6.078465938568115
         ],
         "xaxis": "x",
         "y": [
          -4.2804856300354,
          -2.67149019241333,
          -2.612288475036621,
          -2.982168197631836,
          -2.5381627082824707,
          -4.159174919128418,
          -3.0579371452331543,
          -2.587804079055786,
          -2.802206516265869,
          5.304725646972656,
          -2.9016449451446533,
          -2.9893651008605957,
          -4.2383012771606445,
          -3.8454341888427734,
          -4.324424743652344,
          -3.022209882736206,
          -3.7917144298553467,
          -3.95326566696167,
          -3.8369815349578857,
          -3.7898623943328857,
          -4.278965473175049,
          -3.4069645404815674
         ],
         "yaxis": "y"
        },
        {
         "hovertemplate": "color=normal<br>0=%{x}<br>1=%{y}<extra></extra>",
         "legendgroup": "normal",
         "marker": {
          "color": "#ab63fa",
          "symbol": "circle"
         },
         "mode": "markers",
         "name": "normal",
         "orientation": "v",
         "showlegend": true,
         "type": "scatter",
         "x": [
          5.1939263343811035,
          5.5148024559021,
          5.404206275939941,
          5.276705741882324,
          5.6306657791137695,
          5.613650798797607,
          5.557806968688965,
          4.66158390045166,
          5.376768589019775,
          5.347496509552002,
          5.546169757843018,
          5.598964214324951,
          5.401318073272705
         ],
         "xaxis": "x",
         "y": [
          7.357563018798828,
          8.024107933044434,
          7.215121269226074,
          7.716841697692871,
          7.605071067810059,
          7.875402927398682,
          7.952152252197266,
          2.6642768383026123,
          7.263648509979248,
          7.792329788208008,
          7.5401997566223145,
          7.644109725952148,
          7.8634514808654785
         ],
         "yaxis": "y"
        },
        {
         "hovertemplate": "color=pilocytic_astrocytoma<br>0=%{x}<br>1=%{y}<extra></extra>",
         "legendgroup": "pilocytic_astrocytoma",
         "marker": {
          "color": "#FFA15A",
          "symbol": "circle"
         },
         "mode": "markers",
         "name": "pilocytic_astrocytoma",
         "orientation": "v",
         "showlegend": true,
         "type": "scatter",
         "x": [
          5.179813861846924,
          5.2463202476501465,
          5.0559983253479,
          4.6191487312316895,
          4.4549241065979,
          4.959134578704834,
          5.458291530609131,
          6.368851661682129,
          6.38611364364624,
          5.214723587036133,
          6.677764415740967,
          10.056346893310547,
          6.301451206207275,
          6.4518046379089355,
          6.689383029937744
         ],
         "xaxis": "x",
         "y": [
          2.3185818195343018,
          2.4041006565093994,
          2.5737569332122803,
          2.249720335006714,
          1.9062719345092773,
          2.484386682510376,
          2.2156052589416504,
          4.901254177093506,
          4.840223789215088,
          2.445549249649048,
          5.364865779876709,
          3.877965211868286,
          4.79608678817749,
          4.974496364593506,
          5.432183742523193
         ],
         "yaxis": "y"
        }
       ],
       "layout": {
        "legend": {
         "title": {
          "text": "color"
         },
         "tracegroupgap": 0
        },
        "template": {
         "data": {
          "bar": [
           {
            "error_x": {
             "color": "#2a3f5f"
            },
            "error_y": {
             "color": "#2a3f5f"
            },
            "marker": {
             "line": {
              "color": "#E5ECF6",
              "width": 0.5
             },
             "pattern": {
              "fillmode": "overlay",
              "size": 10,
              "solidity": 0.2
             }
            },
            "type": "bar"
           }
          ],
          "barpolar": [
           {
            "marker": {
             "line": {
              "color": "#E5ECF6",
              "width": 0.5
             },
             "pattern": {
              "fillmode": "overlay",
              "size": 10,
              "solidity": 0.2
             }
            },
            "type": "barpolar"
           }
          ],
          "carpet": [
           {
            "aaxis": {
             "endlinecolor": "#2a3f5f",
             "gridcolor": "white",
             "linecolor": "white",
             "minorgridcolor": "white",
             "startlinecolor": "#2a3f5f"
            },
            "baxis": {
             "endlinecolor": "#2a3f5f",
             "gridcolor": "white",
             "linecolor": "white",
             "minorgridcolor": "white",
             "startlinecolor": "#2a3f5f"
            },
            "type": "carpet"
           }
          ],
          "choropleth": [
           {
            "colorbar": {
             "outlinewidth": 0,
             "ticks": ""
            },
            "type": "choropleth"
           }
          ],
          "contour": [
           {
            "colorbar": {
             "outlinewidth": 0,
             "ticks": ""
            },
            "colorscale": [
             [
              0,
              "#0d0887"
             ],
             [
              0.1111111111111111,
              "#46039f"
             ],
             [
              0.2222222222222222,
              "#7201a8"
             ],
             [
              0.3333333333333333,
              "#9c179e"
             ],
             [
              0.4444444444444444,
              "#bd3786"
             ],
             [
              0.5555555555555556,
              "#d8576b"
             ],
             [
              0.6666666666666666,
              "#ed7953"
             ],
             [
              0.7777777777777778,
              "#fb9f3a"
             ],
             [
              0.8888888888888888,
              "#fdca26"
             ],
             [
              1,
              "#f0f921"
             ]
            ],
            "type": "contour"
           }
          ],
          "contourcarpet": [
           {
            "colorbar": {
             "outlinewidth": 0,
             "ticks": ""
            },
            "type": "contourcarpet"
           }
          ],
          "heatmap": [
           {
            "colorbar": {
             "outlinewidth": 0,
             "ticks": ""
            },
            "colorscale": [
             [
              0,
              "#0d0887"
             ],
             [
              0.1111111111111111,
              "#46039f"
             ],
             [
              0.2222222222222222,
              "#7201a8"
             ],
             [
              0.3333333333333333,
              "#9c179e"
             ],
             [
              0.4444444444444444,
              "#bd3786"
             ],
             [
              0.5555555555555556,
              "#d8576b"
             ],
             [
              0.6666666666666666,
              "#ed7953"
             ],
             [
              0.7777777777777778,
              "#fb9f3a"
             ],
             [
              0.8888888888888888,
              "#fdca26"
             ],
             [
              1,
              "#f0f921"
             ]
            ],
            "type": "heatmap"
           }
          ],
          "heatmapgl": [
           {
            "colorbar": {
             "outlinewidth": 0,
             "ticks": ""
            },
            "colorscale": [
             [
              0,
              "#0d0887"
             ],
             [
              0.1111111111111111,
              "#46039f"
             ],
             [
              0.2222222222222222,
              "#7201a8"
             ],
             [
              0.3333333333333333,
              "#9c179e"
             ],
             [
              0.4444444444444444,
              "#bd3786"
             ],
             [
              0.5555555555555556,
              "#d8576b"
             ],
             [
              0.6666666666666666,
              "#ed7953"
             ],
             [
              0.7777777777777778,
              "#fb9f3a"
             ],
             [
              0.8888888888888888,
              "#fdca26"
             ],
             [
              1,
              "#f0f921"
             ]
            ],
            "type": "heatmapgl"
           }
          ],
          "histogram": [
           {
            "marker": {
             "pattern": {
              "fillmode": "overlay",
              "size": 10,
              "solidity": 0.2
             }
            },
            "type": "histogram"
           }
          ],
          "histogram2d": [
           {
            "colorbar": {
             "outlinewidth": 0,
             "ticks": ""
            },
            "colorscale": [
             [
              0,
              "#0d0887"
             ],
             [
              0.1111111111111111,
              "#46039f"
             ],
             [
              0.2222222222222222,
              "#7201a8"
             ],
             [
              0.3333333333333333,
              "#9c179e"
             ],
             [
              0.4444444444444444,
              "#bd3786"
             ],
             [
              0.5555555555555556,
              "#d8576b"
             ],
             [
              0.6666666666666666,
              "#ed7953"
             ],
             [
              0.7777777777777778,
              "#fb9f3a"
             ],
             [
              0.8888888888888888,
              "#fdca26"
             ],
             [
              1,
              "#f0f921"
             ]
            ],
            "type": "histogram2d"
           }
          ],
          "histogram2dcontour": [
           {
            "colorbar": {
             "outlinewidth": 0,
             "ticks": ""
            },
            "colorscale": [
             [
              0,
              "#0d0887"
             ],
             [
              0.1111111111111111,
              "#46039f"
             ],
             [
              0.2222222222222222,
              "#7201a8"
             ],
             [
              0.3333333333333333,
              "#9c179e"
             ],
             [
              0.4444444444444444,
              "#bd3786"
             ],
             [
              0.5555555555555556,
              "#d8576b"
             ],
             [
              0.6666666666666666,
              "#ed7953"
             ],
             [
              0.7777777777777778,
              "#fb9f3a"
             ],
             [
              0.8888888888888888,
              "#fdca26"
             ],
             [
              1,
              "#f0f921"
             ]
            ],
            "type": "histogram2dcontour"
           }
          ],
          "mesh3d": [
           {
            "colorbar": {
             "outlinewidth": 0,
             "ticks": ""
            },
            "type": "mesh3d"
           }
          ],
          "parcoords": [
           {
            "line": {
             "colorbar": {
              "outlinewidth": 0,
              "ticks": ""
             }
            },
            "type": "parcoords"
           }
          ],
          "pie": [
           {
            "automargin": true,
            "type": "pie"
           }
          ],
          "scatter": [
           {
            "marker": {
             "colorbar": {
              "outlinewidth": 0,
              "ticks": ""
             }
            },
            "type": "scatter"
           }
          ],
          "scatter3d": [
           {
            "line": {
             "colorbar": {
              "outlinewidth": 0,
              "ticks": ""
             }
            },
            "marker": {
             "colorbar": {
              "outlinewidth": 0,
              "ticks": ""
             }
            },
            "type": "scatter3d"
           }
          ],
          "scattercarpet": [
           {
            "marker": {
             "colorbar": {
              "outlinewidth": 0,
              "ticks": ""
             }
            },
            "type": "scattercarpet"
           }
          ],
          "scattergeo": [
           {
            "marker": {
             "colorbar": {
              "outlinewidth": 0,
              "ticks": ""
             }
            },
            "type": "scattergeo"
           }
          ],
          "scattergl": [
           {
            "marker": {
             "colorbar": {
              "outlinewidth": 0,
              "ticks": ""
             }
            },
            "type": "scattergl"
           }
          ],
          "scattermapbox": [
           {
            "marker": {
             "colorbar": {
              "outlinewidth": 0,
              "ticks": ""
             }
            },
            "type": "scattermapbox"
           }
          ],
          "scatterpolar": [
           {
            "marker": {
             "colorbar": {
              "outlinewidth": 0,
              "ticks": ""
             }
            },
            "type": "scatterpolar"
           }
          ],
          "scatterpolargl": [
           {
            "marker": {
             "colorbar": {
              "outlinewidth": 0,
              "ticks": ""
             }
            },
            "type": "scatterpolargl"
           }
          ],
          "scatterternary": [
           {
            "marker": {
             "colorbar": {
              "outlinewidth": 0,
              "ticks": ""
             }
            },
            "type": "scatterternary"
           }
          ],
          "surface": [
           {
            "colorbar": {
             "outlinewidth": 0,
             "ticks": ""
            },
            "colorscale": [
             [
              0,
              "#0d0887"
             ],
             [
              0.1111111111111111,
              "#46039f"
             ],
             [
              0.2222222222222222,
              "#7201a8"
             ],
             [
              0.3333333333333333,
              "#9c179e"
             ],
             [
              0.4444444444444444,
              "#bd3786"
             ],
             [
              0.5555555555555556,
              "#d8576b"
             ],
             [
              0.6666666666666666,
              "#ed7953"
             ],
             [
              0.7777777777777778,
              "#fb9f3a"
             ],
             [
              0.8888888888888888,
              "#fdca26"
             ],
             [
              1,
              "#f0f921"
             ]
            ],
            "type": "surface"
           }
          ],
          "table": [
           {
            "cells": {
             "fill": {
              "color": "#EBF0F8"
             },
             "line": {
              "color": "white"
             }
            },
            "header": {
             "fill": {
              "color": "#C8D4E3"
             },
             "line": {
              "color": "white"
             }
            },
            "type": "table"
           }
          ]
         },
         "layout": {
          "annotationdefaults": {
           "arrowcolor": "#2a3f5f",
           "arrowhead": 0,
           "arrowwidth": 1
          },
          "autotypenumbers": "strict",
          "coloraxis": {
           "colorbar": {
            "outlinewidth": 0,
            "ticks": ""
           }
          },
          "colorscale": {
           "diverging": [
            [
             0,
             "#8e0152"
            ],
            [
             0.1,
             "#c51b7d"
            ],
            [
             0.2,
             "#de77ae"
            ],
            [
             0.3,
             "#f1b6da"
            ],
            [
             0.4,
             "#fde0ef"
            ],
            [
             0.5,
             "#f7f7f7"
            ],
            [
             0.6,
             "#e6f5d0"
            ],
            [
             0.7,
             "#b8e186"
            ],
            [
             0.8,
             "#7fbc41"
            ],
            [
             0.9,
             "#4d9221"
            ],
            [
             1,
             "#276419"
            ]
           ],
           "sequential": [
            [
             0,
             "#0d0887"
            ],
            [
             0.1111111111111111,
             "#46039f"
            ],
            [
             0.2222222222222222,
             "#7201a8"
            ],
            [
             0.3333333333333333,
             "#9c179e"
            ],
            [
             0.4444444444444444,
             "#bd3786"
            ],
            [
             0.5555555555555556,
             "#d8576b"
            ],
            [
             0.6666666666666666,
             "#ed7953"
            ],
            [
             0.7777777777777778,
             "#fb9f3a"
            ],
            [
             0.8888888888888888,
             "#fdca26"
            ],
            [
             1,
             "#f0f921"
            ]
           ],
           "sequentialminus": [
            [
             0,
             "#0d0887"
            ],
            [
             0.1111111111111111,
             "#46039f"
            ],
            [
             0.2222222222222222,
             "#7201a8"
            ],
            [
             0.3333333333333333,
             "#9c179e"
            ],
            [
             0.4444444444444444,
             "#bd3786"
            ],
            [
             0.5555555555555556,
             "#d8576b"
            ],
            [
             0.6666666666666666,
             "#ed7953"
            ],
            [
             0.7777777777777778,
             "#fb9f3a"
            ],
            [
             0.8888888888888888,
             "#fdca26"
            ],
            [
             1,
             "#f0f921"
            ]
           ]
          },
          "colorway": [
           "#636efa",
           "#EF553B",
           "#00cc96",
           "#ab63fa",
           "#FFA15A",
           "#19d3f3",
           "#FF6692",
           "#B6E880",
           "#FF97FF",
           "#FECB52"
          ],
          "font": {
           "color": "#2a3f5f"
          },
          "geo": {
           "bgcolor": "white",
           "lakecolor": "white",
           "landcolor": "#E5ECF6",
           "showlakes": true,
           "showland": true,
           "subunitcolor": "white"
          },
          "hoverlabel": {
           "align": "left"
          },
          "hovermode": "closest",
          "mapbox": {
           "style": "light"
          },
          "paper_bgcolor": "white",
          "plot_bgcolor": "#E5ECF6",
          "polar": {
           "angularaxis": {
            "gridcolor": "white",
            "linecolor": "white",
            "ticks": ""
           },
           "bgcolor": "#E5ECF6",
           "radialaxis": {
            "gridcolor": "white",
            "linecolor": "white",
            "ticks": ""
           }
          },
          "scene": {
           "xaxis": {
            "backgroundcolor": "#E5ECF6",
            "gridcolor": "white",
            "gridwidth": 2,
            "linecolor": "white",
            "showbackground": true,
            "ticks": "",
            "zerolinecolor": "white"
           },
           "yaxis": {
            "backgroundcolor": "#E5ECF6",
            "gridcolor": "white",
            "gridwidth": 2,
            "linecolor": "white",
            "showbackground": true,
            "ticks": "",
            "zerolinecolor": "white"
           },
           "zaxis": {
            "backgroundcolor": "#E5ECF6",
            "gridcolor": "white",
            "gridwidth": 2,
            "linecolor": "white",
            "showbackground": true,
            "ticks": "",
            "zerolinecolor": "white"
           }
          },
          "shapedefaults": {
           "line": {
            "color": "#2a3f5f"
           }
          },
          "ternary": {
           "aaxis": {
            "gridcolor": "white",
            "linecolor": "white",
            "ticks": ""
           },
           "baxis": {
            "gridcolor": "white",
            "linecolor": "white",
            "ticks": ""
           },
           "bgcolor": "#E5ECF6",
           "caxis": {
            "gridcolor": "white",
            "linecolor": "white",
            "ticks": ""
           }
          },
          "title": {
           "x": 0.05
          },
          "xaxis": {
           "automargin": true,
           "gridcolor": "white",
           "linecolor": "white",
           "ticks": "",
           "title": {
            "standoff": 15
           },
           "zerolinecolor": "white",
           "zerolinewidth": 2
          },
          "yaxis": {
           "automargin": true,
           "gridcolor": "white",
           "linecolor": "white",
           "ticks": "",
           "title": {
            "standoff": 15
           },
           "zerolinecolor": "white",
           "zerolinewidth": 2
          }
         }
        },
        "title": {
         "text": "UMAP projection, n_neighbors=10"
        },
        "xaxis": {
         "anchor": "y",
         "domain": [
          0,
          1
         ],
         "title": {
          "text": "0"
         }
        },
        "yaxis": {
         "anchor": "x",
         "domain": [
          0,
          1
         ],
         "title": {
          "text": "1"
         }
        }
       }
      }
     },
     "metadata": {},
     "output_type": "display_data"
    },
    {
     "name": "stdout",
     "output_type": "stream",
     "text": [
      "(130, 2)\n"
     ]
    },
    {
     "data": {
      "application/vnd.plotly.v1+json": {
       "config": {
        "plotlyServerURL": "https://plot.ly"
       },
       "data": [
        {
         "hovertemplate": "color=ependymoma<br>0=%{x}<br>1=%{y}<extra></extra>",
         "legendgroup": "ependymoma",
         "marker": {
          "color": "#636efa",
          "symbol": "circle"
         },
         "mode": "markers",
         "name": "ependymoma",
         "orientation": "v",
         "showlegend": true,
         "type": "scatter",
         "x": [
          7.619942665100098,
          8.475180625915527,
          7.170144081115723,
          8.187393188476562,
          7.31608772277832,
          7.7160491943359375,
          8.217581748962402,
          7.37880802154541,
          7.20152473449707,
          7.288439750671387,
          8.445611953735352,
          8.407837867736816,
          7.839095592498779,
          8.3291015625,
          7.936282157897949,
          7.900733947753906,
          8.39255428314209,
          7.621327877044678,
          7.887455940246582,
          8.115043640136719,
          7.169462203979492,
          7.431081295013428,
          8.339649200439453,
          7.870182991027832,
          7.494873046875,
          7.7854156494140625,
          7.762355327606201,
          7.810957431793213,
          7.725413799285889,
          8.116866111755371,
          8.354796409606934,
          8.268088340759277,
          7.535434246063232,
          8.462916374206543,
          7.561151504516602,
          8.17454719543457,
          6.618217945098877,
          7.838928699493408,
          7.929262161254883,
          8.144168853759766,
          8.120917320251465,
          8.314322471618652,
          5.754387855529785,
          7.827303886413574,
          8.342607498168945,
          8.190866470336914
         ],
         "xaxis": "x",
         "y": [
          7.233517646789551,
          6.694045066833496,
          5.750519752502441,
          4.136053562164307,
          6.531219959259033,
          6.944757461547852,
          6.929566383361816,
          6.905506134033203,
          6.665716648101807,
          6.857280254364014,
          3.772275924682617,
          7.1117939949035645,
          6.80695104598999,
          5.589992046356201,
          6.4265265464782715,
          5.305338382720947,
          6.810147285461426,
          6.219753742218018,
          5.42510986328125,
          6.302286624908447,
          6.102840423583984,
          5.968714714050293,
          5.414384365081787,
          5.295696258544922,
          6.158037185668945,
          6.571106433868408,
          6.047956943511963,
          6.634605407714844,
          4.973545551300049,
          4.039666652679443,
          3.8902506828308105,
          6.8319091796875,
          7.148283004760742,
          4.198508262634277,
          6.269991874694824,
          3.7626760005950928,
          2.996164560317993,
          3.6706206798553467,
          3.8473238945007324,
          3.6646535396575928,
          4.387539863586426,
          3.412545680999756,
          3.3381779193878174,
          4.125239849090576,
          3.670962333679199,
          3.667375326156616
         ],
         "yaxis": "y"
        },
        {
         "hovertemplate": "color=glioblastoma<br>0=%{x}<br>1=%{y}<extra></extra>",
         "legendgroup": "glioblastoma",
         "marker": {
          "color": "#EF553B",
          "symbol": "circle"
         },
         "mode": "markers",
         "name": "glioblastoma",
         "orientation": "v",
         "showlegend": true,
         "type": "scatter",
         "x": [
          5.079840183258057,
          3.999265670776367,
          5.701986789703369,
          5.602224826812744,
          5.508661270141602,
          5.278321266174316,
          4.588881015777588,
          5.171355724334717,
          3.83056378364563,
          3.8625521659851074,
          4.363255023956299,
          3.720534563064575,
          4.117160320281982,
          3.7511515617370605,
          4.2269768714904785,
          7.630211353302002,
          6.076354026794434,
          6.528104305267334,
          6.206472873687744,
          5.934905529022217,
          4.3294453620910645,
          4.774928569793701,
          3.8905608654022217,
          4.6884589195251465,
          6.516617774963379,
          4.84277868270874,
          4.7077317237854,
          6.26005744934082,
          4.131031036376953,
          5.448901653289795,
          6.581562519073486,
          6.649192810058594,
          6.403510093688965,
          6.30871057510376
         ],
         "xaxis": "x",
         "y": [
          5.275588035583496,
          5.7013068199157715,
          3.5158305168151855,
          2.8956339359283447,
          2.8200137615203857,
          5.4407453536987305,
          4.664377689361572,
          5.373464584350586,
          6.027092933654785,
          5.776238441467285,
          4.405316352844238,
          5.405948162078857,
          5.390550136566162,
          5.4633259773254395,
          5.808919429779053,
          5.258922100067139,
          3.647021770477295,
          3.087725877761841,
          3.696575880050659,
          3.8684494495391846,
          4.9266133308410645,
          4.942427158355713,
          5.599056720733643,
          5.246356010437012,
          2.5265555381774902,
          5.662602424621582,
          5.486361026763916,
          2.6145823001861572,
          2.0932488441467285,
          2.67132306098938,
          2.6300771236419678,
          2.593008518218994,
          2.792219638824463,
          3.3903932571411133
         ],
         "yaxis": "y"
        },
        {
         "hovertemplate": "color=medulloblastoma<br>0=%{x}<br>1=%{y}<extra></extra>",
         "legendgroup": "medulloblastoma",
         "marker": {
          "color": "#00cc96",
          "symbol": "circle"
         },
         "mode": "markers",
         "name": "medulloblastoma",
         "orientation": "v",
         "showlegend": true,
         "type": "scatter",
         "x": [
          2.4842944145202637,
          2.94034481048584,
          2.9388070106506348,
          2.7124900817871094,
          2.9870598316192627,
          2.4894073009490967,
          2.6441290378570557,
          3.132059335708618,
          2.765597343444824,
          6.978610992431641,
          2.7259092330932617,
          2.988044023513794,
          2.6863999366760254,
          2.1970767974853516,
          2.7271182537078857,
          2.8185341358184814,
          2.119561195373535,
          2.151569128036499,
          2.272533893585205,
          2.396681547164917,
          2.4358537197113037,
          2.4325621128082275
         ],
         "xaxis": "x",
         "y": [
          8.37353229522705,
          7.076529502868652,
          6.96891975402832,
          6.642305374145508,
          7.185593605041504,
          8.366814613342285,
          6.929562568664551,
          7.24662446975708,
          7.1946210861206055,
          3.6739091873168945,
          6.818794250488281,
          6.7568511962890625,
          8.378339767456055,
          8.017329216003418,
          8.081246376037598,
          7.560626029968262,
          7.988239765167236,
          8.193277359008789,
          7.9459004402160645,
          7.872035980224609,
          8.149569511413574,
          7.694134712219238
         ],
         "yaxis": "y"
        },
        {
         "hovertemplate": "color=normal<br>0=%{x}<br>1=%{y}<extra></extra>",
         "legendgroup": "normal",
         "marker": {
          "color": "#ab63fa",
          "symbol": "circle"
         },
         "mode": "markers",
         "name": "normal",
         "orientation": "v",
         "showlegend": true,
         "type": "scatter",
         "x": [
          3.597832441329956,
          3.8149189949035645,
          4.397120475769043,
          4.156520366668701,
          4.0485944747924805,
          3.7616264820098877,
          3.855158567428589,
          4.1382293701171875,
          3.6823718547821045,
          3.8142638206481934,
          4.057861328125,
          3.948133707046509,
          3.9824843406677246
         ],
         "xaxis": "x",
         "y": [
          2.613274335861206,
          2.7182109355926514,
          2.361663579940796,
          2.6407556533813477,
          2.388852119445801,
          2.207239866256714,
          2.2551143169403076,
          3.9097700119018555,
          2.428831100463867,
          2.5454766750335693,
          2.2840263843536377,
          2.0827620029449463,
          2.720172166824341
         ],
         "yaxis": "y"
        },
        {
         "hovertemplate": "color=pilocytic_astrocytoma<br>0=%{x}<br>1=%{y}<extra></extra>",
         "legendgroup": "pilocytic_astrocytoma",
         "marker": {
          "color": "#FFA15A",
          "symbol": "circle"
         },
         "mode": "markers",
         "name": "pilocytic_astrocytoma",
         "orientation": "v",
         "showlegend": true,
         "type": "scatter",
         "x": [
          4.54748010635376,
          4.818161487579346,
          4.598453521728516,
          4.328361988067627,
          4.003244400024414,
          4.601956367492676,
          4.6753950119018555,
          5.4347076416015625,
          5.26823616027832,
          4.977819919586182,
          6.073198318481445,
          6.7747321128845215,
          5.511858940124512,
          5.581381320953369,
          5.947570323944092
         ],
         "xaxis": "x",
         "y": [
          4.710690498352051,
          4.4689106941223145,
          4.33168888092041,
          4.861292362213135,
          5.013954162597656,
          4.461968421936035,
          4.6316680908203125,
          3.3254902362823486,
          3.2006723880767822,
          4.57123327255249,
          3.070939064025879,
          4.776745796203613,
          3.2687933444976807,
          3.45792818069458,
          3.1313843727111816
         ],
         "yaxis": "y"
        }
       ],
       "layout": {
        "legend": {
         "title": {
          "text": "color"
         },
         "tracegroupgap": 0
        },
        "template": {
         "data": {
          "bar": [
           {
            "error_x": {
             "color": "#2a3f5f"
            },
            "error_y": {
             "color": "#2a3f5f"
            },
            "marker": {
             "line": {
              "color": "#E5ECF6",
              "width": 0.5
             },
             "pattern": {
              "fillmode": "overlay",
              "size": 10,
              "solidity": 0.2
             }
            },
            "type": "bar"
           }
          ],
          "barpolar": [
           {
            "marker": {
             "line": {
              "color": "#E5ECF6",
              "width": 0.5
             },
             "pattern": {
              "fillmode": "overlay",
              "size": 10,
              "solidity": 0.2
             }
            },
            "type": "barpolar"
           }
          ],
          "carpet": [
           {
            "aaxis": {
             "endlinecolor": "#2a3f5f",
             "gridcolor": "white",
             "linecolor": "white",
             "minorgridcolor": "white",
             "startlinecolor": "#2a3f5f"
            },
            "baxis": {
             "endlinecolor": "#2a3f5f",
             "gridcolor": "white",
             "linecolor": "white",
             "minorgridcolor": "white",
             "startlinecolor": "#2a3f5f"
            },
            "type": "carpet"
           }
          ],
          "choropleth": [
           {
            "colorbar": {
             "outlinewidth": 0,
             "ticks": ""
            },
            "type": "choropleth"
           }
          ],
          "contour": [
           {
            "colorbar": {
             "outlinewidth": 0,
             "ticks": ""
            },
            "colorscale": [
             [
              0,
              "#0d0887"
             ],
             [
              0.1111111111111111,
              "#46039f"
             ],
             [
              0.2222222222222222,
              "#7201a8"
             ],
             [
              0.3333333333333333,
              "#9c179e"
             ],
             [
              0.4444444444444444,
              "#bd3786"
             ],
             [
              0.5555555555555556,
              "#d8576b"
             ],
             [
              0.6666666666666666,
              "#ed7953"
             ],
             [
              0.7777777777777778,
              "#fb9f3a"
             ],
             [
              0.8888888888888888,
              "#fdca26"
             ],
             [
              1,
              "#f0f921"
             ]
            ],
            "type": "contour"
           }
          ],
          "contourcarpet": [
           {
            "colorbar": {
             "outlinewidth": 0,
             "ticks": ""
            },
            "type": "contourcarpet"
           }
          ],
          "heatmap": [
           {
            "colorbar": {
             "outlinewidth": 0,
             "ticks": ""
            },
            "colorscale": [
             [
              0,
              "#0d0887"
             ],
             [
              0.1111111111111111,
              "#46039f"
             ],
             [
              0.2222222222222222,
              "#7201a8"
             ],
             [
              0.3333333333333333,
              "#9c179e"
             ],
             [
              0.4444444444444444,
              "#bd3786"
             ],
             [
              0.5555555555555556,
              "#d8576b"
             ],
             [
              0.6666666666666666,
              "#ed7953"
             ],
             [
              0.7777777777777778,
              "#fb9f3a"
             ],
             [
              0.8888888888888888,
              "#fdca26"
             ],
             [
              1,
              "#f0f921"
             ]
            ],
            "type": "heatmap"
           }
          ],
          "heatmapgl": [
           {
            "colorbar": {
             "outlinewidth": 0,
             "ticks": ""
            },
            "colorscale": [
             [
              0,
              "#0d0887"
             ],
             [
              0.1111111111111111,
              "#46039f"
             ],
             [
              0.2222222222222222,
              "#7201a8"
             ],
             [
              0.3333333333333333,
              "#9c179e"
             ],
             [
              0.4444444444444444,
              "#bd3786"
             ],
             [
              0.5555555555555556,
              "#d8576b"
             ],
             [
              0.6666666666666666,
              "#ed7953"
             ],
             [
              0.7777777777777778,
              "#fb9f3a"
             ],
             [
              0.8888888888888888,
              "#fdca26"
             ],
             [
              1,
              "#f0f921"
             ]
            ],
            "type": "heatmapgl"
           }
          ],
          "histogram": [
           {
            "marker": {
             "pattern": {
              "fillmode": "overlay",
              "size": 10,
              "solidity": 0.2
             }
            },
            "type": "histogram"
           }
          ],
          "histogram2d": [
           {
            "colorbar": {
             "outlinewidth": 0,
             "ticks": ""
            },
            "colorscale": [
             [
              0,
              "#0d0887"
             ],
             [
              0.1111111111111111,
              "#46039f"
             ],
             [
              0.2222222222222222,
              "#7201a8"
             ],
             [
              0.3333333333333333,
              "#9c179e"
             ],
             [
              0.4444444444444444,
              "#bd3786"
             ],
             [
              0.5555555555555556,
              "#d8576b"
             ],
             [
              0.6666666666666666,
              "#ed7953"
             ],
             [
              0.7777777777777778,
              "#fb9f3a"
             ],
             [
              0.8888888888888888,
              "#fdca26"
             ],
             [
              1,
              "#f0f921"
             ]
            ],
            "type": "histogram2d"
           }
          ],
          "histogram2dcontour": [
           {
            "colorbar": {
             "outlinewidth": 0,
             "ticks": ""
            },
            "colorscale": [
             [
              0,
              "#0d0887"
             ],
             [
              0.1111111111111111,
              "#46039f"
             ],
             [
              0.2222222222222222,
              "#7201a8"
             ],
             [
              0.3333333333333333,
              "#9c179e"
             ],
             [
              0.4444444444444444,
              "#bd3786"
             ],
             [
              0.5555555555555556,
              "#d8576b"
             ],
             [
              0.6666666666666666,
              "#ed7953"
             ],
             [
              0.7777777777777778,
              "#fb9f3a"
             ],
             [
              0.8888888888888888,
              "#fdca26"
             ],
             [
              1,
              "#f0f921"
             ]
            ],
            "type": "histogram2dcontour"
           }
          ],
          "mesh3d": [
           {
            "colorbar": {
             "outlinewidth": 0,
             "ticks": ""
            },
            "type": "mesh3d"
           }
          ],
          "parcoords": [
           {
            "line": {
             "colorbar": {
              "outlinewidth": 0,
              "ticks": ""
             }
            },
            "type": "parcoords"
           }
          ],
          "pie": [
           {
            "automargin": true,
            "type": "pie"
           }
          ],
          "scatter": [
           {
            "marker": {
             "colorbar": {
              "outlinewidth": 0,
              "ticks": ""
             }
            },
            "type": "scatter"
           }
          ],
          "scatter3d": [
           {
            "line": {
             "colorbar": {
              "outlinewidth": 0,
              "ticks": ""
             }
            },
            "marker": {
             "colorbar": {
              "outlinewidth": 0,
              "ticks": ""
             }
            },
            "type": "scatter3d"
           }
          ],
          "scattercarpet": [
           {
            "marker": {
             "colorbar": {
              "outlinewidth": 0,
              "ticks": ""
             }
            },
            "type": "scattercarpet"
           }
          ],
          "scattergeo": [
           {
            "marker": {
             "colorbar": {
              "outlinewidth": 0,
              "ticks": ""
             }
            },
            "type": "scattergeo"
           }
          ],
          "scattergl": [
           {
            "marker": {
             "colorbar": {
              "outlinewidth": 0,
              "ticks": ""
             }
            },
            "type": "scattergl"
           }
          ],
          "scattermapbox": [
           {
            "marker": {
             "colorbar": {
              "outlinewidth": 0,
              "ticks": ""
             }
            },
            "type": "scattermapbox"
           }
          ],
          "scatterpolar": [
           {
            "marker": {
             "colorbar": {
              "outlinewidth": 0,
              "ticks": ""
             }
            },
            "type": "scatterpolar"
           }
          ],
          "scatterpolargl": [
           {
            "marker": {
             "colorbar": {
              "outlinewidth": 0,
              "ticks": ""
             }
            },
            "type": "scatterpolargl"
           }
          ],
          "scatterternary": [
           {
            "marker": {
             "colorbar": {
              "outlinewidth": 0,
              "ticks": ""
             }
            },
            "type": "scatterternary"
           }
          ],
          "surface": [
           {
            "colorbar": {
             "outlinewidth": 0,
             "ticks": ""
            },
            "colorscale": [
             [
              0,
              "#0d0887"
             ],
             [
              0.1111111111111111,
              "#46039f"
             ],
             [
              0.2222222222222222,
              "#7201a8"
             ],
             [
              0.3333333333333333,
              "#9c179e"
             ],
             [
              0.4444444444444444,
              "#bd3786"
             ],
             [
              0.5555555555555556,
              "#d8576b"
             ],
             [
              0.6666666666666666,
              "#ed7953"
             ],
             [
              0.7777777777777778,
              "#fb9f3a"
             ],
             [
              0.8888888888888888,
              "#fdca26"
             ],
             [
              1,
              "#f0f921"
             ]
            ],
            "type": "surface"
           }
          ],
          "table": [
           {
            "cells": {
             "fill": {
              "color": "#EBF0F8"
             },
             "line": {
              "color": "white"
             }
            },
            "header": {
             "fill": {
              "color": "#C8D4E3"
             },
             "line": {
              "color": "white"
             }
            },
            "type": "table"
           }
          ]
         },
         "layout": {
          "annotationdefaults": {
           "arrowcolor": "#2a3f5f",
           "arrowhead": 0,
           "arrowwidth": 1
          },
          "autotypenumbers": "strict",
          "coloraxis": {
           "colorbar": {
            "outlinewidth": 0,
            "ticks": ""
           }
          },
          "colorscale": {
           "diverging": [
            [
             0,
             "#8e0152"
            ],
            [
             0.1,
             "#c51b7d"
            ],
            [
             0.2,
             "#de77ae"
            ],
            [
             0.3,
             "#f1b6da"
            ],
            [
             0.4,
             "#fde0ef"
            ],
            [
             0.5,
             "#f7f7f7"
            ],
            [
             0.6,
             "#e6f5d0"
            ],
            [
             0.7,
             "#b8e186"
            ],
            [
             0.8,
             "#7fbc41"
            ],
            [
             0.9,
             "#4d9221"
            ],
            [
             1,
             "#276419"
            ]
           ],
           "sequential": [
            [
             0,
             "#0d0887"
            ],
            [
             0.1111111111111111,
             "#46039f"
            ],
            [
             0.2222222222222222,
             "#7201a8"
            ],
            [
             0.3333333333333333,
             "#9c179e"
            ],
            [
             0.4444444444444444,
             "#bd3786"
            ],
            [
             0.5555555555555556,
             "#d8576b"
            ],
            [
             0.6666666666666666,
             "#ed7953"
            ],
            [
             0.7777777777777778,
             "#fb9f3a"
            ],
            [
             0.8888888888888888,
             "#fdca26"
            ],
            [
             1,
             "#f0f921"
            ]
           ],
           "sequentialminus": [
            [
             0,
             "#0d0887"
            ],
            [
             0.1111111111111111,
             "#46039f"
            ],
            [
             0.2222222222222222,
             "#7201a8"
            ],
            [
             0.3333333333333333,
             "#9c179e"
            ],
            [
             0.4444444444444444,
             "#bd3786"
            ],
            [
             0.5555555555555556,
             "#d8576b"
            ],
            [
             0.6666666666666666,
             "#ed7953"
            ],
            [
             0.7777777777777778,
             "#fb9f3a"
            ],
            [
             0.8888888888888888,
             "#fdca26"
            ],
            [
             1,
             "#f0f921"
            ]
           ]
          },
          "colorway": [
           "#636efa",
           "#EF553B",
           "#00cc96",
           "#ab63fa",
           "#FFA15A",
           "#19d3f3",
           "#FF6692",
           "#B6E880",
           "#FF97FF",
           "#FECB52"
          ],
          "font": {
           "color": "#2a3f5f"
          },
          "geo": {
           "bgcolor": "white",
           "lakecolor": "white",
           "landcolor": "#E5ECF6",
           "showlakes": true,
           "showland": true,
           "subunitcolor": "white"
          },
          "hoverlabel": {
           "align": "left"
          },
          "hovermode": "closest",
          "mapbox": {
           "style": "light"
          },
          "paper_bgcolor": "white",
          "plot_bgcolor": "#E5ECF6",
          "polar": {
           "angularaxis": {
            "gridcolor": "white",
            "linecolor": "white",
            "ticks": ""
           },
           "bgcolor": "#E5ECF6",
           "radialaxis": {
            "gridcolor": "white",
            "linecolor": "white",
            "ticks": ""
           }
          },
          "scene": {
           "xaxis": {
            "backgroundcolor": "#E5ECF6",
            "gridcolor": "white",
            "gridwidth": 2,
            "linecolor": "white",
            "showbackground": true,
            "ticks": "",
            "zerolinecolor": "white"
           },
           "yaxis": {
            "backgroundcolor": "#E5ECF6",
            "gridcolor": "white",
            "gridwidth": 2,
            "linecolor": "white",
            "showbackground": true,
            "ticks": "",
            "zerolinecolor": "white"
           },
           "zaxis": {
            "backgroundcolor": "#E5ECF6",
            "gridcolor": "white",
            "gridwidth": 2,
            "linecolor": "white",
            "showbackground": true,
            "ticks": "",
            "zerolinecolor": "white"
           }
          },
          "shapedefaults": {
           "line": {
            "color": "#2a3f5f"
           }
          },
          "ternary": {
           "aaxis": {
            "gridcolor": "white",
            "linecolor": "white",
            "ticks": ""
           },
           "baxis": {
            "gridcolor": "white",
            "linecolor": "white",
            "ticks": ""
           },
           "bgcolor": "#E5ECF6",
           "caxis": {
            "gridcolor": "white",
            "linecolor": "white",
            "ticks": ""
           }
          },
          "title": {
           "x": 0.05
          },
          "xaxis": {
           "automargin": true,
           "gridcolor": "white",
           "linecolor": "white",
           "ticks": "",
           "title": {
            "standoff": 15
           },
           "zerolinecolor": "white",
           "zerolinewidth": 2
          },
          "yaxis": {
           "automargin": true,
           "gridcolor": "white",
           "linecolor": "white",
           "ticks": "",
           "title": {
            "standoff": 15
           },
           "zerolinecolor": "white",
           "zerolinewidth": 2
          }
         }
        },
        "title": {
         "text": "UMAP projection, n_neighbors=20"
        },
        "xaxis": {
         "anchor": "y",
         "domain": [
          0,
          1
         ],
         "title": {
          "text": "0"
         }
        },
        "yaxis": {
         "anchor": "x",
         "domain": [
          0,
          1
         ],
         "title": {
          "text": "1"
         }
        }
       }
      }
     },
     "metadata": {},
     "output_type": "display_data"
    },
    {
     "name": "stdout",
     "output_type": "stream",
     "text": [
      "(130, 2)\n"
     ]
    },
    {
     "data": {
      "application/vnd.plotly.v1+json": {
       "config": {
        "plotlyServerURL": "https://plot.ly"
       },
       "data": [
        {
         "hovertemplate": "color=ependymoma<br>0=%{x}<br>1=%{y}<extra></extra>",
         "legendgroup": "ependymoma",
         "marker": {
          "color": "#636efa",
          "symbol": "circle"
         },
         "mode": "markers",
         "name": "ependymoma",
         "orientation": "v",
         "showlegend": true,
         "type": "scatter",
         "x": [
          10.79539680480957,
          10.078665733337402,
          10.124330520629883,
          10.110491752624512,
          10.336592674255371,
          11.040216445922852,
          10.236143112182617,
          10.582842826843262,
          10.262521743774414,
          10.436009407043457,
          10.580604553222656,
          9.981525421142578,
          11.087974548339844,
          9.775556564331055,
          10.966209411621094,
          10.739526748657227,
          9.928343772888184,
          10.573147773742676,
          10.824390411376953,
          10.928089141845703,
          10.44211483001709,
          10.96752643585205,
          9.989256858825684,
          10.622368812561035,
          10.39715576171875,
          10.729619026184082,
          10.903665542602539,
          11.169851303100586,
          10.3447265625,
          10.35688304901123,
          10.231413841247559,
          10.237902641296387,
          10.895112991333008,
          10.488336563110352,
          10.642377853393555,
          10.002496719360352,
          8.385906219482422,
          9.803088188171387,
          10.117402076721191,
          10.05536937713623,
          9.589897155761719,
          10.009095191955566,
          8.00130558013916,
          9.660056114196777,
          10.390162467956543,
          10.404379844665527
         ],
         "xaxis": "x",
         "y": [
          10.438148498535156,
          10.642566680908203,
          11.675518989562988,
          13.613396644592285,
          11.441523551940918,
          10.639296531677246,
          10.557292938232422,
          10.65866470336914,
          11.014447212219238,
          10.58316707611084,
          13.677848815917969,
          10.906943321228027,
          10.760350227355957,
          12.380715370178223,
          11.157875061035156,
          12.3258056640625,
          10.809310913085938,
          11.232511520385742,
          12.190220832824707,
          11.201482772827148,
          11.53547477722168,
          11.3589506149292,
          12.380513191223145,
          12.386475563049316,
          11.231728553771973,
          11.011082649230957,
          11.468628883361816,
          10.86582088470459,
          12.55458927154541,
          13.627925872802734,
          13.513227462768555,
          10.790740013122559,
          10.716903686523438,
          13.118978500366211,
          11.611865997314453,
          13.889579772949219,
          14.349373817443848,
          13.76978874206543,
          13.798556327819824,
          13.341392517089844,
          13.130027770996094,
          13.425461769104004,
          13.814587593078613,
          13.308893203735352,
          13.390499114990234,
          13.341268539428711
         ],
         "yaxis": "y"
        },
        {
         "hovertemplate": "color=glioblastoma<br>0=%{x}<br>1=%{y}<extra></extra>",
         "legendgroup": "glioblastoma",
         "marker": {
          "color": "#EF553B",
          "symbol": "circle"
         },
         "mode": "markers",
         "name": "glioblastoma",
         "orientation": "v",
         "showlegend": true,
         "type": "scatter",
         "x": [
          8.673766136169434,
          7.453522682189941,
          7.719371795654297,
          7.81452751159668,
          7.718567848205566,
          9.102840423583984,
          8.057352066040039,
          8.882198333740234,
          7.299581527709961,
          7.413450241088867,
          8.284299850463867,
          7.60401725769043,
          7.6598381996154785,
          7.6572394371032715,
          7.732162952423096,
          10.175145149230957,
          8.223668098449707,
          8.661856651306152,
          8.190804481506348,
          7.873010158538818,
          8.28498363494873,
          8.730181694030762,
          7.738210678100586,
          8.440529823303223,
          8.735143661499023,
          8.364187240600586,
          8.452637672424316,
          8.635795593261719,
          6.7004289627075195,
          7.485825538635254,
          8.824187278747559,
          8.926965713500977,
          8.603341102600098,
          8.357924461364746
         ],
         "xaxis": "x",
         "y": [
          10.682588577270508,
          11.002325057983398,
          14.019166946411133,
          14.185227394104004,
          14.416549682617188,
          10.729462623596191,
          11.466226577758789,
          10.535191535949707,
          10.455204963684082,
          10.61408805847168,
          11.26677417755127,
          10.845056533813477,
          11.065308570861816,
          10.969447135925293,
          10.38851547241211,
          12.291181564331055,
          13.475432395935059,
          13.858358383178711,
          13.419084548950195,
          13.29345703125,
          10.613191604614258,
          10.977102279663086,
          10.497871398925781,
          10.855562210083008,
          14.224639892578125,
          10.653301239013672,
          10.548118591308594,
          14.0459566116333,
          15.124984741210938,
          14.573179244995117,
          14.178651809692383,
          14.200138092041016,
          14.451489448547363,
          13.899471282958984
         ],
         "yaxis": "y"
        },
        {
         "hovertemplate": "color=medulloblastoma<br>0=%{x}<br>1=%{y}<extra></extra>",
         "legendgroup": "medulloblastoma",
         "marker": {
          "color": "#00cc96",
          "symbol": "circle"
         },
         "mode": "markers",
         "name": "medulloblastoma",
         "orientation": "v",
         "showlegend": true,
         "type": "scatter",
         "x": [
          6.234040260314941,
          6.389712333679199,
          6.57811975479126,
          6.482341289520264,
          6.597908973693848,
          6.632382392883301,
          6.540521144866943,
          6.331899642944336,
          6.363130569458008,
          9.00411319732666,
          6.467361927032471,
          6.338267803192139,
          6.206861972808838,
          6.695211887359619,
          6.401616096496582,
          6.4306535720825195,
          6.720170974731445,
          6.878386974334717,
          6.872162342071533,
          6.60940408706665,
          6.312880516052246,
          6.950214862823486
         ],
         "xaxis": "x",
         "y": [
          12.881912231445312,
          11.491800308227539,
          11.438116073608398,
          11.203526496887207,
          11.670673370361328,
          12.653969764709473,
          11.319149017333984,
          11.443819999694824,
          11.849276542663574,
          13.55322551727295,
          11.715319633483887,
          11.732856750488281,
          12.724201202392578,
          13.001265525817871,
          12.645709037780762,
          12.117900848388672,
          12.882179260253906,
          13.025803565979004,
          12.568380355834961,
          12.762127876281738,
          12.873536109924316,
          12.443387985229492
         ],
         "yaxis": "y"
        },
        {
         "hovertemplate": "color=normal<br>0=%{x}<br>1=%{y}<extra></extra>",
         "legendgroup": "normal",
         "marker": {
          "color": "#ab63fa",
          "symbol": "circle"
         },
         "mode": "markers",
         "name": "normal",
         "orientation": "v",
         "showlegend": true,
         "type": "scatter",
         "x": [
          6.161114692687988,
          6.314167499542236,
          6.942580223083496,
          6.744847297668457,
          6.486490249633789,
          6.25921630859375,
          6.38742208480835,
          7.79852294921875,
          6.222259998321533,
          6.340459823608398,
          6.578499794006348,
          6.585452556610107,
          6.36128044128418
         ],
         "xaxis": "x",
         "y": [
          14.762539863586426,
          14.549325942993164,
          14.853896141052246,
          14.718332290649414,
          15.025094985961914,
          15.046826362609863,
          15.136245727539062,
          11.753728866577148,
          15.193865776062012,
          14.903190612792969,
          15.09299087524414,
          15.147637367248535,
          14.606070518493652
         ],
         "yaxis": "y"
        },
        {
         "hovertemplate": "color=pilocytic_astrocytoma<br>0=%{x}<br>1=%{y}<extra></extra>",
         "legendgroup": "pilocytic_astrocytoma",
         "marker": {
          "color": "#FFA15A",
          "symbol": "circle"
         },
         "mode": "markers",
         "name": "pilocytic_astrocytoma",
         "orientation": "v",
         "showlegend": true,
         "type": "scatter",
         "x": [
          8.351889610290527,
          8.596724510192871,
          8.241165161132812,
          8.352835655212402,
          8.026942253112793,
          8.21688175201416,
          8.72117805480957,
          7.720970153808594,
          7.690783977508545,
          8.482611656188965,
          8.434449195861816,
          8.86259937286377,
          7.8805108070373535,
          7.750184535980225,
          8.149746894836426
         ],
         "xaxis": "x",
         "y": [
          11.518136978149414,
          11.250687599182129,
          11.689733505249023,
          11.037407875061035,
          10.829468727111816,
          11.182487487792969,
          11.257585525512695,
          13.942452430725098,
          13.695793151855469,
          11.477418899536133,
          13.795160293579102,
          12.729354858398438,
          13.590580940246582,
          13.760336875915527,
          13.956406593322754
         ],
         "yaxis": "y"
        }
       ],
       "layout": {
        "legend": {
         "title": {
          "text": "color"
         },
         "tracegroupgap": 0
        },
        "template": {
         "data": {
          "bar": [
           {
            "error_x": {
             "color": "#2a3f5f"
            },
            "error_y": {
             "color": "#2a3f5f"
            },
            "marker": {
             "line": {
              "color": "#E5ECF6",
              "width": 0.5
             },
             "pattern": {
              "fillmode": "overlay",
              "size": 10,
              "solidity": 0.2
             }
            },
            "type": "bar"
           }
          ],
          "barpolar": [
           {
            "marker": {
             "line": {
              "color": "#E5ECF6",
              "width": 0.5
             },
             "pattern": {
              "fillmode": "overlay",
              "size": 10,
              "solidity": 0.2
             }
            },
            "type": "barpolar"
           }
          ],
          "carpet": [
           {
            "aaxis": {
             "endlinecolor": "#2a3f5f",
             "gridcolor": "white",
             "linecolor": "white",
             "minorgridcolor": "white",
             "startlinecolor": "#2a3f5f"
            },
            "baxis": {
             "endlinecolor": "#2a3f5f",
             "gridcolor": "white",
             "linecolor": "white",
             "minorgridcolor": "white",
             "startlinecolor": "#2a3f5f"
            },
            "type": "carpet"
           }
          ],
          "choropleth": [
           {
            "colorbar": {
             "outlinewidth": 0,
             "ticks": ""
            },
            "type": "choropleth"
           }
          ],
          "contour": [
           {
            "colorbar": {
             "outlinewidth": 0,
             "ticks": ""
            },
            "colorscale": [
             [
              0,
              "#0d0887"
             ],
             [
              0.1111111111111111,
              "#46039f"
             ],
             [
              0.2222222222222222,
              "#7201a8"
             ],
             [
              0.3333333333333333,
              "#9c179e"
             ],
             [
              0.4444444444444444,
              "#bd3786"
             ],
             [
              0.5555555555555556,
              "#d8576b"
             ],
             [
              0.6666666666666666,
              "#ed7953"
             ],
             [
              0.7777777777777778,
              "#fb9f3a"
             ],
             [
              0.8888888888888888,
              "#fdca26"
             ],
             [
              1,
              "#f0f921"
             ]
            ],
            "type": "contour"
           }
          ],
          "contourcarpet": [
           {
            "colorbar": {
             "outlinewidth": 0,
             "ticks": ""
            },
            "type": "contourcarpet"
           }
          ],
          "heatmap": [
           {
            "colorbar": {
             "outlinewidth": 0,
             "ticks": ""
            },
            "colorscale": [
             [
              0,
              "#0d0887"
             ],
             [
              0.1111111111111111,
              "#46039f"
             ],
             [
              0.2222222222222222,
              "#7201a8"
             ],
             [
              0.3333333333333333,
              "#9c179e"
             ],
             [
              0.4444444444444444,
              "#bd3786"
             ],
             [
              0.5555555555555556,
              "#d8576b"
             ],
             [
              0.6666666666666666,
              "#ed7953"
             ],
             [
              0.7777777777777778,
              "#fb9f3a"
             ],
             [
              0.8888888888888888,
              "#fdca26"
             ],
             [
              1,
              "#f0f921"
             ]
            ],
            "type": "heatmap"
           }
          ],
          "heatmapgl": [
           {
            "colorbar": {
             "outlinewidth": 0,
             "ticks": ""
            },
            "colorscale": [
             [
              0,
              "#0d0887"
             ],
             [
              0.1111111111111111,
              "#46039f"
             ],
             [
              0.2222222222222222,
              "#7201a8"
             ],
             [
              0.3333333333333333,
              "#9c179e"
             ],
             [
              0.4444444444444444,
              "#bd3786"
             ],
             [
              0.5555555555555556,
              "#d8576b"
             ],
             [
              0.6666666666666666,
              "#ed7953"
             ],
             [
              0.7777777777777778,
              "#fb9f3a"
             ],
             [
              0.8888888888888888,
              "#fdca26"
             ],
             [
              1,
              "#f0f921"
             ]
            ],
            "type": "heatmapgl"
           }
          ],
          "histogram": [
           {
            "marker": {
             "pattern": {
              "fillmode": "overlay",
              "size": 10,
              "solidity": 0.2
             }
            },
            "type": "histogram"
           }
          ],
          "histogram2d": [
           {
            "colorbar": {
             "outlinewidth": 0,
             "ticks": ""
            },
            "colorscale": [
             [
              0,
              "#0d0887"
             ],
             [
              0.1111111111111111,
              "#46039f"
             ],
             [
              0.2222222222222222,
              "#7201a8"
             ],
             [
              0.3333333333333333,
              "#9c179e"
             ],
             [
              0.4444444444444444,
              "#bd3786"
             ],
             [
              0.5555555555555556,
              "#d8576b"
             ],
             [
              0.6666666666666666,
              "#ed7953"
             ],
             [
              0.7777777777777778,
              "#fb9f3a"
             ],
             [
              0.8888888888888888,
              "#fdca26"
             ],
             [
              1,
              "#f0f921"
             ]
            ],
            "type": "histogram2d"
           }
          ],
          "histogram2dcontour": [
           {
            "colorbar": {
             "outlinewidth": 0,
             "ticks": ""
            },
            "colorscale": [
             [
              0,
              "#0d0887"
             ],
             [
              0.1111111111111111,
              "#46039f"
             ],
             [
              0.2222222222222222,
              "#7201a8"
             ],
             [
              0.3333333333333333,
              "#9c179e"
             ],
             [
              0.4444444444444444,
              "#bd3786"
             ],
             [
              0.5555555555555556,
              "#d8576b"
             ],
             [
              0.6666666666666666,
              "#ed7953"
             ],
             [
              0.7777777777777778,
              "#fb9f3a"
             ],
             [
              0.8888888888888888,
              "#fdca26"
             ],
             [
              1,
              "#f0f921"
             ]
            ],
            "type": "histogram2dcontour"
           }
          ],
          "mesh3d": [
           {
            "colorbar": {
             "outlinewidth": 0,
             "ticks": ""
            },
            "type": "mesh3d"
           }
          ],
          "parcoords": [
           {
            "line": {
             "colorbar": {
              "outlinewidth": 0,
              "ticks": ""
             }
            },
            "type": "parcoords"
           }
          ],
          "pie": [
           {
            "automargin": true,
            "type": "pie"
           }
          ],
          "scatter": [
           {
            "marker": {
             "colorbar": {
              "outlinewidth": 0,
              "ticks": ""
             }
            },
            "type": "scatter"
           }
          ],
          "scatter3d": [
           {
            "line": {
             "colorbar": {
              "outlinewidth": 0,
              "ticks": ""
             }
            },
            "marker": {
             "colorbar": {
              "outlinewidth": 0,
              "ticks": ""
             }
            },
            "type": "scatter3d"
           }
          ],
          "scattercarpet": [
           {
            "marker": {
             "colorbar": {
              "outlinewidth": 0,
              "ticks": ""
             }
            },
            "type": "scattercarpet"
           }
          ],
          "scattergeo": [
           {
            "marker": {
             "colorbar": {
              "outlinewidth": 0,
              "ticks": ""
             }
            },
            "type": "scattergeo"
           }
          ],
          "scattergl": [
           {
            "marker": {
             "colorbar": {
              "outlinewidth": 0,
              "ticks": ""
             }
            },
            "type": "scattergl"
           }
          ],
          "scattermapbox": [
           {
            "marker": {
             "colorbar": {
              "outlinewidth": 0,
              "ticks": ""
             }
            },
            "type": "scattermapbox"
           }
          ],
          "scatterpolar": [
           {
            "marker": {
             "colorbar": {
              "outlinewidth": 0,
              "ticks": ""
             }
            },
            "type": "scatterpolar"
           }
          ],
          "scatterpolargl": [
           {
            "marker": {
             "colorbar": {
              "outlinewidth": 0,
              "ticks": ""
             }
            },
            "type": "scatterpolargl"
           }
          ],
          "scatterternary": [
           {
            "marker": {
             "colorbar": {
              "outlinewidth": 0,
              "ticks": ""
             }
            },
            "type": "scatterternary"
           }
          ],
          "surface": [
           {
            "colorbar": {
             "outlinewidth": 0,
             "ticks": ""
            },
            "colorscale": [
             [
              0,
              "#0d0887"
             ],
             [
              0.1111111111111111,
              "#46039f"
             ],
             [
              0.2222222222222222,
              "#7201a8"
             ],
             [
              0.3333333333333333,
              "#9c179e"
             ],
             [
              0.4444444444444444,
              "#bd3786"
             ],
             [
              0.5555555555555556,
              "#d8576b"
             ],
             [
              0.6666666666666666,
              "#ed7953"
             ],
             [
              0.7777777777777778,
              "#fb9f3a"
             ],
             [
              0.8888888888888888,
              "#fdca26"
             ],
             [
              1,
              "#f0f921"
             ]
            ],
            "type": "surface"
           }
          ],
          "table": [
           {
            "cells": {
             "fill": {
              "color": "#EBF0F8"
             },
             "line": {
              "color": "white"
             }
            },
            "header": {
             "fill": {
              "color": "#C8D4E3"
             },
             "line": {
              "color": "white"
             }
            },
            "type": "table"
           }
          ]
         },
         "layout": {
          "annotationdefaults": {
           "arrowcolor": "#2a3f5f",
           "arrowhead": 0,
           "arrowwidth": 1
          },
          "autotypenumbers": "strict",
          "coloraxis": {
           "colorbar": {
            "outlinewidth": 0,
            "ticks": ""
           }
          },
          "colorscale": {
           "diverging": [
            [
             0,
             "#8e0152"
            ],
            [
             0.1,
             "#c51b7d"
            ],
            [
             0.2,
             "#de77ae"
            ],
            [
             0.3,
             "#f1b6da"
            ],
            [
             0.4,
             "#fde0ef"
            ],
            [
             0.5,
             "#f7f7f7"
            ],
            [
             0.6,
             "#e6f5d0"
            ],
            [
             0.7,
             "#b8e186"
            ],
            [
             0.8,
             "#7fbc41"
            ],
            [
             0.9,
             "#4d9221"
            ],
            [
             1,
             "#276419"
            ]
           ],
           "sequential": [
            [
             0,
             "#0d0887"
            ],
            [
             0.1111111111111111,
             "#46039f"
            ],
            [
             0.2222222222222222,
             "#7201a8"
            ],
            [
             0.3333333333333333,
             "#9c179e"
            ],
            [
             0.4444444444444444,
             "#bd3786"
            ],
            [
             0.5555555555555556,
             "#d8576b"
            ],
            [
             0.6666666666666666,
             "#ed7953"
            ],
            [
             0.7777777777777778,
             "#fb9f3a"
            ],
            [
             0.8888888888888888,
             "#fdca26"
            ],
            [
             1,
             "#f0f921"
            ]
           ],
           "sequentialminus": [
            [
             0,
             "#0d0887"
            ],
            [
             0.1111111111111111,
             "#46039f"
            ],
            [
             0.2222222222222222,
             "#7201a8"
            ],
            [
             0.3333333333333333,
             "#9c179e"
            ],
            [
             0.4444444444444444,
             "#bd3786"
            ],
            [
             0.5555555555555556,
             "#d8576b"
            ],
            [
             0.6666666666666666,
             "#ed7953"
            ],
            [
             0.7777777777777778,
             "#fb9f3a"
            ],
            [
             0.8888888888888888,
             "#fdca26"
            ],
            [
             1,
             "#f0f921"
            ]
           ]
          },
          "colorway": [
           "#636efa",
           "#EF553B",
           "#00cc96",
           "#ab63fa",
           "#FFA15A",
           "#19d3f3",
           "#FF6692",
           "#B6E880",
           "#FF97FF",
           "#FECB52"
          ],
          "font": {
           "color": "#2a3f5f"
          },
          "geo": {
           "bgcolor": "white",
           "lakecolor": "white",
           "landcolor": "#E5ECF6",
           "showlakes": true,
           "showland": true,
           "subunitcolor": "white"
          },
          "hoverlabel": {
           "align": "left"
          },
          "hovermode": "closest",
          "mapbox": {
           "style": "light"
          },
          "paper_bgcolor": "white",
          "plot_bgcolor": "#E5ECF6",
          "polar": {
           "angularaxis": {
            "gridcolor": "white",
            "linecolor": "white",
            "ticks": ""
           },
           "bgcolor": "#E5ECF6",
           "radialaxis": {
            "gridcolor": "white",
            "linecolor": "white",
            "ticks": ""
           }
          },
          "scene": {
           "xaxis": {
            "backgroundcolor": "#E5ECF6",
            "gridcolor": "white",
            "gridwidth": 2,
            "linecolor": "white",
            "showbackground": true,
            "ticks": "",
            "zerolinecolor": "white"
           },
           "yaxis": {
            "backgroundcolor": "#E5ECF6",
            "gridcolor": "white",
            "gridwidth": 2,
            "linecolor": "white",
            "showbackground": true,
            "ticks": "",
            "zerolinecolor": "white"
           },
           "zaxis": {
            "backgroundcolor": "#E5ECF6",
            "gridcolor": "white",
            "gridwidth": 2,
            "linecolor": "white",
            "showbackground": true,
            "ticks": "",
            "zerolinecolor": "white"
           }
          },
          "shapedefaults": {
           "line": {
            "color": "#2a3f5f"
           }
          },
          "ternary": {
           "aaxis": {
            "gridcolor": "white",
            "linecolor": "white",
            "ticks": ""
           },
           "baxis": {
            "gridcolor": "white",
            "linecolor": "white",
            "ticks": ""
           },
           "bgcolor": "#E5ECF6",
           "caxis": {
            "gridcolor": "white",
            "linecolor": "white",
            "ticks": ""
           }
          },
          "title": {
           "x": 0.05
          },
          "xaxis": {
           "automargin": true,
           "gridcolor": "white",
           "linecolor": "white",
           "ticks": "",
           "title": {
            "standoff": 15
           },
           "zerolinecolor": "white",
           "zerolinewidth": 2
          },
          "yaxis": {
           "automargin": true,
           "gridcolor": "white",
           "linecolor": "white",
           "ticks": "",
           "title": {
            "standoff": 15
           },
           "zerolinecolor": "white",
           "zerolinewidth": 2
          }
         }
        },
        "title": {
         "text": "UMAP projection, n_neighbors=30"
        },
        "xaxis": {
         "anchor": "y",
         "domain": [
          0,
          1
         ],
         "title": {
          "text": "0"
         }
        },
        "yaxis": {
         "anchor": "x",
         "domain": [
          0,
          1
         ],
         "title": {
          "text": "1"
         }
        }
       }
      }
     },
     "metadata": {},
     "output_type": "display_data"
    },
    {
     "name": "stdout",
     "output_type": "stream",
     "text": [
      "(130, 2)\n"
     ]
    },
    {
     "data": {
      "application/vnd.plotly.v1+json": {
       "config": {
        "plotlyServerURL": "https://plot.ly"
       },
       "data": [
        {
         "hovertemplate": "color=ependymoma<br>0=%{x}<br>1=%{y}<extra></extra>",
         "legendgroup": "ependymoma",
         "marker": {
          "color": "#636efa",
          "symbol": "circle"
         },
         "mode": "markers",
         "name": "ependymoma",
         "orientation": "v",
         "showlegend": true,
         "type": "scatter",
         "x": [
          1.428259015083313,
          2.1883304119110107,
          0.5204638838768005,
          0.09142417460680008,
          0.8278471827507019,
          1.609266757965088,
          1.8309121131896973,
          1.1932501792907715,
          0.9351443648338318,
          1.1293535232543945,
          0.08464393764734268,
          1.9447945356369019,
          1.5677775144577026,
          -0.035826001316308975,
          1.4222800731658936,
          0.928723931312561,
          1.8530305624008179,
          1.1693105697631836,
          0.8852785229682922,
          1.6099224090576172,
          0.7756317853927612,
          1.0154682397842407,
          0.2854005992412567,
          0.6423705816268921,
          1.0077670812606812,
          1.4380913972854614,
          1.17879056930542,
          1.6703766584396362,
          0.4726244807243347,
          0.4299616515636444,
          0.16118250787258148,
          1.9920539855957031,
          1.3593324422836304,
          0.6131910681724548,
          0.9749283194541931,
          0.2868589162826538,
          -1.3324779272079468,
          -0.2964572608470917,
          -0.15571902692317963,
          -0.23858347535133362,
          -0.39717134833335876,
          -0.32127508521080017,
          -1.6970189809799194,
          -0.08651804178953171,
          0.4352447986602783,
          0.20949696004390717
         ],
         "xaxis": "x",
         "y": [
          8.194290161132812,
          8.523056983947754,
          9.053990364074707,
          10.606974601745605,
          8.700175285339355,
          8.73412799835205,
          8.311585426330566,
          8.574399948120117,
          8.53359603881836,
          8.496946334838867,
          11.273301124572754,
          8.316755294799805,
          8.912671089172363,
          9.703760147094727,
          9.01856517791748,
          10.066675186157227,
          8.372421264648438,
          9.147486686706543,
          9.919476509094238,
          9.27417278289795,
          9.124028205871582,
          9.26730728149414,
          9.945220947265625,
          9.981670379638672,
          8.970918655395508,
          8.852474212646484,
          9.409412384033203,
          9.231403350830078,
          10.116731643676758,
          10.949285507202148,
          11.063563346862793,
          8.559264183044434,
          8.300134658813477,
          10.795138359069824,
          9.388686180114746,
          11.141600608825684,
          10.854836463928223,
          10.912298202514648,
          11.143067359924316,
          11.046883583068848,
          10.418665885925293,
          11.238277435302734,
          10.057846069335938,
          10.458138465881348,
          11.025187492370605,
          11.008576393127441
         ],
         "yaxis": "y"
        },
        {
         "hovertemplate": "color=glioblastoma<br>0=%{x}<br>1=%{y}<extra></extra>",
         "legendgroup": "glioblastoma",
         "marker": {
          "color": "#EF553B",
          "symbol": "circle"
         },
         "mode": "markers",
         "name": "glioblastoma",
         "orientation": "v",
         "showlegend": true,
         "type": "scatter",
         "x": [
          0.06083568185567856,
          -0.5462356805801392,
          -1.668420433998108,
          -1.4878419637680054,
          -2.014106273651123,
          0.33434781432151794,
          -0.3808603584766388,
          0.33738282322883606,
          -0.7891240119934082,
          -0.38547617197036743,
          -0.7498900294303894,
          -0.14797693490982056,
          -0.6226410865783691,
          -0.30923712253570557,
          -0.39821451902389526,
          0.19202043116092682,
          -1.282763123512268,
          -1.1139202117919922,
          -1.2895532846450806,
          -1.5305734872817993,
          0.014272591099143028,
          0.005292666610330343,
          0.024160725995898247,
          -0.42159584164619446,
          -1.7219996452331543,
          -0.4746750295162201,
          -0.13181748986244202,
          -1.814429521560669,
          -3.0115513801574707,
          -2.2921719551086426,
          -1.5737504959106445,
          -1.4858967065811157,
          -1.6392545700073242,
          -1.3759019374847412
         ],
         "xaxis": "x",
         "y": [
          8.000693321228027,
          7.074392318725586,
          9.849244117736816,
          10.118494033813477,
          10.319938659667969,
          7.870128154754639,
          7.722894191741943,
          7.700058937072754,
          6.8382568359375,
          6.717607021331787,
          7.623794078826904,
          7.027601718902588,
          7.214692115783691,
          6.8263726234436035,
          7.201924800872803,
          9.754773139953613,
          9.856915473937988,
          10.667132377624512,
          9.594435691833496,
          9.503618240356445,
          7.196562767028809,
          7.9943013191223145,
          6.930492877960205,
          8.055718421936035,
          11.120620727539062,
          7.944907188415527,
          7.75477409362793,
          10.725029945373535,
          9.614840507507324,
          10.157879829406738,
          11.184102058410645,
          11.005844116210938,
          10.904911041259766,
          10.406240463256836
         ],
         "yaxis": "y"
        },
        {
         "hovertemplate": "color=medulloblastoma<br>0=%{x}<br>1=%{y}<extra></extra>",
         "legendgroup": "medulloblastoma",
         "marker": {
          "color": "#00cc96",
          "symbol": "circle"
         },
         "mode": "markers",
         "name": "medulloblastoma",
         "orientation": "v",
         "showlegend": true,
         "type": "scatter",
         "x": [
          -2.939516544342041,
          -1.7298548221588135,
          -1.4271241426467896,
          -1.2146666049957275,
          -1.6070208549499512,
          -2.7406070232391357,
          -1.3352633714675903,
          -1.5044536590576172,
          -1.9055496454238892,
          -0.7113445401191711,
          -1.5338512659072876,
          -1.5793781280517578,
          -2.905860662460327,
          -2.33840012550354,
          -2.518767833709717,
          -2.1107215881347656,
          -2.3289153575897217,
          -2.265528440475464,
          -2.4541990756988525,
          -2.138138771057129,
          -2.7255101203918457,
          -1.7972794771194458
         ],
         "xaxis": "x",
         "y": [
          7.407428741455078,
          6.57716703414917,
          6.526328086853027,
          6.788396835327148,
          6.373966693878174,
          7.555174350738525,
          6.807708263397217,
          6.399263858795166,
          6.676065444946289,
          10.445904731750488,
          6.97871732711792,
          6.894879341125488,
          7.607374668121338,
          7.899056911468506,
          7.302127361297607,
          6.822673320770264,
          7.415863990783691,
          7.474203586578369,
          7.610435485839844,
          7.607089042663574,
          7.363921165466309,
          7.6529998779296875
         ],
         "yaxis": "y"
        },
        {
         "hovertemplate": "color=normal<br>0=%{x}<br>1=%{y}<extra></extra>",
         "legendgroup": "normal",
         "marker": {
          "color": "#ab63fa",
          "symbol": "circle"
         },
         "mode": "markers",
         "name": "normal",
         "orientation": "v",
         "showlegend": true,
         "type": "scatter",
         "x": [
          -3.182088613510132,
          -2.59158992767334,
          -2.636061668395996,
          -2.3611438274383545,
          -2.9942662715911865,
          -2.810885190963745,
          -2.815439224243164,
          -1.2955092191696167,
          -3.0738601684570312,
          -2.561497211456299,
          -2.9001028537750244,
          -3.188095808029175,
          -2.6448044776916504
         ],
         "xaxis": "x",
         "y": [
          8.809986114501953,
          8.753913879394531,
          9.679130554199219,
          9.241572380065918,
          9.17396354675293,
          9.037384033203125,
          9.40239429473877,
          8.286513328552246,
          9.321845054626465,
          8.873215675354004,
          9.348145484924316,
          9.357311248779297,
          8.977839469909668
         ],
         "yaxis": "y"
        },
        {
         "hovertemplate": "color=pilocytic_astrocytoma<br>0=%{x}<br>1=%{y}<extra></extra>",
         "legendgroup": "pilocytic_astrocytoma",
         "marker": {
          "color": "#FFA15A",
          "symbol": "circle"
         },
         "mode": "markers",
         "name": "pilocytic_astrocytoma",
         "orientation": "v",
         "showlegend": true,
         "type": "scatter",
         "x": [
          -0.7332891225814819,
          -0.6464837789535522,
          -0.7324846386909485,
          0.12499839812517166,
          0.2656947374343872,
          -0.5515642762184143,
          -0.0556420162320137,
          -1.5141632556915283,
          -1.648430585861206,
          -0.6001558303833008,
          -1.3098833560943604,
          -0.5665647387504578,
          -1.7838343381881714,
          -1.875646710395813,
          -1.6865583658218384
         ],
         "xaxis": "x",
         "y": [
          7.828177452087402,
          8.404932022094727,
          8.096975326538086,
          7.45074987411499,
          7.272335529327393,
          8.129846572875977,
          8.190325736999512,
          9.956157684326172,
          10.09817123413086,
          8.50463581085205,
          10.36715316772461,
          9.534753799438477,
          10.00839614868164,
          9.823151588439941,
          10.24427318572998
         ],
         "yaxis": "y"
        }
       ],
       "layout": {
        "legend": {
         "title": {
          "text": "color"
         },
         "tracegroupgap": 0
        },
        "template": {
         "data": {
          "bar": [
           {
            "error_x": {
             "color": "#2a3f5f"
            },
            "error_y": {
             "color": "#2a3f5f"
            },
            "marker": {
             "line": {
              "color": "#E5ECF6",
              "width": 0.5
             },
             "pattern": {
              "fillmode": "overlay",
              "size": 10,
              "solidity": 0.2
             }
            },
            "type": "bar"
           }
          ],
          "barpolar": [
           {
            "marker": {
             "line": {
              "color": "#E5ECF6",
              "width": 0.5
             },
             "pattern": {
              "fillmode": "overlay",
              "size": 10,
              "solidity": 0.2
             }
            },
            "type": "barpolar"
           }
          ],
          "carpet": [
           {
            "aaxis": {
             "endlinecolor": "#2a3f5f",
             "gridcolor": "white",
             "linecolor": "white",
             "minorgridcolor": "white",
             "startlinecolor": "#2a3f5f"
            },
            "baxis": {
             "endlinecolor": "#2a3f5f",
             "gridcolor": "white",
             "linecolor": "white",
             "minorgridcolor": "white",
             "startlinecolor": "#2a3f5f"
            },
            "type": "carpet"
           }
          ],
          "choropleth": [
           {
            "colorbar": {
             "outlinewidth": 0,
             "ticks": ""
            },
            "type": "choropleth"
           }
          ],
          "contour": [
           {
            "colorbar": {
             "outlinewidth": 0,
             "ticks": ""
            },
            "colorscale": [
             [
              0,
              "#0d0887"
             ],
             [
              0.1111111111111111,
              "#46039f"
             ],
             [
              0.2222222222222222,
              "#7201a8"
             ],
             [
              0.3333333333333333,
              "#9c179e"
             ],
             [
              0.4444444444444444,
              "#bd3786"
             ],
             [
              0.5555555555555556,
              "#d8576b"
             ],
             [
              0.6666666666666666,
              "#ed7953"
             ],
             [
              0.7777777777777778,
              "#fb9f3a"
             ],
             [
              0.8888888888888888,
              "#fdca26"
             ],
             [
              1,
              "#f0f921"
             ]
            ],
            "type": "contour"
           }
          ],
          "contourcarpet": [
           {
            "colorbar": {
             "outlinewidth": 0,
             "ticks": ""
            },
            "type": "contourcarpet"
           }
          ],
          "heatmap": [
           {
            "colorbar": {
             "outlinewidth": 0,
             "ticks": ""
            },
            "colorscale": [
             [
              0,
              "#0d0887"
             ],
             [
              0.1111111111111111,
              "#46039f"
             ],
             [
              0.2222222222222222,
              "#7201a8"
             ],
             [
              0.3333333333333333,
              "#9c179e"
             ],
             [
              0.4444444444444444,
              "#bd3786"
             ],
             [
              0.5555555555555556,
              "#d8576b"
             ],
             [
              0.6666666666666666,
              "#ed7953"
             ],
             [
              0.7777777777777778,
              "#fb9f3a"
             ],
             [
              0.8888888888888888,
              "#fdca26"
             ],
             [
              1,
              "#f0f921"
             ]
            ],
            "type": "heatmap"
           }
          ],
          "heatmapgl": [
           {
            "colorbar": {
             "outlinewidth": 0,
             "ticks": ""
            },
            "colorscale": [
             [
              0,
              "#0d0887"
             ],
             [
              0.1111111111111111,
              "#46039f"
             ],
             [
              0.2222222222222222,
              "#7201a8"
             ],
             [
              0.3333333333333333,
              "#9c179e"
             ],
             [
              0.4444444444444444,
              "#bd3786"
             ],
             [
              0.5555555555555556,
              "#d8576b"
             ],
             [
              0.6666666666666666,
              "#ed7953"
             ],
             [
              0.7777777777777778,
              "#fb9f3a"
             ],
             [
              0.8888888888888888,
              "#fdca26"
             ],
             [
              1,
              "#f0f921"
             ]
            ],
            "type": "heatmapgl"
           }
          ],
          "histogram": [
           {
            "marker": {
             "pattern": {
              "fillmode": "overlay",
              "size": 10,
              "solidity": 0.2
             }
            },
            "type": "histogram"
           }
          ],
          "histogram2d": [
           {
            "colorbar": {
             "outlinewidth": 0,
             "ticks": ""
            },
            "colorscale": [
             [
              0,
              "#0d0887"
             ],
             [
              0.1111111111111111,
              "#46039f"
             ],
             [
              0.2222222222222222,
              "#7201a8"
             ],
             [
              0.3333333333333333,
              "#9c179e"
             ],
             [
              0.4444444444444444,
              "#bd3786"
             ],
             [
              0.5555555555555556,
              "#d8576b"
             ],
             [
              0.6666666666666666,
              "#ed7953"
             ],
             [
              0.7777777777777778,
              "#fb9f3a"
             ],
             [
              0.8888888888888888,
              "#fdca26"
             ],
             [
              1,
              "#f0f921"
             ]
            ],
            "type": "histogram2d"
           }
          ],
          "histogram2dcontour": [
           {
            "colorbar": {
             "outlinewidth": 0,
             "ticks": ""
            },
            "colorscale": [
             [
              0,
              "#0d0887"
             ],
             [
              0.1111111111111111,
              "#46039f"
             ],
             [
              0.2222222222222222,
              "#7201a8"
             ],
             [
              0.3333333333333333,
              "#9c179e"
             ],
             [
              0.4444444444444444,
              "#bd3786"
             ],
             [
              0.5555555555555556,
              "#d8576b"
             ],
             [
              0.6666666666666666,
              "#ed7953"
             ],
             [
              0.7777777777777778,
              "#fb9f3a"
             ],
             [
              0.8888888888888888,
              "#fdca26"
             ],
             [
              1,
              "#f0f921"
             ]
            ],
            "type": "histogram2dcontour"
           }
          ],
          "mesh3d": [
           {
            "colorbar": {
             "outlinewidth": 0,
             "ticks": ""
            },
            "type": "mesh3d"
           }
          ],
          "parcoords": [
           {
            "line": {
             "colorbar": {
              "outlinewidth": 0,
              "ticks": ""
             }
            },
            "type": "parcoords"
           }
          ],
          "pie": [
           {
            "automargin": true,
            "type": "pie"
           }
          ],
          "scatter": [
           {
            "marker": {
             "colorbar": {
              "outlinewidth": 0,
              "ticks": ""
             }
            },
            "type": "scatter"
           }
          ],
          "scatter3d": [
           {
            "line": {
             "colorbar": {
              "outlinewidth": 0,
              "ticks": ""
             }
            },
            "marker": {
             "colorbar": {
              "outlinewidth": 0,
              "ticks": ""
             }
            },
            "type": "scatter3d"
           }
          ],
          "scattercarpet": [
           {
            "marker": {
             "colorbar": {
              "outlinewidth": 0,
              "ticks": ""
             }
            },
            "type": "scattercarpet"
           }
          ],
          "scattergeo": [
           {
            "marker": {
             "colorbar": {
              "outlinewidth": 0,
              "ticks": ""
             }
            },
            "type": "scattergeo"
           }
          ],
          "scattergl": [
           {
            "marker": {
             "colorbar": {
              "outlinewidth": 0,
              "ticks": ""
             }
            },
            "type": "scattergl"
           }
          ],
          "scattermapbox": [
           {
            "marker": {
             "colorbar": {
              "outlinewidth": 0,
              "ticks": ""
             }
            },
            "type": "scattermapbox"
           }
          ],
          "scatterpolar": [
           {
            "marker": {
             "colorbar": {
              "outlinewidth": 0,
              "ticks": ""
             }
            },
            "type": "scatterpolar"
           }
          ],
          "scatterpolargl": [
           {
            "marker": {
             "colorbar": {
              "outlinewidth": 0,
              "ticks": ""
             }
            },
            "type": "scatterpolargl"
           }
          ],
          "scatterternary": [
           {
            "marker": {
             "colorbar": {
              "outlinewidth": 0,
              "ticks": ""
             }
            },
            "type": "scatterternary"
           }
          ],
          "surface": [
           {
            "colorbar": {
             "outlinewidth": 0,
             "ticks": ""
            },
            "colorscale": [
             [
              0,
              "#0d0887"
             ],
             [
              0.1111111111111111,
              "#46039f"
             ],
             [
              0.2222222222222222,
              "#7201a8"
             ],
             [
              0.3333333333333333,
              "#9c179e"
             ],
             [
              0.4444444444444444,
              "#bd3786"
             ],
             [
              0.5555555555555556,
              "#d8576b"
             ],
             [
              0.6666666666666666,
              "#ed7953"
             ],
             [
              0.7777777777777778,
              "#fb9f3a"
             ],
             [
              0.8888888888888888,
              "#fdca26"
             ],
             [
              1,
              "#f0f921"
             ]
            ],
            "type": "surface"
           }
          ],
          "table": [
           {
            "cells": {
             "fill": {
              "color": "#EBF0F8"
             },
             "line": {
              "color": "white"
             }
            },
            "header": {
             "fill": {
              "color": "#C8D4E3"
             },
             "line": {
              "color": "white"
             }
            },
            "type": "table"
           }
          ]
         },
         "layout": {
          "annotationdefaults": {
           "arrowcolor": "#2a3f5f",
           "arrowhead": 0,
           "arrowwidth": 1
          },
          "autotypenumbers": "strict",
          "coloraxis": {
           "colorbar": {
            "outlinewidth": 0,
            "ticks": ""
           }
          },
          "colorscale": {
           "diverging": [
            [
             0,
             "#8e0152"
            ],
            [
             0.1,
             "#c51b7d"
            ],
            [
             0.2,
             "#de77ae"
            ],
            [
             0.3,
             "#f1b6da"
            ],
            [
             0.4,
             "#fde0ef"
            ],
            [
             0.5,
             "#f7f7f7"
            ],
            [
             0.6,
             "#e6f5d0"
            ],
            [
             0.7,
             "#b8e186"
            ],
            [
             0.8,
             "#7fbc41"
            ],
            [
             0.9,
             "#4d9221"
            ],
            [
             1,
             "#276419"
            ]
           ],
           "sequential": [
            [
             0,
             "#0d0887"
            ],
            [
             0.1111111111111111,
             "#46039f"
            ],
            [
             0.2222222222222222,
             "#7201a8"
            ],
            [
             0.3333333333333333,
             "#9c179e"
            ],
            [
             0.4444444444444444,
             "#bd3786"
            ],
            [
             0.5555555555555556,
             "#d8576b"
            ],
            [
             0.6666666666666666,
             "#ed7953"
            ],
            [
             0.7777777777777778,
             "#fb9f3a"
            ],
            [
             0.8888888888888888,
             "#fdca26"
            ],
            [
             1,
             "#f0f921"
            ]
           ],
           "sequentialminus": [
            [
             0,
             "#0d0887"
            ],
            [
             0.1111111111111111,
             "#46039f"
            ],
            [
             0.2222222222222222,
             "#7201a8"
            ],
            [
             0.3333333333333333,
             "#9c179e"
            ],
            [
             0.4444444444444444,
             "#bd3786"
            ],
            [
             0.5555555555555556,
             "#d8576b"
            ],
            [
             0.6666666666666666,
             "#ed7953"
            ],
            [
             0.7777777777777778,
             "#fb9f3a"
            ],
            [
             0.8888888888888888,
             "#fdca26"
            ],
            [
             1,
             "#f0f921"
            ]
           ]
          },
          "colorway": [
           "#636efa",
           "#EF553B",
           "#00cc96",
           "#ab63fa",
           "#FFA15A",
           "#19d3f3",
           "#FF6692",
           "#B6E880",
           "#FF97FF",
           "#FECB52"
          ],
          "font": {
           "color": "#2a3f5f"
          },
          "geo": {
           "bgcolor": "white",
           "lakecolor": "white",
           "landcolor": "#E5ECF6",
           "showlakes": true,
           "showland": true,
           "subunitcolor": "white"
          },
          "hoverlabel": {
           "align": "left"
          },
          "hovermode": "closest",
          "mapbox": {
           "style": "light"
          },
          "paper_bgcolor": "white",
          "plot_bgcolor": "#E5ECF6",
          "polar": {
           "angularaxis": {
            "gridcolor": "white",
            "linecolor": "white",
            "ticks": ""
           },
           "bgcolor": "#E5ECF6",
           "radialaxis": {
            "gridcolor": "white",
            "linecolor": "white",
            "ticks": ""
           }
          },
          "scene": {
           "xaxis": {
            "backgroundcolor": "#E5ECF6",
            "gridcolor": "white",
            "gridwidth": 2,
            "linecolor": "white",
            "showbackground": true,
            "ticks": "",
            "zerolinecolor": "white"
           },
           "yaxis": {
            "backgroundcolor": "#E5ECF6",
            "gridcolor": "white",
            "gridwidth": 2,
            "linecolor": "white",
            "showbackground": true,
            "ticks": "",
            "zerolinecolor": "white"
           },
           "zaxis": {
            "backgroundcolor": "#E5ECF6",
            "gridcolor": "white",
            "gridwidth": 2,
            "linecolor": "white",
            "showbackground": true,
            "ticks": "",
            "zerolinecolor": "white"
           }
          },
          "shapedefaults": {
           "line": {
            "color": "#2a3f5f"
           }
          },
          "ternary": {
           "aaxis": {
            "gridcolor": "white",
            "linecolor": "white",
            "ticks": ""
           },
           "baxis": {
            "gridcolor": "white",
            "linecolor": "white",
            "ticks": ""
           },
           "bgcolor": "#E5ECF6",
           "caxis": {
            "gridcolor": "white",
            "linecolor": "white",
            "ticks": ""
           }
          },
          "title": {
           "x": 0.05
          },
          "xaxis": {
           "automargin": true,
           "gridcolor": "white",
           "linecolor": "white",
           "ticks": "",
           "title": {
            "standoff": 15
           },
           "zerolinecolor": "white",
           "zerolinewidth": 2
          },
          "yaxis": {
           "automargin": true,
           "gridcolor": "white",
           "linecolor": "white",
           "ticks": "",
           "title": {
            "standoff": 15
           },
           "zerolinecolor": "white",
           "zerolinewidth": 2
          }
         }
        },
        "title": {
         "text": "UMAP projection, n_neighbors=40"
        },
        "xaxis": {
         "anchor": "y",
         "domain": [
          0,
          1
         ],
         "title": {
          "text": "0"
         }
        },
        "yaxis": {
         "anchor": "x",
         "domain": [
          0,
          1
         ],
         "title": {
          "text": "1"
         }
        }
       }
      }
     },
     "metadata": {},
     "output_type": "display_data"
    }
   ],
   "source": [
    "import umap\n",
    "\n",
    "ns = [10, 15, 20, 30]\n",
    "for n in ns:\n",
    "    reducer = umap.UMAP(n_neighbors=n)\n",
    "    embedding = reducer.fit_transform(data)\n",
    "    print(embedding.shape)\n",
    "\n",
    "    fig = px.scatter(embedding, x=0, y=1, color=y, title=f'UMAP projection, n_neighbors={n}')\n",
    "    fig.show()\n"
   ]
  },
  {
   "cell_type": "code",
   "execution_count": 21,
   "metadata": {},
   "outputs": [
    {
     "name": "stdout",
     "output_type": "stream",
     "text": [
      "(130, 3)\n"
     ]
    },
    {
     "data": {
      "application/vnd.plotly.v1+json": {
       "config": {
        "plotlyServerURL": "https://plot.ly"
       },
       "data": [
        {
         "hovertemplate": "color=ependymoma<br>0=%{x}<br>1=%{y}<br>2=%{z}<extra></extra>",
         "legendgroup": "ependymoma",
         "marker": {
          "color": "#636efa",
          "symbol": "circle"
         },
         "mode": "markers",
         "name": "ependymoma",
         "scene": "scene",
         "showlegend": true,
         "type": "scatter3d",
         "x": [
          8.975628852844238,
          9.270218849182129,
          8.21845817565918,
          7.557628154754639,
          8.563164710998535,
          9.107217788696289,
          9.116455078125,
          8.975593566894531,
          8.684475898742676,
          8.87744426727295,
          7.2813029289245605,
          9.259613037109375,
          9.103649139404297,
          8.531115531921387,
          8.807157516479492,
          8.09320068359375,
          9.12348461151123,
          8.424826622009277,
          8.134401321411133,
          8.641212463378906,
          8.190778732299805,
          8.284067153930664,
          8.422636985778809,
          7.988133430480957,
          8.471467018127441,
          8.840057373046875,
          8.454323768615723,
          8.842484474182129,
          7.792991638183594,
          7.380102157592773,
          7.578795433044434,
          9.283154487609863,
          9.033148765563965,
          7.555160999298096,
          8.515300750732422,
          7.44588041305542,
          6.703859329223633,
          7.254053592681885,
          7.406698226928711,
          7.430566787719727,
          7.891603946685791,
          7.6604743003845215,
          6.902266502380371,
          7.733800888061523,
          7.126884937286377,
          7.266656875610352
         ],
         "y": [
          4.432751178741455,
          5.428745746612549,
          5.348811626434326,
          7.174777984619141,
          5.207905292510986,
          4.506662368774414,
          5.326584339141846,
          4.916598320007324,
          4.972564697265625,
          5.0288190841674805,
          6.625669479370117,
          5.602131366729736,
          4.560332775115967,
          6.289275646209717,
          4.882984161376953,
          5.710415363311768,
          5.428060531616211,
          4.831958293914795,
          5.677388668060303,
          4.787666320800781,
          5.16065788269043,
          5.125089168548584,
          6.267894744873047,
          5.869353294372559,
          4.996286392211914,
          4.8422627449035645,
          5.129711627960205,
          4.725094318389893,
          6.119476795196533,
          6.98693323135376,
          6.764729022979736,
          5.344831466674805,
          4.4827399253845215,
          6.633053779602051,
          5.207070350646973,
          7.019009590148926,
          8.791869163513184,
          6.926497936248779,
          7.026654243469238,
          6.740480899810791,
          7.207766532897949,
          6.675580978393555,
          8.799551963806152,
          7.157193660736084,
          6.890502452850342,
          6.7135820388793945
         ],
         "z": [
          4.118353843688965,
          3.588454008102417,
          4.287408351898193,
          2.7415175437927246,
          4.538886547088623,
          4.152406215667725,
          4.017653942108154,
          4.493126392364502,
          4.585197925567627,
          4.546424388885498,
          3.027987480163574,
          3.7880778312683105,
          3.886232614517212,
          3.3427183628082275,
          3.7382359504699707,
          3.604729413986206,
          3.897711753845215,
          4.013926029205322,
          3.6858747005462646,
          3.731475353240967,
          4.286642551422119,
          3.831840991973877,
          3.47768235206604,
          3.683140277862549,
          4.192331790924072,
          4.091768741607666,
          4.005159854888916,
          3.942032814025879,
          3.7339718341827393,
          2.714885711669922,
          2.7295949459075928,
          3.6781299114227295,
          4.231231689453125,
          2.6005160808563232,
          3.8410353660583496,
          2.8928163051605225,
          3.7946572303771973,
          3.152538537979126,
          3.23553204536438,
          3.202791929244995,
          2.9382529258728027,
          2.9518117904663086,
          4.573674201965332,
          2.888413667678833,
          2.859696388244629,
          2.888444662094116
         ]
        },
        {
         "hovertemplate": "color=glioblastoma<br>0=%{x}<br>1=%{y}<br>2=%{z}<extra></extra>",
         "legendgroup": "glioblastoma",
         "marker": {
          "color": "#EF553B",
          "symbol": "circle"
         },
         "mode": "markers",
         "name": "glioblastoma",
         "scene": "scene",
         "showlegend": true,
         "type": "scatter3d",
         "x": [
          8.137723922729492,
          7.2127485275268555,
          6.797577381134033,
          7.0060296058654785,
          7.112512111663818,
          8.309969902038574,
          7.251328945159912,
          8.298452377319336,
          7.603440284729004,
          7.524641990661621,
          7.191879749298096,
          7.468515396118164,
          7.228561878204346,
          7.138160228729248,
          7.655996799468994,
          8.124485969543457,
          6.635908126831055,
          7.043671131134033,
          6.602261543273926,
          6.6053547859191895,
          7.997258186340332,
          7.924384117126465,
          7.67861270904541,
          7.709837913513184,
          6.769362926483154,
          7.7510857582092285,
          7.7798991203308105,
          6.688992500305176,
          6.390553951263428,
          6.747614860534668,
          6.791856288909912,
          6.824069023132324,
          6.5829033851623535,
          6.9495415687561035
         ],
         "y": [
          7.284285545349121,
          7.323984146118164,
          9.312893867492676,
          9.375825881958008,
          9.443832397460938,
          7.343225002288818,
          7.712419509887695,
          7.385332107543945,
          6.880887985229492,
          7.046458721160889,
          7.894360065460205,
          7.552272796630859,
          7.343731880187988,
          7.229805946350098,
          6.892376899719238,
          6.1060991287231445,
          8.970967292785645,
          8.94447135925293,
          9.106749534606934,
          8.962075233459473,
          7.48271369934082,
          7.51137638092041,
          7.392134189605713,
          7.0601420402526855,
          9.111307144165039,
          6.746517658233643,
          6.9667840003967285,
          9.158588409423828,
          10.477396965026855,
          9.549605369567871,
          9.164971351623535,
          9.196877479553223,
          9.145919799804688,
          9.030831336975098
         ],
         "z": [
          6.246099948883057,
          7.16652774810791,
          4.505270481109619,
          4.720038414001465,
          4.628001689910889,
          6.1427507400512695,
          6.607081413269043,
          6.326850414276123,
          7.423262119293213,
          7.399961948394775,
          6.467337608337402,
          7.2058939933776855,
          6.974294185638428,
          7.228598117828369,
          6.975099086761475,
          3.8934693336486816,
          4.277322292327881,
          3.83219313621521,
          4.60188627243042,
          4.565028190612793,
          6.959171772003174,
          6.3708319664001465,
          7.335835933685303,
          6.499734401702881,
          3.518176555633545,
          6.589217185974121,
          6.575945854187012,
          3.8436777591705322,
          5.920703411102295,
          4.877974510192871,
          3.527858257293701,
          3.4747586250305176,
          3.7483527660369873,
          4.089189529418945
         ]
        },
        {
         "hovertemplate": "color=medulloblastoma<br>0=%{x}<br>1=%{y}<br>2=%{z}<extra></extra>",
         "legendgroup": "medulloblastoma",
         "marker": {
          "color": "#00cc96",
          "symbol": "circle"
         },
         "mode": "markers",
         "name": "medulloblastoma",
         "scene": "scene",
         "showlegend": true,
         "type": "scatter3d",
         "x": [
          5.7605085372924805,
          6.901649475097656,
          6.822119235992432,
          6.77705717086792,
          6.730208396911621,
          6.0058488845825195,
          6.700460433959961,
          6.790828227996826,
          6.51958703994751,
          7.308437824249268,
          6.634803771972656,
          6.789861679077148,
          5.966370105743408,
          6.007795333862305,
          5.773231029510498,
          6.421218395233154,
          6.138437271118164,
          5.857148170471191,
          5.977664947509766,
          6.084132194519043,
          5.821197032928467,
          6.347853660583496
         ],
         "y": [
          5.307894229888916,
          6.131059169769287,
          6.033401012420654,
          6.27642297744751,
          5.954736232757568,
          5.346179485321045,
          6.156708240509033,
          6.016846656799316,
          5.840385437011719,
          7.976873397827148,
          6.064702033996582,
          5.96357536315918,
          5.470720291137695,
          5.5987091064453125,
          5.398409843444824,
          5.741831302642822,
          5.882872581481934,
          5.661363124847412,
          5.737945556640625,
          5.732842922210693,
          5.628249168395996,
          5.931563377380371
         ],
         "z": [
          8.120759010314941,
          8.917407035827637,
          8.932777404785156,
          8.291642189025879,
          9.093616485595703,
          8.380857467651367,
          8.435277938842773,
          9.067728042602539,
          8.979009628295898,
          3.461282253265381,
          8.546464920043945,
          8.55394172668457,
          8.169702529907227,
          8.117535591125488,
          8.29431438446045,
          8.796591758728027,
          8.04452133178711,
          8.184999465942383,
          7.991395950317383,
          8.24429702758789,
          7.975091934204102,
          8.146402359008789
         ]
        },
        {
         "hovertemplate": "color=normal<br>0=%{x}<br>1=%{y}<br>2=%{z}<extra></extra>",
         "legendgroup": "normal",
         "marker": {
          "color": "#ab63fa",
          "symbol": "circle"
         },
         "mode": "markers",
         "name": "normal",
         "scene": "scene",
         "showlegend": true,
         "type": "scatter3d",
         "x": [
          6.355099201202393,
          6.874879837036133,
          6.6831207275390625,
          6.854414939880371,
          6.633930683135986,
          6.877881050109863,
          6.7818427085876465,
          7.164222717285156,
          6.401377201080322,
          6.701488971710205,
          6.558572292327881,
          6.622873783111572,
          6.888068675994873
         ],
         "y": [
          10.54056167602539,
          10.075201988220215,
          10.17667007446289,
          10.115154266357422,
          10.565939903259277,
          10.686836242675781,
          10.652274131774902,
          9.207090377807617,
          10.652887344360352,
          10.488909721374512,
          10.559247016906738,
          10.5640287399292,
          10.300346374511719
         ],
         "z": [
          6.587995529174805,
          6.505676746368408,
          5.6926188468933105,
          6.065185070037842,
          6.055561542510986,
          6.18342399597168,
          6.165889263153076,
          6.586729526519775,
          6.436367988586426,
          6.360651016235352,
          6.174720764160156,
          6.166453838348389,
          6.336330413818359
         ]
        },
        {
         "hovertemplate": "color=pilocytic_astrocytoma<br>0=%{x}<br>1=%{y}<br>2=%{z}<extra></extra>",
         "legendgroup": "pilocytic_astrocytoma",
         "marker": {
          "color": "#FFA15A",
          "symbol": "circle"
         },
         "mode": "markers",
         "name": "pilocytic_astrocytoma",
         "scene": "scene",
         "showlegend": true,
         "type": "scatter3d",
         "x": [
          7.374337196350098,
          7.63289737701416,
          7.312553882598877,
          7.837838172912598,
          7.740107536315918,
          7.477682590484619,
          7.577995777130127,
          7.048593521118164,
          7.155665874481201,
          7.491324424743652,
          7.109988212585449,
          7.8432512283325195,
          7.073678493499756,
          6.909387111663818,
          6.902896881103516
         ],
         "y": [
          7.676408767700195,
          7.638426303863525,
          7.9297099113464355,
          7.729329586029053,
          7.743475914001465,
          7.924098491668701,
          7.631307125091553,
          8.98463249206543,
          8.917998313903809,
          7.760785102844238,
          8.873550415039062,
          6.375033855438232,
          8.90025806427002,
          8.72870922088623,
          8.913236618041992
         ],
         "z": [
          6.574553489685059,
          6.163503646850586,
          6.163699626922607,
          6.599452495574951,
          6.980295658111572,
          6.374350547790527,
          6.2409281730651855,
          4.599987506866455,
          4.894409656524658,
          6.242059230804443,
          4.263737201690674,
          4.305019378662109,
          4.791831970214844,
          4.799393177032471,
          4.3786797523498535
         ]
        }
       ],
       "layout": {
        "legend": {
         "title": {
          "text": "color"
         },
         "tracegroupgap": 0
        },
        "scene": {
         "domain": {
          "x": [
           0,
           1
          ],
          "y": [
           0,
           1
          ]
         },
         "xaxis": {
          "title": {
           "text": "0"
          }
         },
         "yaxis": {
          "title": {
           "text": "1"
          }
         },
         "zaxis": {
          "title": {
           "text": "2"
          }
         }
        },
        "template": {
         "data": {
          "bar": [
           {
            "error_x": {
             "color": "#2a3f5f"
            },
            "error_y": {
             "color": "#2a3f5f"
            },
            "marker": {
             "line": {
              "color": "#E5ECF6",
              "width": 0.5
             },
             "pattern": {
              "fillmode": "overlay",
              "size": 10,
              "solidity": 0.2
             }
            },
            "type": "bar"
           }
          ],
          "barpolar": [
           {
            "marker": {
             "line": {
              "color": "#E5ECF6",
              "width": 0.5
             },
             "pattern": {
              "fillmode": "overlay",
              "size": 10,
              "solidity": 0.2
             }
            },
            "type": "barpolar"
           }
          ],
          "carpet": [
           {
            "aaxis": {
             "endlinecolor": "#2a3f5f",
             "gridcolor": "white",
             "linecolor": "white",
             "minorgridcolor": "white",
             "startlinecolor": "#2a3f5f"
            },
            "baxis": {
             "endlinecolor": "#2a3f5f",
             "gridcolor": "white",
             "linecolor": "white",
             "minorgridcolor": "white",
             "startlinecolor": "#2a3f5f"
            },
            "type": "carpet"
           }
          ],
          "choropleth": [
           {
            "colorbar": {
             "outlinewidth": 0,
             "ticks": ""
            },
            "type": "choropleth"
           }
          ],
          "contour": [
           {
            "colorbar": {
             "outlinewidth": 0,
             "ticks": ""
            },
            "colorscale": [
             [
              0,
              "#0d0887"
             ],
             [
              0.1111111111111111,
              "#46039f"
             ],
             [
              0.2222222222222222,
              "#7201a8"
             ],
             [
              0.3333333333333333,
              "#9c179e"
             ],
             [
              0.4444444444444444,
              "#bd3786"
             ],
             [
              0.5555555555555556,
              "#d8576b"
             ],
             [
              0.6666666666666666,
              "#ed7953"
             ],
             [
              0.7777777777777778,
              "#fb9f3a"
             ],
             [
              0.8888888888888888,
              "#fdca26"
             ],
             [
              1,
              "#f0f921"
             ]
            ],
            "type": "contour"
           }
          ],
          "contourcarpet": [
           {
            "colorbar": {
             "outlinewidth": 0,
             "ticks": ""
            },
            "type": "contourcarpet"
           }
          ],
          "heatmap": [
           {
            "colorbar": {
             "outlinewidth": 0,
             "ticks": ""
            },
            "colorscale": [
             [
              0,
              "#0d0887"
             ],
             [
              0.1111111111111111,
              "#46039f"
             ],
             [
              0.2222222222222222,
              "#7201a8"
             ],
             [
              0.3333333333333333,
              "#9c179e"
             ],
             [
              0.4444444444444444,
              "#bd3786"
             ],
             [
              0.5555555555555556,
              "#d8576b"
             ],
             [
              0.6666666666666666,
              "#ed7953"
             ],
             [
              0.7777777777777778,
              "#fb9f3a"
             ],
             [
              0.8888888888888888,
              "#fdca26"
             ],
             [
              1,
              "#f0f921"
             ]
            ],
            "type": "heatmap"
           }
          ],
          "heatmapgl": [
           {
            "colorbar": {
             "outlinewidth": 0,
             "ticks": ""
            },
            "colorscale": [
             [
              0,
              "#0d0887"
             ],
             [
              0.1111111111111111,
              "#46039f"
             ],
             [
              0.2222222222222222,
              "#7201a8"
             ],
             [
              0.3333333333333333,
              "#9c179e"
             ],
             [
              0.4444444444444444,
              "#bd3786"
             ],
             [
              0.5555555555555556,
              "#d8576b"
             ],
             [
              0.6666666666666666,
              "#ed7953"
             ],
             [
              0.7777777777777778,
              "#fb9f3a"
             ],
             [
              0.8888888888888888,
              "#fdca26"
             ],
             [
              1,
              "#f0f921"
             ]
            ],
            "type": "heatmapgl"
           }
          ],
          "histogram": [
           {
            "marker": {
             "pattern": {
              "fillmode": "overlay",
              "size": 10,
              "solidity": 0.2
             }
            },
            "type": "histogram"
           }
          ],
          "histogram2d": [
           {
            "colorbar": {
             "outlinewidth": 0,
             "ticks": ""
            },
            "colorscale": [
             [
              0,
              "#0d0887"
             ],
             [
              0.1111111111111111,
              "#46039f"
             ],
             [
              0.2222222222222222,
              "#7201a8"
             ],
             [
              0.3333333333333333,
              "#9c179e"
             ],
             [
              0.4444444444444444,
              "#bd3786"
             ],
             [
              0.5555555555555556,
              "#d8576b"
             ],
             [
              0.6666666666666666,
              "#ed7953"
             ],
             [
              0.7777777777777778,
              "#fb9f3a"
             ],
             [
              0.8888888888888888,
              "#fdca26"
             ],
             [
              1,
              "#f0f921"
             ]
            ],
            "type": "histogram2d"
           }
          ],
          "histogram2dcontour": [
           {
            "colorbar": {
             "outlinewidth": 0,
             "ticks": ""
            },
            "colorscale": [
             [
              0,
              "#0d0887"
             ],
             [
              0.1111111111111111,
              "#46039f"
             ],
             [
              0.2222222222222222,
              "#7201a8"
             ],
             [
              0.3333333333333333,
              "#9c179e"
             ],
             [
              0.4444444444444444,
              "#bd3786"
             ],
             [
              0.5555555555555556,
              "#d8576b"
             ],
             [
              0.6666666666666666,
              "#ed7953"
             ],
             [
              0.7777777777777778,
              "#fb9f3a"
             ],
             [
              0.8888888888888888,
              "#fdca26"
             ],
             [
              1,
              "#f0f921"
             ]
            ],
            "type": "histogram2dcontour"
           }
          ],
          "mesh3d": [
           {
            "colorbar": {
             "outlinewidth": 0,
             "ticks": ""
            },
            "type": "mesh3d"
           }
          ],
          "parcoords": [
           {
            "line": {
             "colorbar": {
              "outlinewidth": 0,
              "ticks": ""
             }
            },
            "type": "parcoords"
           }
          ],
          "pie": [
           {
            "automargin": true,
            "type": "pie"
           }
          ],
          "scatter": [
           {
            "marker": {
             "colorbar": {
              "outlinewidth": 0,
              "ticks": ""
             }
            },
            "type": "scatter"
           }
          ],
          "scatter3d": [
           {
            "line": {
             "colorbar": {
              "outlinewidth": 0,
              "ticks": ""
             }
            },
            "marker": {
             "colorbar": {
              "outlinewidth": 0,
              "ticks": ""
             }
            },
            "type": "scatter3d"
           }
          ],
          "scattercarpet": [
           {
            "marker": {
             "colorbar": {
              "outlinewidth": 0,
              "ticks": ""
             }
            },
            "type": "scattercarpet"
           }
          ],
          "scattergeo": [
           {
            "marker": {
             "colorbar": {
              "outlinewidth": 0,
              "ticks": ""
             }
            },
            "type": "scattergeo"
           }
          ],
          "scattergl": [
           {
            "marker": {
             "colorbar": {
              "outlinewidth": 0,
              "ticks": ""
             }
            },
            "type": "scattergl"
           }
          ],
          "scattermapbox": [
           {
            "marker": {
             "colorbar": {
              "outlinewidth": 0,
              "ticks": ""
             }
            },
            "type": "scattermapbox"
           }
          ],
          "scatterpolar": [
           {
            "marker": {
             "colorbar": {
              "outlinewidth": 0,
              "ticks": ""
             }
            },
            "type": "scatterpolar"
           }
          ],
          "scatterpolargl": [
           {
            "marker": {
             "colorbar": {
              "outlinewidth": 0,
              "ticks": ""
             }
            },
            "type": "scatterpolargl"
           }
          ],
          "scatterternary": [
           {
            "marker": {
             "colorbar": {
              "outlinewidth": 0,
              "ticks": ""
             }
            },
            "type": "scatterternary"
           }
          ],
          "surface": [
           {
            "colorbar": {
             "outlinewidth": 0,
             "ticks": ""
            },
            "colorscale": [
             [
              0,
              "#0d0887"
             ],
             [
              0.1111111111111111,
              "#46039f"
             ],
             [
              0.2222222222222222,
              "#7201a8"
             ],
             [
              0.3333333333333333,
              "#9c179e"
             ],
             [
              0.4444444444444444,
              "#bd3786"
             ],
             [
              0.5555555555555556,
              "#d8576b"
             ],
             [
              0.6666666666666666,
              "#ed7953"
             ],
             [
              0.7777777777777778,
              "#fb9f3a"
             ],
             [
              0.8888888888888888,
              "#fdca26"
             ],
             [
              1,
              "#f0f921"
             ]
            ],
            "type": "surface"
           }
          ],
          "table": [
           {
            "cells": {
             "fill": {
              "color": "#EBF0F8"
             },
             "line": {
              "color": "white"
             }
            },
            "header": {
             "fill": {
              "color": "#C8D4E3"
             },
             "line": {
              "color": "white"
             }
            },
            "type": "table"
           }
          ]
         },
         "layout": {
          "annotationdefaults": {
           "arrowcolor": "#2a3f5f",
           "arrowhead": 0,
           "arrowwidth": 1
          },
          "autotypenumbers": "strict",
          "coloraxis": {
           "colorbar": {
            "outlinewidth": 0,
            "ticks": ""
           }
          },
          "colorscale": {
           "diverging": [
            [
             0,
             "#8e0152"
            ],
            [
             0.1,
             "#c51b7d"
            ],
            [
             0.2,
             "#de77ae"
            ],
            [
             0.3,
             "#f1b6da"
            ],
            [
             0.4,
             "#fde0ef"
            ],
            [
             0.5,
             "#f7f7f7"
            ],
            [
             0.6,
             "#e6f5d0"
            ],
            [
             0.7,
             "#b8e186"
            ],
            [
             0.8,
             "#7fbc41"
            ],
            [
             0.9,
             "#4d9221"
            ],
            [
             1,
             "#276419"
            ]
           ],
           "sequential": [
            [
             0,
             "#0d0887"
            ],
            [
             0.1111111111111111,
             "#46039f"
            ],
            [
             0.2222222222222222,
             "#7201a8"
            ],
            [
             0.3333333333333333,
             "#9c179e"
            ],
            [
             0.4444444444444444,
             "#bd3786"
            ],
            [
             0.5555555555555556,
             "#d8576b"
            ],
            [
             0.6666666666666666,
             "#ed7953"
            ],
            [
             0.7777777777777778,
             "#fb9f3a"
            ],
            [
             0.8888888888888888,
             "#fdca26"
            ],
            [
             1,
             "#f0f921"
            ]
           ],
           "sequentialminus": [
            [
             0,
             "#0d0887"
            ],
            [
             0.1111111111111111,
             "#46039f"
            ],
            [
             0.2222222222222222,
             "#7201a8"
            ],
            [
             0.3333333333333333,
             "#9c179e"
            ],
            [
             0.4444444444444444,
             "#bd3786"
            ],
            [
             0.5555555555555556,
             "#d8576b"
            ],
            [
             0.6666666666666666,
             "#ed7953"
            ],
            [
             0.7777777777777778,
             "#fb9f3a"
            ],
            [
             0.8888888888888888,
             "#fdca26"
            ],
            [
             1,
             "#f0f921"
            ]
           ]
          },
          "colorway": [
           "#636efa",
           "#EF553B",
           "#00cc96",
           "#ab63fa",
           "#FFA15A",
           "#19d3f3",
           "#FF6692",
           "#B6E880",
           "#FF97FF",
           "#FECB52"
          ],
          "font": {
           "color": "#2a3f5f"
          },
          "geo": {
           "bgcolor": "white",
           "lakecolor": "white",
           "landcolor": "#E5ECF6",
           "showlakes": true,
           "showland": true,
           "subunitcolor": "white"
          },
          "hoverlabel": {
           "align": "left"
          },
          "hovermode": "closest",
          "mapbox": {
           "style": "light"
          },
          "paper_bgcolor": "white",
          "plot_bgcolor": "#E5ECF6",
          "polar": {
           "angularaxis": {
            "gridcolor": "white",
            "linecolor": "white",
            "ticks": ""
           },
           "bgcolor": "#E5ECF6",
           "radialaxis": {
            "gridcolor": "white",
            "linecolor": "white",
            "ticks": ""
           }
          },
          "scene": {
           "xaxis": {
            "backgroundcolor": "#E5ECF6",
            "gridcolor": "white",
            "gridwidth": 2,
            "linecolor": "white",
            "showbackground": true,
            "ticks": "",
            "zerolinecolor": "white"
           },
           "yaxis": {
            "backgroundcolor": "#E5ECF6",
            "gridcolor": "white",
            "gridwidth": 2,
            "linecolor": "white",
            "showbackground": true,
            "ticks": "",
            "zerolinecolor": "white"
           },
           "zaxis": {
            "backgroundcolor": "#E5ECF6",
            "gridcolor": "white",
            "gridwidth": 2,
            "linecolor": "white",
            "showbackground": true,
            "ticks": "",
            "zerolinecolor": "white"
           }
          },
          "shapedefaults": {
           "line": {
            "color": "#2a3f5f"
           }
          },
          "ternary": {
           "aaxis": {
            "gridcolor": "white",
            "linecolor": "white",
            "ticks": ""
           },
           "baxis": {
            "gridcolor": "white",
            "linecolor": "white",
            "ticks": ""
           },
           "bgcolor": "#E5ECF6",
           "caxis": {
            "gridcolor": "white",
            "linecolor": "white",
            "ticks": ""
           }
          },
          "title": {
           "x": 0.05
          },
          "xaxis": {
           "automargin": true,
           "gridcolor": "white",
           "linecolor": "white",
           "ticks": "",
           "title": {
            "standoff": 15
           },
           "zerolinecolor": "white",
           "zerolinewidth": 2
          },
          "yaxis": {
           "automargin": true,
           "gridcolor": "white",
           "linecolor": "white",
           "ticks": "",
           "title": {
            "standoff": 15
           },
           "zerolinecolor": "white",
           "zerolinewidth": 2
          }
         }
        },
        "title": {
         "text": "UMAP 3 Components"
        }
       }
      }
     },
     "metadata": {},
     "output_type": "display_data"
    }
   ],
   "source": [
    "reducer = umap.UMAP(n_components=3)\n",
    "embedding = reducer.fit_transform(data)\n",
    "print(embedding.shape)\n",
    "\n",
    "fig = px.scatter_3d(\n",
    "    embedding, x=0, y=1, z=2, color=y,\n",
    "    title=f'UMAP 3 Components'\n",
    ")\n",
    "fig.show()"
   ]
  }
 ],
 "metadata": {
  "kernelspec": {
   "display_name": "py38",
   "language": "python",
   "name": "python3"
  },
  "language_info": {
   "codemirror_mode": {
    "name": "ipython",
    "version": 3
   },
   "file_extension": ".py",
   "mimetype": "text/x-python",
   "name": "python",
   "nbconvert_exporter": "python",
   "pygments_lexer": "ipython3",
   "version": "3.8.11"
  },
  "orig_nbformat": 4,
  "vscode": {
   "interpreter": {
    "hash": "e1da24d1ab7662ce66308ea6e408f3ffff9a94b310c3a1b46f9c781a43602525"
   }
  }
 },
 "nbformat": 4,
 "nbformat_minor": 2
}
