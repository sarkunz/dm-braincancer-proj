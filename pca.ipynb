{
 "cells": [
  {
   "cell_type": "code",
   "execution_count": 3,
   "metadata": {},
   "outputs": [
    {
     "ename": "ModuleNotFoundError",
     "evalue": "No module named 'google.colab'",
     "output_type": "error",
     "traceback": [
      "\u001b[1;31m---------------------------------------------------------------------------\u001b[0m",
      "\u001b[1;31mModuleNotFoundError\u001b[0m                       Traceback (most recent call last)",
      "\u001b[1;32m<ipython-input-3-792a768cc417>\u001b[0m in \u001b[0;36m<module>\u001b[1;34m\u001b[0m\n\u001b[0;32m      1\u001b[0m \u001b[1;32mfrom\u001b[0m \u001b[0mpydrive\u001b[0m\u001b[1;33m.\u001b[0m\u001b[0mauth\u001b[0m \u001b[1;32mimport\u001b[0m \u001b[0mGoogleAuth\u001b[0m\u001b[1;33m\u001b[0m\u001b[1;33m\u001b[0m\u001b[0m\n\u001b[0;32m      2\u001b[0m \u001b[1;32mfrom\u001b[0m \u001b[0mpydrive\u001b[0m\u001b[1;33m.\u001b[0m\u001b[0mdrive\u001b[0m \u001b[1;32mimport\u001b[0m \u001b[0mGoogleDrive\u001b[0m\u001b[1;33m\u001b[0m\u001b[1;33m\u001b[0m\u001b[0m\n\u001b[1;32m----> 3\u001b[1;33m \u001b[1;32mfrom\u001b[0m \u001b[0mgoogle\u001b[0m\u001b[1;33m.\u001b[0m\u001b[0mcolab\u001b[0m \u001b[1;32mimport\u001b[0m \u001b[0mauth\u001b[0m\u001b[1;33m\u001b[0m\u001b[1;33m\u001b[0m\u001b[0m\n\u001b[0m\u001b[0;32m      4\u001b[0m \u001b[1;32mfrom\u001b[0m \u001b[0moauth2client\u001b[0m\u001b[1;33m.\u001b[0m\u001b[0mclient\u001b[0m \u001b[1;32mimport\u001b[0m \u001b[0mGoogleCredentials\u001b[0m\u001b[1;33m\u001b[0m\u001b[1;33m\u001b[0m\u001b[0m\n\u001b[0;32m      5\u001b[0m \u001b[1;32mimport\u001b[0m \u001b[0mpandas\u001b[0m \u001b[1;32mas\u001b[0m \u001b[0mpd\u001b[0m\u001b[1;33m\u001b[0m\u001b[1;33m\u001b[0m\u001b[0m\n",
      "\u001b[1;31mModuleNotFoundError\u001b[0m: No module named 'google.colab'"
     ]
    }
   ],
   "source": [
    "# from pydrive.auth import GoogleAuth\n",
    "# from pydrive.drive import GoogleDrive\n",
    "# from google.colab import auth\n",
    "# from oauth2client.client import GoogleCredentials\n",
    "# import pandas as pd\n",
    "\n",
    "# auth.authenticate_user()\n",
    "# gauth = GoogleAuth()\n",
    "# gauth.credentials = GoogleCredentials.get_application_default()\n",
    "# drive = GoogleDrive(gauth)"
   ]
  },
  {
   "cell_type": "code",
   "execution_count": null,
   "metadata": {},
   "outputs": [],
   "source": [
    "# url='https://drive.google.com/file/d/18UEhflIsMMfmbifTUNgH86xbJ9zUI6BE/view?usp=share_link'\n",
    "# fileDownloaded = drive.CreateFile({'id':'18UEhflIsMMfmbifTUNgH86xbJ9zUI6BE'})\n",
    "# fileDownloaded.GetContentFile('cancer_gene_expression.csv')"
   ]
  },
  {
   "cell_type": "code",
   "execution_count": 5,
   "metadata": {},
   "outputs": [
    {
     "data": {
      "text/html": [
       "<div>\n",
       "<style scoped>\n",
       "    .dataframe tbody tr th:only-of-type {\n",
       "        vertical-align: middle;\n",
       "    }\n",
       "\n",
       "    .dataframe tbody tr th {\n",
       "        vertical-align: top;\n",
       "    }\n",
       "\n",
       "    .dataframe thead th {\n",
       "        text-align: right;\n",
       "    }\n",
       "</style>\n",
       "<table border=\"1\" class=\"dataframe\">\n",
       "  <thead>\n",
       "    <tr style=\"text-align: right;\">\n",
       "      <th></th>\n",
       "      <th>samples</th>\n",
       "      <th>type</th>\n",
       "      <th>1007_s_at</th>\n",
       "      <th>1053_at</th>\n",
       "      <th>117_at</th>\n",
       "      <th>121_at</th>\n",
       "      <th>1255_g_at</th>\n",
       "      <th>1294_at</th>\n",
       "      <th>1316_at</th>\n",
       "      <th>1320_at</th>\n",
       "      <th>...</th>\n",
       "      <th>AFFX-r2-Ec-bioD-3_at</th>\n",
       "      <th>AFFX-r2-Ec-bioD-5_at</th>\n",
       "      <th>AFFX-r2-P1-cre-3_at</th>\n",
       "      <th>AFFX-r2-P1-cre-5_at</th>\n",
       "      <th>AFFX-ThrX-3_at</th>\n",
       "      <th>AFFX-ThrX-5_at</th>\n",
       "      <th>AFFX-ThrX-M_at</th>\n",
       "      <th>AFFX-TrpnX-3_at</th>\n",
       "      <th>AFFX-TrpnX-5_at</th>\n",
       "      <th>AFFX-TrpnX-M_at</th>\n",
       "    </tr>\n",
       "  </thead>\n",
       "  <tbody>\n",
       "    <tr>\n",
       "      <th>0</th>\n",
       "      <td>834</td>\n",
       "      <td>ependymoma</td>\n",
       "      <td>12.498150</td>\n",
       "      <td>7.604868</td>\n",
       "      <td>6.880934</td>\n",
       "      <td>9.027128</td>\n",
       "      <td>4.176175</td>\n",
       "      <td>7.224920</td>\n",
       "      <td>6.085942</td>\n",
       "      <td>6.835999</td>\n",
       "      <td>...</td>\n",
       "      <td>9.979005</td>\n",
       "      <td>9.926470</td>\n",
       "      <td>12.719785</td>\n",
       "      <td>12.777792</td>\n",
       "      <td>5.403657</td>\n",
       "      <td>4.870548</td>\n",
       "      <td>4.047380</td>\n",
       "      <td>3.721936</td>\n",
       "      <td>4.516434</td>\n",
       "      <td>4.749940</td>\n",
       "    </tr>\n",
       "    <tr>\n",
       "      <th>1</th>\n",
       "      <td>835</td>\n",
       "      <td>ependymoma</td>\n",
       "      <td>13.067436</td>\n",
       "      <td>7.998090</td>\n",
       "      <td>7.209076</td>\n",
       "      <td>9.723322</td>\n",
       "      <td>4.826126</td>\n",
       "      <td>7.539381</td>\n",
       "      <td>6.250962</td>\n",
       "      <td>8.012549</td>\n",
       "      <td>...</td>\n",
       "      <td>11.924749</td>\n",
       "      <td>11.215930</td>\n",
       "      <td>13.605662</td>\n",
       "      <td>13.401342</td>\n",
       "      <td>5.224555</td>\n",
       "      <td>4.895315</td>\n",
       "      <td>3.786437</td>\n",
       "      <td>3.564481</td>\n",
       "      <td>4.430891</td>\n",
       "      <td>4.491416</td>\n",
       "    </tr>\n",
       "    <tr>\n",
       "      <th>2</th>\n",
       "      <td>836</td>\n",
       "      <td>ependymoma</td>\n",
       "      <td>13.068179</td>\n",
       "      <td>8.573674</td>\n",
       "      <td>8.647684</td>\n",
       "      <td>9.613002</td>\n",
       "      <td>4.396581</td>\n",
       "      <td>7.813101</td>\n",
       "      <td>6.007746</td>\n",
       "      <td>7.178156</td>\n",
       "      <td>...</td>\n",
       "      <td>12.154405</td>\n",
       "      <td>11.532460</td>\n",
       "      <td>13.764593</td>\n",
       "      <td>13.477800</td>\n",
       "      <td>5.303565</td>\n",
       "      <td>5.052184</td>\n",
       "      <td>4.005343</td>\n",
       "      <td>3.595382</td>\n",
       "      <td>4.563494</td>\n",
       "      <td>4.668827</td>\n",
       "    </tr>\n",
       "    <tr>\n",
       "      <th>3</th>\n",
       "      <td>837</td>\n",
       "      <td>ependymoma</td>\n",
       "      <td>12.456040</td>\n",
       "      <td>9.098977</td>\n",
       "      <td>6.628784</td>\n",
       "      <td>8.517677</td>\n",
       "      <td>4.154847</td>\n",
       "      <td>8.361843</td>\n",
       "      <td>6.596064</td>\n",
       "      <td>6.347285</td>\n",
       "      <td>...</td>\n",
       "      <td>11.969072</td>\n",
       "      <td>11.288801</td>\n",
       "      <td>13.600828</td>\n",
       "      <td>13.379029</td>\n",
       "      <td>4.953429</td>\n",
       "      <td>4.708371</td>\n",
       "      <td>3.892318</td>\n",
       "      <td>3.759429</td>\n",
       "      <td>4.748381</td>\n",
       "      <td>4.521275</td>\n",
       "    </tr>\n",
       "    <tr>\n",
       "      <th>4</th>\n",
       "      <td>838</td>\n",
       "      <td>ependymoma</td>\n",
       "      <td>12.699958</td>\n",
       "      <td>8.800721</td>\n",
       "      <td>11.556188</td>\n",
       "      <td>9.166309</td>\n",
       "      <td>4.165891</td>\n",
       "      <td>7.923826</td>\n",
       "      <td>6.212754</td>\n",
       "      <td>6.866387</td>\n",
       "      <td>...</td>\n",
       "      <td>11.411701</td>\n",
       "      <td>11.169317</td>\n",
       "      <td>13.751442</td>\n",
       "      <td>13.803646</td>\n",
       "      <td>4.892677</td>\n",
       "      <td>4.773806</td>\n",
       "      <td>3.796856</td>\n",
       "      <td>3.577544</td>\n",
       "      <td>4.504385</td>\n",
       "      <td>4.541450</td>\n",
       "    </tr>\n",
       "  </tbody>\n",
       "</table>\n",
       "<p>5 rows × 54677 columns</p>\n",
       "</div>"
      ],
      "text/plain": [
       "   samples        type  1007_s_at   1053_at     117_at    121_at  1255_g_at  \\\n",
       "0      834  ependymoma  12.498150  7.604868   6.880934  9.027128   4.176175   \n",
       "1      835  ependymoma  13.067436  7.998090   7.209076  9.723322   4.826126   \n",
       "2      836  ependymoma  13.068179  8.573674   8.647684  9.613002   4.396581   \n",
       "3      837  ependymoma  12.456040  9.098977   6.628784  8.517677   4.154847   \n",
       "4      838  ependymoma  12.699958  8.800721  11.556188  9.166309   4.165891   \n",
       "\n",
       "    1294_at   1316_at   1320_at  ...  AFFX-r2-Ec-bioD-3_at  \\\n",
       "0  7.224920  6.085942  6.835999  ...              9.979005   \n",
       "1  7.539381  6.250962  8.012549  ...             11.924749   \n",
       "2  7.813101  6.007746  7.178156  ...             12.154405   \n",
       "3  8.361843  6.596064  6.347285  ...             11.969072   \n",
       "4  7.923826  6.212754  6.866387  ...             11.411701   \n",
       "\n",
       "   AFFX-r2-Ec-bioD-5_at  AFFX-r2-P1-cre-3_at  AFFX-r2-P1-cre-5_at  \\\n",
       "0              9.926470            12.719785            12.777792   \n",
       "1             11.215930            13.605662            13.401342   \n",
       "2             11.532460            13.764593            13.477800   \n",
       "3             11.288801            13.600828            13.379029   \n",
       "4             11.169317            13.751442            13.803646   \n",
       "\n",
       "   AFFX-ThrX-3_at  AFFX-ThrX-5_at  AFFX-ThrX-M_at  AFFX-TrpnX-3_at  \\\n",
       "0        5.403657        4.870548        4.047380         3.721936   \n",
       "1        5.224555        4.895315        3.786437         3.564481   \n",
       "2        5.303565        5.052184        4.005343         3.595382   \n",
       "3        4.953429        4.708371        3.892318         3.759429   \n",
       "4        4.892677        4.773806        3.796856         3.577544   \n",
       "\n",
       "   AFFX-TrpnX-5_at  AFFX-TrpnX-M_at  \n",
       "0         4.516434         4.749940  \n",
       "1         4.430891         4.491416  \n",
       "2         4.563494         4.668827  \n",
       "3         4.748381         4.521275  \n",
       "4         4.504385         4.541450  \n",
       "\n",
       "[5 rows x 54677 columns]"
      ]
     },
     "execution_count": 5,
     "metadata": {},
     "output_type": "execute_result"
    }
   ],
   "source": [
    "import pandas as pd\n",
    "df = pd.read_csv('cancer_gene_expression.csv', delimiter=',' )\n",
    "df.head()"
   ]
  },
  {
   "cell_type": "code",
   "execution_count": 6,
   "metadata": {},
   "outputs": [
    {
     "data": {
      "text/html": [
       "<div>\n",
       "<style scoped>\n",
       "    .dataframe tbody tr th:only-of-type {\n",
       "        vertical-align: middle;\n",
       "    }\n",
       "\n",
       "    .dataframe tbody tr th {\n",
       "        vertical-align: top;\n",
       "    }\n",
       "\n",
       "    .dataframe thead th {\n",
       "        text-align: right;\n",
       "    }\n",
       "</style>\n",
       "<table border=\"1\" class=\"dataframe\">\n",
       "  <thead>\n",
       "    <tr style=\"text-align: right;\">\n",
       "      <th></th>\n",
       "      <th>1007_s_at</th>\n",
       "      <th>1053_at</th>\n",
       "      <th>117_at</th>\n",
       "      <th>121_at</th>\n",
       "      <th>1255_g_at</th>\n",
       "      <th>1294_at</th>\n",
       "      <th>1316_at</th>\n",
       "      <th>1320_at</th>\n",
       "      <th>1405_i_at</th>\n",
       "      <th>1431_at</th>\n",
       "      <th>...</th>\n",
       "      <th>AFFX-r2-Ec-bioD-3_at</th>\n",
       "      <th>AFFX-r2-Ec-bioD-5_at</th>\n",
       "      <th>AFFX-r2-P1-cre-3_at</th>\n",
       "      <th>AFFX-r2-P1-cre-5_at</th>\n",
       "      <th>AFFX-ThrX-3_at</th>\n",
       "      <th>AFFX-ThrX-5_at</th>\n",
       "      <th>AFFX-ThrX-M_at</th>\n",
       "      <th>AFFX-TrpnX-3_at</th>\n",
       "      <th>AFFX-TrpnX-5_at</th>\n",
       "      <th>AFFX-TrpnX-M_at</th>\n",
       "    </tr>\n",
       "  </thead>\n",
       "  <tbody>\n",
       "    <tr>\n",
       "      <th>0</th>\n",
       "      <td>12.498150</td>\n",
       "      <td>7.604868</td>\n",
       "      <td>6.880934</td>\n",
       "      <td>9.027128</td>\n",
       "      <td>4.176175</td>\n",
       "      <td>7.224920</td>\n",
       "      <td>6.085942</td>\n",
       "      <td>6.835999</td>\n",
       "      <td>5.898355</td>\n",
       "      <td>5.513410</td>\n",
       "      <td>...</td>\n",
       "      <td>9.979005</td>\n",
       "      <td>9.926470</td>\n",
       "      <td>12.719785</td>\n",
       "      <td>12.777792</td>\n",
       "      <td>5.403657</td>\n",
       "      <td>4.870548</td>\n",
       "      <td>4.047380</td>\n",
       "      <td>3.721936</td>\n",
       "      <td>4.516434</td>\n",
       "      <td>4.749940</td>\n",
       "    </tr>\n",
       "    <tr>\n",
       "      <th>1</th>\n",
       "      <td>13.067436</td>\n",
       "      <td>7.998090</td>\n",
       "      <td>7.209076</td>\n",
       "      <td>9.723322</td>\n",
       "      <td>4.826126</td>\n",
       "      <td>7.539381</td>\n",
       "      <td>6.250962</td>\n",
       "      <td>8.012549</td>\n",
       "      <td>5.453147</td>\n",
       "      <td>6.173106</td>\n",
       "      <td>...</td>\n",
       "      <td>11.924749</td>\n",
       "      <td>11.215930</td>\n",
       "      <td>13.605662</td>\n",
       "      <td>13.401342</td>\n",
       "      <td>5.224555</td>\n",
       "      <td>4.895315</td>\n",
       "      <td>3.786437</td>\n",
       "      <td>3.564481</td>\n",
       "      <td>4.430891</td>\n",
       "      <td>4.491416</td>\n",
       "    </tr>\n",
       "    <tr>\n",
       "      <th>2</th>\n",
       "      <td>13.068179</td>\n",
       "      <td>8.573674</td>\n",
       "      <td>8.647684</td>\n",
       "      <td>9.613002</td>\n",
       "      <td>4.396581</td>\n",
       "      <td>7.813101</td>\n",
       "      <td>6.007746</td>\n",
       "      <td>7.178156</td>\n",
       "      <td>8.400266</td>\n",
       "      <td>6.323471</td>\n",
       "      <td>...</td>\n",
       "      <td>12.154405</td>\n",
       "      <td>11.532460</td>\n",
       "      <td>13.764593</td>\n",
       "      <td>13.477800</td>\n",
       "      <td>5.303565</td>\n",
       "      <td>5.052184</td>\n",
       "      <td>4.005343</td>\n",
       "      <td>3.595382</td>\n",
       "      <td>4.563494</td>\n",
       "      <td>4.668827</td>\n",
       "    </tr>\n",
       "    <tr>\n",
       "      <th>3</th>\n",
       "      <td>12.456040</td>\n",
       "      <td>9.098977</td>\n",
       "      <td>6.628784</td>\n",
       "      <td>8.517677</td>\n",
       "      <td>4.154847</td>\n",
       "      <td>8.361843</td>\n",
       "      <td>6.596064</td>\n",
       "      <td>6.347285</td>\n",
       "      <td>4.900380</td>\n",
       "      <td>6.008684</td>\n",
       "      <td>...</td>\n",
       "      <td>11.969072</td>\n",
       "      <td>11.288801</td>\n",
       "      <td>13.600828</td>\n",
       "      <td>13.379029</td>\n",
       "      <td>4.953429</td>\n",
       "      <td>4.708371</td>\n",
       "      <td>3.892318</td>\n",
       "      <td>3.759429</td>\n",
       "      <td>4.748381</td>\n",
       "      <td>4.521275</td>\n",
       "    </tr>\n",
       "    <tr>\n",
       "      <th>4</th>\n",
       "      <td>12.699958</td>\n",
       "      <td>8.800721</td>\n",
       "      <td>11.556188</td>\n",
       "      <td>9.166309</td>\n",
       "      <td>4.165891</td>\n",
       "      <td>7.923826</td>\n",
       "      <td>6.212754</td>\n",
       "      <td>6.866387</td>\n",
       "      <td>5.405628</td>\n",
       "      <td>5.279579</td>\n",
       "      <td>...</td>\n",
       "      <td>11.411701</td>\n",
       "      <td>11.169317</td>\n",
       "      <td>13.751442</td>\n",
       "      <td>13.803646</td>\n",
       "      <td>4.892677</td>\n",
       "      <td>4.773806</td>\n",
       "      <td>3.796856</td>\n",
       "      <td>3.577544</td>\n",
       "      <td>4.504385</td>\n",
       "      <td>4.541450</td>\n",
       "    </tr>\n",
       "  </tbody>\n",
       "</table>\n",
       "<p>5 rows × 54675 columns</p>\n",
       "</div>"
      ],
      "text/plain": [
       "   1007_s_at   1053_at     117_at    121_at  1255_g_at   1294_at   1316_at  \\\n",
       "0  12.498150  7.604868   6.880934  9.027128   4.176175  7.224920  6.085942   \n",
       "1  13.067436  7.998090   7.209076  9.723322   4.826126  7.539381  6.250962   \n",
       "2  13.068179  8.573674   8.647684  9.613002   4.396581  7.813101  6.007746   \n",
       "3  12.456040  9.098977   6.628784  8.517677   4.154847  8.361843  6.596064   \n",
       "4  12.699958  8.800721  11.556188  9.166309   4.165891  7.923826  6.212754   \n",
       "\n",
       "    1320_at  1405_i_at   1431_at  ...  AFFX-r2-Ec-bioD-3_at  \\\n",
       "0  6.835999   5.898355  5.513410  ...              9.979005   \n",
       "1  8.012549   5.453147  6.173106  ...             11.924749   \n",
       "2  7.178156   8.400266  6.323471  ...             12.154405   \n",
       "3  6.347285   4.900380  6.008684  ...             11.969072   \n",
       "4  6.866387   5.405628  5.279579  ...             11.411701   \n",
       "\n",
       "   AFFX-r2-Ec-bioD-5_at  AFFX-r2-P1-cre-3_at  AFFX-r2-P1-cre-5_at  \\\n",
       "0              9.926470            12.719785            12.777792   \n",
       "1             11.215930            13.605662            13.401342   \n",
       "2             11.532460            13.764593            13.477800   \n",
       "3             11.288801            13.600828            13.379029   \n",
       "4             11.169317            13.751442            13.803646   \n",
       "\n",
       "   AFFX-ThrX-3_at  AFFX-ThrX-5_at  AFFX-ThrX-M_at  AFFX-TrpnX-3_at  \\\n",
       "0        5.403657        4.870548        4.047380         3.721936   \n",
       "1        5.224555        4.895315        3.786437         3.564481   \n",
       "2        5.303565        5.052184        4.005343         3.595382   \n",
       "3        4.953429        4.708371        3.892318         3.759429   \n",
       "4        4.892677        4.773806        3.796856         3.577544   \n",
       "\n",
       "   AFFX-TrpnX-5_at  AFFX-TrpnX-M_at  \n",
       "0         4.516434         4.749940  \n",
       "1         4.430891         4.491416  \n",
       "2         4.563494         4.668827  \n",
       "3         4.748381         4.521275  \n",
       "4         4.504385         4.541450  \n",
       "\n",
       "[5 rows x 54675 columns]"
      ]
     },
     "execution_count": 6,
     "metadata": {},
     "output_type": "execute_result"
    }
   ],
   "source": [
    "# Get only the columns with expression data\n",
    "data = df.iloc[:,2:]\n",
    "data.head()"
   ]
  },
  {
   "cell_type": "code",
   "execution_count": 94,
   "metadata": {},
   "outputs": [
    {
     "name": "stdout",
     "output_type": "stream",
     "text": [
      "(130,)\n"
     ]
    },
    {
     "data": {
      "text/html": [
       "<div>\n",
       "<style scoped>\n",
       "    .dataframe tbody tr th:only-of-type {\n",
       "        vertical-align: middle;\n",
       "    }\n",
       "\n",
       "    .dataframe tbody tr th {\n",
       "        vertical-align: top;\n",
       "    }\n",
       "\n",
       "    .dataframe thead th {\n",
       "        text-align: right;\n",
       "    }\n",
       "</style>\n",
       "<table border=\"1\" class=\"dataframe\">\n",
       "  <thead>\n",
       "    <tr style=\"text-align: right;\">\n",
       "      <th></th>\n",
       "      <th>0</th>\n",
       "      <th>1</th>\n",
       "      <th>2</th>\n",
       "      <th>3</th>\n",
       "      <th>4</th>\n",
       "      <th>5</th>\n",
       "      <th>6</th>\n",
       "      <th>7</th>\n",
       "      <th>8</th>\n",
       "      <th>9</th>\n",
       "      <th>...</th>\n",
       "      <th>30</th>\n",
       "      <th>31</th>\n",
       "      <th>32</th>\n",
       "      <th>33</th>\n",
       "      <th>34</th>\n",
       "      <th>35</th>\n",
       "      <th>36</th>\n",
       "      <th>37</th>\n",
       "      <th>38</th>\n",
       "      <th>39</th>\n",
       "    </tr>\n",
       "  </thead>\n",
       "  <tbody>\n",
       "    <tr>\n",
       "      <th>1007_s_at</th>\n",
       "      <td>0.258359</td>\n",
       "      <td>0.781186</td>\n",
       "      <td>0.191110</td>\n",
       "      <td>0.105292</td>\n",
       "      <td>0.020352</td>\n",
       "      <td>0.000432</td>\n",
       "      <td>0.056285</td>\n",
       "      <td>0.024429</td>\n",
       "      <td>0.147915</td>\n",
       "      <td>0.226082</td>\n",
       "      <td>...</td>\n",
       "      <td>0.027620</td>\n",
       "      <td>0.026878</td>\n",
       "      <td>0.082283</td>\n",
       "      <td>0.018037</td>\n",
       "      <td>0.008238</td>\n",
       "      <td>0.020507</td>\n",
       "      <td>0.053860</td>\n",
       "      <td>0.086628</td>\n",
       "      <td>0.067735</td>\n",
       "      <td>0.040872</td>\n",
       "    </tr>\n",
       "    <tr>\n",
       "      <th>1053_at</th>\n",
       "      <td>0.431819</td>\n",
       "      <td>0.113789</td>\n",
       "      <td>0.463920</td>\n",
       "      <td>0.048851</td>\n",
       "      <td>0.387893</td>\n",
       "      <td>0.185476</td>\n",
       "      <td>0.073525</td>\n",
       "      <td>0.030699</td>\n",
       "      <td>0.081408</td>\n",
       "      <td>0.282795</td>\n",
       "      <td>...</td>\n",
       "      <td>0.063521</td>\n",
       "      <td>0.100039</td>\n",
       "      <td>0.013827</td>\n",
       "      <td>0.120313</td>\n",
       "      <td>0.108173</td>\n",
       "      <td>0.069548</td>\n",
       "      <td>0.042123</td>\n",
       "      <td>0.011064</td>\n",
       "      <td>0.041220</td>\n",
       "      <td>0.022133</td>\n",
       "    </tr>\n",
       "    <tr>\n",
       "      <th>117_at</th>\n",
       "      <td>0.042541</td>\n",
       "      <td>0.433298</td>\n",
       "      <td>0.107040</td>\n",
       "      <td>0.030131</td>\n",
       "      <td>0.247344</td>\n",
       "      <td>0.074741</td>\n",
       "      <td>0.262305</td>\n",
       "      <td>0.189941</td>\n",
       "      <td>0.203803</td>\n",
       "      <td>0.141532</td>\n",
       "      <td>...</td>\n",
       "      <td>0.050111</td>\n",
       "      <td>0.039046</td>\n",
       "      <td>0.002020</td>\n",
       "      <td>0.030753</td>\n",
       "      <td>0.044889</td>\n",
       "      <td>0.003965</td>\n",
       "      <td>0.160939</td>\n",
       "      <td>0.158348</td>\n",
       "      <td>0.056151</td>\n",
       "      <td>0.049532</td>\n",
       "    </tr>\n",
       "    <tr>\n",
       "      <th>121_at</th>\n",
       "      <td>0.893608</td>\n",
       "      <td>0.077811</td>\n",
       "      <td>0.004212</td>\n",
       "      <td>0.131372</td>\n",
       "      <td>0.014979</td>\n",
       "      <td>0.085396</td>\n",
       "      <td>0.080042</td>\n",
       "      <td>0.038894</td>\n",
       "      <td>0.081031</td>\n",
       "      <td>0.083716</td>\n",
       "      <td>...</td>\n",
       "      <td>0.048562</td>\n",
       "      <td>0.034240</td>\n",
       "      <td>0.030625</td>\n",
       "      <td>0.038095</td>\n",
       "      <td>0.017075</td>\n",
       "      <td>0.034229</td>\n",
       "      <td>0.021019</td>\n",
       "      <td>0.016961</td>\n",
       "      <td>0.002107</td>\n",
       "      <td>0.009082</td>\n",
       "    </tr>\n",
       "    <tr>\n",
       "      <th>1255_g_at</th>\n",
       "      <td>0.105023</td>\n",
       "      <td>0.302486</td>\n",
       "      <td>0.264193</td>\n",
       "      <td>0.433497</td>\n",
       "      <td>0.073197</td>\n",
       "      <td>0.238351</td>\n",
       "      <td>0.056597</td>\n",
       "      <td>0.068146</td>\n",
       "      <td>0.029414</td>\n",
       "      <td>0.006205</td>\n",
       "      <td>...</td>\n",
       "      <td>0.081278</td>\n",
       "      <td>0.048061</td>\n",
       "      <td>0.053209</td>\n",
       "      <td>0.021124</td>\n",
       "      <td>0.093846</td>\n",
       "      <td>0.041999</td>\n",
       "      <td>0.031914</td>\n",
       "      <td>0.032196</td>\n",
       "      <td>0.053579</td>\n",
       "      <td>0.067974</td>\n",
       "    </tr>\n",
       "    <tr>\n",
       "      <th>...</th>\n",
       "      <td>...</td>\n",
       "      <td>...</td>\n",
       "      <td>...</td>\n",
       "      <td>...</td>\n",
       "      <td>...</td>\n",
       "      <td>...</td>\n",
       "      <td>...</td>\n",
       "      <td>...</td>\n",
       "      <td>...</td>\n",
       "      <td>...</td>\n",
       "      <td>...</td>\n",
       "      <td>...</td>\n",
       "      <td>...</td>\n",
       "      <td>...</td>\n",
       "      <td>...</td>\n",
       "      <td>...</td>\n",
       "      <td>...</td>\n",
       "      <td>...</td>\n",
       "      <td>...</td>\n",
       "      <td>...</td>\n",
       "      <td>...</td>\n",
       "    </tr>\n",
       "    <tr>\n",
       "      <th>AFFX-ThrX-5_at</th>\n",
       "      <td>0.486595</td>\n",
       "      <td>0.001532</td>\n",
       "      <td>0.326640</td>\n",
       "      <td>0.012046</td>\n",
       "      <td>0.195005</td>\n",
       "      <td>0.317793</td>\n",
       "      <td>0.295725</td>\n",
       "      <td>0.201643</td>\n",
       "      <td>0.170085</td>\n",
       "      <td>0.032019</td>\n",
       "      <td>...</td>\n",
       "      <td>0.013951</td>\n",
       "      <td>0.010333</td>\n",
       "      <td>0.055896</td>\n",
       "      <td>0.017455</td>\n",
       "      <td>0.027138</td>\n",
       "      <td>0.015352</td>\n",
       "      <td>0.035622</td>\n",
       "      <td>0.026338</td>\n",
       "      <td>0.002696</td>\n",
       "      <td>0.017661</td>\n",
       "    </tr>\n",
       "    <tr>\n",
       "      <th>AFFX-ThrX-M_at</th>\n",
       "      <td>0.318844</td>\n",
       "      <td>0.331434</td>\n",
       "      <td>0.149880</td>\n",
       "      <td>0.104459</td>\n",
       "      <td>0.301354</td>\n",
       "      <td>0.040355</td>\n",
       "      <td>0.203357</td>\n",
       "      <td>0.092299</td>\n",
       "      <td>0.172439</td>\n",
       "      <td>0.022166</td>\n",
       "      <td>...</td>\n",
       "      <td>0.104686</td>\n",
       "      <td>0.087251</td>\n",
       "      <td>0.134971</td>\n",
       "      <td>0.025923</td>\n",
       "      <td>0.026638</td>\n",
       "      <td>0.067600</td>\n",
       "      <td>0.016628</td>\n",
       "      <td>0.078947</td>\n",
       "      <td>0.061157</td>\n",
       "      <td>0.148706</td>\n",
       "    </tr>\n",
       "    <tr>\n",
       "      <th>AFFX-TrpnX-3_at</th>\n",
       "      <td>0.349892</td>\n",
       "      <td>0.269936</td>\n",
       "      <td>0.414491</td>\n",
       "      <td>0.327731</td>\n",
       "      <td>0.287298</td>\n",
       "      <td>0.117254</td>\n",
       "      <td>0.091406</td>\n",
       "      <td>0.130115</td>\n",
       "      <td>0.283420</td>\n",
       "      <td>0.112729</td>\n",
       "      <td>...</td>\n",
       "      <td>0.075133</td>\n",
       "      <td>0.013559</td>\n",
       "      <td>0.081723</td>\n",
       "      <td>0.014410</td>\n",
       "      <td>0.014569</td>\n",
       "      <td>0.033846</td>\n",
       "      <td>0.080374</td>\n",
       "      <td>0.081983</td>\n",
       "      <td>0.021118</td>\n",
       "      <td>0.032899</td>\n",
       "    </tr>\n",
       "    <tr>\n",
       "      <th>AFFX-TrpnX-5_at</th>\n",
       "      <td>0.535157</td>\n",
       "      <td>0.167970</td>\n",
       "      <td>0.058581</td>\n",
       "      <td>0.366672</td>\n",
       "      <td>0.308215</td>\n",
       "      <td>0.156492</td>\n",
       "      <td>0.133988</td>\n",
       "      <td>0.054306</td>\n",
       "      <td>0.123913</td>\n",
       "      <td>0.087548</td>\n",
       "      <td>...</td>\n",
       "      <td>0.032888</td>\n",
       "      <td>0.071307</td>\n",
       "      <td>0.069759</td>\n",
       "      <td>0.010102</td>\n",
       "      <td>0.092838</td>\n",
       "      <td>0.034643</td>\n",
       "      <td>0.028555</td>\n",
       "      <td>0.029767</td>\n",
       "      <td>0.081693</td>\n",
       "      <td>0.006875</td>\n",
       "    </tr>\n",
       "    <tr>\n",
       "      <th>AFFX-TrpnX-M_at</th>\n",
       "      <td>0.029346</td>\n",
       "      <td>0.363040</td>\n",
       "      <td>0.391234</td>\n",
       "      <td>0.200052</td>\n",
       "      <td>0.382101</td>\n",
       "      <td>0.159148</td>\n",
       "      <td>0.146346</td>\n",
       "      <td>0.042368</td>\n",
       "      <td>0.044252</td>\n",
       "      <td>0.081392</td>\n",
       "      <td>...</td>\n",
       "      <td>0.162372</td>\n",
       "      <td>0.058013</td>\n",
       "      <td>0.001299</td>\n",
       "      <td>0.089055</td>\n",
       "      <td>0.028702</td>\n",
       "      <td>0.082902</td>\n",
       "      <td>0.097660</td>\n",
       "      <td>0.072365</td>\n",
       "      <td>0.018750</td>\n",
       "      <td>0.086725</td>\n",
       "    </tr>\n",
       "  </tbody>\n",
       "</table>\n",
       "<p>54675 rows × 40 columns</p>\n",
       "</div>"
      ],
      "text/plain": [
       "                       0         1         2         3         4         5   \\\n",
       "1007_s_at        0.258359  0.781186  0.191110  0.105292  0.020352  0.000432   \n",
       "1053_at          0.431819  0.113789  0.463920  0.048851  0.387893  0.185476   \n",
       "117_at           0.042541  0.433298  0.107040  0.030131  0.247344  0.074741   \n",
       "121_at           0.893608  0.077811  0.004212  0.131372  0.014979  0.085396   \n",
       "1255_g_at        0.105023  0.302486  0.264193  0.433497  0.073197  0.238351   \n",
       "...                   ...       ...       ...       ...       ...       ...   \n",
       "AFFX-ThrX-5_at   0.486595  0.001532  0.326640  0.012046  0.195005  0.317793   \n",
       "AFFX-ThrX-M_at   0.318844  0.331434  0.149880  0.104459  0.301354  0.040355   \n",
       "AFFX-TrpnX-3_at  0.349892  0.269936  0.414491  0.327731  0.287298  0.117254   \n",
       "AFFX-TrpnX-5_at  0.535157  0.167970  0.058581  0.366672  0.308215  0.156492   \n",
       "AFFX-TrpnX-M_at  0.029346  0.363040  0.391234  0.200052  0.382101  0.159148   \n",
       "\n",
       "                       6         7         8         9   ...        30  \\\n",
       "1007_s_at        0.056285  0.024429  0.147915  0.226082  ...  0.027620   \n",
       "1053_at          0.073525  0.030699  0.081408  0.282795  ...  0.063521   \n",
       "117_at           0.262305  0.189941  0.203803  0.141532  ...  0.050111   \n",
       "121_at           0.080042  0.038894  0.081031  0.083716  ...  0.048562   \n",
       "1255_g_at        0.056597  0.068146  0.029414  0.006205  ...  0.081278   \n",
       "...                   ...       ...       ...       ...  ...       ...   \n",
       "AFFX-ThrX-5_at   0.295725  0.201643  0.170085  0.032019  ...  0.013951   \n",
       "AFFX-ThrX-M_at   0.203357  0.092299  0.172439  0.022166  ...  0.104686   \n",
       "AFFX-TrpnX-3_at  0.091406  0.130115  0.283420  0.112729  ...  0.075133   \n",
       "AFFX-TrpnX-5_at  0.133988  0.054306  0.123913  0.087548  ...  0.032888   \n",
       "AFFX-TrpnX-M_at  0.146346  0.042368  0.044252  0.081392  ...  0.162372   \n",
       "\n",
       "                       31        32        33        34        35        36  \\\n",
       "1007_s_at        0.026878  0.082283  0.018037  0.008238  0.020507  0.053860   \n",
       "1053_at          0.100039  0.013827  0.120313  0.108173  0.069548  0.042123   \n",
       "117_at           0.039046  0.002020  0.030753  0.044889  0.003965  0.160939   \n",
       "121_at           0.034240  0.030625  0.038095  0.017075  0.034229  0.021019   \n",
       "1255_g_at        0.048061  0.053209  0.021124  0.093846  0.041999  0.031914   \n",
       "...                   ...       ...       ...       ...       ...       ...   \n",
       "AFFX-ThrX-5_at   0.010333  0.055896  0.017455  0.027138  0.015352  0.035622   \n",
       "AFFX-ThrX-M_at   0.087251  0.134971  0.025923  0.026638  0.067600  0.016628   \n",
       "AFFX-TrpnX-3_at  0.013559  0.081723  0.014410  0.014569  0.033846  0.080374   \n",
       "AFFX-TrpnX-5_at  0.071307  0.069759  0.010102  0.092838  0.034643  0.028555   \n",
       "AFFX-TrpnX-M_at  0.058013  0.001299  0.089055  0.028702  0.082902  0.097660   \n",
       "\n",
       "                       37        38        39  \n",
       "1007_s_at        0.086628  0.067735  0.040872  \n",
       "1053_at          0.011064  0.041220  0.022133  \n",
       "117_at           0.158348  0.056151  0.049532  \n",
       "121_at           0.016961  0.002107  0.009082  \n",
       "1255_g_at        0.032196  0.053579  0.067974  \n",
       "...                   ...       ...       ...  \n",
       "AFFX-ThrX-5_at   0.026338  0.002696  0.017661  \n",
       "AFFX-ThrX-M_at   0.078947  0.061157  0.148706  \n",
       "AFFX-TrpnX-3_at  0.081983  0.021118  0.032899  \n",
       "AFFX-TrpnX-5_at  0.029767  0.081693  0.006875  \n",
       "AFFX-TrpnX-M_at  0.072365  0.018750  0.086725  \n",
       "\n",
       "[54675 rows x 40 columns]"
      ]
     },
     "execution_count": 94,
     "metadata": {},
     "output_type": "execute_result"
    }
   ],
   "source": [
    "import numpy as np\n",
    "import matplotlib.pyplot as plt\n",
    "import math\n",
    "\n",
    "from sklearn import decomposition\n",
    "from sklearn import datasets\n",
    "from sklearn.preprocessing import scale\n",
    "\n",
    "X = scale(data)\n",
    "y= df.iloc[:,1]\n",
    "\n",
    "# apply PCA\n",
    "pca = decomposition.PCA(n_components=.8)\n",
    "X = pca.fit_transform(X)\n",
    "\n",
    "loadings = pd.DataFrame(pca.components_.T *  np.sqrt(pca.explained_variance_), index=df.columns[2:])\n",
    "loadings = loadings.abs()\n",
    "loadings.sort_values(by = [1],ascending=False).head(10)\n",
    "loadings"
   ]
  },
  {
   "cell_type": "code",
   "execution_count": 137,
   "metadata": {},
   "outputs": [
    {
     "data": {
      "image/png": "[encoded data removed]",
      "text/plain": [
       "<Figure size 432x288 with 1 Axes>"
      ]
     },
     "metadata": {
      "needs_background": "light"
     },
     "output_type": "display_data"
    },
    {
     "data": {
      "image/png": "[encoded data removed]",
      "text/plain": [
       "<Figure size 432x288 with 1 Axes>"
      ]
     },
     "metadata": {
      "needs_background": "light"
     },
     "output_type": "display_data"
    }
   ],
   "source": [
    "#generate + compare PCA plots\n",
    "\n",
    "all_names = y.unique()\n",
    "encoded_y = [list(all_names).index(yi) for yi in y]\n",
    "rand_colors = [tuple(np.random.random(size=3)) for n in all_names]\n",
    "rand_colors = ['blue', 'green', 'red', 'orange', 'black', 'yellow']\n",
    "cmap = [rand_colors[yi] for yi in encoded_y]\n",
    "\n",
    "#2d\n",
    "plot = plt.scatter(X[:,0], X[:,1], c=cmap)\n",
    "plt.show()\n",
    "\n",
    "#3d plot\n",
    "ax = plt.axes(projection='3d')\n",
    "ax.scatter3D(X[:,0], X[:,1], X[:,2], c=cmap)\n",
    "plt.show()"
   ]
  },
  {
   "cell_type": "code",
   "execution_count": 150,
   "metadata": {},
   "outputs": [
    {
     "data": {
      "application/vnd.plotly.v1+json": {
       "config": {
        "plotlyServerURL": "https://plot.ly"
       },
       "data": [
        {
         "hovertemplate": "color=ependymoma<br>0=%{x}<br>1=%{y}<extra></extra>",
         "legendgroup": "ependymoma",
         "marker": {
          "color": "#636efa",
          "symbol": "circle"
         },
         "mode": "markers",
         "name": "ependymoma",
         "orientation": "v",
         "showlegend": true,
         "type": "scatter",
         "x": [
          165.16263565676738,
          85.22657504188203,
          70.26897105403428,
          -101.58835660644576,
          65.80711404970506,
          124.97567976936747,
          155.7811579940137,
          108.61753018709538,
          110.6167791990932,
          149.66021511710343,
          -124.09150805331556,
          63.41558125127499,
          123.3699889031409,
          -78.54321483515454,
          91.5705352328511,
          -48.139605687561,
          133.5639850491524,
          97.85971511923401,
          -47.66029142951662,
          90.09696101841419,
          94.30571816064365,
          83.72696913127204,
          -64.53166713870996,
          -44.25794852855935,
          119.75787027068459,
          141.54691255248713,
          60.887510986214934,
          124.66385615792565,
          -35.550960123174946,
          -125.24233572293228,
          -117.27419783622018,
          133.50887421803202,
          184.32844238417866,
          -39.53830301587842,
          87.1116438801438,
          -138.5667509538517,
          -156.8648189637695,
          -138.89153456736466,
          -124.4113597424601,
          -111.26155054652236,
          -121.67783378041989,
          -101.52942201580255,
          -131.78030955240223,
          -100.83923918257754,
          -125.01565058829522,
          -127.82053546695076
         ],
         "xaxis": "x",
         "y": [
          5.242750782911265,
          -53.09843928545815,
          -68.292300968206,
          -47.66932297709859,
          -55.92149676143348,
          -20.11567360995218,
          -40.965763592873735,
          -41.41263452863614,
          -33.08842042503559,
          -37.41692826322842,
          -93.14692183510977,
          -9.49240295021627,
          -19.53590502653952,
          -29.19985415465612,
          -96.79480755769998,
          -65.62273169994113,
          -39.39721608581152,
          -69.3423980072069,
          -103.19090565009924,
          -89.27977182044191,
          -67.4491468915193,
          -49.583099089605405,
          -75.12202408431949,
          -97.28487557352162,
          -67.40875270444606,
          -65.58902463017066,
          -56.30164039098326,
          -44.29481089147044,
          -88.28513459147403,
          -68.48872132434829,
          -105.33399177041515,
          -35.66930754810326,
          22.192571691832143,
          -26.98963385505371,
          -62.357018378546464,
          -81.65063747267816,
          -35.387676540391446,
          -91.60853192407906,
          -63.75031269567478,
          -88.4227068086633,
          -20.15629925681852,
          -51.73563266394019,
          -31.29489487430814,
          -41.67182089432448,
          -13.718297552348123,
          0.20521988516309084
         ],
         "yaxis": "y"
        },
        {
         "hovertemplate": "color=glioblastoma<br>0=%{x}<br>1=%{y}<extra></extra>",
         "legendgroup": "glioblastoma",
         "marker": {
          "color": "#EF553B",
          "symbol": "circle"
         },
         "mode": "markers",
         "name": "glioblastoma",
         "orientation": "v",
         "showlegend": true,
         "type": "scatter",
         "x": [
          90.50006391875411,
          97.16789537075144,
          -105.85170764592193,
          -100.09201441343053,
          -90.34585867377231,
          113.56579338616231,
          92.61557081474591,
          161.8353414081973,
          102.0777786182808,
          161.90316647837724,
          94.71856497071776,
          127.29715687053805,
          85.3640957652432,
          117.21766567524939,
          76.75990268916755,
          -45.50387900111465,
          -129.44842902184416,
          -105.69117669938001,
          -129.381720295233,
          -106.44186142055099,
          154.1236277543739,
          86.66135566862948,
          219.73586927111768,
          75.53654579153279,
          -159.88006313320128,
          61.65470823100396,
          98.76088433910473,
          -140.95976790129203,
          -135.5230156715231,
          -120.32591321181515,
          -123.0718032140636,
          -92.85195615586315,
          -130.78701331709337,
          -94.76739923821273
         ],
         "xaxis": "x",
         "y": [
          -37.634074022533866,
          34.329828449599425,
          -19.82903989074357,
          -14.169666505376227,
          -20.80589978537691,
          -60.211121675751116,
          -0.7679163702653059,
          -12.796006417799786,
          2.3088269467731286,
          43.997643996775594,
          -36.74029548443931,
          46.687272531114836,
          -15.604601998557897,
          17.03077275262508,
          -6.538040624553148,
          -75.4002833390482,
          5.996897810419958,
          -46.8919735577783,
          15.000912608005288,
          30.180019245243766,
          28.293170666974984,
          -24.698939431332587,
          63.114460244083915,
          -2.188211511472685,
          -51.761104951906816,
          -12.914208376388219,
          -37.438181626659876,
          -54.450214010388784,
          57.1649334058702,
          1.1407119464269113,
          -48.290894667613614,
          -43.32847409226755,
          -25.80197212267708,
          -23.07383261937583
         ],
         "yaxis": "y"
        },
        {
         "hovertemplate": "color=medulloblastoma<br>0=%{x}<br>1=%{y}<extra></extra>",
         "legendgroup": "medulloblastoma",
         "marker": {
          "color": "#00cc96",
          "symbol": "circle"
         },
         "mode": "markers",
         "name": "medulloblastoma",
         "orientation": "v",
         "showlegend": true,
         "type": "scatter",
         "x": [
          -114.5287440739665,
          115.99038567111894,
          127.72269114349234,
          105.39442448326355,
          151.07018424801086,
          -110.75052036096567,
          89.48734835760783,
          142.1681335817698,
          45.553435930483474,
          -118.28707534938268,
          72.46737465368473,
          33.19131600331451,
          -130.8305292430887,
          -130.89094035520233,
          -154.3167447754382,
          -38.10516953426813,
          -91.70614553825818,
          -140.32562653457978,
          -87.69982014602537,
          -106.52665912312452,
          -130.0916531565575,
          -43.378206715272654
         ],
         "xaxis": "x",
         "y": [
          163.38489981444576,
          92.54235831873274,
          98.83563990039988,
          76.97795626322088,
          107.23537253327827,
          84.04089786009393,
          62.90534031813247,
          124.00978147482509,
          70.0522084881168,
          -14.685751333193037,
          36.01284652019002,
          25.31837021528786,
          102.65958878293425,
          53.704389481987,
          57.45355448791632,
          89.99969645762592,
          86.55292706678773,
          73.16553252195571,
          72.69897714637372,
          87.77177567921903,
          84.7428482617726,
          8.776258907051577
         ],
         "yaxis": "y"
        },
        {
         "hovertemplate": "color=normal<br>0=%{x}<br>1=%{y}<extra></extra>",
         "legendgroup": "normal",
         "marker": {
          "color": "#ab63fa",
          "symbol": "circle"
         },
         "mode": "markers",
         "name": "normal",
         "orientation": "v",
         "showlegend": true,
         "type": "scatter",
         "x": [
          -30.740372925291812,
          115.95222715779724,
          -78.1377203209347,
          42.28531364649481,
          -101.80848488438698,
          -86.95188365316022,
          -92.46631259384242,
          145.82400508867175,
          -72.1095374612482,
          6.0790003784207185,
          -99.50431080561299,
          -102.18895460405291,
          21.947542574258833
         ],
         "xaxis": "x",
         "y": [
          104.91155800171336,
          97.93872670771762,
          65.59583026593204,
          209.4667096377419,
          119.59841720413321,
          128.81086281679205,
          136.40417437982313,
          58.7574915148782,
          114.92942742092652,
          86.6636249752758,
          113.33903295227108,
          107.45211098423967,
          109.86833430635873
         ],
         "yaxis": "y"
        },
        {
         "hovertemplate": "color=pilocytic_astrocytoma<br>0=%{x}<br>1=%{y}<extra></extra>",
         "legendgroup": "pilocytic_astrocytoma",
         "marker": {
          "color": "#FFA15A",
          "symbol": "circle"
         },
         "mode": "markers",
         "name": "pilocytic_astrocytoma",
         "orientation": "v",
         "showlegend": true,
         "type": "scatter",
         "x": [
          77.89105177024241,
          61.78308321507084,
          67.43770744304972,
          219.42161878961738,
          177.26733857918725,
          109.52491202584243,
          100.40362092832689,
          -91.77427700996321,
          -101.2292086650149,
          51.58535052040438,
          -104.69450202909836,
          -42.57959651686615,
          -116.93246053617321,
          -119.7389549572685,
          -109.47989037554791
         ],
         "xaxis": "x",
         "y": [
          -32.442405707001384,
          -45.470263972220856,
          -30.825154202919226,
          20.68988617830764,
          35.42053312558608,
          -27.888650804106117,
          -51.66070825106149,
          -33.38129188186854,
          -44.84310396338076,
          -47.54496954272448,
          -33.49830168940647,
          -25.177081370990376,
          -38.582243949855034,
          -10.46830821808148,
          8.767141640099362
         ],
         "yaxis": "y"
        }
       ],
       "layout": {
        "legend": {
         "title": {
          "text": "color"
         },
         "tracegroupgap": 0
        },
        "margin": {
         "t": 60
        },
        "template": {
         "data": {
          "bar": [
           {
            "error_x": {
             "color": "#2a3f5f"
            },
            "error_y": {
             "color": "#2a3f5f"
            },
            "marker": {
             "line": {
              "color": "#E5ECF6",
              "width": 0.5
             },
             "pattern": {
              "fillmode": "overlay",
              "size": 10,
              "solidity": 0.2
             }
            },
            "type": "bar"
           }
          ],
          "barpolar": [
           {
            "marker": {
             "line": {
              "color": "#E5ECF6",
              "width": 0.5
             },
             "pattern": {
              "fillmode": "overlay",
              "size": 10,
              "solidity": 0.2
             }
            },
            "type": "barpolar"
           }
          ],
          "carpet": [
           {
            "aaxis": {
             "endlinecolor": "#2a3f5f",
             "gridcolor": "white",
             "linecolor": "white",
             "minorgridcolor": "white",
             "startlinecolor": "#2a3f5f"
            },
            "baxis": {
             "endlinecolor": "#2a3f5f",
             "gridcolor": "white",
             "linecolor": "white",
             "minorgridcolor": "white",
             "startlinecolor": "#2a3f5f"
            },
            "type": "carpet"
           }
          ],
          "choropleth": [
           {
            "colorbar": {
             "outlinewidth": 0,
             "ticks": ""
            },
            "type": "choropleth"
           }
          ],
          "contour": [
           {
            "colorbar": {
             "outlinewidth": 0,
             "ticks": ""
            },
            "colorscale": [
             [
              0,
              "#0d0887"
             ],
             [
              0.1111111111111111,
              "#46039f"
             ],
             [
              0.2222222222222222,
              "#7201a8"
             ],
             [
              0.3333333333333333,
              "#9c179e"
             ],
             [
              0.4444444444444444,
              "#bd3786"
             ],
             [
              0.5555555555555556,
              "#d8576b"
             ],
             [
              0.6666666666666666,
              "#ed7953"
             ],
             [
              0.7777777777777778,
              "#fb9f3a"
             ],
             [
              0.8888888888888888,
              "#fdca26"
             ],
             [
              1,
              "#f0f921"
             ]
            ],
            "type": "contour"
           }
          ],
          "contourcarpet": [
           {
            "colorbar": {
             "outlinewidth": 0,
             "ticks": ""
            },
            "type": "contourcarpet"
           }
          ],
          "heatmap": [
           {
            "colorbar": {
             "outlinewidth": 0,
             "ticks": ""
            },
            "colorscale": [
             [
              0,
              "#0d0887"
             ],
             [
              0.1111111111111111,
              "#46039f"
             ],
             [
              0.2222222222222222,
              "#7201a8"
             ],
             [
              0.3333333333333333,
              "#9c179e"
             ],
             [
              0.4444444444444444,
              "#bd3786"
             ],
             [
              0.5555555555555556,
              "#d8576b"
             ],
             [
              0.6666666666666666,
              "#ed7953"
             ],
             [
              0.7777777777777778,
              "#fb9f3a"
             ],
             [
              0.8888888888888888,
              "#fdca26"
             ],
             [
              1,
              "#f0f921"
             ]
            ],
            "type": "heatmap"
           }
          ],
          "heatmapgl": [
           {
            "colorbar": {
             "outlinewidth": 0,
             "ticks": ""
            },
            "colorscale": [
             [
              0,
              "#0d0887"
             ],
             [
              0.1111111111111111,
              "#46039f"
             ],
             [
              0.2222222222222222,
              "#7201a8"
             ],
             [
              0.3333333333333333,
              "#9c179e"
             ],
             [
              0.4444444444444444,
              "#bd3786"
             ],
             [
              0.5555555555555556,
              "#d8576b"
             ],
             [
              0.6666666666666666,
              "#ed7953"
             ],
             [
              0.7777777777777778,
              "#fb9f3a"
             ],
             [
              0.8888888888888888,
              "#fdca26"
             ],
             [
              1,
              "#f0f921"
             ]
            ],
            "type": "heatmapgl"
           }
          ],
          "histogram": [
           {
            "marker": {
             "pattern": {
              "fillmode": "overlay",
              "size": 10,
              "solidity": 0.2
             }
            },
            "type": "histogram"
           }
          ],
          "histogram2d": [
           {
            "colorbar": {
             "outlinewidth": 0,
             "ticks": ""
            },
            "colorscale": [
             [
              0,
              "#0d0887"
             ],
             [
              0.1111111111111111,
              "#46039f"
             ],
             [
              0.2222222222222222,
              "#7201a8"
             ],
             [
              0.3333333333333333,
              "#9c179e"
             ],
             [
              0.4444444444444444,
              "#bd3786"
             ],
             [
              0.5555555555555556,
              "#d8576b"
             ],
             [
              0.6666666666666666,
              "#ed7953"
             ],
             [
              0.7777777777777778,
              "#fb9f3a"
             ],
             [
              0.8888888888888888,
              "#fdca26"
             ],
             [
              1,
              "#f0f921"
             ]
            ],
            "type": "histogram2d"
           }
          ],
          "histogram2dcontour": [
           {
            "colorbar": {
             "outlinewidth": 0,
             "ticks": ""
            },
            "colorscale": [
             [
              0,
              "#0d0887"
             ],
             [
              0.1111111111111111,
              "#46039f"
             ],
             [
              0.2222222222222222,
              "#7201a8"
             ],
             [
              0.3333333333333333,
              "#9c179e"
             ],
             [
              0.4444444444444444,
              "#bd3786"
             ],
             [
              0.5555555555555556,
              "#d8576b"
             ],
             [
              0.6666666666666666,
              "#ed7953"
             ],
             [
              0.7777777777777778,
              "#fb9f3a"
             ],
             [
              0.8888888888888888,
              "#fdca26"
             ],
             [
              1,
              "#f0f921"
             ]
            ],
            "type": "histogram2dcontour"
           }
          ],
          "mesh3d": [
           {
            "colorbar": {
             "outlinewidth": 0,
             "ticks": ""
            },
            "type": "mesh3d"
           }
          ],
          "parcoords": [
           {
            "line": {
             "colorbar": {
              "outlinewidth": 0,
              "ticks": ""
             }
            },
            "type": "parcoords"
           }
          ],
          "pie": [
           {
            "automargin": true,
            "type": "pie"
           }
          ],
          "scatter": [
           {
            "marker": {
             "colorbar": {
              "outlinewidth": 0,
              "ticks": ""
             }
            },
            "type": "scatter"
           }
          ],
          "scatter3d": [
           {
            "line": {
             "colorbar": {
              "outlinewidth": 0,
              "ticks": ""
             }
            },
            "marker": {
             "colorbar": {
              "outlinewidth": 0,
              "ticks": ""
             }
            },
            "type": "scatter3d"
           }
          ],
          "scattercarpet": [
           {
            "marker": {
             "colorbar": {
              "outlinewidth": 0,
              "ticks": ""
             }
            },
            "type": "scattercarpet"
           }
          ],
          "scattergeo": [
           {
            "marker": {
             "colorbar": {
              "outlinewidth": 0,
              "ticks": ""
             }
            },
            "type": "scattergeo"
           }
          ],
          "scattergl": [
           {
            "marker": {
             "colorbar": {
              "outlinewidth": 0,
              "ticks": ""
             }
            },
            "type": "scattergl"
           }
          ],
          "scattermapbox": [
           {
            "marker": {
             "colorbar": {
              "outlinewidth": 0,
              "ticks": ""
             }
            },
            "type": "scattermapbox"
           }
          ],
          "scatterpolar": [
           {
            "marker": {
             "colorbar": {
              "outlinewidth": 0,
              "ticks": ""
             }
            },
            "type": "scatterpolar"
           }
          ],
          "scatterpolargl": [
           {
            "marker": {
             "colorbar": {
              "outlinewidth": 0,
              "ticks": ""
             }
            },
            "type": "scatterpolargl"
           }
          ],
          "scatterternary": [
           {
            "marker": {
             "colorbar": {
              "outlinewidth": 0,
              "ticks": ""
             }
            },
            "type": "scatterternary"
           }
          ],
          "surface": [
           {
            "colorbar": {
             "outlinewidth": 0,
             "ticks": ""
            },
            "colorscale": [
             [
              0,
              "#0d0887"
             ],
             [
              0.1111111111111111,
              "#46039f"
             ],
             [
              0.2222222222222222,
              "#7201a8"
             ],
             [
              0.3333333333333333,
              "#9c179e"
             ],
             [
              0.4444444444444444,
              "#bd3786"
             ],
             [
              0.5555555555555556,
              "#d8576b"
             ],
             [
              0.6666666666666666,
              "#ed7953"
             ],
             [
              0.7777777777777778,
              "#fb9f3a"
             ],
             [
              0.8888888888888888,
              "#fdca26"
             ],
             [
              1,
              "#f0f921"
             ]
            ],
            "type": "surface"
           }
          ],
          "table": [
           {
            "cells": {
             "fill": {
              "color": "#EBF0F8"
             },
             "line": {
              "color": "white"
             }
            },
            "header": {
             "fill": {
              "color": "#C8D4E3"
             },
             "line": {
              "color": "white"
             }
            },
            "type": "table"
           }
          ]
         },
         "layout": {
          "annotationdefaults": {
           "arrowcolor": "#2a3f5f",
           "arrowhead": 0,
           "arrowwidth": 1
          },
          "autotypenumbers": "strict",
          "coloraxis": {
           "colorbar": {
            "outlinewidth": 0,
            "ticks": ""
           }
          },
          "colorscale": {
           "diverging": [
            [
             0,
             "#8e0152"
            ],
            [
             0.1,
             "#c51b7d"
            ],
            [
             0.2,
             "#de77ae"
            ],
            [
             0.3,
             "#f1b6da"
            ],
            [
             0.4,
             "#fde0ef"
            ],
            [
             0.5,
             "#f7f7f7"
            ],
            [
             0.6,
             "#e6f5d0"
            ],
            [
             0.7,
             "#b8e186"
            ],
            [
             0.8,
             "#7fbc41"
            ],
            [
             0.9,
             "#4d9221"
            ],
            [
             1,
             "#276419"
            ]
           ],
           "sequential": [
            [
             0,
             "#0d0887"
            ],
            [
             0.1111111111111111,
             "#46039f"
            ],
            [
             0.2222222222222222,
             "#7201a8"
            ],
            [
             0.3333333333333333,
             "#9c179e"
            ],
            [
             0.4444444444444444,
             "#bd3786"
            ],
            [
             0.5555555555555556,
             "#d8576b"
            ],
            [
             0.6666666666666666,
             "#ed7953"
            ],
            [
             0.7777777777777778,
             "#fb9f3a"
            ],
            [
             0.8888888888888888,
             "#fdca26"
            ],
            [
             1,
             "#f0f921"
            ]
           ],
           "sequentialminus": [
            [
             0,
             "#0d0887"
            ],
            [
             0.1111111111111111,
             "#46039f"
            ],
            [
             0.2222222222222222,
             "#7201a8"
            ],
            [
             0.3333333333333333,
             "#9c179e"
            ],
            [
             0.4444444444444444,
             "#bd3786"
            ],
            [
             0.5555555555555556,
             "#d8576b"
            ],
            [
             0.6666666666666666,
             "#ed7953"
            ],
            [
             0.7777777777777778,
             "#fb9f3a"
            ],
            [
             0.8888888888888888,
             "#fdca26"
            ],
            [
             1,
             "#f0f921"
            ]
           ]
          },
          "colorway": [
           "#636efa",
           "#EF553B",
           "#00cc96",
           "#ab63fa",
           "#FFA15A",
           "#19d3f3",
           "#FF6692",
           "#B6E880",
           "#FF97FF",
           "#FECB52"
          ],
          "font": {
           "color": "#2a3f5f"
          },
          "geo": {
           "bgcolor": "white",
           "lakecolor": "white",
           "landcolor": "#E5ECF6",
           "showlakes": true,
           "showland": true,
           "subunitcolor": "white"
          },
          "hoverlabel": {
           "align": "left"
          },
          "hovermode": "closest",
          "mapbox": {
           "style": "light"
          },
          "paper_bgcolor": "white",
          "plot_bgcolor": "#E5ECF6",
          "polar": {
           "angularaxis": {
            "gridcolor": "white",
            "linecolor": "white",
            "ticks": ""
           },
           "bgcolor": "#E5ECF6",
           "radialaxis": {
            "gridcolor": "white",
            "linecolor": "white",
            "ticks": ""
           }
          },
          "scene": {
           "xaxis": {
            "backgroundcolor": "#E5ECF6",
            "gridcolor": "white",
            "gridwidth": 2,
            "linecolor": "white",
            "showbackground": true,
            "ticks": "",
            "zerolinecolor": "white"
           },
           "yaxis": {
            "backgroundcolor": "#E5ECF6",
            "gridcolor": "white",
            "gridwidth": 2,
            "linecolor": "white",
            "showbackground": true,
            "ticks": "",
            "zerolinecolor": "white"
           },
           "zaxis": {
            "backgroundcolor": "#E5ECF6",
            "gridcolor": "white",
            "gridwidth": 2,
            "linecolor": "white",
            "showbackground": true,
            "ticks": "",
            "zerolinecolor": "white"
           }
          },
          "shapedefaults": {
           "line": {
            "color": "#2a3f5f"
           }
          },
          "ternary": {
           "aaxis": {
            "gridcolor": "white",
            "linecolor": "white",
            "ticks": ""
           },
           "baxis": {
            "gridcolor": "white",
            "linecolor": "white",
            "ticks": ""
           },
           "bgcolor": "#E5ECF6",
           "caxis": {
            "gridcolor": "white",
            "linecolor": "white",
            "ticks": ""
           }
          },
          "title": {
           "x": 0.05
          },
          "xaxis": {
           "automargin": true,
           "gridcolor": "white",
           "linecolor": "white",
           "ticks": "",
           "title": {
            "standoff": 15
           },
           "zerolinecolor": "white",
           "zerolinewidth": 2
          },
          "yaxis": {
           "automargin": true,
           "gridcolor": "white",
           "linecolor": "white",
           "ticks": "",
           "title": {
            "standoff": 15
           },
           "zerolinecolor": "white",
           "zerolinewidth": 2
          }
         }
        },
        "xaxis": {
         "anchor": "y",
         "domain": [
          0,
          1
         ],
         "title": {
          "text": "0"
         }
        },
        "yaxis": {
         "anchor": "x",
         "domain": [
          0,
          1
         ],
         "title": {
          "text": "1"
         }
        }
       }
      }
     },
     "metadata": {},
     "output_type": "display_data"
    }
   ],
   "source": [
    "from sklearn.decomposition import PCA\n",
    "import plotly.express as px\n",
    "\n",
    "X = scale(data)\n",
    "y= df.iloc[:,1]\n",
    "features = all_names\n",
    "\n",
    "pca = PCA(n_components=2)\n",
    "components = pca.fit_transform(X)\n",
    "\n",
    "\n",
    "fig = px.scatter(components, x=0, y=1, color=y)\n",
    "fig.show()"
   ]
  },
  {
   "cell_type": "code",
   "execution_count": 147,
   "metadata": {},
   "outputs": [
    {
     "data": {
      "application/vnd.plotly.v1+json": {
       "config": {
        "plotlyServerURL": "https://plot.ly"
       },
       "data": [
        {
         "hovertemplate": "color=ependymoma<br>PC 1=%{x}<br>PC 2=%{y}<br>PC 3=%{z}<extra></extra>",
         "legendgroup": "ependymoma",
         "marker": {
          "color": "#636efa",
          "symbol": "circle"
         },
         "mode": "markers",
         "name": "ependymoma",
         "scene": "scene",
         "showlegend": true,
         "type": "scatter3d",
         "x": [
          165.1626356445149,
          85.2265750552896,
          70.26897105081268,
          -101.5883566142868,
          65.80711405519693,
          124.97567978020108,
          155.78115800507817,
          108.61753020515347,
          110.61677920005425,
          149.66021512283132,
          -124.09150804754822,
          63.41558127311389,
          123.36998891736897,
          -78.5432148311371,
          91.57053522749271,
          -48.13960568230813,
          133.56398505986493,
          97.8597151180505,
          -47.66029144127353,
          90.09696101577572,
          94.30571815044675,
          83.7269691513954,
          -64.531667142253,
          -44.25794853622222,
          119.7578702515319,
          141.54691255151786,
          60.88751097851788,
          124.66385616366362,
          -35.550960134155495,
          -125.24233571573477,
          -117.27419783377891,
          133.50887423532953,
          184.3284423755534,
          -39.538303002943046,
          87.11164387483292,
          -138.56675095306437,
          -156.86481894424315,
          -138.89153456538062,
          -124.41135973256901,
          -111.2615505472954,
          -121.6778337665966,
          -101.52942201238113,
          -131.7803095661866,
          -100.83923917401358,
          -125.01565060958644,
          -127.8205355001559
         ],
         "y": [
          5.242750693361203,
          -53.09837492908227,
          -68.2922978118547,
          -47.66935535442185,
          -55.92152856023927,
          -20.115645763832152,
          -40.96572999849157,
          -41.41262557747393,
          -33.08839757286063,
          -37.416930400656874,
          -93.14687687127872,
          -9.492309885924184,
          -19.535879878683787,
          -29.199806724951696,
          -96.79481266321655,
          -65.62276833779231,
          -39.39717990969664,
          -69.34238616823394,
          -103.19091403723945,
          -89.27979287376385,
          -67.44914679940007,
          -49.58308413680964,
          -75.12201510679549,
          -97.28490623201851,
          -67.40875781433728,
          -65.58902246137505,
          -56.30163915048682,
          -44.2947944737024,
          -88.28513106087453,
          -68.48872084942985,
          -105.33399547282687,
          -35.66924842786548,
          22.1925798188545,
          -26.989651137893457,
          -62.35699614355602,
          -81.6506735956772,
          -35.38762429818539,
          -91.60852140826617,
          -63.75028328570273,
          -88.42269188723576,
          -20.156251924844273,
          -51.73562149176924,
          -31.294891583248162,
          -41.67180346730818,
          -13.718389134405486,
          0.20515715275024457
         ],
         "z": [
          87.72925517094927,
          -66.32961923750182,
          -4.7537558969969185,
          -18.942128127041673,
          2.9379907823649765,
          40.21505097807601,
          31.884850698010236,
          23.73042792166793,
          54.34574437365236,
          50.32686044214581,
          56.78245406948681,
          26.813415940592446,
          2.1468960368880174,
          -69.89219403466913,
          -15.906703323295279,
          -0.08065580799860192,
          19.97788257638958,
          32.342171410749756,
          -39.65934402503008,
          7.605775744449582,
          7.208335854483406,
          -67.26602852708452,
          -6.0850246773878585,
          2.1968364309739767,
          34.93100095255736,
          37.88299754497179,
          -1.5780769431619153,
          15.304774578972896,
          57.96739520803429,
          -9.555344287382194,
          25.920032648564916,
          -16.786253745789207,
          99.15051220739673,
          66.20219473734419,
          -21.68087229814858,
          -0.5240354926342347,
          -67.53787364511365,
          -19.609311036395134,
          22.153228588431123,
          53.00471827693341,
          -3.073832714507373,
          77.70313474789155,
          4.685601999614692,
          17.732072672807842,
          114.25394787668247,
          132.78706900472122
         ]
        },
        {
         "hovertemplate": "color=glioblastoma<br>PC 1=%{x}<br>PC 2=%{y}<br>PC 3=%{z}<extra></extra>",
         "legendgroup": "glioblastoma",
         "marker": {
          "color": "#EF553B",
          "symbol": "circle"
         },
         "mode": "markers",
         "name": "glioblastoma",
         "scene": "scene",
         "showlegend": true,
         "type": "scatter3d",
         "x": [
          90.50006391417607,
          97.1678954053903,
          -105.8517076339691,
          -100.09201441389662,
          -90.345858654618,
          113.56579337499987,
          92.61557082565565,
          161.83534140817795,
          102.07777861678203,
          161.90316649104875,
          94.7185649658535,
          127.29715689119881,
          85.36409578891788,
          117.21766567824277,
          76.7599026855034,
          -45.50387902218098,
          -129.44842902381527,
          -105.69117668640288,
          -129.38172026791327,
          -106.44186136683935,
          154.1236277452009,
          86.66135567121044,
          219.73586925350156,
          75.53654578564675,
          -159.88006313310566,
          61.65470822932554,
          98.7608843278363,
          -140.95976789807818,
          -135.52301567752565,
          -120.32591321788408,
          -123.07180321358534,
          -92.85195616399575,
          -130.78701331203686,
          -94.76739924500694
         ],
         "y": [
          -37.63412908909656,
          34.32983483734379,
          -19.82902011692271,
          -14.169648162682945,
          -20.805877667160654,
          -60.21111817145516,
          -0.7678984897029624,
          -12.796041471357517,
          2.308845447120076,
          43.9976433837431,
          -36.7403018813462,
          46.68729083493114,
          -15.604589040917798,
          17.030763229989983,
          -6.538067102939303,
          -75.40040175128605,
          5.996864890539893,
          -46.8919589058647,
          15.000923970558581,
          30.18008625511006,
          28.29311991611992,
          -24.698959667566157,
          63.11442964003176,
          -2.1882979259332673,
          -51.76117168526021,
          -12.9142985333845,
          -37.43824683130229,
          -54.45027348443277,
          57.16491135711039,
          1.1406708189475714,
          -48.290956424567476,
          -43.32855324642199,
          -25.80202948172381,
          -23.07384089265096
         ],
         "z": [
          14.837668649565593,
          -66.286256278777,
          -29.869416395320947,
          41.079827726506664,
          56.198877934617954,
          -19.20776729177519,
          0.506241488383522,
          26.769180600276034,
          -69.65380567732643,
          -20.248974114099564,
          -25.359123905348174,
          -22.18015813206655,
          -73.94430176061236,
          -41.51711057926343,
          -111.19654506827446,
          -22.85974527860044,
          -39.28331582892867,
          0.5698647898755065,
          -28.90864220271255,
          -20.7161757006375,
          22.290257059880563,
          57.51466045418232,
          5.737221934440881,
          -10.749064419922265,
          -36.074020832076926,
          -56.09556005373501,
          -35.987149163426494,
          -8.768496593020522,
          54.275278815980535,
          58.781661902661966,
          -22.748999681769163,
          -8.118141591525163,
          -21.37698126987433,
          30.967439308712507
         ]
        },
        {
         "hovertemplate": "color=medulloblastoma<br>PC 1=%{x}<br>PC 2=%{y}<br>PC 3=%{z}<extra></extra>",
         "legendgroup": "medulloblastoma",
         "marker": {
          "color": "#00cc96",
          "symbol": "circle"
         },
         "mode": "markers",
         "name": "medulloblastoma",
         "scene": "scene",
         "showlegend": true,
         "type": "scatter3d",
         "x": [
          -114.52874407835814,
          115.99038568505674,
          127.72269115422974,
          105.3944244541309,
          151.07018426136273,
          -110.75052031052513,
          89.48734832964989,
          142.16813359422915,
          45.553435948692886,
          -118.28707537151604,
          72.46737462786241,
          33.191316014834044,
          -130.83052923792272,
          -130.8909403803652,
          -154.3167447699773,
          -38.10516951172461,
          -91.70614558247786,
          -140.32562658432855,
          -87.69982015836784,
          -106.52665915072092,
          -130.0916531654744,
          -43.37820672514423
         ],
         "y": [
          163.3848116466907,
          92.54230039343173,
          98.83558557257903,
          76.97802592840023,
          107.23534847837901,
          84.0409360406788,
          62.90540172763541,
          124.00975925472264,
          70.05218735149788,
          -14.685726462093779,
          36.012852067254606,
          25.318386223117596,
          102.65956428877303,
          53.704458497556374,
          57.45350787811111,
          89.9996715269965,
          86.55295352689603,
          73.16555942317359,
          72.69902654295895,
          87.77184002275682,
          84.7428143022348,
          8.77624715613467
         ],
         "z": [
          4.9621776256013685,
          -93.82830103086464,
          -66.24087622265513,
          -107.18337827439527,
          -60.19159213388023,
          -73.03923643406047,
          -114.1602682794683,
          -63.385322123423244,
          -137.01266084019093,
          -13.894658734058627,
          -136.50413880966406,
          -113.54585564234962,
          -109.23716021554357,
          -83.08637446689656,
          -131.92002239292768,
          -96.04596435894487,
          -75.70998752158353,
          -153.26945819717096,
          -51.475003901746724,
          -85.04478436298106,
          -51.83460562822403,
          -80.76305276006006
         ]
        },
        {
         "hovertemplate": "color=normal<br>PC 1=%{x}<br>PC 2=%{y}<br>PC 3=%{z}<extra></extra>",
         "legendgroup": "normal",
         "marker": {
          "color": "#ab63fa",
          "symbol": "circle"
         },
         "mode": "markers",
         "name": "normal",
         "scene": "scene",
         "showlegend": true,
         "type": "scatter3d",
         "x": [
          -30.74037294310688,
          115.95222714596741,
          -78.13772031082291,
          42.28531366188059,
          -101.80848488338505,
          -86.95188365303379,
          -92.46631259224567,
          145.8240050737292,
          -72.10953745306678,
          6.07900036517699,
          -99.50431079547202,
          -102.18895460058772,
          21.94754256569016
         ],
         "y": [
          104.91154154545029,
          97.938687558757,
          65.5958676249764,
          209.46676508869876,
          119.59841709252115,
          128.81086089796568,
          136.4041707132736,
          58.757457688779304,
          114.92945565953127,
          86.66359395600402,
          113.33905581802092,
          107.45211455781893,
          109.86831169478764
         ],
         "z": [
          -16.065029830113538,
          65.75269661959169,
          126.60128188098085,
          244.83648427877515,
          88.74381502254113,
          118.68543071886705,
          107.74158482567161,
          55.967018449280786,
          23.754440297604955,
          97.42480726829497,
          83.08596922585158,
          80.94343775142023,
          109.38933629308357
         ]
        },
        {
         "hovertemplate": "color=pilocytic_astrocytoma<br>PC 1=%{x}<br>PC 2=%{y}<br>PC 3=%{z}<extra></extra>",
         "legendgroup": "pilocytic_astrocytoma",
         "marker": {
          "color": "#FFA15A",
          "symbol": "circle"
         },
         "mode": "markers",
         "name": "pilocytic_astrocytoma",
         "scene": "scene",
         "showlegend": true,
         "type": "scatter3d",
         "x": [
          77.89105175742493,
          61.78308321206336,
          67.4377074331663,
          219.4216187906428,
          177.26733856080457,
          109.5249120112128,
          100.40362092185333,
          -91.77427702002404,
          -101.22920866289866,
          51.585350517300235,
          -104.69450200602215,
          -42.57959651709478,
          -116.93246054229455,
          -119.73895495575748,
          -109.4798903625364
         ],
         "y": [
          -32.44239868158202,
          -45.470256557766255,
          -30.825140116098293,
          20.689920048012418,
          35.42054553536236,
          -27.888641830090616,
          -51.660686150460286,
          -33.381275552023425,
          -44.84306484613046,
          -47.54495722660223,
          -33.4982166500435,
          -25.177074834427398,
          -38.58221319182669,
          -10.468259935312513,
          8.767191145690209
         ],
         "z": [
          -17.39779101989285,
          35.55503540109218,
          -6.502563314213316,
          52.917158598321436,
          73.47716227905248,
          7.1101754314731895,
          20.053873246497933,
          44.5651745232108,
          7.623925195162558,
          -0.9253488078856332,
          20.128068457526197,
          12.66697925033962,
          42.745147179621135,
          36.921750242621535,
          21.570500739053266
         ]
        }
       ],
       "layout": {
        "legend": {
         "title": {
          "text": "color"
         },
         "tracegroupgap": 0
        },
        "scene": {
         "domain": {
          "x": [
           0,
           1
          ],
          "y": [
           0,
           1
          ]
         },
         "xaxis": {
          "title": {
           "text": "PC 1"
          }
         },
         "yaxis": {
          "title": {
           "text": "PC 2"
          }
         },
         "zaxis": {
          "title": {
           "text": "PC 3"
          }
         }
        },
        "template": {
         "data": {
          "bar": [
           {
            "error_x": {
             "color": "#2a3f5f"
            },
            "error_y": {
             "color": "#2a3f5f"
            },
            "marker": {
             "line": {
              "color": "#E5ECF6",
              "width": 0.5
             },
             "pattern": {
              "fillmode": "overlay",
              "size": 10,
              "solidity": 0.2
             }
            },
            "type": "bar"
           }
          ],
          "barpolar": [
           {
            "marker": {
             "line": {
              "color": "#E5ECF6",
              "width": 0.5
             },
             "pattern": {
              "fillmode": "overlay",
              "size": 10,
              "solidity": 0.2
             }
            },
            "type": "barpolar"
           }
          ],
          "carpet": [
           {
            "aaxis": {
             "endlinecolor": "#2a3f5f",
             "gridcolor": "white",
             "linecolor": "white",
             "minorgridcolor": "white",
             "startlinecolor": "#2a3f5f"
            },
            "baxis": {
             "endlinecolor": "#2a3f5f",
             "gridcolor": "white",
             "linecolor": "white",
             "minorgridcolor": "white",
             "startlinecolor": "#2a3f5f"
            },
            "type": "carpet"
           }
          ],
          "choropleth": [
           {
            "colorbar": {
             "outlinewidth": 0,
             "ticks": ""
            },
            "type": "choropleth"
           }
          ],
          "contour": [
           {
            "colorbar": {
             "outlinewidth": 0,
             "ticks": ""
            },
            "colorscale": [
             [
              0,
              "#0d0887"
             ],
             [
              0.1111111111111111,
              "#46039f"
             ],
             [
              0.2222222222222222,
              "#7201a8"
             ],
             [
              0.3333333333333333,
              "#9c179e"
             ],
             [
              0.4444444444444444,
              "#bd3786"
             ],
             [
              0.5555555555555556,
              "#d8576b"
             ],
             [
              0.6666666666666666,
              "#ed7953"
             ],
             [
              0.7777777777777778,
              "#fb9f3a"
             ],
             [
              0.8888888888888888,
              "#fdca26"
             ],
             [
              1,
              "#f0f921"
             ]
            ],
            "type": "contour"
           }
          ],
          "contourcarpet": [
           {
            "colorbar": {
             "outlinewidth": 0,
             "ticks": ""
            },
            "type": "contourcarpet"
           }
          ],
          "heatmap": [
           {
            "colorbar": {
             "outlinewidth": 0,
             "ticks": ""
            },
            "colorscale": [
             [
              0,
              "#0d0887"
             ],
             [
              0.1111111111111111,
              "#46039f"
             ],
             [
              0.2222222222222222,
              "#7201a8"
             ],
             [
              0.3333333333333333,
              "#9c179e"
             ],
             [
              0.4444444444444444,
              "#bd3786"
             ],
             [
              0.5555555555555556,
              "#d8576b"
             ],
             [
              0.6666666666666666,
              "#ed7953"
             ],
             [
              0.7777777777777778,
              "#fb9f3a"
             ],
             [
              0.8888888888888888,
              "#fdca26"
             ],
             [
              1,
              "#f0f921"
             ]
            ],
            "type": "heatmap"
           }
          ],
          "heatmapgl": [
           {
            "colorbar": {
             "outlinewidth": 0,
             "ticks": ""
            },
            "colorscale": [
             [
              0,
              "#0d0887"
             ],
             [
              0.1111111111111111,
              "#46039f"
             ],
             [
              0.2222222222222222,
              "#7201a8"
             ],
             [
              0.3333333333333333,
              "#9c179e"
             ],
             [
              0.4444444444444444,
              "#bd3786"
             ],
             [
              0.5555555555555556,
              "#d8576b"
             ],
             [
              0.6666666666666666,
              "#ed7953"
             ],
             [
              0.7777777777777778,
              "#fb9f3a"
             ],
             [
              0.8888888888888888,
              "#fdca26"
             ],
             [
              1,
              "#f0f921"
             ]
            ],
            "type": "heatmapgl"
           }
          ],
          "histogram": [
           {
            "marker": {
             "pattern": {
              "fillmode": "overlay",
              "size": 10,
              "solidity": 0.2
             }
            },
            "type": "histogram"
           }
          ],
          "histogram2d": [
           {
            "colorbar": {
             "outlinewidth": 0,
             "ticks": ""
            },
            "colorscale": [
             [
              0,
              "#0d0887"
             ],
             [
              0.1111111111111111,
              "#46039f"
             ],
             [
              0.2222222222222222,
              "#7201a8"
             ],
             [
              0.3333333333333333,
              "#9c179e"
             ],
             [
              0.4444444444444444,
              "#bd3786"
             ],
             [
              0.5555555555555556,
              "#d8576b"
             ],
             [
              0.6666666666666666,
              "#ed7953"
             ],
             [
              0.7777777777777778,
              "#fb9f3a"
             ],
             [
              0.8888888888888888,
              "#fdca26"
             ],
             [
              1,
              "#f0f921"
             ]
            ],
            "type": "histogram2d"
           }
          ],
          "histogram2dcontour": [
           {
            "colorbar": {
             "outlinewidth": 0,
             "ticks": ""
            },
            "colorscale": [
             [
              0,
              "#0d0887"
             ],
             [
              0.1111111111111111,
              "#46039f"
             ],
             [
              0.2222222222222222,
              "#7201a8"
             ],
             [
              0.3333333333333333,
              "#9c179e"
             ],
             [
              0.4444444444444444,
              "#bd3786"
             ],
             [
              0.5555555555555556,
              "#d8576b"
             ],
             [
              0.6666666666666666,
              "#ed7953"
             ],
             [
              0.7777777777777778,
              "#fb9f3a"
             ],
             [
              0.8888888888888888,
              "#fdca26"
             ],
             [
              1,
              "#f0f921"
             ]
            ],
            "type": "histogram2dcontour"
           }
          ],
          "mesh3d": [
           {
            "colorbar": {
             "outlinewidth": 0,
             "ticks": ""
            },
            "type": "mesh3d"
           }
          ],
          "parcoords": [
           {
            "line": {
             "colorbar": {
              "outlinewidth": 0,
              "ticks": ""
             }
            },
            "type": "parcoords"
           }
          ],
          "pie": [
           {
            "automargin": true,
            "type": "pie"
           }
          ],
          "scatter": [
           {
            "marker": {
             "colorbar": {
              "outlinewidth": 0,
              "ticks": ""
             }
            },
            "type": "scatter"
           }
          ],
          "scatter3d": [
           {
            "line": {
             "colorbar": {
              "outlinewidth": 0,
              "ticks": ""
             }
            },
            "marker": {
             "colorbar": {
              "outlinewidth": 0,
              "ticks": ""
             }
            },
            "type": "scatter3d"
           }
          ],
          "scattercarpet": [
           {
            "marker": {
             "colorbar": {
              "outlinewidth": 0,
              "ticks": ""
             }
            },
            "type": "scattercarpet"
           }
          ],
          "scattergeo": [
           {
            "marker": {
             "colorbar": {
              "outlinewidth": 0,
              "ticks": ""
             }
            },
            "type": "scattergeo"
           }
          ],
          "scattergl": [
           {
            "marker": {
             "colorbar": {
              "outlinewidth": 0,
              "ticks": ""
             }
            },
            "type": "scattergl"
           }
          ],
          "scattermapbox": [
           {
            "marker": {
             "colorbar": {
              "outlinewidth": 0,
              "ticks": ""
             }
            },
            "type": "scattermapbox"
           }
          ],
          "scatterpolar": [
           {
            "marker": {
             "colorbar": {
              "outlinewidth": 0,
              "ticks": ""
             }
            },
            "type": "scatterpolar"
           }
          ],
          "scatterpolargl": [
           {
            "marker": {
             "colorbar": {
              "outlinewidth": 0,
              "ticks": ""
             }
            },
            "type": "scatterpolargl"
           }
          ],
          "scatterternary": [
           {
            "marker": {
             "colorbar": {
              "outlinewidth": 0,
              "ticks": ""
             }
            },
            "type": "scatterternary"
           }
          ],
          "surface": [
           {
            "colorbar": {
             "outlinewidth": 0,
             "ticks": ""
            },
            "colorscale": [
             [
              0,
              "#0d0887"
             ],
             [
              0.1111111111111111,
              "#46039f"
             ],
             [
              0.2222222222222222,
              "#7201a8"
             ],
             [
              0.3333333333333333,
              "#9c179e"
             ],
             [
              0.4444444444444444,
              "#bd3786"
             ],
             [
              0.5555555555555556,
              "#d8576b"
             ],
             [
              0.6666666666666666,
              "#ed7953"
             ],
             [
              0.7777777777777778,
              "#fb9f3a"
             ],
             [
              0.8888888888888888,
              "#fdca26"
             ],
             [
              1,
              "#f0f921"
             ]
            ],
            "type": "surface"
           }
          ],
          "table": [
           {
            "cells": {
             "fill": {
              "color": "#EBF0F8"
             },
             "line": {
              "color": "white"
             }
            },
            "header": {
             "fill": {
              "color": "#C8D4E3"
             },
             "line": {
              "color": "white"
             }
            },
            "type": "table"
           }
          ]
         },
         "layout": {
          "annotationdefaults": {
           "arrowcolor": "#2a3f5f",
           "arrowhead": 0,
           "arrowwidth": 1
          },
          "autotypenumbers": "strict",
          "coloraxis": {
           "colorbar": {
            "outlinewidth": 0,
            "ticks": ""
           }
          },
          "colorscale": {
           "diverging": [
            [
             0,
             "#8e0152"
            ],
            [
             0.1,
             "#c51b7d"
            ],
            [
             0.2,
             "#de77ae"
            ],
            [
             0.3,
             "#f1b6da"
            ],
            [
             0.4,
             "#fde0ef"
            ],
            [
             0.5,
             "#f7f7f7"
            ],
            [
             0.6,
             "#e6f5d0"
            ],
            [
             0.7,
             "#b8e186"
            ],
            [
             0.8,
             "#7fbc41"
            ],
            [
             0.9,
             "#4d9221"
            ],
            [
             1,
             "#276419"
            ]
           ],
           "sequential": [
            [
             0,
             "#0d0887"
            ],
            [
             0.1111111111111111,
             "#46039f"
            ],
            [
             0.2222222222222222,
             "#7201a8"
            ],
            [
             0.3333333333333333,
             "#9c179e"
            ],
            [
             0.4444444444444444,
             "#bd3786"
            ],
            [
             0.5555555555555556,
             "#d8576b"
            ],
            [
             0.6666666666666666,
             "#ed7953"
            ],
            [
             0.7777777777777778,
             "#fb9f3a"
            ],
            [
             0.8888888888888888,
             "#fdca26"
            ],
            [
             1,
             "#f0f921"
            ]
           ],
           "sequentialminus": [
            [
             0,
             "#0d0887"
            ],
            [
             0.1111111111111111,
             "#46039f"
            ],
            [
             0.2222222222222222,
             "#7201a8"
            ],
            [
             0.3333333333333333,
             "#9c179e"
            ],
            [
             0.4444444444444444,
             "#bd3786"
            ],
            [
             0.5555555555555556,
             "#d8576b"
            ],
            [
             0.6666666666666666,
             "#ed7953"
            ],
            [
             0.7777777777777778,
             "#fb9f3a"
            ],
            [
             0.8888888888888888,
             "#fdca26"
            ],
            [
             1,
             "#f0f921"
            ]
           ]
          },
          "colorway": [
           "#636efa",
           "#EF553B",
           "#00cc96",
           "#ab63fa",
           "#FFA15A",
           "#19d3f3",
           "#FF6692",
           "#B6E880",
           "#FF97FF",
           "#FECB52"
          ],
          "font": {
           "color": "#2a3f5f"
          },
          "geo": {
           "bgcolor": "white",
           "lakecolor": "white",
           "landcolor": "#E5ECF6",
           "showlakes": true,
           "showland": true,
           "subunitcolor": "white"
          },
          "hoverlabel": {
           "align": "left"
          },
          "hovermode": "closest",
          "mapbox": {
           "style": "light"
          },
          "paper_bgcolor": "white",
          "plot_bgcolor": "#E5ECF6",
          "polar": {
           "angularaxis": {
            "gridcolor": "white",
            "linecolor": "white",
            "ticks": ""
           },
           "bgcolor": "#E5ECF6",
           "radialaxis": {
            "gridcolor": "white",
            "linecolor": "white",
            "ticks": ""
           }
          },
          "scene": {
           "xaxis": {
            "backgroundcolor": "#E5ECF6",
            "gridcolor": "white",
            "gridwidth": 2,
            "linecolor": "white",
            "showbackground": true,
            "ticks": "",
            "zerolinecolor": "white"
           },
           "yaxis": {
            "backgroundcolor": "#E5ECF6",
            "gridcolor": "white",
            "gridwidth": 2,
            "linecolor": "white",
            "showbackground": true,
            "ticks": "",
            "zerolinecolor": "white"
           },
           "zaxis": {
            "backgroundcolor": "#E5ECF6",
            "gridcolor": "white",
            "gridwidth": 2,
            "linecolor": "white",
            "showbackground": true,
            "ticks": "",
            "zerolinecolor": "white"
           }
          },
          "shapedefaults": {
           "line": {
            "color": "#2a3f5f"
           }
          },
          "ternary": {
           "aaxis": {
            "gridcolor": "white",
            "linecolor": "white",
            "ticks": ""
           },
           "baxis": {
            "gridcolor": "white",
            "linecolor": "white",
            "ticks": ""
           },
           "bgcolor": "#E5ECF6",
           "caxis": {
            "gridcolor": "white",
            "linecolor": "white",
            "ticks": ""
           }
          },
          "title": {
           "x": 0.05
          },
          "xaxis": {
           "automargin": true,
           "gridcolor": "white",
           "linecolor": "white",
           "ticks": "",
           "title": {
            "standoff": 15
           },
           "zerolinecolor": "white",
           "zerolinewidth": 2
          },
          "yaxis": {
           "automargin": true,
           "gridcolor": "white",
           "linecolor": "white",
           "ticks": "",
           "title": {
            "standoff": 15
           },
           "zerolinecolor": "white",
           "zerolinewidth": 2
          }
         }
        },
        "title": {
         "text": "Total Explained Variance: 37.76%"
        }
       }
      }
     },
     "metadata": {},
     "output_type": "display_data"
    }
   ],
   "source": [
    "pca = PCA(n_components=3)\n",
    "components = pca.fit_transform(X)\n",
    "total_var = pca.explained_variance_ratio_.sum() * 100\n",
    "\n",
    "fig = px.scatter_3d(\n",
    "    components, x=0, y=1, z=2, color=y,\n",
    "    title=f'Total Explained Variance: {total_var:.2f}%',\n",
    "    labels={'0': 'PC 1', '1': 'PC 2', '2': 'PC 3'}\n",
    ")\n",
    "fig.show()"
   ]
  },
  {
   "cell_type": "code",
   "execution_count": 142,
   "metadata": {},
   "outputs": [
    {
     "data": {
      "application/vnd.plotly.v1+json": {
       "config": {
        "plotlyServerURL": "https://plot.ly"
       },
       "data": [
        {
         "hovertemplate": "# Components=%{x}<br>Explained Variance=%{y}<extra></extra>",
         "legendgroup": "",
         "line": {
          "color": "#636efa"
         },
         "marker": {
          "symbol": "circle"
         },
         "mode": "lines",
         "name": "",
         "orientation": "v",
         "showlegend": false,
         "stackgroup": "1",
         "type": "scatter",
         "x": [
          1,
          2,
          3,
          4,
          5,
          6,
          7,
          8,
          9,
          10,
          11,
          12,
          13,
          14,
          15,
          16,
          17,
          18,
          19,
          20,
          21,
          22,
          23,
          24,
          25,
          26,
          27,
          28,
          29,
          30,
          31,
          32,
          33,
          34,
          35,
          36,
          37,
          38,
          39,
          40,
          41,
          42,
          43,
          44,
          45,
          46,
          47,
          48,
          49,
          50,
          51,
          52,
          53,
          54,
          55,
          56,
          57,
          58,
          59,
          60,
          61,
          62,
          63,
          64,
          65,
          66,
          67,
          68,
          69,
          70,
          71,
          72,
          73,
          74,
          75,
          76,
          77,
          78,
          79,
          80,
          81,
          82,
          83,
          84,
          85,
          86,
          87,
          88,
          89,
          90,
          91,
          92,
          93,
          94,
          95,
          96,
          97,
          98,
          99,
          100,
          101,
          102,
          103,
          104,
          105,
          106,
          107,
          108,
          109,
          110,
          111,
          112,
          113,
          114,
          115,
          116,
          117,
          118,
          119,
          120,
          121,
          122,
          123,
          124,
          125,
          126,
          127,
          128,
          129,
          130
         ],
         "xaxis": "x",
         "y": [
          0.2240524530798,
          0.30321328580746054,
          0.37755271276659436,
          0.4305906198149849,
          0.47445640458235094,
          0.5057750426780938,
          0.5309677320536952,
          0.5533618083788951,
          0.5723196155161369,
          0.589681391372076,
          0.6051495675763674,
          0.6199760479948643,
          0.6334873523641958,
          0.6443982392573361,
          0.654154449196092,
          0.6631060392340123,
          0.6717570399451999,
          0.6797420149095278,
          0.6875514830887608,
          0.69497682801087,
          0.7020835934146804,
          0.7088645158301163,
          0.7155588999657244,
          0.7218802142654636,
          0.7280337580294084,
          0.7340999918560551,
          0.7399280379917663,
          0.7456345376085709,
          0.751193278833816,
          0.7565291567287572,
          0.7616160922178813,
          0.7665829615066214,
          0.7714546314839319,
          0.7762113114493457,
          0.7809180671186213,
          0.7854420288205073,
          0.7898875476923116,
          0.7942392193879889,
          0.7984280339224036,
          0.8026019410464106,
          0.8066198941633532,
          0.8105905554045304,
          0.8144481303324347,
          0.8182966524178772,
          0.8220841902355482,
          0.8257133343963525,
          0.829315605609992,
          0.832870440600584,
          0.8363037637072971,
          0.8397170075730009,
          0.8430904354742788,
          0.8464113560471377,
          0.8496024119291472,
          0.852748199338818,
          0.8558719697163554,
          0.8589585584082856,
          0.861975508667069,
          0.864950494337978,
          0.8679147928876892,
          0.8707860996475474,
          0.8736239810330247,
          0.8764361187882832,
          0.8791658078807849,
          0.8818823507469108,
          0.8845883841952905,
          0.8872692455822325,
          0.8899007579213413,
          0.8925051875869484,
          0.8950663896132807,
          0.8975932230741227,
          0.9000590159308606,
          0.9024927974967056,
          0.9049059476840782,
          0.9072863234229201,
          0.9096430372958141,
          0.9119571971131126,
          0.914243485453269,
          0.9165163758212759,
          0.9187602497827387,
          0.9209738145207048,
          0.9231372096061367,
          0.9252830156584164,
          0.927424626948563,
          0.9295361076953069,
          0.9316100485791375,
          0.93366125648777,
          0.9356812953371828,
          0.9376782984086522,
          0.9396564170974141,
          0.94162732489158,
          0.9435482066317292,
          0.9454487419336395,
          0.9473407206650737,
          0.9491963244044461,
          0.9510381437424164,
          0.9528290036188829,
          0.9546097442126925,
          0.9563791594740781,
          0.9581087334744652,
          0.9598151350930881,
          0.96151265063028,
          0.9631884706559186,
          0.9648413989083306,
          0.9664747931803802,
          0.968093858160958,
          0.9696882895535317,
          0.9712720764043371,
          0.9728326351054998,
          0.9743523768816624,
          0.9758356656817623,
          0.9773145145502633,
          0.9787704472178383,
          0.9802193608049187,
          0.9816368059651138,
          0.9830263887959861,
          0.9843952955745151,
          0.9857347939719752,
          0.9870618838621515,
          0.9883796576749609,
          0.9896610959440046,
          0.990934279366398,
          0.992191236144334,
          0.9934106090083227,
          0.9945987319982276,
          0.9957549764952052,
          0.9968574923128305,
          0.9979407825696835,
          0.9989875841305778,
          1,
          1
         ],
         "yaxis": "y"
        }
       ],
       "layout": {
        "legend": {
         "tracegroupgap": 0
        },
        "margin": {
         "t": 60
        },
        "template": {
         "data": {
          "bar": [
           {
            "error_x": {
             "color": "#2a3f5f"
            },
            "error_y": {
             "color": "#2a3f5f"
            },
            "marker": {
             "line": {
              "color": "#E5ECF6",
              "width": 0.5
             },
             "pattern": {
              "fillmode": "overlay",
              "size": 10,
              "solidity": 0.2
             }
            },
            "type": "bar"
           }
          ],
          "barpolar": [
           {
            "marker": {
             "line": {
              "color": "#E5ECF6",
              "width": 0.5
             },
             "pattern": {
              "fillmode": "overlay",
              "size": 10,
              "solidity": 0.2
             }
            },
            "type": "barpolar"
           }
          ],
          "carpet": [
           {
            "aaxis": {
             "endlinecolor": "#2a3f5f",
             "gridcolor": "white",
             "linecolor": "white",
             "minorgridcolor": "white",
             "startlinecolor": "#2a3f5f"
            },
            "baxis": {
             "endlinecolor": "#2a3f5f",
             "gridcolor": "white",
             "linecolor": "white",
             "minorgridcolor": "white",
             "startlinecolor": "#2a3f5f"
            },
            "type": "carpet"
           }
          ],
          "choropleth": [
           {
            "colorbar": {
             "outlinewidth": 0,
             "ticks": ""
            },
            "type": "choropleth"
           }
          ],
          "contour": [
           {
            "colorbar": {
             "outlinewidth": 0,
             "ticks": ""
            },
            "colorscale": [
             [
              0,
              "#0d0887"
             ],
             [
              0.1111111111111111,
              "#46039f"
             ],
             [
              0.2222222222222222,
              "#7201a8"
             ],
             [
              0.3333333333333333,
              "#9c179e"
             ],
             [
              0.4444444444444444,
              "#bd3786"
             ],
             [
              0.5555555555555556,
              "#d8576b"
             ],
             [
              0.6666666666666666,
              "#ed7953"
             ],
             [
              0.7777777777777778,
              "#fb9f3a"
             ],
             [
              0.8888888888888888,
              "#fdca26"
             ],
             [
              1,
              "#f0f921"
             ]
            ],
            "type": "contour"
           }
          ],
          "contourcarpet": [
           {
            "colorbar": {
             "outlinewidth": 0,
             "ticks": ""
            },
            "type": "contourcarpet"
           }
          ],
          "heatmap": [
           {
            "colorbar": {
             "outlinewidth": 0,
             "ticks": ""
            },
            "colorscale": [
             [
              0,
              "#0d0887"
             ],
             [
              0.1111111111111111,
              "#46039f"
             ],
             [
              0.2222222222222222,
              "#7201a8"
             ],
             [
              0.3333333333333333,
              "#9c179e"
             ],
             [
              0.4444444444444444,
              "#bd3786"
             ],
             [
              0.5555555555555556,
              "#d8576b"
             ],
             [
              0.6666666666666666,
              "#ed7953"
             ],
             [
              0.7777777777777778,
              "#fb9f3a"
             ],
             [
              0.8888888888888888,
              "#fdca26"
             ],
             [
              1,
              "#f0f921"
             ]
            ],
            "type": "heatmap"
           }
          ],
          "heatmapgl": [
           {
            "colorbar": {
             "outlinewidth": 0,
             "ticks": ""
            },
            "colorscale": [
             [
              0,
              "#0d0887"
             ],
             [
              0.1111111111111111,
              "#46039f"
             ],
             [
              0.2222222222222222,
              "#7201a8"
             ],
             [
              0.3333333333333333,
              "#9c179e"
             ],
             [
              0.4444444444444444,
              "#bd3786"
             ],
             [
              0.5555555555555556,
              "#d8576b"
             ],
             [
              0.6666666666666666,
              "#ed7953"
             ],
             [
              0.7777777777777778,
              "#fb9f3a"
             ],
             [
              0.8888888888888888,
              "#fdca26"
             ],
             [
              1,
              "#f0f921"
             ]
            ],
            "type": "heatmapgl"
           }
          ],
          "histogram": [
           {
            "marker": {
             "pattern": {
              "fillmode": "overlay",
              "size": 10,
              "solidity": 0.2
             }
            },
            "type": "histogram"
           }
          ],
          "histogram2d": [
           {
            "colorbar": {
             "outlinewidth": 0,
             "ticks": ""
            },
            "colorscale": [
             [
              0,
              "#0d0887"
             ],
             [
              0.1111111111111111,
              "#46039f"
             ],
             [
              0.2222222222222222,
              "#7201a8"
             ],
             [
              0.3333333333333333,
              "#9c179e"
             ],
             [
              0.4444444444444444,
              "#bd3786"
             ],
             [
              0.5555555555555556,
              "#d8576b"
             ],
             [
              0.6666666666666666,
              "#ed7953"
             ],
             [
              0.7777777777777778,
              "#fb9f3a"
             ],
             [
              0.8888888888888888,
              "#fdca26"
             ],
             [
              1,
              "#f0f921"
             ]
            ],
            "type": "histogram2d"
           }
          ],
          "histogram2dcontour": [
           {
            "colorbar": {
             "outlinewidth": 0,
             "ticks": ""
            },
            "colorscale": [
             [
              0,
              "#0d0887"
             ],
             [
              0.1111111111111111,
              "#46039f"
             ],
             [
              0.2222222222222222,
              "#7201a8"
             ],
             [
              0.3333333333333333,
              "#9c179e"
             ],
             [
              0.4444444444444444,
              "#bd3786"
             ],
             [
              0.5555555555555556,
              "#d8576b"
             ],
             [
              0.6666666666666666,
              "#ed7953"
             ],
             [
              0.7777777777777778,
              "#fb9f3a"
             ],
             [
              0.8888888888888888,
              "#fdca26"
             ],
             [
              1,
              "#f0f921"
             ]
            ],
            "type": "histogram2dcontour"
           }
          ],
          "mesh3d": [
           {
            "colorbar": {
             "outlinewidth": 0,
             "ticks": ""
            },
            "type": "mesh3d"
           }
          ],
          "parcoords": [
           {
            "line": {
             "colorbar": {
              "outlinewidth": 0,
              "ticks": ""
             }
            },
            "type": "parcoords"
           }
          ],
          "pie": [
           {
            "automargin": true,
            "type": "pie"
           }
          ],
          "scatter": [
           {
            "marker": {
             "colorbar": {
              "outlinewidth": 0,
              "ticks": ""
             }
            },
            "type": "scatter"
           }
          ],
          "scatter3d": [
           {
            "line": {
             "colorbar": {
              "outlinewidth": 0,
              "ticks": ""
             }
            },
            "marker": {
             "colorbar": {
              "outlinewidth": 0,
              "ticks": ""
             }
            },
            "type": "scatter3d"
           }
          ],
          "scattercarpet": [
           {
            "marker": {
             "colorbar": {
              "outlinewidth": 0,
              "ticks": ""
             }
            },
            "type": "scattercarpet"
           }
          ],
          "scattergeo": [
           {
            "marker": {
             "colorbar": {
              "outlinewidth": 0,
              "ticks": ""
             }
            },
            "type": "scattergeo"
           }
          ],
          "scattergl": [
           {
            "marker": {
             "colorbar": {
              "outlinewidth": 0,
              "ticks": ""
             }
            },
            "type": "scattergl"
           }
          ],
          "scattermapbox": [
           {
            "marker": {
             "colorbar": {
              "outlinewidth": 0,
              "ticks": ""
             }
            },
            "type": "scattermapbox"
           }
          ],
          "scatterpolar": [
           {
            "marker": {
             "colorbar": {
              "outlinewidth": 0,
              "ticks": ""
             }
            },
            "type": "scatterpolar"
           }
          ],
          "scatterpolargl": [
           {
            "marker": {
             "colorbar": {
              "outlinewidth": 0,
              "ticks": ""
             }
            },
            "type": "scatterpolargl"
           }
          ],
          "scatterternary": [
           {
            "marker": {
             "colorbar": {
              "outlinewidth": 0,
              "ticks": ""
             }
            },
            "type": "scatterternary"
           }
          ],
          "surface": [
           {
            "colorbar": {
             "outlinewidth": 0,
             "ticks": ""
            },
            "colorscale": [
             [
              0,
              "#0d0887"
             ],
             [
              0.1111111111111111,
              "#46039f"
             ],
             [
              0.2222222222222222,
              "#7201a8"
             ],
             [
              0.3333333333333333,
              "#9c179e"
             ],
             [
              0.4444444444444444,
              "#bd3786"
             ],
             [
              0.5555555555555556,
              "#d8576b"
             ],
             [
              0.6666666666666666,
              "#ed7953"
             ],
             [
              0.7777777777777778,
              "#fb9f3a"
             ],
             [
              0.8888888888888888,
              "#fdca26"
             ],
             [
              1,
              "#f0f921"
             ]
            ],
            "type": "surface"
           }
          ],
          "table": [
           {
            "cells": {
             "fill": {
              "color": "#EBF0F8"
             },
             "line": {
              "color": "white"
             }
            },
            "header": {
             "fill": {
              "color": "#C8D4E3"
             },
             "line": {
              "color": "white"
             }
            },
            "type": "table"
           }
          ]
         },
         "layout": {
          "annotationdefaults": {
           "arrowcolor": "#2a3f5f",
           "arrowhead": 0,
           "arrowwidth": 1
          },
          "autotypenumbers": "strict",
          "coloraxis": {
           "colorbar": {
            "outlinewidth": 0,
            "ticks": ""
           }
          },
          "colorscale": {
           "diverging": [
            [
             0,
             "#8e0152"
            ],
            [
             0.1,
             "#c51b7d"
            ],
            [
             0.2,
             "#de77ae"
            ],
            [
             0.3,
             "#f1b6da"
            ],
            [
             0.4,
             "#fde0ef"
            ],
            [
             0.5,
             "#f7f7f7"
            ],
            [
             0.6,
             "#e6f5d0"
            ],
            [
             0.7,
             "#b8e186"
            ],
            [
             0.8,
             "#7fbc41"
            ],
            [
             0.9,
             "#4d9221"
            ],
            [
             1,
             "#276419"
            ]
           ],
           "sequential": [
            [
             0,
             "#0d0887"
            ],
            [
             0.1111111111111111,
             "#46039f"
            ],
            [
             0.2222222222222222,
             "#7201a8"
            ],
            [
             0.3333333333333333,
             "#9c179e"
            ],
            [
             0.4444444444444444,
             "#bd3786"
            ],
            [
             0.5555555555555556,
             "#d8576b"
            ],
            [
             0.6666666666666666,
             "#ed7953"
            ],
            [
             0.7777777777777778,
             "#fb9f3a"
            ],
            [
             0.8888888888888888,
             "#fdca26"
            ],
            [
             1,
             "#f0f921"
            ]
           ],
           "sequentialminus": [
            [
             0,
             "#0d0887"
            ],
            [
             0.1111111111111111,
             "#46039f"
            ],
            [
             0.2222222222222222,
             "#7201a8"
            ],
            [
             0.3333333333333333,
             "#9c179e"
            ],
            [
             0.4444444444444444,
             "#bd3786"
            ],
            [
             0.5555555555555556,
             "#d8576b"
            ],
            [
             0.6666666666666666,
             "#ed7953"
            ],
            [
             0.7777777777777778,
             "#fb9f3a"
            ],
            [
             0.8888888888888888,
             "#fdca26"
            ],
            [
             1,
             "#f0f921"
            ]
           ]
          },
          "colorway": [
           "#636efa",
           "#EF553B",
           "#00cc96",
           "#ab63fa",
           "#FFA15A",
           "#19d3f3",
           "#FF6692",
           "#B6E880",
           "#FF97FF",
           "#FECB52"
          ],
          "font": {
           "color": "#2a3f5f"
          },
          "geo": {
           "bgcolor": "white",
           "lakecolor": "white",
           "landcolor": "#E5ECF6",
           "showlakes": true,
           "showland": true,
           "subunitcolor": "white"
          },
          "hoverlabel": {
           "align": "left"
          },
          "hovermode": "closest",
          "mapbox": {
           "style": "light"
          },
          "paper_bgcolor": "white",
          "plot_bgcolor": "#E5ECF6",
          "polar": {
           "angularaxis": {
            "gridcolor": "white",
            "linecolor": "white",
            "ticks": ""
           },
           "bgcolor": "#E5ECF6",
           "radialaxis": {
            "gridcolor": "white",
            "linecolor": "white",
            "ticks": ""
           }
          },
          "scene": {
           "xaxis": {
            "backgroundcolor": "#E5ECF6",
            "gridcolor": "white",
            "gridwidth": 2,
            "linecolor": "white",
            "showbackground": true,
            "ticks": "",
            "zerolinecolor": "white"
           },
           "yaxis": {
            "backgroundcolor": "#E5ECF6",
            "gridcolor": "white",
            "gridwidth": 2,
            "linecolor": "white",
            "showbackground": true,
            "ticks": "",
            "zerolinecolor": "white"
           },
           "zaxis": {
            "backgroundcolor": "#E5ECF6",
            "gridcolor": "white",
            "gridwidth": 2,
            "linecolor": "white",
            "showbackground": true,
            "ticks": "",
            "zerolinecolor": "white"
           }
          },
          "shapedefaults": {
           "line": {
            "color": "#2a3f5f"
           }
          },
          "ternary": {
           "aaxis": {
            "gridcolor": "white",
            "linecolor": "white",
            "ticks": ""
           },
           "baxis": {
            "gridcolor": "white",
            "linecolor": "white",
            "ticks": ""
           },
           "bgcolor": "#E5ECF6",
           "caxis": {
            "gridcolor": "white",
            "linecolor": "white",
            "ticks": ""
           }
          },
          "title": {
           "x": 0.05
          },
          "xaxis": {
           "automargin": true,
           "gridcolor": "white",
           "linecolor": "white",
           "ticks": "",
           "title": {
            "standoff": 15
           },
           "zerolinecolor": "white",
           "zerolinewidth": 2
          },
          "yaxis": {
           "automargin": true,
           "gridcolor": "white",
           "linecolor": "white",
           "ticks": "",
           "title": {
            "standoff": 15
           },
           "zerolinecolor": "white",
           "zerolinewidth": 2
          }
         }
        },
        "xaxis": {
         "anchor": "y",
         "domain": [
          0,
          1
         ],
         "title": {
          "text": "# Components"
         }
        },
        "yaxis": {
         "anchor": "x",
         "domain": [
          0,
          1
         ],
         "title": {
          "text": "Explained Variance"
         }
        }
       }
      }
     },
     "metadata": {},
     "output_type": "display_data"
    }
   ],
   "source": [
    "pca = PCA()\n",
    "pca.fit(X)\n",
    "exp_var_cumul = np.cumsum(pca.explained_variance_ratio_)\n",
    "\n",
    "px.area(\n",
    "    x=range(1, exp_var_cumul.shape[0] + 1),\n",
    "    y=exp_var_cumul,\n",
    "    labels={\"x\": \"# Components\", \"y\": \"Explained Variance\"}\n",
    ")"
   ]
  }
 ],
 "metadata": {
  "kernelspec": {
   "display_name": "py38",
   "language": "python",
   "name": "python3"
  },
  "language_info": {
   "codemirror_mode": {
    "name": "ipython",
    "version": 3
   },
   "file_extension": ".py",
   "mimetype": "text/x-python",
   "name": "python",
   "nbconvert_exporter": "python",
   "pygments_lexer": "ipython3",
   "version": "3.8.11"
  },
  "orig_nbformat": 4,
  "vscode": {
   "interpreter": {
    "hash": "e1da24d1ab7662ce66308ea6e408f3ffff9a94b310c3a1b46f9c781a43602525"
   }
  }
 },
 "nbformat": 4,
 "nbformat_minor": 2
}
